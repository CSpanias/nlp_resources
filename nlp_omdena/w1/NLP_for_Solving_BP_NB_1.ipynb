{
 "cells": [
  {
   "cell_type": "code",
   "execution_count": 1,
   "id": "different-lighter",
   "metadata": {
    "id": "different-lighter"
   },
   "outputs": [],
   "source": [
    "import pandas as pd\n",
    "import numpy as np\n",
    "import matplotlib.pyplot as plt"
   ]
  },
  {
   "cell_type": "markdown",
   "id": "VC7crq4dasDZ",
   "metadata": {
    "id": "VC7crq4dasDZ"
   },
   "source": [
    "### Step tokenize\n"
   ]
  },
  {
   "cell_type": "code",
   "execution_count": 3,
   "id": "ZRft-9R7TaLh",
   "metadata": {
    "colab": {
     "base_uri": "https://localhost:8080/"
    },
    "id": "ZRft-9R7TaLh",
    "outputId": "4d9d6a82-971d-4dc8-e285-2d82d583a717"
   },
   "outputs": [
    {
     "name": "stdout",
     "output_type": "stream",
     "text": [
      "['He', 'determined', 'to', 'drop', 'his', 'litigation', 'with', 'the', 'monastry', ',', 'and', 'relinguish', 'his', 'claims', 'to', 'the', 'wood-cuting', 'and', 'fishery', 'rihgts', 'at', 'once', '.', 'He', 'was', 'the', 'more', 'ready', 'to', 'do', 'this', 'becuase', 'the', 'rights', 'had', 'become', 'much', 'less', 'valuable', ',', 'and', 'he', 'had', 'indeed', 'the', 'vaguest', 'idea', 'where', 'the', 'wood', 'and', 'river', 'in', 'question', 'were', '.']\n"
     ]
    }
   ],
   "source": [
    "# stop word removal using nltk\n",
    "import nltk\n",
    "#nltk.download('stopwords')\n",
    "#nltk.download('punkt')\n",
    "from nltk.corpus import stopwords\n",
    "from nltk.tokenize import word_tokenize \n",
    "\n",
    "\n",
    "# sample sentence\n",
    "text = \"\"\"He determined to drop his litigation with the monastry, and relinguish his claims to the wood-cuting and \n",
    "fishery rihgts at once. He was the more ready to do this becuase the rights had become much less valuable, and he had \n",
    "indeed the vaguest idea where the wood and river in question were.\"\"\"\n",
    "\n",
    "# set of stop words\n",
    "stop_words = set(stopwords.words('english')) \n",
    "\n",
    "# tokens of words  \n",
    "word_tokens = word_tokenize(text) \n",
    "print(word_tokens)"
   ]
  },
  {
   "cell_type": "markdown",
   "id": "BqpZJXa5T9Ao",
   "metadata": {
    "id": "BqpZJXa5T9Ao"
   },
   "source": [
    "### Step : Stop Word Removal </br>\n",
    "What are Stopwords?- “the”, “is”, “in”, “for”, “where”, “when”, “to”, “at” etc."
   ]
  },
  {
   "cell_type": "code",
   "execution_count": 4,
   "id": "e6pM6_ntaZ5L",
   "metadata": {
    "colab": {
     "base_uri": "https://localhost:8080/"
    },
    "id": "e6pM6_ntaZ5L",
    "outputId": "462c3ee6-2b2d-41e0-fe63-01ddb8c0cad3"
   },
   "outputs": [
    {
     "name": "stdout",
     "output_type": "stream",
     "text": [
      "\n",
      "\n",
      "Original Sentence \n",
      "\n",
      "\n",
      "He determined to drop his litigation with the monastry , and relinguish his claims to the wood-cuting and fishery rihgts at once . He was the more ready to do this becuase the rights had become much less valuable , and he had indeed the vaguest idea where the wood and river in question were .\n",
      "\n",
      "\n",
      "Filtered Sentence \n",
      "\n",
      "\n",
      "He determined drop litigation monastry , relinguish claims wood-cuting fishery rihgts . He ready becuase rights become much less valuable , indeed vaguest idea wood river question .\n"
     ]
    }
   ],
   "source": [
    "filtered_sentence = [] \n",
    "  \n",
    "for w in word_tokens: \n",
    "    if w not in stop_words: \n",
    "      filtered_sentence.append(w) \n",
    "\n",
    "print(\"\\n\\nOriginal Sentence \\n\\n\")\n",
    "print(\" \".join(word_tokens)) \n",
    "\n",
    "print(\"\\n\\nFiltered Sentence \\n\\n\")\n",
    "print(\" \".join(filtered_sentence)) "
   ]
  },
  {
   "cell_type": "code",
   "execution_count": 5,
   "id": "nWsqrLova9Uf",
   "metadata": {
    "colab": {
     "base_uri": "https://localhost:8080/"
    },
    "id": "nWsqrLova9Uf",
    "outputId": "0aea54d1-bcca-4948-d58b-67c3eafb4e92"
   },
   "outputs": [
    {
     "name": "stdout",
     "output_type": "stream",
     "text": [
      "\n",
      "\n",
      " Filtered Sentence \n",
      "\n",
      "\n",
      "He determined drop litigation monastry, relinguish claims wood-cuting fishery rihgts once. He ready becuase rights valuable, vaguest idea wood river question were.\n"
     ]
    }
   ],
   "source": [
    "# stopword removal using gensim\n",
    "from gensim.parsing.preprocessing import remove_stopwords\n",
    "\n",
    "# pass the sentence in the remove_stopwords function\n",
    "result = remove_stopwords(\"\"\"He determined to drop his litigation with the monastry, and relinguish his claims to the wood-cuting and fishery rihgts at once. He was the more ready to do this becuase the rights had become much less valuable, \n",
    "and he had indeed the vaguest idea where the wood and river in question were.\"\"\")\n",
    "\n",
    "print('\\n\\n Filtered Sentence \\n\\n')\n",
    "print(result)"
   ]
  },
  {
   "cell_type": "markdown",
   "id": "537dd77c",
   "metadata": {},
   "source": [
    "Details about the different libraries to remove stopwords [here](https://towardsdatascience.com/text-pre-processing-stop-words-removal-using-different-libraries-f20bac19929a)."
   ]
  },
  {
   "cell_type": "markdown",
   "id": "ipEZ0gJabVRM",
   "metadata": {
    "id": "ipEZ0gJabVRM"
   },
   "source": [
    "### Stemming & Lemmetization </br>\n",
    "Stemming- is a text normalization technique that cuts off the end or beginning of a word / strip suffixes </br>\n",
    "Lemmetization - procedure of obtaining the root form of the word </br>\n"
   ]
  },
  {
   "cell_type": "code",
   "execution_count": 7,
   "id": "NTOeMyXUb6Br",
   "metadata": {
    "colab": {
     "base_uri": "https://localhost:8080/"
    },
    "id": "NTOeMyXUb6Br",
    "outputId": "ad16154e-fbeb-4fc7-83c3-677917d38f30"
   },
   "outputs": [
    {
     "name": "stdout",
     "output_type": "stream",
     "text": [
      "['He', 'determined', 'drop', 'litigation', 'monastry', ',', 'relinguish', 'claims', 'wood-cuting', 'fishery', 'rihgts', '.', 'He', 'ready', 'becuase', 'rights', 'become', 'much', 'less', 'valuable', ',', 'indeed', 'vaguest', 'idea', 'wood', 'river', 'question', '.']\n",
      "['he', 'determin', 'drop', 'litig', 'monastri', ',', 'relinguish', 'claim', 'wood-cut', 'fisheri', 'rihgt', '.', 'he', 'readi', 'becuas', 'right', 'becom', 'much', 'less', 'valuabl', ',', 'inde', 'vaguest', 'idea', 'wood', 'river', 'question', '.']\n"
     ]
    }
   ],
   "source": [
    "from nltk.stem import PorterStemmer\n",
    "\n",
    "Stem_words = []\n",
    "ps =PorterStemmer()\n",
    "for w in filtered_sentence:\n",
    "    rootWord=ps.stem(w)\n",
    "    Stem_words.append(rootWord)\n",
    "print(filtered_sentence)\n",
    "print(Stem_words)"
   ]
  },
  {
   "cell_type": "code",
   "execution_count": 8,
   "id": "EqLad_bOcEPv",
   "metadata": {
    "colab": {
     "base_uri": "https://localhost:8080/"
    },
    "id": "EqLad_bOcEPv",
    "outputId": "7a4436a2-3b78-4c7b-fa26-b401f1c9d4e8"
   },
   "outputs": [
    {
     "name": "stdout",
     "output_type": "stream",
     "text": [
      "['He', 'determine', 'drop', 'litigation', 'monastry', ',', 'relinguish', 'claim', 'wood-cuting', 'fishery', 'rihgts', '.', 'He', 'ready', 'becuase', 'right', 'become', 'much', 'le', 'valuable', ',', 'indeed', 'vague', 'idea', 'wood', 'river', 'question', '.']\n"
     ]
    }
   ],
   "source": [
    "import nltk\n",
    "from nltk.stem import WordNetLemmatizer\n",
    "\n",
    "lemma_word = []\n",
    "wordnet_lemmatizer = WordNetLemmatizer()\n",
    "# v stands for verb, a stands for adjective and n stands for noun\n",
    "for w in filtered_sentence:\n",
    "    word1 = wordnet_lemmatizer.lemmatize(w, pos = \"n\")\n",
    "    word2 = wordnet_lemmatizer.lemmatize(word1, pos = \"v\")\n",
    "    word3 = wordnet_lemmatizer.lemmatize(word2, pos = (\"a\"))\n",
    "    lemma_word.append(word3)\n",
    "print(lemma_word)"
   ]
  },
  {
   "cell_type": "markdown",
   "id": "kqziHbrgbHMT",
   "metadata": {
    "id": "kqziHbrgbHMT"
   },
   "source": [
    "### data preperation for ML"
   ]
  },
  {
   "cell_type": "code",
   "execution_count": 11,
   "id": "robust-maple",
   "metadata": {
    "colab": {
     "base_uri": "https://localhost:8080/"
    },
    "id": "robust-maple",
    "outputId": "c0129bcc-175e-467b-d63e-a5606bb4cd97"
   },
   "outputs": [],
   "source": [
    "# read target class data\n",
    "df= pd.read_csv('TI-customers_scraped.csv', low_memory=False)"
   ]
  },
  {
   "cell_type": "code",
   "execution_count": 10,
   "id": "authentic-funds",
   "metadata": {
    "colab": {
     "base_uri": "https://localhost:8080/",
     "height": 560
    },
    "id": "authentic-funds",
    "outputId": "8178e244-ca8c-41f4-a60c-69e01b6a299a"
   },
   "outputs": [
    {
     "data": {
      "text/html": [
       "<div>\n",
       "<style scoped>\n",
       "    .dataframe tbody tr th:only-of-type {\n",
       "        vertical-align: middle;\n",
       "    }\n",
       "\n",
       "    .dataframe tbody tr th {\n",
       "        vertical-align: top;\n",
       "    }\n",
       "\n",
       "    .dataframe thead th {\n",
       "        text-align: right;\n",
       "    }\n",
       "</style>\n",
       "<table border=\"1\" class=\"dataframe\">\n",
       "  <thead>\n",
       "    <tr style=\"text-align: right;\">\n",
       "      <th></th>\n",
       "      <th>bus_nm</th>\n",
       "      <th>web_links_cntry</th>\n",
       "      <th>description_cntry</th>\n",
       "      <th>Unnamed: 3</th>\n",
       "      <th>Unnamed: 4</th>\n",
       "      <th>Unnamed: 5</th>\n",
       "      <th>Unnamed: 6</th>\n",
       "      <th>Unnamed: 7</th>\n",
       "      <th>Unnamed: 8</th>\n",
       "      <th>Unnamed: 9</th>\n",
       "      <th>...</th>\n",
       "      <th>Unnamed: 13737</th>\n",
       "      <th>Unnamed: 13738</th>\n",
       "      <th>Unnamed: 13739</th>\n",
       "      <th>Unnamed: 13740</th>\n",
       "      <th>Unnamed: 13741</th>\n",
       "      <th>Unnamed: 13742</th>\n",
       "      <th>Unnamed: 13743</th>\n",
       "      <th>Unnamed: 13744</th>\n",
       "      <th>Unnamed: 13745</th>\n",
       "      <th>Unnamed: 13746</th>\n",
       "    </tr>\n",
       "  </thead>\n",
       "  <tbody>\n",
       "    <tr>\n",
       "      <th>0</th>\n",
       "      <td>Universal Traffic Service, Inc.</td>\n",
       "      <td>['https://www.utsnet.com/', 'https://www.utsne...</td>\n",
       "      <td>['Universal Traffic Service is the partner of ...</td>\n",
       "      <td>NaN</td>\n",
       "      <td>NaN</td>\n",
       "      <td>NaN</td>\n",
       "      <td>NaN</td>\n",
       "      <td>NaN</td>\n",
       "      <td>NaN</td>\n",
       "      <td>NaN</td>\n",
       "      <td>...</td>\n",
       "      <td>NaN</td>\n",
       "      <td>NaN</td>\n",
       "      <td>NaN</td>\n",
       "      <td>NaN</td>\n",
       "      <td>NaN</td>\n",
       "      <td>NaN</td>\n",
       "      <td>NaN</td>\n",
       "      <td>NaN</td>\n",
       "      <td>NaN</td>\n",
       "      <td>NaN</td>\n",
       "    </tr>\n",
       "    <tr>\n",
       "      <th>1</th>\n",
       "      <td>PLATINUM CARGO LOGISTICS</td>\n",
       "      <td>['https://www.platinumcargologistics.com/', 'h...</td>\n",
       "      <td>['Intelligent Solutions...Powerful Results  Pl...</td>\n",
       "      <td>NaN</td>\n",
       "      <td>NaN</td>\n",
       "      <td>NaN</td>\n",
       "      <td>NaN</td>\n",
       "      <td>NaN</td>\n",
       "      <td>NaN</td>\n",
       "      <td>NaN</td>\n",
       "      <td>...</td>\n",
       "      <td>NaN</td>\n",
       "      <td>NaN</td>\n",
       "      <td>NaN</td>\n",
       "      <td>NaN</td>\n",
       "      <td>NaN</td>\n",
       "      <td>NaN</td>\n",
       "      <td>NaN</td>\n",
       "      <td>NaN</td>\n",
       "      <td>NaN</td>\n",
       "      <td>NaN</td>\n",
       "    </tr>\n",
       "    <tr>\n",
       "      <th>2</th>\n",
       "      <td>Tazmanian Freight Forwarding, Inc.</td>\n",
       "      <td>['https://www.tazmanian.com/', 'https://www.ta...</td>\n",
       "      <td>[\"When your shipping needs have a time-definit...</td>\n",
       "      <td>NaN</td>\n",
       "      <td>NaN</td>\n",
       "      <td>NaN</td>\n",
       "      <td>NaN</td>\n",
       "      <td>NaN</td>\n",
       "      <td>NaN</td>\n",
       "      <td>NaN</td>\n",
       "      <td>...</td>\n",
       "      <td>NaN</td>\n",
       "      <td>NaN</td>\n",
       "      <td>NaN</td>\n",
       "      <td>NaN</td>\n",
       "      <td>NaN</td>\n",
       "      <td>NaN</td>\n",
       "      <td>NaN</td>\n",
       "      <td>NaN</td>\n",
       "      <td>NaN</td>\n",
       "      <td>NaN</td>\n",
       "    </tr>\n",
       "    <tr>\n",
       "      <th>3</th>\n",
       "      <td>Mesca (Ascent Global Logistics)</td>\n",
       "      <td>['https://ascentgl.com/blog/roadrunner-transpo...</td>\n",
       "      <td>['Roadrunner Transportation Systems (“Roadrunn...</td>\n",
       "      <td>NaN</td>\n",
       "      <td>NaN</td>\n",
       "      <td>NaN</td>\n",
       "      <td>NaN</td>\n",
       "      <td>NaN</td>\n",
       "      <td>NaN</td>\n",
       "      <td>NaN</td>\n",
       "      <td>...</td>\n",
       "      <td>NaN</td>\n",
       "      <td>NaN</td>\n",
       "      <td>NaN</td>\n",
       "      <td>NaN</td>\n",
       "      <td>NaN</td>\n",
       "      <td>NaN</td>\n",
       "      <td>NaN</td>\n",
       "      <td>NaN</td>\n",
       "      <td>NaN</td>\n",
       "      <td>NaN</td>\n",
       "    </tr>\n",
       "    <tr>\n",
       "      <th>4</th>\n",
       "      <td>GlobalTranz</td>\n",
       "      <td>['https://www.globaltranz.com/shippers/warehou...</td>\n",
       "      <td>['Seamless Warehouse, Fulfillment and Distribu...</td>\n",
       "      <td>NaN</td>\n",
       "      <td>NaN</td>\n",
       "      <td>NaN</td>\n",
       "      <td>NaN</td>\n",
       "      <td>NaN</td>\n",
       "      <td>NaN</td>\n",
       "      <td>NaN</td>\n",
       "      <td>...</td>\n",
       "      <td>NaN</td>\n",
       "      <td>NaN</td>\n",
       "      <td>NaN</td>\n",
       "      <td>NaN</td>\n",
       "      <td>NaN</td>\n",
       "      <td>NaN</td>\n",
       "      <td>NaN</td>\n",
       "      <td>NaN</td>\n",
       "      <td>NaN</td>\n",
       "      <td>NaN</td>\n",
       "    </tr>\n",
       "  </tbody>\n",
       "</table>\n",
       "<p>5 rows × 13747 columns</p>\n",
       "</div>"
      ],
      "text/plain": [
       "                               bus_nm  \\\n",
       "0     Universal Traffic Service, Inc.   \n",
       "1            PLATINUM CARGO LOGISTICS   \n",
       "2  Tazmanian Freight Forwarding, Inc.   \n",
       "3     Mesca (Ascent Global Logistics)   \n",
       "4                         GlobalTranz   \n",
       "\n",
       "                                     web_links_cntry  \\\n",
       "0  ['https://www.utsnet.com/', 'https://www.utsne...   \n",
       "1  ['https://www.platinumcargologistics.com/', 'h...   \n",
       "2  ['https://www.tazmanian.com/', 'https://www.ta...   \n",
       "3  ['https://ascentgl.com/blog/roadrunner-transpo...   \n",
       "4  ['https://www.globaltranz.com/shippers/warehou...   \n",
       "\n",
       "                                   description_cntry Unnamed: 3 Unnamed: 4  \\\n",
       "0  ['Universal Traffic Service is the partner of ...        NaN        NaN   \n",
       "1  ['Intelligent Solutions...Powerful Results  Pl...        NaN        NaN   \n",
       "2  [\"When your shipping needs have a time-definit...        NaN        NaN   \n",
       "3  ['Roadrunner Transportation Systems (“Roadrunn...        NaN        NaN   \n",
       "4  ['Seamless Warehouse, Fulfillment and Distribu...        NaN        NaN   \n",
       "\n",
       "  Unnamed: 5 Unnamed: 6 Unnamed: 7 Unnamed: 8 Unnamed: 9  ... Unnamed: 13737  \\\n",
       "0        NaN        NaN        NaN        NaN        NaN  ...            NaN   \n",
       "1        NaN        NaN        NaN        NaN        NaN  ...            NaN   \n",
       "2        NaN        NaN        NaN        NaN        NaN  ...            NaN   \n",
       "3        NaN        NaN        NaN        NaN        NaN  ...            NaN   \n",
       "4        NaN        NaN        NaN        NaN        NaN  ...            NaN   \n",
       "\n",
       "  Unnamed: 13738 Unnamed: 13739 Unnamed: 13740 Unnamed: 13741 Unnamed: 13742  \\\n",
       "0            NaN            NaN            NaN            NaN            NaN   \n",
       "1            NaN            NaN            NaN            NaN            NaN   \n",
       "2            NaN            NaN            NaN            NaN            NaN   \n",
       "3            NaN            NaN            NaN            NaN            NaN   \n",
       "4            NaN            NaN            NaN            NaN            NaN   \n",
       "\n",
       "  Unnamed: 13743 Unnamed: 13744 Unnamed: 13745 Unnamed: 13746  \n",
       "0            NaN            NaN            NaN            NaN  \n",
       "1            NaN            NaN            NaN            NaN  \n",
       "2            NaN            NaN            NaN            NaN  \n",
       "3            NaN            NaN            NaN            NaN  \n",
       "4            NaN            NaN            NaN            NaN  \n",
       "\n",
       "[5 rows x 13747 columns]"
      ]
     },
     "execution_count": 10,
     "metadata": {},
     "output_type": "execute_result"
    }
   ],
   "source": [
    "df.head()"
   ]
  },
  {
   "cell_type": "code",
   "execution_count": 13,
   "id": "corrected-leone",
   "metadata": {
    "id": "corrected-leone"
   },
   "outputs": [],
   "source": [
    "from nltk.stem import SnowballStemmer\n",
    "\n",
    "# nlp pre-processing\n",
    "stemmer = SnowballStemmer('english')\n",
    "\n",
    "def lemmatize_stemming(text):\n",
    "    return stemmer.stem(WordNetLemmatizer().lemmatize(text, pos='v'))\n",
    "\n",
    "def preprocess(text):\n",
    "    result = []\n",
    "    for token in gensim.utils.simple_preprocess(text):\n",
    "        if token not in gensim.parsing.preprocessing.STOPWORDS:\n",
    "            result.append(lemmatize_stemming(token))\n",
    "    return str(result)"
   ]
  },
  {
   "cell_type": "code",
   "execution_count": 14,
   "id": "naked-variance",
   "metadata": {
    "id": "naked-variance"
   },
   "outputs": [],
   "source": [
    "df['feature'] = df['bus_nm']+ df['description_cntry']\n",
    "df['feature'] = df['feature'] .str.lower()\n",
    "\n",
    "df['fulfillment'] = np.where(df['feature'].str.contains('shipping|warehouse|warehousing|fulfillment|3pl|logistic'), 1, 0)"
   ]
  },
  {
   "cell_type": "code",
   "execution_count": 16,
   "id": "manufactured-force",
   "metadata": {
    "colab": {
     "base_uri": "https://localhost:8080/"
    },
    "id": "manufactured-force",
    "outputId": "2a5ee065-172a-451a-cc90-86a0616a5bff"
   },
   "outputs": [
    {
     "data": {
      "text/plain": [
       "1    3242\n",
       "0     305\n",
       "Name: fulfillment, dtype: int64"
      ]
     },
     "execution_count": 16,
     "metadata": {},
     "output_type": "execute_result"
    }
   ],
   "source": [
    "df['fulfillment'].value_counts()"
   ]
  },
  {
   "cell_type": "code",
   "execution_count": 17,
   "id": "modular-alexandria",
   "metadata": {
    "id": "modular-alexandria"
   },
   "outputs": [],
   "source": [
    "df_fulfillment = df[df['fulfillment']==1]"
   ]
  },
  {
   "cell_type": "code",
   "execution_count": 18,
   "id": "corresponding-construction",
   "metadata": {
    "colab": {
     "base_uri": "https://localhost:8080/",
     "height": 543
    },
    "id": "corresponding-construction",
    "outputId": "7d584168-04ac-469b-bba0-5185b4aceb9d"
   },
   "outputs": [
    {
     "data": {
      "text/html": [
       "<div>\n",
       "<style scoped>\n",
       "    .dataframe tbody tr th:only-of-type {\n",
       "        vertical-align: middle;\n",
       "    }\n",
       "\n",
       "    .dataframe tbody tr th {\n",
       "        vertical-align: top;\n",
       "    }\n",
       "\n",
       "    .dataframe thead th {\n",
       "        text-align: right;\n",
       "    }\n",
       "</style>\n",
       "<table border=\"1\" class=\"dataframe\">\n",
       "  <thead>\n",
       "    <tr style=\"text-align: right;\">\n",
       "      <th></th>\n",
       "      <th>bus_nm</th>\n",
       "      <th>web_links_cntry</th>\n",
       "      <th>description_cntry</th>\n",
       "      <th>Unnamed: 3</th>\n",
       "      <th>Unnamed: 4</th>\n",
       "      <th>Unnamed: 5</th>\n",
       "      <th>Unnamed: 6</th>\n",
       "      <th>Unnamed: 7</th>\n",
       "      <th>Unnamed: 8</th>\n",
       "      <th>Unnamed: 9</th>\n",
       "      <th>...</th>\n",
       "      <th>Unnamed: 13739</th>\n",
       "      <th>Unnamed: 13740</th>\n",
       "      <th>Unnamed: 13741</th>\n",
       "      <th>Unnamed: 13742</th>\n",
       "      <th>Unnamed: 13743</th>\n",
       "      <th>Unnamed: 13744</th>\n",
       "      <th>Unnamed: 13745</th>\n",
       "      <th>Unnamed: 13746</th>\n",
       "      <th>feature</th>\n",
       "      <th>fulfillment</th>\n",
       "    </tr>\n",
       "  </thead>\n",
       "  <tbody>\n",
       "    <tr>\n",
       "      <th>1</th>\n",
       "      <td>PLATINUM CARGO LOGISTICS</td>\n",
       "      <td>['https://www.platinumcargologistics.com/', 'h...</td>\n",
       "      <td>['Intelligent Solutions...Powerful Results  Pl...</td>\n",
       "      <td>NaN</td>\n",
       "      <td>NaN</td>\n",
       "      <td>NaN</td>\n",
       "      <td>NaN</td>\n",
       "      <td>NaN</td>\n",
       "      <td>NaN</td>\n",
       "      <td>NaN</td>\n",
       "      <td>...</td>\n",
       "      <td>NaN</td>\n",
       "      <td>NaN</td>\n",
       "      <td>NaN</td>\n",
       "      <td>NaN</td>\n",
       "      <td>NaN</td>\n",
       "      <td>NaN</td>\n",
       "      <td>NaN</td>\n",
       "      <td>NaN</td>\n",
       "      <td>platinum cargo logistics['intelligent solution...</td>\n",
       "      <td>1</td>\n",
       "    </tr>\n",
       "    <tr>\n",
       "      <th>2</th>\n",
       "      <td>Tazmanian Freight Forwarding, Inc.</td>\n",
       "      <td>['https://www.tazmanian.com/', 'https://www.ta...</td>\n",
       "      <td>[\"When your shipping needs have a time-definit...</td>\n",
       "      <td>NaN</td>\n",
       "      <td>NaN</td>\n",
       "      <td>NaN</td>\n",
       "      <td>NaN</td>\n",
       "      <td>NaN</td>\n",
       "      <td>NaN</td>\n",
       "      <td>NaN</td>\n",
       "      <td>...</td>\n",
       "      <td>NaN</td>\n",
       "      <td>NaN</td>\n",
       "      <td>NaN</td>\n",
       "      <td>NaN</td>\n",
       "      <td>NaN</td>\n",
       "      <td>NaN</td>\n",
       "      <td>NaN</td>\n",
       "      <td>NaN</td>\n",
       "      <td>tazmanian freight forwarding, inc.[\"when your ...</td>\n",
       "      <td>1</td>\n",
       "    </tr>\n",
       "    <tr>\n",
       "      <th>3</th>\n",
       "      <td>Mesca (Ascent Global Logistics)</td>\n",
       "      <td>['https://ascentgl.com/blog/roadrunner-transpo...</td>\n",
       "      <td>['Roadrunner Transportation Systems (“Roadrunn...</td>\n",
       "      <td>NaN</td>\n",
       "      <td>NaN</td>\n",
       "      <td>NaN</td>\n",
       "      <td>NaN</td>\n",
       "      <td>NaN</td>\n",
       "      <td>NaN</td>\n",
       "      <td>NaN</td>\n",
       "      <td>...</td>\n",
       "      <td>NaN</td>\n",
       "      <td>NaN</td>\n",
       "      <td>NaN</td>\n",
       "      <td>NaN</td>\n",
       "      <td>NaN</td>\n",
       "      <td>NaN</td>\n",
       "      <td>NaN</td>\n",
       "      <td>NaN</td>\n",
       "      <td>mesca (ascent global logistics)['roadrunner tr...</td>\n",
       "      <td>1</td>\n",
       "    </tr>\n",
       "    <tr>\n",
       "      <th>4</th>\n",
       "      <td>GlobalTranz</td>\n",
       "      <td>['https://www.globaltranz.com/shippers/warehou...</td>\n",
       "      <td>['Seamless Warehouse, Fulfillment and Distribu...</td>\n",
       "      <td>NaN</td>\n",
       "      <td>NaN</td>\n",
       "      <td>NaN</td>\n",
       "      <td>NaN</td>\n",
       "      <td>NaN</td>\n",
       "      <td>NaN</td>\n",
       "      <td>NaN</td>\n",
       "      <td>...</td>\n",
       "      <td>NaN</td>\n",
       "      <td>NaN</td>\n",
       "      <td>NaN</td>\n",
       "      <td>NaN</td>\n",
       "      <td>NaN</td>\n",
       "      <td>NaN</td>\n",
       "      <td>NaN</td>\n",
       "      <td>NaN</td>\n",
       "      <td>globaltranz['seamless warehouse, fulfillment a...</td>\n",
       "      <td>1</td>\n",
       "    </tr>\n",
       "    <tr>\n",
       "      <th>5</th>\n",
       "      <td>A.P. MÃ¸ller - MÃ¦rsk A/S</td>\n",
       "      <td>['https://help.shopify.com/en/manual/shipping/...</td>\n",
       "      <td>[\"With Shopify, you can use a fulfillment serv...</td>\n",
       "      <td>NaN</td>\n",
       "      <td>NaN</td>\n",
       "      <td>NaN</td>\n",
       "      <td>NaN</td>\n",
       "      <td>NaN</td>\n",
       "      <td>NaN</td>\n",
       "      <td>NaN</td>\n",
       "      <td>...</td>\n",
       "      <td>NaN</td>\n",
       "      <td>NaN</td>\n",
       "      <td>NaN</td>\n",
       "      <td>NaN</td>\n",
       "      <td>NaN</td>\n",
       "      <td>NaN</td>\n",
       "      <td>NaN</td>\n",
       "      <td>NaN</td>\n",
       "      <td>a.p. mã¸ller - mã¦rsk a/s[\"with shopify, you c...</td>\n",
       "      <td>1</td>\n",
       "    </tr>\n",
       "  </tbody>\n",
       "</table>\n",
       "<p>5 rows × 13749 columns</p>\n",
       "</div>"
      ],
      "text/plain": [
       "                               bus_nm  \\\n",
       "1            PLATINUM CARGO LOGISTICS   \n",
       "2  Tazmanian Freight Forwarding, Inc.   \n",
       "3     Mesca (Ascent Global Logistics)   \n",
       "4                         GlobalTranz   \n",
       "5           A.P. MÃ¸ller - MÃ¦rsk A/S   \n",
       "\n",
       "                                     web_links_cntry  \\\n",
       "1  ['https://www.platinumcargologistics.com/', 'h...   \n",
       "2  ['https://www.tazmanian.com/', 'https://www.ta...   \n",
       "3  ['https://ascentgl.com/blog/roadrunner-transpo...   \n",
       "4  ['https://www.globaltranz.com/shippers/warehou...   \n",
       "5  ['https://help.shopify.com/en/manual/shipping/...   \n",
       "\n",
       "                                   description_cntry Unnamed: 3 Unnamed: 4  \\\n",
       "1  ['Intelligent Solutions...Powerful Results  Pl...        NaN        NaN   \n",
       "2  [\"When your shipping needs have a time-definit...        NaN        NaN   \n",
       "3  ['Roadrunner Transportation Systems (“Roadrunn...        NaN        NaN   \n",
       "4  ['Seamless Warehouse, Fulfillment and Distribu...        NaN        NaN   \n",
       "5  [\"With Shopify, you can use a fulfillment serv...        NaN        NaN   \n",
       "\n",
       "  Unnamed: 5 Unnamed: 6 Unnamed: 7 Unnamed: 8 Unnamed: 9  ... Unnamed: 13739  \\\n",
       "1        NaN        NaN        NaN        NaN        NaN  ...            NaN   \n",
       "2        NaN        NaN        NaN        NaN        NaN  ...            NaN   \n",
       "3        NaN        NaN        NaN        NaN        NaN  ...            NaN   \n",
       "4        NaN        NaN        NaN        NaN        NaN  ...            NaN   \n",
       "5        NaN        NaN        NaN        NaN        NaN  ...            NaN   \n",
       "\n",
       "  Unnamed: 13740 Unnamed: 13741 Unnamed: 13742 Unnamed: 13743 Unnamed: 13744  \\\n",
       "1            NaN            NaN            NaN            NaN            NaN   \n",
       "2            NaN            NaN            NaN            NaN            NaN   \n",
       "3            NaN            NaN            NaN            NaN            NaN   \n",
       "4            NaN            NaN            NaN            NaN            NaN   \n",
       "5            NaN            NaN            NaN            NaN            NaN   \n",
       "\n",
       "  Unnamed: 13745 Unnamed: 13746  \\\n",
       "1            NaN            NaN   \n",
       "2            NaN            NaN   \n",
       "3            NaN            NaN   \n",
       "4            NaN            NaN   \n",
       "5            NaN            NaN   \n",
       "\n",
       "                                             feature fulfillment  \n",
       "1  platinum cargo logistics['intelligent solution...           1  \n",
       "2  tazmanian freight forwarding, inc.[\"when your ...           1  \n",
       "3  mesca (ascent global logistics)['roadrunner tr...           1  \n",
       "4  globaltranz['seamless warehouse, fulfillment a...           1  \n",
       "5  a.p. mã¸ller - mã¦rsk a/s[\"with shopify, you c...           1  \n",
       "\n",
       "[5 rows x 13749 columns]"
      ]
     },
     "execution_count": 18,
     "metadata": {},
     "output_type": "execute_result"
    }
   ],
   "source": [
    "df_fulfillment.head()"
   ]
  },
  {
   "cell_type": "code",
   "execution_count": 19,
   "id": "elegant-bridal",
   "metadata": {
    "id": "elegant-bridal"
   },
   "outputs": [],
   "source": [
    "df1= df_fulfillment.copy()\n",
    "df1= df1[['bus_nm','feature']]\n",
    "df1['label']='fulfillment'\n",
    "df1.columns= ['name', 'description', 'class']"
   ]
  },
  {
   "cell_type": "code",
   "execution_count": 20,
   "id": "greek-cleaning",
   "metadata": {
    "id": "greek-cleaning"
   },
   "outputs": [],
   "source": [
    "df_other = pd.read_csv('t_scraped_clean_1300.csv')"
   ]
  },
  {
   "cell_type": "code",
   "execution_count": 21,
   "id": "direct-relation",
   "metadata": {
    "colab": {
     "base_uri": "https://localhost:8080/",
     "height": 319
    },
    "id": "direct-relation",
    "outputId": "aae2cc34-2e12-4b36-f832-f3485c1431db"
   },
   "outputs": [
    {
     "data": {
      "text/html": [
       "<div>\n",
       "<style scoped>\n",
       "    .dataframe tbody tr th:only-of-type {\n",
       "        vertical-align: middle;\n",
       "    }\n",
       "\n",
       "    .dataframe tbody tr th {\n",
       "        vertical-align: top;\n",
       "    }\n",
       "\n",
       "    .dataframe thead th {\n",
       "        text-align: right;\n",
       "    }\n",
       "</style>\n",
       "<table border=\"1\" class=\"dataframe\">\n",
       "  <thead>\n",
       "    <tr style=\"text-align: right;\">\n",
       "      <th></th>\n",
       "      <th>globl_bus_nm</th>\n",
       "      <th>web_links</th>\n",
       "      <th>description_list</th>\n",
       "    </tr>\n",
       "  </thead>\n",
       "  <tbody>\n",
       "    <tr>\n",
       "      <th>0</th>\n",
       "      <td>Synnex Corporation</td>\n",
       "      <td>['https://www.synnexcorp.com/', 'http://www.sy...</td>\n",
       "      <td>['Learn More', 'Learn More', ' Synnex Corporat...</td>\n",
       "    </tr>\n",
       "    <tr>\n",
       "      <th>1</th>\n",
       "      <td>Varian Medical Systems, Inc.</td>\n",
       "      <td>['https://www.varian.com/', 'https://www.varia...</td>\n",
       "      <td>['Were dedicated to forging a new, more unifyi...</td>\n",
       "    </tr>\n",
       "    <tr>\n",
       "      <th>2</th>\n",
       "      <td>Otis Elevator Company</td>\n",
       "      <td>['https://www.otis.com/', 'https://www.otis.co...</td>\n",
       "      <td>['To give you the best possible browsing exper...</td>\n",
       "    </tr>\n",
       "    <tr>\n",
       "      <th>3</th>\n",
       "      <td>General Electric Company</td>\n",
       "      <td>['https://www.ge.com/', 'https://www.ge.com/ab...</td>\n",
       "      <td>[\"Access the latest press releases, media cont...</td>\n",
       "    </tr>\n",
       "    <tr>\n",
       "      <th>4</th>\n",
       "      <td>Duke University</td>\n",
       "      <td>['https://duke.edu/', 'https://pratt.duke.edu/...</td>\n",
       "      <td>[' Working@Duke News More News from Duke Today...</td>\n",
       "    </tr>\n",
       "  </tbody>\n",
       "</table>\n",
       "</div>"
      ],
      "text/plain": [
       "                   globl_bus_nm  \\\n",
       "0            Synnex Corporation   \n",
       "1  Varian Medical Systems, Inc.   \n",
       "2         Otis Elevator Company   \n",
       "3      General Electric Company   \n",
       "4               Duke University   \n",
       "\n",
       "                                           web_links  \\\n",
       "0  ['https://www.synnexcorp.com/', 'http://www.sy...   \n",
       "1  ['https://www.varian.com/', 'https://www.varia...   \n",
       "2  ['https://www.otis.com/', 'https://www.otis.co...   \n",
       "3  ['https://www.ge.com/', 'https://www.ge.com/ab...   \n",
       "4  ['https://duke.edu/', 'https://pratt.duke.edu/...   \n",
       "\n",
       "                                    description_list  \n",
       "0  ['Learn More', 'Learn More', ' Synnex Corporat...  \n",
       "1  ['Were dedicated to forging a new, more unifyi...  \n",
       "2  ['To give you the best possible browsing exper...  \n",
       "3  [\"Access the latest press releases, media cont...  \n",
       "4  [' Working@Duke News More News from Duke Today...  "
      ]
     },
     "execution_count": 21,
     "metadata": {},
     "output_type": "execute_result"
    }
   ],
   "source": [
    "df_other.head()"
   ]
  },
  {
   "cell_type": "code",
   "execution_count": 22,
   "id": "promotional-confidentiality",
   "metadata": {
    "id": "promotional-confidentiality"
   },
   "outputs": [],
   "source": [
    "df_other['feature'] = df_other['globl_bus_nm'] + df_other['description_list']\n",
    "df_other['feature'] = df_other['feature'] .str.lower()"
   ]
  },
  {
   "cell_type": "code",
   "execution_count": 23,
   "id": "owned-bloom",
   "metadata": {
    "id": "owned-bloom"
   },
   "outputs": [],
   "source": [
    "df_other['discard'] = np.where(df_other['feature'].str.contains('logistic|3pl|fulfillment|transportation|supply chain'),1,0)"
   ]
  },
  {
   "cell_type": "code",
   "execution_count": 24,
   "id": "spare-california",
   "metadata": {
    "colab": {
     "base_uri": "https://localhost:8080/"
    },
    "id": "spare-california",
    "outputId": "1b18f48a-f5a5-4e20-b517-aa0257d152a1"
   },
   "outputs": [
    {
     "data": {
      "text/plain": [
       "0    821\n",
       "1    407\n",
       "Name: discard, dtype: int64"
      ]
     },
     "execution_count": 24,
     "metadata": {},
     "output_type": "execute_result"
    }
   ],
   "source": [
    "df_other['discard'].value_counts()"
   ]
  },
  {
   "cell_type": "code",
   "execution_count": 25,
   "id": "secondary-dialogue",
   "metadata": {
    "id": "secondary-dialogue"
   },
   "outputs": [],
   "source": [
    "df2= df_other[df_other['discard']==0].sample(700)"
   ]
  },
  {
   "cell_type": "code",
   "execution_count": 26,
   "id": "decimal-extraction",
   "metadata": {
    "id": "decimal-extraction"
   },
   "outputs": [],
   "source": [
    "df2 =df2[['globl_bus_nm','feature']]\n",
    "df2['label'] = 'other'\n",
    "df2.columns= ['name', 'description', 'class']"
   ]
  },
  {
   "cell_type": "code",
   "execution_count": 27,
   "id": "charitable-cause",
   "metadata": {
    "colab": {
     "base_uri": "https://localhost:8080/"
    },
    "id": "charitable-cause",
    "outputId": "ba5eafa6-0c6a-4bc6-8a71-4e8f67b2d679"
   },
   "outputs": [
    {
     "name": "stdout",
     "output_type": "stream",
     "text": [
      "                                 name  \\\n",
      "1            PLATINUM CARGO LOGISTICS   \n",
      "2  Tazmanian Freight Forwarding, Inc.   \n",
      "3     Mesca (Ascent Global Logistics)   \n",
      "4                         GlobalTranz   \n",
      "5           A.P. MÃ¸ller - MÃ¦rsk A/S   \n",
      "\n",
      "                                         description        class  \n",
      "1  platinum cargo logistics['intelligent solution...  fulfillment  \n",
      "2  tazmanian freight forwarding, inc.[\"when your ...  fulfillment  \n",
      "3  mesca (ascent global logistics)['roadrunner tr...  fulfillment  \n",
      "4  globaltranz['seamless warehouse, fulfillment a...  fulfillment  \n",
      "5  a.p. mã¸ller - mã¦rsk a/s[\"with shopify, you c...  fulfillment                                       name  \\\n",
      "457              Synovus Financial Corp.   \n",
      "947                        Zimmer Biomet   \n",
      "788  Fresenius Medical Care AG & Co KGaA   \n",
      "393                      Globe Life Inc.   \n",
      "866            Novartis International AG   \n",
      "\n",
      "                                           description  class  \n",
      "457  synovus financial corp.[\"manage your account m...  other  \n",
      "947  zimmer biomet[\"this site uses cookies to make ...  other  \n",
      "788  fresenius medical care ag & co kgaa['fresenius...  other  \n",
      "393  globe life inc.['covid-19 update: click here g...  other  \n",
      "866  novartis international ag['chief talent and pe...  other  \n",
      "(3242, 3) (700, 3)\n"
     ]
    }
   ],
   "source": [
    "print(df1.head(), df2.head())\n",
    "print(df1.shape, df2.shape)"
   ]
  },
  {
   "cell_type": "code",
   "execution_count": 28,
   "id": "minimal-madness",
   "metadata": {
    "colab": {
     "base_uri": "https://localhost:8080/",
     "height": 206
    },
    "id": "minimal-madness",
    "outputId": "b5f49b59-8ccf-48b8-98c8-8ceac7145b94"
   },
   "outputs": [
    {
     "data": {
      "text/html": [
       "<div>\n",
       "<style scoped>\n",
       "    .dataframe tbody tr th:only-of-type {\n",
       "        vertical-align: middle;\n",
       "    }\n",
       "\n",
       "    .dataframe tbody tr th {\n",
       "        vertical-align: top;\n",
       "    }\n",
       "\n",
       "    .dataframe thead th {\n",
       "        text-align: right;\n",
       "    }\n",
       "</style>\n",
       "<table border=\"1\" class=\"dataframe\">\n",
       "  <thead>\n",
       "    <tr style=\"text-align: right;\">\n",
       "      <th></th>\n",
       "      <th>name</th>\n",
       "      <th>description</th>\n",
       "      <th>class</th>\n",
       "    </tr>\n",
       "  </thead>\n",
       "  <tbody>\n",
       "    <tr>\n",
       "      <th>1</th>\n",
       "      <td>PLATINUM CARGO LOGISTICS</td>\n",
       "      <td>platinum cargo logistics['intelligent solution...</td>\n",
       "      <td>fulfillment</td>\n",
       "    </tr>\n",
       "    <tr>\n",
       "      <th>2</th>\n",
       "      <td>Tazmanian Freight Forwarding, Inc.</td>\n",
       "      <td>tazmanian freight forwarding, inc.[\"when your ...</td>\n",
       "      <td>fulfillment</td>\n",
       "    </tr>\n",
       "    <tr>\n",
       "      <th>3</th>\n",
       "      <td>Mesca (Ascent Global Logistics)</td>\n",
       "      <td>mesca (ascent global logistics)['roadrunner tr...</td>\n",
       "      <td>fulfillment</td>\n",
       "    </tr>\n",
       "    <tr>\n",
       "      <th>4</th>\n",
       "      <td>GlobalTranz</td>\n",
       "      <td>globaltranz['seamless warehouse, fulfillment a...</td>\n",
       "      <td>fulfillment</td>\n",
       "    </tr>\n",
       "    <tr>\n",
       "      <th>5</th>\n",
       "      <td>A.P. MÃ¸ller - MÃ¦rsk A/S</td>\n",
       "      <td>a.p. mã¸ller - mã¦rsk a/s[\"with shopify, you c...</td>\n",
       "      <td>fulfillment</td>\n",
       "    </tr>\n",
       "  </tbody>\n",
       "</table>\n",
       "</div>"
      ],
      "text/plain": [
       "                                 name  \\\n",
       "1            PLATINUM CARGO LOGISTICS   \n",
       "2  Tazmanian Freight Forwarding, Inc.   \n",
       "3     Mesca (Ascent Global Logistics)   \n",
       "4                         GlobalTranz   \n",
       "5           A.P. MÃ¸ller - MÃ¦rsk A/S   \n",
       "\n",
       "                                         description        class  \n",
       "1  platinum cargo logistics['intelligent solution...  fulfillment  \n",
       "2  tazmanian freight forwarding, inc.[\"when your ...  fulfillment  \n",
       "3  mesca (ascent global logistics)['roadrunner tr...  fulfillment  \n",
       "4  globaltranz['seamless warehouse, fulfillment a...  fulfillment  \n",
       "5  a.p. mã¸ller - mã¦rsk a/s[\"with shopify, you c...  fulfillment  "
      ]
     },
     "execution_count": 28,
     "metadata": {},
     "output_type": "execute_result"
    }
   ],
   "source": [
    "df_nlp = pd.concat([df1, df2], axis=0)\n",
    "df_nlp.head()"
   ]
  },
  {
   "cell_type": "code",
   "execution_count": 29,
   "id": "flying-filing",
   "metadata": {
    "id": "flying-filing"
   },
   "outputs": [],
   "source": [
    "# define custom functions for machine learning\n",
    "\n",
    "from sklearn.model_selection import cross_val_score\n",
    "from sklearn.model_selection import cross_val_predict\n",
    "from sklearn.metrics import confusion_matrix\n",
    "from sklearn.model_selection import KFold\n",
    "from sklearn.model_selection import GridSearchCV, RandomizedSearchCV\n",
    "\n",
    "def crossvalidate_classifier(model, X, y, cm=False):\n",
    "    \n",
    "    scores = cross_val_score(model, X, y, scoring='f1_macro', cv=5)\n",
    "    #scores = cross_val_score(model, X, y, scoring='accuracy', cv=5)\n",
    "    print(\"%0.2f f-1 score with a standard deviation of %0.2f\" % (scores.mean(), scores.std()))\n",
    "    y_pred = cross_val_predict(model, X, y, cv=5)\n",
    "\n",
    "    if(cm):\n",
    "        conf_mat = confusion_matrix(y, y_pred, labels=['fulfillment','other'])\n",
    "        plot_confusion_matrix(conf_mat, classes = ['fulfillment','other'])\n",
    "    \n",
    "def evaluate_classifier(model, X_train, X_test, y_train, y_test):\n",
    "      \n",
    "    # ... fit your model here ...\n",
    "    model.fit(X_train,y_train)\n",
    "\n",
    "    # Run predict on your tfidf test data to get your predictions\n",
    "    pred = model.predict(X_test)\n",
    "\n",
    "    # Calculate your accuracy using the metrics module\n",
    "    acc_score = metrics.accuracy_score(pred, y_test)\n",
    "    print(\"Accuracy Score:   %0.3f\" % acc_score)\n",
    "    \n",
    "    f1score = metrics.f1_score(pred, y_test, average='macro')\n",
    "    print(\"F-1 Score:   %0.3f\" % f1score)\n",
    "\n",
    "    # Calculate the confusion matrices for the tfidf_svc model\n",
    "    #svc_cm = metrics.confusion_matrix(y_test, pred, labels=['fulfillment','other'])\n",
    "\n",
    "    # Plot the confusion matrix using the plot_confusion_matrix function\n",
    "    #plot_confusion_matrix(svc_cm, classes = ['fulfillment','other'], title=\"Confusion Matrix\")\n",
    "    \n",
    "    return model\n",
    "\n",
    "def best_hyperparam(X_train_data, X_test_data, y_train_data, y_test_data, \n",
    "                       model, param_grid, cv=5, scoring_fit='f1_score',\n",
    "                       do_probabilities = False):\n",
    "    gs = RandomizedSearchCV(\n",
    "        estimator=model,\n",
    "        param_grid=param_grid, \n",
    "        cv=cv, \n",
    "        n_jobs=-1, \n",
    "        scoring=scoring_fit,\n",
    "        verbose=2\n",
    "    )\n",
    "    fitted_model = gs.fit(X_train_data, y_train_data, epochs=100)\n",
    "    \n",
    "    if do_probabilities:\n",
    "      pred = fitted_model.predict_proba(X_test_data)\n",
    "    else:\n",
    "      pred = fitted_model.predict(X_test_data)\n",
    "    \n",
    "    return fitted_model, pred"
   ]
  },
  {
   "cell_type": "code",
   "execution_count": 30,
   "id": "65pkeAsbRlgQ",
   "metadata": {
    "colab": {
     "base_uri": "https://localhost:8080/",
     "height": 659
    },
    "id": "65pkeAsbRlgQ",
    "outputId": "485a0a2d-c58c-4865-a7d7-1a8b395f3256",
    "scrolled": true
   },
   "outputs": [
    {
     "data": {
      "text/html": [
       "<div>\n",
       "<style scoped>\n",
       "    .dataframe tbody tr th:only-of-type {\n",
       "        vertical-align: middle;\n",
       "    }\n",
       "\n",
       "    .dataframe tbody tr th {\n",
       "        vertical-align: top;\n",
       "    }\n",
       "\n",
       "    .dataframe thead th {\n",
       "        text-align: right;\n",
       "    }\n",
       "</style>\n",
       "<table border=\"1\" class=\"dataframe\">\n",
       "  <thead>\n",
       "    <tr style=\"text-align: right;\">\n",
       "      <th></th>\n",
       "      <th>name</th>\n",
       "      <th>description</th>\n",
       "      <th>class</th>\n",
       "    </tr>\n",
       "  </thead>\n",
       "  <tbody>\n",
       "    <tr>\n",
       "      <th>1</th>\n",
       "      <td>PLATINUM CARGO LOGISTICS</td>\n",
       "      <td>platinum cargo logistics['intelligent solution...</td>\n",
       "      <td>fulfillment</td>\n",
       "    </tr>\n",
       "    <tr>\n",
       "      <th>2</th>\n",
       "      <td>Tazmanian Freight Forwarding, Inc.</td>\n",
       "      <td>tazmanian freight forwarding, inc.[\"when your ...</td>\n",
       "      <td>fulfillment</td>\n",
       "    </tr>\n",
       "    <tr>\n",
       "      <th>3</th>\n",
       "      <td>Mesca (Ascent Global Logistics)</td>\n",
       "      <td>mesca (ascent global logistics)['roadrunner tr...</td>\n",
       "      <td>fulfillment</td>\n",
       "    </tr>\n",
       "    <tr>\n",
       "      <th>4</th>\n",
       "      <td>GlobalTranz</td>\n",
       "      <td>globaltranz['seamless warehouse, fulfillment a...</td>\n",
       "      <td>fulfillment</td>\n",
       "    </tr>\n",
       "    <tr>\n",
       "      <th>5</th>\n",
       "      <td>A.P. MÃ¸ller - MÃ¦rsk A/S</td>\n",
       "      <td>a.p. mã¸ller - mã¦rsk a/s[\"with shopify, you c...</td>\n",
       "      <td>fulfillment</td>\n",
       "    </tr>\n",
       "    <tr>\n",
       "      <th>...</th>\n",
       "      <td>...</td>\n",
       "      <td>...</td>\n",
       "      <td>...</td>\n",
       "    </tr>\n",
       "    <tr>\n",
       "      <th>68</th>\n",
       "      <td>Tarkett USA Inc</td>\n",
       "      <td>tarkett usa inc['', 'see available quickship s...</td>\n",
       "      <td>other</td>\n",
       "    </tr>\n",
       "    <tr>\n",
       "      <th>786</th>\n",
       "      <td>Deutsche Telekom, Inc.</td>\n",
       "      <td>deutsche telekom, inc.['life is for sharing. c...</td>\n",
       "      <td>other</td>\n",
       "    </tr>\n",
       "    <tr>\n",
       "      <th>888</th>\n",
       "      <td>Niagara Bottling, LLC</td>\n",
       "      <td>niagara bottling, llc['utilizing state-of-the-...</td>\n",
       "      <td>other</td>\n",
       "    </tr>\n",
       "    <tr>\n",
       "      <th>980</th>\n",
       "      <td>Xerox Corporation</td>\n",
       "      <td>xerox corporation[\"*company separation\\r\\n\\t\\t...</td>\n",
       "      <td>other</td>\n",
       "    </tr>\n",
       "    <tr>\n",
       "      <th>1073</th>\n",
       "      <td>HERBALIFE INTERNATIONAL OF AMERICA, INC.</td>\n",
       "      <td>herbalife international of america, inc.['earn...</td>\n",
       "      <td>other</td>\n",
       "    </tr>\n",
       "  </tbody>\n",
       "</table>\n",
       "<p>1706 rows × 3 columns</p>\n",
       "</div>"
      ],
      "text/plain": [
       "                                          name  \\\n",
       "1                     PLATINUM CARGO LOGISTICS   \n",
       "2           Tazmanian Freight Forwarding, Inc.   \n",
       "3              Mesca (Ascent Global Logistics)   \n",
       "4                                  GlobalTranz   \n",
       "5                    A.P. MÃ¸ller - MÃ¦rsk A/S   \n",
       "...                                        ...   \n",
       "68                             Tarkett USA Inc   \n",
       "786                     Deutsche Telekom, Inc.   \n",
       "888                      Niagara Bottling, LLC   \n",
       "980                          Xerox Corporation   \n",
       "1073  HERBALIFE INTERNATIONAL OF AMERICA, INC.   \n",
       "\n",
       "                                            description        class  \n",
       "1     platinum cargo logistics['intelligent solution...  fulfillment  \n",
       "2     tazmanian freight forwarding, inc.[\"when your ...  fulfillment  \n",
       "3     mesca (ascent global logistics)['roadrunner tr...  fulfillment  \n",
       "4     globaltranz['seamless warehouse, fulfillment a...  fulfillment  \n",
       "5     a.p. mã¸ller - mã¦rsk a/s[\"with shopify, you c...  fulfillment  \n",
       "...                                                 ...          ...  \n",
       "68    tarkett usa inc['', 'see available quickship s...        other  \n",
       "786   deutsche telekom, inc.['life is for sharing. c...        other  \n",
       "888   niagara bottling, llc['utilizing state-of-the-...        other  \n",
       "980   xerox corporation[\"*company separation\\r\\n\\t\\t...        other  \n",
       "1073  herbalife international of america, inc.['earn...        other  \n",
       "\n",
       "[1706 rows x 3 columns]"
      ]
     },
     "execution_count": 30,
     "metadata": {},
     "output_type": "execute_result"
    }
   ],
   "source": [
    "df_nlp = df_nlp[~df_nlp.description.isna()]\n",
    "df_nlp"
   ]
  },
  {
   "cell_type": "code",
   "execution_count": 34,
   "id": "racial-classroom",
   "metadata": {
    "colab": {
     "base_uri": "https://localhost:8080/",
     "height": 659
    },
    "id": "racial-classroom",
    "outputId": "c4bc1723-d232-4171-97e5-949d65cb6e89",
    "scrolled": true
   },
   "outputs": [
    {
     "data": {
      "text/html": [
       "<div>\n",
       "<style scoped>\n",
       "    .dataframe tbody tr th:only-of-type {\n",
       "        vertical-align: middle;\n",
       "    }\n",
       "\n",
       "    .dataframe tbody tr th {\n",
       "        vertical-align: top;\n",
       "    }\n",
       "\n",
       "    .dataframe thead th {\n",
       "        text-align: right;\n",
       "    }\n",
       "</style>\n",
       "<table border=\"1\" class=\"dataframe\">\n",
       "  <thead>\n",
       "    <tr style=\"text-align: right;\">\n",
       "      <th></th>\n",
       "      <th>Unnamed: 0</th>\n",
       "      <th>name</th>\n",
       "      <th>description</th>\n",
       "      <th>class</th>\n",
       "      <th>tokens</th>\n",
       "    </tr>\n",
       "  </thead>\n",
       "  <tbody>\n",
       "    <tr>\n",
       "      <th>0</th>\n",
       "      <td>1</td>\n",
       "      <td>PLATINUM CARGO LOGISTICS</td>\n",
       "      <td>platinum cargo logistics['intelligent solution...</td>\n",
       "      <td>fulfillment</td>\n",
       "      <td>['platinum', 'cargo', 'logist', 'intellig', 's...</td>\n",
       "    </tr>\n",
       "    <tr>\n",
       "      <th>1</th>\n",
       "      <td>2</td>\n",
       "      <td>Tazmanian Freight Forwarding, Inc.</td>\n",
       "      <td>tazmanian freight forwarding, inc.[\"when your ...</td>\n",
       "      <td>fulfillment</td>\n",
       "      <td>['tazmanian', 'freight', 'forward', 'ship', 'n...</td>\n",
       "    </tr>\n",
       "    <tr>\n",
       "      <th>2</th>\n",
       "      <td>3</td>\n",
       "      <td>Mesca (Ascent Global Logistics)</td>\n",
       "      <td>mesca (ascent global logistics)['roadrunner tr...</td>\n",
       "      <td>fulfillment</td>\n",
       "      <td>['mesca', 'ascent', 'global', 'logist', 'roadr...</td>\n",
       "    </tr>\n",
       "    <tr>\n",
       "      <th>3</th>\n",
       "      <td>4</td>\n",
       "      <td>GlobalTranz</td>\n",
       "      <td>globaltranz['seamless warehouse, fulfillment a...</td>\n",
       "      <td>fulfillment</td>\n",
       "      <td>['globaltranz', 'seamless', 'warehous', 'fulfi...</td>\n",
       "    </tr>\n",
       "    <tr>\n",
       "      <th>4</th>\n",
       "      <td>5</td>\n",
       "      <td>A.P. MÃ¸ller - MÃ¦rsk A/S</td>\n",
       "      <td>a.p. mã¸ller - mã¦rsk a/s[\"with shopify, you c...</td>\n",
       "      <td>fulfillment</td>\n",
       "      <td>['mã', 'ller', 'mã', 'rsk', 'shopifi', 'use', ...</td>\n",
       "    </tr>\n",
       "    <tr>\n",
       "      <th>...</th>\n",
       "      <td>...</td>\n",
       "      <td>...</td>\n",
       "      <td>...</td>\n",
       "      <td>...</td>\n",
       "      <td>...</td>\n",
       "    </tr>\n",
       "    <tr>\n",
       "      <th>1697</th>\n",
       "      <td>1215</td>\n",
       "      <td>Applied Industrial Technologies, Inc.</td>\n",
       "      <td>applied industrial technologies, inc.['have an...</td>\n",
       "      <td>other</td>\n",
       "      <td>['appli', 'industri', 'technolog', 'account', ...</td>\n",
       "    </tr>\n",
       "    <tr>\n",
       "      <th>1698</th>\n",
       "      <td>711</td>\n",
       "      <td>TERUMO CORPORATION</td>\n",
       "      <td>terumo corporation['terumo\\'s response to covi...</td>\n",
       "      <td>other</td>\n",
       "      <td>['terumo', 'corpor', 'terumo', 'respons', 'cov...</td>\n",
       "    </tr>\n",
       "    <tr>\n",
       "      <th>1699</th>\n",
       "      <td>798</td>\n",
       "      <td>Abbott Laboratories</td>\n",
       "      <td>abbott laboratories['investors newsroom respon...</td>\n",
       "      <td>other</td>\n",
       "      <td>['abbott', 'laboratori', 'investor', 'newsroom...</td>\n",
       "    </tr>\n",
       "    <tr>\n",
       "      <th>1700</th>\n",
       "      <td>576</td>\n",
       "      <td>Emerson Electric Co.</td>\n",
       "      <td>emerson electric co.[\"product(s) in your cart ...</td>\n",
       "      <td>other</td>\n",
       "      <td>['emerson', 'electr', 'product', 'cart', 'avai...</td>\n",
       "    </tr>\n",
       "    <tr>\n",
       "      <th>1701</th>\n",
       "      <td>318</td>\n",
       "      <td>Franz Haniel &amp; Cie. GmbH</td>\n",
       "      <td>franz haniel &amp; cie. gmbh['reports, features an...</td>\n",
       "      <td>other</td>\n",
       "      <td>['franz', 'haniel', 'cie', 'gmbh', 'report', '...</td>\n",
       "    </tr>\n",
       "  </tbody>\n",
       "</table>\n",
       "<p>1702 rows × 5 columns</p>\n",
       "</div>"
      ],
      "text/plain": [
       "      Unnamed: 0                                   name  \\\n",
       "0              1               PLATINUM CARGO LOGISTICS   \n",
       "1              2     Tazmanian Freight Forwarding, Inc.   \n",
       "2              3        Mesca (Ascent Global Logistics)   \n",
       "3              4                            GlobalTranz   \n",
       "4              5              A.P. MÃ¸ller - MÃ¦rsk A/S   \n",
       "...          ...                                    ...   \n",
       "1697        1215  Applied Industrial Technologies, Inc.   \n",
       "1698         711                     TERUMO CORPORATION   \n",
       "1699         798                    Abbott Laboratories   \n",
       "1700         576                   Emerson Electric Co.   \n",
       "1701         318               Franz Haniel & Cie. GmbH   \n",
       "\n",
       "                                            description        class  \\\n",
       "0     platinum cargo logistics['intelligent solution...  fulfillment   \n",
       "1     tazmanian freight forwarding, inc.[\"when your ...  fulfillment   \n",
       "2     mesca (ascent global logistics)['roadrunner tr...  fulfillment   \n",
       "3     globaltranz['seamless warehouse, fulfillment a...  fulfillment   \n",
       "4     a.p. mã¸ller - mã¦rsk a/s[\"with shopify, you c...  fulfillment   \n",
       "...                                                 ...          ...   \n",
       "1697  applied industrial technologies, inc.['have an...        other   \n",
       "1698  terumo corporation['terumo\\'s response to covi...        other   \n",
       "1699  abbott laboratories['investors newsroom respon...        other   \n",
       "1700  emerson electric co.[\"product(s) in your cart ...        other   \n",
       "1701  franz haniel & cie. gmbh['reports, features an...        other   \n",
       "\n",
       "                                                 tokens  \n",
       "0     ['platinum', 'cargo', 'logist', 'intellig', 's...  \n",
       "1     ['tazmanian', 'freight', 'forward', 'ship', 'n...  \n",
       "2     ['mesca', 'ascent', 'global', 'logist', 'roadr...  \n",
       "3     ['globaltranz', 'seamless', 'warehous', 'fulfi...  \n",
       "4     ['mã', 'ller', 'mã', 'rsk', 'shopifi', 'use', ...  \n",
       "...                                                 ...  \n",
       "1697  ['appli', 'industri', 'technolog', 'account', ...  \n",
       "1698  ['terumo', 'corpor', 'terumo', 'respons', 'cov...  \n",
       "1699  ['abbott', 'laboratori', 'investor', 'newsroom...  \n",
       "1700  ['emerson', 'electr', 'product', 'cart', 'avai...  \n",
       "1701  ['franz', 'haniel', 'cie', 'gmbh', 'report', '...  \n",
       "\n",
       "[1702 rows x 5 columns]"
      ]
     },
     "execution_count": 34,
     "metadata": {},
     "output_type": "execute_result"
    }
   ],
   "source": [
    "df_nlp= pd.read_csv('TI_nlp.csv')\n",
    "df_nlp"
   ]
  },
  {
   "cell_type": "code",
   "execution_count": 35,
   "id": "broad-virginia",
   "metadata": {
    "colab": {
     "base_uri": "https://localhost:8080/"
    },
    "id": "broad-virginia",
    "outputId": "7087546e-71c2-4c3f-d6f2-1e28473ec892"
   },
   "outputs": [
    {
     "name": "stderr",
     "output_type": "stream",
     "text": [
      "[nltk_data] Downloading package wordnet to\n",
      "[nltk_data]     C:\\Users\\10inm\\AppData\\Roaming\\nltk_data...\n",
      "[nltk_data]   Package wordnet is already up-to-date!\n"
     ]
    },
    {
     "data": {
      "text/plain": [
       "True"
      ]
     },
     "execution_count": 35,
     "metadata": {},
     "output_type": "execute_result"
    }
   ],
   "source": [
    "import gensim\n",
    "from gensim.utils import simple_preprocess\n",
    "from gensim.parsing.preprocessing import STOPWORDS\n",
    "from nltk.stem import WordNetLemmatizer, SnowballStemmer\n",
    "from nltk.stem.porter import *\n",
    "import numpy as np\n",
    "np.random.seed(2018)\n",
    "import nltk\n",
    "#nltk.download('wordnet')"
   ]
  },
  {
   "cell_type": "code",
   "execution_count": 36,
   "id": "demonstrated-notification",
   "metadata": {
    "id": "demonstrated-notification"
   },
   "outputs": [],
   "source": [
    "from sklearn.feature_extraction.text import CountVectorizer, TfidfVectorizer\n",
    "from sklearn.model_selection import train_test_split\n",
    "from sklearn.naive_bayes import MultinomialNB\n",
    "from sklearn.svm import LinearSVC, SVC\n",
    "from sklearn import metrics\n",
    "from sklearn.ensemble import RandomForestClassifier, AdaBoostClassifier, BaggingClassifier, GradientBoostingClassifier"
   ]
  },
  {
   "cell_type": "code",
   "execution_count": 37,
   "id": "circular-style",
   "metadata": {
    "id": "circular-style"
   },
   "outputs": [],
   "source": [
    "df_nlp['tokens'] = df_nlp['description'].map(preprocess)"
   ]
  },
  {
   "cell_type": "code",
   "execution_count": 38,
   "id": "painful-couple",
   "metadata": {
    "colab": {
     "base_uri": "https://localhost:8080/"
    },
    "id": "painful-couple",
    "outputId": "1e71b235-39d9-4aa4-b531-e45f1802efc9"
   },
   "outputs": [
    {
     "data": {
      "text/plain": [
       "fulfillment    1002\n",
       "other           700\n",
       "Name: class, dtype: int64"
      ]
     },
     "execution_count": 38,
     "metadata": {},
     "output_type": "execute_result"
    }
   ],
   "source": [
    "df_nlp.head()\n",
    "df_nlp['class'].value_counts()"
   ]
  },
  {
   "cell_type": "code",
   "execution_count": 39,
   "id": "foster-ability",
   "metadata": {
    "id": "foster-ability"
   },
   "outputs": [],
   "source": [
    "X = df_nlp['tokens']\n",
    "y= df_nlp['class']"
   ]
  },
  {
   "cell_type": "code",
   "execution_count": 40,
   "id": "soviet-alloy",
   "metadata": {
    "id": "soviet-alloy"
   },
   "outputs": [],
   "source": [
    "# Split training and testing data\n",
    "X_train, X_test, y_train, y_test = train_test_split(X, y, random_state=53, test_size=0.25, shuffle=True, stratify=y )"
   ]
  },
  {
   "cell_type": "code",
   "execution_count": 41,
   "id": "prime-advertising",
   "metadata": {
    "colab": {
     "base_uri": "https://localhost:8080/"
    },
    "id": "prime-advertising",
    "outputId": "a8dd92d2-edea-444b-8d25-e5a4ca4a4382"
   },
   "outputs": [
    {
     "data": {
      "text/plain": [
       "797     fulfillment\n",
       "865     fulfillment\n",
       "309     fulfillment\n",
       "807     fulfillment\n",
       "1676          other\n",
       "Name: class, dtype: object"
      ]
     },
     "execution_count": 41,
     "metadata": {},
     "output_type": "execute_result"
    }
   ],
   "source": [
    "y_test.head()"
   ]
  },
  {
   "cell_type": "code",
   "execution_count": 42,
   "id": "removed-corps",
   "metadata": {
    "id": "removed-corps"
   },
   "outputs": [],
   "source": [
    "# Initialize count vectorizer\n",
    "count_vectorizer = CountVectorizer(stop_words='english', max_df=0.9, min_df=0.05)\n",
    "\n",
    "# Create count train and test variables\n",
    "count_train = count_vectorizer.fit_transform(X_train)\n",
    "count_test = count_vectorizer.transform(X_test)\n",
    "\n",
    "# Initialize tfidf vectorizer\n",
    "tfidf_vectorizer = TfidfVectorizer(stop_words='english', max_df=0.9, min_df=0.05)\n",
    "\n",
    "# Create tfidf train and test variables\n",
    "tfidf_train = tfidf_vectorizer.fit_transform(X_train)\n",
    "tfidf_test = tfidf_vectorizer.transform(X_test)"
   ]
  },
  {
   "cell_type": "code",
   "execution_count": 43,
   "id": "imperial-franchise",
   "metadata": {
    "colab": {
     "base_uri": "https://localhost:8080/"
    },
    "id": "imperial-franchise",
    "outputId": "60470f04-9b3c-43ae-8581-00c867511b9f"
   },
   "outputs": [
    {
     "name": "stdout",
     "output_type": "stream",
     "text": [
      "(1276, 965) (1276, 965)\n"
     ]
    }
   ],
   "source": [
    "print(count_train.shape, tfidf_train.shape)"
   ]
  },
  {
   "cell_type": "code",
   "execution_count": 44,
   "id": "wooden-arrangement",
   "metadata": {
    "colab": {
     "base_uri": "https://localhost:8080/"
    },
    "id": "wooden-arrangement",
    "outputId": "e0613c47-f50b-48ce-9bd0-2b62f5b95fe2"
   },
   "outputs": [
    {
     "name": "stdout",
     "output_type": "stream",
     "text": [
      "{'intern': 449, 'transport': 900, 'air': 30, 'freight': 360, 'ocean': 582, 'custom': 207, 'brokerag': 95, 'servic': 788, 'warehous': 942, 'distribut': 242, 'shipment': 796, 'good': 379, 'usa': 920, 'copyright': 191, 'public': 684, 'compani': 160, 'home': 408, 'continu': 184, 'click': 142, 'box': 88, 'let': 488, 'know': 469, 'robot': 750, 'sure': 864, 'browser': 96, 'support': 863, 'javascript': 459, 'cooki': 189, 'block': 83, 'load': 503, 'inform': 436, 'review': 745, 'term': 877, 'polici': 638, 'inquiri': 440, 'relat': 721, 'messag': 541, 'contact': 181, 'team': 871, 'provid': 683, 'refer': 714, 'id': 415, 'global': 376, 'site': 808, 'world': 957, 'healthi': 398, 'categori': 115, 'best': 79, 'american': 34, 'live': 500, 'award': 72, 'hous': 411, 'select': 778, 'highest': 404, 'class': 139, 'sustain': 865, 'launch': 480, 'channel': 128, 'asia': 55, 'pacif': 603, 'indic': 432, 'repres': 730, 'industri': 434, 'leader': 483, 'open': 589, 'arriv': 52, 'high': 402, 'energi': 280, 'brand': 90, 'japan': 458, 'join': 461, 'valuabl': 926, 'initi': 438, 'promot': 678, 'inclus': 427, 'peopl': 620, 'disabl': 238, 'societi': 814, 'juli': 464, 'develop': 231, 'south': 820, 'septemb': 785, 'use': 921, 'water': 943, 'point': 637, 'win': 952, 'west': 949, 'includ': 426, 'presid': 656, 'institut': 443, 'australia': 65, 'nation': 560, 'central': 119, 'park': 608, 'achiev': 8, 'rate': 700, 'year': 962, 'group': 385, 'releas': 723, 'manag': 524, 'plan': 632, 'rat': 699, 'th': 881, 'list': 498, 'second': 772, 'run': 756, 'creat': 200, 'diseas': 240, 'earli': 258, 'network': 567, 'websit': 946, 'content': 183, 'project': 676, 'busi': 98, 'solut': 816, 'china': 134, 'uk': 913, 'news': 569, 'investor': 453, 'report': 729, 'right': 746, 'reserv': 735, 'respons': 739, 'effect': 268, 'futur': 368, 'generat': 373, 'general': 372, 'chairman': 125, 'director': 237, 'partner': 611, 'commit': 156, 'valu': 925, 'difficult': 234, 'chang': 127, 'technolog': 874, 'innov': 439, 'signific': 801, 'transform': 897, 'econom': 264, 'environ': 290, 'oper': 590, 'order': 594, 'ensur': 285, 'progress': 675, 'target': 869, 'long': 508, 'vision': 938, 'make': 523, 'place': 631, 'implement': 422, 'maxim': 533, 'employe': 276, 'communiti': 159, 'enterpris': 287, 'offer': 584, 'integr': 445, 'product': 670, 'aim': 29, 'focus': 348, 'want': 941, 'view': 936, 'contribut': 186, 'social': 813, 'issu': 455, 'meet': 539, 'need': 566, 'time': 886, 'share': 792, 'histori': 406, 'safeti': 758, 'secur': 775, 'impact': 421, 'univers': 918, 'design': 228, 'devic': 232, 'maintain': 520, 'qualiti': 690, 'way': 944, 'emerg': 274, 'prefer': 650, 'superior': 860, 'advanc': 19, 'new': 568, 'market': 529, 'oversea': 601, 'expect': 311, 'environment': 291, 'increas': 429, 'commerci': 155, 'expertis': 316, 'help': 401, 'build': 97, 'featur': 331, 'current': 206, 'countri': 196, 'unit': 917, 'state': 834, 'ongo': 587, 'demand': 225, 'realiz': 706, 'strengthen': 850, 'domest': 249, 'model': 553, 'suppli': 861, 'date': 213, 'evolv': 300, 'step': 839, 'growth': 387, 'contract': 185, 'properti': 679, 'area': 50, 'essenti': 295, 'measur': 535, 'expand': 309, 'divers': 245, 'greater': 382, 'local': 504, 'non': 571, 'relationship': 722, 'trust': 909, 'outstand': 599, 'capabl': 104, 'human': 414, 'resourc': 736, 'understand': 915, 'extend': 320, 'worldwid': 958, 'corpor': 194, 'corp': 193, 'supplier': 862, 'fuel': 363, 'power': 646, 'play': 635, 'critic': 203, 'role': 752, 'manufactur': 526, 'engin': 282, 'latest': 479, 'perspect': 625, 'technic': 873, 'stop': 841, 'shop': 798, 'base': 74, 'experi': 314, 'multi': 558, 'assist': 59, 'compon': 167, 'licens': 491, 'facil': 323, 'produc': 669, 'agreement': 27, 'primari': 662, 'purchas': 686, 'sourc': 819, 'inventori': 451, 'near': 564, 'record': 712, 'util': 923, 'assur': 61, 'afford': 22, 'deliveri': 224, 'execut': 307, 'knowledg': 470, 'success': 858, 'regulatori': 720, 'complianc': 166, 'cost': 195, 'abil': 0, 'complet': 164, 'work': 954, 'schedul': 765, 'employ': 275, 'approach': 45, 'organ': 595, 'goal': 378, 'safe': 757, 'requir': 733, 'reduc': 713, 'risk': 748, 'complex': 165, 'idea': 416, 'prove': 682, 'larg': 475, 'small': 811, 'thousand': 885, 'depart': 226, 'effici': 269, 'gas': 371, 'import': 423, 'sign': 800, 'plant': 633, 'scale': 764, 'decad': 216, 'great': 381, 'origin': 597, 'purpos': 687, 'caus': 116, 'export': 318, 'accept': 3, 'agenc': 24, 'militari': 546, 'late': 477, 'program': 674, 'europ': 297, 'recent': 709, 'replac': 728, 'learn': 485, 'pass': 613, 'privat': 666, 'sale': 759, 'billion': 82, 'materi': 531, 'america': 33, 'govern': 380, 'agent': 25, 'electr': 271, 'receiv': 708, 'end': 279, 'price': 660, 'drive': 254, 'file': 337, 'financ': 339, 'octob': 583, 'strong': 852, 'book': 86, 'add': 14, 'come': 153, 'remain': 726, 'posit': 642, 'seek': 776, 'applic': 44, 'tech': 872, 'individu': 433, 'job': 460, 'request': 732, 'email': 273, 'post': 644, 'phone': 627, 'career': 109, 'com': 151, 'forward': 355, 'number': 576, 'document': 248, 'mission': 551, 'reliabl': 725, 'competit': 162, 'consist': 175, 'level': 489, 'lead': 482, 'edg': 266, 'dedic': 219, 'expans': 310, 'streamlin': 847, 'search': 770, 'process': 668, 'potenti': 645, 'onlin': 588, 'opportun': 591, 'fit': 343, 'skill': 810, 'talent': 867, 'appli': 43, 'updat': 919, 'profil': 672, 'save': 762, 'account': 6, 'quick': 693, 'easi': 260, 'note': 573, 'consid': 174, 'electron': 272, 'visit': 939, 'act': 11, 'like': 494, 'action': 12, 'equal': 292, 'obtain': 581, 'clearanc': 141, 'packag': 605, 'benefit': 78, 'grow': 386, 'free': 359, 'tailor': 866, 'handl': 391, 'collabor': 148, 'test': 879, 'avail': 68, 'necessari': 565, 'uniqu': 916, 'wide': 951, 'rang': 696, 'outsid': 598, 'tradit': 893, 'chemic': 131, 'sector': 774, 'squar': 828, 'art': 53, 'center': 118, 'deep': 220, 'consum': 180, 'logist': 506, 'trade': 892, 'april': 49, 'today': 887, 'announc': 39, 'commerc': 154, 'fulfil': 364, 'digit': 235, 'acceler': 2, 'million': 547, 'largest': 476, 'ship': 795, 'leverag': 490, 'autom': 67, 'deliv': 223, 'faster': 329, 'construct': 178, 'begin': 76, 'pandem': 607, 'past': 615, 'invest': 452, 'capac': 105, 'say': 763, 'senior': 782, 'vice': 934, 'chief': 133, 'offic': 585, 'head': 394, 'chain': 124, 'modern': 554, 'ultim': 914, 'strateg': 845, 'line': 496, 'lower': 516, 'store': 843, 'equip': 293, 'remov': 727, 'touch': 890, 'life': 492, 'minim': 549, 'season': 771, 'bring': 92, 'month': 557, 'addit': 15, 'excit': 305, 'cultur': 205, 'week': 947, 'associ': 60, 'famili': 327, 'immedi': 420, 'robust': 751, 'platform': 634, 'conveni': 188, 'look': 510, 'strength': 849, 'nationwid': 561, 'fast': 328, 'pick': 628, 'improv': 424, 'speed': 826, 'san': 760, 'texa': 880, 'statement': 835, 'press': 657, 'contain': 182, 'mean': 534, 'intend': 447, 'believ': 77, 'similar': 802, 'express': 319, 'identifi': 417, 'subject': 855, 'certain': 121, 'result': 741, 'differ': 233, 'limit': 495, 'fulli': 365, 'item': 456, 'annual': 40, 'form': 353, 'incorpor': 428, 'factor': 325, 'period': 623, 'retail': 742, 'app': 42, 'exclus': 306, 'strategi': 846, 'choic': 135, 'activ': 13, 'locat': 505, 'follow': 349, 'hire': 405, 'day': 214, 'explor': 317, 'conduct': 171, 'factori': 326, 'section': 773, 'page': 606, 'pay': 618, 'hour': 410, 'mainten': 521, 'worker': 955, 'staff': 830, 'hold': 407, 'seven': 790, 'event': 299, 'start': 833, 'rest': 740, 'decemb': 217, 'allow': 32, 'campaign': 102, 'reach': 702, 'door': 251, 'ecommerc': 263, 'return': 743, 'choos': 136, 'distributor': 243, 'passion': 614, 'flexibl': 345, 'structur': 853, 'transpar': 899, 'core': 192, 'port': 640, 'set': 789, 'segment': 777, 'cross': 204, 'kind': 467, 'destin': 229, 'combin': 152, 'sea': 768, 'land': 473, 'road': 749, 'rail': 695, 'advantag': 20, 'insur': 444, 'status': 837, 'defin': 221, 'person': 624, 'question': 692, 'germani': 375, 'fax': 330, 'mail': 518, 'info': 435, 'novemb': 575, 'abl': 1, 'entir': 288, 'acquisit': 10, 'xa': 961, 'satisfact': 761, 'depend': 227, 'happen': 392, 'damag': 211, 'smart': 812, 'type': 912, 'volum': 940, 'sell': 780, 'special': 822, 'pack': 604, 'softwar': 815, 'connect': 173, 'communic': 158, 'size': 809, 'send': 781, 'direct': 236, 'parti': 609, 'main': 519, 'reason': 707, 'owner': 602, 'pl': 630, 'involv': 454, 'enabl': 278, 'visibl': 937, 'seamless': 769, 'multipl': 559, 'key': 466, 'expens': 313, 'transit': 898, 'major': 522, 'hub': 413, 'citi': 137, 'client': 143, 'compet': 161, 'ask': 56, 'matter': 532, 'storag': 842, 'fee': 334, 'youll': 964, 'tool': 888, 'specif': 825, 'charg': 129, 'determin': 230, 'buy': 99, 'think': 884, 'ahead': 28, 'case': 113, 'payment': 619, 'readi': 704, 'establish': 296, 'flow': 347, 'check': 130, 'real': 705, 'access': 4, 'accur': 7, 'data': 212, 'big': 81, 'deal': 215, 'true': 907, 'mind': 548, 'exampl': 301, 'cover': 197, 'option': 593, 'popular': 639, 'avenu': 70, 'better': 80, 'analyt': 36, 'care': 108, 'dont': 250, 'decis': 218, 'break': 91, 'overal': 600, 'rapid': 698, 'serv': 787, 'stand': 831, 'lot': 513, 'answer': 41, 'possibl': 643, 'excel': 303, 'thing': 883, 'enter': 286, 'spend': 827, 'prevent': 658, 'fund': 367, 'simpl': 803, 'love': 514, 'money': 555, 'heavi': 400, 'suit': 859, 'quot': 694, 'plus': 636, 'tri': 904, 'januari': 457, 'easier': 261, 'gain': 370, 'read': 703, 'research': 734, 'sit': 807, 'basi': 75, 'self': 779, 'aspect': 57, 'expert': 315, 'print': 663, 'affili': 21, 'privaci': 665, 'llc': 502, 'member': 540, 'function': 366, 'turn': 910, 'valid': 924, 'st': 829, 'code': 147, 'tax': 870, 'stock': 840, 'cash': 114, 'previous': 659, 'economi': 265, 'collect': 149, 'logo': 507, 'color': 150, 'inspir': 442, 've': 929, 'hand': 390, 'celebr': 117, 'european': 298, 'perfect': 621, 'introduc': 450, 'feel': 335, 'finish': 341, 'regist': 717, 'guarante': 388, 'friday': 361, 'condit': 170, 'varieti': 927, 'enjoy': 284, 'grind': 384, 'creativ': 201, 'confid': 172, 'prepar': 653, 'track': 891, 'final': 338, 'carrier': 112, 'reput': 731, 'drop': 256, 'delay': 222, 'truli': 908, 'pride': 661, 'exceed': 302, 'extens': 321, 'coverag': 198, 'consult': 179, 'promis': 677, 'newslett': 570, 'train': 894, 'welcom': 948, 'profession': 671, 'certifi': 123, 'driver': 255, 'truck': 905, 'minut': 550, 'partnership': 612, 'globe': 377, 'intellig': 446, 'perform': 622, 'total': 889, 'higher': 403, 'optim': 592, 'profit': 673, 'capit': 106, 'enhanc': 283, 'control': 187, 'monitor': 556, 'problem': 667, 'adjust': 17, 'practic': 647, 'east': 262, 'street': 848, 'food': 350, 'premium': 652, 'proud': 681, 'trend': 903, 'strive': 851, 'respect': 737, 'hard': 393, 'simpli': 804, 'thank': 882, 'mark': 528, 'ceo': 120, 'address': 16, 'soon': 818, 'headquart': 395, 'york': 963, 'march': 527, 'exchang': 304, 'singl': 806, 'founder': 357, 'februari': 332, 'divis': 246, 'acquir': 9, 'women': 953, 'later': 478, 'pharmaceut': 626, 'subsidiari': 857, 'mexico': 542, 'independ': 430, 'talk': 868, 'agre': 26, 'health': 396, 'lose': 512, 'numer': 577, 'chicago': 132, 'natur': 562, 'sharehold': 793, 'forc': 352, 'law': 481, 'clear': 140, 'august': 64, 'firm': 342, 'leav': 486, 'floor': 346, 'board': 85, 'financi': 340, 'june': 465, 'competitor': 163, 'quarter': 691, 'approxim': 48, 'publish': 685, 'articl': 54, 'bank': 73, 'legal': 487, 'regul': 718, 'white': 950, 'age': 23, 'particular': 610, 'tell': 875, 'foundat': 356, 'los': 511, 'angel': 38, 'mobil': 552, 'clinic': 144, 'north': 572, 'california': 101, 'treatment': 902, 'engag': 281, 'consolid': 176, 'cut': 208, 'common': 157, 'array': 51, 'guid': 389, 'vendor': 931, 'standard': 832, 'transact': 895, 'educ': 267, 'web': 945, 'canada': 103, 'il': 418, 'atlanta': 62, 'dalla': 210, 'houston': 412, 'miami': 543, 'airport': 31, 'rule': 755, 'present': 655, 'covid': 199, 'border': 87, 'protect': 680, 'notic': 574, 'navig': 563, 'georgia': 374, 'lane': 474, 'francisco': 358, 'ca': 100, 'termin': 878, 'administr': 18, 'medic': 537, 'patient': 617, 'qualifi': 689, 'orient': 596, 'short': 799, 'dr': 253, 'school': 766, 'medicin': 538, 'scienc': 767, 'joint': 462, 'heart': 399, 'healthcar': 397, 'specialti': 824, 'coordin': 190, 'region': 716, 'close': 145, 'recogn': 710, 'rank': 697, 'studi': 854, 'earn': 259, 'empow': 277, 'www': 960, 'discov': 239, 'face': 322, 'credit': 202, 'card': 107, 'label': 472, 'pre': 648, 'effort': 270, 'treat': 901, 'footprint': 351, 'download': 252, 'certif': 122, 'object': 580, 'imag': 419, 'challeng': 126, 'respond': 738, 'reli': 724, 'exist': 308, 'low': 515, 'dock': 247, 'inbound': 425, 'coast': 146, 'space': 821, 'vehicl': 930, 'workforc': 956, 'interact': 448, 'seri': 786, 'solv': 817, 'revenu': 744, 'fortun': 354, 'pursu': 688, 'separ': 784, 'approv': 47, 'accord': 5, 'asset': 58, 'rd': 701, 'presenc': 654, 'pioneer': 629, 'marketplac': 530, 'cargo': 110, 'attent': 63, 'analysi': 35, 'constant': 177, 'll': 501, 'rout': 754, 'stori': 844, 'author': 66, 'kong': 471, 'hong': 409, 'india': 431, 'green': 383, 'middl': 544, 'ventur': 932, 'field': 336, 'submit': 856, 'carri': 111, 'patent': 616, 'longer': 509, 'listen': 499, 'display': 241, 'entri': 289, 'shape': 791, 'broad': 93, 'infrastructur': 437, 'leadership': 484, 'video': 935, 'district': 244, 'branch': 89, 'media': 536, 'link': 497, 'light': 493, 'station': 836, 'mile': 545, 'journey': 463, 'write': 959, 'shift': 794, 'recommend': 711, 'comprehens': 168, 'transfer': 896, 'nvocc': 578, 'broker': 94, 'rise': 747, 'claim': 138, 'room': 753, 'regular': 719, 'ltl': 517, 'truckload': 906, 'daili': 209, 'tx': 911, 'avoid': 71, 'specialist': 823, 'appropri': 46, 'reflect': 715, 'expedit': 312, 'feder': 333, 'sensit': 783, 'insight': 441, 'precis': 649, 'concern': 169, 'stay': 838, 'user': 922, 'offici': 586, 'premier': 651, 'vast': 928, 'fact': 324, 'portfolio': 641, 'friend': 362, 'dynam': 257, 'shipper': 797, 'simplifi': 805, 'prioriti': 664, 'ave': 69, 'fl': 344, 'kit': 468, 'temperatur': 876, 'ga': 369, 'manner': 525, 'blvd': 84, 'error': 294, 'vessel': 933, 'ny': 579, 'analyz': 37}\n"
     ]
    }
   ],
   "source": [
    "print(count_vectorizer.vocabulary_)"
   ]
  },
  {
   "cell_type": "code",
   "execution_count": 45,
   "id": "superb-minister",
   "metadata": {
    "colab": {
     "base_uri": "https://localhost:8080/"
    },
    "id": "superb-minister",
    "outputId": "44470708-c990-4f7a-9f5d-caa22533bc8b"
   },
   "outputs": [
    {
     "name": "stdout",
     "output_type": "stream",
     "text": [
      "0.99 f-1 score with a standard deviation of 0.00\n"
     ]
    }
   ],
   "source": [
    "crossvalidate_classifier(RandomForestClassifier(), tfidf_train, y_train)"
   ]
  },
  {
   "cell_type": "code",
   "execution_count": 46,
   "id": "binding-stadium",
   "metadata": {
    "colab": {
     "base_uri": "https://localhost:8080/"
    },
    "id": "binding-stadium",
    "outputId": "847d5509-4c44-42f3-d501-9beed83a2f3a"
   },
   "outputs": [
    {
     "name": "stdout",
     "output_type": "stream",
     "text": [
      "0.99 f-1 score with a standard deviation of 0.00\n"
     ]
    }
   ],
   "source": [
    "crossvalidate_classifier(GradientBoostingClassifier(), tfidf_train, y_train)"
   ]
  },
  {
   "cell_type": "markdown",
   "id": "5EM3VgKwVuDp",
   "metadata": {
    "id": "5EM3VgKwVuDp"
   },
   "source": [
    "References: Analytics Vidya blogs, "
   ]
  }
 ],
 "metadata": {
  "colab": {
   "name": "NLP for Solving BP-NB-1.ipynb",
   "provenance": []
  },
  "kernelspec": {
   "display_name": "Python 3 (ipykernel)",
   "language": "python",
   "name": "python3"
  },
  "language_info": {
   "codemirror_mode": {
    "name": "ipython",
    "version": 3
   },
   "file_extension": ".py",
   "mimetype": "text/x-python",
   "name": "python",
   "nbconvert_exporter": "python",
   "pygments_lexer": "ipython3",
   "version": "3.9.7"
  }
 },
 "nbformat": 4,
 "nbformat_minor": 5
}
