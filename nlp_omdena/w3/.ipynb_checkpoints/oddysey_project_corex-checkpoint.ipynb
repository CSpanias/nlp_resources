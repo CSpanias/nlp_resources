{
 "cells": [
  {
   "cell_type": "markdown",
   "id": "8171ea9f",
   "metadata": {},
   "source": [
    "# Topic Classification using CorEx\n",
    "by [CSpanias](https://cspanias.github.io/aboutme/), 3rd Week's Project for [Solving Business Problems with NLP](https://omdena.com/course/solving-business-problems-with-nlp/) by Omdena, 03/2022"
   ]
  },
  {
   "cell_type": "markdown",
   "id": "ed7390fa",
   "metadata": {},
   "source": [
    "# CONTENT\n",
    "1. [Text Pre-Processing](#textpre)\n",
    "2. [Textual Analysis](#textAnalysis)\n",
    "3. [Vectorization - BoW & tf-idf](#vectorization)\n",
    "4. [Topic Classification with Unsupervised Learning](#modelling)\n",
    "    1. [LDA](#LDA)\n",
    "    1. [NMF](#NMF)\n",
    "    3. [SVD](#SVD)\n",
    "5. [Topic Classification with Deep Learning](#nns)\n",
    "    5. [Word2Vec](#word2vec)\n",
    "    5. [Deep Learning & CorEx](#corex)\n",
    "5. [Conclusions](#conc)"
   ]
  },
  {
   "cell_type": "markdown",
   "id": "29dc5f5a",
   "metadata": {},
   "source": [
    "<a name=\"textpre\"></a>\n",
    "# 1. Text Pre-Processing\n",
    "1. [Import Text](#import)\n",
    "2. [Remove Special Characaters](#re)\n",
    "3. [Expand Contractions](#contractions)\n",
    "4. [Tokenization](#tokenization)\n",
    "5. [Lower-casing & Stopwords Removal](#lower)\n",
    "6. [POS-Tagging](#postagging)\n",
    "7. [Lemmatization](#lemma)"
   ]
  },
  {
   "cell_type": "markdown",
   "id": "7f40b77a",
   "metadata": {},
   "source": [
    "<a name=\"import\"></a>\n",
    "I chose to experiment with __Homer's Odyssey__, as it is a story I am familiar with (I am Greek!), and therefore I could use some __\"domain expertise\"__ in order to better interpret the results. \n",
    "\n",
    "You can find the __Plain Text UTF-8__ version of the text on the [Project Gutenberg website](https://www.gutenberg.org/ebooks/1727).\n",
    "\n",
    "First, we will __import the text__, we will make sure that is of __class string__, and we will __take a look at the text's first few characters__ to get a feel of it."
   ]
  },
  {
   "cell_type": "code",
   "execution_count": 1,
   "id": "ae68c992",
   "metadata": {
    "scrolled": false
   },
   "outputs": [
    {
     "name": "stdout",
     "output_type": "stream",
     "text": [
      "Variable 'raw' is of type: <class 'str'>\n",
      "\n",
      "First 1000 characters:\n",
      "\n",
      "The Project Gutenberg eBook of The Odyssey, by Homer\n",
      "\n",
      "This eBook is for the use of anyone anywhere in the United States and\n",
      "most other parts of the world at no cost and with almost no restrictions\n",
      "whatsoever. You may copy it, give it away or re-use it under the terms\n",
      "of the Project Gutenberg License included with this eBook or online at\n",
      "www.gutenberg.org. If you are not located in the United States, you\n",
      "will have to check the laws of the country where you are located before\n",
      "using this eBook.\n",
      "\n",
      "Title: The Odyssey\n",
      "\n",
      "Author: Homer\n",
      "\n",
      "Translator: Samuel Butler\n",
      "\n",
      "Release Date: April, 1999 [eBook #1727]\n",
      "[Most recently updated: January 4, 2022]\n",
      "\n",
      "Language: English\n",
      "\n",
      "\n",
      "Produced by: Jim Tinsley and David Widger\n",
      "\n",
      "*** START OF THE PROJECT GUTENBERG EBOOK THE ODYSSEY ***\n",
      "\n",
      "[Illustration]\n",
      "\n",
      "\n",
      "\n",
      "\n",
      "The Odyssey\n",
      "\n",
      "by Homer\n",
      "\n",
      "rendered into English prose for the use of those who cannot read the\n",
      "original\n",
      "\n",
      "Contents\n",
      "\n",
      " PREFACE TO FIRST EDITION\n",
      " PREFACE TO SECOND EDITION\n",
      " THE ODYSSEY\n",
      " BOOK I.\n",
      " BOOK II.\n",
      " BOOK III.\n",
      " BOOK IV.\n",
      "\n",
      "\n"
     ]
    }
   ],
   "source": [
    "# import text as string\n",
    "with open(r\"odyssey_homer.txt\", encoding=\"utf8\") as f:\n",
    "    raw = f.read()\n",
    "    \n",
    "# check dtype\n",
    "print(f\"Variable 'raw' is of type: {type(raw)}\\n\")\n",
    "\n",
    "# check text\n",
    "print(f\"First 1000 characters:\\n\\n{raw[:1000]}\\n\")"
   ]
  },
  {
   "cell_type": "markdown",
   "id": "186cc9b9",
   "metadata": {},
   "source": [
    "<a name=\"re\"></a>\n",
    "As we can see from the output above, __the text is already fairly \"clean\"__, thus, we will have to perform just a few pre-processing steps to __get it to the desired final form__. \n",
    "\n",
    "We will start by __removing special characters__, i.e. anything else than letters or numbers, using __regular expressions__. "
   ]
  },
  {
   "cell_type": "code",
   "execution_count": 2,
   "id": "ccc308e6",
   "metadata": {},
   "outputs": [
    {
     "name": "stdout",
     "output_type": "stream",
     "text": [
      "Initial text without special chars:\n",
      "\n",
      "The Project Gutenberg eBook of The Odyssey by Homer This eBook is for the use of anyone anywhere in the United States and most other parts of the world at no cost and with almost no restrictions whatsoever You may copy it give it away or re use it under the terms of the Project Gutenberg License included with this eBook or online at www gutenberg org If you are not located in the United States you will have to check the laws of the country where you are located before using this eBook Title The Odyssey Author Homer Translator Samuel Butler Release Date April 1999 eBook 1727 Most recently updated January 4 2022 Language English Produced by Jim Tinsley and David Widger START OF THE PROJECT GUTENBERG EBOOK THE ODYSSEY Illustration The Odyssey by Homer rendered into English prose for the use of those who cannot read the original Contents PREFACE TO FIRST EDITION PREFACE TO SECOND EDITION THE ODYSSEY BOOK I BOOK II BOOK III BOOK IV BOOK V BOOK VI BOOK VII BOOK VIII BOOK IX BOOK X BOOK XI BO\n"
     ]
    }
   ],
   "source": [
    "import re\n",
    "\n",
    "# remove special chars\n",
    "text = re.sub('[^\\w\\d]+', ' ', raw)\n",
    "\n",
    "# check that it worked\n",
    "print(f\"Initial text without special chars:\\n\\n{text[:1000]}\")"
   ]
  },
  {
   "cell_type": "markdown",
   "id": "f68fe2b8",
   "metadata": {},
   "source": [
    "<a name=\"contractions\"></a>\n",
    "We will then proceed to __expand any occurence of contracted word__ such as \"it's\" to \"it is\"."
   ]
  },
  {
   "cell_type": "code",
   "execution_count": 3,
   "id": "11179af9",
   "metadata": {},
   "outputs": [
    {
     "name": "stdout",
     "output_type": "stream",
     "text": [
      "Initial text without special chars:\n",
      "\n",
      "The Project Gutenberg eBook of The Odyssey by Homer This eBook is for the use of anyone anywhere in the United States and most other parts of the world at no cost and with almost no restrictions whatsoever You may copy it give it away or re use it under the terms of the Project Gutenberg License included with this eBook or online at www gutenberg org If you are not located in the United States you will have to check the laws of the country where you are located before using this eBook Title The Odyssey Author Homer Translator Samuel Butler Release Date April 1999 eBook 1727 Most recently updated January 4 2022 Language English Produced by Jim Tinsley and David Widger START OF THE PROJECT GUTENBERG EBOOK THE ODYSSEY Illustration The Odyssey by Homer rendered into English prose for the use of those who cannot read the original Contents PREFACE TO FIRST EDITION PREFACE TO SECOND EDITION THE ODYSSEY BOOK I BOOK II BOOK III BOOK IV BOOK V BOOK VI BOOK VII BOOK VIII BOOK IX BOOK X BOOK XI BO\n"
     ]
    }
   ],
   "source": [
    "import contractions\n",
    "\n",
    "expanded_words = []\n",
    "# split text on empty spaces\n",
    "for word in text.split():\n",
    "  # expand shortened words\n",
    "  expanded_words.append(contractions.fix(word))\n",
    "\n",
    "# join text back as string\n",
    "expanded_text = ' '.join(expanded_words)\n",
    "\n",
    "# check that it worked\n",
    "print(f\"Initial text without special chars:\\n\\n{expanded_text[:1000]}\")"
   ]
  },
  {
   "cell_type": "markdown",
   "id": "7eb9dfa8",
   "metadata": {},
   "source": [
    "<a name=\"tokenization\"></a>\n",
    "We can see that the text includes no characters other than letters or numbers, thus, we can perform __tokenization__, i.e. convert it from a single string to a list of tokens. "
   ]
  },
  {
   "cell_type": "code",
   "execution_count": 4,
   "id": "91f144f3",
   "metadata": {
    "scrolled": true
   },
   "outputs": [
    {
     "name": "stdout",
     "output_type": "stream",
     "text": [
      "Number of tokens: 133912.\n",
      "\n",
      "First 20 tokens:\n",
      "\n",
      "['The', 'Project', 'Gutenberg', 'eBook', 'of', 'The', 'Odyssey', 'by', 'Homer', 'This', 'eBook', 'is', 'for', 'the', 'use', 'of', 'anyone', 'anywhere', 'in', 'the']\n",
      "\n"
     ]
    }
   ],
   "source": [
    "from nltk.tokenize import word_tokenize\n",
    "\n",
    "# tokenize text\n",
    "tokens = word_tokenize(expanded_text)\n",
    "\n",
    "print(f\"Number of tokens: {len(tokens)}.\\n\")\n",
    "\n",
    "print(f\"First 20 tokens:\\n\\n{tokens[:20]}\\n\")"
   ]
  },
  {
   "cell_type": "markdown",
   "id": "504c78e4",
   "metadata": {},
   "source": [
    "<a name=\"lower\"></a>\n",
    "Next, we will __lower-case all words__, so we can __remove stopwords__ on the subsequent step. "
   ]
  },
  {
   "cell_type": "code",
   "execution_count": 5,
   "id": "80e5e1e2",
   "metadata": {},
   "outputs": [
    {
     "name": "stdout",
     "output_type": "stream",
     "text": [
      "First 20 tokens:\n",
      "\n",
      "['the', 'project', 'gutenberg', 'ebook', 'of', 'the', 'odyssey', 'by', 'homer', 'this', 'ebook', 'is', 'for', 'the', 'use', 'of', 'anyone', 'anywhere', 'in', 'the']\n"
     ]
    }
   ],
   "source": [
    "# lower case words\n",
    "tokens = [w.lower() for w in tokens]\n",
    "print(f\"First 20 tokens:\\n\\n{tokens[:20]}\")"
   ]
  },
  {
   "cell_type": "code",
   "execution_count": 6,
   "id": "6b4ba145",
   "metadata": {
    "scrolled": false
   },
   "outputs": [
    {
     "name": "stdout",
     "output_type": "stream",
     "text": [
      "Number of tokens without stopwords: 60360.\n",
      "First 20 tokens:\n",
      "\n",
      "['project', 'gutenberg', 'ebook', 'odyssey', 'homer', 'ebook', 'use', 'anyone', 'anywhere', 'united', 'states', 'parts', 'world', 'cost', 'almost', 'restrictions', 'whatsoever', 'may', 'copy', 'give']\n",
      "First 20 tokens sorted:\n",
      "\n",
      "['000', '000', '1', '1', '1', '1', '1', '1', '1', '1', '1', '1', '1', '1', '1', '1', '1', '1', '1', '1']\n"
     ]
    }
   ],
   "source": [
    "from nltk.corpus import stopwords\n",
    "\n",
    "# define stopwords list\n",
    "sw = set(stopwords.words('english'))\n",
    "\n",
    "# remove stopwords\n",
    "tokens = [token for token in tokens if token not in sw]\n",
    "\n",
    "print(f\"Number of tokens without stopwords: {len(tokens)}.\")\n",
    "\n",
    "print(f\"First 20 tokens:\\n\\n{tokens[:20]}\")\n",
    "\n",
    "print(f\"First 20 tokens sorted:\\n\\n{sorted(tokens)[:20]}\")"
   ]
  },
  {
   "cell_type": "markdown",
   "id": "db27cd1e",
   "metadata": {},
   "source": [
    "As we can see from the output above, the __sorted tokens__ gives us a lot of number that __probably represent book chapters, sections__, etc., so nothing meaningful."
   ]
  },
  {
   "cell_type": "code",
   "execution_count": 7,
   "id": "612e2a5b",
   "metadata": {},
   "outputs": [
    {
     "name": "stdout",
     "output_type": "stream",
     "text": [
      "First 20 tokens sorted:\n",
      "\n",
      "['abandoned', 'abandoned', 'abated', 'abetting', 'abhorred', 'abide', 'abide', 'abides', 'abiding', 'able', 'able', 'able', 'able', 'able', 'able', 'able', 'able', 'able', 'able', 'able']\n"
     ]
    }
   ],
   "source": [
    "tokens = [w for w in tokens if w.isalpha()]\n",
    "\n",
    "print(f\"First 20 tokens sorted:\\n\\n{sorted(tokens)[:20]}\")"
   ]
  },
  {
   "cell_type": "markdown",
   "id": "6df7976f",
   "metadata": {},
   "source": [
    "<a name=\"postagging\"></a>\n",
    "The list with the sorted tokens now seem a lot more useful!\n",
    "\n",
    "We must __tag our tokens with their respective Part-of-Speech__ for better results on the lemmatization process that will follow."
   ]
  },
  {
   "cell_type": "code",
   "execution_count": 8,
   "id": "7153f286",
   "metadata": {},
   "outputs": [
    {
     "name": "stdout",
     "output_type": "stream",
     "text": [
      "POS-tagged tokens:\n",
      "\n",
      "[('project', 'NN'), ('gutenberg', 'NN'), ('ebook', 'NN'), ('odyssey', 'JJ'), ('homer', 'NN'), ('ebook', 'NN'), ('use', 'NN'), ('anyone', 'NN'), ('anywhere', 'RB'), ('united', 'JJ'), ('states', 'NNS'), ('parts', 'NNS'), ('world', 'NN'), ('cost', 'NN'), ('almost', 'RB'), ('restrictions', 'NNS'), ('whatsoever', 'VBP'), ('may', 'MD'), ('copy', 'VB'), ('give', 'VB')]\n"
     ]
    }
   ],
   "source": [
    "from nltk import pos_tag\n",
    "\n",
    "# POS tagging\n",
    "tagged_tokens = pos_tag(tokens)\n",
    "\n",
    "print(f\"POS-tagged tokens:\\n\\n{tagged_tokens[:20]}\")"
   ]
  },
  {
   "cell_type": "code",
   "execution_count": 9,
   "id": "e1b604b1",
   "metadata": {},
   "outputs": [
    {
     "name": "stdout",
     "output_type": "stream",
     "text": [
      "WordNet-tagged tokens:\n",
      "\n",
      "[('project', 'n'), ('gutenberg', 'n'), ('ebook', 'n'), ('odyssey', 'a'), ('homer', 'n'), ('ebook', 'n'), ('use', 'n'), ('anyone', 'n'), ('anywhere', 'r'), ('united', 'a'), ('states', 'n'), ('parts', 'n'), ('world', 'n'), ('cost', 'n'), ('almost', 'r'), ('restrictions', 'n'), ('whatsoever', 'v'), ('may', 'n'), ('copy', 'v'), ('give', 'v')]\n"
     ]
    }
   ],
   "source": [
    "# convert tags to WordNet form\n",
    "from nltk.corpus import wordnet\n",
    "\n",
    "def pos_tag_wordnet(tagged_tokens):\n",
    "    \"\"\"Convert POS-tagged tokens to WordNet form tags.\"\"\"\n",
    "    tag_map = {'j': wordnet.ADJ, 'v': wordnet.VERB, 'n': wordnet.NOUN, 'r': wordnet.ADV}\n",
    "    # if a word does not belong to one of the 4 categories make it a NOUN\n",
    "    new_tagged_tokens = [(word, tag_map.get(tag[0].lower(), wordnet.NOUN)) for word, tag in tagged_tokens]\n",
    "    return new_tagged_tokens\n",
    "\n",
    "# call function\n",
    "wordnet_tokens = pos_tag_wordnet(tagged_tokens)\n",
    "print(f\"WordNet-tagged tokens:\\n\\n{wordnet_tokens[:20]}\")"
   ]
  },
  {
   "cell_type": "markdown",
   "id": "10869493",
   "metadata": {},
   "source": [
    "<a name=\"lemma\"></a>\n",
    "The final step of pre-processing would be to __lemmatize__ our tokens."
   ]
  },
  {
   "cell_type": "code",
   "execution_count": 10,
   "id": "d40f42aa",
   "metadata": {},
   "outputs": [
    {
     "name": "stdout",
     "output_type": "stream",
     "text": [
      "Lemmatized text:\n",
      "['project', 'gutenberg', 'ebook', 'odyssey', 'homer', 'ebook', 'use', 'anyone', 'anywhere', 'united', 'state', 'part', 'world', 'cost', 'almost', 'restriction', 'whatsoever', 'may', 'copy', 'give']\n"
     ]
    }
   ],
   "source": [
    "from nltk.stem import WordNetLemmatizer\n",
    "\n",
    "wnl = WordNetLemmatizer()\n",
    "\n",
    "# lemmatize tokens\n",
    "tokens = [wnl.lemmatize(word, tag) for word, tag in wordnet_tokens]\n",
    "\n",
    "# check that it worked\n",
    "print(f\"Lemmatized text:\\n{tokens[:20]}\")"
   ]
  },
  {
   "cell_type": "markdown",
   "id": "a8f908bb",
   "metadata": {},
   "source": [
    "Our text has been __successfuly pre-processed__:\n",
    "1. Special characaters removed\n",
    "1. Contractions expanded\n",
    "1. String tokenized\n",
    "1. Words lower-cased\n",
    "1. Stopwords removed\n",
    "1. Numbers removed\n",
    "1. Words POS-Tagged\n",
    "1. Words lemmatizated"
   ]
  },
  {
   "cell_type": "markdown",
   "id": "3b9cba74",
   "metadata": {},
   "source": [
    "<a name=\"textAnalysis\"></a>\n",
    "# 2. Textual Analysis"
   ]
  },
  {
   "cell_type": "markdown",
   "id": "5e5912b9",
   "metadata": {},
   "source": [
    "Prior feeding our tokens to ML models for clustering, we can also perform a __basic textual analysis__ using NLTK, to get a better feel of the text. \n",
    "\n",
    "For example, we can calculate the __lexical richness__ of the text.\n",
    "\n",
    "__Note:__ Analysis based on [NLTK book](https://www.nltk.org/book/) (Chapter 1)."
   ]
  },
  {
   "cell_type": "code",
   "execution_count": 11,
   "id": "07b174e6",
   "metadata": {
    "scrolled": true
   },
   "outputs": [
    {
     "name": "stdout",
     "output_type": "stream",
     "text": [
      "Number of tokens: 59672\n",
      "\n",
      "Number of unique tokens (vocab): 6010\n",
      "\n",
      "Lexical richness: 10.07%\n"
     ]
    }
   ],
   "source": [
    "# check length & vocab\n",
    "print(f\"Number of tokens: {len(tokens)}\\n\\nNumber of unique tokens (vocab): {len(set(tokens))}\\n\")\n",
    "\n",
    "# check lexical richness\n",
    "lexical_richness = len(set(tokens)) / len(tokens)\n",
    "print(\"Lexical richness: {:.2%}\".format(lexical_richness))"
   ]
  },
  {
   "cell_type": "markdown",
   "id": "0ef1c0d5",
   "metadata": {},
   "source": [
    "It's lexical richness is __surprising low__, considering that it is a text that is consistenly used in schools in order to __teach the Ancient Greek language__! \n",
    "\n",
    "I assume the \"problem\" lies in the translation as __Ancient Greek have a lot of words that cannot be directly translated in English__.\n",
    "\n",
    "We can find out __how much space the 10 most common words take relative to the whole text__ and also visualize it by creating a __Frequency Distribution__."
   ]
  },
  {
   "cell_type": "code",
   "execution_count": 12,
   "id": "fc908fa0",
   "metadata": {},
   "outputs": [
    {
     "name": "stdout",
     "output_type": "stream",
     "text": [
      "\n",
      "The first 10 words constitute the 9.17% of the text (5472 words).\n",
      "\n"
     ]
    },
    {
     "data": {
      "image/png": "[encoded data removed]",
      "text/plain": [
       "<Figure size 432x288 with 1 Axes>"
      ]
     },
     "metadata": {
      "needs_background": "light"
     },
     "output_type": "display_data"
    }
   ],
   "source": [
    "from nltk import FreqDist\n",
    "\n",
    "# create a FreqDist\n",
    "fdist = FreqDist(tokens)\n",
    "\n",
    "# calculate % of first 15 word tokens\n",
    "total = 0\n",
    "for i in fdist.most_common(10):\n",
    "    total += i[1]\n",
    "\n",
    "print(\"\\nThe first 10 words constitute the {:.2%} of the text ({} words).\\n\".format(total / len(tokens), total))\n",
    "\n",
    "# plot cumulative fdist\n",
    "fdist.plot(15, cumulative=True);"
   ]
  },
  {
   "cell_type": "markdown",
   "id": "5fc2dbde",
   "metadata": {},
   "source": [
    "We can see that the token __\"ulysses\" is the $3rd$ most frequent word of the text__. That makes sense as it __the name of the protagonist__ (the Latin version of 'Odysseus'). \n",
    "\n",
    "We can examine this word token a bit more, by checking __how much space takes relative to the whole text__ as well as finding out __how many times exactly appears__."
   ]
  },
  {
   "cell_type": "code",
   "execution_count": 13,
   "id": "fed506b4",
   "metadata": {
    "scrolled": false
   },
   "outputs": [
    {
     "name": "stdout",
     "output_type": "stream",
     "text": [
      "The word token \"ulysses\" constitutes 1.31% of text and it appears 655 times.\n",
      "\n",
      "The 10 most common words are:\n",
      "\n",
      "     go     say ulysses    come     one    take    make   house   would    tell \n",
      "    780     699     655     589     581     489     476     421     403     379 \n"
     ]
    },
    {
     "data": {
      "image/png": "[encoded data removed]",
      "text/plain": [
       "<Figure size 432x288 with 1 Axes>"
      ]
     },
     "metadata": {
      "needs_background": "light"
     },
     "output_type": "display_data"
    }
   ],
   "source": [
    "print(\"The word token \\\"{}\\\" constitutes {:.2%} of text and it appears {} times.\\n\"\n",
    "      .format(fdist.most_common()[2][0], fdist.most_common()[0][1] / len(tokens), fdist.most_common()[2][1]))\n",
    "\n",
    "# tabulate fdist\n",
    "print(f\"The 10 most common words are:\\n\")\n",
    "fdist.tabulate(10)\n",
    "\n",
    "# plot fdist\n",
    "fdist.plot(10);"
   ]
  },
  {
   "cell_type": "markdown",
   "id": "087caf02",
   "metadata": {},
   "source": [
    "We can also find the __hapaxes__ of the text, i.e., words that appear only once. Many times, hapaxes represent very __interesting and rarely-used words__."
   ]
  },
  {
   "cell_type": "code",
   "execution_count": 14,
   "id": "9a183142",
   "metadata": {},
   "outputs": [
    {
     "name": "stdout",
     "output_type": "stream",
     "text": [
      "There are 2448 words that appears only once in the text.\n",
      "\n",
      "The first 20 hapaxes are:\n",
      "\n",
      "['papa', 'shuddering', 'flayed', 'polypus', 'michael', 'eyed', 'patch', 'extenuate', 'phase', 'paunches', 'rushed', 'wiliness', 'incorrigible', 'creation', 'imagination', 'typical', 'aorist', 'chivalry', 'thirteenth', 'heaved']\n"
     ]
    }
   ],
   "source": [
    "# find hapaxes\n",
    "word_hapaxes = list({w for w in fdist.hapaxes()})\n",
    "\n",
    "print(f\"There are {len(word_hapaxes)} words that appears only once in the text.\\n\\n\\\n",
    "The first 20 hapaxes are:\\n\\n{word_hapaxes[:20]}\")"
   ]
  },
  {
   "cell_type": "markdown",
   "id": "f70d8ed3",
   "metadata": {},
   "source": [
    "In addition to hapaxes, __long words__ usually can give the \"tone\" of a text pretty well and are an interesting aspect to examine."
   ]
  },
  {
   "cell_type": "code",
   "execution_count": 15,
   "id": "6fcb57b7",
   "metadata": {
    "scrolled": false
   },
   "outputs": [
    {
     "name": "stdout",
     "output_type": "stream",
     "text": [
      "There are 15 hapaxes that are longer than 13 characters:\n",
      "\n",
      "['notwithstanding', 'identification', 'inextinguishable', 'simultaneously', 'discouragement', 'pyriphlegethon', 'unenforceability', 'representation', 'disrespectfully', 'merchantability', 'extraordinarily', 'straightforwardly', 'circumnavigation', 'scholasticised', 'nonproprietary'].\n",
      "\n",
      "There are 21 word tokens that are longer than 13 characters:\n",
      "\n",
      "['contemptuously', 'interpretation', 'circumnavigation', 'scholasticised', 'nonproprietary', 'notwithstanding', 'redistribution', 'pyriphlegethon', 'unenforceability', 'merchantability', 'accomplishment', 'extraordinarily', 'discouragement', 'disrespectfully', 'straightforwardly', 'laestrygonians', 'electronically', 'identification', 'inextinguishable', 'simultaneously', 'representation'].\n"
     ]
    }
   ],
   "source": [
    "# find long freq words\n",
    "long_hapaxes = [w for w in word_hapaxes if len(w) > 13]\n",
    "print(f\"There are {len(long_hapaxes)} hapaxes that are longer than 13 characters:\\n\\n{long_hapaxes}.\\n\")\n",
    "\n",
    "long_common = [w for w in set(tokens) if len(w) > 13]\n",
    "print(f\"There are {len(long_common)} word tokens that are longer than 13 characters:\\n\\n{long_common}.\")"
   ]
  },
  {
   "cell_type": "markdown",
   "id": "4936577f",
   "metadata": {},
   "source": [
    "Now \"___pyriphlegethon___\" is indeed an insteresting word and if you are curious to __find out what/who is it__ click [here](https://www.theoi.com/Khthonios/PotamosPyriphlegethon.html)!"
   ]
  },
  {
   "cell_type": "markdown",
   "id": "3c7beb0b",
   "metadata": {},
   "source": [
    "<a name=\"vectorization\"></a>\n",
    "# 3. Vectorization"
   ]
  },
  {
   "cell_type": "markdown",
   "id": "00e99847",
   "metadata": {},
   "source": [
    "I tried both __BoW and tf-idf__ methods, and they had exactly the same results, so I decided to stick with the latter (although it is more expensive)."
   ]
  },
  {
   "cell_type": "code",
   "execution_count": 16,
   "id": "c0633155",
   "metadata": {},
   "outputs": [],
   "source": [
    "from sklearn.feature_extraction.text import TfidfVectorizer\n",
    "\n",
    "# instatiate vectorizer\n",
    "tfidf = TfidfVectorizer(min_df=3, max_df=0.85)\n",
    "\n",
    "# apply cv to text\n",
    "data_tfidf = tfidf.fit_transform(tokens)"
   ]
  },
  {
   "cell_type": "code",
   "execution_count": 17,
   "id": "68edbeb2",
   "metadata": {
    "scrolled": false
   },
   "outputs": [
    {
     "data": {
      "text/html": [
       "<div>\n",
       "<style scoped>\n",
       "    .dataframe tbody tr th:only-of-type {\n",
       "        vertical-align: middle;\n",
       "    }\n",
       "\n",
       "    .dataframe tbody tr th {\n",
       "        vertical-align: top;\n",
       "    }\n",
       "\n",
       "    .dataframe thead th {\n",
       "        text-align: right;\n",
       "    }\n",
       "</style>\n",
       "<table border=\"1\" class=\"dataframe\">\n",
       "  <thead>\n",
       "    <tr style=\"text-align: right;\">\n",
       "      <th></th>\n",
       "      <th>abide</th>\n",
       "      <th>able</th>\n",
       "      <th>abode</th>\n",
       "      <th>abound</th>\n",
       "      <th>abroad</th>\n",
       "      <th>absence</th>\n",
       "      <th>absent</th>\n",
       "      <th>abundance</th>\n",
       "      <th>accept</th>\n",
       "      <th>access</th>\n",
       "      <th>...</th>\n",
       "      <th>yield</th>\n",
       "      <th>yoke</th>\n",
       "      <th>yoked</th>\n",
       "      <th>yonder</th>\n",
       "      <th>young</th>\n",
       "      <th>younger</th>\n",
       "      <th>youth</th>\n",
       "      <th>zacynthus</th>\n",
       "      <th>zeus</th>\n",
       "      <th>καὶ</th>\n",
       "    </tr>\n",
       "  </thead>\n",
       "  <tbody>\n",
       "    <tr>\n",
       "      <th>0</th>\n",
       "      <td>0.0</td>\n",
       "      <td>0.0</td>\n",
       "      <td>0.0</td>\n",
       "      <td>0.0</td>\n",
       "      <td>0.0</td>\n",
       "      <td>0.0</td>\n",
       "      <td>0.0</td>\n",
       "      <td>0.0</td>\n",
       "      <td>0.0</td>\n",
       "      <td>0.0</td>\n",
       "      <td>...</td>\n",
       "      <td>0.0</td>\n",
       "      <td>0.0</td>\n",
       "      <td>0.0</td>\n",
       "      <td>0.0</td>\n",
       "      <td>0.0</td>\n",
       "      <td>0.0</td>\n",
       "      <td>0.0</td>\n",
       "      <td>0.0</td>\n",
       "      <td>0.0</td>\n",
       "      <td>0.0</td>\n",
       "    </tr>\n",
       "    <tr>\n",
       "      <th>1</th>\n",
       "      <td>0.0</td>\n",
       "      <td>0.0</td>\n",
       "      <td>0.0</td>\n",
       "      <td>0.0</td>\n",
       "      <td>0.0</td>\n",
       "      <td>0.0</td>\n",
       "      <td>0.0</td>\n",
       "      <td>0.0</td>\n",
       "      <td>0.0</td>\n",
       "      <td>0.0</td>\n",
       "      <td>...</td>\n",
       "      <td>0.0</td>\n",
       "      <td>0.0</td>\n",
       "      <td>0.0</td>\n",
       "      <td>0.0</td>\n",
       "      <td>0.0</td>\n",
       "      <td>0.0</td>\n",
       "      <td>0.0</td>\n",
       "      <td>0.0</td>\n",
       "      <td>0.0</td>\n",
       "      <td>0.0</td>\n",
       "    </tr>\n",
       "    <tr>\n",
       "      <th>2</th>\n",
       "      <td>0.0</td>\n",
       "      <td>0.0</td>\n",
       "      <td>0.0</td>\n",
       "      <td>0.0</td>\n",
       "      <td>0.0</td>\n",
       "      <td>0.0</td>\n",
       "      <td>0.0</td>\n",
       "      <td>0.0</td>\n",
       "      <td>0.0</td>\n",
       "      <td>0.0</td>\n",
       "      <td>...</td>\n",
       "      <td>0.0</td>\n",
       "      <td>0.0</td>\n",
       "      <td>0.0</td>\n",
       "      <td>0.0</td>\n",
       "      <td>0.0</td>\n",
       "      <td>0.0</td>\n",
       "      <td>0.0</td>\n",
       "      <td>0.0</td>\n",
       "      <td>0.0</td>\n",
       "      <td>0.0</td>\n",
       "    </tr>\n",
       "    <tr>\n",
       "      <th>3</th>\n",
       "      <td>0.0</td>\n",
       "      <td>0.0</td>\n",
       "      <td>0.0</td>\n",
       "      <td>0.0</td>\n",
       "      <td>0.0</td>\n",
       "      <td>0.0</td>\n",
       "      <td>0.0</td>\n",
       "      <td>0.0</td>\n",
       "      <td>0.0</td>\n",
       "      <td>0.0</td>\n",
       "      <td>...</td>\n",
       "      <td>0.0</td>\n",
       "      <td>0.0</td>\n",
       "      <td>0.0</td>\n",
       "      <td>0.0</td>\n",
       "      <td>0.0</td>\n",
       "      <td>0.0</td>\n",
       "      <td>0.0</td>\n",
       "      <td>0.0</td>\n",
       "      <td>0.0</td>\n",
       "      <td>0.0</td>\n",
       "    </tr>\n",
       "    <tr>\n",
       "      <th>4</th>\n",
       "      <td>0.0</td>\n",
       "      <td>0.0</td>\n",
       "      <td>0.0</td>\n",
       "      <td>0.0</td>\n",
       "      <td>0.0</td>\n",
       "      <td>0.0</td>\n",
       "      <td>0.0</td>\n",
       "      <td>0.0</td>\n",
       "      <td>0.0</td>\n",
       "      <td>0.0</td>\n",
       "      <td>...</td>\n",
       "      <td>0.0</td>\n",
       "      <td>0.0</td>\n",
       "      <td>0.0</td>\n",
       "      <td>0.0</td>\n",
       "      <td>0.0</td>\n",
       "      <td>0.0</td>\n",
       "      <td>0.0</td>\n",
       "      <td>0.0</td>\n",
       "      <td>0.0</td>\n",
       "      <td>0.0</td>\n",
       "    </tr>\n",
       "  </tbody>\n",
       "</table>\n",
       "<p>5 rows × 2596 columns</p>\n",
       "</div>"
      ],
      "text/plain": [
       "   abide  able  abode  abound  abroad  absence  absent  abundance  accept  \\\n",
       "0    0.0   0.0    0.0     0.0     0.0      0.0     0.0        0.0     0.0   \n",
       "1    0.0   0.0    0.0     0.0     0.0      0.0     0.0        0.0     0.0   \n",
       "2    0.0   0.0    0.0     0.0     0.0      0.0     0.0        0.0     0.0   \n",
       "3    0.0   0.0    0.0     0.0     0.0      0.0     0.0        0.0     0.0   \n",
       "4    0.0   0.0    0.0     0.0     0.0      0.0     0.0        0.0     0.0   \n",
       "\n",
       "   access  ...  yield  yoke  yoked  yonder  young  younger  youth  zacynthus  \\\n",
       "0     0.0  ...    0.0   0.0    0.0     0.0    0.0      0.0    0.0        0.0   \n",
       "1     0.0  ...    0.0   0.0    0.0     0.0    0.0      0.0    0.0        0.0   \n",
       "2     0.0  ...    0.0   0.0    0.0     0.0    0.0      0.0    0.0        0.0   \n",
       "3     0.0  ...    0.0   0.0    0.0     0.0    0.0      0.0    0.0        0.0   \n",
       "4     0.0  ...    0.0   0.0    0.0     0.0    0.0      0.0    0.0        0.0   \n",
       "\n",
       "   zeus  καὶ  \n",
       "0   0.0  0.0  \n",
       "1   0.0  0.0  \n",
       "2   0.0  0.0  \n",
       "3   0.0  0.0  \n",
       "4   0.0  0.0  \n",
       "\n",
       "[5 rows x 2596 columns]"
      ]
     },
     "execution_count": 17,
     "metadata": {},
     "output_type": "execute_result"
    }
   ],
   "source": [
    "import pandas as pd\n",
    "\n",
    "# convert data to array\n",
    "tfidf_vectorized_array = data_tfidf.toarray()\n",
    "\n",
    "# create a BoW matrix\n",
    "tfidf_df = pd.DataFrame(tfidf_vectorized_array, columns=tfidf.get_feature_names())\n",
    "\n",
    "# check first 5 rows\n",
    "tfidf_df.head()"
   ]
  },
  {
   "cell_type": "markdown",
   "id": "60f93a47",
   "metadata": {},
   "source": [
    "<a name=\"modelling\"></a>\n",
    "# 4. Topic Classification with Unsupervised Learning\n",
    "1. [LDA](#LDA)\n",
    "2. [NMF](#NMF)\n",
    "3. [SVD](#SVD)"
   ]
  },
  {
   "cell_type": "markdown",
   "id": "8a99fe19",
   "metadata": {},
   "source": [
    "We will use three different models, although most of the __focus would be on the LDA model__. Thus, we will perform __hyperparameter optimization__ only for LDA, and we will just __compare the results with the other two models__. \n",
    "\n",
    "Most of the code in the section below comes from [this](https://www.machinelearningplus.com/nlp/topic-modeling-python-sklearn-examples/) amazing article by [Selva Prabhakaran](https://www.machinelearningplus.com/author/selva86/)."
   ]
  },
  {
   "cell_type": "markdown",
   "id": "4bce840b",
   "metadata": {},
   "source": [
    "<a name=\"LDA\"></a>\n",
    "## 4.1 Latent Dirichlet Allocation\n",
    "1. [Hyperparameter Optimization](#gs)\n",
    "1. [Setup & Training](#train)\n",
    "1. [Visualization](#vis)"
   ]
  },
  {
   "cell_type": "markdown",
   "id": "e60e923e",
   "metadata": {},
   "source": [
    "<a name=\"gs\"></a>\n",
    "### 4.1.1 Hyperparameter Optimization"
   ]
  },
  {
   "cell_type": "markdown",
   "id": "2e67b3b8",
   "metadata": {},
   "source": [
    "Instead of trying to find the best number of `n_components` parameter manually, we will use [`GridSearchCV`](https://scikit-learn.org/stable/modules/generated/sklearn.model_selection.GridSearchCV.html) and let it find the best value for us."
   ]
  },
  {
   "cell_type": "code",
   "execution_count": 18,
   "id": "4c11fccb",
   "metadata": {},
   "outputs": [
    {
     "data": {
      "text/plain": [
       "GridSearchCV(estimator=LatentDirichletAllocation(learning_method='online'),\n",
       "             param_grid={'learning_decay': [0.5, 0.7, 0.9],\n",
       "                         'n_components': [5, 10, 15, 20, 25, 30]})"
      ]
     },
     "execution_count": 18,
     "metadata": {},
     "output_type": "execute_result"
    }
   ],
   "source": [
    "from sklearn.model_selection import GridSearchCV\n",
    "from sklearn.decomposition import LatentDirichletAllocation\n",
    "\n",
    "# define hyperparameters\n",
    "search_params = {'n_components': [5, 10, 15, 20, 25, 30], 'learning_decay': [.5, .7, .9]}\n",
    "\n",
    "# instantiate LDA\n",
    "lda = LatentDirichletAllocation(learning_method=\"online\")\n",
    "\n",
    "# Init Grid Search Class\n",
    "model = GridSearchCV(lda, param_grid=search_params)\n",
    "\n",
    "# Do the Grid Search\n",
    "model.fit(data_tfidf)"
   ]
  },
  {
   "cell_type": "code",
   "execution_count": 19,
   "id": "149f89d3",
   "metadata": {},
   "outputs": [
    {
     "name": "stdout",
     "output_type": "stream",
     "text": [
      "Best Model's Params:  {'learning_decay': 0.9, 'n_components': 5}\n",
      "Best Log Likelihood Score:  -89102.87435216364\n",
      "Model Perplexity:  1217.0364072357117\n"
     ]
    }
   ],
   "source": [
    "# Best Model\n",
    "best_lda_model = model.best_estimator_\n",
    "\n",
    "# Model Parameters\n",
    "print(\"Best Model's Params: \", model.best_params_)\n",
    "\n",
    "# Log Likelihood Score\n",
    "print(\"Best Log Likelihood Score: \", model.best_score_)\n",
    "\n",
    "# Perplexity\n",
    "print(\"Model Perplexity: \", best_lda_model.perplexity(data_tfidf))"
   ]
  },
  {
   "cell_type": "code",
   "execution_count": 20,
   "id": "8898ec72",
   "metadata": {
    "scrolled": false
   },
   "outputs": [
    {
     "data": {
      "image/png": "[encoded data removed]",
      "text/plain": [
       "<Figure size 864x576 with 1 Axes>"
      ]
     },
     "metadata": {
      "needs_background": "light"
     },
     "output_type": "display_data"
    }
   ],
   "source": [
    "import seaborn as sns\n",
    "import matplotlib.pyplot as plt\n",
    "\n",
    "results = pd.DataFrame(model.cv_results_)\n",
    "\n",
    "current_palette = sns.color_palette(\"Set2\", 3)\n",
    "\n",
    "plt.figure(figsize=(12,8))\n",
    "\n",
    "sns.lineplot(data=results,\n",
    "            x='param_n_components',\n",
    "            y='mean_test_score',\n",
    "            hue='param_learning_decay',\n",
    "            palette=current_palette,\n",
    "            marker='o'\n",
    ")\n",
    "plt.title(\"Choosing the best model\")\n",
    "plt.show()"
   ]
  },
  {
   "cell_type": "markdown",
   "id": "d54b6fe8",
   "metadata": {},
   "source": [
    "<a name=\"train\"></a>\n",
    "As it shown in the graph above, we can see that $5$ seems the best value for the `n_components` parameter as well as that both $0.7$ and $0.9$ values for the `learning_decay` parameter have the exactly same result."
   ]
  },
  {
   "cell_type": "code",
   "execution_count": 21,
   "id": "a14cb6ba",
   "metadata": {
    "scrolled": true
   },
   "outputs": [],
   "source": [
    "from sklearn.decomposition import LatentDirichletAllocation\n",
    "# instantiate LDA\n",
    "lda_model = LatentDirichletAllocation(n_components=5,\n",
    "                                      evaluate_every=0,\n",
    "                                      learning_decay=.9)\n",
    "\n",
    "# train model\n",
    "lda_Z = lda_model.fit_transform(data_tfidf)"
   ]
  },
  {
   "cell_type": "code",
   "execution_count": 22,
   "id": "322bc6de",
   "metadata": {
    "scrolled": true
   },
   "outputs": [
    {
     "name": "stdout",
     "output_type": "stream",
     "text": [
      "Number of tokens: 59672\n",
      "\n",
      "Number of topics: 5\n",
      "\n",
      "Training lasted: 10 iterations.\n",
      "\n",
      "Number of features seen during training: 2596\n",
      "\n",
      "Perplexity score: 1218.27.\n"
     ]
    }
   ],
   "source": [
    "print(f\"Number of tokens: {lda_Z.shape[0]}\\n\\nNumber of topics: {lda_Z.shape[1]}\\n\")\n",
    "print(f\"Training lasted: {lda_model.n_iter_} iterations.\\n\\nNumber of features seen during training: {lda_model.n_features_in_}\")\n",
    "print(f\"\\nPerplexity score: {round(lda_model.bound_, 2)}.\")"
   ]
  },
  {
   "cell_type": "markdown",
   "id": "df201b9e",
   "metadata": {},
   "source": [
    "We can check the results in a concise, __tabulated format__."
   ]
  },
  {
   "cell_type": "code",
   "execution_count": 23,
   "id": "43e1e571",
   "metadata": {
    "scrolled": false
   },
   "outputs": [
    {
     "data": {
      "text/html": [
       "<div>\n",
       "<style scoped>\n",
       "    .dataframe tbody tr th:only-of-type {\n",
       "        vertical-align: middle;\n",
       "    }\n",
       "\n",
       "    .dataframe tbody tr th {\n",
       "        vertical-align: top;\n",
       "    }\n",
       "\n",
       "    .dataframe thead th {\n",
       "        text-align: right;\n",
       "    }\n",
       "</style>\n",
       "<table border=\"1\" class=\"dataframe\">\n",
       "  <thead>\n",
       "    <tr style=\"text-align: right;\">\n",
       "      <th></th>\n",
       "      <th>Word 0</th>\n",
       "      <th>Word 1</th>\n",
       "      <th>Word 2</th>\n",
       "      <th>Word 3</th>\n",
       "      <th>Word 4</th>\n",
       "      <th>Word 5</th>\n",
       "      <th>Word 6</th>\n",
       "      <th>Word 7</th>\n",
       "      <th>Word 8</th>\n",
       "      <th>Word 9</th>\n",
       "      <th>Word 10</th>\n",
       "      <th>Word 11</th>\n",
       "      <th>Word 12</th>\n",
       "      <th>Word 13</th>\n",
       "      <th>Word 14</th>\n",
       "      <th>Word 15</th>\n",
       "      <th>Word 16</th>\n",
       "      <th>Word 17</th>\n",
       "      <th>Word 18</th>\n",
       "      <th>Word 19</th>\n",
       "    </tr>\n",
       "  </thead>\n",
       "  <tbody>\n",
       "    <tr>\n",
       "      <th>Topic 0</th>\n",
       "      <td>say</td>\n",
       "      <td>tell</td>\n",
       "      <td>son</td>\n",
       "      <td>suitor</td>\n",
       "      <td>long</td>\n",
       "      <td>still</td>\n",
       "      <td>work</td>\n",
       "      <td>woman</td>\n",
       "      <td>till</td>\n",
       "      <td>look</td>\n",
       "      <td>two</td>\n",
       "      <td>place</td>\n",
       "      <td>send</td>\n",
       "      <td>land</td>\n",
       "      <td>wine</td>\n",
       "      <td>ithaca</td>\n",
       "      <td>side</td>\n",
       "      <td>gutenberg</td>\n",
       "      <td>lie</td>\n",
       "      <td>king</td>\n",
       "    </tr>\n",
       "    <tr>\n",
       "      <th>Topic 1</th>\n",
       "      <td>take</td>\n",
       "      <td>ship</td>\n",
       "      <td>may</td>\n",
       "      <td>home</td>\n",
       "      <td>much</td>\n",
       "      <td>back</td>\n",
       "      <td>heaven</td>\n",
       "      <td>old</td>\n",
       "      <td>find</td>\n",
       "      <td>also</td>\n",
       "      <td>kill</td>\n",
       "      <td>speak</td>\n",
       "      <td>time</td>\n",
       "      <td>though</td>\n",
       "      <td>put</td>\n",
       "      <td>water</td>\n",
       "      <td>thus</td>\n",
       "      <td>therefore</td>\n",
       "      <td>never</td>\n",
       "      <td>begin</td>\n",
       "    </tr>\n",
       "    <tr>\n",
       "      <th>Topic 2</th>\n",
       "      <td>ulysses</td>\n",
       "      <td>come</td>\n",
       "      <td>make</td>\n",
       "      <td>get</td>\n",
       "      <td>give</td>\n",
       "      <td>good</td>\n",
       "      <td>father</td>\n",
       "      <td>know</td>\n",
       "      <td>day</td>\n",
       "      <td>like</td>\n",
       "      <td>bring</td>\n",
       "      <td>must</td>\n",
       "      <td>saw</td>\n",
       "      <td>yet</td>\n",
       "      <td>mother</td>\n",
       "      <td>island</td>\n",
       "      <td>however</td>\n",
       "      <td>bed</td>\n",
       "      <td>whether</td>\n",
       "      <td>present</td>\n",
       "    </tr>\n",
       "    <tr>\n",
       "      <th>Topic 3</th>\n",
       "      <td>one</td>\n",
       "      <td>house</td>\n",
       "      <td>man</td>\n",
       "      <td>men</td>\n",
       "      <td>god</td>\n",
       "      <td>upon</td>\n",
       "      <td>hand</td>\n",
       "      <td>sea</td>\n",
       "      <td>leave</td>\n",
       "      <td>people</td>\n",
       "      <td>way</td>\n",
       "      <td>great</td>\n",
       "      <td>jove</td>\n",
       "      <td>set</td>\n",
       "      <td>minerva</td>\n",
       "      <td>answer</td>\n",
       "      <td>among</td>\n",
       "      <td>keep</td>\n",
       "      <td>hold</td>\n",
       "      <td>another</td>\n",
       "    </tr>\n",
       "    <tr>\n",
       "      <th>Topic 4</th>\n",
       "      <td>go</td>\n",
       "      <td>would</td>\n",
       "      <td>see</td>\n",
       "      <td>telemachus</td>\n",
       "      <td>could</td>\n",
       "      <td>let</td>\n",
       "      <td>shall</td>\n",
       "      <td>well</td>\n",
       "      <td>even</td>\n",
       "      <td>round</td>\n",
       "      <td>away</td>\n",
       "      <td>many</td>\n",
       "      <td>return</td>\n",
       "      <td>country</td>\n",
       "      <td>might</td>\n",
       "      <td>end</td>\n",
       "      <td>penelope</td>\n",
       "      <td>servant</td>\n",
       "      <td>every</td>\n",
       "      <td>thing</td>\n",
       "    </tr>\n",
       "  </tbody>\n",
       "</table>\n",
       "</div>"
      ],
      "text/plain": [
       "          Word 0 Word 1 Word 2      Word 3 Word 4 Word 5  Word 6 Word 7  \\\n",
       "Topic 0      say   tell    son      suitor   long  still    work  woman   \n",
       "Topic 1     take   ship    may        home   much   back  heaven    old   \n",
       "Topic 2  ulysses   come   make         get   give   good  father   know   \n",
       "Topic 3      one  house    man         men    god   upon    hand    sea   \n",
       "Topic 4       go  would    see  telemachus  could    let   shall   well   \n",
       "\n",
       "        Word 8  Word 9 Word 10 Word 11 Word 12  Word 13  Word 14 Word 15  \\\n",
       "Topic 0   till    look     two   place    send     land     wine  ithaca   \n",
       "Topic 1   find    also    kill   speak    time   though      put   water   \n",
       "Topic 2    day    like   bring    must     saw      yet   mother  island   \n",
       "Topic 3  leave  people     way   great    jove      set  minerva  answer   \n",
       "Topic 4   even   round    away    many  return  country    might     end   \n",
       "\n",
       "          Word 16    Word 17  Word 18  Word 19  \n",
       "Topic 0      side  gutenberg      lie     king  \n",
       "Topic 1      thus  therefore    never    begin  \n",
       "Topic 2   however        bed  whether  present  \n",
       "Topic 3     among       keep     hold  another  \n",
       "Topic 4  penelope    servant    every    thing  "
      ]
     },
     "execution_count": 23,
     "metadata": {},
     "output_type": "execute_result"
    }
   ],
   "source": [
    "import numpy as np\n",
    "\n",
    "# show top n keywords for each topic\n",
    "def show_topics(vectorizer=tfidf, lda_model=lda_model, n_words=10):\n",
    "    # extract full list of token names\n",
    "    keywords = np.array(tfidf.get_feature_names())\n",
    "    # create emtpy list\n",
    "    topic_keywords = []\n",
    "    # iterate and extract the weights associated with each topic\n",
    "    for topic_weights in lda_model.components_:\n",
    "        # extract key words\n",
    "        top_keyword_locs = (-topic_weights).argsort()[:n_words]\n",
    "        topic_keywords.append(keywords.take(top_keyword_locs))\n",
    "    return topic_keywords\n",
    "\n",
    "topic_keywords = show_topics(vectorizer=tfidf, lda_model=lda_model, n_words=20)     \n",
    "\n",
    "# Topic - Keywords Dataframe\n",
    "df_topic_keywords = pd.DataFrame(topic_keywords)\n",
    "df_topic_keywords.columns = ['Word '+ str(i) for i in range(df_topic_keywords.shape[1])]\n",
    "df_topic_keywords.index = ['Topic '+ str(i) for i in range(df_topic_keywords.shape[0])]\n",
    "df_topic_keywords"
   ]
  },
  {
   "cell_type": "markdown",
   "id": "f09c5ce1",
   "metadata": {},
   "source": [
    "<a name=\"vis\"></a>\n",
    "We can also __visualize our topics__ via the pyLDAvis library."
   ]
  },
  {
   "cell_type": "code",
   "execution_count": 24,
   "id": "9f7a0c5f",
   "metadata": {},
   "outputs": [
    {
     "data": {
      "text/html": [
       "\n",
       "<link rel=\"stylesheet\" type=\"text/css\" href=\"https://cdn.jsdelivr.net/gh/bmabey/pyLDAvis@3.3.1/pyLDAvis/js/ldavis.v1.0.0.css\">\n",
       "\n",
       "\n",
       "<div id=\"ldavis_el1235629139049829448868347841\"></div>\n",
       "<script type=\"text/javascript\">\n",
       "\n",
       "var ldavis_el1235629139049829448868347841_data = {\"mdsDat\": {\"x\": [150.22215270996094, 51.16336441040039, -73.1445541381836, -66.4101333618164, 54.41732406616211], \"y\": [-72.2695541381836, -159.968017578125, 21.523815155029297, -110.60643768310547, 12.44344425201416], \"topics\": [1, 2, 3, 4, 5], \"cluster\": [1, 1, 1, 1, 1], \"Freq\": [20.82448014093619, 20.322619105375665, 20.193279816457878, 19.58393746499407, 19.075683472236204]}, \"tinfo\": {\"Term\": [\"say\", \"go\", \"ulysses\", \"come\", \"one\", \"make\", \"take\", \"house\", \"tell\", \"get\", \"would\", \"give\", \"son\", \"man\", \"men\", \"see\", \"ship\", \"god\", \"may\", \"suitor\", \"telemachus\", \"good\", \"upon\", \"father\", \"hand\", \"home\", \"sea\", \"leave\", \"could\", \"know\", \"go\", \"would\", \"see\", \"telemachus\", \"could\", \"let\", \"shall\", \"well\", \"even\", \"round\", \"away\", \"many\", \"return\", \"country\", \"might\", \"end\", \"penelope\", \"servant\", \"every\", \"thing\", \"mind\", \"reach\", \"want\", \"hear\", \"daughter\", \"heart\", \"nothing\", \"project\", \"seat\", \"word\", \"one\", \"house\", \"man\", \"men\", \"god\", \"upon\", \"hand\", \"sea\", \"leave\", \"people\", \"way\", \"great\", \"jove\", \"set\", \"minerva\", \"answer\", \"among\", \"keep\", \"hold\", \"another\", \"without\", \"live\", \"wife\", \"wind\", \"stand\", \"stranger\", \"friend\", \"young\", \"foot\", \"turn\", \"take\", \"ship\", \"may\", \"home\", \"much\", \"back\", \"heaven\", \"old\", \"find\", \"also\", \"kill\", \"speak\", \"time\", \"though\", \"put\", \"water\", \"thus\", \"therefore\", \"never\", \"begin\", \"first\", \"think\", \"lay\", \"sit\", \"drink\", \"head\", \"soon\", \"eat\", \"sleep\", \"far\", \"ulysses\", \"come\", \"make\", \"get\", \"give\", \"good\", \"father\", \"know\", \"day\", \"like\", \"bring\", \"must\", \"saw\", \"yet\", \"mother\", \"island\", \"however\", \"bed\", \"whether\", \"present\", \"near\", \"eumaeus\", \"book\", \"city\", \"do\", \"child\", \"name\", \"right\", \"alcinous\", \"menelaus\", \"say\", \"tell\", \"son\", \"suitor\", \"long\", \"still\", \"work\", \"till\", \"woman\", \"look\", \"two\", \"place\", \"send\", \"wine\", \"land\", \"ithaca\", \"gutenberg\", \"side\", \"lie\", \"king\", \"ask\", \"stay\", \"ground\", \"dead\", \"draw\", \"mean\", \"death\", \"line\", \"poor\", \"close\"], \"Freq\": [699.0, 719.0, 638.0, 574.0, 547.0, 464.0, 463.0, 397.0, 379.0, 362.0, 372.0, 348.0, 341.0, 328.0, 316.0, 318.0, 287.0, 266.0, 262.0, 250.0, 260.0, 250.0, 256.0, 248.0, 253.0, 230.0, 206.0, 205.0, 208.0, 198.0, 719.0711297572539, 371.6091095582272, 318.15341413326854, 260.08946909459024, 207.5554235703438, 202.02552404033702, 200.18222419693933, 151.3347783312516, 149.49147848646507, 133.82342980226974, 132.90177987944725, 126.45023041886982, 116.31208126319815, 110.78218172167803, 109.86053179792822, 108.93888187412897, 108.01723195027847, 107.09558202637582, 107.09558202637582, 103.40898233021342, 102.48733240602765, 102.48733240602746, 101.56568248178044, 93.27083316049665, 92.34918323553211, 92.349183235532, 84.97598383256673, 82.21103405476418, 82.21103405476416, 81.28938412859705, 547.0552497628136, 396.45500652142425, 327.7436455344809, 315.5073757687651, 265.6210451811647, 255.26727845432873, 252.44352389237943, 205.38094785316693, 204.43969633222045, 185.6146659114687, 185.61466591146862, 181.84965982684835, 177.1434022208183, 167.73088700782043, 147.0233535337797, 143.25834744659474, 137.61083831511698, 133.84583222695164, 121.60956243707564, 117.84455634668258, 114.07955025562573, 101.84328045421975, 100.90202893062956, 97.13702283558895, 95.25451978763226, 88.6657591171763, 86.78325606764018, 86.78325606764015, 83.01824996729084, 80.19449539079291, 463.07765531344705, 287.00964927115444, 261.4513903239126, 229.26691608995355, 195.18923748196835, 193.2960331145599, 173.4173872542509, 161.1115588617487, 157.3251501250681, 153.5387413881066, 150.69893483518845, 149.75233265084327, 143.1261173598359, 132.71349332873663, 128.9270845893198, 127.98048240438713, 126.08727803442441, 125.1406758493926, 125.14067584939254, 121.35426710890766, 120.40766492369303, 120.4076649236931, 118.51446055314548, 103.36882558209741, 102.42222339594409, 101.47562120972685, 97.68921246418451, 97.68921246418437, 89.16979278218587, 86.32998621988101, 637.9430287279446, 573.6813555688215, 463.6575818224764, 361.423101784298, 347.7918377781962, 249.45200457826337, 247.5046811482222, 197.84793367436816, 193.9532868128543, 173.5063907871195, 171.55906735581448, 129.69161356501422, 126.7706284150842, 104.37640891992007, 101.45542376631268, 95.61345345720206, 94.63979173874579, 92.69246830157874, 91.71880658286227, 85.87683626851695, 82.95585110987251, 81.00852767015903, 81.00852767015898, 80.03486595010327, 78.08754250956933, 75.16655734762972, 68.35092529687661, 66.40360185191989, 66.40360185191962, 65.42994012908002, 698.4124764565827, 378.7728434553753, 340.81563703096435, 249.9181163697154, 177.99919889509184, 176.00145118676969, 165.0138387899861, 162.01721722689874, 162.01721722689885, 152.0284786821004, 150.0307309729022, 144.03748784477094, 137.04537086082152, 116.06901989953631, 116.06901989953633, 112.07352447627474, 97.09041663073013, 97.09041663073015, 94.09379505967661, 93.09492120248531, 88.10055191509386, 84.10505648325373, 78.11181333166294, 77.11293947255369, 74.11631789423117, 70.12082245388197, 70.12082245388186, 69.12194859327914, 63.128705424574825, 63.12870542457455], \"Total\": [699.0, 719.0, 638.0, 574.0, 547.0, 464.0, 463.0, 397.0, 379.0, 362.0, 372.0, 348.0, 341.0, 328.0, 316.0, 318.0, 287.0, 266.0, 262.0, 250.0, 260.0, 250.0, 256.0, 248.0, 253.0, 230.0, 206.0, 205.0, 208.0, 198.0, 719.8433527766247, 372.3813326300983, 318.9256372234054, 260.8616922130855, 208.32764672819067, 202.79774720351864, 200.95444736196484, 152.1070015615427, 150.263701720056, 134.5956530675888, 133.6740031468663, 127.22245370184767, 117.08430457412294, 111.55440505000904, 110.63275512933122, 109.71110520865591, 108.78945528798297, 107.86780536731271, 107.86780536731281, 104.18120568465805, 103.25955576400145, 103.2595557640014, 102.33790584334784, 94.04305655761283, 93.12140663699381, 93.12140663699384, 85.7482072721994, 82.98325751048326, 82.98325751048328, 82.06160758992259, 547.8235439627982, 397.22330074835713, 328.511939781945, 316.2756700208244, 266.3893394563459, 256.0355727354429, 253.2118181751962, 206.14924217126529, 205.2079906511904, 186.3829602497303, 186.38296024973022, 182.61795416944847, 177.91169656910142, 168.49918136842828, 147.7916479270696, 144.0266418468444, 138.37913272652202, 134.61412664631794, 122.37785688573017, 118.61285080557604, 114.84784472543599, 102.61157496510278, 101.67032344508605, 97.90531736503426, 96.02281432501783, 89.43405368501847, 87.55155064503703, 87.55155064503701, 83.78654456510235, 80.96279000517862, 463.8448771885065, 287.77687119710293, 262.2186122629525, 230.0341380496372, 195.9564594709434, 194.06325510546563, 174.18460926797877, 161.87878089243287, 158.09237216150441, 154.30596343057937, 151.4661568823882, 150.51955469965856, 143.89333942055993, 133.48071541058323, 129.6943066796955, 128.7477044969742, 126.85450013153402, 125.90789794881489, 125.90789794881489, 122.12148921794281, 121.17488703522608, 121.17488703522613, 119.28168266979446, 104.1360477464425, 103.18944556374014, 102.24284338103847, 98.45643465024199, 98.45643465024196, 89.93701500601813, 87.097208457968, 638.7048282232271, 574.4431550704955, 464.4193813392103, 362.18490132325184, 348.5536373211007, 250.21380416248053, 248.2664807335894, 198.60973329672353, 194.71508643891312, 174.26819043535494, 172.3208670064382, 130.45341328438164, 127.53242814094693, 105.13820870769838, 102.21722356418906, 96.37525327713239, 95.40159156261755, 93.45426813358245, 92.48060641906218, 86.63863613189932, 83.71765098828797, 81.77032755920129, 81.77032755920128, 80.79666584465383, 78.8493424155505, 75.92835727187233, 69.11272526983029, 67.16540184063714, 67.16540184063713, 66.19174012603328, 699.1692247132318, 379.52959175394193, 341.572385339737, 250.67486471554858, 178.75594729712375, 176.75819959101963, 165.7705872073974, 162.77396564820998, 162.7739656482101, 152.78522711752456, 150.78747941137502, 144.79423629289832, 137.80211932128267, 116.82576840594253, 116.82576840594257, 112.8302729933887, 97.84716519587631, 97.84716519587634, 94.85054363627205, 93.85166978306154, 88.85730051693375, 84.86180510393068, 78.86856198422547, 77.86968813091453, 74.8730665709296, 70.87757115748097, 70.87757115748097, 69.87869730409183, 63.885454183490474, 63.88545418349049], \"Category\": [\"Default\", \"Default\", \"Default\", \"Default\", \"Default\", \"Default\", \"Default\", \"Default\", \"Default\", \"Default\", \"Default\", \"Default\", \"Default\", \"Default\", \"Default\", \"Default\", \"Default\", \"Default\", \"Default\", \"Default\", \"Default\", \"Default\", \"Default\", \"Default\", \"Default\", \"Default\", \"Default\", \"Default\", \"Default\", \"Default\", \"Topic1\", \"Topic1\", \"Topic1\", \"Topic1\", \"Topic1\", \"Topic1\", \"Topic1\", \"Topic1\", \"Topic1\", \"Topic1\", \"Topic1\", \"Topic1\", \"Topic1\", \"Topic1\", \"Topic1\", \"Topic1\", \"Topic1\", \"Topic1\", \"Topic1\", \"Topic1\", \"Topic1\", \"Topic1\", \"Topic1\", \"Topic1\", \"Topic1\", \"Topic1\", \"Topic1\", \"Topic1\", \"Topic1\", \"Topic1\", \"Topic2\", \"Topic2\", \"Topic2\", \"Topic2\", \"Topic2\", \"Topic2\", \"Topic2\", \"Topic2\", \"Topic2\", \"Topic2\", \"Topic2\", \"Topic2\", \"Topic2\", \"Topic2\", \"Topic2\", \"Topic2\", \"Topic2\", \"Topic2\", \"Topic2\", \"Topic2\", \"Topic2\", \"Topic2\", \"Topic2\", \"Topic2\", \"Topic2\", \"Topic2\", \"Topic2\", \"Topic2\", \"Topic2\", \"Topic2\", \"Topic3\", \"Topic3\", \"Topic3\", \"Topic3\", \"Topic3\", \"Topic3\", \"Topic3\", \"Topic3\", \"Topic3\", \"Topic3\", \"Topic3\", \"Topic3\", \"Topic3\", \"Topic3\", \"Topic3\", \"Topic3\", \"Topic3\", \"Topic3\", \"Topic3\", \"Topic3\", \"Topic3\", \"Topic3\", \"Topic3\", \"Topic3\", \"Topic3\", \"Topic3\", \"Topic3\", \"Topic3\", \"Topic3\", \"Topic3\", \"Topic4\", \"Topic4\", \"Topic4\", \"Topic4\", \"Topic4\", \"Topic4\", \"Topic4\", \"Topic4\", \"Topic4\", \"Topic4\", \"Topic4\", \"Topic4\", \"Topic4\", \"Topic4\", \"Topic4\", \"Topic4\", \"Topic4\", \"Topic4\", \"Topic4\", \"Topic4\", \"Topic4\", \"Topic4\", \"Topic4\", \"Topic4\", \"Topic4\", \"Topic4\", \"Topic4\", \"Topic4\", \"Topic4\", \"Topic4\", \"Topic5\", \"Topic5\", \"Topic5\", \"Topic5\", \"Topic5\", \"Topic5\", \"Topic5\", \"Topic5\", \"Topic5\", \"Topic5\", \"Topic5\", \"Topic5\", \"Topic5\", \"Topic5\", \"Topic5\", \"Topic5\", \"Topic5\", \"Topic5\", \"Topic5\", \"Topic5\", \"Topic5\", \"Topic5\", \"Topic5\", \"Topic5\", \"Topic5\", \"Topic5\", \"Topic5\", \"Topic5\", \"Topic5\", \"Topic5\"], \"logprob\": [30.0, 29.0, 28.0, 27.0, 26.0, 25.0, 24.0, 23.0, 22.0, 21.0, 20.0, 19.0, 18.0, 17.0, 16.0, 15.0, 14.0, 13.0, 12.0, 11.0, 10.0, 9.0, 8.0, 7.0, 6.0, 5.0, 4.0, 3.0, 2.0, 1.0, -2.7662, -3.4263, -3.5816, -3.7831, -4.0087, -4.0357, -4.0449, -4.3246, -4.3369, -4.4476, -4.4545, -4.5043, -4.5878, -4.6366, -4.6449, -4.6533, -4.6618, -4.6704, -4.6704, -4.7054, -4.7144, -4.7144, -4.7234, -4.8086, -4.8185, -4.8185, -4.9017, -4.9348, -4.9348, -4.9461, -3.0152, -3.3372, -3.5275, -3.5655, -3.7377, -3.7774, -3.7885, -3.9949, -3.9995, -4.0961, -4.0961, -4.1165, -4.1428, -4.1974, -4.3291, -4.3551, -4.3953, -4.423, -4.5189, -4.5504, -4.5828, -4.6963, -4.7056, -4.7436, -4.7632, -4.8348, -4.8563, -4.8563, -4.9007, -4.9353, -3.1754, -3.6538, -3.7471, -3.8785, -4.0394, -4.0491, -4.1576, -4.2312, -4.255, -4.2794, -4.2981, -4.3044, -4.3496, -4.4251, -4.4541, -4.4615, -4.4764, -4.4839, -4.4839, -4.5146, -4.5225, -4.5225, -4.5383, -4.675, -4.6842, -4.6935, -4.7315, -4.7315, -4.8228, -4.8552, -2.8244, -2.9306, -3.1436, -3.3926, -3.4311, -3.7634, -3.7713, -3.9952, -4.0151, -4.1265, -4.1378, -4.4175, -4.4403, -4.6347, -4.6631, -4.7224, -4.7326, -4.7534, -4.764, -4.8298, -4.8644, -4.8881, -4.8881, -4.9002, -4.9249, -4.963, -5.058, -5.0869, -5.0869, -5.1017, -2.7076, -3.3195, -3.4251, -3.7353, -4.0746, -4.0859, -4.1504, -4.1687, -4.1687, -4.2323, -4.2456, -4.2863, -4.3361, -4.5022, -4.5022, -4.5372, -4.6808, -4.6808, -4.7121, -4.7228, -4.7779, -4.8243, -4.8983, -4.9111, -4.9508, -5.0062, -5.0062, -5.0205, -5.1112, -5.1112], \"loglift\": [30.0, 29.0, 28.0, 27.0, 26.0, 25.0, 24.0, 23.0, 22.0, 21.0, 20.0, 19.0, 18.0, 17.0, 16.0, 15.0, 14.0, 13.0, 12.0, 11.0, 10.0, 9.0, 8.0, 7.0, 6.0, 5.0, 4.0, 3.0, 2.0, 1.0, 1.568, 1.567, 1.5666, 1.5661, 1.5653, 1.5652, 1.5652, 1.564, 1.5639, 1.5633, 1.5632, 1.563, 1.5624, 1.5621, 1.562, 1.562, 1.5619, 1.5619, 1.5619, 1.5616, 1.5615, 1.5615, 1.5615, 1.5608, 1.5607, 1.5607, 1.56, 1.5597, 1.5597, 1.5596, 1.592, 1.5915, 1.5911, 1.591, 1.5905, 1.5904, 1.5904, 1.5897, 1.5897, 1.5893, 1.5893, 1.5892, 1.5891, 1.5889, 1.5882, 1.5881, 1.5879, 1.5877, 1.5871, 1.5869, 1.5867, 1.5859, 1.5859, 1.5856, 1.5854, 1.5848, 1.5846, 1.5846, 1.5842, 1.5839, 1.5982, 1.5972, 1.5969, 1.5965, 1.5959, 1.5959, 1.5954, 1.5951, 1.595, 1.5948, 1.5947, 1.5947, 1.5945, 1.5941, 1.5939, 1.5938, 1.5938, 1.5937, 1.5937, 1.5935, 1.5935, 1.5935, 1.5934, 1.5924, 1.5924, 1.5923, 1.592, 1.592, 1.5913, 1.591, 1.6293, 1.6291, 1.6288, 1.6284, 1.6283, 1.6274, 1.6274, 1.6266, 1.6265, 1.6261, 1.626, 1.6246, 1.6245, 1.6232, 1.623, 1.6225, 1.6224, 1.6223, 1.6222, 1.6216, 1.6213, 1.6211, 1.6211, 1.621, 1.6208, 1.6204, 1.6194, 1.6191, 1.6191, 1.6189, 1.6557, 1.6548, 1.6545, 1.6537, 1.6525, 1.6525, 1.6522, 1.6521, 1.6521, 1.6518, 1.6517, 1.6515, 1.6512, 1.6503, 1.6503, 1.65, 1.649, 1.649, 1.6487, 1.6487, 1.6482, 1.6478, 1.6471, 1.647, 1.6466, 1.646, 1.646, 1.6459, 1.6448, 1.6448]}, \"token.table\": {\"Topic\": [4, 3, 2, 2, 2, 5, 1, 3, 4, 3, 4, 4, 4, 4, 5, 4, 1, 1, 1, 4, 5, 5, 4, 5, 3, 3, 1, 4, 1, 1, 3, 4, 3, 3, 2, 2, 4, 4, 1, 2, 4, 2, 5, 5, 2, 3, 1, 1, 3, 2, 3, 2, 4, 4, 5, 2, 2, 3, 5, 4, 5, 3, 2, 1, 5, 4, 5, 2, 5, 5, 4, 2, 1, 3, 5, 2, 4, 1, 1, 2, 4, 3, 4, 4, 4, 3, 1, 3, 2, 1, 2, 5, 5, 4, 1, 3, 1, 1, 4, 1, 4, 5, 2, 1, 1, 5, 1, 2, 1, 3, 5, 3, 3, 5, 3, 3, 2, 5, 5, 2, 5, 3, 1, 5, 3, 1, 3, 3, 3, 5, 3, 2, 5, 4, 2, 1, 3, 2, 1, 4, 2, 2, 5, 2, 5, 1, 5, 1, 4, 2], \"Freq\": [0.9826487773660274, 0.998017163926934, 0.9972601885916478, 0.9948331837451525, 0.9928718615272852, 0.9903519405614807, 0.9949578591872812, 0.9945210900183665, 0.9951391397883175, 0.9908166103678825, 0.990579375401871, 0.9981379677806159, 0.987773246976117, 0.9901398673283677, 0.9861399720044675, 0.999228548435848, 0.998427252775441, 0.9950301823602528, 0.9879575848616067, 0.9963275242201767, 0.9888314933347054, 0.987618492801748, 0.9892282879028426, 0.988339377416811, 0.9884731858259146, 0.9953640952786539, 0.9935183844214905, 0.9905793754018708, 0.9915901065554056, 0.9919549177406757, 0.9874024842197153, 0.9989266342649158, 0.9930902917922665, 0.9903042035856445, 0.9906125193587474, 0.9937002755408274, 0.996728462951043, 0.9984116151380434, 0.9988284218040333, 0.9985384570676121, 0.9951489320641466, 0.9966161368291583, 0.9889872217475045, 0.9913419546270921, 0.9952142116275245, 0.9878442017070413, 0.9889087339800166, 0.9879575848616065, 0.9931991163113827, 0.9969123753647444, 0.9955044148733522, 0.9969203701141084, 0.995790515063326, 0.9961063316113595, 0.992641398701239, 0.9948755669993439, 0.9954378737089645, 0.9969223693795165, 0.9909253635547436, 0.9969299928729445, 0.992931624442022, 0.9976385085832983, 0.9941133352197589, 0.9960662915909118, 0.9910328016723481, 0.9984610476835448, 0.9874253908846069, 0.9940399027564798, 0.9957710649152991, 0.9948605821888752, 0.9990969770942785, 0.9984416402573227, 0.9903912110930312, 0.9953526858660572, 0.987618492801748, 0.9991283868885449, 0.9819956368609719, 0.9942805805695473, 0.9878020416155949, 0.9946434867046057, 0.988091795866235, 0.9951190204521672, 0.9965243279346534, 0.9838998496226855, 0.9914277218744663, 0.9927891898474552, 0.9912743683395703, 0.9945713645260473, 0.9984966984864488, 0.9927432738228796, 0.9979453043925411, 0.9945147243893625, 0.9861399720044677, 0.9926287374731171, 0.9881511338554161, 0.9946465909146635, 0.9878020416155953, 0.9907391124876478, 0.9826487773660272, 0.9955744999633108, 0.9958251548354549, 0.9983276942521156, 0.9944251933251809, 0.9881511338554158, 0.9970976393385491, 0.9941791945927003, 0.9919549177406767, 0.9970374849042334, 0.9952504292664612, 0.9973004390732609, 0.9913419546270917, 0.9890907349469549, 0.9895814308941049, 0.9983242634232047, 0.9953640952786537, 0.9965482577948409, 0.9893482155026636, 0.9898446055575271, 0.9957105266246548, 0.9951466620696051, 0.9973078085977453, 0.9981785350446738, 0.9966967468248207, 0.9986046101135501, 0.9927891898474552, 0.9886620079226823, 0.9903042035856441, 0.9963986152673473, 0.9932639352120106, 0.9952451508745405, 0.9937916555126367, 0.9881082407718776, 0.9947775543801841, 0.9988964726864712, 0.995955356029715, 0.9966981360370508, 0.9941924828881763, 0.9979453043925416, 0.9927222182399356, 0.9948031653589685, 0.9934068917814733, 0.9907531338501376, 0.9929316244420223, 0.9926176696875513, 0.9952451508745397, 0.9870632854863429, 0.9953514841180281, 0.998975962013442, 0.9891741668258512, 0.9937002755408276], \"Term\": [\"alcinous\", \"also\", \"among\", \"another\", \"answer\", \"ask\", \"away\", \"back\", \"bed\", \"begin\", \"book\", \"bring\", \"child\", \"city\", \"close\", \"come\", \"could\", \"country\", \"daughter\", \"day\", \"dead\", \"death\", \"do\", \"draw\", \"drink\", \"eat\", \"end\", \"eumaeus\", \"even\", \"every\", \"far\", \"father\", \"find\", \"first\", \"foot\", \"friend\", \"get\", \"give\", \"go\", \"god\", \"good\", \"great\", \"ground\", \"gutenberg\", \"hand\", \"head\", \"hear\", \"heart\", \"heaven\", \"hold\", \"home\", \"house\", \"however\", \"island\", \"ithaca\", \"jove\", \"keep\", \"kill\", \"king\", \"know\", \"land\", \"lay\", \"leave\", \"let\", \"lie\", \"like\", \"line\", \"live\", \"long\", \"look\", \"make\", \"man\", \"many\", \"may\", \"mean\", \"men\", \"menelaus\", \"might\", \"mind\", \"minerva\", \"mother\", \"much\", \"must\", \"name\", \"near\", \"never\", \"nothing\", \"old\", \"one\", \"penelope\", \"people\", \"place\", \"poor\", \"present\", \"project\", \"put\", \"reach\", \"return\", \"right\", \"round\", \"saw\", \"say\", \"sea\", \"seat\", \"see\", \"send\", \"servant\", \"set\", \"shall\", \"ship\", \"side\", \"sit\", \"sleep\", \"son\", \"soon\", \"speak\", \"stand\", \"stay\", \"still\", \"stranger\", \"suitor\", \"take\", \"telemachus\", \"tell\", \"therefore\", \"thing\", \"think\", \"though\", \"thus\", \"till\", \"time\", \"turn\", \"two\", \"ulysses\", \"upon\", \"want\", \"water\", \"way\", \"well\", \"whether\", \"wife\", \"wind\", \"wine\", \"without\", \"woman\", \"word\", \"work\", \"would\", \"yet\", \"young\"]}, \"R\": 30, \"lambda.step\": 0.01, \"plot.opts\": {\"xlab\": \"PC1\", \"ylab\": \"PC2\"}, \"topic.order\": [5, 4, 2, 3, 1]};\n",
       "\n",
       "function LDAvis_load_lib(url, callback){\n",
       "  var s = document.createElement('script');\n",
       "  s.src = url;\n",
       "  s.async = true;\n",
       "  s.onreadystatechange = s.onload = callback;\n",
       "  s.onerror = function(){console.warn(\"failed to load library \" + url);};\n",
       "  document.getElementsByTagName(\"head\")[0].appendChild(s);\n",
       "}\n",
       "\n",
       "if(typeof(LDAvis) !== \"undefined\"){\n",
       "   // already loaded: just create the visualization\n",
       "   !function(LDAvis){\n",
       "       new LDAvis(\"#\" + \"ldavis_el1235629139049829448868347841\", ldavis_el1235629139049829448868347841_data);\n",
       "   }(LDAvis);\n",
       "}else if(typeof define === \"function\" && define.amd){\n",
       "   // require.js is available: use it to load d3/LDAvis\n",
       "   require.config({paths: {d3: \"https://d3js.org/d3.v5\"}});\n",
       "   require([\"d3\"], function(d3){\n",
       "      window.d3 = d3;\n",
       "      LDAvis_load_lib(\"https://cdn.jsdelivr.net/gh/bmabey/pyLDAvis@3.3.1/pyLDAvis/js/ldavis.v3.0.0.js\", function(){\n",
       "        new LDAvis(\"#\" + \"ldavis_el1235629139049829448868347841\", ldavis_el1235629139049829448868347841_data);\n",
       "      });\n",
       "    });\n",
       "}else{\n",
       "    // require.js not available: dynamically load d3 & LDAvis\n",
       "    LDAvis_load_lib(\"https://d3js.org/d3.v5.js\", function(){\n",
       "         LDAvis_load_lib(\"https://cdn.jsdelivr.net/gh/bmabey/pyLDAvis@3.3.1/pyLDAvis/js/ldavis.v3.0.0.js\", function(){\n",
       "                 new LDAvis(\"#\" + \"ldavis_el1235629139049829448868347841\", ldavis_el1235629139049829448868347841_data);\n",
       "            })\n",
       "         });\n",
       "}\n",
       "</script>"
      ],
      "text/plain": [
       "PreparedData(topic_coordinates=                x           y  topics  cluster       Freq\n",
       "topic                                                    \n",
       "4      150.222153  -72.269554       1        1  20.824480\n",
       "3       51.163364 -159.968018       2        1  20.322619\n",
       "1      -73.144554   21.523815       3        1  20.193280\n",
       "2      -66.410133 -110.606438       4        1  19.583937\n",
       "0       54.417324   12.443444       5        1  19.075683, topic_info=         Term        Freq       Total Category  logprob  loglift\n",
       "1939      say  699.000000  699.000000  Default  30.0000  30.0000\n",
       "966        go  719.000000  719.000000  Default  29.0000  29.0000\n",
       "2379  ulysses  638.000000  638.000000  Default  28.0000  28.0000\n",
       "409      come  574.000000  574.000000  Default  27.0000  27.0000\n",
       "1555      one  547.000000  547.000000  Default  26.0000  26.0000\n",
       "...       ...         ...         ...      ...      ...      ...\n",
       "1384     mean   70.120822   70.877571   Topic5  -5.0062   1.6460\n",
       "537     death   70.120822   70.877571   Topic5  -5.0062   1.6460\n",
       "1308     line   69.121949   69.878697   Topic5  -5.0205   1.6459\n",
       "1692     poor   63.128705   63.885454   Topic5  -5.1112   1.6448\n",
       "397     close   63.128705   63.885454   Topic5  -5.1112   1.6448\n",
       "\n",
       "[180 rows x 6 columns], token_table=      Topic      Freq      Term\n",
       "term                           \n",
       "60        4  0.982649  alcinous\n",
       "73        3  0.998017      also\n",
       "83        2  0.997260     among\n",
       "94        2  0.994833   another\n",
       "95        2  0.992872    answer\n",
       "...     ...       ...       ...\n",
       "2545      1  0.987063      word\n",
       "2547      5  0.995351      work\n",
       "2555      1  0.998976     would\n",
       "2585      4  0.989174       yet\n",
       "2590      2  0.993700     young\n",
       "\n",
       "[150 rows x 3 columns], R=30, lambda_step=0.01, plot_opts={'xlab': 'PC1', 'ylab': 'PC2'}, topic_order=[5, 4, 2, 3, 1])"
      ]
     },
     "execution_count": 24,
     "metadata": {},
     "output_type": "execute_result"
    }
   ],
   "source": [
    "import pyLDAvis.sklearn\n",
    "import warnings\n",
    "warnings.filterwarnings(\"ignore\")\n",
    "\n",
    "pyLDAvis.enable_notebook()\n",
    "\n",
    "panel = pyLDAvis.sklearn.prepare(lda_model, data_tfidf, tfidf, mds='tsne')\n",
    "panel"
   ]
  },
  {
   "cell_type": "markdown",
   "id": "c89643b6",
   "metadata": {},
   "source": [
    "<a name=\"NMF\"></a>\n",
    "## 4.2 Non-Negative Matrix Factorization"
   ]
  },
  {
   "cell_type": "code",
   "execution_count": 25,
   "id": "724d542a",
   "metadata": {},
   "outputs": [],
   "source": [
    "from sklearn.decomposition import NMF\n",
    "\n",
    "# instantiate NMF\n",
    "nmf_model = NMF(n_components=5, init='nndsvd')\n",
    "\n",
    "# train model\n",
    "nmf_Z = nmf_model.fit_transform(data_tfidf)"
   ]
  },
  {
   "cell_type": "code",
   "execution_count": 26,
   "id": "0a80519c",
   "metadata": {},
   "outputs": [
    {
     "name": "stdout",
     "output_type": "stream",
     "text": [
      "Number of tokens: 59672\n",
      "Number of topics: 5\n"
     ]
    }
   ],
   "source": [
    "print(f\"Number of tokens: {nmf_Z.shape[0]}\\nNumber of topics: {nmf_Z.shape[1]}\")"
   ]
  },
  {
   "cell_type": "code",
   "execution_count": 27,
   "id": "12eee7d5",
   "metadata": {},
   "outputs": [
    {
     "data": {
      "text/html": [
       "<div>\n",
       "<style scoped>\n",
       "    .dataframe tbody tr th:only-of-type {\n",
       "        vertical-align: middle;\n",
       "    }\n",
       "\n",
       "    .dataframe tbody tr th {\n",
       "        vertical-align: top;\n",
       "    }\n",
       "\n",
       "    .dataframe thead th {\n",
       "        text-align: right;\n",
       "    }\n",
       "</style>\n",
       "<table border=\"1\" class=\"dataframe\">\n",
       "  <thead>\n",
       "    <tr style=\"text-align: right;\">\n",
       "      <th></th>\n",
       "      <th>Word 0</th>\n",
       "      <th>Word 1</th>\n",
       "      <th>Word 2</th>\n",
       "      <th>Word 3</th>\n",
       "      <th>Word 4</th>\n",
       "      <th>Word 5</th>\n",
       "      <th>Word 6</th>\n",
       "      <th>Word 7</th>\n",
       "      <th>Word 8</th>\n",
       "      <th>Word 9</th>\n",
       "      <th>Word 10</th>\n",
       "      <th>Word 11</th>\n",
       "      <th>Word 12</th>\n",
       "      <th>Word 13</th>\n",
       "      <th>Word 14</th>\n",
       "      <th>Word 15</th>\n",
       "      <th>Word 16</th>\n",
       "      <th>Word 17</th>\n",
       "      <th>Word 18</th>\n",
       "      <th>Word 19</th>\n",
       "    </tr>\n",
       "  </thead>\n",
       "  <tbody>\n",
       "    <tr>\n",
       "      <th>Topic 0</th>\n",
       "      <td>go</td>\n",
       "      <td>take</td>\n",
       "      <td>make</td>\n",
       "      <td>house</td>\n",
       "      <td>would</td>\n",
       "      <td>tell</td>\n",
       "      <td>get</td>\n",
       "      <td>give</td>\n",
       "      <td>man</td>\n",
       "      <td>see</td>\n",
       "      <td>son</td>\n",
       "      <td>men</td>\n",
       "      <td>ship</td>\n",
       "      <td>telemachus</td>\n",
       "      <td>upon</td>\n",
       "      <td>god</td>\n",
       "      <td>hand</td>\n",
       "      <td>may</td>\n",
       "      <td>good</td>\n",
       "      <td>suitor</td>\n",
       "    </tr>\n",
       "    <tr>\n",
       "      <th>Topic 1</th>\n",
       "      <td>say</td>\n",
       "      <td>make</td>\n",
       "      <td>house</td>\n",
       "      <td>tell</td>\n",
       "      <td>would</td>\n",
       "      <td>give</td>\n",
       "      <td>men</td>\n",
       "      <td>ship</td>\n",
       "      <td>god</td>\n",
       "      <td>suitor</td>\n",
       "      <td>father</td>\n",
       "      <td>shall</td>\n",
       "      <td>much</td>\n",
       "      <td>jove</td>\n",
       "      <td>set</td>\n",
       "      <td>old</td>\n",
       "      <td>find</td>\n",
       "      <td>even</td>\n",
       "      <td>well</td>\n",
       "      <td>kill</td>\n",
       "    </tr>\n",
       "    <tr>\n",
       "      <th>Topic 2</th>\n",
       "      <td>ulysses</td>\n",
       "      <td>make</td>\n",
       "      <td>tell</td>\n",
       "      <td>give</td>\n",
       "      <td>son</td>\n",
       "      <td>men</td>\n",
       "      <td>hand</td>\n",
       "      <td>upon</td>\n",
       "      <td>may</td>\n",
       "      <td>father</td>\n",
       "      <td>home</td>\n",
       "      <td>shall</td>\n",
       "      <td>could</td>\n",
       "      <td>back</td>\n",
       "      <td>know</td>\n",
       "      <td>way</td>\n",
       "      <td>day</td>\n",
       "      <td>long</td>\n",
       "      <td>like</td>\n",
       "      <td>still</td>\n",
       "    </tr>\n",
       "    <tr>\n",
       "      <th>Topic 3</th>\n",
       "      <td>come</td>\n",
       "      <td>make</td>\n",
       "      <td>tell</td>\n",
       "      <td>give</td>\n",
       "      <td>son</td>\n",
       "      <td>men</td>\n",
       "      <td>ship</td>\n",
       "      <td>upon</td>\n",
       "      <td>may</td>\n",
       "      <td>hand</td>\n",
       "      <td>father</td>\n",
       "      <td>home</td>\n",
       "      <td>shall</td>\n",
       "      <td>leave</td>\n",
       "      <td>back</td>\n",
       "      <td>know</td>\n",
       "      <td>way</td>\n",
       "      <td>like</td>\n",
       "      <td>long</td>\n",
       "      <td>heaven</td>\n",
       "    </tr>\n",
       "    <tr>\n",
       "      <th>Topic 4</th>\n",
       "      <td>one</td>\n",
       "      <td>make</td>\n",
       "      <td>tell</td>\n",
       "      <td>give</td>\n",
       "      <td>son</td>\n",
       "      <td>men</td>\n",
       "      <td>ship</td>\n",
       "      <td>may</td>\n",
       "      <td>upon</td>\n",
       "      <td>hand</td>\n",
       "      <td>father</td>\n",
       "      <td>home</td>\n",
       "      <td>shall</td>\n",
       "      <td>leave</td>\n",
       "      <td>back</td>\n",
       "      <td>way</td>\n",
       "      <td>know</td>\n",
       "      <td>day</td>\n",
       "      <td>great</td>\n",
       "      <td>like</td>\n",
       "    </tr>\n",
       "  </tbody>\n",
       "</table>\n",
       "</div>"
      ],
      "text/plain": [
       "          Word 0 Word 1 Word 2 Word 3 Word 4 Word 5 Word 6 Word 7 Word 8  \\\n",
       "Topic 0       go   take   make  house  would   tell    get   give    man   \n",
       "Topic 1      say   make  house   tell  would   give    men   ship    god   \n",
       "Topic 2  ulysses   make   tell   give    son    men   hand   upon    may   \n",
       "Topic 3     come   make   tell   give    son    men   ship   upon    may   \n",
       "Topic 4      one   make   tell   give    son    men   ship    may   upon   \n",
       "\n",
       "         Word 9 Word 10 Word 11 Word 12     Word 13 Word 14 Word 15 Word 16  \\\n",
       "Topic 0     see     son     men    ship  telemachus    upon     god    hand   \n",
       "Topic 1  suitor  father   shall    much        jove     set     old    find   \n",
       "Topic 2  father    home   shall   could        back    know     way     day   \n",
       "Topic 3    hand  father    home   shall       leave    back    know     way   \n",
       "Topic 4    hand  father    home   shall       leave    back     way    know   \n",
       "\n",
       "        Word 17 Word 18 Word 19  \n",
       "Topic 0     may    good  suitor  \n",
       "Topic 1    even    well    kill  \n",
       "Topic 2    long    like   still  \n",
       "Topic 3    like    long  heaven  \n",
       "Topic 4     day   great    like  "
      ]
     },
     "execution_count": 27,
     "metadata": {},
     "output_type": "execute_result"
    }
   ],
   "source": [
    "topic_keywords = show_topics(vectorizer=tfidf, lda_model=nmf_model, n_words=20)        \n",
    "\n",
    "# Topic - Keywords Dataframe\n",
    "df_topic_keywords = pd.DataFrame(topic_keywords)\n",
    "df_topic_keywords.columns = ['Word '+ str(i) for i in range(df_topic_keywords.shape[1])]\n",
    "df_topic_keywords.index = ['Topic '+ str(i) for i in range(df_topic_keywords.shape[0])]\n",
    "df_topic_keywords"
   ]
  },
  {
   "cell_type": "markdown",
   "id": "1ac39293",
   "metadata": {},
   "source": [
    "<a name=\"SVD\"></a>\n",
    "## 4.3 Singular Value Decomposition"
   ]
  },
  {
   "cell_type": "code",
   "execution_count": 28,
   "id": "1f2a1ef7",
   "metadata": {},
   "outputs": [
    {
     "name": "stdout",
     "output_type": "stream",
     "text": [
      "Number of tokens: 59672\n",
      "Number of topics: 5\n"
     ]
    }
   ],
   "source": [
    "from sklearn.decomposition import TruncatedSVD\n",
    "\n",
    "# instantiate TSVD\n",
    "lsi_model = TruncatedSVD(n_components=5)\n",
    "\n",
    "# train model\n",
    "lsi_Z = lsi_model.fit_transform(data_tfidf)\n",
    "\n",
    "print(f\"Number of tokens: {lsi_Z.shape[0]}\\nNumber of topics: {lsi_Z.shape[1]}\")"
   ]
  },
  {
   "cell_type": "code",
   "execution_count": 29,
   "id": "a3824de4",
   "metadata": {
    "scrolled": false
   },
   "outputs": [
    {
     "data": {
      "text/html": [
       "<div>\n",
       "<style scoped>\n",
       "    .dataframe tbody tr th:only-of-type {\n",
       "        vertical-align: middle;\n",
       "    }\n",
       "\n",
       "    .dataframe tbody tr th {\n",
       "        vertical-align: top;\n",
       "    }\n",
       "\n",
       "    .dataframe thead th {\n",
       "        text-align: right;\n",
       "    }\n",
       "</style>\n",
       "<table border=\"1\" class=\"dataframe\">\n",
       "  <thead>\n",
       "    <tr style=\"text-align: right;\">\n",
       "      <th></th>\n",
       "      <th>Word 0</th>\n",
       "      <th>Word 1</th>\n",
       "      <th>Word 2</th>\n",
       "      <th>Word 3</th>\n",
       "      <th>Word 4</th>\n",
       "      <th>Word 5</th>\n",
       "      <th>Word 6</th>\n",
       "      <th>Word 7</th>\n",
       "      <th>Word 8</th>\n",
       "      <th>Word 9</th>\n",
       "      <th>Word 10</th>\n",
       "      <th>Word 11</th>\n",
       "      <th>Word 12</th>\n",
       "      <th>Word 13</th>\n",
       "      <th>Word 14</th>\n",
       "      <th>Word 15</th>\n",
       "      <th>Word 16</th>\n",
       "      <th>Word 17</th>\n",
       "      <th>Word 18</th>\n",
       "      <th>Word 19</th>\n",
       "    </tr>\n",
       "  </thead>\n",
       "  <tbody>\n",
       "    <tr>\n",
       "      <th>Topic 0</th>\n",
       "      <td>go</td>\n",
       "      <td>tell</td>\n",
       "      <td>house</td>\n",
       "      <td>would</td>\n",
       "      <td>son</td>\n",
       "      <td>men</td>\n",
       "      <td>good</td>\n",
       "      <td>telemachus</td>\n",
       "      <td>come</td>\n",
       "      <td>back</td>\n",
       "      <td>upon</td>\n",
       "      <td>father</td>\n",
       "      <td>shall</td>\n",
       "      <td>much</td>\n",
       "      <td>ulysses</td>\n",
       "      <td>well</td>\n",
       "      <td>say</td>\n",
       "      <td>one</td>\n",
       "      <td>speak</td>\n",
       "      <td>kill</td>\n",
       "    </tr>\n",
       "    <tr>\n",
       "      <th>Topic 1</th>\n",
       "      <td>say</td>\n",
       "      <td>ship</td>\n",
       "      <td>see</td>\n",
       "      <td>men</td>\n",
       "      <td>give</td>\n",
       "      <td>get</td>\n",
       "      <td>upon</td>\n",
       "      <td>telemachus</td>\n",
       "      <td>suitor</td>\n",
       "      <td>way</td>\n",
       "      <td>take</td>\n",
       "      <td>day</td>\n",
       "      <td>one</td>\n",
       "      <td>god</td>\n",
       "      <td>know</td>\n",
       "      <td>son</td>\n",
       "      <td>people</td>\n",
       "      <td>jove</td>\n",
       "      <td>sea</td>\n",
       "      <td>great</td>\n",
       "    </tr>\n",
       "    <tr>\n",
       "      <th>Topic 2</th>\n",
       "      <td>ulysses</td>\n",
       "      <td>man</td>\n",
       "      <td>see</td>\n",
       "      <td>give</td>\n",
       "      <td>take</td>\n",
       "      <td>make</td>\n",
       "      <td>get</td>\n",
       "      <td>shall</td>\n",
       "      <td>upon</td>\n",
       "      <td>sea</td>\n",
       "      <td>telemachus</td>\n",
       "      <td>let</td>\n",
       "      <td>say</td>\n",
       "      <td>one</td>\n",
       "      <td>could</td>\n",
       "      <td>jove</td>\n",
       "      <td>much</td>\n",
       "      <td>day</td>\n",
       "      <td>even</td>\n",
       "      <td>way</td>\n",
       "    </tr>\n",
       "    <tr>\n",
       "      <th>Topic 3</th>\n",
       "      <td>come</td>\n",
       "      <td>make</td>\n",
       "      <td>man</td>\n",
       "      <td>may</td>\n",
       "      <td>see</td>\n",
       "      <td>get</td>\n",
       "      <td>ship</td>\n",
       "      <td>take</td>\n",
       "      <td>give</td>\n",
       "      <td>home</td>\n",
       "      <td>father</td>\n",
       "      <td>ulysses</td>\n",
       "      <td>good</td>\n",
       "      <td>much</td>\n",
       "      <td>could</td>\n",
       "      <td>like</td>\n",
       "      <td>long</td>\n",
       "      <td>find</td>\n",
       "      <td>even</td>\n",
       "      <td>place</td>\n",
       "    </tr>\n",
       "    <tr>\n",
       "      <th>Topic 4</th>\n",
       "      <td>one</td>\n",
       "      <td>come</td>\n",
       "      <td>may</td>\n",
       "      <td>make</td>\n",
       "      <td>man</td>\n",
       "      <td>father</td>\n",
       "      <td>suitor</td>\n",
       "      <td>house</td>\n",
       "      <td>back</td>\n",
       "      <td>much</td>\n",
       "      <td>leave</td>\n",
       "      <td>shall</td>\n",
       "      <td>long</td>\n",
       "      <td>speak</td>\n",
       "      <td>place</td>\n",
       "      <td>still</td>\n",
       "      <td>hand</td>\n",
       "      <td>put</td>\n",
       "      <td>time</td>\n",
       "      <td>know</td>\n",
       "    </tr>\n",
       "  </tbody>\n",
       "</table>\n",
       "</div>"
      ],
      "text/plain": [
       "          Word 0 Word 1 Word 2 Word 3 Word 4  Word 5  Word 6      Word 7  \\\n",
       "Topic 0       go   tell  house  would    son     men    good  telemachus   \n",
       "Topic 1      say   ship    see    men   give     get    upon  telemachus   \n",
       "Topic 2  ulysses    man    see   give   take    make     get       shall   \n",
       "Topic 3     come   make    man    may    see     get    ship        take   \n",
       "Topic 4      one   come    may   make    man  father  suitor       house   \n",
       "\n",
       "         Word 8 Word 9     Word 10  Word 11 Word 12 Word 13  Word 14 Word 15  \\\n",
       "Topic 0    come   back        upon   father   shall    much  ulysses    well   \n",
       "Topic 1  suitor    way        take      day     one     god     know     son   \n",
       "Topic 2    upon    sea  telemachus      let     say     one    could    jove   \n",
       "Topic 3    give   home      father  ulysses    good    much    could    like   \n",
       "Topic 4    back   much       leave    shall    long   speak    place   still   \n",
       "\n",
       "        Word 16 Word 17 Word 18 Word 19  \n",
       "Topic 0     say     one   speak    kill  \n",
       "Topic 1  people    jove     sea   great  \n",
       "Topic 2    much     day    even     way  \n",
       "Topic 3    long    find    even   place  \n",
       "Topic 4    hand     put    time    know  "
      ]
     },
     "execution_count": 29,
     "metadata": {},
     "output_type": "execute_result"
    }
   ],
   "source": [
    "topic_keywords = show_topics(vectorizer=tfidf, lda_model=lsi_model, n_words=20)        \n",
    "\n",
    "# Topic - Keywords Dataframe\n",
    "df_topic_keywords = pd.DataFrame(topic_keywords)\n",
    "df_topic_keywords.columns = ['Word '+ str(i) for i in range(df_topic_keywords.shape[1])]\n",
    "df_topic_keywords.index = ['Topic '+ str(i) for i in range(df_topic_keywords.shape[0])]\n",
    "df_topic_keywords"
   ]
  },
  {
   "cell_type": "markdown",
   "id": "cfc51e77",
   "metadata": {},
   "source": [
    "<a name=\"nns\"></a>\n",
    "# 5. Topic Classification with Deep Learning"
   ]
  },
  {
   "cell_type": "markdown",
   "id": "868aa9cc",
   "metadata": {},
   "source": [
    "<a name=\"word2vec\"></a>\n",
    "## 5.1 Word2Vec"
   ]
  },
  {
   "cell_type": "markdown",
   "id": "bec499ff",
   "metadata": {},
   "source": [
    "In our workflow, we will tokenize our normalized corpus and then focus on the following parameters in the Word2Vec model to build it.\n",
    "\n",
    "* `vector_size` The word embedding dimensionality\n",
    "* `window` The context window size\n",
    "* `min_count` The minimum word count\n",
    "* `sample` The downsample setting for frequent words\n",
    "* `sg` Training model, 1 for skip-gram otherwise CBOW\n",
    "\n",
    "More info about `gensim.models.word2vec` [here](https://radimrehurek.com/gensim/models/word2vec.html)."
   ]
  },
  {
   "cell_type": "code",
   "execution_count": 36,
   "id": "e30d862d",
   "metadata": {},
   "outputs": [
    {
     "name": "stdout",
     "output_type": "stream",
     "text": [
      "The text was tokenized in 3855 sentences.\n"
     ]
    },
    {
     "data": {
      "text/plain": [
       "['The Project Gutenberg eBook of The Odyssey, by Homer\\n\\nThis eBook is for the use of anyone anywhere in the United States and\\nmost other parts of the world at no cost and with almost no restrictions\\nwhatsoever.',\n",
       " 'You may copy it, give it away or re-use it under the terms\\nof the Project Gutenberg License included with this eBook or online at\\nwww.gutenberg.org.',\n",
       " 'If you are not located in the United States, you\\nwill have to check the laws of the country where you are located before\\nusing this eBook.',\n",
       " 'Title: The Odyssey\\n\\nAuthor: Homer\\n\\nTranslator: Samuel Butler\\n\\nRelease Date: April, 1999 [eBook #1727]\\n[Most recently updated: January 4, 2022]\\n\\nLanguage: English\\n\\n\\nProduced by: Jim Tinsley and David Widger\\n\\n*** START OF THE PROJECT GUTENBERG EBOOK THE ODYSSEY ***\\n\\n[Illustration]\\n\\n\\n\\n\\nThe Odyssey\\n\\nby Homer\\n\\nrendered into English prose for the use of those who cannot read the\\noriginal\\n\\nContents\\n\\n PREFACE TO FIRST EDITION\\n PREFACE TO SECOND EDITION\\n THE ODYSSEY\\n BOOK I.',\n",
       " 'BOOK II.']"
      ]
     },
     "execution_count": 36,
     "metadata": {},
     "output_type": "execute_result"
    }
   ],
   "source": [
    "from nltk.tokenize import sent_tokenize\n",
    "\n",
    "# tokenize the text into sents\n",
    "sent_tokenized = sent_tokenize(raw)\n",
    "\n",
    "# check the number of sents\n",
    "print(f\"The text was tokenized in {len(sent_tokenized)} sentences.\")\n",
    "\n",
    "# check the first 5 sents\n",
    "sent_tokenized[:5]"
   ]
  },
  {
   "cell_type": "code",
   "execution_count": 37,
   "id": "ea33fd71",
   "metadata": {},
   "outputs": [
    {
     "ename": "KeyboardInterrupt",
     "evalue": "",
     "output_type": "error",
     "traceback": [
      "\u001b[1;31m---------------------------------------------------------------------------\u001b[0m",
      "\u001b[1;31mKeyboardInterrupt\u001b[0m                         Traceback (most recent call last)",
      "\u001b[1;32m~\\AppData\\Local\\Temp/ipykernel_12356/3712742833.py\u001b[0m in \u001b[0;36m<module>\u001b[1;34m\u001b[0m\n\u001b[0;32m      9\u001b[0m \u001b[1;33m\u001b[0m\u001b[0m\n\u001b[0;32m     10\u001b[0m \u001b[1;31m# instantiate and train word2vec model\u001b[0m\u001b[1;33m\u001b[0m\u001b[1;33m\u001b[0m\u001b[0m\n\u001b[1;32m---> 11\u001b[1;33m w2v_model = word2vec.Word2Vec(sent_tokenized, vector_size=feature_size, \n\u001b[0m\u001b[0;32m     12\u001b[0m                               \u001b[0mwindow\u001b[0m\u001b[1;33m=\u001b[0m\u001b[0mwindow_context\u001b[0m\u001b[1;33m,\u001b[0m \u001b[0mmin_count\u001b[0m \u001b[1;33m=\u001b[0m \u001b[0mmin_word_count\u001b[0m\u001b[1;33m,\u001b[0m\u001b[1;33m\u001b[0m\u001b[1;33m\u001b[0m\u001b[0m\n\u001b[0;32m     13\u001b[0m                               sg=sg, sample=sample, epochs=5000)\n",
      "\u001b[1;32m~\\AppData\\Roaming\\Python\\Python39\\site-packages\\gensim\\models\\word2vec.py\u001b[0m in \u001b[0;36m__init__\u001b[1;34m(self, sentences, corpus_file, vector_size, alpha, window, min_count, max_vocab_size, sample, seed, workers, min_alpha, sg, hs, negative, ns_exponent, cbow_mean, hashfxn, epochs, null_word, trim_rule, sorted_vocab, batch_words, compute_loss, callbacks, comment, max_final_vocab, shrink_windows)\u001b[0m\n\u001b[0;32m    424\u001b[0m             \u001b[0mself\u001b[0m\u001b[1;33m.\u001b[0m\u001b[0m_check_corpus_sanity\u001b[0m\u001b[1;33m(\u001b[0m\u001b[0mcorpus_iterable\u001b[0m\u001b[1;33m=\u001b[0m\u001b[0mcorpus_iterable\u001b[0m\u001b[1;33m,\u001b[0m \u001b[0mcorpus_file\u001b[0m\u001b[1;33m=\u001b[0m\u001b[0mcorpus_file\u001b[0m\u001b[1;33m,\u001b[0m \u001b[0mpasses\u001b[0m\u001b[1;33m=\u001b[0m\u001b[1;33m(\u001b[0m\u001b[0mepochs\u001b[0m \u001b[1;33m+\u001b[0m \u001b[1;36m1\u001b[0m\u001b[1;33m)\u001b[0m\u001b[1;33m)\u001b[0m\u001b[1;33m\u001b[0m\u001b[1;33m\u001b[0m\u001b[0m\n\u001b[0;32m    425\u001b[0m             \u001b[0mself\u001b[0m\u001b[1;33m.\u001b[0m\u001b[0mbuild_vocab\u001b[0m\u001b[1;33m(\u001b[0m\u001b[0mcorpus_iterable\u001b[0m\u001b[1;33m=\u001b[0m\u001b[0mcorpus_iterable\u001b[0m\u001b[1;33m,\u001b[0m \u001b[0mcorpus_file\u001b[0m\u001b[1;33m=\u001b[0m\u001b[0mcorpus_file\u001b[0m\u001b[1;33m,\u001b[0m \u001b[0mtrim_rule\u001b[0m\u001b[1;33m=\u001b[0m\u001b[0mtrim_rule\u001b[0m\u001b[1;33m)\u001b[0m\u001b[1;33m\u001b[0m\u001b[1;33m\u001b[0m\u001b[0m\n\u001b[1;32m--> 426\u001b[1;33m             self.train(\n\u001b[0m\u001b[0;32m    427\u001b[0m                 \u001b[0mcorpus_iterable\u001b[0m\u001b[1;33m=\u001b[0m\u001b[0mcorpus_iterable\u001b[0m\u001b[1;33m,\u001b[0m \u001b[0mcorpus_file\u001b[0m\u001b[1;33m=\u001b[0m\u001b[0mcorpus_file\u001b[0m\u001b[1;33m,\u001b[0m \u001b[0mtotal_examples\u001b[0m\u001b[1;33m=\u001b[0m\u001b[0mself\u001b[0m\u001b[1;33m.\u001b[0m\u001b[0mcorpus_count\u001b[0m\u001b[1;33m,\u001b[0m\u001b[1;33m\u001b[0m\u001b[1;33m\u001b[0m\u001b[0m\n\u001b[0;32m    428\u001b[0m                 \u001b[0mtotal_words\u001b[0m\u001b[1;33m=\u001b[0m\u001b[0mself\u001b[0m\u001b[1;33m.\u001b[0m\u001b[0mcorpus_total_words\u001b[0m\u001b[1;33m,\u001b[0m \u001b[0mepochs\u001b[0m\u001b[1;33m=\u001b[0m\u001b[0mself\u001b[0m\u001b[1;33m.\u001b[0m\u001b[0mepochs\u001b[0m\u001b[1;33m,\u001b[0m \u001b[0mstart_alpha\u001b[0m\u001b[1;33m=\u001b[0m\u001b[0mself\u001b[0m\u001b[1;33m.\u001b[0m\u001b[0malpha\u001b[0m\u001b[1;33m,\u001b[0m\u001b[1;33m\u001b[0m\u001b[1;33m\u001b[0m\u001b[0m\n",
      "\u001b[1;32m~\\AppData\\Roaming\\Python\\Python39\\site-packages\\gensim\\models\\word2vec.py\u001b[0m in \u001b[0;36mtrain\u001b[1;34m(self, corpus_iterable, corpus_file, total_examples, total_words, epochs, start_alpha, end_alpha, word_count, queue_factor, report_delay, compute_loss, callbacks, **kwargs)\u001b[0m\n\u001b[0;32m   1067\u001b[0m \u001b[1;33m\u001b[0m\u001b[0m\n\u001b[0;32m   1068\u001b[0m             \u001b[1;32mif\u001b[0m \u001b[0mcorpus_iterable\u001b[0m \u001b[1;32mis\u001b[0m \u001b[1;32mnot\u001b[0m \u001b[1;32mNone\u001b[0m\u001b[1;33m:\u001b[0m\u001b[1;33m\u001b[0m\u001b[1;33m\u001b[0m\u001b[0m\n\u001b[1;32m-> 1069\u001b[1;33m                 trained_word_count_epoch, raw_word_count_epoch, job_tally_epoch = self._train_epoch(\n\u001b[0m\u001b[0;32m   1070\u001b[0m                     \u001b[0mcorpus_iterable\u001b[0m\u001b[1;33m,\u001b[0m \u001b[0mcur_epoch\u001b[0m\u001b[1;33m=\u001b[0m\u001b[0mcur_epoch\u001b[0m\u001b[1;33m,\u001b[0m \u001b[0mtotal_examples\u001b[0m\u001b[1;33m=\u001b[0m\u001b[0mtotal_examples\u001b[0m\u001b[1;33m,\u001b[0m\u001b[1;33m\u001b[0m\u001b[1;33m\u001b[0m\u001b[0m\n\u001b[0;32m   1071\u001b[0m                     \u001b[0mtotal_words\u001b[0m\u001b[1;33m=\u001b[0m\u001b[0mtotal_words\u001b[0m\u001b[1;33m,\u001b[0m \u001b[0mqueue_factor\u001b[0m\u001b[1;33m=\u001b[0m\u001b[0mqueue_factor\u001b[0m\u001b[1;33m,\u001b[0m \u001b[0mreport_delay\u001b[0m\u001b[1;33m=\u001b[0m\u001b[0mreport_delay\u001b[0m\u001b[1;33m,\u001b[0m\u001b[1;33m\u001b[0m\u001b[1;33m\u001b[0m\u001b[0m\n",
      "\u001b[1;32m~\\AppData\\Roaming\\Python\\Python39\\site-packages\\gensim\\models\\word2vec.py\u001b[0m in \u001b[0;36m_train_epoch\u001b[1;34m(self, data_iterable, cur_epoch, total_examples, total_words, queue_factor, report_delay, callbacks)\u001b[0m\n\u001b[0;32m   1428\u001b[0m             \u001b[0mthread\u001b[0m\u001b[1;33m.\u001b[0m\u001b[0mstart\u001b[0m\u001b[1;33m(\u001b[0m\u001b[1;33m)\u001b[0m\u001b[1;33m\u001b[0m\u001b[1;33m\u001b[0m\u001b[0m\n\u001b[0;32m   1429\u001b[0m \u001b[1;33m\u001b[0m\u001b[0m\n\u001b[1;32m-> 1430\u001b[1;33m         trained_word_count, raw_word_count, job_tally = self._log_epoch_progress(\n\u001b[0m\u001b[0;32m   1431\u001b[0m             \u001b[0mprogress_queue\u001b[0m\u001b[1;33m,\u001b[0m \u001b[0mjob_queue\u001b[0m\u001b[1;33m,\u001b[0m \u001b[0mcur_epoch\u001b[0m\u001b[1;33m=\u001b[0m\u001b[0mcur_epoch\u001b[0m\u001b[1;33m,\u001b[0m \u001b[0mtotal_examples\u001b[0m\u001b[1;33m=\u001b[0m\u001b[0mtotal_examples\u001b[0m\u001b[1;33m,\u001b[0m\u001b[1;33m\u001b[0m\u001b[1;33m\u001b[0m\u001b[0m\n\u001b[0;32m   1432\u001b[0m             \u001b[0mtotal_words\u001b[0m\u001b[1;33m=\u001b[0m\u001b[0mtotal_words\u001b[0m\u001b[1;33m,\u001b[0m \u001b[0mreport_delay\u001b[0m\u001b[1;33m=\u001b[0m\u001b[0mreport_delay\u001b[0m\u001b[1;33m,\u001b[0m \u001b[0mis_corpus_file_mode\u001b[0m\u001b[1;33m=\u001b[0m\u001b[1;32mFalse\u001b[0m\u001b[1;33m,\u001b[0m\u001b[1;33m\u001b[0m\u001b[1;33m\u001b[0m\u001b[0m\n",
      "\u001b[1;32m~\\AppData\\Roaming\\Python\\Python39\\site-packages\\gensim\\models\\word2vec.py\u001b[0m in \u001b[0;36m_log_epoch_progress\u001b[1;34m(self, progress_queue, job_queue, cur_epoch, total_examples, total_words, report_delay, is_corpus_file_mode)\u001b[0m\n\u001b[0;32m   1283\u001b[0m \u001b[1;33m\u001b[0m\u001b[0m\n\u001b[0;32m   1284\u001b[0m         \u001b[1;32mwhile\u001b[0m \u001b[0munfinished_worker_count\u001b[0m \u001b[1;33m>\u001b[0m \u001b[1;36m0\u001b[0m\u001b[1;33m:\u001b[0m\u001b[1;33m\u001b[0m\u001b[1;33m\u001b[0m\u001b[0m\n\u001b[1;32m-> 1285\u001b[1;33m             \u001b[0mreport\u001b[0m \u001b[1;33m=\u001b[0m \u001b[0mprogress_queue\u001b[0m\u001b[1;33m.\u001b[0m\u001b[0mget\u001b[0m\u001b[1;33m(\u001b[0m\u001b[1;33m)\u001b[0m  \u001b[1;31m# blocks if workers too slow\u001b[0m\u001b[1;33m\u001b[0m\u001b[1;33m\u001b[0m\u001b[0m\n\u001b[0m\u001b[0;32m   1286\u001b[0m             \u001b[1;32mif\u001b[0m \u001b[0mreport\u001b[0m \u001b[1;32mis\u001b[0m \u001b[1;32mNone\u001b[0m\u001b[1;33m:\u001b[0m  \u001b[1;31m# a thread reporting that it finished\u001b[0m\u001b[1;33m\u001b[0m\u001b[1;33m\u001b[0m\u001b[0m\n\u001b[0;32m   1287\u001b[0m                 \u001b[0munfinished_worker_count\u001b[0m \u001b[1;33m-=\u001b[0m \u001b[1;36m1\u001b[0m\u001b[1;33m\u001b[0m\u001b[1;33m\u001b[0m\u001b[0m\n",
      "\u001b[1;32mC:\\ProgramData\\Anaconda3\\lib\\queue.py\u001b[0m in \u001b[0;36mget\u001b[1;34m(self, block, timeout)\u001b[0m\n\u001b[0;32m    169\u001b[0m             \u001b[1;32melif\u001b[0m \u001b[0mtimeout\u001b[0m \u001b[1;32mis\u001b[0m \u001b[1;32mNone\u001b[0m\u001b[1;33m:\u001b[0m\u001b[1;33m\u001b[0m\u001b[1;33m\u001b[0m\u001b[0m\n\u001b[0;32m    170\u001b[0m                 \u001b[1;32mwhile\u001b[0m \u001b[1;32mnot\u001b[0m \u001b[0mself\u001b[0m\u001b[1;33m.\u001b[0m\u001b[0m_qsize\u001b[0m\u001b[1;33m(\u001b[0m\u001b[1;33m)\u001b[0m\u001b[1;33m:\u001b[0m\u001b[1;33m\u001b[0m\u001b[1;33m\u001b[0m\u001b[0m\n\u001b[1;32m--> 171\u001b[1;33m                     \u001b[0mself\u001b[0m\u001b[1;33m.\u001b[0m\u001b[0mnot_empty\u001b[0m\u001b[1;33m.\u001b[0m\u001b[0mwait\u001b[0m\u001b[1;33m(\u001b[0m\u001b[1;33m)\u001b[0m\u001b[1;33m\u001b[0m\u001b[1;33m\u001b[0m\u001b[0m\n\u001b[0m\u001b[0;32m    172\u001b[0m             \u001b[1;32melif\u001b[0m \u001b[0mtimeout\u001b[0m \u001b[1;33m<\u001b[0m \u001b[1;36m0\u001b[0m\u001b[1;33m:\u001b[0m\u001b[1;33m\u001b[0m\u001b[1;33m\u001b[0m\u001b[0m\n\u001b[0;32m    173\u001b[0m                 \u001b[1;32mraise\u001b[0m \u001b[0mValueError\u001b[0m\u001b[1;33m(\u001b[0m\u001b[1;34m\"'timeout' must be a non-negative number\"\u001b[0m\u001b[1;33m)\u001b[0m\u001b[1;33m\u001b[0m\u001b[1;33m\u001b[0m\u001b[0m\n",
      "\u001b[1;32mC:\\ProgramData\\Anaconda3\\lib\\threading.py\u001b[0m in \u001b[0;36mwait\u001b[1;34m(self, timeout)\u001b[0m\n\u001b[0;32m    310\u001b[0m         \u001b[1;32mtry\u001b[0m\u001b[1;33m:\u001b[0m    \u001b[1;31m# restore state no matter what (e.g., KeyboardInterrupt)\u001b[0m\u001b[1;33m\u001b[0m\u001b[1;33m\u001b[0m\u001b[0m\n\u001b[0;32m    311\u001b[0m             \u001b[1;32mif\u001b[0m \u001b[0mtimeout\u001b[0m \u001b[1;32mis\u001b[0m \u001b[1;32mNone\u001b[0m\u001b[1;33m:\u001b[0m\u001b[1;33m\u001b[0m\u001b[1;33m\u001b[0m\u001b[0m\n\u001b[1;32m--> 312\u001b[1;33m                 \u001b[0mwaiter\u001b[0m\u001b[1;33m.\u001b[0m\u001b[0macquire\u001b[0m\u001b[1;33m(\u001b[0m\u001b[1;33m)\u001b[0m\u001b[1;33m\u001b[0m\u001b[1;33m\u001b[0m\u001b[0m\n\u001b[0m\u001b[0;32m    313\u001b[0m                 \u001b[0mgotit\u001b[0m \u001b[1;33m=\u001b[0m \u001b[1;32mTrue\u001b[0m\u001b[1;33m\u001b[0m\u001b[1;33m\u001b[0m\u001b[0m\n\u001b[0;32m    314\u001b[0m             \u001b[1;32melse\u001b[0m\u001b[1;33m:\u001b[0m\u001b[1;33m\u001b[0m\u001b[1;33m\u001b[0m\u001b[0m\n",
      "\u001b[1;31mKeyboardInterrupt\u001b[0m: "
     ]
    }
   ],
   "source": [
    "from gensim.models import word2vec\n",
    "\n",
    "# Set values for various parameters\n",
    "feature_size = 15    # Word vector dimensionality  \n",
    "window_context = 20  # Context window size                                                                                    \n",
    "min_word_count = 1   # Minimum word count                        \n",
    "sample = 1e-3        # Downsample setting for frequent words\n",
    "sg = 1               # skip-gram model\n",
    "\n",
    "# instantiate and train word2vec model\n",
    "w2v_model = word2vec.Word2Vec(sent_tokenized, vector_size=feature_size, \n",
    "                              window=window_context, min_count = min_word_count,\n",
    "                              sg=sg, sample=sample, epochs=5000)"
   ]
  },
  {
   "cell_type": "markdown",
   "id": "71c856cb",
   "metadata": {},
   "source": [
    "We can __visualize the results with__ `matplotlib` using __t-distributed stochastic neighbor embedding__ (t-SNE), and see how the tokens are clustering.\n",
    "\n",
    "Click [here](https://www.youtube.com/watch?v=NEaUSP4YerM&t=79s) for a brief t-SNE introduction."
   ]
  },
  {
   "cell_type": "code",
   "execution_count": null,
   "id": "2124b120",
   "metadata": {},
   "outputs": [],
   "source": [
    "import matplotlib.pyplot as plt\n",
    "from sklearn.manifold import TSNE\n",
    "%matplotlib inline\n",
    "\n",
    "# extract labels\n",
    "words = w2v_model.wv.index_to_key\n",
    "wvs = w2v_model.wv[words]\n",
    "\n",
    "# instantiate TSNE\n",
    "tsne = TSNE(n_components=2, random_state=42, n_iter=5000, perplexity=5)\n",
    "np.set_printoptions(suppress=True)\n",
    "\n",
    "# fit TSNE\n",
    "T = tsne.fit_transform(wvs)\n",
    "labels = words\n",
    "\n",
    "# plot visualization\n",
    "plt.figure(figsize=(12, 6))\n",
    "plt.scatter(T[:, 0], T[:, 1], c='orange', edgecolors='r')\n",
    "for label, x, y in zip(labels, T[:, 0], T[:, 1]):\n",
    "    plt.annotate(label, xy=(x+1, y+1), xytext=(0, 0), textcoords='offset points')"
   ]
  },
  {
   "cell_type": "markdown",
   "id": "9c6595b7",
   "metadata": {},
   "source": [
    "We can __visualize the vector reprentation__ of each word via a pandas DataFrame. "
   ]
  },
  {
   "cell_type": "code",
   "execution_count": null,
   "id": "e035b267",
   "metadata": {},
   "outputs": [],
   "source": [
    "# create a pandas DataFrame to visualize the vector reprentation of each word\n",
    "vec_df = pd.DataFrame(wvs, index=words)\n",
    "\n",
    "# show the dataframe\n",
    "vec_df"
   ]
  },
  {
   "cell_type": "markdown",
   "id": "2cb96e28",
   "metadata": {},
   "source": [
    "In addition, we can __visualize the similarity between each word__."
   ]
  },
  {
   "cell_type": "code",
   "execution_count": null,
   "id": "39fff9f2",
   "metadata": {},
   "outputs": [],
   "source": [
    "from sklearn.metrics.pairwise import cosine_similarity\n",
    "\n",
    "# create a similarity matrix\n",
    "similarity_matrix = cosine_similarity(vec_df.values)\n",
    "\n",
    "# create a pandas DataFrame for the similarity matrix\n",
    "similarity_df = pd.DataFrame(similarity_matrix, index=words, columns=words)\n",
    "\n",
    "# show the dataframe\n",
    "similarity_df"
   ]
  },
  {
   "cell_type": "code",
   "execution_count": null,
   "id": "cf1bdb64",
   "metadata": {},
   "outputs": [],
   "source": [
    "# assign feature names to a variable\n",
    "feature_names = np.array(words)\n",
    "\n",
    "# create a df with each feature (word) and the three most similar words to it\n",
    "similarity_df.apply(lambda row: feature_names[np.argsort(-row.values)[1:4]], axis=1)"
   ]
  },
  {
   "cell_type": "markdown",
   "id": "76daa077",
   "metadata": {},
   "source": [
    "<a name=\"corex\"></a>\n",
    "# 5. Deep Learning & CorEx"
   ]
  },
  {
   "cell_type": "markdown",
   "id": "9848ea0c",
   "metadata": {},
   "source": [
    "<a name=\"conc\"></a>\n",
    "# 6. Conclusions"
   ]
  },
  {
   "cell_type": "markdown",
   "id": "95a9a0b0",
   "metadata": {},
   "source": [
    "I could infer __some sort of a relationships with some of the topics only from the LDA model__. The results from the other two models include a lot of __overlapping words__, so I couldn't relate any particular characteristic to any of the 5 topics.\n",
    "\n",
    "1. __Topic 0__ seems to be centered around __Penelope__ (the wife of Odysseus) as it contains words such as \"wife\", \"bed\", \"lay\", \"woman\", \"mother\", and \"men\", among others.\n",
    "2. __Topic 1__ hints a relation with __Telemachus__ (the son of Odysseus and Penelope). The words \"away\", \"father\", \"penelope\", and \"kill\" could be related with him travelling away to find his father and being involved in the Trojan war.\n",
    "3. __Topic 4__ must be related with __Odysseus__ as it has words like \"Ulysseus\", \"return\", \"old\", \"home\", \"son\", \"ship\", and \"sea\" which hint towards the return of him back to Ithaca by sea and the return to his old home.\n",
    "\n",
    "For __Topics 2 and 3__ I couldn't infer any kind of relationship."
   ]
  }
 ],
 "metadata": {
  "kernelspec": {
   "display_name": "Python 3 (ipykernel)",
   "language": "python",
   "name": "python3"
  },
  "language_info": {
   "codemirror_mode": {
    "name": "ipython",
    "version": 3
   },
   "file_extension": ".py",
   "mimetype": "text/x-python",
   "name": "python",
   "nbconvert_exporter": "python",
   "pygments_lexer": "ipython3",
   "version": "3.9.7"
  }
 },
 "nbformat": 4,
 "nbformat_minor": 5
}
