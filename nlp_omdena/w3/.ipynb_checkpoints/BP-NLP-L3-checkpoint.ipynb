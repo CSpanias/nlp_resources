{
 "cells": [
  {
   "cell_type": "markdown",
   "metadata": {
    "id": "VEisHFshSbxi"
   },
   "source": [
    "# Word To Vector Embeddings - a deep learning approach"
   ]
  },
  {
   "cell_type": "code",
   "execution_count": null,
   "metadata": {
    "id": "K0SyJ7ApSZC5"
   },
   "outputs": [],
   "source": [
    "import pandas as pd\n",
    "import matplotlib.pyplot as plt\n",
    "%matplotlib notebook\n",
    "import numpy as np\n",
    "import seaborn as sns\n",
    "import warnings\n",
    "warnings.filterwarnings('ignore')\n",
    "import re  # For preprocessing\n",
    "import pandas as pd  # For data handling\n",
    "from time import time  # To time our operations\n",
    "from collections import defaultdict  # For word frequency\n",
    "\n",
    "import spacy  # For preprocessing\n",
    "from gensim.models import Word2Vec\n",
    "import logging  # Setting up the loggings to monitor gensim\n",
    "logging.basicConfig(format=\"%(levelname)s - %(asctime)s: %(message)s\", datefmt= '%H:%M:%S', level=logging.INFO)\n",
    "from sklearn.manifold import TSNE\n",
    "from numpy import dot\n",
    "from numpy.linalg import norm\n",
    "import gensim.downloader as gensim_api"
   ]
  },
  {
   "cell_type": "code",
   "execution_count": null,
   "metadata": {
    "colab": {
     "base_uri": "https://localhost:8080/",
     "height": 424
    },
    "executionInfo": {
     "elapsed": 216,
     "status": "ok",
     "timestamp": 1645703786249,
     "user": {
      "displayName": "Juber Rahman",
      "photoUrl": "https://lh3.googleusercontent.com/a-/AOh14GjmsuwipSoBjFH5fDR08Oc-IhSG1Q5DeBFv_W7VCA=s64",
      "userId": "09880750030221834662"
     },
     "user_tz": 360
    },
    "id": "XIIYZT12YZlK",
    "outputId": "57785682-3e1b-428a-fdc2-f90f14743db4"
   },
   "outputs": [
    {
     "data": {
      "text/html": [
       "\n",
       "  <div id=\"df-fddab1e2-0eff-4dc5-b61f-d6f61ece2099\">\n",
       "    <div class=\"colab-df-container\">\n",
       "      <div>\n",
       "<style scoped>\n",
       "    .dataframe tbody tr th:only-of-type {\n",
       "        vertical-align: middle;\n",
       "    }\n",
       "\n",
       "    .dataframe tbody tr th {\n",
       "        vertical-align: top;\n",
       "    }\n",
       "\n",
       "    .dataframe thead th {\n",
       "        text-align: right;\n",
       "    }\n",
       "</style>\n",
       "<table border=\"1\" class=\"dataframe\">\n",
       "  <thead>\n",
       "    <tr style=\"text-align: right;\">\n",
       "      <th></th>\n",
       "      <th>Unnamed: 0</th>\n",
       "      <th>clean</th>\n",
       "    </tr>\n",
       "  </thead>\n",
       "  <tbody>\n",
       "    <tr>\n",
       "      <th>0</th>\n",
       "      <td>0</td>\n",
       "      <td>premium unleaded (required),MANUAL,rear wheel ...</td>\n",
       "    </tr>\n",
       "    <tr>\n",
       "      <th>1</th>\n",
       "      <td>1</td>\n",
       "      <td>premium unleaded (required),MANUAL,rear wheel ...</td>\n",
       "    </tr>\n",
       "    <tr>\n",
       "      <th>2</th>\n",
       "      <td>2</td>\n",
       "      <td>premium unleaded (required),MANUAL,rear wheel ...</td>\n",
       "    </tr>\n",
       "    <tr>\n",
       "      <th>3</th>\n",
       "      <td>3</td>\n",
       "      <td>premium unleaded (required),MANUAL,rear wheel ...</td>\n",
       "    </tr>\n",
       "    <tr>\n",
       "      <th>4</th>\n",
       "      <td>4</td>\n",
       "      <td>premium unleaded (required),MANUAL,rear wheel ...</td>\n",
       "    </tr>\n",
       "    <tr>\n",
       "      <th>...</th>\n",
       "      <td>...</td>\n",
       "      <td>...</td>\n",
       "    </tr>\n",
       "    <tr>\n",
       "      <th>11909</th>\n",
       "      <td>11909</td>\n",
       "      <td>premium unleaded (required),AUTOMATIC,all whee...</td>\n",
       "    </tr>\n",
       "    <tr>\n",
       "      <th>11910</th>\n",
       "      <td>11910</td>\n",
       "      <td>premium unleaded (required),AUTOMATIC,all whee...</td>\n",
       "    </tr>\n",
       "    <tr>\n",
       "      <th>11911</th>\n",
       "      <td>11911</td>\n",
       "      <td>premium unleaded (required),AUTOMATIC,all whee...</td>\n",
       "    </tr>\n",
       "    <tr>\n",
       "      <th>11912</th>\n",
       "      <td>11912</td>\n",
       "      <td>premium unleaded (recommended),AUTOMATIC,all w...</td>\n",
       "    </tr>\n",
       "    <tr>\n",
       "      <th>11913</th>\n",
       "      <td>11913</td>\n",
       "      <td>regular unleaded,AUTOMATIC,front wheel drive,L...</td>\n",
       "    </tr>\n",
       "  </tbody>\n",
       "</table>\n",
       "<p>11914 rows × 2 columns</p>\n",
       "</div>\n",
       "      <button class=\"colab-df-convert\" onclick=\"convertToInteractive('df-fddab1e2-0eff-4dc5-b61f-d6f61ece2099')\"\n",
       "              title=\"Convert this dataframe to an interactive table.\"\n",
       "              style=\"display:none;\">\n",
       "        \n",
       "  <svg xmlns=\"http://www.w3.org/2000/svg\" height=\"24px\"viewBox=\"0 0 24 24\"\n",
       "       width=\"24px\">\n",
       "    <path d=\"M0 0h24v24H0V0z\" fill=\"none\"/>\n",
       "    <path d=\"M18.56 5.44l.94 2.06.94-2.06 2.06-.94-2.06-.94-.94-2.06-.94 2.06-2.06.94zm-11 1L8.5 8.5l.94-2.06 2.06-.94-2.06-.94L8.5 2.5l-.94 2.06-2.06.94zm10 10l.94 2.06.94-2.06 2.06-.94-2.06-.94-.94-2.06-.94 2.06-2.06.94z\"/><path d=\"M17.41 7.96l-1.37-1.37c-.4-.4-.92-.59-1.43-.59-.52 0-1.04.2-1.43.59L10.3 9.45l-7.72 7.72c-.78.78-.78 2.05 0 2.83L4 21.41c.39.39.9.59 1.41.59.51 0 1.02-.2 1.41-.59l7.78-7.78 2.81-2.81c.8-.78.8-2.07 0-2.86zM5.41 20L4 18.59l7.72-7.72 1.47 1.35L5.41 20z\"/>\n",
       "  </svg>\n",
       "      </button>\n",
       "      \n",
       "  <style>\n",
       "    .colab-df-container {\n",
       "      display:flex;\n",
       "      flex-wrap:wrap;\n",
       "      gap: 12px;\n",
       "    }\n",
       "\n",
       "    .colab-df-convert {\n",
       "      background-color: #E8F0FE;\n",
       "      border: none;\n",
       "      border-radius: 50%;\n",
       "      cursor: pointer;\n",
       "      display: none;\n",
       "      fill: #1967D2;\n",
       "      height: 32px;\n",
       "      padding: 0 0 0 0;\n",
       "      width: 32px;\n",
       "    }\n",
       "\n",
       "    .colab-df-convert:hover {\n",
       "      background-color: #E2EBFA;\n",
       "      box-shadow: 0px 1px 2px rgba(60, 64, 67, 0.3), 0px 1px 3px 1px rgba(60, 64, 67, 0.15);\n",
       "      fill: #174EA6;\n",
       "    }\n",
       "\n",
       "    [theme=dark] .colab-df-convert {\n",
       "      background-color: #3B4455;\n",
       "      fill: #D2E3FC;\n",
       "    }\n",
       "\n",
       "    [theme=dark] .colab-df-convert:hover {\n",
       "      background-color: #434B5C;\n",
       "      box-shadow: 0px 1px 3px 1px rgba(0, 0, 0, 0.15);\n",
       "      filter: drop-shadow(0px 1px 2px rgba(0, 0, 0, 0.3));\n",
       "      fill: #FFFFFF;\n",
       "    }\n",
       "  </style>\n",
       "\n",
       "      <script>\n",
       "        const buttonEl =\n",
       "          document.querySelector('#df-fddab1e2-0eff-4dc5-b61f-d6f61ece2099 button.colab-df-convert');\n",
       "        buttonEl.style.display =\n",
       "          google.colab.kernel.accessAllowed ? 'block' : 'none';\n",
       "\n",
       "        async function convertToInteractive(key) {\n",
       "          const element = document.querySelector('#df-fddab1e2-0eff-4dc5-b61f-d6f61ece2099');\n",
       "          const dataTable =\n",
       "            await google.colab.kernel.invokeFunction('convertToInteractive',\n",
       "                                                     [key], {});\n",
       "          if (!dataTable) return;\n",
       "\n",
       "          const docLinkHtml = 'Like what you see? Visit the ' +\n",
       "            '<a target=\"_blank\" href=https://colab.research.google.com/notebooks/data_table.ipynb>data table notebook</a>'\n",
       "            + ' to learn more about interactive tables.';\n",
       "          element.innerHTML = '';\n",
       "          dataTable['output_type'] = 'display_data';\n",
       "          await google.colab.output.renderOutput(dataTable, element);\n",
       "          const docLink = document.createElement('div');\n",
       "          docLink.innerHTML = docLinkHtml;\n",
       "          element.appendChild(docLink);\n",
       "        }\n",
       "      </script>\n",
       "    </div>\n",
       "  </div>\n",
       "  "
      ],
      "text/plain": [
       "       Unnamed: 0                                              clean\n",
       "0               0  premium unleaded (required),MANUAL,rear wheel ...\n",
       "1               1  premium unleaded (required),MANUAL,rear wheel ...\n",
       "2               2  premium unleaded (required),MANUAL,rear wheel ...\n",
       "3               3  premium unleaded (required),MANUAL,rear wheel ...\n",
       "4               4  premium unleaded (required),MANUAL,rear wheel ...\n",
       "...           ...                                                ...\n",
       "11909       11909  premium unleaded (required),AUTOMATIC,all whee...\n",
       "11910       11910  premium unleaded (required),AUTOMATIC,all whee...\n",
       "11911       11911  premium unleaded (required),AUTOMATIC,all whee...\n",
       "11912       11912  premium unleaded (recommended),AUTOMATIC,all w...\n",
       "11913       11913  regular unleaded,AUTOMATIC,front wheel drive,L...\n",
       "\n",
       "[11914 rows x 2 columns]"
      ]
     },
     "execution_count": 50,
     "metadata": {},
     "output_type": "execute_result"
    }
   ],
   "source": [
    "df1 = pd.read_csv('car_data.csv')\n",
    "df1"
   ]
  },
  {
   "cell_type": "code",
   "execution_count": null,
   "metadata": {
    "id": "fdNitmLilKEl"
   },
   "outputs": [],
   "source": [
    "sent = [row.split(',') for row in df1['clean']]"
   ]
  },
  {
   "cell_type": "code",
   "execution_count": null,
   "metadata": {
    "colab": {
     "base_uri": "https://localhost:8080/"
    },
    "executionInfo": {
     "elapsed": 985,
     "status": "ok",
     "timestamp": 1645703712009,
     "user": {
      "displayName": "Juber Rahman",
      "photoUrl": "https://lh3.googleusercontent.com/a-/AOh14GjmsuwipSoBjFH5fDR08Oc-IhSG1Q5DeBFv_W7VCA=s64",
      "userId": "09880750030221834662"
     },
     "user_tz": 360
    },
    "id": "6gCDllZVYcwQ",
    "outputId": "4c7c3962-8e0d-4f48-87c3-ad0056d1bd01"
   },
   "outputs": [
    {
     "name": "stderr",
     "output_type": "stream",
     "text": [
      "WARNING - 11:55:10: consider setting layer size to a multiple of 4 for greater performance\n",
      "INFO - 11:55:10: collecting all words and their counts\n",
      "INFO - 11:55:10: PROGRESS: at sentence #0, processed 0 words, keeping 0 word types\n",
      "INFO - 11:55:10: PROGRESS: at sentence #10000, processed 74060 words, keeping 841 word types\n",
      "INFO - 11:55:10: collected 977 word types from a corpus of 88129 raw words and 11914 sentences\n",
      "INFO - 11:55:10: Loading a fresh vocabulary\n",
      "INFO - 11:55:10: effective_min_count=1 retains 977 unique words (100% of original 977, drops 0)\n",
      "INFO - 11:55:10: effective_min_count=1 leaves 88129 word corpus (100% of original 88129, drops 0)\n",
      "INFO - 11:55:10: deleting the raw counts dictionary of 977 items\n",
      "INFO - 11:55:10: sample=0.001 downsamples 35 most-common words\n",
      "INFO - 11:55:10: downsampling leaves estimated 29996 word corpus (34.0% of prior 88129)\n",
      "INFO - 11:55:10: estimated required memory for 977 words and 50 dimensions: 879300 bytes\n",
      "INFO - 11:55:10: resetting layer weights\n",
      "INFO - 11:55:11: training model with 3 workers on 977 vocabulary and 50 features, using sg=1 hs=0 sample=0.001 negative=5 window=3\n",
      "INFO - 11:55:11: worker thread finished; awaiting finish of 2 more threads\n",
      "INFO - 11:55:11: worker thread finished; awaiting finish of 1 more threads\n",
      "INFO - 11:55:11: worker thread finished; awaiting finish of 0 more threads\n",
      "INFO - 11:55:11: EPOCH - 1 : training on 88129 raw words (30123 effective words) took 0.1s, 348192 effective words/s\n",
      "INFO - 11:55:11: worker thread finished; awaiting finish of 2 more threads\n",
      "INFO - 11:55:11: worker thread finished; awaiting finish of 1 more threads\n",
      "INFO - 11:55:11: worker thread finished; awaiting finish of 0 more threads\n",
      "INFO - 11:55:11: EPOCH - 2 : training on 88129 raw words (30231 effective words) took 0.1s, 328506 effective words/s\n",
      "INFO - 11:55:11: worker thread finished; awaiting finish of 2 more threads\n",
      "INFO - 11:55:11: worker thread finished; awaiting finish of 1 more threads\n",
      "INFO - 11:55:11: worker thread finished; awaiting finish of 0 more threads\n",
      "INFO - 11:55:11: EPOCH - 3 : training on 88129 raw words (30000 effective words) took 0.1s, 326723 effective words/s\n",
      "INFO - 11:55:11: worker thread finished; awaiting finish of 2 more threads\n",
      "INFO - 11:55:11: worker thread finished; awaiting finish of 1 more threads\n",
      "INFO - 11:55:11: worker thread finished; awaiting finish of 0 more threads\n",
      "INFO - 11:55:11: EPOCH - 4 : training on 88129 raw words (29847 effective words) took 0.1s, 353307 effective words/s\n",
      "INFO - 11:55:11: worker thread finished; awaiting finish of 2 more threads\n",
      "INFO - 11:55:11: worker thread finished; awaiting finish of 1 more threads\n",
      "INFO - 11:55:11: worker thread finished; awaiting finish of 0 more threads\n",
      "INFO - 11:55:11: EPOCH - 5 : training on 88129 raw words (30024 effective words) took 0.1s, 377011 effective words/s\n",
      "INFO - 11:55:11: training on a 440645 raw words (150225 effective words) took 0.5s, 304158 effective words/s\n"
     ]
    }
   ],
   "source": [
    "## Train the genisim word2vec model with our own custom corpus\n",
    "model = Word2Vec(sent, min_count=1,size= 50,workers=3, window =3, sg = 1)"
   ]
  },
  {
   "cell_type": "code",
   "execution_count": null,
   "metadata": {
    "colab": {
     "base_uri": "https://localhost:8080/"
    },
    "executionInfo": {
     "elapsed": 192,
     "status": "ok",
     "timestamp": 1645700984584,
     "user": {
      "displayName": "Juber Rahman",
      "photoUrl": "https://lh3.googleusercontent.com/a-/AOh14GjmsuwipSoBjFH5fDR08Oc-IhSG1Q5DeBFv_W7VCA=s64",
      "userId": "09880750030221834662"
     },
     "user_tz": 360
    },
    "id": "EJ6COb9JaG2c",
    "outputId": "b346f842-d9d5-42d5-f94f-42ee9312b9de"
   },
   "outputs": [
    {
     "data": {
      "text/plain": [
       "88129"
      ]
     },
     "execution_count": 28,
     "metadata": {},
     "output_type": "execute_result"
    }
   ],
   "source": [
    "model.corpus_total_words"
   ]
  },
  {
   "cell_type": "code",
   "execution_count": null,
   "metadata": {
    "colab": {
     "base_uri": "https://localhost:8080/"
    },
    "executionInfo": {
     "elapsed": 182,
     "status": "ok",
     "timestamp": 1645702615576,
     "user": {
      "displayName": "Juber Rahman",
      "photoUrl": "https://lh3.googleusercontent.com/a-/AOh14GjmsuwipSoBjFH5fDR08Oc-IhSG1Q5DeBFv_W7VCA=s64",
      "userId": "09880750030221834662"
     },
     "user_tz": 360
    },
    "id": "K9ni2VW1hMPc",
    "outputId": "37109324-53a9-40e5-eec3-49a37e38dd24"
   },
   "outputs": [
    {
     "name": "stdout",
     "output_type": "stream",
     "text": [
      "['premium unleaded (required)', 'MANUAL', 'rear wheel drive', 'Factory Tuner', 'Luxury', 'High-Performance', 'Compact', 'Coupe', 'BMW 1 Series M', 'Performance', 'Convertible', 'BMW 1 Series', 'regular unleaded', 'front wheel drive', 'Midsize', 'Sedan', 'Audi 100', 'AUTOMATIC', 'all wheel drive', 'Wagon', 'premium unleaded (recommended)', 'FIAT 124 Spider', 'Mercedes-Benz 190-Class', 'BMW 2 Series', 'Audi 200', 'flex-fuel (unleaded/E85)', 'Flex Fuel', 'Chrysler 200', 'nan', 'Nissan 200SX', 'Nissan 240SX', 'Volvo 240', 'Hatchback', '4dr Hatchback', 'Mazda 2', 'BMW 3 Series Gran Turismo', 'BMW 3 Series', 'Hybrid', 'diesel', 'Diesel', 'Large', 'Mercedes-Benz 300-Class', '2dr Hatchback', 'Mitsubishi 3000GT', 'Chrysler 300', 'Chrysler 300M', 'Nissan 300ZX', 'Mazda 323', 'Mercedes-Benz 350-Class', 'Nissan 350Z', 'Exotic', 'Ferrari 360', 'AUTOMATED_MANUAL', 'Nissan 370Z', 'Mazda 3', 'BMW 4 Series Gran Coupe', 'BMW 4 Series', 'Mercedes-Benz 400-Class', 'Mercedes-Benz 420-Class', 'Ferrari 456M', 'Ferrari 458 Italia', 'Alfa Romeo 4C', '4dr SUV', 'Toyota 4Runner', 'four wheel drive', 'BMW 5 Series Gran Turismo', 'BMW 5 Series', 'Mercedes-Benz 500-Class', 'electric', 'DIRECT_DRIVE', 'FIAT 500e', 'FIAT 500', 'FIAT 500L', 'Crossover', 'FIAT 500X', 'Ferrari 550', 'Mercedes-Benz 560-Class', 'McLaren 570S', 'Ferrari 575M', 'Maybach 57', 'Ferrari 599', 'Passenger Minivan', 'Mazda 5', 'BMW 6 Series Gran Coupe', 'BMW 6 Series', 'Mercedes-Benz 600-Class', 'Pontiac 6000', 'Ferrari 612 Scaglietti', 'Mazda 626', 'Maybach 62', 'McLaren 650S Coupe', 'McLaren 650S Spider', 'Mazda 6', 'BMW 7 Series', 'Porsche 718 Cayman', 'Volvo 740', 'Volvo 760', 'Volvo 780', 'BMW 8 Series', 'Audi 80', 'Volvo 850', 'Toyota 86', 'Saab 9-2X', 'flex-fuel (premium unleaded recommended/E85)', 'Saab 9-3 Griffin', 'Saab 9-3', 'Saab 9-4X', 'Saab 9-5', 'Saab 9-7X', 'Saab 9000', 'Saab 900', 'Audi 90', 'Porsche 911', 'Porsche 928', 'Mazda 929', 'Volvo 940', 'Porsche 944', 'Volvo 960', 'Porsche 968', 'Audi A3', 'Audi A4 allroad', 'Audi A4', 'Audi A5', 'Audi A6', 'Audi A7', 'Audi A8', 'GMC Acadia Limited', 'GMC Acadia', 'Hyundai Accent', 'Plymouth Acclaim', 'Honda Accord Crosstour', 'Honda Accord Hybrid', 'Honda Accord Plug-In Hybrid', 'Honda Accord', 'Oldsmobile Achieva', 'UNKNOWN', 'BMW ActiveHybrid 5', 'BMW ActiveHybrid 7', 'BMW ActiveHybrid X6', 'Suzuki Aerio', 'Cargo Minivan', 'Ford Aerostar', 'Oldsmobile Alero', 'Cadillac Allante', 'Audi allroad quattro', 'Audi allroad', 'BMW ALPINA B6 Gran Coupe', 'BMW ALPINA B7', 'BMW Alpina', 'Nissan Altima Hybrid', 'Nissan Altima', 'Kia Amanti', 'Mercedes-Benz AMG GT', 'Nissan Armada', 'Bentley Arnage', 'Chrysler Aspen', 'Ford Aspire', 'Chevrolet Astro Cargo', 'Chevrolet Astro', 'Cadillac ATS Coupe', 'Cadillac ATS-V', 'Cadillac ATS', 'Oldsmobile Aurora', 'Crew Cab Pickup', 'Chevrolet Avalanche', 'Toyota Avalon Hybrid', 'Toyota Avalon', 'Dodge Avenger', 'Lamborghini Aventador', 'Chevrolet Aveo', 'Lincoln Aviator', 'Nissan Axxess', 'Hyundai Azera', 'Pontiac Aztek', 'Bentley Azure T', 'Bentley Azure', 'Mercedes-Benz B-Class Electric Drive', 'Regular Cab Pickup', 'Mazda B-Series Pickup', 'Extended Cab Pickup', 'Mazda B-Series Truck', 'Mazda B-Series', 'Subaru B9 Tribeca', 'Subaru Baja', 'Volkswagen Beetle Convertible', 'Volkswagen Beetle', 'Chevrolet Beretta', 'Chevrolet Black Diamond Avalanche', 'Lincoln Blackwood', '2dr SUV', 'Chevrolet Blazer', 'Chevrolet Bolt EV', 'Pontiac Bonneville', 'Kia Borrego', 'Porsche Boxster', 'Oldsmobile Bravada', 'Plymouth Breeze', 'Ford Bronco II', 'Ford Bronco', 'Bentley Brooklands', 'Cadillac Brougham', 'Subaru BRZ', 'Mercedes-Benz C-Class', 'Ford C-Max Hybrid', 'Volvo C30', 'Mercedes-Benz C36 AMG', 'Mercedes-Benz C43 AMG', 'Volvo C70', 'Spyker C8', 'Audi Cabriolet', 'Volkswagen Cabriolet', 'Volkswagen Cabrio', 'Kia Cadenza', 'Dodge Caliber', 'Ferrari California T', 'Ferrari California', 'Chevrolet Camaro', 'Toyota Camry Hybrid', 'Toyota Camry Solara', 'Toyota Camry', 'GMC Canyon', 'Chevrolet Caprice', 'Chevrolet Captiva Sport', 'Dodge Caravan', 'Porsche Carrera GT', 'Buick Cascada', 'Cadillac Catera', 'Chevrolet Cavalier', 'Porsche Cayenne', 'Porsche Cayman S', 'Porsche Cayman', 'Volkswagen CC', 'Chevrolet Celebrity', 'Toyota Celica', 'Buick Century', 'Dodge Challenger', 'Dodge Charger', 'Cargo Van', 'Chevrolet Chevy Van', 'Oldsmobile Ciera', 'Chrysler Cirrus', 'Chevrolet City Express', 'Honda Civic CRX', 'Honda Civic del Sol', 'Honda Civic', 'natural gas', 'Chevrolet C/K 1500 Series', 'Chevrolet C/K 2500 Series', 'Mercedes-Benz CL-Class', 'Mercedes-Benz CLA-Class', 'Acura CL', 'Chevrolet Classic', 'Mercedes-Benz CLK-Class', 'Mercedes-Benz CLS-Class', 'Chevrolet Cobalt', 'Chevrolet Colorado', 'Dodge Colt', 'Plymouth Colt', 'Chrysler Concorde', 'Bentley Continental Flying Spur Speed', 'flex-fuel (premium unleaded required/E85)', 'Bentley Continental Flying Spur', 'Bentley Continental GT Speed Convertible', 'Bentley Continental GT Speed', 'Bentley Continental GT3-R', 'Bentley Continental GT', 'Bentley Continental GTC Speed', 'Bentley Continental GTC', 'Bentley Continental Supersports Convertible', 'Bentley Continental Supersports', 'Bentley Continental', 'Lincoln Continental', 'Ford Contour SVT', 'Ford Contour', 'Rolls-Royce Corniche', 'Toyota Corolla iM', 'Toyota Corolla', 'Volkswagen Corrado', 'Chevrolet Corsica', 'Chevrolet Corvette Stingray', 'Chevrolet Corvette', 'Audi Coupe', 'Maserati Coupe', 'Volvo Coupe', 'Honda CR-V', 'Honda CR-Z', 'Toyota Cressida', 'Chrysler Crossfire', 'Honda Crosstour', 'Subaru Crosstrek', 'Ford Crown Victoria', 'Chevrolet Cruze Limited', 'Chevrolet Cruze', 'Lexus CT 200h', 'Cadillac CT6', 'Cadillac CTS Coupe', 'Cadillac CTS-V Coupe', 'Cadillac CTS-V Wagon', 'Cadillac CTS-V', 'Cadillac CTS Wagon', 'Cadillac CTS', 'Nissan Cube', 'Oldsmobile Custom Cruiser', 'Oldsmobile Cutlass Calais', 'Oldsmobile Cutlass Ciera', 'Oldsmobile Cutlass Supreme', 'Oldsmobile Cutlass', 'Mazda CX-3', 'Mazda CX-5', 'Mazda CX-7', 'Mazda CX-9', 'Dodge Dakota', 'Dodge Dart', 'Rolls-Royce Dawn', 'Dodge Daytona', 'Aston Martin DB7', 'Aston Martin DB9 GT', 'Aston Martin DB9', 'Aston Martin DBS', 'Land Rover Defender', 'Convertible SUV', 'Cadillac DeVille', 'Lamborghini Diablo', 'Mitsubishi Diamante', 'Land Rover Discovery Series II', 'Land Rover Discovery Sport', 'Land Rover Discovery', 'Cadillac DTS', 'Dodge Durango', 'Dodge Dynasty', 'Passenger Van', 'Ford E-150', 'Ford E-250', 'Mercedes-Benz E-Class', 'Volkswagen e-Golf', 'Ford E-Series Van', 'Ford E-Series Wagon', 'Mercedes-Benz E55 AMG', 'Toyota ECHO', 'Mitsubishi Eclipse Spyder', 'Mitsubishi Eclipse', 'Ford Edge', 'Oldsmobile Eighty-Eight Royale', 'Oldsmobile Eighty-Eight', 'Hyundai Elantra Coupe', 'Hyundai Elantra GT', 'Hyundai Elantra Touring', 'Hyundai Elantra', 'Cadillac Eldorado', 'Buick Electra', 'Honda Element', 'Lotus Elise', 'Buick Enclave', 'Buick Encore', 'Mitsubishi Endeavor', 'Hyundai Entourage', 'Buick Envision', 'GMC Envoy XL', 'GMC Envoy XUV', 'GMC Envoy', 'Ferrari Enzo', 'Volkswagen Eos', 'Suzuki Equator', 'Chevrolet Equinox', 'Hyundai Equus', 'Lexus ES 250', 'Lexus ES 300h', 'Lexus ES 300', 'Lexus ES 330', 'Lexus ES 350', 'Cadillac Escalade ESV', 'Cadillac Escalade EXT', 'Cadillac Escalade Hybrid', 'Cadillac Escalade', 'Ford Escape Hybrid', 'Ford Escape', 'Ford Escort', 'Lotus Esprit', 'Buick Estate Wagon', 'Suzuki Esteem', 'Volkswagen EuroVan', 'Lotus Evora 400', 'Lotus Evora', 'Infiniti EX35', 'Hyundai Excel', 'Lotus Exige', 'Infiniti EX', 'Ford Expedition', 'Ford Explorer Sport Trac', 'Ford Explorer Sport', 'Ford Explorer', 'Mitsubishi Expo', 'Chevrolet Express Cargo', 'Chevrolet Express', 'Ford F-150 Heritage', 'Ford F-150 SVT Lightning', 'Ford F-150', 'Ford F-250', 'Ferrari F12 Berlinetta', 'Ferrari F430', 'Ford Festiva', 'Ferrari FF', 'Ford Fiesta', 'Pontiac Firebird', 'Honda Fit EV', 'Honda Fit', 'Ford Five Hundred', 'Toyota FJ Cruiser', 'Cadillac Fleetwood', 'Ford Flex', 'Bentley Flying Spur', 'Ford Focus RS', 'Ford Focus ST', 'Ford Focus', 'Suzuki Forenza', 'Subaru Forester', 'Kia Forte', 'Volkswagen Fox', 'Scion FR-S', 'Land Rover Freelander', 'Ford Freestar', 'Ford Freestyle', 'Nissan Frontier', 'Ford Fusion Hybrid', 'Ford Fusion', 'Infiniti FX35', 'Infiniti FX45', 'Infiniti FX50', 'Infiniti FX', 'Mercedes-Benz G-Class', 'Infiniti G Convertible', 'Infiniti G Coupe', 'Infiniti G Sedan', 'Infiniti G20', 'Infiniti G35', 'Infiniti G37 Convertible', 'Infiniti G37 Coupe', 'Infiniti G37 Sedan', 'Infiniti G37', 'Pontiac G3', 'Pontiac G5', 'Pontiac G6', 'Genesis G80', 'Pontiac G8', 'Mitsubishi Galant', 'Lamborghini Gallardo', 'Hyundai Genesis Coupe', 'Hyundai Genesis', 'Maserati Ghibli', 'Rolls-Royce Ghost Series II', 'Rolls-Royce Ghost', 'Mercedes-Benz GL-Class', 'Mercedes-Benz GLA-Class', 'Mercedes-Benz GLC-Class', 'Mercedes-Benz GLE-Class Coupe', 'Mercedes-Benz GLE-Class', 'Volkswagen GLI', 'Mercedes-Benz GLK-Class', 'Mercedes-Benz GLS-Class', 'Volkswagen Golf Alltrack', 'Volkswagen Golf GTI', 'Volkswagen Golf R', 'Volkswagen Golf SportWagen', 'Volkswagen Golf', 'Pontiac Grand Am', 'Dodge Grand Caravan', 'Pontiac Grand Prix', 'Suzuki Grand Vitara', 'Chrysler Grand Voyager', 'Plymouth Grand Voyager', 'Maserati GranSport', 'Maserati GranTurismo Convertible', 'Maserati GranTurismo', 'Lexus GS 200t', 'Lexus GS 300', 'Lexus GS 350', 'Lexus GS 400', 'Lexus GS 430', 'Lexus GS 450h', 'Lexus GS 460', 'Lexus GS F', 'Nissan GT-R', 'Ford GT', 'Volkswagen GTI', 'Pontiac GTO', 'Lexus GX 460', 'Lexus GX 470', 'HUMMER H3', 'HUMMER H3T', 'Chevrolet HHR', 'Toyota Highlander Hybrid', 'Toyota Highlander', 'Plymouth Horizon', 'Honda HR-V', 'Lexus HS 250h', 'Lamborghini Huracan', 'Mitsubishi i-MiEV', 'Infiniti I30', 'Infiniti I35', 'BMW i3', 'Scion iA', 'Acura ILX Hybrid', 'Acura ILX', 'Chevrolet Impala Limited', 'Chevrolet Impala', 'flex-fuel (unleaded/natural gas)', 'Chrysler Imperial', 'Subaru Impreza WRX', 'Subaru Impreza', 'Scion iM', 'Honda Insight', 'Acura Integra', 'Dodge Intrepid', 'Oldsmobile Intrigue', 'Scion iQ', 'Lexus IS 200t', 'Lexus IS 250 C', 'Lexus IS 250', 'Lexus IS 300', 'Lexus IS 350 C', 'Lexus IS 350', 'Lexus IS F', 'Infiniti J30', 'Volkswagen Jetta GLI', 'Volkswagen Jetta Hybrid', 'Volkswagen Jetta SportWagen', 'Volkswagen Jetta', 'GMC Jimmy', 'Dodge Journey', 'Nissan Juke', 'Subaru Justy', 'Infiniti JX', 'Kia K900', 'Suzuki Kizashi', 'Buick LaCrosse', 'Mitsubishi Lancer Evolution', 'Mitsubishi Lancer Sportback', 'Mitsubishi Lancer', 'Toyota Land Cruiser', 'Maybach Landaulet', 'Plymouth Laser', 'Chrysler Le Baron', 'Pontiac Le Mans', 'Nissan Leaf', 'Subaru Legacy', 'Acura Legend', 'Buick LeSabre', 'Maserati Levante', 'Lexus LFA', 'Chrysler LHS', 'Subaru Loyale', 'Land Rover LR2', 'Land Rover LR3', 'Land Rover LR4', 'Lexus LS 400', 'Lexus LS 430', 'Lexus LS 460', 'Lexus LS 600h L', 'Lincoln LS', 'Oldsmobile LSS', 'Ford LTD Crown Victoria', 'Buick Lucerne', 'Chevrolet Lumina Minivan', 'Chevrolet Lumina', 'Lexus LX 450', 'Lexus LX 470', 'Lexus LX 570', 'Mercedes-Benz M-Class', 'BMW M2', 'Infiniti M30', 'Infiniti M35', 'Infiniti M37', 'BMW M3', 'BMW M4 GTS', 'Infiniti M45', 'BMW M4', 'Infiniti M56', 'BMW M5', 'BMW M6 Gran Coupe', 'BMW M6', 'Porsche Macan', 'Dodge Magnum', 'Chevrolet Malibu Classic', 'Chevrolet Malibu Hybrid', 'Chevrolet Malibu Limited', 'Chevrolet Malibu Maxx', 'Chevrolet Malibu', 'Lincoln Mark LT', 'Lincoln Mark VIII', 'Lincoln Mark VII', 'Toyota Matrix', 'Nissan Maxima', 'Mercedes-Benz Maybach', 'Mazda Mazdaspeed 3', 'Mazda Mazdaspeed 6', 'Mazda Mazdaspeed MX-5 Miata', 'Mazda Mazdaspeed Protege', 'BMW M', 'Acura MDX', 'Mercedes-Benz Metris', 'Chevrolet Metro', 'Mitsubishi Mighty Max Pickup', 'Mazda Millenia', 'Infiniti M', 'Mitsubishi Mirage G4', 'Mitsubishi Mirage', 'Lincoln MKC', 'Lincoln MKS', 'Lincoln MKT', 'Lincoln MKX', 'Lincoln MKZ Hybrid', 'Lincoln MKZ', 'Mercedes-Benz ML55 AMG', 'Tesla Model S', 'Dodge Monaco', 'Pontiac Montana SV6', 'Pontiac Montana', 'Chevrolet Monte Carlo', 'Mitsubishi Montero Sport', 'Mitsubishi Montero', 'McLaren MP4-12C', 'Mazda MPV', 'Toyota MR2 Spyder', 'Toyota MR2', 'Bentley Mulsanne', 'Nissan Murano CrossCabriolet', 'Nissan Murano', 'Lamborghini Murcielago', 'Ford Mustang SVT Cobra', 'Ford Mustang', 'Mazda MX-3', 'Mazda MX-5 Miata', 'Mazda MX-6', 'Mazda Navajo', 'Lincoln Navigator', 'Dodge Neon', 'Plymouth Neon', 'Volkswagen New Beetle', 'Chrysler New Yorker', 'Oldsmobile Ninety-Eight', 'Dodge Nitro', 'Acura NSX', 'Nissan NV200', 'Lexus NX 200t', 'Lexus NX 300h', 'Nissan NX', 'Honda Odyssey', 'Dodge Omni', 'Kia Optima Hybrid', 'Kia Optima', 'Subaru Outback', 'Mitsubishi Outlander Sport', 'Mitsubishi Outlander', 'Chrysler Pacifica', 'Porsche Panamera', 'Buick Park Avenue', 'Rolls-Royce Park Ward', 'Toyota Paseo', 'Volkswagen Passat', 'Honda Passport', 'Nissan Pathfinder', 'Volkswagen Phaeton', 'Rolls-Royce Phantom Coupe', 'Rolls-Royce Phantom Drophead Coupe', 'Rolls-Royce Phantom', 'Toyota Pickup', 'Honda Pilot', 'Mitsubishi Precis', 'Honda Prelude', 'Toyota Previa', 'Toyota Prius c', 'Toyota Prius Prime', 'Toyota Prius v', 'Toyota Prius', 'Chevrolet Prizm', 'Ford Probe', 'Mazda Protege5', 'Mazda Protege', 'Chrysler Prowler', 'Plymouth Prowler', 'Chrysler PT Cruiser', 'Nissan Pulsar', 'Audi Q3', 'Infiniti Q40', 'Infiniti Q45', 'Infiniti Q50', 'Audi Q5', 'Infiniti Q60 Convertible', 'Infiniti Q60 Coupe', 'Infiniti Q70', 'Audi Q7', 'Maserati Quattroporte', 'Nissan Quest', 'Infiniti QX4', 'Infiniti QX50', 'Infiniti QX56', 'Infiniti QX60', 'Infiniti QX70', 'Infiniti QX80', 'Infiniti QX', 'Mercedes-Benz R-Class', 'Volkswagen R32', 'Audi R8', 'Volkswagen Rabbit', 'Mitsubishi Raider', 'Buick Rainier', 'GMC Rally Wagon', 'Dodge RAM 150', 'Dodge RAM 250', 'Dodge Ram 50 Pickup', 'Dodge Ram Cargo', 'Dodge Ram Pickup 1500', 'Dodge Ram Van', 'Dodge Ram Wagon', 'Dodge Ramcharger', 'Land Rover Range Rover Evoque', 'Land Rover Range Rover Sport', 'Land Rover Range Rover', 'Ford Ranger', 'Aston Martin Rapide S', 'Aston Martin Rapide', 'Toyota RAV4 EV', 'Toyota RAV4 Hybrid', 'Toyota RAV4', 'Lexus RC 200t', 'Lexus RC 300', 'Lexus RC 350', 'Lexus RC F', 'Acura RDX', 'Buick Reatta', 'Buick Regal', 'Oldsmobile Regency', 'Buick Rendezvous', 'Suzuki Reno', 'Lamborghini Reventon', 'Honda Ridgeline', 'Kia Rio', 'Buick Riviera', 'Acura RL', 'Acura RLX', 'Buick Roadmaster', 'Nissan Rogue Select', 'Nissan Rogue', 'Kia Rondo', 'Volkswagen Routan', 'Audi RS 4', 'Audi RS 5', 'Audi RS 6', 'Audi RS 7', 'Acura RSX', 'Lexus RX 300', 'Lexus RX 330', 'Lexus RX 350', 'Lexus RX 400h', 'Lexus RX 450h', 'Mazda RX-7', 'Mazda RX-8', 'Chevrolet S-10 Blazer', 'Chevrolet S-10', 'GMC S-15 Jimmy', 'GMC S-15', 'Mercedes-Benz S-Class', 'Honda S2000', 'Audi S3', 'Volvo S40', 'Audi S4', 'Audi S5', 'Volvo S60 Cross Country', 'Volvo S60', 'Audi S6', 'Volvo S70', 'Audi S7', 'Volvo S80', 'Audi S8', 'Volvo S90', 'GMC Safari Cargo', 'GMC Safari', 'Suzuki Samurai', 'Hyundai Santa Fe Sport', 'Hyundai Santa Fe', 'GMC Savana Cargo', 'GMC Savana', 'Lexus SC 300', 'Lexus SC 400', 'Lexus SC 430', 'Hyundai Scoupe', 'Chrysler Sebring', 'Kia Sedona', 'Nissan Sentra', 'Kia Sephia', 'Toyota Sequoia', 'Cadillac Seville', 'Dodge Shadow', 'Ford Shelby GT350', 'Ford Shelby GT500', 'Suzuki Sidekick', 'Toyota Sienna', 'GMC Sierra 1500 Classic', 'GMC Sierra 1500 Hybrid', 'GMC Sierra 1500', 'GMC Sierra 1500HD', 'GMC Sierra C3', 'GMC Sierra Classic 1500', 'Mitsubishi Sigma', 'Oldsmobile Silhouette', 'Rolls-Royce Silver Seraph', 'Chevrolet Silverado 1500 Classic', 'Chevrolet Silverado 1500 Hybrid', 'Chevrolet Silverado 1500', 'Cadillac Sixty Special', 'Buick Skylark', 'Mercedes-Benz SL-Class', 'Mercedes-Benz SLC-Class', 'Mercedes-Benz SLK-Class', 'Mercedes-Benz SLR McLaren', 'Mercedes-Benz SLS AMG GT Final Edition', 'Mercedes-Benz SLS AMG GT', 'Mercedes-Benz SLS AMG', 'Acura SLX', 'Pontiac Solstice', 'Hyundai Sonata Hybrid', 'Hyundai Sonata', 'Chevrolet Sonic', 'GMC Sonoma', 'Kia Sorento', 'Kia Soul EV', 'Kia Soul', 'Chevrolet Spark EV', 'Chevrolet Spark', 'Kia Spectra', 'Dodge Spirit', 'Kia Sportage', 'Chevrolet Sportvan', 'Maserati Spyder', 'Audi SQ5', 'Dodge SRT Viper', 'Cadillac SRX', 'Chevrolet SS', 'Chevrolet SSR', 'Nissan Stanza', 'Dodge Stealth', 'Dodge Stratus', 'Cadillac STS-V', 'Cadillac STS', 'Chevrolet Suburban', 'GMC Suburban', 'Pontiac Sunbird', 'Plymouth Sundance', 'Pontiac Sunfire', 'Ferrari Superamerica', 'Bentley Supersports Convertible ISR', 'Toyota Supra', 'Subaru SVX', 'Suzuki Swift', 'Suzuki SX4', 'GMC Syclone', 'Toyota T100', 'Toyota Tacoma', 'Chevrolet Tahoe Hybrid', 'Chevrolet Tahoe Limited/Z71', 'Chevrolet Tahoe', 'Ford Taurus X', 'Ford Taurus', 'Chrysler TC', 'Scion tC', 'Ford Tempo', 'Toyota Tercel', 'GMC Terrain', 'Buick Terraza', 'Ford Thunderbird', 'Hyundai Tiburon', 'Volkswagen Tiguan', 'Nissan Titan', 'Acura TL', 'Acura TLX', 'Oldsmobile Toronado', 'Pontiac Torrent', 'Volkswagen Touareg 2', 'Volkswagen Touareg', 'Chrysler Town and Country', 'Lincoln Town Car', 'Chevrolet Tracker', 'Chevrolet TrailBlazer EXT', 'Chevrolet TrailBlazer', 'Pontiac Trans Sport', 'Ford Transit Connect', 'Ford Transit Wagon', 'Chevrolet Traverse', 'Chevrolet Trax', 'Subaru Tribeca', 'Mazda Tribute Hybrid', 'Mazda Tribute', 'Mazda Truck', 'Nissan Truck', 'Acura TSX Sport Wagon', 'Acura TSX', 'Audi TT RS', 'Audi TT', 'Audi TTS', 'Hyundai Tucson', 'Toyota Tundra', 'GMC Typhoon', 'Chevrolet Uplander', 'Aston Martin V12 Vanquish', 'Aston Martin V12 Vantage S', 'Aston Martin V12 Vantage', 'Volvo V40', 'Volvo V50', 'Volvo V60 Cross Country', 'Volvo V60', 'Volvo V70', 'Aston Martin V8 Vantage', 'Audi V8', 'Volvo V90', 'Volkswagen Vanagon', 'GMC Vandura', 'Nissan Van', 'Aston Martin Vanquish', 'Mitsubishi Vanwagon', 'Hyundai Veloster', 'Chevrolet Venture', 'Toyota Venza', 'Hyundai Veracruz', 'Buick Verano', 'Suzuki Verona', 'Nissan Versa Note', 'Nissan Versa', 'Bugatti Veyron 16.4', 'Pontiac Vibe', 'Acura Vigor', 'Dodge Viper', 'Aston Martin Virage', 'Suzuki Vitara', 'Chrysler Voyager', 'Plymouth Voyager', 'Ford Windstar Cargo', 'Ford Windstar', 'Rolls-Royce Wraith', 'Subaru WRX', 'Suzuki X-90', 'BMW X1', 'BMW X3', 'BMW X4', 'BMW X5 M', 'BMW X5', 'BMW X6 M', 'BMW X6', 'Scion xA', 'Scion xB', 'Volvo XC60', 'Volvo XC70', 'Volvo XC90', 'Volvo XC', 'Scion xD', 'Hyundai XG300', 'Hyundai XG350', 'Suzuki XL-7', 'Suzuki XL7', 'Cadillac XLR-V', 'Cadillac XLR', 'Cadillac XT5', 'Nissan Xterra', 'Cadillac XTS', 'Subaru XT', 'Subaru XV Crosstrek', 'Toyota Yaris iA', 'Toyota Yaris', 'GMC Yukon Denali', 'GMC Yukon Hybrid', 'GMC Yukon XL', 'GMC Yukon', 'BMW Z3', 'BMW Z4 M', 'BMW Z4', 'BMW Z8', 'Acura ZDX', 'Lincoln Zephyr']\n"
     ]
    }
   ],
   "source": [
    "vocab = list(model.wv.vocab)\n",
    "print(vocab)"
   ]
  },
  {
   "cell_type": "code",
   "execution_count": null,
   "metadata": {
    "colab": {
     "base_uri": "https://localhost:8080/"
    },
    "executionInfo": {
     "elapsed": 224,
     "status": "ok",
     "timestamp": 1645700336607,
     "user": {
      "displayName": "Juber Rahman",
      "photoUrl": "https://lh3.googleusercontent.com/a-/AOh14GjmsuwipSoBjFH5fDR08Oc-IhSG1Q5DeBFv_W7VCA=s64",
      "userId": "09880750030221834662"
     },
     "user_tz": 360
    },
    "id": "mCWhJetzYjnB",
    "outputId": "6a2fea0b-337e-44c9-8ebd-a2312d791c5e"
   },
   "outputs": [
    {
     "data": {
      "text/plain": [
       "array([ 0.06279226,  0.11378726,  0.19669777,  0.12381289,  0.15488528,\n",
       "       -0.04421843, -0.07303037, -0.23551776,  0.09841357, -0.02379396,\n",
       "       -0.07801018, -0.05931892,  0.11102735,  0.27719384, -0.12572165,\n",
       "       -0.11139765, -0.0865582 , -0.13137047, -0.04410166,  0.10118932,\n",
       "        0.00321114,  0.1194912 , -0.1831104 , -0.04120247, -0.17280608,\n",
       "       -0.2221686 ,  0.14334509, -0.15871239,  0.01409865, -0.04430602,\n",
       "       -0.0596482 , -0.02099671, -0.06847718,  0.05526268, -0.14742938,\n",
       "        0.01611611, -0.23469839,  0.10691902, -0.07973771, -0.15534581,\n",
       "        0.05115405,  0.05994757,  0.00921202,  0.06906649, -0.28131106,\n",
       "        0.32439834,  0.15836762, -0.10916121,  0.07611009,  0.0524062 ],\n",
       "      dtype=float32)"
      ]
     },
     "execution_count": 17,
     "metadata": {},
     "output_type": "execute_result"
    }
   ],
   "source": [
    "## We can obtain the word embedding directly from the training model\n",
    "model['Toyota Camry']"
   ]
  },
  {
   "cell_type": "code",
   "execution_count": null,
   "metadata": {
    "colab": {
     "base_uri": "https://localhost:8080/"
    },
    "executionInfo": {
     "elapsed": 179,
     "status": "ok",
     "timestamp": 1645700386657,
     "user": {
      "displayName": "Juber Rahman",
      "photoUrl": "https://lh3.googleusercontent.com/a-/AOh14GjmsuwipSoBjFH5fDR08Oc-IhSG1Q5DeBFv_W7VCA=s64",
      "userId": "09880750030221834662"
     },
     "user_tz": 360
    },
    "id": "MqyyQ1POYlrC",
    "outputId": "cb0751a1-2126-4376-c4bb-a6bb7853d949"
   },
   "outputs": [
    {
     "data": {
      "text/plain": [
       "0.8672899"
      ]
     },
     "execution_count": 18,
     "metadata": {},
     "output_type": "execute_result"
    }
   ],
   "source": [
    "model.similarity('Porsche 718 Cayman', 'Nissan Van')"
   ]
  },
  {
   "cell_type": "code",
   "execution_count": null,
   "metadata": {
    "colab": {
     "base_uri": "https://localhost:8080/",
     "height": 17
    },
    "executionInfo": {
     "elapsed": 1302,
     "status": "ok",
     "timestamp": 1645704788642,
     "user": {
      "displayName": "Juber Rahman",
      "photoUrl": "https://lh3.googleusercontent.com/a-/AOh14GjmsuwipSoBjFH5fDR08Oc-IhSG1Q5DeBFv_W7VCA=s64",
      "userId": "09880750030221834662"
     },
     "user_tz": 360
    },
    "id": "2kpCmIDCocQs",
    "outputId": "7dc127f0-3891-4dcd-e0f5-aa35dbbe0259"
   },
   "outputs": [
    {
     "data": {
      "application/javascript": [
       "/* Put everything inside the global mpl namespace */\n",
       "window.mpl = {};\n",
       "\n",
       "\n",
       "mpl.get_websocket_type = function() {\n",
       "    if (typeof(WebSocket) !== 'undefined') {\n",
       "        return WebSocket;\n",
       "    } else if (typeof(MozWebSocket) !== 'undefined') {\n",
       "        return MozWebSocket;\n",
       "    } else {\n",
       "        alert('Your browser does not have WebSocket support. ' +\n",
       "              'Please try Chrome, Safari or Firefox ≥ 6. ' +\n",
       "              'Firefox 4 and 5 are also supported but you ' +\n",
       "              'have to enable WebSockets in about:config.');\n",
       "    };\n",
       "}\n",
       "\n",
       "mpl.figure = function(figure_id, websocket, ondownload, parent_element) {\n",
       "    this.id = figure_id;\n",
       "\n",
       "    this.ws = websocket;\n",
       "\n",
       "    this.supports_binary = (this.ws.binaryType != undefined);\n",
       "\n",
       "    if (!this.supports_binary) {\n",
       "        var warnings = document.getElementById(\"mpl-warnings\");\n",
       "        if (warnings) {\n",
       "            warnings.style.display = 'block';\n",
       "            warnings.textContent = (\n",
       "                \"This browser does not support binary websocket messages. \" +\n",
       "                    \"Performance may be slow.\");\n",
       "        }\n",
       "    }\n",
       "\n",
       "    this.imageObj = new Image();\n",
       "\n",
       "    this.context = undefined;\n",
       "    this.message = undefined;\n",
       "    this.canvas = undefined;\n",
       "    this.rubberband_canvas = undefined;\n",
       "    this.rubberband_context = undefined;\n",
       "    this.format_dropdown = undefined;\n",
       "\n",
       "    this.image_mode = 'full';\n",
       "\n",
       "    this.root = $('<div/>');\n",
       "    this._root_extra_style(this.root)\n",
       "    this.root.attr('style', 'display: inline-block');\n",
       "\n",
       "    $(parent_element).append(this.root);\n",
       "\n",
       "    this._init_header(this);\n",
       "    this._init_canvas(this);\n",
       "    this._init_toolbar(this);\n",
       "\n",
       "    var fig = this;\n",
       "\n",
       "    this.waiting = false;\n",
       "\n",
       "    this.ws.onopen =  function () {\n",
       "            fig.send_message(\"supports_binary\", {value: fig.supports_binary});\n",
       "            fig.send_message(\"send_image_mode\", {});\n",
       "            if (mpl.ratio != 1) {\n",
       "                fig.send_message(\"set_dpi_ratio\", {'dpi_ratio': mpl.ratio});\n",
       "            }\n",
       "            fig.send_message(\"refresh\", {});\n",
       "        }\n",
       "\n",
       "    this.imageObj.onload = function() {\n",
       "            if (fig.image_mode == 'full') {\n",
       "                // Full images could contain transparency (where diff images\n",
       "                // almost always do), so we need to clear the canvas so that\n",
       "                // there is no ghosting.\n",
       "                fig.context.clearRect(0, 0, fig.canvas.width, fig.canvas.height);\n",
       "            }\n",
       "            fig.context.drawImage(fig.imageObj, 0, 0);\n",
       "        };\n",
       "\n",
       "    this.imageObj.onunload = function() {\n",
       "        fig.ws.close();\n",
       "    }\n",
       "\n",
       "    this.ws.onmessage = this._make_on_message_function(this);\n",
       "\n",
       "    this.ondownload = ondownload;\n",
       "}\n",
       "\n",
       "mpl.figure.prototype._init_header = function() {\n",
       "    var titlebar = $(\n",
       "        '<div class=\"ui-dialog-titlebar ui-widget-header ui-corner-all ' +\n",
       "        'ui-helper-clearfix\"/>');\n",
       "    var titletext = $(\n",
       "        '<div class=\"ui-dialog-title\" style=\"width: 100%; ' +\n",
       "        'text-align: center; padding: 3px;\"/>');\n",
       "    titlebar.append(titletext)\n",
       "    this.root.append(titlebar);\n",
       "    this.header = titletext[0];\n",
       "}\n",
       "\n",
       "\n",
       "\n",
       "mpl.figure.prototype._canvas_extra_style = function(canvas_div) {\n",
       "\n",
       "}\n",
       "\n",
       "\n",
       "mpl.figure.prototype._root_extra_style = function(canvas_div) {\n",
       "\n",
       "}\n",
       "\n",
       "mpl.figure.prototype._init_canvas = function() {\n",
       "    var fig = this;\n",
       "\n",
       "    var canvas_div = $('<div/>');\n",
       "\n",
       "    canvas_div.attr('style', 'position: relative; clear: both; outline: 0');\n",
       "\n",
       "    function canvas_keyboard_event(event) {\n",
       "        return fig.key_event(event, event['data']);\n",
       "    }\n",
       "\n",
       "    canvas_div.keydown('key_press', canvas_keyboard_event);\n",
       "    canvas_div.keyup('key_release', canvas_keyboard_event);\n",
       "    this.canvas_div = canvas_div\n",
       "    this._canvas_extra_style(canvas_div)\n",
       "    this.root.append(canvas_div);\n",
       "\n",
       "    var canvas = $('<canvas/>');\n",
       "    canvas.addClass('mpl-canvas');\n",
       "    canvas.attr('style', \"left: 0; top: 0; z-index: 0; outline: 0\")\n",
       "\n",
       "    this.canvas = canvas[0];\n",
       "    this.context = canvas[0].getContext(\"2d\");\n",
       "\n",
       "    var backingStore = this.context.backingStorePixelRatio ||\n",
       "\tthis.context.webkitBackingStorePixelRatio ||\n",
       "\tthis.context.mozBackingStorePixelRatio ||\n",
       "\tthis.context.msBackingStorePixelRatio ||\n",
       "\tthis.context.oBackingStorePixelRatio ||\n",
       "\tthis.context.backingStorePixelRatio || 1;\n",
       "\n",
       "    mpl.ratio = (window.devicePixelRatio || 1) / backingStore;\n",
       "\n",
       "    var rubberband = $('<canvas/>');\n",
       "    rubberband.attr('style', \"position: absolute; left: 0; top: 0; z-index: 1;\")\n",
       "\n",
       "    var pass_mouse_events = true;\n",
       "\n",
       "    canvas_div.resizable({\n",
       "        start: function(event, ui) {\n",
       "            pass_mouse_events = false;\n",
       "        },\n",
       "        resize: function(event, ui) {\n",
       "            fig.request_resize(ui.size.width, ui.size.height);\n",
       "        },\n",
       "        stop: function(event, ui) {\n",
       "            pass_mouse_events = true;\n",
       "            fig.request_resize(ui.size.width, ui.size.height);\n",
       "        },\n",
       "    });\n",
       "\n",
       "    function mouse_event_fn(event) {\n",
       "        if (pass_mouse_events)\n",
       "            return fig.mouse_event(event, event['data']);\n",
       "    }\n",
       "\n",
       "    rubberband.mousedown('button_press', mouse_event_fn);\n",
       "    rubberband.mouseup('button_release', mouse_event_fn);\n",
       "    // Throttle sequential mouse events to 1 every 20ms.\n",
       "    rubberband.mousemove('motion_notify', mouse_event_fn);\n",
       "\n",
       "    rubberband.mouseenter('figure_enter', mouse_event_fn);\n",
       "    rubberband.mouseleave('figure_leave', mouse_event_fn);\n",
       "\n",
       "    canvas_div.on(\"wheel\", function (event) {\n",
       "        event = event.originalEvent;\n",
       "        event['data'] = 'scroll'\n",
       "        if (event.deltaY < 0) {\n",
       "            event.step = 1;\n",
       "        } else {\n",
       "            event.step = -1;\n",
       "        }\n",
       "        mouse_event_fn(event);\n",
       "    });\n",
       "\n",
       "    canvas_div.append(canvas);\n",
       "    canvas_div.append(rubberband);\n",
       "\n",
       "    this.rubberband = rubberband;\n",
       "    this.rubberband_canvas = rubberband[0];\n",
       "    this.rubberband_context = rubberband[0].getContext(\"2d\");\n",
       "    this.rubberband_context.strokeStyle = \"#000000\";\n",
       "\n",
       "    this._resize_canvas = function(width, height) {\n",
       "        // Keep the size of the canvas, canvas container, and rubber band\n",
       "        // canvas in synch.\n",
       "        canvas_div.css('width', width)\n",
       "        canvas_div.css('height', height)\n",
       "\n",
       "        canvas.attr('width', width * mpl.ratio);\n",
       "        canvas.attr('height', height * mpl.ratio);\n",
       "        canvas.attr('style', 'width: ' + width + 'px; height: ' + height + 'px;');\n",
       "\n",
       "        rubberband.attr('width', width);\n",
       "        rubberband.attr('height', height);\n",
       "    }\n",
       "\n",
       "    // Set the figure to an initial 600x600px, this will subsequently be updated\n",
       "    // upon first draw.\n",
       "    this._resize_canvas(600, 600);\n",
       "\n",
       "    // Disable right mouse context menu.\n",
       "    $(this.rubberband_canvas).bind(\"contextmenu\",function(e){\n",
       "        return false;\n",
       "    });\n",
       "\n",
       "    function set_focus () {\n",
       "        canvas.focus();\n",
       "        canvas_div.focus();\n",
       "    }\n",
       "\n",
       "    window.setTimeout(set_focus, 100);\n",
       "}\n",
       "\n",
       "mpl.figure.prototype._init_toolbar = function() {\n",
       "    var fig = this;\n",
       "\n",
       "    var nav_element = $('<div/>');\n",
       "    nav_element.attr('style', 'width: 100%');\n",
       "    this.root.append(nav_element);\n",
       "\n",
       "    // Define a callback function for later on.\n",
       "    function toolbar_event(event) {\n",
       "        return fig.toolbar_button_onclick(event['data']);\n",
       "    }\n",
       "    function toolbar_mouse_event(event) {\n",
       "        return fig.toolbar_button_onmouseover(event['data']);\n",
       "    }\n",
       "\n",
       "    for(var toolbar_ind in mpl.toolbar_items) {\n",
       "        var name = mpl.toolbar_items[toolbar_ind][0];\n",
       "        var tooltip = mpl.toolbar_items[toolbar_ind][1];\n",
       "        var image = mpl.toolbar_items[toolbar_ind][2];\n",
       "        var method_name = mpl.toolbar_items[toolbar_ind][3];\n",
       "\n",
       "        if (!name) {\n",
       "            // put a spacer in here.\n",
       "            continue;\n",
       "        }\n",
       "        var button = $('<button/>');\n",
       "        button.addClass('ui-button ui-widget ui-state-default ui-corner-all ' +\n",
       "                        'ui-button-icon-only');\n",
       "        button.attr('role', 'button');\n",
       "        button.attr('aria-disabled', 'false');\n",
       "        button.click(method_name, toolbar_event);\n",
       "        button.mouseover(tooltip, toolbar_mouse_event);\n",
       "\n",
       "        var icon_img = $('<span/>');\n",
       "        icon_img.addClass('ui-button-icon-primary ui-icon');\n",
       "        icon_img.addClass(image);\n",
       "        icon_img.addClass('ui-corner-all');\n",
       "\n",
       "        var tooltip_span = $('<span/>');\n",
       "        tooltip_span.addClass('ui-button-text');\n",
       "        tooltip_span.html(tooltip);\n",
       "\n",
       "        button.append(icon_img);\n",
       "        button.append(tooltip_span);\n",
       "\n",
       "        nav_element.append(button);\n",
       "    }\n",
       "\n",
       "    var fmt_picker_span = $('<span/>');\n",
       "\n",
       "    var fmt_picker = $('<select/>');\n",
       "    fmt_picker.addClass('mpl-toolbar-option ui-widget ui-widget-content');\n",
       "    fmt_picker_span.append(fmt_picker);\n",
       "    nav_element.append(fmt_picker_span);\n",
       "    this.format_dropdown = fmt_picker[0];\n",
       "\n",
       "    for (var ind in mpl.extensions) {\n",
       "        var fmt = mpl.extensions[ind];\n",
       "        var option = $(\n",
       "            '<option/>', {selected: fmt === mpl.default_extension}).html(fmt);\n",
       "        fmt_picker.append(option);\n",
       "    }\n",
       "\n",
       "    // Add hover states to the ui-buttons\n",
       "    $( \".ui-button\" ).hover(\n",
       "        function() { $(this).addClass(\"ui-state-hover\");},\n",
       "        function() { $(this).removeClass(\"ui-state-hover\");}\n",
       "    );\n",
       "\n",
       "    var status_bar = $('<span class=\"mpl-message\"/>');\n",
       "    nav_element.append(status_bar);\n",
       "    this.message = status_bar[0];\n",
       "}\n",
       "\n",
       "mpl.figure.prototype.request_resize = function(x_pixels, y_pixels) {\n",
       "    // Request matplotlib to resize the figure. Matplotlib will then trigger a resize in the client,\n",
       "    // which will in turn request a refresh of the image.\n",
       "    this.send_message('resize', {'width': x_pixels, 'height': y_pixels});\n",
       "}\n",
       "\n",
       "mpl.figure.prototype.send_message = function(type, properties) {\n",
       "    properties['type'] = type;\n",
       "    properties['figure_id'] = this.id;\n",
       "    this.ws.send(JSON.stringify(properties));\n",
       "}\n",
       "\n",
       "mpl.figure.prototype.send_draw_message = function() {\n",
       "    if (!this.waiting) {\n",
       "        this.waiting = true;\n",
       "        this.ws.send(JSON.stringify({type: \"draw\", figure_id: this.id}));\n",
       "    }\n",
       "}\n",
       "\n",
       "\n",
       "mpl.figure.prototype.handle_save = function(fig, msg) {\n",
       "    var format_dropdown = fig.format_dropdown;\n",
       "    var format = format_dropdown.options[format_dropdown.selectedIndex].value;\n",
       "    fig.ondownload(fig, format);\n",
       "}\n",
       "\n",
       "\n",
       "mpl.figure.prototype.handle_resize = function(fig, msg) {\n",
       "    var size = msg['size'];\n",
       "    if (size[0] != fig.canvas.width || size[1] != fig.canvas.height) {\n",
       "        fig._resize_canvas(size[0], size[1]);\n",
       "        fig.send_message(\"refresh\", {});\n",
       "    };\n",
       "}\n",
       "\n",
       "mpl.figure.prototype.handle_rubberband = function(fig, msg) {\n",
       "    var x0 = msg['x0'] / mpl.ratio;\n",
       "    var y0 = (fig.canvas.height - msg['y0']) / mpl.ratio;\n",
       "    var x1 = msg['x1'] / mpl.ratio;\n",
       "    var y1 = (fig.canvas.height - msg['y1']) / mpl.ratio;\n",
       "    x0 = Math.floor(x0) + 0.5;\n",
       "    y0 = Math.floor(y0) + 0.5;\n",
       "    x1 = Math.floor(x1) + 0.5;\n",
       "    y1 = Math.floor(y1) + 0.5;\n",
       "    var min_x = Math.min(x0, x1);\n",
       "    var min_y = Math.min(y0, y1);\n",
       "    var width = Math.abs(x1 - x0);\n",
       "    var height = Math.abs(y1 - y0);\n",
       "\n",
       "    fig.rubberband_context.clearRect(\n",
       "        0, 0, fig.canvas.width / mpl.ratio, fig.canvas.height / mpl.ratio);\n",
       "\n",
       "    fig.rubberband_context.strokeRect(min_x, min_y, width, height);\n",
       "}\n",
       "\n",
       "mpl.figure.prototype.handle_figure_label = function(fig, msg) {\n",
       "    // Updates the figure title.\n",
       "    fig.header.textContent = msg['label'];\n",
       "}\n",
       "\n",
       "mpl.figure.prototype.handle_cursor = function(fig, msg) {\n",
       "    var cursor = msg['cursor'];\n",
       "    switch(cursor)\n",
       "    {\n",
       "    case 0:\n",
       "        cursor = 'pointer';\n",
       "        break;\n",
       "    case 1:\n",
       "        cursor = 'default';\n",
       "        break;\n",
       "    case 2:\n",
       "        cursor = 'crosshair';\n",
       "        break;\n",
       "    case 3:\n",
       "        cursor = 'move';\n",
       "        break;\n",
       "    }\n",
       "    fig.rubberband_canvas.style.cursor = cursor;\n",
       "}\n",
       "\n",
       "mpl.figure.prototype.handle_message = function(fig, msg) {\n",
       "    fig.message.textContent = msg['message'];\n",
       "}\n",
       "\n",
       "mpl.figure.prototype.handle_draw = function(fig, msg) {\n",
       "    // Request the server to send over a new figure.\n",
       "    fig.send_draw_message();\n",
       "}\n",
       "\n",
       "mpl.figure.prototype.handle_image_mode = function(fig, msg) {\n",
       "    fig.image_mode = msg['mode'];\n",
       "}\n",
       "\n",
       "mpl.figure.prototype.updated_canvas_event = function() {\n",
       "    // Called whenever the canvas gets updated.\n",
       "    this.send_message(\"ack\", {});\n",
       "}\n",
       "\n",
       "// A function to construct a web socket function for onmessage handling.\n",
       "// Called in the figure constructor.\n",
       "mpl.figure.prototype._make_on_message_function = function(fig) {\n",
       "    return function socket_on_message(evt) {\n",
       "        if (evt.data instanceof Blob) {\n",
       "            /* FIXME: We get \"Resource interpreted as Image but\n",
       "             * transferred with MIME type text/plain:\" errors on\n",
       "             * Chrome.  But how to set the MIME type?  It doesn't seem\n",
       "             * to be part of the websocket stream */\n",
       "            evt.data.type = \"image/png\";\n",
       "\n",
       "            /* Free the memory for the previous frames */\n",
       "            if (fig.imageObj.src) {\n",
       "                (window.URL || window.webkitURL).revokeObjectURL(\n",
       "                    fig.imageObj.src);\n",
       "            }\n",
       "\n",
       "            fig.imageObj.src = (window.URL || window.webkitURL).createObjectURL(\n",
       "                evt.data);\n",
       "            fig.updated_canvas_event();\n",
       "            fig.waiting = false;\n",
       "            return;\n",
       "        }\n",
       "        else if (typeof evt.data === 'string' && evt.data.slice(0, 21) == \"data:image/png;base64\") {\n",
       "            fig.imageObj.src = evt.data;\n",
       "            fig.updated_canvas_event();\n",
       "            fig.waiting = false;\n",
       "            return;\n",
       "        }\n",
       "\n",
       "        var msg = JSON.parse(evt.data);\n",
       "        var msg_type = msg['type'];\n",
       "\n",
       "        // Call the  \"handle_{type}\" callback, which takes\n",
       "        // the figure and JSON message as its only arguments.\n",
       "        try {\n",
       "            var callback = fig[\"handle_\" + msg_type];\n",
       "        } catch (e) {\n",
       "            console.log(\"No handler for the '\" + msg_type + \"' message type: \", msg);\n",
       "            return;\n",
       "        }\n",
       "\n",
       "        if (callback) {\n",
       "            try {\n",
       "                // console.log(\"Handling '\" + msg_type + \"' message: \", msg);\n",
       "                callback(fig, msg);\n",
       "            } catch (e) {\n",
       "                console.log(\"Exception inside the 'handler_\" + msg_type + \"' callback:\", e, e.stack, msg);\n",
       "            }\n",
       "        }\n",
       "    };\n",
       "}\n",
       "\n",
       "// from http://stackoverflow.com/questions/1114465/getting-mouse-location-in-canvas\n",
       "mpl.findpos = function(e) {\n",
       "    //this section is from http://www.quirksmode.org/js/events_properties.html\n",
       "    var targ;\n",
       "    if (!e)\n",
       "        e = window.event;\n",
       "    if (e.target)\n",
       "        targ = e.target;\n",
       "    else if (e.srcElement)\n",
       "        targ = e.srcElement;\n",
       "    if (targ.nodeType == 3) // defeat Safari bug\n",
       "        targ = targ.parentNode;\n",
       "\n",
       "    // jQuery normalizes the pageX and pageY\n",
       "    // pageX,Y are the mouse positions relative to the document\n",
       "    // offset() returns the position of the element relative to the document\n",
       "    var x = e.pageX - $(targ).offset().left;\n",
       "    var y = e.pageY - $(targ).offset().top;\n",
       "\n",
       "    return {\"x\": x, \"y\": y};\n",
       "};\n",
       "\n",
       "/*\n",
       " * return a copy of an object with only non-object keys\n",
       " * we need this to avoid circular references\n",
       " * http://stackoverflow.com/a/24161582/3208463\n",
       " */\n",
       "function simpleKeys (original) {\n",
       "  return Object.keys(original).reduce(function (obj, key) {\n",
       "    if (typeof original[key] !== 'object')\n",
       "        obj[key] = original[key]\n",
       "    return obj;\n",
       "  }, {});\n",
       "}\n",
       "\n",
       "mpl.figure.prototype.mouse_event = function(event, name) {\n",
       "    var canvas_pos = mpl.findpos(event)\n",
       "\n",
       "    if (name === 'button_press')\n",
       "    {\n",
       "        this.canvas.focus();\n",
       "        this.canvas_div.focus();\n",
       "    }\n",
       "\n",
       "    var x = canvas_pos.x * mpl.ratio;\n",
       "    var y = canvas_pos.y * mpl.ratio;\n",
       "\n",
       "    this.send_message(name, {x: x, y: y, button: event.button,\n",
       "                             step: event.step,\n",
       "                             guiEvent: simpleKeys(event)});\n",
       "\n",
       "    /* This prevents the web browser from automatically changing to\n",
       "     * the text insertion cursor when the button is pressed.  We want\n",
       "     * to control all of the cursor setting manually through the\n",
       "     * 'cursor' event from matplotlib */\n",
       "    event.preventDefault();\n",
       "    return false;\n",
       "}\n",
       "\n",
       "mpl.figure.prototype._key_event_extra = function(event, name) {\n",
       "    // Handle any extra behaviour associated with a key event\n",
       "}\n",
       "\n",
       "mpl.figure.prototype.key_event = function(event, name) {\n",
       "\n",
       "    // Prevent repeat events\n",
       "    if (name == 'key_press')\n",
       "    {\n",
       "        if (event.which === this._key)\n",
       "            return;\n",
       "        else\n",
       "            this._key = event.which;\n",
       "    }\n",
       "    if (name == 'key_release')\n",
       "        this._key = null;\n",
       "\n",
       "    var value = '';\n",
       "    if (event.ctrlKey && event.which != 17)\n",
       "        value += \"ctrl+\";\n",
       "    if (event.altKey && event.which != 18)\n",
       "        value += \"alt+\";\n",
       "    if (event.shiftKey && event.which != 16)\n",
       "        value += \"shift+\";\n",
       "\n",
       "    value += 'k';\n",
       "    value += event.which.toString();\n",
       "\n",
       "    this._key_event_extra(event, name);\n",
       "\n",
       "    this.send_message(name, {key: value,\n",
       "                             guiEvent: simpleKeys(event)});\n",
       "    return false;\n",
       "}\n",
       "\n",
       "mpl.figure.prototype.toolbar_button_onclick = function(name) {\n",
       "    if (name == 'download') {\n",
       "        this.handle_save(this, null);\n",
       "    } else {\n",
       "        this.send_message(\"toolbar_button\", {name: name});\n",
       "    }\n",
       "};\n",
       "\n",
       "mpl.figure.prototype.toolbar_button_onmouseover = function(tooltip) {\n",
       "    this.message.textContent = tooltip;\n",
       "};\n",
       "mpl.toolbar_items = [[\"Home\", \"Reset original view\", \"fa fa-home icon-home\", \"home\"], [\"Back\", \"Back to previous view\", \"fa fa-arrow-left icon-arrow-left\", \"back\"], [\"Forward\", \"Forward to next view\", \"fa fa-arrow-right icon-arrow-right\", \"forward\"], [\"\", \"\", \"\", \"\"], [\"Pan\", \"Pan axes with left mouse, zoom with right\", \"fa fa-arrows icon-move\", \"pan\"], [\"Zoom\", \"Zoom to rectangle\", \"fa fa-square-o icon-check-empty\", \"zoom\"], [\"\", \"\", \"\", \"\"], [\"Download\", \"Download plot\", \"fa fa-floppy-o icon-save\", \"download\"]];\n",
       "\n",
       "mpl.extensions = [\"eps\", \"jpeg\", \"pdf\", \"png\", \"ps\", \"raw\", \"svg\", \"tif\"];\n",
       "\n",
       "mpl.default_extension = \"png\";var comm_websocket_adapter = function(comm) {\n",
       "    // Create a \"websocket\"-like object which calls the given IPython comm\n",
       "    // object with the appropriate methods. Currently this is a non binary\n",
       "    // socket, so there is still some room for performance tuning.\n",
       "    var ws = {};\n",
       "\n",
       "    ws.close = function() {\n",
       "        comm.close()\n",
       "    };\n",
       "    ws.send = function(m) {\n",
       "        //console.log('sending', m);\n",
       "        comm.send(m);\n",
       "    };\n",
       "    // Register the callback with on_msg.\n",
       "    comm.on_msg(function(msg) {\n",
       "        //console.log('receiving', msg['content']['data'], msg);\n",
       "        // Pass the mpl event to the overridden (by mpl) onmessage function.\n",
       "        ws.onmessage(msg['content']['data'])\n",
       "    });\n",
       "    return ws;\n",
       "}\n",
       "\n",
       "mpl.mpl_figure_comm = function(comm, msg) {\n",
       "    // This is the function which gets called when the mpl process\n",
       "    // starts-up an IPython Comm through the \"matplotlib\" channel.\n",
       "\n",
       "    var id = msg.content.data.id;\n",
       "    // Get hold of the div created by the display call when the Comm\n",
       "    // socket was opened in Python.\n",
       "    var element = $(\"#\" + id);\n",
       "    var ws_proxy = comm_websocket_adapter(comm)\n",
       "\n",
       "    function ondownload(figure, format) {\n",
       "        window.open(figure.imageObj.src);\n",
       "    }\n",
       "\n",
       "    var fig = new mpl.figure(id, ws_proxy,\n",
       "                           ondownload,\n",
       "                           element.get(0));\n",
       "\n",
       "    // Call onopen now - mpl needs it, as it is assuming we've passed it a real\n",
       "    // web socket which is closed, not our websocket->open comm proxy.\n",
       "    ws_proxy.onopen();\n",
       "\n",
       "    fig.parent_element = element.get(0);\n",
       "    fig.cell_info = mpl.find_output_cell(\"<div id='\" + id + \"'></div>\");\n",
       "    if (!fig.cell_info) {\n",
       "        console.error(\"Failed to find cell for figure\", id, fig);\n",
       "        return;\n",
       "    }\n",
       "\n",
       "    var output_index = fig.cell_info[2]\n",
       "    var cell = fig.cell_info[0];\n",
       "\n",
       "};\n",
       "\n",
       "mpl.figure.prototype.handle_close = function(fig, msg) {\n",
       "    var width = fig.canvas.width/mpl.ratio\n",
       "    fig.root.unbind('remove')\n",
       "\n",
       "    // Update the output cell to use the data from the current canvas.\n",
       "    fig.push_to_output();\n",
       "    var dataURL = fig.canvas.toDataURL();\n",
       "    // Re-enable the keyboard manager in IPython - without this line, in FF,\n",
       "    // the notebook keyboard shortcuts fail.\n",
       "    IPython.keyboard_manager.enable()\n",
       "    $(fig.parent_element).html('<img src=\"' + dataURL + '\" width=\"' + width + '\">');\n",
       "    fig.close_ws(fig, msg);\n",
       "}\n",
       "\n",
       "mpl.figure.prototype.close_ws = function(fig, msg){\n",
       "    fig.send_message('closing', msg);\n",
       "    // fig.ws.close()\n",
       "}\n",
       "\n",
       "mpl.figure.prototype.push_to_output = function(remove_interactive) {\n",
       "    // Turn the data on the canvas into data in the output cell.\n",
       "    var width = this.canvas.width/mpl.ratio\n",
       "    var dataURL = this.canvas.toDataURL();\n",
       "    this.cell_info[1]['text/html'] = '<img src=\"' + dataURL + '\" width=\"' + width + '\">';\n",
       "}\n",
       "\n",
       "mpl.figure.prototype.updated_canvas_event = function() {\n",
       "    // Tell IPython that the notebook contents must change.\n",
       "    IPython.notebook.set_dirty(true);\n",
       "    this.send_message(\"ack\", {});\n",
       "    var fig = this;\n",
       "    // Wait a second, then push the new image to the DOM so\n",
       "    // that it is saved nicely (might be nice to debounce this).\n",
       "    setTimeout(function () { fig.push_to_output() }, 1000);\n",
       "}\n",
       "\n",
       "mpl.figure.prototype._init_toolbar = function() {\n",
       "    var fig = this;\n",
       "\n",
       "    var nav_element = $('<div/>');\n",
       "    nav_element.attr('style', 'width: 100%');\n",
       "    this.root.append(nav_element);\n",
       "\n",
       "    // Define a callback function for later on.\n",
       "    function toolbar_event(event) {\n",
       "        return fig.toolbar_button_onclick(event['data']);\n",
       "    }\n",
       "    function toolbar_mouse_event(event) {\n",
       "        return fig.toolbar_button_onmouseover(event['data']);\n",
       "    }\n",
       "\n",
       "    for(var toolbar_ind in mpl.toolbar_items){\n",
       "        var name = mpl.toolbar_items[toolbar_ind][0];\n",
       "        var tooltip = mpl.toolbar_items[toolbar_ind][1];\n",
       "        var image = mpl.toolbar_items[toolbar_ind][2];\n",
       "        var method_name = mpl.toolbar_items[toolbar_ind][3];\n",
       "\n",
       "        if (!name) { continue; };\n",
       "\n",
       "        var button = $('<button class=\"btn btn-default\" href=\"#\" title=\"' + name + '\"><i class=\"fa ' + image + ' fa-lg\"></i></button>');\n",
       "        button.click(method_name, toolbar_event);\n",
       "        button.mouseover(tooltip, toolbar_mouse_event);\n",
       "        nav_element.append(button);\n",
       "    }\n",
       "\n",
       "    // Add the status bar.\n",
       "    var status_bar = $('<span class=\"mpl-message\" style=\"text-align:right; float: right;\"/>');\n",
       "    nav_element.append(status_bar);\n",
       "    this.message = status_bar[0];\n",
       "\n",
       "    // Add the close button to the window.\n",
       "    var buttongrp = $('<div class=\"btn-group inline pull-right\"></div>');\n",
       "    var button = $('<button class=\"btn btn-mini btn-primary\" href=\"#\" title=\"Stop Interaction\"><i class=\"fa fa-power-off icon-remove icon-large\"></i></button>');\n",
       "    button.click(function (evt) { fig.handle_close(fig, {}); } );\n",
       "    button.mouseover('Stop Interaction', toolbar_mouse_event);\n",
       "    buttongrp.append(button);\n",
       "    var titlebar = this.root.find($('.ui-dialog-titlebar'));\n",
       "    titlebar.prepend(buttongrp);\n",
       "}\n",
       "\n",
       "mpl.figure.prototype._root_extra_style = function(el){\n",
       "    var fig = this\n",
       "    el.on(\"remove\", function(){\n",
       "\tfig.close_ws(fig, {});\n",
       "    });\n",
       "}\n",
       "\n",
       "mpl.figure.prototype._canvas_extra_style = function(el){\n",
       "    // this is important to make the div 'focusable\n",
       "    el.attr('tabindex', 0)\n",
       "    // reach out to IPython and tell the keyboard manager to turn it's self\n",
       "    // off when our div gets focus\n",
       "\n",
       "    // location in version 3\n",
       "    if (IPython.notebook.keyboard_manager) {\n",
       "        IPython.notebook.keyboard_manager.register_events(el);\n",
       "    }\n",
       "    else {\n",
       "        // location in version 2\n",
       "        IPython.keyboard_manager.register_events(el);\n",
       "    }\n",
       "\n",
       "}\n",
       "\n",
       "mpl.figure.prototype._key_event_extra = function(event, name) {\n",
       "    var manager = IPython.notebook.keyboard_manager;\n",
       "    if (!manager)\n",
       "        manager = IPython.keyboard_manager;\n",
       "\n",
       "    // Check for shift+enter\n",
       "    if (event.shiftKey && event.which == 13) {\n",
       "        this.canvas_div.blur();\n",
       "        // select the cell after this one\n",
       "        var index = IPython.notebook.find_cell_index(this.cell_info[0]);\n",
       "        IPython.notebook.select(index + 1);\n",
       "    }\n",
       "}\n",
       "\n",
       "mpl.figure.prototype.handle_save = function(fig, msg) {\n",
       "    fig.ondownload(fig, null);\n",
       "}\n",
       "\n",
       "\n",
       "mpl.find_output_cell = function(html_output) {\n",
       "    // Return the cell and output element which can be found *uniquely* in the notebook.\n",
       "    // Note - this is a bit hacky, but it is done because the \"notebook_saving.Notebook\"\n",
       "    // IPython event is triggered only after the cells have been serialised, which for\n",
       "    // our purposes (turning an active figure into a static one), is too late.\n",
       "    var cells = IPython.notebook.get_cells();\n",
       "    var ncells = cells.length;\n",
       "    for (var i=0; i<ncells; i++) {\n",
       "        var cell = cells[i];\n",
       "        if (cell.cell_type === 'code'){\n",
       "            for (var j=0; j<cell.output_area.outputs.length; j++) {\n",
       "                var data = cell.output_area.outputs[j];\n",
       "                if (data.data) {\n",
       "                    // IPython >= 3 moved mimebundle to data attribute of output\n",
       "                    data = data.data;\n",
       "                }\n",
       "                if (data['text/html'] == html_output) {\n",
       "                    return [cell, data, j];\n",
       "                }\n",
       "            }\n",
       "        }\n",
       "    }\n",
       "}\n",
       "\n",
       "// Register the function which deals with the matplotlib target/channel.\n",
       "// The kernel may be null if the page has been refreshed.\n",
       "if (IPython.notebook.kernel != null) {\n",
       "    IPython.notebook.kernel.comm_manager.register_target('matplotlib', mpl.mpl_figure_comm);\n",
       "}\n"
      ],
      "text/plain": [
       "<IPython.core.display.Javascript object>"
      ]
     },
     "metadata": {},
     "output_type": "display_data"
    },
    {
     "data": {
      "text/html": [
       "<div id='7b38fe45-77a8-4e92-b1de-09a1507cf1fa'></div>"
      ],
      "text/plain": [
       "<IPython.core.display.HTML object>"
      ]
     },
     "metadata": {},
     "output_type": "display_data"
    }
   ],
   "source": [
    "fig = plt.figure()\n",
    "## word embedding\n",
    "word= \"Toyota Camry\"\n",
    "tot_words = [word] + [tupla[0] for tupla in \n",
    "                 model.most_similar(word, topn=20)]\n",
    "X = model[tot_words]\n",
    "## pca to reduce dimensionality from 300 to 3\n",
    "pca = TSNE(perplexity=40, n_components=3, init='pca')\n",
    "X = pca.fit_transform(X)\n",
    "## create dtf\n",
    "dtf_ = pd.DataFrame(X, index=tot_words, columns=[\"x\",\"y\",\"z\"])\n",
    "dtf_[\"input\"] = 0\n",
    "dtf_[\"input\"].iloc[0:1] = 1\n",
    "## plot 3d\n",
    "from mpl_toolkits.mplot3d import Axes3D\n",
    "ax = fig.add_subplot(111, projection='3d')\n",
    "ax.scatter(dtf_[dtf_[\"input\"]==0]['x'], \n",
    "           dtf_[dtf_[\"input\"]==0]['y'], \n",
    "           dtf_[dtf_[\"input\"]==0]['z'], c=\"black\")\n",
    "ax.scatter(dtf_[dtf_[\"input\"]==1]['x'], \n",
    "           dtf_[dtf_[\"input\"]==1]['y'], \n",
    "           dtf_[dtf_[\"input\"]==1]['z'], c=\"red\")\n",
    "ax.set(xlabel=None, ylabel=None, zlabel=None, xticklabels=[], \n",
    "       yticklabels=[], zticklabels=[])\n",
    "for label, row in dtf_[[\"x\",\"y\",\"z\"]].iterrows():\n",
    "    x, y, z = row\n",
    "    ax.text(x, y, z, s=label)\n",
    "plt.show()"
   ]
  },
  {
   "cell_type": "markdown",
   "metadata": {
    "id": "DBz-13HDQTs7"
   },
   "source": [
    "# Anchored CorEx: Topic Modeling with Minimal Domain Knowledge"
   ]
  },
  {
   "cell_type": "markdown",
   "metadata": {
    "id": "sIRdMlPvQTtG"
   },
   "source": [
    "**Author:** [Ryan J. Gallagher](http://ryanjgallagher.github.io/)  \n",
    "\n",
    "**Last updated:** 03/22/2021"
   ]
  },
  {
   "cell_type": "markdown",
   "metadata": {
    "id": "4vTxcQJKQTtI"
   },
   "source": [
    "This notebook walks through how to use the CorEx topic model code. This includes fitting CorEx to your data, examining the topic model output, outputting results, building a hierarchical topic model, and anchoring words to topics.\n",
    "\n",
    "Details of the CorEx topic model and evaluations against unsupervised and semi-supervised variants of LDA can be found in our TACL paper:\n",
    "\n",
    "Gallagher, Ryan J., Kyle Reing, David Kale, and Greg Ver Steeg. \"[Anchored Correlation Explanation: Topic Modeling with Minimal Domain Knowledge](https://www.transacl.org/ojs/index.php/tacl/article/view/1244).\" *Transactions of the Association for Computational Linguistics (TACL)*, 2017."
   ]
  },
  {
   "cell_type": "code",
   "execution_count": null,
   "metadata": {
    "colab": {
     "base_uri": "https://localhost:8080/"
    },
    "executionInfo": {
     "elapsed": 4346,
     "status": "ok",
     "timestamp": 1645698233097,
     "user": {
      "displayName": "Juber Rahman",
      "photoUrl": "https://lh3.googleusercontent.com/a-/AOh14GjmsuwipSoBjFH5fDR08Oc-IhSG1Q5DeBFv_W7VCA=s64",
      "userId": "09880750030221834662"
     },
     "user_tz": 360
    },
    "id": "27FshLbMQbel",
    "outputId": "74d8c14c-7c7e-4ad7-cfea-0ed6a9da9d4a"
   },
   "outputs": [
    {
     "name": "stdout",
     "output_type": "stream",
     "text": [
      "Collecting corextopic\n",
      "  Downloading corextopic-1.1-py3-none-any.whl (27 kB)\n",
      "Installing collected packages: corextopic\n",
      "Successfully installed corextopic-1.1\n"
     ]
    }
   ],
   "source": [
    "!pip install corextopic"
   ]
  },
  {
   "cell_type": "code",
   "execution_count": null,
   "metadata": {
    "collapsed": true,
    "id": "_Dx7OD8jQTtJ"
   },
   "outputs": [],
   "source": [
    "import numpy as np\n",
    "import scipy.sparse as ss\n",
    "import matplotlib.pyplot as plt\n",
    "\n",
    "import corextopic.corextopic as ct\n",
    "import corextopic.vis_topic as vt # jupyter notebooks will complain matplotlib is being loaded twice\n",
    "\n",
    "from sklearn.datasets import fetch_20newsgroups\n",
    "from sklearn.feature_extraction.text import CountVectorizer\n",
    "\n",
    "%matplotlib inline"
   ]
  },
  {
   "cell_type": "markdown",
   "metadata": {
    "id": "mhwxb-fsQTtM"
   },
   "source": [
    "## Loading the 20 Newsgroups Dataset"
   ]
  },
  {
   "cell_type": "markdown",
   "metadata": {
    "id": "QHFYwif4QTtM"
   },
   "source": [
    "We need to first load data to run the CorEx topic model. We'll use the 20 Newsgroups dataset, which scikit-learn provides functionality to access."
   ]
  },
  {
   "cell_type": "code",
   "execution_count": null,
   "metadata": {
    "collapsed": true,
    "id": "9KDCgq1xQTtN"
   },
   "outputs": [],
   "source": [
    "# Get 20 newsgroups data\n",
    "newsgroups = fetch_20newsgroups(subset='train', remove=('headers', 'footers', 'quotes'))"
   ]
  },
  {
   "cell_type": "markdown",
   "metadata": {
    "id": "noyo2LsQQTtP"
   },
   "source": [
    "The topic model assumes input is in the form of a doc-word matrix, where rows are documents and columns are binary counts. We'll vectorize the newsgroups data, take the top 20,000 words, and convert it to a sparse matrix to save on memory usage. Note, we use binary count vectors as input to the CorEx topic model."
   ]
  },
  {
   "cell_type": "code",
   "execution_count": null,
   "metadata": {
    "colab": {
     "base_uri": "https://localhost:8080/"
    },
    "executionInfo": {
     "elapsed": 2303,
     "status": "ok",
     "timestamp": 1645698268522,
     "user": {
      "displayName": "Juber Rahman",
      "photoUrl": "https://lh3.googleusercontent.com/a-/AOh14GjmsuwipSoBjFH5fDR08Oc-IhSG1Q5DeBFv_W7VCA=s64",
      "userId": "09880750030221834662"
     },
     "user_tz": 360
    },
    "id": "iPHEU1U7QTtQ",
    "outputId": "af8b4302-08ed-46f9-a487-f2872c360fe7"
   },
   "outputs": [
    {
     "data": {
      "text/plain": [
       "(11314, 20000)"
      ]
     },
     "execution_count": 5,
     "metadata": {},
     "output_type": "execute_result"
    }
   ],
   "source": [
    "# Transform 20 newsgroup data into a sparse matrix\n",
    "vectorizer = CountVectorizer(stop_words='english', max_features=20000, binary=True)\n",
    "doc_word = vectorizer.fit_transform(newsgroups.data)\n",
    "doc_word = ss.csr_matrix(doc_word)\n",
    "\n",
    "doc_word.shape # n_docs x m_words"
   ]
  },
  {
   "cell_type": "markdown",
   "metadata": {
    "id": "Q2CezmpJQTtT"
   },
   "source": [
    "Our doc-word matrix is 11,314 documents by 20,000 words. Let's get the words that label the columns. We'll need these for outputting readable topics and later for anchoring."
   ]
  },
  {
   "cell_type": "code",
   "execution_count": null,
   "metadata": {
    "colab": {
     "base_uri": "https://localhost:8080/"
    },
    "collapsed": true,
    "executionInfo": {
     "elapsed": 172,
     "status": "ok",
     "timestamp": 1645698274883,
     "user": {
      "displayName": "Juber Rahman",
      "photoUrl": "https://lh3.googleusercontent.com/a-/AOh14GjmsuwipSoBjFH5fDR08Oc-IhSG1Q5DeBFv_W7VCA=s64",
      "userId": "09880750030221834662"
     },
     "user_tz": 360
    },
    "id": "EZIM36VQQTtU",
    "outputId": "2031d6dc-1bc0-4692-846a-3fc6fab83947"
   },
   "outputs": [
    {
     "name": "stderr",
     "output_type": "stream",
     "text": [
      "/usr/local/lib/python3.7/dist-packages/sklearn/utils/deprecation.py:87: FutureWarning: Function get_feature_names is deprecated; get_feature_names is deprecated in 1.0 and will be removed in 1.2. Please use get_feature_names_out instead.\n",
      "  warnings.warn(msg, category=FutureWarning)\n"
     ]
    }
   ],
   "source": [
    "# Get words that label the columns (needed to extract readable topics and make anchoring easier)\n",
    "words = list(np.asarray(vectorizer.get_feature_names()))"
   ]
  },
  {
   "cell_type": "markdown",
   "metadata": {
    "id": "RcCaCmpfQTtV"
   },
   "source": [
    "We'll do a final step of preprocessing where we remove all integers from our set of words. This brings is down to 19,038 words."
   ]
  },
  {
   "cell_type": "code",
   "execution_count": null,
   "metadata": {
    "colab": {
     "base_uri": "https://localhost:8080/"
    },
    "executionInfo": {
     "elapsed": 191,
     "status": "ok",
     "timestamp": 1645698286754,
     "user": {
      "displayName": "Juber Rahman",
      "photoUrl": "https://lh3.googleusercontent.com/a-/AOh14GjmsuwipSoBjFH5fDR08Oc-IhSG1Q5DeBFv_W7VCA=s64",
      "userId": "09880750030221834662"
     },
     "user_tz": 360
    },
    "id": "0J6zx5ZcQTtV",
    "outputId": "e7430d85-3a26-4c44-d6f5-a4409546b4fb"
   },
   "outputs": [
    {
     "data": {
      "text/plain": [
       "(11314, 19038)"
      ]
     },
     "execution_count": 7,
     "metadata": {},
     "output_type": "execute_result"
    }
   ],
   "source": [
    "not_digit_inds = [ind for ind,word in enumerate(words) if not word.isdigit()]\n",
    "doc_word = doc_word[:,not_digit_inds]\n",
    "words    = [word for ind,word in enumerate(words) if not word.isdigit()]\n",
    "\n",
    "doc_word.shape # n_docs x m_words"
   ]
  },
  {
   "cell_type": "markdown",
   "metadata": {
    "id": "mYSN9um5QTtW"
   },
   "source": [
    "## CorEx Topic Model"
   ]
  },
  {
   "cell_type": "markdown",
   "metadata": {
    "id": "B1sYZwEnQTtX"
   },
   "source": [
    "The main parameters of the CorEx topic model are:\n",
    "+ **`n_hidden`**: number of topics (\"hidden\" as in \"hidden latent topics\")\n",
    "+ **`words`**: words that label the columns of the doc-word matrix (optional)\n",
    "+ **`docs`**: document labels that label the rows of the doc-word matrix (optional)\n",
    "+ **`max_iter`**: number of iterations to run through the update equations (optional, defaults to 200)\n",
    "+ **`verbose`**:  if `verbose=1`, then CorEx will print the topic TCs with each iteration\n",
    "+ **`seed`**:     random number seed to use for model initialization (optional)\n",
    "\n",
    "We'll train a topic model with 50 topics. (This will take a few minutes.)"
   ]
  },
  {
   "cell_type": "code",
   "execution_count": null,
   "metadata": {
    "collapsed": true,
    "id": "qzPgNOxcQTtY"
   },
   "outputs": [],
   "source": [
    "# Train the CorEx topic model with 50 topics\n",
    "topic_model = ct.Corex(n_hidden=50, words=words, max_iter=200, verbose=False, seed=1)\n",
    "topic_model.fit(doc_word, words=words);"
   ]
  },
  {
   "cell_type": "markdown",
   "metadata": {
    "id": "uRVGFEZiQTtZ"
   },
   "source": [
    "## CorEx Output"
   ]
  },
  {
   "cell_type": "markdown",
   "metadata": {
    "id": "RAL2ZKXvQTta"
   },
   "source": [
    "### Topics"
   ]
  },
  {
   "cell_type": "markdown",
   "metadata": {
    "id": "lBfERzyZQTta"
   },
   "source": [
    "The CorEx topic model provides functionality for easily accessing the topics. Let's take a look one of the topics."
   ]
  },
  {
   "cell_type": "code",
   "execution_count": null,
   "metadata": {
    "id": "NQK8Rxf5QTta",
    "outputId": "af2590c2-3038-43d8-fc20-1f91fb580198"
   },
   "outputs": [
    {
     "data": {
      "text/plain": [
       "[('team', 0.07605118792683423, 1.0),\n",
       " ('game', 0.06666754127982474, 1.0),\n",
       " ('season', 0.04887993842517729, 1.0),\n",
       " ('players', 0.04734426771441264, 1.0),\n",
       " ('league', 0.043708887910980376, 1.0),\n",
       " ('play', 0.043335932010217425, 1.0),\n",
       " ('hockey', 0.042396968873452616, 1.0),\n",
       " ('games', 0.039692707277392415, 1.0),\n",
       " ('teams', 0.03682532840163069, 1.0),\n",
       " ('nhl', 0.03191145093230828, 1.0)]"
      ]
     },
     "execution_count": 7,
     "metadata": {},
     "output_type": "execute_result"
    }
   ],
   "source": [
    "# Print a single topic from CorEx topic model\n",
    "topic_model.get_topics(topic=1, n_words=10)"
   ]
  },
  {
   "cell_type": "markdown",
   "metadata": {
    "id": "dwgwi1b1QTtb"
   },
   "source": [
    "The topic words are those with the highest *mutual information* with the topic, rather than those with highest probability within the topic as in LDA. The mutual information with the topic is the number reported in each tuple. CorEx also returns the \"sign\" of each word, which is either 1 or -1. If the sign is -1, then that means the *absence* of a word is informative in that topic, rather than its presence. \n",
    "\n",
    "If the column labels have not been specified through **`words`**, then the code will return the column indices for the top words in each topic.\n",
    "\n",
    "We can also retrieve all of the topics at once if we would like."
   ]
  },
  {
   "cell_type": "code",
   "execution_count": null,
   "metadata": {
    "id": "xnTyOSytQTtc",
    "outputId": "fd0dc997-bde1-4ea0-a227-52ee3146a208"
   },
   "outputs": [
    {
     "name": "stdout",
     "output_type": "stream",
     "text": [
      "0: dsl, n3jxp, chastity, cadre, geb, shameful, intellect, skepticism, banks, pitt\n",
      "1: team, game, season, players, league, play, hockey, games, teams, nhl\n",
      "2: government, law, public, rights, state, encryption, clipper, federal, security, secure\n",
      "3: god, jesus, bible, christians, christian, christ, religion, jews, church, faith\n",
      "4: people, say, fact, point, believe, person, saying, world, reason, mean\n",
      "5: armenians, armenian, national, international, argic, press, policy, serdar, soviet, armenia\n",
      "6: file, program, window, directory, ftp, pub, server, application, unix, available\n",
      "7: based, issue, sense, clear, truth, subject, certain, known, particular, existence\n",
      "8: cs, ma, au, gmt, cc, uu, id, sites, fi, host\n",
      "9: windows, software, card, thanks, pc, dos, files, disk, advance, ram\n",
      "10: drive, sale, scsi, controller, board, shipping, ide, drives, cd, bus\n",
      "11: pitching, hit, staff, braves, runs, hitter, nl, smith, hr, baltimore\n",
      "12: just, don, like, time, going, right, better, let, come, didn\n",
      "13: archive, various, document, related, addition, modified, published, contents, complete, distributed\n",
      "14: information, internet, university, systems, send, following, address, phone, contact, computer\n",
      "15: year, april, san, york, los, washington, north, angeles, city, california\n",
      "16: war, country, children, killed, military, population, society, live, soldiers, anti\n",
      "17: space, nasa, orbit, earth, moon, launch, shuttle, lunar, mission, flight\n",
      "18: life, sin, words, mind, spirit, born, father, follow, accept, son\n",
      "19: pp, special, van, berkeley, journal, ai, mark, mu, la, vol\n",
      "20: years, away, later, left, came, days, old, ago, took, gave\n",
      "21: disease, medical, doctor, patients, food, cause, treatment, medicine, blood, health\n",
      "22: provide, questions, provides, developed, specific, development, standard, require, appropriate, commercial\n",
      "23: given, number, note, end, present, taken, according, purpose, numbers, major\n",
      "24: key, keys, data, algorithm, details, des, process, contains, users, provided\n",
      "25: members, turkish, involved, army, organizations, troops, received, organization, land, fighting\n",
      "26: read, different, example, does, word, having, groups, written, book, try\n",
      "27: united, states, american, force, individual, independent, arms, community, nation, forces\n",
      "28: death, human, said, evidence, crime, self, kill, lives, murder, killing\n",
      "29: new, including, sent, single, department, short, news, ii, school, placed\n",
      "30: use, using, work, used, need, run, problems, line, help, type\n",
      "31: large, small, control, needed, outside, local, light, parts, useful, ground\n",
      "32: general, important, far, course, non, times, actually, consider, likely, result\n",
      "33: think, way, good, things, really, know, did, thing, ve, probably\n",
      "34: problem, set, place, called, change, trying, return, open, support, instead\n",
      "35: man, history, today, women, went, told, coming, happened, stand, knew\n",
      "36: second, john, period, 1st, 2nd, 3rd, points, goal, ed, followed\n",
      "37: bike, ride, engine, riding, dod, bikes, miles, motorcycle, rear, honda\n",
      "38: drivers, mode, mb, faster, interface, os, driver, hp, color, fast\n",
      "39: gun, guns, weapons, firearms, defense, weapon, batf, armed, assault, shooting\n",
      "40: high, power, low, current, model, al, lower, higher, series, average\n",
      "41: ways, dr, break, passed, kinds, reach, mass, larry, content, stands\n",
      "42: wide, included, volume, remote, bit, pages, notes, fully, fields, operations\n",
      "43: long, day, especially, situation, rest, body, century, ones, family, worse\n",
      "44: make, want, real, case, possible, order, quite, free, able, ask\n",
      "45: car, money, cars, pay, tax, road, deal, insurance, worth, dollars\n",
      "46: drug, certainly, considered, taking, effective, expect, generally, social, child, purposes\n",
      "47: necessary, strong, prevent, required, plan, safe, carefully, attention, aside, unique\n",
      "48: little, wants, takes, comes, lead, trouble, looks, pass, capable, unfortunately\n",
      "49: bring, brought, happy, charge, smart, improve, shows, england, cast, belong\n"
     ]
    }
   ],
   "source": [
    "# Print all topics from the CorEx topic model\n",
    "topics = topic_model.get_topics()\n",
    "for n,topic in enumerate(topics):\n",
    "    topic_words,_,_ = zip(*topic)\n",
    "    print('{}: '.format(n) + ', '.join(topic_words))"
   ]
  },
  {
   "cell_type": "markdown",
   "metadata": {
    "id": "BTws_VvWQTtc"
   },
   "source": [
    "The first topic for the newsgroup data tends to be less coherent than expected because of encodings and other oddities in the newsgroups data.  \n",
    "\n",
    "We can also get the column indices instead of the column labels if necessary."
   ]
  },
  {
   "cell_type": "code",
   "execution_count": null,
   "metadata": {
    "id": "HWfQLueNQTtd",
    "outputId": "ab9e34df-8f4c-4ed7-86bf-56b252f8da61"
   },
   "outputs": [
    {
     "data": {
      "text/plain": [
       "[(1336, 0.037197519799330066, 1.0),\n",
       " (1335, 0.03608567121432171, 1.0),\n",
       " (11448, 0.03531603719337086, 1.0),\n",
       " (8968, 0.03075981567134055, 1.0),\n",
       " (1306, 0.029126522278008646, 1.0),\n",
       " (13303, 0.02777130708538792, 1.0),\n",
       " (13051, 0.027594397620650163, 1.0),\n",
       " (15437, 0.026729063880204122, 1.0),\n",
       " (16092, 0.026121923976488198, 1.0),\n",
       " (1334, 0.02589034185072226, 1.0)]"
      ]
     },
     "execution_count": 9,
     "metadata": {},
     "output_type": "execute_result"
    }
   ],
   "source": [
    "topic_model.get_topics(topic=5, n_words=10, print_words=False)"
   ]
  },
  {
   "cell_type": "markdown",
   "metadata": {
    "id": "UNU81sOnQTtd"
   },
   "source": [
    "If we need to directly access the topic assignments for each word, they can be accessed through **`cluster`**."
   ]
  },
  {
   "cell_type": "code",
   "execution_count": null,
   "metadata": {
    "id": "UonyYNN_QTtd",
    "outputId": "1ce13b99-021c-4b02-d227-928d892a964f"
   },
   "outputs": [
    {
     "name": "stdout",
     "output_type": "stream",
     "text": [
      "[ 8  9 38 ... 37  0  0]\n",
      "(19038,)\n"
     ]
    }
   ],
   "source": [
    "print(topic_model.clusters)\n",
    "print(topic_model.clusters.shape) # m_words"
   ]
  },
  {
   "cell_type": "markdown",
   "metadata": {
    "id": "R6602y55QTte"
   },
   "source": [
    "### Document Labels"
   ]
  },
  {
   "cell_type": "markdown",
   "metadata": {
    "id": "Ry90uENOQTte"
   },
   "source": [
    "As with the topic words, the most probable documents per topic can also be easily accessed. Documents are sorted according to log probabilities which is why the highest probability documents have a score of 0 ($e^0 = 1$) and other documents have negative scores (for example, $e^{-0.5} \\approx 0.6$)."
   ]
  },
  {
   "cell_type": "code",
   "execution_count": null,
   "metadata": {
    "id": "JZGwpklfQTte",
    "outputId": "f92094d8-525e-43f3-92c8-f9cc0ef40072"
   },
   "outputs": [
    {
     "name": "stdout",
     "output_type": "stream",
     "text": [
      "NOTE: 'docs' not provided to CorEx. Returning top docs as lists of row indices\n"
     ]
    },
    {
     "data": {
      "text/plain": [
       "[(3097, 0.0),\n",
       " (2350, 0.0),\n",
       " (105, 0.0),\n",
       " (3864, 0.0),\n",
       " (9396, 0.0),\n",
       " (11229, 0.0),\n",
       " (6440, 0.0),\n",
       " (6437, 0.0),\n",
       " (2284, 0.0),\n",
       " (8445, 0.0)]"
      ]
     },
     "execution_count": 11,
     "metadata": {},
     "output_type": "execute_result"
    }
   ],
   "source": [
    "# Print a single topic from CorEx topic model\n",
    "topic_model.get_top_docs(topic=0, n_docs=10, sort_by='log_prob')"
   ]
  },
  {
   "cell_type": "markdown",
   "metadata": {
    "id": "UBs00w1fQTtf"
   },
   "source": [
    "CorEx is a *discriminative* model, whereas LDA is a *generative* model. This means that while LDA outputs a probability distribution over each document, CorEx instead estimates the probability a document belongs to a topic given that document's words. As a result, the probabilities across topics for a given document do not have to add up to 1. The estimated probabilities of topics for each document can be accessed through **`log_p_y_given_x`** or **`p_y_given_x`**."
   ]
  },
  {
   "cell_type": "code",
   "execution_count": null,
   "metadata": {
    "id": "PquwVDLhQTtf",
    "outputId": "96756180-0600-4286-ed13-85c47dee25ba"
   },
   "outputs": [
    {
     "name": "stdout",
     "output_type": "stream",
     "text": [
      "(11314, 50)\n"
     ]
    }
   ],
   "source": [
    "print(topic_model.p_y_given_x.shape) # n_docs x k_topics"
   ]
  },
  {
   "cell_type": "markdown",
   "metadata": {
    "id": "BQX8BvXYQTtg"
   },
   "source": [
    "We can also use a softmax to make a binary determination of which documents belong to each topic. These softmax labels can be accessed through **`labels`**."
   ]
  },
  {
   "cell_type": "code",
   "execution_count": null,
   "metadata": {
    "id": "_XyFSDdYQTtg",
    "outputId": "dd77d0dd-9085-402d-f308-140a4159fed5"
   },
   "outputs": [
    {
     "name": "stdout",
     "output_type": "stream",
     "text": [
      "(11314, 50)\n"
     ]
    }
   ],
   "source": [
    "print(topic_model.labels.shape) # n_docs x k_topics"
   ]
  },
  {
   "cell_type": "markdown",
   "metadata": {
    "id": "BsUolU1JQTth"
   },
   "source": [
    "Since CorEx does not prescribe a probability distribution of topics over each document, this means that a document could possibly belong to no topics (all 0's across topics in **`labels`**) or all topics (all 1's across topics in **`labels`**)."
   ]
  },
  {
   "cell_type": "markdown",
   "metadata": {
    "id": "C9d-0sQgQTti"
   },
   "source": [
    "## Total Correlation and Model Selection"
   ]
  },
  {
   "cell_type": "markdown",
   "metadata": {
    "id": "08oA7bKNQTti"
   },
   "source": [
    "### Overall TC"
   ]
  },
  {
   "cell_type": "markdown",
   "metadata": {
    "id": "x-yef-enQTtj"
   },
   "source": [
    "Total correlation is the measure which CorEx maximize when constructing the topic model. It can be accessed through **`tc`** and is reported in nats."
   ]
  },
  {
   "cell_type": "code",
   "execution_count": null,
   "metadata": {
    "id": "qzHaNc01QTtk",
    "outputId": "d10efca5-831a-4570-9623-665e9284ba4a"
   },
   "outputs": [
    {
     "data": {
      "text/plain": [
       "44.54780845461276"
      ]
     },
     "execution_count": 14,
     "metadata": {},
     "output_type": "execute_result"
    }
   ],
   "source": [
    "topic_model.tc"
   ]
  },
  {
   "cell_type": "markdown",
   "metadata": {
    "id": "pA-xmhnMQTtl"
   },
   "source": [
    "**Model selection:** CorEx starts its algorithm with a random initialization, and so different runs can result in different topic models. One way of finding a better topic model is to restart the CorEx algorithm several times and take the run that has the highest TC value (i.e. the run that produces topics that are most informative about the documents)."
   ]
  },
  {
   "cell_type": "markdown",
   "metadata": {
    "id": "qzgP6mmDQTtl"
   },
   "source": [
    "### Topic TC"
   ]
  },
  {
   "cell_type": "markdown",
   "metadata": {
    "id": "jUsnchKIQTtl"
   },
   "source": [
    "The overall total correlation is the sum of the total correlation per each topic. These can be accessed through **`tcs`**. For an unsupervised CorEx topic model, the topics are always sorted from high to low according to their TC. For an anchored CorEx topic model, the topics are not sorted, and are outputted such that the anchored topics come first."
   ]
  },
  {
   "cell_type": "code",
   "execution_count": null,
   "metadata": {
    "id": "AYHAO0D4QTtm",
    "outputId": "f4d6e8fa-0bf8-4217-a439-a76f1783f596"
   },
   "outputs": [
    {
     "data": {
      "text/plain": [
       "(50,)"
      ]
     },
     "execution_count": 15,
     "metadata": {},
     "output_type": "execute_result"
    }
   ],
   "source": [
    "topic_model.tcs.shape # k_topics"
   ]
  },
  {
   "cell_type": "code",
   "execution_count": null,
   "metadata": {
    "id": "vZ704fEfQTtm",
    "outputId": "a5e4ea9a-d612-4d0e-f474-b3a997ca891e"
   },
   "outputs": [
    {
     "name": "stdout",
     "output_type": "stream",
     "text": [
      "44.54780845461276\n",
      "44.54780845461276\n"
     ]
    }
   ],
   "source": [
    "print(np.sum(topic_model.tcs))\n",
    "print(topic_model.tc)"
   ]
  },
  {
   "cell_type": "markdown",
   "metadata": {
    "id": "zP6npqTZQTtm"
   },
   "source": [
    "### Selecting the Number of Topics"
   ]
  },
  {
   "cell_type": "markdown",
   "metadata": {
    "id": "9lzxLQahQTtn"
   },
   "source": [
    "One way to choose the number of topics is to observe the distribution of TCs for each topic to see how much each additional topic contributes to the overall TC. We should keep adding topics until additional topics do not significantly contribute to the overall TC. This is similar to choosing a cutoff eigenvalue when doing topic modeling via LSA."
   ]
  },
  {
   "cell_type": "code",
   "execution_count": null,
   "metadata": {
    "id": "fKTd05YWQTtn",
    "outputId": "94c172c7-4970-418b-f3e3-7137997842c1",
    "scrolled": false
   },
   "outputs": [
    {
     "data": {
      "image/png": "[encoded data removed]",
      "text/plain": [
       "<Figure size 720x360 with 1 Axes>"
      ]
     },
     "metadata": {},
     "output_type": "display_data"
    }
   ],
   "source": [
    "plt.figure(figsize=(10,5))\n",
    "plt.bar(range(topic_model.tcs.shape[0]), topic_model.tcs, color='#4e79a7', width=0.5)\n",
    "plt.xlabel('Topic', fontsize=16)\n",
    "plt.ylabel('Total Correlation (nats)', fontsize=16);"
   ]
  },
  {
   "cell_type": "markdown",
   "metadata": {
    "id": "kMeWL01KQTto"
   },
   "source": [
    "We see the first topic is much more informative than the other topics. Given that we suspect that this topic is picking up on image encodings (as given by \"dsl\" and \"n3jxp\" in the topic) and other boilerplate text (as given by the high TC and lack of coherence of the rest of the topic), we could consider doing additional investigation and preprocessing to help ensure that the CorEx topic model does not pick up on these patterns which are not insightful."
   ]
  },
  {
   "cell_type": "markdown",
   "metadata": {
    "id": "BN3PpzmdQTto"
   },
   "source": [
    "### Pointwise Document TC"
   ]
  },
  {
   "cell_type": "markdown",
   "metadata": {
    "id": "SirY8-2DQTto"
   },
   "source": [
    "We can decompose total correlation further. The topic correlation is the average of the pointwise total correlations for each individual document. The pointwise total correlations can be accessed through **`log_z`**."
   ]
  },
  {
   "cell_type": "code",
   "execution_count": null,
   "metadata": {
    "id": "03n57xrQQTtp",
    "outputId": "3a0c2fe8-1809-463b-c8cd-e7b6248643ed"
   },
   "outputs": [
    {
     "data": {
      "text/plain": [
       "(11314, 50)"
      ]
     },
     "execution_count": 18,
     "metadata": {},
     "output_type": "execute_result"
    }
   ],
   "source": [
    "topic_model.log_z.shape # n_docs x k_topics"
   ]
  },
  {
   "cell_type": "code",
   "execution_count": null,
   "metadata": {
    "id": "0fLj5Uo4QTtp",
    "outputId": "196edd10-406a-4692-c549-1a5aba74c4ea"
   },
   "outputs": [
    {
     "name": "stdout",
     "output_type": "stream",
     "text": [
      "[3.64813418 1.57958569 1.48835238 1.42639341 1.42043661 1.39232446\n",
      " 1.37222362 1.36535367 1.34334261 1.08793513 1.06264005 1.03767991\n",
      " 1.01780633 0.98444346 0.98350034 0.97751588 0.97425573 0.96560217\n",
      " 0.9170467  0.91160502 0.87920818 0.86341492 0.83259909 0.82311403\n",
      " 0.79730235 0.78507652 0.76449939 0.74186846 0.73348486 0.7232203\n",
      " 0.70714498 0.70407292 0.6876558  0.68271949 0.66403509 0.60590956\n",
      " 0.59919508 0.58802044 0.5869777  0.58426131 0.57613847 0.57032326\n",
      " 0.5434933  0.54324576 0.504955   0.48664151 0.28893956 0.27183877\n",
      " 0.24173114 0.21054385]\n",
      "[3.64813418 1.57958569 1.48835238 1.42639341 1.42043661 1.39232446\n",
      " 1.37222362 1.36535367 1.34334261 1.08793513 1.06264005 1.03767991\n",
      " 1.01780633 0.98444346 0.98350034 0.97751588 0.97425573 0.96560217\n",
      " 0.9170467  0.91160502 0.87920818 0.86341492 0.83259909 0.82311403\n",
      " 0.79730235 0.78507652 0.76449939 0.74186846 0.73348486 0.7232203\n",
      " 0.70714498 0.70407292 0.6876558  0.68271949 0.66403509 0.60590956\n",
      " 0.59919508 0.58802044 0.5869777  0.58426131 0.57613847 0.57032326\n",
      " 0.5434933  0.54324576 0.504955   0.48664151 0.28893956 0.27183877\n",
      " 0.24173114 0.21054385]\n"
     ]
    }
   ],
   "source": [
    "print(np.mean(topic_model.log_z, axis=0))\n",
    "print(topic_model.tcs)"
   ]
  },
  {
   "cell_type": "markdown",
   "metadata": {
    "id": "PFiRGxugQTtp"
   },
   "source": [
    "The pointwise total correlations in **`log_z`** represent the correlations within an individual document explained by a particular topic. These correlations have been used to measure how \"surprising\" documents are with respect to given topics (see references below)."
   ]
  },
  {
   "cell_type": "markdown",
   "metadata": {
    "id": "ZP_lwPbdQTtq"
   },
   "source": [
    "## Hierarchical Topic Models"
   ]
  },
  {
   "cell_type": "markdown",
   "metadata": {
    "id": "WfgxtN8QQTtq"
   },
   "source": [
    "The **`labels`** attribute gives the binary topic expressions for each document and each topic. We can use this output as input to another CorEx topic model to get latent representations of the topics themselves. This yields a hierarchical CorEx topic model. Like the first layer of the topic model, one can determine the number of latent variables to add in higher layers through examination of the topic TCs."
   ]
  },
  {
   "cell_type": "code",
   "execution_count": null,
   "metadata": {
    "id": "Tv2MSi1fQTtq",
    "outputId": "33b984af-cb0c-4734-9057-cab0473a80aa"
   },
   "outputs": [
    {
     "name": "stdout",
     "output_type": "stream",
     "text": [
      "WARNING: Some words never appear (or always appear)\n"
     ]
    }
   ],
   "source": [
    "# Train a second layer to the topic model\n",
    "tm_layer2 = ct.Corex(n_hidden=10)\n",
    "tm_layer2.fit(topic_model.labels);\n",
    "\n",
    "# Train a third layer to the topic model\n",
    "tm_layer3 = ct.Corex(n_hidden=1)\n",
    "tm_layer3.fit(tm_layer2.labels);"
   ]
  },
  {
   "cell_type": "markdown",
   "metadata": {
    "id": "Yzmlz_fDQTtr"
   },
   "source": [
    "If you have `graphviz` installed, then you can output visualizations of the hierarchial topic model to your current working directory. One can also create custom visualizations of the hierarchy by properly making use of the **`labels`** attribute of each layer."
   ]
  },
  {
   "cell_type": "code",
   "execution_count": null,
   "metadata": {
    "collapsed": true,
    "id": "r62QMCNXQTtr"
   },
   "outputs": [],
   "source": [
    "vt.vis_hierarchy([topic_model, tm_layer2, tm_layer3], column_label=words, max_edges=200, prefix='topic-model-example')"
   ]
  },
  {
   "cell_type": "markdown",
   "metadata": {
    "id": "AoitqveXQTtr"
   },
   "source": [
    "## Anchoring for Semi-Supervised Topic Modeling"
   ]
  },
  {
   "cell_type": "markdown",
   "metadata": {
    "id": "SQLTL5tbQTts"
   },
   "source": [
    "Anchored CorEx is an extension of CorEx that allows the \"anchoring\" of words to topics. When anchoring a word to a topic, CorEx is trying to maximize the mutual information between that word and the anchored topic. So, anchoring provides a way to guide the topic model towards specific subsets of words that the user would like to explore.  \n",
    "\n",
    "The anchoring mechanism is flexible, and so there are many possibilities of anchoring. We explored the following types of anchoring in our TACL paper:\n",
    "\n",
    "1. Anchoring a single set of words to a single topic. This can help promote a topic that did not naturally emerge when running an unsupervised instance of the CorEx topic model. For example, one might anchor words like \"snow,\" \"cold,\" and \"avalanche\" to a topic if one suspects there should be a snow avalanche topic within a set of disaster relief articles.\n",
    "\n",
    "2. Anchoring single sets of words to multiple topics. This can help find different aspects of a topic that may be discussed in several different contexts. For example, one might anchor \"protest\" to three topics and \"riot\" to three other topics to understand different framings that arise from tweets about political protests.\n",
    "\n",
    "3. Anchoring different sets of words to multiple topics. This can help enforce topic separability if there appear to be chimera topics. For example, one might anchor \"mountain,\" \"Bernese,\" and \"dog\" to one topic and \"mountain,\" \"rocky,\" and \"colorado\" to another topic to help separate topics that merge discussion of Bernese Mountain Dogs and the Rocky Mountains.\n",
    "\n",
    "\n",
    "We'll demonstrate how to anchor words to the the CorEx topic model and how to develop other anchoring strategies."
   ]
  },
  {
   "cell_type": "code",
   "execution_count": null,
   "metadata": {
    "collapsed": true,
    "id": "o38Ewr1jQTts"
   },
   "outputs": [],
   "source": [
    "# Anchor one word to the first topic\n",
    "anchor_words = ['nasa']"
   ]
  },
  {
   "cell_type": "code",
   "execution_count": null,
   "metadata": {
    "collapsed": true,
    "id": "tEs2UEpHQTtt"
   },
   "outputs": [],
   "source": [
    "# Anchor the word 'nasa' to the first topic\n",
    "anchored_topic_model = ct.Corex(n_hidden=50, seed=2)\n",
    "anchored_topic_model.fit(doc_word, words=words, anchors=anchor_words, anchor_strength=6);"
   ]
  },
  {
   "cell_type": "markdown",
   "metadata": {
    "id": "jI5zNr4aQTtt"
   },
   "source": [
    "This anchors the single word \"nasa\" to the first topic."
   ]
  },
  {
   "cell_type": "code",
   "execution_count": null,
   "metadata": {
    "id": "GjAMMo1AQTtt",
    "outputId": "4f09671a-863d-4e5f-f41e-39254068c761"
   },
   "outputs": [
    {
     "name": "stdout",
     "output_type": "stream",
     "text": [
      "0: nasa, gov, ames, institute, jpl, station, propulsion, jsc, arc, shafer\n"
     ]
    }
   ],
   "source": [
    "topic_words,_,_ = zip(*anchored_topic_model.get_topics(topic=0))\n",
    "print('0: ' + ', '.join(topic_words))"
   ]
  },
  {
   "cell_type": "markdown",
   "metadata": {
    "id": "azLaERTzQTtu"
   },
   "source": [
    "We can anchor multiple groups of words to multiple topics as well."
   ]
  },
  {
   "cell_type": "code",
   "execution_count": null,
   "metadata": {
    "collapsed": true,
    "id": "T_tol3KWQTtu"
   },
   "outputs": [],
   "source": [
    "# Anchor 'nasa' and 'space' to first topic, 'sports' and 'stadium' to second topic, so on...\n",
    "anchor_words = [['nasa', 'space'], ['sports', 'stadium'], ['politics', 'government'], ['love', 'hope']]\n",
    "\n",
    "anchored_topic_model = ct.Corex(n_hidden=50, seed=2)\n",
    "anchored_topic_model.fit(doc_word, words=words, anchors=anchor_words, anchor_strength=6);"
   ]
  },
  {
   "cell_type": "code",
   "execution_count": null,
   "metadata": {
    "id": "f8h1tozHQTtu",
    "outputId": "78c790c2-ac05-441f-81e4-98d3c4b709b6"
   },
   "outputs": [
    {
     "name": "stdout",
     "output_type": "stream",
     "text": [
      "0: space, nasa, orbit, moon, shuttle, launch, gov, earth, lunar, ames\n",
      "1: sports, stadium, april, san, city, los, york, washington, angeles, center\n",
      "2: government, politics, state, rights, law, war, country, military, public, security\n",
      "3: hope, love, helps, relates, virile, tatoos, sustaining, whosoever, weird, allegory\n"
     ]
    }
   ],
   "source": [
    "for n in range(len(anchor_words)):\n",
    "    topic_words,_,_ = zip(*anchored_topic_model.get_topics(topic=n))\n",
    "    print('{}: '.format(n) + ', '.join(topic_words))"
   ]
  },
  {
   "cell_type": "markdown",
   "metadata": {
    "id": "XmpewNw-QTtv"
   },
   "source": [
    "Note, in the above topic model, topics will no longer be sorted according to descending TC. Instead, the first topic will be the one with \"nasa\" and \"space\" anchored to it, the second topic will be the one with \"sports\" and \"stadium\" anchored to it, and so on.  \n",
    "\n",
    "Observe, the topic with \"love\" and \"hope\" anchored to it is less interpretable than the other three topics. This could be a sign that there is not a good topic around these two words, and one should consider if it is appropriate to anchor around them.\n",
    "\n",
    "We can continue to develop even more involved anchoring strategies. Here we anchor \"nasa\" by itself, as well as in two other topics each with \"politics\" and \"news\" to find different aspects around the word \"nasa\". We also create a fourth anchoring of \"war\" to a topic."
   ]
  },
  {
   "cell_type": "code",
   "execution_count": null,
   "metadata": {
    "collapsed": true,
    "id": "B3fXEEutQTtv"
   },
   "outputs": [],
   "source": [
    "# Anchor with single words and groups of words\n",
    "anchor_words = ['nasa', ['nasa', 'politics'], ['nasa', 'news'], 'war']\n",
    "\n",
    "anchored_topic_model = ct.Corex(n_hidden=50, seed=2)\n",
    "anchored_topic_model.fit(doc_word, words=words, anchors=anchor_words, anchor_strength=6);"
   ]
  },
  {
   "cell_type": "code",
   "execution_count": null,
   "metadata": {
    "id": "TnMeh3LpQTtw",
    "outputId": "c87fe45a-b6c8-459e-eaa9-f9a8c9f1e817"
   },
   "outputs": [
    {
     "name": "stdout",
     "output_type": "stream",
     "text": [
      "0: nasa, space, orbit, launch, shuttle, moon, earth, lunar, satellite, commercial\n",
      "1: nasa, politics, research, gov, science, scientific, institute, organization, studies, providing\n",
      "2: news, nasa, insisting, edwards, hal, llnl, cso, cfv, nodak, admin\n",
      "3: war, israel, armenians, armenian, israeli, jews, soldiers, military, killed, history\n"
     ]
    }
   ],
   "source": [
    "for n in range(len(anchor_words)):\n",
    "    topic_words,_,_ = zip(*anchored_topic_model.get_topics(topic=n))\n",
    "    print('{}: '.format(n) + ', '.join(topic_words))"
   ]
  },
  {
   "cell_type": "markdown",
   "metadata": {
    "id": "L73fwwSYQTtw"
   },
   "source": [
    "**Note:** If you do not specify the column labels through `words`, then you can still anchor by specifying the column indices of the features you wish to anchor on. You may also specify anchors using a mix of strings and indices if desired."
   ]
  },
  {
   "cell_type": "markdown",
   "metadata": {
    "id": "kqRGyxnhQTtx"
   },
   "source": [
    "### Choosing Anchor Strength"
   ]
  },
  {
   "cell_type": "markdown",
   "metadata": {
    "id": "Yps7vdHZQTty"
   },
   "source": [
    "The anchor strength controls how much weight CorEx puts towards maximizing the mutual information between the anchor words and their respective topics. Anchor strength should always be set at a value *greater than* 1, since setting anchor strength between 0 and 1 only recovers the unsupervised CorEx objective. Empirically, setting anchor strength from 1.5-3 seems to nudge the topic model towards the anchor words. Setting anchor strength greater than 5 is strongly enforcing that the CorEx topic model find a topic associated with the anchor words.\n",
    "\n",
    "We encourage users to experiment with the anchor strength and determine what values are best for their needs."
   ]
  },
  {
   "cell_type": "markdown",
   "metadata": {
    "id": "Wz5bAqkAQTty"
   },
   "source": [
    "## Other Output"
   ]
  },
  {
   "cell_type": "markdown",
   "metadata": {
    "id": "FVOJYcCFQTtz"
   },
   "source": [
    "The **`vis_topic`** module provides support for outputting topics and visualizations of the CorEx topic model. The code below creates a results direcory named \"twenty\" in your working directory."
   ]
  },
  {
   "cell_type": "code",
   "execution_count": null,
   "metadata": {
    "collapsed": true,
    "id": "95xJHi0QQTtz"
   },
   "outputs": [],
   "source": [
    "vt.vis_rep(topic_model, column_label=words, prefix='twenty')"
   ]
  },
  {
   "cell_type": "markdown",
   "metadata": {
    "id": "8CFg3wx1QTtz"
   },
   "source": [
    "## Further Reading"
   ]
  },
  {
   "cell_type": "markdown",
   "metadata": {
    "id": "KdE0OlneQTtz"
   },
   "source": [
    "Our TACL paper details the theory of the CorEx topic model, its sparsity optimization, anchoring via the information bottleneck, comparisons to LDA, and anchoring experiments. The two papers from Greg Ver Steeg and Aram Galstyan develop the CorEx theory in general and provide further motivation and details of the underlying CorEx mechanisms. Hodas et al. demonstrated early CorEx topic model results and investigated an application of pointwise total correlations to quantify \"surprising\" documents.\n",
    "\n",
    "1. [Anchored Correlation Explanation: Topic Modeling with Minimal Domain Knowledge](https://www.transacl.org/ojs/index.php/tacl/article/view/1244), Gallagher et al., TACL 2017.\n",
    "\n",
    "2. [Discovering Structure in High-Dimensional Data Through Correlation Explanation](https://arxiv.org/abs/1406.1222), Ver Steeg and Galstyan, NIPS 2014. \n",
    "\n",
    "3. [Maximally Informative Hierarchical Representions of High-Dimensional Data](https://arxiv.org/abs/1410.7404), Ver Steeg and Galstyan, AISTATS 2015.\n",
    "\n",
    "4. [Disentangling the Lexicons of Disaster Response in Twitter](https://dl.acm.org/citation.cfm?id=2741728), Hodas et al., WWW 2015."
   ]
  },
  {
   "cell_type": "code",
   "execution_count": null,
   "metadata": {
    "colab": {
     "background_save": true,
     "base_uri": "https://localhost:8080/",
     "height": 52
    },
    "id": "I63YKVX1qf4N",
    "outputId": "af432ee8-34a0-4f97-d5e7-21605c353a43"
   },
   "outputs": [
    {
     "name": "stderr",
     "output_type": "stream",
     "text": [
      "INFO - 12:28:14: loading projection weights from /root/gensim-data/glove-wiki-gigaword-300/glove-wiki-gigaword-300.gz\n",
      "INFO - 12:29:29: loaded (400000, 300) matrix from /root/gensim-data/glove-wiki-gigaword-300/glove-wiki-gigaword-300.gz\n"
     ]
    },
    {
     "data": {
      "application/javascript": [
       "/* Put everything inside the global mpl namespace */\n",
       "window.mpl = {};\n",
       "\n",
       "\n",
       "mpl.get_websocket_type = function() {\n",
       "    if (typeof(WebSocket) !== 'undefined') {\n",
       "        return WebSocket;\n",
       "    } else if (typeof(MozWebSocket) !== 'undefined') {\n",
       "        return MozWebSocket;\n",
       "    } else {\n",
       "        alert('Your browser does not have WebSocket support. ' +\n",
       "              'Please try Chrome, Safari or Firefox ≥ 6. ' +\n",
       "              'Firefox 4 and 5 are also supported but you ' +\n",
       "              'have to enable WebSockets in about:config.');\n",
       "    };\n",
       "}\n",
       "\n",
       "mpl.figure = function(figure_id, websocket, ondownload, parent_element) {\n",
       "    this.id = figure_id;\n",
       "\n",
       "    this.ws = websocket;\n",
       "\n",
       "    this.supports_binary = (this.ws.binaryType != undefined);\n",
       "\n",
       "    if (!this.supports_binary) {\n",
       "        var warnings = document.getElementById(\"mpl-warnings\");\n",
       "        if (warnings) {\n",
       "            warnings.style.display = 'block';\n",
       "            warnings.textContent = (\n",
       "                \"This browser does not support binary websocket messages. \" +\n",
       "                    \"Performance may be slow.\");\n",
       "        }\n",
       "    }\n",
       "\n",
       "    this.imageObj = new Image();\n",
       "\n",
       "    this.context = undefined;\n",
       "    this.message = undefined;\n",
       "    this.canvas = undefined;\n",
       "    this.rubberband_canvas = undefined;\n",
       "    this.rubberband_context = undefined;\n",
       "    this.format_dropdown = undefined;\n",
       "\n",
       "    this.image_mode = 'full';\n",
       "\n",
       "    this.root = $('<div/>');\n",
       "    this._root_extra_style(this.root)\n",
       "    this.root.attr('style', 'display: inline-block');\n",
       "\n",
       "    $(parent_element).append(this.root);\n",
       "\n",
       "    this._init_header(this);\n",
       "    this._init_canvas(this);\n",
       "    this._init_toolbar(this);\n",
       "\n",
       "    var fig = this;\n",
       "\n",
       "    this.waiting = false;\n",
       "\n",
       "    this.ws.onopen =  function () {\n",
       "            fig.send_message(\"supports_binary\", {value: fig.supports_binary});\n",
       "            fig.send_message(\"send_image_mode\", {});\n",
       "            if (mpl.ratio != 1) {\n",
       "                fig.send_message(\"set_dpi_ratio\", {'dpi_ratio': mpl.ratio});\n",
       "            }\n",
       "            fig.send_message(\"refresh\", {});\n",
       "        }\n",
       "\n",
       "    this.imageObj.onload = function() {\n",
       "            if (fig.image_mode == 'full') {\n",
       "                // Full images could contain transparency (where diff images\n",
       "                // almost always do), so we need to clear the canvas so that\n",
       "                // there is no ghosting.\n",
       "                fig.context.clearRect(0, 0, fig.canvas.width, fig.canvas.height);\n",
       "            }\n",
       "            fig.context.drawImage(fig.imageObj, 0, 0);\n",
       "        };\n",
       "\n",
       "    this.imageObj.onunload = function() {\n",
       "        fig.ws.close();\n",
       "    }\n",
       "\n",
       "    this.ws.onmessage = this._make_on_message_function(this);\n",
       "\n",
       "    this.ondownload = ondownload;\n",
       "}\n",
       "\n",
       "mpl.figure.prototype._init_header = function() {\n",
       "    var titlebar = $(\n",
       "        '<div class=\"ui-dialog-titlebar ui-widget-header ui-corner-all ' +\n",
       "        'ui-helper-clearfix\"/>');\n",
       "    var titletext = $(\n",
       "        '<div class=\"ui-dialog-title\" style=\"width: 100%; ' +\n",
       "        'text-align: center; padding: 3px;\"/>');\n",
       "    titlebar.append(titletext)\n",
       "    this.root.append(titlebar);\n",
       "    this.header = titletext[0];\n",
       "}\n",
       "\n",
       "\n",
       "\n",
       "mpl.figure.prototype._canvas_extra_style = function(canvas_div) {\n",
       "\n",
       "}\n",
       "\n",
       "\n",
       "mpl.figure.prototype._root_extra_style = function(canvas_div) {\n",
       "\n",
       "}\n",
       "\n",
       "mpl.figure.prototype._init_canvas = function() {\n",
       "    var fig = this;\n",
       "\n",
       "    var canvas_div = $('<div/>');\n",
       "\n",
       "    canvas_div.attr('style', 'position: relative; clear: both; outline: 0');\n",
       "\n",
       "    function canvas_keyboard_event(event) {\n",
       "        return fig.key_event(event, event['data']);\n",
       "    }\n",
       "\n",
       "    canvas_div.keydown('key_press', canvas_keyboard_event);\n",
       "    canvas_div.keyup('key_release', canvas_keyboard_event);\n",
       "    this.canvas_div = canvas_div\n",
       "    this._canvas_extra_style(canvas_div)\n",
       "    this.root.append(canvas_div);\n",
       "\n",
       "    var canvas = $('<canvas/>');\n",
       "    canvas.addClass('mpl-canvas');\n",
       "    canvas.attr('style', \"left: 0; top: 0; z-index: 0; outline: 0\")\n",
       "\n",
       "    this.canvas = canvas[0];\n",
       "    this.context = canvas[0].getContext(\"2d\");\n",
       "\n",
       "    var backingStore = this.context.backingStorePixelRatio ||\n",
       "\tthis.context.webkitBackingStorePixelRatio ||\n",
       "\tthis.context.mozBackingStorePixelRatio ||\n",
       "\tthis.context.msBackingStorePixelRatio ||\n",
       "\tthis.context.oBackingStorePixelRatio ||\n",
       "\tthis.context.backingStorePixelRatio || 1;\n",
       "\n",
       "    mpl.ratio = (window.devicePixelRatio || 1) / backingStore;\n",
       "\n",
       "    var rubberband = $('<canvas/>');\n",
       "    rubberband.attr('style', \"position: absolute; left: 0; top: 0; z-index: 1;\")\n",
       "\n",
       "    var pass_mouse_events = true;\n",
       "\n",
       "    canvas_div.resizable({\n",
       "        start: function(event, ui) {\n",
       "            pass_mouse_events = false;\n",
       "        },\n",
       "        resize: function(event, ui) {\n",
       "            fig.request_resize(ui.size.width, ui.size.height);\n",
       "        },\n",
       "        stop: function(event, ui) {\n",
       "            pass_mouse_events = true;\n",
       "            fig.request_resize(ui.size.width, ui.size.height);\n",
       "        },\n",
       "    });\n",
       "\n",
       "    function mouse_event_fn(event) {\n",
       "        if (pass_mouse_events)\n",
       "            return fig.mouse_event(event, event['data']);\n",
       "    }\n",
       "\n",
       "    rubberband.mousedown('button_press', mouse_event_fn);\n",
       "    rubberband.mouseup('button_release', mouse_event_fn);\n",
       "    // Throttle sequential mouse events to 1 every 20ms.\n",
       "    rubberband.mousemove('motion_notify', mouse_event_fn);\n",
       "\n",
       "    rubberband.mouseenter('figure_enter', mouse_event_fn);\n",
       "    rubberband.mouseleave('figure_leave', mouse_event_fn);\n",
       "\n",
       "    canvas_div.on(\"wheel\", function (event) {\n",
       "        event = event.originalEvent;\n",
       "        event['data'] = 'scroll'\n",
       "        if (event.deltaY < 0) {\n",
       "            event.step = 1;\n",
       "        } else {\n",
       "            event.step = -1;\n",
       "        }\n",
       "        mouse_event_fn(event);\n",
       "    });\n",
       "\n",
       "    canvas_div.append(canvas);\n",
       "    canvas_div.append(rubberband);\n",
       "\n",
       "    this.rubberband = rubberband;\n",
       "    this.rubberband_canvas = rubberband[0];\n",
       "    this.rubberband_context = rubberband[0].getContext(\"2d\");\n",
       "    this.rubberband_context.strokeStyle = \"#000000\";\n",
       "\n",
       "    this._resize_canvas = function(width, height) {\n",
       "        // Keep the size of the canvas, canvas container, and rubber band\n",
       "        // canvas in synch.\n",
       "        canvas_div.css('width', width)\n",
       "        canvas_div.css('height', height)\n",
       "\n",
       "        canvas.attr('width', width * mpl.ratio);\n",
       "        canvas.attr('height', height * mpl.ratio);\n",
       "        canvas.attr('style', 'width: ' + width + 'px; height: ' + height + 'px;');\n",
       "\n",
       "        rubberband.attr('width', width);\n",
       "        rubberband.attr('height', height);\n",
       "    }\n",
       "\n",
       "    // Set the figure to an initial 600x600px, this will subsequently be updated\n",
       "    // upon first draw.\n",
       "    this._resize_canvas(600, 600);\n",
       "\n",
       "    // Disable right mouse context menu.\n",
       "    $(this.rubberband_canvas).bind(\"contextmenu\",function(e){\n",
       "        return false;\n",
       "    });\n",
       "\n",
       "    function set_focus () {\n",
       "        canvas.focus();\n",
       "        canvas_div.focus();\n",
       "    }\n",
       "\n",
       "    window.setTimeout(set_focus, 100);\n",
       "}\n",
       "\n",
       "mpl.figure.prototype._init_toolbar = function() {\n",
       "    var fig = this;\n",
       "\n",
       "    var nav_element = $('<div/>');\n",
       "    nav_element.attr('style', 'width: 100%');\n",
       "    this.root.append(nav_element);\n",
       "\n",
       "    // Define a callback function for later on.\n",
       "    function toolbar_event(event) {\n",
       "        return fig.toolbar_button_onclick(event['data']);\n",
       "    }\n",
       "    function toolbar_mouse_event(event) {\n",
       "        return fig.toolbar_button_onmouseover(event['data']);\n",
       "    }\n",
       "\n",
       "    for(var toolbar_ind in mpl.toolbar_items) {\n",
       "        var name = mpl.toolbar_items[toolbar_ind][0];\n",
       "        var tooltip = mpl.toolbar_items[toolbar_ind][1];\n",
       "        var image = mpl.toolbar_items[toolbar_ind][2];\n",
       "        var method_name = mpl.toolbar_items[toolbar_ind][3];\n",
       "\n",
       "        if (!name) {\n",
       "            // put a spacer in here.\n",
       "            continue;\n",
       "        }\n",
       "        var button = $('<button/>');\n",
       "        button.addClass('ui-button ui-widget ui-state-default ui-corner-all ' +\n",
       "                        'ui-button-icon-only');\n",
       "        button.attr('role', 'button');\n",
       "        button.attr('aria-disabled', 'false');\n",
       "        button.click(method_name, toolbar_event);\n",
       "        button.mouseover(tooltip, toolbar_mouse_event);\n",
       "\n",
       "        var icon_img = $('<span/>');\n",
       "        icon_img.addClass('ui-button-icon-primary ui-icon');\n",
       "        icon_img.addClass(image);\n",
       "        icon_img.addClass('ui-corner-all');\n",
       "\n",
       "        var tooltip_span = $('<span/>');\n",
       "        tooltip_span.addClass('ui-button-text');\n",
       "        tooltip_span.html(tooltip);\n",
       "\n",
       "        button.append(icon_img);\n",
       "        button.append(tooltip_span);\n",
       "\n",
       "        nav_element.append(button);\n",
       "    }\n",
       "\n",
       "    var fmt_picker_span = $('<span/>');\n",
       "\n",
       "    var fmt_picker = $('<select/>');\n",
       "    fmt_picker.addClass('mpl-toolbar-option ui-widget ui-widget-content');\n",
       "    fmt_picker_span.append(fmt_picker);\n",
       "    nav_element.append(fmt_picker_span);\n",
       "    this.format_dropdown = fmt_picker[0];\n",
       "\n",
       "    for (var ind in mpl.extensions) {\n",
       "        var fmt = mpl.extensions[ind];\n",
       "        var option = $(\n",
       "            '<option/>', {selected: fmt === mpl.default_extension}).html(fmt);\n",
       "        fmt_picker.append(option);\n",
       "    }\n",
       "\n",
       "    // Add hover states to the ui-buttons\n",
       "    $( \".ui-button\" ).hover(\n",
       "        function() { $(this).addClass(\"ui-state-hover\");},\n",
       "        function() { $(this).removeClass(\"ui-state-hover\");}\n",
       "    );\n",
       "\n",
       "    var status_bar = $('<span class=\"mpl-message\"/>');\n",
       "    nav_element.append(status_bar);\n",
       "    this.message = status_bar[0];\n",
       "}\n",
       "\n",
       "mpl.figure.prototype.request_resize = function(x_pixels, y_pixels) {\n",
       "    // Request matplotlib to resize the figure. Matplotlib will then trigger a resize in the client,\n",
       "    // which will in turn request a refresh of the image.\n",
       "    this.send_message('resize', {'width': x_pixels, 'height': y_pixels});\n",
       "}\n",
       "\n",
       "mpl.figure.prototype.send_message = function(type, properties) {\n",
       "    properties['type'] = type;\n",
       "    properties['figure_id'] = this.id;\n",
       "    this.ws.send(JSON.stringify(properties));\n",
       "}\n",
       "\n",
       "mpl.figure.prototype.send_draw_message = function() {\n",
       "    if (!this.waiting) {\n",
       "        this.waiting = true;\n",
       "        this.ws.send(JSON.stringify({type: \"draw\", figure_id: this.id}));\n",
       "    }\n",
       "}\n",
       "\n",
       "\n",
       "mpl.figure.prototype.handle_save = function(fig, msg) {\n",
       "    var format_dropdown = fig.format_dropdown;\n",
       "    var format = format_dropdown.options[format_dropdown.selectedIndex].value;\n",
       "    fig.ondownload(fig, format);\n",
       "}\n",
       "\n",
       "\n",
       "mpl.figure.prototype.handle_resize = function(fig, msg) {\n",
       "    var size = msg['size'];\n",
       "    if (size[0] != fig.canvas.width || size[1] != fig.canvas.height) {\n",
       "        fig._resize_canvas(size[0], size[1]);\n",
       "        fig.send_message(\"refresh\", {});\n",
       "    };\n",
       "}\n",
       "\n",
       "mpl.figure.prototype.handle_rubberband = function(fig, msg) {\n",
       "    var x0 = msg['x0'] / mpl.ratio;\n",
       "    var y0 = (fig.canvas.height - msg['y0']) / mpl.ratio;\n",
       "    var x1 = msg['x1'] / mpl.ratio;\n",
       "    var y1 = (fig.canvas.height - msg['y1']) / mpl.ratio;\n",
       "    x0 = Math.floor(x0) + 0.5;\n",
       "    y0 = Math.floor(y0) + 0.5;\n",
       "    x1 = Math.floor(x1) + 0.5;\n",
       "    y1 = Math.floor(y1) + 0.5;\n",
       "    var min_x = Math.min(x0, x1);\n",
       "    var min_y = Math.min(y0, y1);\n",
       "    var width = Math.abs(x1 - x0);\n",
       "    var height = Math.abs(y1 - y0);\n",
       "\n",
       "    fig.rubberband_context.clearRect(\n",
       "        0, 0, fig.canvas.width / mpl.ratio, fig.canvas.height / mpl.ratio);\n",
       "\n",
       "    fig.rubberband_context.strokeRect(min_x, min_y, width, height);\n",
       "}\n",
       "\n",
       "mpl.figure.prototype.handle_figure_label = function(fig, msg) {\n",
       "    // Updates the figure title.\n",
       "    fig.header.textContent = msg['label'];\n",
       "}\n",
       "\n",
       "mpl.figure.prototype.handle_cursor = function(fig, msg) {\n",
       "    var cursor = msg['cursor'];\n",
       "    switch(cursor)\n",
       "    {\n",
       "    case 0:\n",
       "        cursor = 'pointer';\n",
       "        break;\n",
       "    case 1:\n",
       "        cursor = 'default';\n",
       "        break;\n",
       "    case 2:\n",
       "        cursor = 'crosshair';\n",
       "        break;\n",
       "    case 3:\n",
       "        cursor = 'move';\n",
       "        break;\n",
       "    }\n",
       "    fig.rubberband_canvas.style.cursor = cursor;\n",
       "}\n",
       "\n",
       "mpl.figure.prototype.handle_message = function(fig, msg) {\n",
       "    fig.message.textContent = msg['message'];\n",
       "}\n",
       "\n",
       "mpl.figure.prototype.handle_draw = function(fig, msg) {\n",
       "    // Request the server to send over a new figure.\n",
       "    fig.send_draw_message();\n",
       "}\n",
       "\n",
       "mpl.figure.prototype.handle_image_mode = function(fig, msg) {\n",
       "    fig.image_mode = msg['mode'];\n",
       "}\n",
       "\n",
       "mpl.figure.prototype.updated_canvas_event = function() {\n",
       "    // Called whenever the canvas gets updated.\n",
       "    this.send_message(\"ack\", {});\n",
       "}\n",
       "\n",
       "// A function to construct a web socket function for onmessage handling.\n",
       "// Called in the figure constructor.\n",
       "mpl.figure.prototype._make_on_message_function = function(fig) {\n",
       "    return function socket_on_message(evt) {\n",
       "        if (evt.data instanceof Blob) {\n",
       "            /* FIXME: We get \"Resource interpreted as Image but\n",
       "             * transferred with MIME type text/plain:\" errors on\n",
       "             * Chrome.  But how to set the MIME type?  It doesn't seem\n",
       "             * to be part of the websocket stream */\n",
       "            evt.data.type = \"image/png\";\n",
       "\n",
       "            /* Free the memory for the previous frames */\n",
       "            if (fig.imageObj.src) {\n",
       "                (window.URL || window.webkitURL).revokeObjectURL(\n",
       "                    fig.imageObj.src);\n",
       "            }\n",
       "\n",
       "            fig.imageObj.src = (window.URL || window.webkitURL).createObjectURL(\n",
       "                evt.data);\n",
       "            fig.updated_canvas_event();\n",
       "            fig.waiting = false;\n",
       "            return;\n",
       "        }\n",
       "        else if (typeof evt.data === 'string' && evt.data.slice(0, 21) == \"data:image/png;base64\") {\n",
       "            fig.imageObj.src = evt.data;\n",
       "            fig.updated_canvas_event();\n",
       "            fig.waiting = false;\n",
       "            return;\n",
       "        }\n",
       "\n",
       "        var msg = JSON.parse(evt.data);\n",
       "        var msg_type = msg['type'];\n",
       "\n",
       "        // Call the  \"handle_{type}\" callback, which takes\n",
       "        // the figure and JSON message as its only arguments.\n",
       "        try {\n",
       "            var callback = fig[\"handle_\" + msg_type];\n",
       "        } catch (e) {\n",
       "            console.log(\"No handler for the '\" + msg_type + \"' message type: \", msg);\n",
       "            return;\n",
       "        }\n",
       "\n",
       "        if (callback) {\n",
       "            try {\n",
       "                // console.log(\"Handling '\" + msg_type + \"' message: \", msg);\n",
       "                callback(fig, msg);\n",
       "            } catch (e) {\n",
       "                console.log(\"Exception inside the 'handler_\" + msg_type + \"' callback:\", e, e.stack, msg);\n",
       "            }\n",
       "        }\n",
       "    };\n",
       "}\n",
       "\n",
       "// from http://stackoverflow.com/questions/1114465/getting-mouse-location-in-canvas\n",
       "mpl.findpos = function(e) {\n",
       "    //this section is from http://www.quirksmode.org/js/events_properties.html\n",
       "    var targ;\n",
       "    if (!e)\n",
       "        e = window.event;\n",
       "    if (e.target)\n",
       "        targ = e.target;\n",
       "    else if (e.srcElement)\n",
       "        targ = e.srcElement;\n",
       "    if (targ.nodeType == 3) // defeat Safari bug\n",
       "        targ = targ.parentNode;\n",
       "\n",
       "    // jQuery normalizes the pageX and pageY\n",
       "    // pageX,Y are the mouse positions relative to the document\n",
       "    // offset() returns the position of the element relative to the document\n",
       "    var x = e.pageX - $(targ).offset().left;\n",
       "    var y = e.pageY - $(targ).offset().top;\n",
       "\n",
       "    return {\"x\": x, \"y\": y};\n",
       "};\n",
       "\n",
       "/*\n",
       " * return a copy of an object with only non-object keys\n",
       " * we need this to avoid circular references\n",
       " * http://stackoverflow.com/a/24161582/3208463\n",
       " */\n",
       "function simpleKeys (original) {\n",
       "  return Object.keys(original).reduce(function (obj, key) {\n",
       "    if (typeof original[key] !== 'object')\n",
       "        obj[key] = original[key]\n",
       "    return obj;\n",
       "  }, {});\n",
       "}\n",
       "\n",
       "mpl.figure.prototype.mouse_event = function(event, name) {\n",
       "    var canvas_pos = mpl.findpos(event)\n",
       "\n",
       "    if (name === 'button_press')\n",
       "    {\n",
       "        this.canvas.focus();\n",
       "        this.canvas_div.focus();\n",
       "    }\n",
       "\n",
       "    var x = canvas_pos.x * mpl.ratio;\n",
       "    var y = canvas_pos.y * mpl.ratio;\n",
       "\n",
       "    this.send_message(name, {x: x, y: y, button: event.button,\n",
       "                             step: event.step,\n",
       "                             guiEvent: simpleKeys(event)});\n",
       "\n",
       "    /* This prevents the web browser from automatically changing to\n",
       "     * the text insertion cursor when the button is pressed.  We want\n",
       "     * to control all of the cursor setting manually through the\n",
       "     * 'cursor' event from matplotlib */\n",
       "    event.preventDefault();\n",
       "    return false;\n",
       "}\n",
       "\n",
       "mpl.figure.prototype._key_event_extra = function(event, name) {\n",
       "    // Handle any extra behaviour associated with a key event\n",
       "}\n",
       "\n",
       "mpl.figure.prototype.key_event = function(event, name) {\n",
       "\n",
       "    // Prevent repeat events\n",
       "    if (name == 'key_press')\n",
       "    {\n",
       "        if (event.which === this._key)\n",
       "            return;\n",
       "        else\n",
       "            this._key = event.which;\n",
       "    }\n",
       "    if (name == 'key_release')\n",
       "        this._key = null;\n",
       "\n",
       "    var value = '';\n",
       "    if (event.ctrlKey && event.which != 17)\n",
       "        value += \"ctrl+\";\n",
       "    if (event.altKey && event.which != 18)\n",
       "        value += \"alt+\";\n",
       "    if (event.shiftKey && event.which != 16)\n",
       "        value += \"shift+\";\n",
       "\n",
       "    value += 'k';\n",
       "    value += event.which.toString();\n",
       "\n",
       "    this._key_event_extra(event, name);\n",
       "\n",
       "    this.send_message(name, {key: value,\n",
       "                             guiEvent: simpleKeys(event)});\n",
       "    return false;\n",
       "}\n",
       "\n",
       "mpl.figure.prototype.toolbar_button_onclick = function(name) {\n",
       "    if (name == 'download') {\n",
       "        this.handle_save(this, null);\n",
       "    } else {\n",
       "        this.send_message(\"toolbar_button\", {name: name});\n",
       "    }\n",
       "};\n",
       "\n",
       "mpl.figure.prototype.toolbar_button_onmouseover = function(tooltip) {\n",
       "    this.message.textContent = tooltip;\n",
       "};\n",
       "mpl.toolbar_items = [[\"Home\", \"Reset original view\", \"fa fa-home icon-home\", \"home\"], [\"Back\", \"Back to previous view\", \"fa fa-arrow-left icon-arrow-left\", \"back\"], [\"Forward\", \"Forward to next view\", \"fa fa-arrow-right icon-arrow-right\", \"forward\"], [\"\", \"\", \"\", \"\"], [\"Pan\", \"Pan axes with left mouse, zoom with right\", \"fa fa-arrows icon-move\", \"pan\"], [\"Zoom\", \"Zoom to rectangle\", \"fa fa-square-o icon-check-empty\", \"zoom\"], [\"\", \"\", \"\", \"\"], [\"Download\", \"Download plot\", \"fa fa-floppy-o icon-save\", \"download\"]];\n",
       "\n",
       "mpl.extensions = [\"eps\", \"jpeg\", \"pdf\", \"png\", \"ps\", \"raw\", \"svg\", \"tif\"];\n",
       "\n",
       "mpl.default_extension = \"png\";var comm_websocket_adapter = function(comm) {\n",
       "    // Create a \"websocket\"-like object which calls the given IPython comm\n",
       "    // object with the appropriate methods. Currently this is a non binary\n",
       "    // socket, so there is still some room for performance tuning.\n",
       "    var ws = {};\n",
       "\n",
       "    ws.close = function() {\n",
       "        comm.close()\n",
       "    };\n",
       "    ws.send = function(m) {\n",
       "        //console.log('sending', m);\n",
       "        comm.send(m);\n",
       "    };\n",
       "    // Register the callback with on_msg.\n",
       "    comm.on_msg(function(msg) {\n",
       "        //console.log('receiving', msg['content']['data'], msg);\n",
       "        // Pass the mpl event to the overridden (by mpl) onmessage function.\n",
       "        ws.onmessage(msg['content']['data'])\n",
       "    });\n",
       "    return ws;\n",
       "}\n",
       "\n",
       "mpl.mpl_figure_comm = function(comm, msg) {\n",
       "    // This is the function which gets called when the mpl process\n",
       "    // starts-up an IPython Comm through the \"matplotlib\" channel.\n",
       "\n",
       "    var id = msg.content.data.id;\n",
       "    // Get hold of the div created by the display call when the Comm\n",
       "    // socket was opened in Python.\n",
       "    var element = $(\"#\" + id);\n",
       "    var ws_proxy = comm_websocket_adapter(comm)\n",
       "\n",
       "    function ondownload(figure, format) {\n",
       "        window.open(figure.imageObj.src);\n",
       "    }\n",
       "\n",
       "    var fig = new mpl.figure(id, ws_proxy,\n",
       "                           ondownload,\n",
       "                           element.get(0));\n",
       "\n",
       "    // Call onopen now - mpl needs it, as it is assuming we've passed it a real\n",
       "    // web socket which is closed, not our websocket->open comm proxy.\n",
       "    ws_proxy.onopen();\n",
       "\n",
       "    fig.parent_element = element.get(0);\n",
       "    fig.cell_info = mpl.find_output_cell(\"<div id='\" + id + \"'></div>\");\n",
       "    if (!fig.cell_info) {\n",
       "        console.error(\"Failed to find cell for figure\", id, fig);\n",
       "        return;\n",
       "    }\n",
       "\n",
       "    var output_index = fig.cell_info[2]\n",
       "    var cell = fig.cell_info[0];\n",
       "\n",
       "};\n",
       "\n",
       "mpl.figure.prototype.handle_close = function(fig, msg) {\n",
       "    var width = fig.canvas.width/mpl.ratio\n",
       "    fig.root.unbind('remove')\n",
       "\n",
       "    // Update the output cell to use the data from the current canvas.\n",
       "    fig.push_to_output();\n",
       "    var dataURL = fig.canvas.toDataURL();\n",
       "    // Re-enable the keyboard manager in IPython - without this line, in FF,\n",
       "    // the notebook keyboard shortcuts fail.\n",
       "    IPython.keyboard_manager.enable()\n",
       "    $(fig.parent_element).html('<img src=\"' + dataURL + '\" width=\"' + width + '\">');\n",
       "    fig.close_ws(fig, msg);\n",
       "}\n",
       "\n",
       "mpl.figure.prototype.close_ws = function(fig, msg){\n",
       "    fig.send_message('closing', msg);\n",
       "    // fig.ws.close()\n",
       "}\n",
       "\n",
       "mpl.figure.prototype.push_to_output = function(remove_interactive) {\n",
       "    // Turn the data on the canvas into data in the output cell.\n",
       "    var width = this.canvas.width/mpl.ratio\n",
       "    var dataURL = this.canvas.toDataURL();\n",
       "    this.cell_info[1]['text/html'] = '<img src=\"' + dataURL + '\" width=\"' + width + '\">';\n",
       "}\n",
       "\n",
       "mpl.figure.prototype.updated_canvas_event = function() {\n",
       "    // Tell IPython that the notebook contents must change.\n",
       "    IPython.notebook.set_dirty(true);\n",
       "    this.send_message(\"ack\", {});\n",
       "    var fig = this;\n",
       "    // Wait a second, then push the new image to the DOM so\n",
       "    // that it is saved nicely (might be nice to debounce this).\n",
       "    setTimeout(function () { fig.push_to_output() }, 1000);\n",
       "}\n",
       "\n",
       "mpl.figure.prototype._init_toolbar = function() {\n",
       "    var fig = this;\n",
       "\n",
       "    var nav_element = $('<div/>');\n",
       "    nav_element.attr('style', 'width: 100%');\n",
       "    this.root.append(nav_element);\n",
       "\n",
       "    // Define a callback function for later on.\n",
       "    function toolbar_event(event) {\n",
       "        return fig.toolbar_button_onclick(event['data']);\n",
       "    }\n",
       "    function toolbar_mouse_event(event) {\n",
       "        return fig.toolbar_button_onmouseover(event['data']);\n",
       "    }\n",
       "\n",
       "    for(var toolbar_ind in mpl.toolbar_items){\n",
       "        var name = mpl.toolbar_items[toolbar_ind][0];\n",
       "        var tooltip = mpl.toolbar_items[toolbar_ind][1];\n",
       "        var image = mpl.toolbar_items[toolbar_ind][2];\n",
       "        var method_name = mpl.toolbar_items[toolbar_ind][3];\n",
       "\n",
       "        if (!name) { continue; };\n",
       "\n",
       "        var button = $('<button class=\"btn btn-default\" href=\"#\" title=\"' + name + '\"><i class=\"fa ' + image + ' fa-lg\"></i></button>');\n",
       "        button.click(method_name, toolbar_event);\n",
       "        button.mouseover(tooltip, toolbar_mouse_event);\n",
       "        nav_element.append(button);\n",
       "    }\n",
       "\n",
       "    // Add the status bar.\n",
       "    var status_bar = $('<span class=\"mpl-message\" style=\"text-align:right; float: right;\"/>');\n",
       "    nav_element.append(status_bar);\n",
       "    this.message = status_bar[0];\n",
       "\n",
       "    // Add the close button to the window.\n",
       "    var buttongrp = $('<div class=\"btn-group inline pull-right\"></div>');\n",
       "    var button = $('<button class=\"btn btn-mini btn-primary\" href=\"#\" title=\"Stop Interaction\"><i class=\"fa fa-power-off icon-remove icon-large\"></i></button>');\n",
       "    button.click(function (evt) { fig.handle_close(fig, {}); } );\n",
       "    button.mouseover('Stop Interaction', toolbar_mouse_event);\n",
       "    buttongrp.append(button);\n",
       "    var titlebar = this.root.find($('.ui-dialog-titlebar'));\n",
       "    titlebar.prepend(buttongrp);\n",
       "}\n",
       "\n",
       "mpl.figure.prototype._root_extra_style = function(el){\n",
       "    var fig = this\n",
       "    el.on(\"remove\", function(){\n",
       "\tfig.close_ws(fig, {});\n",
       "    });\n",
       "}\n",
       "\n",
       "mpl.figure.prototype._canvas_extra_style = function(el){\n",
       "    // this is important to make the div 'focusable\n",
       "    el.attr('tabindex', 0)\n",
       "    // reach out to IPython and tell the keyboard manager to turn it's self\n",
       "    // off when our div gets focus\n",
       "\n",
       "    // location in version 3\n",
       "    if (IPython.notebook.keyboard_manager) {\n",
       "        IPython.notebook.keyboard_manager.register_events(el);\n",
       "    }\n",
       "    else {\n",
       "        // location in version 2\n",
       "        IPython.keyboard_manager.register_events(el);\n",
       "    }\n",
       "\n",
       "}\n",
       "\n",
       "mpl.figure.prototype._key_event_extra = function(event, name) {\n",
       "    var manager = IPython.notebook.keyboard_manager;\n",
       "    if (!manager)\n",
       "        manager = IPython.keyboard_manager;\n",
       "\n",
       "    // Check for shift+enter\n",
       "    if (event.shiftKey && event.which == 13) {\n",
       "        this.canvas_div.blur();\n",
       "        // select the cell after this one\n",
       "        var index = IPython.notebook.find_cell_index(this.cell_info[0]);\n",
       "        IPython.notebook.select(index + 1);\n",
       "    }\n",
       "}\n",
       "\n",
       "mpl.figure.prototype.handle_save = function(fig, msg) {\n",
       "    fig.ondownload(fig, null);\n",
       "}\n",
       "\n",
       "\n",
       "mpl.find_output_cell = function(html_output) {\n",
       "    // Return the cell and output element which can be found *uniquely* in the notebook.\n",
       "    // Note - this is a bit hacky, but it is done because the \"notebook_saving.Notebook\"\n",
       "    // IPython event is triggered only after the cells have been serialised, which for\n",
       "    // our purposes (turning an active figure into a static one), is too late.\n",
       "    var cells = IPython.notebook.get_cells();\n",
       "    var ncells = cells.length;\n",
       "    for (var i=0; i<ncells; i++) {\n",
       "        var cell = cells[i];\n",
       "        if (cell.cell_type === 'code'){\n",
       "            for (var j=0; j<cell.output_area.outputs.length; j++) {\n",
       "                var data = cell.output_area.outputs[j];\n",
       "                if (data.data) {\n",
       "                    // IPython >= 3 moved mimebundle to data attribute of output\n",
       "                    data = data.data;\n",
       "                }\n",
       "                if (data['text/html'] == html_output) {\n",
       "                    return [cell, data, j];\n",
       "                }\n",
       "            }\n",
       "        }\n",
       "    }\n",
       "}\n",
       "\n",
       "// Register the function which deals with the matplotlib target/channel.\n",
       "// The kernel may be null if the page has been refreshed.\n",
       "if (IPython.notebook.kernel != null) {\n",
       "    IPython.notebook.kernel.comm_manager.register_target('matplotlib', mpl.mpl_figure_comm);\n",
       "}\n"
      ],
      "text/plain": [
       "<IPython.core.display.Javascript object>"
      ]
     },
     "metadata": {},
     "output_type": "display_data"
    },
    {
     "data": {
      "text/html": [
       "<div id='5a9f69e8-5989-4c54-9584-9bbf24b59bee'></div>"
      ],
      "text/plain": [
       "<IPython.core.display.HTML object>"
      ]
     },
     "metadata": {},
     "output_type": "display_data"
    }
   ],
   "source": [
    "# utils for word to vec visualization\n",
    "def plot_w2v(lst_words=None, nlp=None, plot_type=\"2d\", top=20, annotate=True, figsize=(10,5)):\n",
    "    nlp = gensim_api.load(\"glove-wiki-gigaword-300\") if nlp is None else nlp\n",
    "    fig = plt.figure(figsize=figsize)\n",
    "    if lst_words is not None:\n",
    "        fig.suptitle(\"Word: \"+lst_words[0], fontsize=12) if len(lst_words) == 1 else fig.suptitle(\"Words: \"+str(lst_words[:5]), fontsize=12)\n",
    "    else:\n",
    "        fig.suptitle(\"Vocabulary\")\n",
    "    try:\n",
    "        ## word embedding\n",
    "        tot_words = lst_words + [tupla[0] for tupla in nlp.most_similar(lst_words, topn=top)] if lst_words is not None else list(nlp.vocab.keys())\n",
    "        X = nlp[tot_words]\n",
    "        \n",
    "        ## pca\n",
    "        pca = TSNE(perplexity=40, n_components=int(plot_type[0]), init='pca')\n",
    "        X = pca.fit_transform(X)\n",
    "\n",
    "        ## create dtf\n",
    "        columns = [\"x\",\"y\"] if plot_type == \"2d\" else [\"x\",\"y\",\"z\"]\n",
    "        dtf = pd.DataFrame(X, index=tot_words, columns=columns)\n",
    "        dtf[\"input\"] = 0\n",
    "        if lst_words is not None:\n",
    "            dtf[\"input\"].iloc[0:len(lst_words)] = 1  #<--this makes the difference between vocabulary and input words\n",
    "        \n",
    "        ## plot 2d\n",
    "        if plot_type == \"2d\": \n",
    "            ax = fig.add_subplot()\n",
    "            sns.scatterplot(data=dtf, x=\"x\", y=\"y\", hue=\"input\", legend=False, ax=ax, palette={0:'black',1:'red'})\n",
    "            ax.set(xlabel=None, ylabel=None, xticks=[], xticklabels=[], yticks=[], yticklabels=[])\n",
    "            if annotate is True:\n",
    "                for i in range(len(dtf)):\n",
    "                    ax.annotate(dtf.index[i], xy=(dtf[\"x\"].iloc[i],dtf[\"y\"].iloc[i]), \n",
    "                                xytext=(5,2), textcoords='offset points', ha='right', va='bottom')\n",
    "        \n",
    "        ## plot 3d\n",
    "        elif plot_type == \"3d\":\n",
    "            from mpl_toolkits.mplot3d import Axes3D\n",
    "            ax = fig.add_subplot(111, projection='3d')\n",
    "            ax.scatter(dtf[dtf[\"input\"]==0]['x'], dtf[dtf[\"input\"]==0]['y'], dtf[dtf[\"input\"]==0]['z'], c=\"black\")\n",
    "            ax.scatter(dtf[dtf[\"input\"]==1]['x'], dtf[dtf[\"input\"]==1]['y'], dtf[dtf[\"input\"]==1]['z'], c=\"red\")\n",
    "            ax.set(xlabel=None, ylabel=None, zlabel=None, xticklabels=[], yticklabels=[], zticklabels=[])\n",
    "            if annotate is True:\n",
    "                for label, row in dtf[[\"x\",\"y\",\"z\"]].iterrows():\n",
    "                    x, y, z = row\n",
    "                    ax.text(x, y, z, s=label)\n",
    "            \n",
    "        plt.show()\n",
    "    except:\n",
    "        pass\n",
    "\n",
    "plot_w2v(plot_type=\"2d\", top=20, figsize=(10,5))"
   ]
  }
 ],
 "metadata": {
  "colab": {
   "collapsed_sections": [],
   "name": "BP-NLP-L3.ipynb",
   "provenance": []
  },
  "kernelspec": {
   "display_name": "Python 3 (ipykernel)",
   "language": "python",
   "name": "python3"
  },
  "language_info": {
   "codemirror_mode": {
    "name": "ipython",
    "version": 3
   },
   "file_extension": ".py",
   "mimetype": "text/x-python",
   "name": "python",
   "nbconvert_exporter": "python",
   "pygments_lexer": "ipython3",
   "version": "3.9.7"
  }
 },
 "nbformat": 4,
 "nbformat_minor": 1
}
