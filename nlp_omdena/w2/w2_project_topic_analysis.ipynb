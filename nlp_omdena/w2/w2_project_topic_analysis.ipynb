{
 "cells": [
  {
   "cell_type": "markdown",
   "metadata": {},
   "source": [
    "# CONTENT\n",
    "1. [Webscraping Data](#webscraping)\n",
    "1. [Functions for Text PreProcessing, Stemming \\& Model Evaluation](#functions)\n",
    "1. [Data Wrangling](#datawrangling)\n",
    "1. [NLP PipeLine](#pipeline)\n",
    "    1. [Basic NLP Count-Based Features](#CountBasedFeatures)\n",
    "    1. [Sentiment Analysis](#sentimentanalysis)\n",
    "    1. [Term Frequency-Inverse Document Frequency](#tfidf) \n",
    "    1. [Logistic Regression](#logreg)\n",
    "    1. [Random Forest Classifier](#rfc)\n",
    "        1. [Hyperparameter Tuning](#gs)\n",
    "1. [Conclusions](#conclusions)"
   ]
  },
  {
   "cell_type": "code",
   "execution_count": 26,
   "metadata": {},
   "outputs": [],
   "source": [
    "# import required libraries\n",
    "import pandas as pd # import dataset, create and manipulate dataframes\n",
    "import numpy as np # vectorize functions and perform calculations\n",
    "import contractions # expand contractions\n",
    "import re # regular expressions\n",
    "import string # count-based features\n",
    "import seaborn as sns # visualization\n",
    "import matplotlib.pyplot as plt # visualization\n",
    "\n",
    "from nltk.corpus import stopwords\n",
    "from pprint import pprint # pretty print\n",
    "from nltk.tokenize import word_tokenize # tokenize string or sentences\n",
    "from nltk.stem import PorterStemmer # stemming\\\n",
    "from sklearn.linear_model import LogisticRegression # model\n",
    "from sklearn.ensemble import RandomForestClassifier # model\n",
    "from sklearn.feature_extraction.text import CountVectorizer, TfidfVectorizer # count-based language models\n",
    "from sklearn.metrics import confusion_matrix, classification_report, make_scorer # model evaluation metrics\n",
    "from sklearn.metrics import accuracy_score, f1_score # model evaluation metrics\n",
    "from sklearn.model_selection import GridSearchCV, cross_validate # split & evaluate dataset, hyperparameter optimization\n",
    "from sklearn.model_selection import StratifiedKFold, cross_val_score, cross_val_predict # cross-validation\n",
    "from sklearn.decomposition import LatentDirichletAllocation, NMF, TruncatedSVD\n",
    "from collections import Counter # count-based calculations\n",
    "from textblob import TextBlob # sentiment analysis\n",
    "from wordcloud import WordCloud # visualization\n",
    "from gensim.parsing.preprocessing import remove_stopwords, STOPWORDS # removing stopwords\n",
    "\n",
    "pd.options.mode.chained_assignment = None  # hide warnings\n",
    "import warnings\n",
    "warnings.filterwarnings(\"ignore\", category=DeprecationWarning)\n",
    "warnings.filterwarnings(\"ignore\", category=FutureWarning)"
   ]
  },
  {
   "cell_type": "markdown",
   "metadata": {},
   "source": [
    "We are gonna work with an e-book from __[Project Gutenberg](https://www.gutenberg.org/)__ which we will import directly from the __nltk gutenberg corpus__. \n",
    "\n",
    "We can also import any book manually by [going on the website, selecting the desired book, and download the Plain Text UTF-8 version locally](https://www.gutenberg.org/ebooks/2701)."
   ]
  },
  {
   "cell_type": "code",
   "execution_count": 27,
   "metadata": {
    "colab": {
     "base_uri": "https://localhost:8080/"
    },
    "id": "_hNHASKWO9UH",
    "outputId": "f31835fc-0372-43be-9a06-a8fb6902f6db",
    "scrolled": true
   },
   "outputs": [
    {
     "name": "stdout",
     "output_type": "stream",
     "text": [
      "['austen-emma.txt', 'austen-persuasion.txt', 'austen-sense.txt', 'bible-kjv.txt', 'blake-poems.txt', 'bryant-stories.txt', 'burgess-busterbrown.txt', 'carroll-alice.txt', 'chesterton-ball.txt', 'chesterton-brown.txt', 'chesterton-thursday.txt', 'edgeworth-parents.txt', 'melville-moby_dick.txt', 'milton-paradise.txt', 'shakespeare-caesar.txt', 'shakespeare-hamlet.txt', 'shakespeare-macbeth.txt', 'whitman-leaves.txt']\n"
     ]
    }
   ],
   "source": [
    "from nltk.corpus import gutenberg\n",
    "\n",
    "# check book titles\n",
    "print(gutenberg.fileids())"
   ]
  },
  {
   "cell_type": "markdown",
   "metadata": {},
   "source": [
    "After selecting the book title we can import its content in various forms, but we will import it as a __single string__ for this project."
   ]
  },
  {
   "cell_type": "code",
   "execution_count": 28,
   "metadata": {
    "scrolled": false
   },
   "outputs": [
    {
     "name": "stdout",
     "output_type": "stream",
     "text": [
      "Book's length: 1242990 words.\n",
      "\n",
      "First 500 characters the book:\n",
      "\n",
      "[Moby Dick by Herman Melville 1851]\r\n",
      "\r\n",
      "\r\n",
      "ETYMOLOGY.\r\n",
      "\r\n",
      "(Supplied by a Late Consumptive Usher to a Grammar School)\r\n",
      "\r\n",
      "The pale Usher--threadbare in coat, heart, body, and brain; I see him\r\n",
      "now.  He was ever dusting his old lexicons and grammars, with a queer\r\n",
      "handkerchief, mockingly embellished with all the gay flags of all the\r\n",
      "known nations of the world.  He loved to dust his old grammars; it\r\n",
      "somehow mildly reminded him of his mortality.\r\n",
      "\r\n",
      "\"While you take in hand to school others, and to teac.\n"
     ]
    }
   ],
   "source": [
    "# select the desired title\n",
    "moby_dick = gutenberg.raw('melville-moby_dick.txt')\n",
    "\n",
    "# check book's length\n",
    "print(f\"Book's length: {len(moby_dick)} words.\\n\")\n",
    "\n",
    "# check the first 20 words\n",
    "print(f\"First 500 characters the book:\\n\\n{moby_dick[:500]}.\")"
   ]
  },
  {
   "cell_type": "markdown",
   "metadata": {},
   "source": [
    "<a name=\"textpreprocessing\"></a>\n",
    "# 2. Text Preprocessing"
   ]
  },
  {
   "cell_type": "markdown",
   "metadata": {},
   "source": [
    "We want to normalize our tokens before passing them to our ML model. Some of the common text preprocessign tasks include:\n",
    "\n",
    "1. Removing __special characters__, i.e. anything other than letters or numbers.\n",
    "1. Remove trailing __whitespace__.\n",
    "1. __Expand contracted words__, e.g. \"It's\" &rarr; \"It is\" (so the latter, i.e. \"is\", can be removed as a stopword later).\n",
    "1. __Lower-case__ text.\n",
    "1. __Tokenize__ text.\n",
    "1. Remove __stopwords__ such as \"the\", \"a\", \"an\", etc.\n",
    "1. Perform basic __stemming__.\n",
    "1. Join tokens back into a __single string__, i.e. like it was first inputted, but \"cleaned\".\n",
    "\n",
    "__Note__: A great [article](https://towardsdatascience.com/text-pre-processing-stop-words-removal-using-different-libraries-f20bac19929a) about the differences of removing stopwords using different libraries (__NLTK__, __spaCy__, __gensim__, __scikit-learn__)."
   ]
  },
  {
   "cell_type": "code",
   "execution_count": 68,
   "metadata": {},
   "outputs": [],
   "source": [
    "def normalize_document(doc):\n",
    "    \"\"\"Normalize the document by performing basic text pre-processing tasks.\"\"\"\n",
    "    # remove special characters\n",
    "    #doc = re.sub(r'[^a-zA-Z0-9\\s]', ' ', doc)\n",
    "    doc = re.sub('[^A-Za-z0-9]+', '', doc)\n",
    "    # remove trailing whitespace\n",
    "    nowhite = doc.strip()\n",
    "    # expand contractions\n",
    "    expanded = contractions.fix(nowhite)\n",
    "    # lower case string\n",
    "    lower_str = str(expanded).lower()\n",
    "    # tokenize document\n",
    "    tokens = word_tokenize(lower_str)\n",
    "    # remove stopwords\n",
    "    filtered_tokens = [token for token in tokens if token not in STOPWORDS]\n",
    "    filtered_tokens = [token for token in tokens if len(token) > 1]\n",
    "    \n",
    "    # instantiate stemmer\n",
    "    ps = PorterStemmer()\n",
    "    # simple porter stemming\n",
    "    stemmed_tokens = [ps.stem(token) for token in filtered_tokens]\n",
    "    \n",
    "    # re-create document from tokens\n",
    "    doc = ' '.join(stemmed_tokens)\n",
    "\n",
    "    return doc\n",
    "\n",
    "# vectorize function for faster computations\n",
    "normalize_corpus = np.vectorize(normalize_document)"
   ]
  },
  {
   "cell_type": "code",
   "execution_count": null,
   "metadata": {},
   "outputs": [],
   "source": [
    "# invoke function on our text\n",
    "normalized_text = normalize_corpus(moby_dick)"
   ]
  },
  {
   "cell_type": "code",
   "execution_count": null,
   "metadata": {},
   "outputs": [],
   "source": [
    "normalized_text.shape"
   ]
  },
  {
   "cell_type": "code",
   "execution_count": null,
   "metadata": {},
   "outputs": [],
   "source": [
    "normalized_text[:50]"
   ]
  },
  {
   "cell_type": "markdown",
   "metadata": {},
   "source": [
    "# Vectorization"
   ]
  },
  {
   "cell_type": "code",
   "execution_count": 150,
   "metadata": {
    "colab": {
     "base_uri": "https://localhost:8080/"
    },
    "id": "SFCsFneATOzG",
    "outputId": "de870d26-00b1-4dda-84fd-7f1929babe0a"
   },
   "outputs": [],
   "source": [
    "# vectorize tokens using BoW\n",
    "vectorizer = CountVectorizer(min_df=5, max_df=0.9)\n",
    "data_vectorized = vectorizer.fit_transform(normalized_text)\n",
    "data_vectorized_array = data_vectorized.toarray()"
   ]
  },
  {
   "cell_type": "code",
   "execution_count": 141,
   "metadata": {},
   "outputs": [
    {
     "data": {
      "text/html": [
       "<div>\n",
       "<style scoped>\n",
       "    .dataframe tbody tr th:only-of-type {\n",
       "        vertical-align: middle;\n",
       "    }\n",
       "\n",
       "    .dataframe tbody tr th {\n",
       "        vertical-align: top;\n",
       "    }\n",
       "\n",
       "    .dataframe thead th {\n",
       "        text-align: right;\n",
       "    }\n",
       "</style>\n",
       "<table border=\"1\" class=\"dataframe\">\n",
       "  <thead>\n",
       "    <tr style=\"text-align: right;\">\n",
       "      <th></th>\n",
       "      <th>abandon</th>\n",
       "      <th>abat</th>\n",
       "      <th>abid</th>\n",
       "      <th>abl</th>\n",
       "      <th>aboard</th>\n",
       "      <th>abomin</th>\n",
       "      <th>aborigin</th>\n",
       "      <th>abound</th>\n",
       "      <th>abroad</th>\n",
       "      <th>absenc</th>\n",
       "      <th>...</th>\n",
       "      <th>yojo</th>\n",
       "      <th>yoke</th>\n",
       "      <th>yon</th>\n",
       "      <th>yonder</th>\n",
       "      <th>york</th>\n",
       "      <th>young</th>\n",
       "      <th>youth</th>\n",
       "      <th>zealand</th>\n",
       "      <th>zodiac</th>\n",
       "      <th>zone</th>\n",
       "    </tr>\n",
       "  </thead>\n",
       "  <tbody>\n",
       "    <tr>\n",
       "      <th>0</th>\n",
       "      <td>0</td>\n",
       "      <td>0</td>\n",
       "      <td>0</td>\n",
       "      <td>0</td>\n",
       "      <td>0</td>\n",
       "      <td>0</td>\n",
       "      <td>0</td>\n",
       "      <td>0</td>\n",
       "      <td>0</td>\n",
       "      <td>0</td>\n",
       "      <td>...</td>\n",
       "      <td>0</td>\n",
       "      <td>0</td>\n",
       "      <td>0</td>\n",
       "      <td>0</td>\n",
       "      <td>0</td>\n",
       "      <td>0</td>\n",
       "      <td>0</td>\n",
       "      <td>0</td>\n",
       "      <td>0</td>\n",
       "      <td>0</td>\n",
       "    </tr>\n",
       "    <tr>\n",
       "      <th>1</th>\n",
       "      <td>0</td>\n",
       "      <td>0</td>\n",
       "      <td>0</td>\n",
       "      <td>0</td>\n",
       "      <td>0</td>\n",
       "      <td>0</td>\n",
       "      <td>0</td>\n",
       "      <td>0</td>\n",
       "      <td>0</td>\n",
       "      <td>0</td>\n",
       "      <td>...</td>\n",
       "      <td>0</td>\n",
       "      <td>0</td>\n",
       "      <td>0</td>\n",
       "      <td>0</td>\n",
       "      <td>0</td>\n",
       "      <td>0</td>\n",
       "      <td>0</td>\n",
       "      <td>0</td>\n",
       "      <td>0</td>\n",
       "      <td>0</td>\n",
       "    </tr>\n",
       "    <tr>\n",
       "      <th>2</th>\n",
       "      <td>0</td>\n",
       "      <td>0</td>\n",
       "      <td>0</td>\n",
       "      <td>0</td>\n",
       "      <td>0</td>\n",
       "      <td>0</td>\n",
       "      <td>0</td>\n",
       "      <td>0</td>\n",
       "      <td>0</td>\n",
       "      <td>0</td>\n",
       "      <td>...</td>\n",
       "      <td>0</td>\n",
       "      <td>0</td>\n",
       "      <td>0</td>\n",
       "      <td>0</td>\n",
       "      <td>0</td>\n",
       "      <td>0</td>\n",
       "      <td>0</td>\n",
       "      <td>0</td>\n",
       "      <td>0</td>\n",
       "      <td>0</td>\n",
       "    </tr>\n",
       "    <tr>\n",
       "      <th>3</th>\n",
       "      <td>0</td>\n",
       "      <td>0</td>\n",
       "      <td>0</td>\n",
       "      <td>0</td>\n",
       "      <td>0</td>\n",
       "      <td>0</td>\n",
       "      <td>0</td>\n",
       "      <td>0</td>\n",
       "      <td>0</td>\n",
       "      <td>0</td>\n",
       "      <td>...</td>\n",
       "      <td>0</td>\n",
       "      <td>0</td>\n",
       "      <td>0</td>\n",
       "      <td>0</td>\n",
       "      <td>0</td>\n",
       "      <td>0</td>\n",
       "      <td>0</td>\n",
       "      <td>0</td>\n",
       "      <td>0</td>\n",
       "      <td>0</td>\n",
       "    </tr>\n",
       "    <tr>\n",
       "      <th>4</th>\n",
       "      <td>0</td>\n",
       "      <td>0</td>\n",
       "      <td>0</td>\n",
       "      <td>0</td>\n",
       "      <td>0</td>\n",
       "      <td>0</td>\n",
       "      <td>0</td>\n",
       "      <td>0</td>\n",
       "      <td>0</td>\n",
       "      <td>0</td>\n",
       "      <td>...</td>\n",
       "      <td>0</td>\n",
       "      <td>0</td>\n",
       "      <td>0</td>\n",
       "      <td>0</td>\n",
       "      <td>0</td>\n",
       "      <td>0</td>\n",
       "      <td>0</td>\n",
       "      <td>0</td>\n",
       "      <td>0</td>\n",
       "      <td>0</td>\n",
       "    </tr>\n",
       "  </tbody>\n",
       "</table>\n",
       "<p>5 rows × 3449 columns</p>\n",
       "</div>"
      ],
      "text/plain": [
       "   abandon  abat  abid  abl  aboard  abomin  aborigin  abound  abroad  absenc  \\\n",
       "0        0     0     0    0       0       0         0       0       0       0   \n",
       "1        0     0     0    0       0       0         0       0       0       0   \n",
       "2        0     0     0    0       0       0         0       0       0       0   \n",
       "3        0     0     0    0       0       0         0       0       0       0   \n",
       "4        0     0     0    0       0       0         0       0       0       0   \n",
       "\n",
       "   ...  yojo  yoke  yon  yonder  york  young  youth  zealand  zodiac  zone  \n",
       "0  ...     0     0    0       0     0      0      0        0       0     0  \n",
       "1  ...     0     0    0       0     0      0      0        0       0     0  \n",
       "2  ...     0     0    0       0     0      0      0        0       0     0  \n",
       "3  ...     0     0    0       0     0      0      0        0       0     0  \n",
       "4  ...     0     0    0       0     0      0      0        0       0     0  \n",
       "\n",
       "[5 rows x 3449 columns]"
      ]
     },
     "execution_count": 141,
     "metadata": {},
     "output_type": "execute_result"
    }
   ],
   "source": [
    "cv = pd.DataFrame(data_vectorized, columns=vectorizer.get_feature_namesure_names())\n",
    "cv.head()"
   ]
  },
  {
   "cell_type": "code",
   "execution_count": null,
   "metadata": {},
   "outputs": [],
   "source": [
    "# vectorize tokens using tfidf\n",
    "tfidf_vec = TfidfVectorizer()\n",
    "data_tfidf = tfidf_vec.fit_transform(normlized_text)\n",
    "data_tfidf_array = data_tfidf.toarray()"
   ]
  },
  {
   "cell_type": "code",
   "execution_count": 141,
   "metadata": {},
   "outputs": [
    {
     "data": {
      "text/html": [
       "<div>\n",
       "<style scoped>\n",
       "    .dataframe tbody tr th:only-of-type {\n",
       "        vertical-align: middle;\n",
       "    }\n",
       "\n",
       "    .dataframe tbody tr th {\n",
       "        vertical-align: top;\n",
       "    }\n",
       "\n",
       "    .dataframe thead th {\n",
       "        text-align: right;\n",
       "    }\n",
       "</style>\n",
       "<table border=\"1\" class=\"dataframe\">\n",
       "  <thead>\n",
       "    <tr style=\"text-align: right;\">\n",
       "      <th></th>\n",
       "      <th>abandon</th>\n",
       "      <th>abat</th>\n",
       "      <th>abid</th>\n",
       "      <th>abl</th>\n",
       "      <th>aboard</th>\n",
       "      <th>abomin</th>\n",
       "      <th>aborigin</th>\n",
       "      <th>abound</th>\n",
       "      <th>abroad</th>\n",
       "      <th>absenc</th>\n",
       "      <th>...</th>\n",
       "      <th>yojo</th>\n",
       "      <th>yoke</th>\n",
       "      <th>yon</th>\n",
       "      <th>yonder</th>\n",
       "      <th>york</th>\n",
       "      <th>young</th>\n",
       "      <th>youth</th>\n",
       "      <th>zealand</th>\n",
       "      <th>zodiac</th>\n",
       "      <th>zone</th>\n",
       "    </tr>\n",
       "  </thead>\n",
       "  <tbody>\n",
       "    <tr>\n",
       "      <th>0</th>\n",
       "      <td>0</td>\n",
       "      <td>0</td>\n",
       "      <td>0</td>\n",
       "      <td>0</td>\n",
       "      <td>0</td>\n",
       "      <td>0</td>\n",
       "      <td>0</td>\n",
       "      <td>0</td>\n",
       "      <td>0</td>\n",
       "      <td>0</td>\n",
       "      <td>...</td>\n",
       "      <td>0</td>\n",
       "      <td>0</td>\n",
       "      <td>0</td>\n",
       "      <td>0</td>\n",
       "      <td>0</td>\n",
       "      <td>0</td>\n",
       "      <td>0</td>\n",
       "      <td>0</td>\n",
       "      <td>0</td>\n",
       "      <td>0</td>\n",
       "    </tr>\n",
       "    <tr>\n",
       "      <th>1</th>\n",
       "      <td>0</td>\n",
       "      <td>0</td>\n",
       "      <td>0</td>\n",
       "      <td>0</td>\n",
       "      <td>0</td>\n",
       "      <td>0</td>\n",
       "      <td>0</td>\n",
       "      <td>0</td>\n",
       "      <td>0</td>\n",
       "      <td>0</td>\n",
       "      <td>...</td>\n",
       "      <td>0</td>\n",
       "      <td>0</td>\n",
       "      <td>0</td>\n",
       "      <td>0</td>\n",
       "      <td>0</td>\n",
       "      <td>0</td>\n",
       "      <td>0</td>\n",
       "      <td>0</td>\n",
       "      <td>0</td>\n",
       "      <td>0</td>\n",
       "    </tr>\n",
       "    <tr>\n",
       "      <th>2</th>\n",
       "      <td>0</td>\n",
       "      <td>0</td>\n",
       "      <td>0</td>\n",
       "      <td>0</td>\n",
       "      <td>0</td>\n",
       "      <td>0</td>\n",
       "      <td>0</td>\n",
       "      <td>0</td>\n",
       "      <td>0</td>\n",
       "      <td>0</td>\n",
       "      <td>...</td>\n",
       "      <td>0</td>\n",
       "      <td>0</td>\n",
       "      <td>0</td>\n",
       "      <td>0</td>\n",
       "      <td>0</td>\n",
       "      <td>0</td>\n",
       "      <td>0</td>\n",
       "      <td>0</td>\n",
       "      <td>0</td>\n",
       "      <td>0</td>\n",
       "    </tr>\n",
       "    <tr>\n",
       "      <th>3</th>\n",
       "      <td>0</td>\n",
       "      <td>0</td>\n",
       "      <td>0</td>\n",
       "      <td>0</td>\n",
       "      <td>0</td>\n",
       "      <td>0</td>\n",
       "      <td>0</td>\n",
       "      <td>0</td>\n",
       "      <td>0</td>\n",
       "      <td>0</td>\n",
       "      <td>...</td>\n",
       "      <td>0</td>\n",
       "      <td>0</td>\n",
       "      <td>0</td>\n",
       "      <td>0</td>\n",
       "      <td>0</td>\n",
       "      <td>0</td>\n",
       "      <td>0</td>\n",
       "      <td>0</td>\n",
       "      <td>0</td>\n",
       "      <td>0</td>\n",
       "    </tr>\n",
       "    <tr>\n",
       "      <th>4</th>\n",
       "      <td>0</td>\n",
       "      <td>0</td>\n",
       "      <td>0</td>\n",
       "      <td>0</td>\n",
       "      <td>0</td>\n",
       "      <td>0</td>\n",
       "      <td>0</td>\n",
       "      <td>0</td>\n",
       "      <td>0</td>\n",
       "      <td>0</td>\n",
       "      <td>...</td>\n",
       "      <td>0</td>\n",
       "      <td>0</td>\n",
       "      <td>0</td>\n",
       "      <td>0</td>\n",
       "      <td>0</td>\n",
       "      <td>0</td>\n",
       "      <td>0</td>\n",
       "      <td>0</td>\n",
       "      <td>0</td>\n",
       "      <td>0</td>\n",
       "    </tr>\n",
       "  </tbody>\n",
       "</table>\n",
       "<p>5 rows × 3449 columns</p>\n",
       "</div>"
      ],
      "text/plain": [
       "   abandon  abat  abid  abl  aboard  abomin  aborigin  abound  abroad  absenc  \\\n",
       "0        0     0     0    0       0       0         0       0       0       0   \n",
       "1        0     0     0    0       0       0         0       0       0       0   \n",
       "2        0     0     0    0       0       0         0       0       0       0   \n",
       "3        0     0     0    0       0       0         0       0       0       0   \n",
       "4        0     0     0    0       0       0         0       0       0       0   \n",
       "\n",
       "   ...  yojo  yoke  yon  yonder  york  young  youth  zealand  zodiac  zone  \n",
       "0  ...     0     0    0       0     0      0      0        0       0     0  \n",
       "1  ...     0     0    0       0     0      0      0        0       0     0  \n",
       "2  ...     0     0    0       0     0      0      0        0       0     0  \n",
       "3  ...     0     0    0       0     0      0      0        0       0     0  \n",
       "4  ...     0     0    0       0     0      0      0        0       0     0  \n",
       "\n",
       "[5 rows x 3449 columns]"
      ]
     },
     "execution_count": 141,
     "metadata": {},
     "output_type": "execute_result"
    }
   ],
   "source": [
    "tfidf = pd.DataFrame(data_tfidf, columns=tfidf_vec.get_feature_namesure_names())\n",
    "tfidf.head()"
   ]
  },
  {
   "cell_type": "code",
   "execution_count": 151,
   "metadata": {},
   "outputs": [
    {
     "name": "stdout",
     "output_type": "stream",
     "text": [
      "(212030, 15)\n"
     ]
    }
   ],
   "source": [
    "# Build a Latent Dirichlet Allocation Model\n",
    "lda_model = LatentDirichletAllocation(n_components= 15, max_iter=10, learning_method='online') # no of components = no. of topics\n",
    "lda_Z = lda_model.fit_transform(data_vectorized)\n",
    "print(lda_Z.shape)  # (NO_DOCUMENTS, NO_TOPICS)"
   ]
  },
  {
   "cell_type": "code",
   "execution_count": null,
   "metadata": {},
   "outputs": [],
   "source": [
    "# Build a Non-Negative Matrix Factorization Model\n",
    "nmf_model = NMF(n_components= 5)\n",
    "nmf_Z = nmf_model.fit_transform(data_vectorized)\n",
    "print(nmf_Z.shape)  # (NO_DOCUMENTS, NO_TOPICS)"
   ]
  },
  {
   "cell_type": "code",
   "execution_count": 142,
   "metadata": {
    "colab": {
     "base_uri": "https://localhost:8080/"
    },
    "id": "RBHUH-UeUFsK",
    "outputId": "10c36bc4-5eb1-4791-8310-3bad20fb8d7f"
   },
   "outputs": [
    {
     "name": "stdout",
     "output_type": "stream",
     "text": [
      "(212030, 5)\n",
      "(212030, 5)\n",
      "(212030, 5)\n"
     ]
    }
   ],
   "source": [
    "# Build a Latent Semantic Indexing Model\n",
    "lsi_model = TruncatedSVD(n_components=5)\n",
    "lsi_Z = lsi_model.fit_transform(data_vectorized)\n",
    "print(lsi_Z.shape)  # (NO_DOCUMENTS, NO_TOPICS)"
   ]
  },
  {
   "cell_type": "code",
   "execution_count": 143,
   "metadata": {
    "id": "OXpNM-lbUtye"
   },
   "outputs": [],
   "source": [
    "# inspect the inferred topics\n",
    "def print_topics(model, vectorizer, top_n=5):\n",
    "    for idx, topic in enumerate(model.components_):\n",
    "        print(\"Topic %d:\" % (idx))\n",
    "        print([(vectorizer.get_feature_names()[i], topic[i])\n",
    "                        for i in topic.argsort()[:-top_n - 1:-1]])\n"
   ]
  },
  {
   "cell_type": "code",
   "execution_count": 144,
   "metadata": {
    "colab": {
     "base_uri": "https://localhost:8080/"
    },
    "id": "LQ_EcQNPU_sE",
    "outputId": "86c6e91a-0e02-48a6-d4ab-b211ff8b0cd5"
   },
   "outputs": [
    {
     "name": "stdout",
     "output_type": "stream",
     "text": [
      "LDA Model:\n",
      "Topic 0:\n",
      "[('like', 590.3545435342066), ('hand', 353.5343440444929), ('thou', 345.63628996274093), ('aye', 175.79984736740377), ('know', 173.71079714412272)]\n",
      "Topic 1:\n",
      "[('ship', 559.0912200564542), ('look', 321.2497252777063), ('white', 281.4138416598732), ('day', 260.8267959509847), ('water', 242.37121801385726)]\n",
      "Topic 2:\n",
      "[('ahab', 647.5000450553521), ('man', 521.4814261270236), ('ye', 474.47215489582726), ('time', 435.44133664263074), ('long', 337.20139480270416)]\n",
      "Topic 3:\n",
      "[('boat', 511.4311357150518), ('head', 354.9244949964444), ('captain', 292.4165170203486), ('men', 251.6417716370002), ('said', 250.96484558171414)]\n",
      "Topic 4:\n",
      "[('whale', 1413.1558989588868), ('sea', 475.79810800262345), ('old', 464.3366926699091), ('thing', 315.8009202371099), ('stubb', 293.2111487875179)]\n",
      "====================\n"
     ]
    }
   ],
   "source": [
    "print(\"LDA Model:\")\n",
    "print_topics(lda_model, vectorizer)\n",
    "print(\"=\" * 20)\n",
    " "
   ]
  },
  {
   "cell_type": "code",
   "execution_count": 145,
   "metadata": {
    "colab": {
     "base_uri": "https://localhost:8080/"
    },
    "id": "R_QXi93AVHbN",
    "outputId": "bdf1de12-a304-4957-e608-387dbc5adf6e"
   },
   "outputs": [
    {
     "name": "stdout",
     "output_type": "stream",
     "text": [
      "NMF Model:\n",
      "Topic 0:\n",
      "[('whale', 6.179301431367646), ('ye', 1.9375842801821416e-76), ('sea', 2.350514241269914e-79), ('old', 7.80454270217664e-83), ('time', 4.439649090236502e-83)]\n",
      "Topic 1:\n",
      "[('like', 4.926277328702363), ('ye', 6.171018218160643e-16), ('time', 1.322949884766949e-22), ('head', 1.5830645030304464e-39), ('look', 6.087739353319033e-41)]\n",
      "Topic 2:\n",
      "[('ship', 4.85364572358902), ('ye', 1.607543972617152e-11), ('look', 1.1318689156763126e-36), ('thing', 9.618113449810123e-40), ('great', 3.038069975380811e-43)]\n",
      "Topic 3:\n",
      "[('man', 4.724655149104589), ('ye', 0.0011256263882984067), ('captain', 2.584049049996265e-27), ('head', 9.759766168189473e-29), ('look', 1.499360856795322e-29)]\n",
      "Topic 4:\n",
      "[('ahab', 4.708434589266911), ('sea', 2.686966711567919e-06), ('old', 9.603795479844764e-10), ('time', 1.8443320806195892e-10), ('boat', 4.2128648524378275e-12)]\n",
      "====================\n"
     ]
    }
   ],
   "source": [
    "print(\"NMF Model:\")\n",
    "print_topics(nmf_model, vectorizer)\n",
    "print(\"=\" * 20)\n"
   ]
  },
  {
   "cell_type": "code",
   "execution_count": 146,
   "metadata": {
    "colab": {
     "base_uri": "https://localhost:8080/"
    },
    "id": "0ySUZ6ytVIhy",
    "outputId": "4f0ae756-7ca7-48a7-839c-0e92febe081e"
   },
   "outputs": [
    {
     "name": "stdout",
     "output_type": "stream",
     "text": [
      "LSI Model:\n",
      "Topic 0:\n",
      "[('whale', 0.9999999949542627), ('hand', 6.307831973168089e-05), ('captain', 1.8181608896668615e-05), ('look', 1.4649980368183027e-05), ('thing', 1.4252480510105377e-05)]\n",
      "Topic 1:\n",
      "[('like', 0.9998851854072981), ('great', 0.007158110511763926), ('way', 0.006394079665458567), ('hand', 0.0038120112721361124), ('thou', 0.003409631886065413)]\n",
      "Topic 2:\n",
      "[('ship', 0.9995852787996308), ('man', 0.010122441459243138), ('queequeg', 0.006694094612006227), ('old', 0.006276999949258497), ('stubb', 0.005429219499055022)]\n",
      "Topic 3:\n",
      "[('man', 0.9968854393121116), ('hand', 0.044696296440504275), ('look', 0.02457891447804474), ('sea', 0.01711575731214732), ('thing', 0.014401969914370656)]\n",
      "Topic 4:\n",
      "[('ahab', 0.9990944033216037), ('said', 0.018802011170033876), ('white', 0.013083593784204131), ('ye', 0.012171709359727839), ('come', 0.010889876521822484)]\n",
      "====================\n"
     ]
    }
   ],
   "source": [
    "print(\"LSI Model:\")\n",
    "print_topics(lsi_model, vectorizer)\n",
    "print(\"=\" * 20)"
   ]
  },
  {
   "cell_type": "code",
   "execution_count": 60,
   "metadata": {
    "colab": {
     "base_uri": "https://localhost:8080/"
    },
    "id": "wtZ0__i8VdSr",
    "outputId": "f2b214eb-5f4e-453d-8a9e-4bbc07004d9d"
   },
   "outputs": [],
   "source": [
    "#!pip install pyLDAvis"
   ]
  },
  {
   "cell_type": "code",
   "execution_count": 152,
   "metadata": {
    "colab": {
     "base_uri": "https://localhost:8080/",
     "height": 1000
    },
    "id": "K_u9g-lQVaIz",
    "outputId": "eb9d603e-6c09-445e-a4ee-8bf746ebab3a"
   },
   "outputs": [
    {
     "data": {
      "text/html": [
       "\n",
       "<link rel=\"stylesheet\" type=\"text/css\" href=\"https://cdn.jsdelivr.net/gh/bmabey/pyLDAvis@3.3.1/pyLDAvis/js/ldavis.v1.0.0.css\">\n",
       "\n",
       "\n",
       "<div id=\"ldavis_el1605625689774757287535815146\"></div>\n",
       "<script type=\"text/javascript\">\n",
       "\n",
       "var ldavis_el1605625689774757287535815146_data = {\"mdsDat\": {\"x\": [-0.44895519357064295, 0.03747727996175406, 0.03583645749432643, 0.03360752469678291, 0.0347504914091358, 0.028996812887675076, 0.0287918145867298, 0.038096260003379775, 0.03038127028926723, 0.03154540146374009, 0.032343733644270276, 0.030892300406887736, 0.027549059110918633, 0.03167900418852251, 0.02700778342725234], \"y\": [0.0046946571960828545, 0.44448241931731985, -0.058159569908226426, -0.04067720659065396, -0.04311839023935776, -0.032431190317036035, -0.029792421576864517, -0.04941281980489302, -0.02888682161673598, -0.028714221421844228, -0.028195652450945186, -0.029604716998345184, -0.026703319067451173, -0.027834703349101757, -0.025646043171947307], \"topics\": [1, 2, 3, 4, 5, 6, 7, 8, 9, 10, 11, 12, 13, 14, 15], \"cluster\": [1, 1, 1, 1, 1, 1, 1, 1, 1, 1, 1, 1, 1, 1, 1], \"Freq\": [6.996470497966749, 6.924857413233039, 6.73367605309603, 6.695311900560132, 6.684442057341669, 6.681884447172486, 6.651832527686056, 6.651193125143936, 6.593007493797792, 6.584695260748401, 6.573825417529918, 6.572546612445358, 6.561037366684483, 6.552085731092919, 6.543134095501049]}, \"tinfo\": {\"Term\": [\"whale\", \"ahab\", \"like\", \"ship\", \"man\", \"ye\", \"sea\", \"boat\", \"old\", \"time\", \"hand\", \"head\", \"long\", \"thou\", \"look\", \"thing\", \"captain\", \"eye\", \"great\", \"stubb\", \"round\", \"way\", \"white\", \"come\", \"said\", \"men\", \"water\", \"day\", \"stand\", \"sperm\", \"whale\", \"ahab\", \"day\", \"good\", \"pequod\", \"life\", \"soon\", \"face\", \"heard\", \"remain\", \"near\", \"ere\", \"cabin\", \"hint\", \"circl\", \"art\", \"hunt\", \"fact\", \"direct\", \"escap\", \"act\", \"blacksmith\", \"cruis\", \"substanc\", \"bildad\", \"ear\", \"sweet\", \"foot\", \"midnight\", \"flesh\", \"boat\", \"come\", \"starbuck\", \"think\", \"strang\", \"bodi\", \"till\", \"present\", \"work\", \"pass\", \"he\", \"went\", \"tail\", \"beneath\", \"hard\", \"heaven\", \"stern\", \"wake\", \"second\", \"gaze\", \"tashtego\", \"fast\", \"blow\", \"use\", \"fine\", \"dash\", \"craft\", \"consider\", \"heav\", \"sure\", \"white\", \"deck\", \"sail\", \"cri\", \"let\", \"crew\", \"world\", \"tell\", \"saw\", \"heart\", \"bow\", \"mate\", \"word\", \"morn\", \"young\", \"strike\", \"plank\", \"fli\", \"suddenli\", \"possibl\", \"blood\", \"wondrou\", \"fear\", \"secur\", \"receiv\", \"nigh\", \"rib\", \"lost\", \"hull\", \"mass\", \"stubb\", \"men\", \"sperm\", \"sir\", \"know\", \"hold\", \"end\", \"sun\", \"form\", \"shark\", \"wild\", \"speak\", \"command\", \"take\", \"forward\", \"masthead\", \"mast\", \"voic\", \"gone\", \"book\", \"help\", \"want\", \"cast\", \"curiou\", \"hail\", \"rock\", \"teeth\", \"doubloon\", \"doubt\", \"steel\", \"ship\", \"old\", \"oh\", \"live\", \"right\", \"fish\", \"pip\", \"dead\", \"close\", \"cut\", \"make\", \"true\", \"start\", \"lord\", \"rig\", \"slowli\", \"concern\", \"indian\", \"seiz\", \"power\", \"drag\", \"give\", \"kept\", \"account\", \"fix\", \"step\", \"origin\", \"burst\", \"learn\", \"knew\", \"like\", \"head\", \"away\", \"feet\", \"lower\", \"order\", \"jaw\", \"length\", \"coffin\", \"watch\", \"vessel\", \"say\", \"sleep\", \"savag\", \"sky\", \"keel\", \"leeward\", \"bed\", \"jet\", \"care\", \"fell\", \"cross\", \"happen\", \"bulk\", \"grow\", \"born\", \"hunter\", \"previou\", \"steadi\", \"gunwal\", \"water\", \"line\", \"queequeg\", \"seen\", \"air\", \"leviathan\", \"mobi\", \"ill\", \"dick\", \"carri\", \"wave\", \"continu\", \"lie\", \"lean\", \"hoist\", \"board\", \"whalemen\", \"fisheri\", \"broad\", \"love\", \"flame\", \"level\", \"peril\", \"straight\", \"parse\", \"soft\", \"seat\", \"forecastl\", \"sideway\", \"wreck\", \"man\", \"time\", \"thou\", \"way\", \"said\", \"wind\", \"feel\", \"half\", \"spout\", \"hour\", \"dark\", \"carpent\", \"chanc\", \"peculiar\", \"advanc\", \"swim\", \"view\", \"particular\", \"reach\", \"rush\", \"mighti\", \"purpos\", \"break\", \"middl\", \"believ\", \"readi\", \"etern\", \"suspend\", \"lift\", \"mile\", \"round\", \"turn\", \"night\", \"point\", \"arm\", \"iron\", \"roll\", \"sailor\", \"case\", \"mean\", \"land\", \"death\", \"wonder\", \"hear\", \"larg\", \"rise\", \"new\", \"kill\", \"best\", \"king\", \"toss\", \"began\", \"draw\", \"wood\", \"distanc\", \"rais\", \"whaleman\", \"blind\", \"took\", \"gain\", \"hand\", \"thing\", \"thee\", \"far\", \"place\", \"thought\", \"year\", \"nantucket\", \"high\", \"voyag\", \"pull\", \"mind\", \"touch\", \"lay\", \"go\", \"mr\", \"rope\", \"left\", \"suppos\", \"skeleton\", \"taken\", \"fluke\", \"hope\", \"murder\", \"begin\", \"sudden\", \"stop\", \"intent\", \"pole\", \"bulwark\", \"ye\", \"great\", \"stand\", \"harpoon\", \"god\", \"shall\", \"light\", \"chase\", \"reason\", \"boy\", \"leav\", \"float\", \"bear\", \"creatur\", \"hammer\", \"devil\", \"have\", \"consid\", \"better\", \"cook\", \"home\", \"wide\", \"mad\", \"leap\", \"green\", \"smoke\", \"coast\", \"hell\", \"glide\", \"whaleboat\", \"eye\", \"chapter\", \"aye\", \"leg\", \"came\", \"gener\", \"flask\", \"black\", \"certain\", \"sound\", \"oil\", \"ocean\", \"vast\", \"mouth\", \"known\", \"thousand\", \"busi\", \"glanc\", \"interv\", \"mere\", \"tri\", \"forth\", \"part\", \"calm\", \"circumst\", \"forehead\", \"blue\", \"differ\", \"hat\", \"minut\", \"look\", \"call\", \"run\", \"stood\", \"natur\", \"die\", \"oar\", \"aloft\", \"lanc\", \"deep\", \"rest\", \"goe\", \"sign\", \"clear\", \"jonah\", \"brain\", \"meet\", \"surfac\", \"helm\", \"red\", \"shot\", \"human\", \"yard\", \"plain\", \"plainli\", \"quick\", \"ad\", \"sing\", \"lash\", \"person\", \"sea\", \"long\", \"captain\", \"littl\", \"thi\", \"sort\", \"soul\", \"instant\", \"matter\", \"bone\", \"open\", \"set\", \"drop\", \"cours\", \"short\", \"ground\", \"observ\", \"grand\", \"fit\", \"island\", \"compani\", \"hardli\", \"skull\", \"nearli\", \"heavi\", \"proper\", \"side\", \"asid\", \"furnish\", \"pace\", \"sight\", \"moment\", \"small\", \"poor\", \"dart\", \"entir\", \"mark\", \"follow\", \"complet\", \"final\", \"ivori\", \"stranger\", \"marin\", \"fellow\", \"mortal\", \"precis\", \"broken\", \"caught\", \"object\", \"stori\", \"struck\", \"monster\", \"english\", \"common\", \"breath\", \"held\", \"age\", \"play\", \"singl\", \"silent\"], \"Freq\": [1271.0, 582.0, 554.0, 527.0, 495.0, 466.0, 465.0, 451.0, 438.0, 413.0, 344.0, 333.0, 330.0, 328.0, 309.0, 308.0, 286.0, 283.0, 278.0, 277.0, 272.0, 262.0, 262.0, 245.0, 238.0, 237.0, 231.0, 235.0, 223.0, 224.0, 1270.184122831895, 581.9263526576203, 234.34081165009025, 172.91256693177834, 163.94480338570327, 131.8068695585825, 119.63875130559425, 101.88908943560357, 100.98031142465426, 90.02585859899743, 85.14866837391622, 82.69478359733263, 62.16125152205545, 52.709361110573184, 51.57470911295659, 46.88705382550164, 43.71733967727917, 43.183097354481205, 41.3638598240316, 39.10654557816905, 34.98305947750972, 33.87381239554813, 31.705488061177622, 31.562503193467187, 31.0542725241911, 30.785527940596904, 30.591504865998093, 29.308531440998916, 27.556112041341265, 26.696626941077024, 450.6879619173289, 244.61873722144853, 211.8357026271901, 130.54500311784193, 119.92595810338828, 119.135778370438, 113.63172421220114, 109.81006255606702, 101.47918549852545, 92.45759234480718, 89.00666795290971, 88.73092958527616, 85.21002745161499, 81.21074821241744, 74.24787894648175, 60.322476982027766, 58.17545069295809, 55.918933384851435, 53.32145674598931, 53.07169890149253, 51.11760637943229, 50.236994166825006, 47.8988634565293, 45.75169930551288, 44.42652583446302, 42.6393655227147, 41.77138214413193, 41.07401778752052, 39.33421748514181, 37.185814889881726, 261.5000959831587, 193.50100710386326, 183.98998521897354, 182.86302535179595, 168.71399865840618, 166.52345678000657, 153.11807849498126, 129.29311410635927, 111.33420967344365, 108.7201635877718, 106.34520964439838, 92.43073804829164, 83.50285792316144, 65.12193373511086, 61.89476597680787, 55.776753579589084, 54.42266754589614, 53.905995475213885, 53.867554632930485, 52.94586587627416, 51.977247281421725, 48.6230225336812, 47.556283117985316, 45.76681218752655, 45.04767021888263, 44.64058063783645, 43.759684668487274, 43.35227071685497, 42.92077937918089, 40.35663125202829, 276.2660651307343, 237.08123662577407, 223.39771367794228, 211.23633553923443, 163.62061068821083, 144.93126240428924, 123.67584651856663, 111.09425182737426, 83.14688737218015, 80.58645073239846, 75.33712550975157, 72.62347725092161, 71.42772322420315, 66.44239975794632, 64.16827722912224, 64.01193301617883, 63.322218098803134, 58.64804105341151, 56.909465032126285, 55.68636188584312, 53.361531612555886, 53.03680717181159, 47.90847074024849, 46.95980380526416, 44.319883574682414, 44.14081100859785, 40.78281441031609, 39.3775876535361, 39.32445198383716, 38.4466985252098, 527.0222154695574, 437.68145830982536, 180.453551271234, 178.32325368318067, 127.0198229677566, 100.07210249606142, 98.15855588077225, 88.31478018259321, 77.03646682403077, 75.08096967197147, 73.98797711079354, 71.14053817334515, 68.5495786757166, 67.12236137406093, 55.998966388057184, 55.25003110751084, 52.41773481969604, 49.783614983055195, 49.0664244456326, 47.34861684574582, 46.732274379636344, 46.51213200165942, 43.85001934444926, 42.267722769117775, 37.75832122079062, 37.19094133222278, 36.76893483986116, 36.63192152020144, 36.50047348303347, 36.39832848355977, 553.542904675731, 332.74332117967816, 179.26629963393657, 122.88137583546313, 110.67062926236251, 85.37228045084507, 82.18858787428455, 77.12583805438165, 76.31491787502206, 74.65849755616058, 70.09564703900526, 69.24767880493955, 53.566183340522265, 48.97640325836059, 48.20922106054807, 47.26884990982245, 43.72792003743791, 42.73332168257351, 42.52792065713284, 42.17877479351645, 41.92531295706359, 41.56331265055634, 38.03281249694777, 37.61250591391118, 36.140378233409805, 34.984462396490386, 34.34086313813297, 34.136805082694, 33.4140685327633, 32.23904654208055, 230.79565344499983, 166.16514480925952, 163.8328872462651, 158.46262129836842, 146.66236672623648, 114.24103870136334, 85.88883396424923, 85.29099461435212, 83.87809363452145, 81.1501976627834, 73.99639733144731, 64.25881975280386, 62.570182217979855, 58.87043207707367, 57.83193858778956, 56.769495178624446, 56.691242521775344, 54.13299733612124, 51.53911983952738, 51.47485171718544, 47.646277980857384, 47.444742077698784, 45.11721082648501, 44.00925394754323, 43.85997087458707, 40.89021871449048, 40.64185968252675, 39.36902669243944, 36.51688078397426, 36.16337038738702, 494.3764023315436, 412.7875692028539, 327.62861234054895, 261.77668850691873, 237.85491539642447, 108.87685515469403, 104.48012455946053, 94.88981586269311, 91.13236052527282, 88.3156426742514, 87.45750646118657, 74.45078525661805, 64.90035513909334, 61.42727833885446, 60.475310561762136, 59.29414496862723, 50.45176824863523, 48.70674184143243, 47.44721064478869, 46.99597300431806, 44.04325080259712, 41.58220518418398, 40.30246315304068, 39.8755540618289, 38.8072568956286, 38.27731091777088, 37.93677340847479, 37.65594685564512, 37.146037517910415, 35.568755245842866, 271.2310479512527, 211.22430561474397, 142.8864942018516, 127.61438882949703, 124.55299375358658, 110.71047549717535, 108.0598075056936, 103.60798375124779, 92.52870513751023, 88.54163373106907, 78.39201778374917, 78.1635326060966, 77.37230641420575, 75.37336375342359, 73.18706140794525, 68.65520905460829, 67.45714739010262, 64.95233952671121, 58.94558327583593, 58.630244825389845, 54.35997586014146, 47.20126026288171, 46.69136410788326, 46.556742243207765, 44.42370194773715, 43.919132279374764, 41.68383425768634, 41.2117098578173, 40.25568409639909, 39.95127487015752, 344.0172290439653, 307.2857511514831, 172.74746355705233, 169.13280469099936, 166.37919206575333, 147.29516842703143, 115.673313022, 100.68094328293998, 97.65933274626056, 97.07549006972522, 80.9262913628507, 78.85971095636802, 78.20631405549784, 74.3445446125856, 73.31080968201246, 65.01084988239886, 63.247556875665225, 62.48425737509638, 50.91449646285405, 49.587620817094745, 46.8776092301494, 45.60919632102254, 45.44830794360497, 42.77327535290948, 42.46116983596798, 42.22023881857592, 41.43582608948473, 37.62690741817029, 35.89607104449864, 33.765344639084645, 465.3357283328216, 277.29600531464814, 222.9380780953947, 212.0510574868523, 156.35910176193238, 103.92038045530553, 94.89431738122047, 93.247528640372, 85.78841017812321, 76.0459616336253, 74.66686982350978, 73.23930359431753, 68.9363556675836, 65.33726320495613, 63.710874168471854, 60.206559187910884, 57.614008090362056, 57.449311518099925, 56.494792746059645, 55.564641343787656, 51.267420887556234, 49.706167039490815, 48.031147117024204, 46.09708933535712, 45.06204724905761, 41.88577485923146, 41.03489070720232, 39.19563258288151, 38.26770301441664, 37.15613987548936, 282.75412100041314, 169.09878162160092, 168.66174149645892, 135.42370876762726, 120.71643546183189, 105.51965930173354, 96.13478461399686, 95.05286781424422, 85.31427248988115, 82.9874118357716, 77.91505943591243, 76.32110648752634, 72.68054626750343, 72.60929679245658, 69.34457526455097, 67.3996492567961, 60.98827582022009, 55.591320949874195, 55.17422318027607, 54.07266016531251, 53.64511399672716, 52.70529914953393, 51.76661571378586, 50.5018571781673, 50.10204492960115, 47.63088820210977, 46.32285906312218, 43.890196285499556, 41.4383531983067, 41.150012880450305, 309.0973722927443, 124.93898797298738, 98.64077217446548, 91.82426976880288, 91.25551939957354, 88.92131809096294, 81.76700639693527, 69.69506586400479, 68.33811446138729, 67.10810101399403, 64.36109314054873, 52.94951118148631, 52.57739467315696, 51.476027057500914, 48.11296481328172, 45.535546054224845, 44.34505375059611, 44.287396320478216, 42.429367871449074, 41.46629788788062, 41.42311303241278, 41.170055006934696, 40.88182949810122, 39.98093275814484, 38.44811928203614, 38.41457318374234, 38.23302708310065, 37.6112394074701, 37.04936777728315, 36.76734835712391, 464.73901571593865, 329.3258296628465, 285.5696296143534, 204.07232748636096, 148.72308462073744, 135.56464517080943, 102.01206752721157, 100.4672397881494, 93.33655992270391, 92.85774362211568, 84.89873633374216, 82.74760639143241, 82.61263882052232, 54.79141097640522, 53.520894289253974, 48.898777042483694, 44.98152359531948, 41.902098236421615, 41.72684728089513, 37.69024731561621, 34.8507029390603, 34.83054352411063, 34.735205733021765, 32.85583376851974, 32.23659362477823, 32.22534010138854, 31.89904274731239, 30.549063631563186, 30.10106325961099, 29.585349416397808, 130.69808078269858, 122.09102978916005, 118.54771403811547, 115.00359909360454, 86.99408077773994, 83.73888082274796, 82.81801913034096, 69.3201692186914, 59.99701995036315, 55.17531041059164, 53.955584519167594, 53.587718548194886, 53.002913166837516, 51.55262803660292, 50.910012060715964, 50.81037067110979, 50.72751824004178, 49.564752599781606, 48.4755503617379, 47.50269349601609, 46.104268716395666, 45.99243286017575, 45.946312445091, 45.86950670585161, 45.566257710503955, 43.754496792921316, 42.54112790378254, 40.85847352264975, 38.844164935641864, 38.05092103205058], \"Total\": [1271.0, 582.0, 554.0, 527.0, 495.0, 466.0, 465.0, 451.0, 438.0, 413.0, 344.0, 333.0, 330.0, 328.0, 309.0, 308.0, 286.0, 283.0, 278.0, 277.0, 272.0, 262.0, 262.0, 245.0, 238.0, 237.0, 231.0, 235.0, 223.0, 224.0, 1271.0725315813545, 582.8147614070801, 235.2292203995499, 173.80097568123796, 164.8332121351629, 132.69527830804213, 120.52716005505393, 102.7774981850632, 101.86872017411397, 90.91426734845716, 86.03707712337605, 83.5831923467924, 63.04966027151505, 53.59776986003279, 52.46311786241653, 47.775462574961544, 44.605748426738764, 44.071506103940756, 42.25226857349131, 39.99495432762878, 35.87146822696943, 34.76222114500843, 32.59389681063729, 32.450911942926886, 31.94268127365027, 31.67393669005643, 31.47991361545795, 30.196940190458687, 28.44452079080114, 27.58503569053699, 451.5775342801083, 245.50830958422773, 212.7252749899695, 131.43457548062105, 120.8155304661675, 120.02535073321727, 114.5212965749804, 110.69963491884614, 102.36875786130477, 93.34716470758643, 89.896240315689, 89.62050194805542, 86.09959981439428, 82.10032057519678, 75.137451309261, 61.212049344807085, 59.06502305573745, 56.80850574763073, 54.21102910876851, 53.96127126427189, 52.00717874221153, 51.126566529604304, 48.78843581930868, 46.64127166829211, 45.316098197242084, 43.52893788549402, 42.66095450691108, 41.963590150299616, 40.223789847921005, 38.07538725266076, 262.38645379546864, 194.38736491617334, 184.87634303128362, 183.74938316410604, 169.60035647071626, 167.40981459231665, 154.0044363072913, 130.1794719186692, 112.22056748575376, 109.60652140008186, 107.23156745670849, 93.3170958606016, 84.3892157354714, 66.00829154742084, 62.781123789117764, 56.663111391899136, 55.30902535820636, 54.79235328752416, 54.75391244524063, 53.83222368858405, 52.86360509373177, 49.50938034599138, 48.44264093029527, 46.65316999983667, 45.93402803119265, 45.526938450146616, 44.64604248079755, 44.23862852916499, 43.80713719149112, 41.242989064338246, 277.1515589478703, 237.9667304429101, 224.28320749507822, 212.1218293563707, 164.50610450534674, 145.81675622142527, 124.56134033570268, 111.97974564451042, 84.03238118931604, 81.47194454953454, 76.2226193268875, 73.50897106805756, 72.31321704133907, 67.32789357508224, 65.05377104625836, 64.8974268333148, 64.20771191593934, 59.533534870547605, 57.7949588492624, 56.571855702978915, 54.247025429691845, 53.92230098894748, 48.793964557384705, 47.845297622400025, 45.20537739181844, 45.02630482573384, 41.668308227452016, 40.26308147067258, 40.20994580097307, 39.33219234234606, 527.9076940383843, 438.5669368786523, 181.33902984006124, 179.20873225200756, 127.90530153658338, 100.95758106488823, 99.0440344495995, 89.2002587514201, 77.92194539285767, 75.96644824079837, 74.87345567962039, 72.02601674217196, 69.43505724454346, 68.00783994288783, 56.88444495688433, 56.135509676337854, 53.303213388522835, 50.66909355188197, 49.951903014459646, 48.23409541457273, 47.61775294846337, 47.39761057048635, 44.73549791327615, 43.1532013379445, 38.643799789617546, 38.07641990104968, 37.65441340868797, 37.51740008902843, 37.38595205186033, 37.28380705238663, 554.4287171775297, 333.6291336814768, 180.15211213573525, 123.76718833726176, 111.55644176416122, 86.25809295264366, 83.07440037608325, 78.01165055618027, 77.20073037682113, 75.54431005795924, 70.98145954080388, 70.13349130673811, 54.45199584232081, 49.86221576015911, 49.09503356234691, 48.15466241162135, 44.61373253923699, 43.61913418437188, 43.4137331589315, 43.06458729531509, 42.811125458862406, 42.449125152354966, 38.91862499874641, 38.49831841570997, 37.026190735208694, 35.87027489828899, 35.22667563993157, 35.0226175844927, 34.299881034562105, 33.12485904387935, 231.6804721160797, 167.04996348033941, 164.71770591734474, 159.3474399694483, 147.54718539731638, 115.12585737244314, 86.77365263532919, 86.1758132854321, 84.76291230560139, 82.03501633386321, 74.88121600252724, 65.14363842388371, 63.4550008890597, 59.75525074815364, 58.716757258869535, 57.65431384970415, 57.57606119285503, 55.01781600720096, 52.42393851060724, 52.35967038826539, 48.53109665193748, 48.32956074877889, 46.002029497564735, 44.89407261862314, 44.74478954566761, 41.775037385570585, 41.52667835360647, 40.25384536351931, 37.40169945505431, 37.04818905846734, 495.2615209160994, 413.67268778740964, 328.51373092510505, 262.6618070914745, 238.7400339809802, 109.76197373925005, 105.36524314401645, 95.77493444724901, 92.01747910982874, 89.20076125880736, 88.34262504574244, 75.33590384117429, 65.78547372364915, 62.312396923410176, 61.36042914631805, 60.17926355318314, 51.336886833191, 49.59186042598816, 48.33232922934463, 47.88109158887393, 44.92836938715296, 42.467323768739725, 41.187581737596545, 40.760672646384876, 39.692375480184516, 39.162429502326674, 38.82189199303073, 38.54106544020099, 38.031156102466326, 36.45387383039878, 272.11502596419723, 212.10828362768848, 143.77047221479617, 128.49836684244158, 125.43697176653112, 111.59445351012002, 108.94378551863814, 104.49196176419214, 93.41268315045468, 89.4256117440135, 79.27599579669358, 79.04751061904109, 78.25628442715023, 76.25734176636807, 74.07103942088962, 69.53918706755294, 68.34112540304703, 65.83631753965567, 59.829561288780354, 59.51422283833423, 55.243953873086056, 48.085238275826164, 47.57534212082773, 47.4407202561524, 45.30767996068172, 44.803110292319374, 42.56781227063077, 42.095687870761985, 41.13966210934348, 40.8352528831021, 344.90066885525465, 308.16919096277246, 173.630903368342, 170.0162445022888, 167.2626318770427, 148.17860823832066, 116.55675283328935, 101.56438309422921, 98.54277255754991, 97.95892988101444, 81.80973117414008, 79.74315076765727, 79.08975386678713, 75.22798442387491, 74.19424949330175, 65.89428969368821, 64.13099668695473, 63.36769718638575, 51.79793627414333, 50.47106062838435, 47.761049041438696, 46.49263613231202, 46.33174775489439, 43.65671516419889, 43.34460964725737, 43.10367862986526, 42.319265900774035, 38.5103472294598, 36.7795108557882, 34.64878445037398, 466.21866330470715, 278.17894028653365, 223.82101306728038, 212.9339924587378, 157.24203673381803, 104.80331542719121, 95.77725235310605, 94.13046361225774, 86.67134515000878, 76.92889660551103, 75.54980479539543, 74.12223856620327, 69.81929063946914, 66.2201981768416, 64.5938091403578, 61.08949415979641, 58.49694306224757, 58.33224648998538, 57.37772771794519, 56.44757631567321, 52.15035585944179, 50.589102011376426, 48.91408208890981, 46.98002430724277, 45.94498222094315, 42.7687098311169, 41.9178256790879, 40.0785675547673, 39.15063798630239, 38.0390748473751, 283.63844902503666, 169.98310964622442, 169.54606952108267, 136.3080367922509, 121.60076348645539, 106.403987326357, 97.01911263862034, 95.93719583886774, 86.19860051450465, 83.8717398603952, 78.79938746053594, 77.20543451214981, 73.56487429212694, 73.49362481708009, 70.22890328917443, 68.28397728141965, 61.87260384484348, 56.47564897449779, 56.0585512048996, 54.95698818993597, 54.52944202135061, 53.58962717415749, 52.65094373840946, 51.38618520279096, 50.98637295422467, 48.51521622673352, 47.20718708774583, 44.774524310123034, 42.322681222930356, 42.034340905073904, 309.9815371771921, 125.82315285743513, 99.52493705891327, 92.70843465325076, 92.13968428402134, 89.80548297541102, 82.65117128138336, 70.57923074845284, 69.22227934583519, 67.99226589844184, 65.24525802499653, 53.833676065934156, 53.46155955760478, 52.36019194194877, 48.99712969772926, 46.41971093867272, 45.229218635044, 45.17156120492609, 43.313532755897285, 42.35046277232854, 42.307277916860805, 42.05421989138246, 41.765994382549344, 40.86509764259267, 39.332284166483994, 39.29873806819026, 39.117191967548514, 38.49540429191812, 37.93353266173132, 37.651513241571614, 465.6222166323062, 330.2090305792141, 286.45283053072086, 204.95552840272842, 149.6062855371053, 136.44784608717683, 102.89526844357916, 101.35044070451724, 94.21976083907145, 93.74094453848336, 85.7819372501097, 83.63080730779993, 83.49583973688998, 55.674611892772944, 54.40409520562152, 49.78197795885123, 45.864724511687015, 42.78529915278905, 42.61004819726279, 38.57344823198361, 35.733903855427826, 35.713744440478266, 35.61840664938951, 33.73903468488738, 33.11979454114577, 33.10854101775614, 32.78224366368007, 31.432264547930895, 30.984264175978524, 30.468550332765535, 131.58168082078998, 122.97462982725138, 119.43131407620673, 115.88719913169591, 87.8776808158313, 84.62248086083925, 83.70161916843225, 70.2037692567827, 60.88061998845437, 56.058910448682965, 54.83918455725899, 54.47131858628621, 53.886513204928896, 52.4362280746942, 51.79361209880726, 51.69397070920115, 51.611118278133205, 50.44835263787303, 49.359150399829126, 48.38629353410725, 46.98786875448698, 46.876032898266935, 46.829912483182284, 46.753106743942865, 46.449857748595356, 44.63809683101278, 43.424727941873904, 41.74207356074112, 39.7277649737332, 38.93452107014188], \"Category\": [\"Default\", \"Default\", \"Default\", \"Default\", \"Default\", \"Default\", \"Default\", \"Default\", \"Default\", \"Default\", \"Default\", \"Default\", \"Default\", \"Default\", \"Default\", \"Default\", \"Default\", \"Default\", \"Default\", \"Default\", \"Default\", \"Default\", \"Default\", \"Default\", \"Default\", \"Default\", \"Default\", \"Default\", \"Default\", \"Default\", \"Topic1\", \"Topic1\", \"Topic1\", \"Topic1\", \"Topic1\", \"Topic1\", \"Topic1\", \"Topic1\", \"Topic1\", \"Topic1\", \"Topic1\", \"Topic1\", \"Topic1\", \"Topic1\", \"Topic1\", \"Topic1\", \"Topic1\", \"Topic1\", \"Topic1\", \"Topic1\", \"Topic1\", \"Topic1\", \"Topic1\", \"Topic1\", \"Topic1\", \"Topic1\", \"Topic1\", \"Topic1\", \"Topic1\", \"Topic1\", \"Topic2\", \"Topic2\", \"Topic2\", \"Topic2\", \"Topic2\", \"Topic2\", \"Topic2\", \"Topic2\", \"Topic2\", \"Topic2\", \"Topic2\", \"Topic2\", \"Topic2\", \"Topic2\", \"Topic2\", \"Topic2\", \"Topic2\", \"Topic2\", \"Topic2\", \"Topic2\", \"Topic2\", \"Topic2\", \"Topic2\", \"Topic2\", \"Topic2\", \"Topic2\", \"Topic2\", \"Topic2\", \"Topic2\", \"Topic2\", \"Topic3\", \"Topic3\", \"Topic3\", \"Topic3\", \"Topic3\", \"Topic3\", \"Topic3\", \"Topic3\", \"Topic3\", \"Topic3\", \"Topic3\", \"Topic3\", \"Topic3\", \"Topic3\", \"Topic3\", \"Topic3\", \"Topic3\", \"Topic3\", \"Topic3\", \"Topic3\", \"Topic3\", \"Topic3\", \"Topic3\", \"Topic3\", \"Topic3\", \"Topic3\", \"Topic3\", \"Topic3\", \"Topic3\", \"Topic3\", \"Topic4\", \"Topic4\", \"Topic4\", \"Topic4\", \"Topic4\", \"Topic4\", \"Topic4\", \"Topic4\", \"Topic4\", \"Topic4\", \"Topic4\", \"Topic4\", \"Topic4\", \"Topic4\", \"Topic4\", \"Topic4\", \"Topic4\", \"Topic4\", \"Topic4\", \"Topic4\", \"Topic4\", \"Topic4\", \"Topic4\", \"Topic4\", \"Topic4\", \"Topic4\", \"Topic4\", \"Topic4\", \"Topic4\", \"Topic4\", \"Topic5\", \"Topic5\", \"Topic5\", \"Topic5\", \"Topic5\", \"Topic5\", \"Topic5\", \"Topic5\", \"Topic5\", \"Topic5\", \"Topic5\", \"Topic5\", \"Topic5\", \"Topic5\", \"Topic5\", \"Topic5\", \"Topic5\", \"Topic5\", \"Topic5\", \"Topic5\", \"Topic5\", \"Topic5\", \"Topic5\", \"Topic5\", \"Topic5\", \"Topic5\", \"Topic5\", \"Topic5\", \"Topic5\", \"Topic5\", \"Topic6\", \"Topic6\", \"Topic6\", \"Topic6\", \"Topic6\", \"Topic6\", \"Topic6\", \"Topic6\", \"Topic6\", \"Topic6\", \"Topic6\", \"Topic6\", \"Topic6\", \"Topic6\", \"Topic6\", \"Topic6\", \"Topic6\", \"Topic6\", \"Topic6\", \"Topic6\", \"Topic6\", \"Topic6\", \"Topic6\", \"Topic6\", \"Topic6\", \"Topic6\", \"Topic6\", \"Topic6\", \"Topic6\", \"Topic6\", \"Topic7\", \"Topic7\", \"Topic7\", \"Topic7\", \"Topic7\", \"Topic7\", \"Topic7\", \"Topic7\", \"Topic7\", \"Topic7\", \"Topic7\", \"Topic7\", \"Topic7\", \"Topic7\", \"Topic7\", \"Topic7\", \"Topic7\", \"Topic7\", \"Topic7\", \"Topic7\", \"Topic7\", \"Topic7\", \"Topic7\", \"Topic7\", \"Topic7\", \"Topic7\", \"Topic7\", \"Topic7\", \"Topic7\", \"Topic7\", \"Topic8\", \"Topic8\", \"Topic8\", \"Topic8\", \"Topic8\", \"Topic8\", \"Topic8\", \"Topic8\", \"Topic8\", \"Topic8\", \"Topic8\", \"Topic8\", \"Topic8\", \"Topic8\", \"Topic8\", \"Topic8\", \"Topic8\", \"Topic8\", \"Topic8\", \"Topic8\", \"Topic8\", \"Topic8\", \"Topic8\", \"Topic8\", \"Topic8\", \"Topic8\", \"Topic8\", \"Topic8\", \"Topic8\", \"Topic8\", \"Topic9\", \"Topic9\", \"Topic9\", \"Topic9\", \"Topic9\", \"Topic9\", \"Topic9\", \"Topic9\", \"Topic9\", \"Topic9\", \"Topic9\", \"Topic9\", \"Topic9\", \"Topic9\", \"Topic9\", \"Topic9\", \"Topic9\", \"Topic9\", \"Topic9\", \"Topic9\", \"Topic9\", \"Topic9\", \"Topic9\", \"Topic9\", \"Topic9\", \"Topic9\", \"Topic9\", \"Topic9\", \"Topic9\", \"Topic9\", \"Topic10\", \"Topic10\", \"Topic10\", \"Topic10\", \"Topic10\", \"Topic10\", \"Topic10\", \"Topic10\", \"Topic10\", \"Topic10\", \"Topic10\", \"Topic10\", \"Topic10\", \"Topic10\", \"Topic10\", \"Topic10\", \"Topic10\", \"Topic10\", \"Topic10\", \"Topic10\", \"Topic10\", \"Topic10\", \"Topic10\", \"Topic10\", \"Topic10\", \"Topic10\", \"Topic10\", \"Topic10\", \"Topic10\", \"Topic10\", \"Topic11\", \"Topic11\", \"Topic11\", \"Topic11\", \"Topic11\", \"Topic11\", \"Topic11\", \"Topic11\", \"Topic11\", \"Topic11\", \"Topic11\", \"Topic11\", \"Topic11\", \"Topic11\", \"Topic11\", \"Topic11\", \"Topic11\", \"Topic11\", \"Topic11\", \"Topic11\", \"Topic11\", \"Topic11\", \"Topic11\", \"Topic11\", \"Topic11\", \"Topic11\", \"Topic11\", \"Topic11\", \"Topic11\", \"Topic11\", \"Topic12\", \"Topic12\", \"Topic12\", \"Topic12\", \"Topic12\", \"Topic12\", \"Topic12\", \"Topic12\", \"Topic12\", \"Topic12\", \"Topic12\", \"Topic12\", \"Topic12\", \"Topic12\", \"Topic12\", \"Topic12\", \"Topic12\", \"Topic12\", \"Topic12\", \"Topic12\", \"Topic12\", \"Topic12\", \"Topic12\", \"Topic12\", \"Topic12\", \"Topic12\", \"Topic12\", \"Topic12\", \"Topic12\", \"Topic12\", \"Topic13\", \"Topic13\", \"Topic13\", \"Topic13\", \"Topic13\", \"Topic13\", \"Topic13\", \"Topic13\", \"Topic13\", \"Topic13\", \"Topic13\", \"Topic13\", \"Topic13\", \"Topic13\", \"Topic13\", \"Topic13\", \"Topic13\", \"Topic13\", \"Topic13\", \"Topic13\", \"Topic13\", \"Topic13\", \"Topic13\", \"Topic13\", \"Topic13\", \"Topic13\", \"Topic13\", \"Topic13\", \"Topic13\", \"Topic13\", \"Topic14\", \"Topic14\", \"Topic14\", \"Topic14\", \"Topic14\", \"Topic14\", \"Topic14\", \"Topic14\", \"Topic14\", \"Topic14\", \"Topic14\", \"Topic14\", \"Topic14\", \"Topic14\", \"Topic14\", \"Topic14\", \"Topic14\", \"Topic14\", \"Topic14\", \"Topic14\", \"Topic14\", \"Topic14\", \"Topic14\", \"Topic14\", \"Topic14\", \"Topic14\", \"Topic14\", \"Topic14\", \"Topic14\", \"Topic14\", \"Topic15\", \"Topic15\", \"Topic15\", \"Topic15\", \"Topic15\", \"Topic15\", \"Topic15\", \"Topic15\", \"Topic15\", \"Topic15\", \"Topic15\", \"Topic15\", \"Topic15\", \"Topic15\", \"Topic15\", \"Topic15\", \"Topic15\", \"Topic15\", \"Topic15\", \"Topic15\", \"Topic15\", \"Topic15\", \"Topic15\", \"Topic15\", \"Topic15\", \"Topic15\", \"Topic15\", \"Topic15\", \"Topic15\", \"Topic15\"], \"logprob\": [30.0, 29.0, 28.0, 27.0, 26.0, 25.0, 24.0, 23.0, 22.0, 21.0, 20.0, 19.0, 18.0, 17.0, 16.0, 15.0, 14.0, 13.0, 12.0, 11.0, 10.0, 9.0, 8.0, 7.0, 6.0, 5.0, 4.0, 3.0, 2.0, 1.0, -1.4603, -2.2409, -3.1505, -3.4544, -3.5077, -3.7259, -3.8228, -3.9834, -3.9923, -4.1071, -4.1628, -4.1921, -4.4775, -4.6424, -4.6642, -4.7595, -4.8295, -4.8418, -4.8848, -4.9409, -5.0524, -5.0846, -5.1507, -5.1553, -5.1715, -5.1802, -5.1865, -5.2294, -5.291, -5.3227, -2.4862, -3.0972, -3.2411, -3.7252, -3.8101, -3.8167, -3.864, -3.8982, -3.9771, -4.0702, -4.1082, -4.1113, -4.1518, -4.1999, -4.2895, -4.4972, -4.5335, -4.573, -4.6206, -4.6253, -4.6628, -4.6802, -4.7279, -4.7737, -4.8031, -4.8442, -4.8647, -4.8816, -4.9249, -4.981, -3.0025, -3.3037, -3.3541, -3.3602, -3.4407, -3.4538, -3.5377, -3.7069, -3.8564, -3.8802, -3.9023, -4.0425, -4.1441, -4.3927, -4.4435, -4.5476, -4.5722, -4.5817, -4.5824, -4.5997, -4.6181, -4.6849, -4.707, -4.7454, -4.7612, -4.7703, -4.7902, -4.7996, -4.8096, -4.8712, -2.9419, -3.0948, -3.1543, -3.2103, -3.4657, -3.587, -3.7456, -3.8529, -4.1426, -4.1739, -4.2413, -4.2779, -4.2946, -4.3669, -4.4017, -4.4042, -4.415, -4.4917, -4.5218, -4.5435, -4.5861, -4.5923, -4.6939, -4.7139, -4.7718, -4.7759, -4.855, -4.89, -4.8914, -4.914, -2.2944, -2.4801, -3.3661, -3.378, -3.7173, -3.9557, -3.975, -4.0807, -4.2173, -4.243, -4.2577, -4.297, -4.3341, -4.3551, -4.5363, -4.5497, -4.6024, -4.6539, -4.6684, -4.7041, -4.7172, -4.7219, -4.7808, -4.8176, -4.9304, -4.9455, -4.957, -4.9607, -4.9643, -4.9671, -2.2449, -2.7539, -3.3724, -3.75, -3.8547, -4.1142, -4.1522, -4.2158, -4.2264, -4.2483, -4.3114, -4.3235, -4.5803, -4.6699, -4.6857, -4.7054, -4.7832, -4.8063, -4.8111, -4.8193, -4.8253, -4.834, -4.9228, -4.9339, -4.9738, -5.0063, -5.0249, -5.0309, -5.0523, -5.0881, -3.1152, -3.4437, -3.4579, -3.4912, -3.5686, -3.8184, -4.1037, -4.1107, -4.1274, -4.1604, -4.2527, -4.3938, -4.4204, -4.4814, -4.4992, -4.5177, -4.5191, -4.5653, -4.6144, -4.6156, -4.6929, -4.6972, -4.7475, -4.7723, -4.7757, -4.8458, -4.8519, -4.8837, -4.9589, -4.9687, -2.3533, -2.5337, -2.7647, -2.9891, -3.085, -3.8664, -3.9076, -4.0039, -4.0443, -4.0757, -4.0855, -4.2465, -4.3838, -4.4388, -4.4544, -4.4741, -4.6356, -4.6708, -4.697, -4.7066, -4.7715, -4.829, -4.8602, -4.8709, -4.898, -4.9118, -4.9207, -4.9281, -4.9418, -4.9852, -2.9449, -3.1949, -3.5858, -3.6988, -3.7231, -3.8409, -3.8652, -3.9072, -4.0203, -4.0644, -4.1861, -4.189, -4.1992, -4.2254, -4.2548, -4.3187, -4.3363, -4.3742, -4.4712, -4.4766, -4.5522, -4.6934, -4.7043, -4.7072, -4.7541, -4.7655, -4.8177, -4.8291, -4.8526, -4.8602, -2.7059, -2.8188, -3.3947, -3.4159, -3.4323, -3.5541, -3.7958, -3.9346, -3.9651, -3.9711, -4.153, -4.1789, -4.1872, -4.2379, -4.2519, -4.372, -4.3995, -4.4117, -4.6164, -4.6428, -4.699, -4.7265, -4.73, -4.7907, -4.798, -4.8037, -4.8224, -4.9189, -4.9659, -5.0271, -2.4022, -2.9198, -3.138, -3.1881, -3.4928, -3.9013, -3.9922, -4.0097, -4.093, -4.2136, -4.2319, -4.2512, -4.3117, -4.3654, -4.3906, -4.4471, -4.4912, -4.494, -4.5108, -4.5274, -4.6079, -4.6388, -4.6731, -4.7142, -4.7369, -4.81, -4.8305, -4.8764, -4.9003, -4.9298, -2.9002, -3.4142, -3.4168, -3.6363, -3.7513, -3.8858, -3.979, -3.9903, -4.0984, -4.126, -4.1891, -4.2098, -4.2587, -4.2596, -4.3056, -4.3341, -4.434, -4.5267, -4.5342, -4.5544, -4.5623, -4.58, -4.598, -4.6227, -4.6307, -4.6812, -4.7091, -4.763, -4.8205, -4.8275, -2.8093, -3.7152, -3.9515, -4.0231, -4.0293, -4.0552, -4.1391, -4.2988, -4.3185, -4.3367, -4.3785, -4.5736, -4.5807, -4.6019, -4.6694, -4.7245, -4.751, -4.7523, -4.7951, -4.8181, -4.8191, -4.8253, -4.8323, -4.8546, -4.8937, -4.8945, -4.8993, -4.9157, -4.9307, -4.9384, -2.4001, -2.7446, -2.8871, -3.2231, -3.5395, -3.6322, -3.9165, -3.9318, -4.0054, -4.0105, -4.1002, -4.1258, -4.1274, -4.5381, -4.5615, -4.6519, -4.7354, -4.8063, -4.8105, -4.9122, -4.9905, -4.9911, -4.9939, -5.0495, -5.0685, -5.0689, -5.079, -5.1223, -5.1371, -5.1543, -3.6674, -3.7355, -3.7649, -3.7953, -4.0744, -4.1125, -4.1236, -4.3015, -4.446, -4.5297, -4.5521, -4.5589, -4.5699, -4.5976, -4.6102, -4.6121, -4.6138, -4.637, -4.6592, -4.6795, -4.7093, -4.7118, -4.7128, -4.7144, -4.7211, -4.7617, -4.7898, -4.8301, -4.8807, -4.9013], \"loglift\": [30.0, 29.0, 28.0, 27.0, 26.0, 25.0, 24.0, 23.0, 22.0, 21.0, 20.0, 19.0, 18.0, 17.0, 16.0, 15.0, 14.0, 13.0, 12.0, 11.0, 10.0, 9.0, 8.0, 7.0, 6.0, 5.0, 4.0, 3.0, 2.0, 1.0, 2.6591, 2.6582, 2.656, 2.6546, 2.6544, 2.653, 2.6524, 2.6511, 2.651, 2.6499, 2.6494, 2.6491, 2.6456, 2.643, 2.6427, 2.641, 2.6396, 2.6394, 2.6385, 2.6373, 2.6347, 2.6339, 2.6321, 2.632, 2.6316, 2.6313, 2.6311, 2.6299, 2.628, 2.627, 2.6681, 2.6664, 2.6659, 2.6633, 2.6627, 2.6626, 2.6623, 2.662, 2.6613, 2.6605, 2.6601, 2.6601, 2.6597, 2.6592, 2.6581, 2.6554, 2.6549, 2.6543, 2.6535, 2.6534, 2.6528, 2.6525, 2.6517, 2.6508, 2.6502, 2.6494, 2.649, 2.6486, 2.6477, 2.6464, 2.6947, 2.6935, 2.6932, 2.6932, 2.6928, 2.6927, 2.6923, 2.6912, 2.6901, 2.6899, 2.6897, 2.6885, 2.6875, 2.6845, 2.6838, 2.6823, 2.6819, 2.6817, 2.6817, 2.6814, 2.6811, 2.68, 2.6796, 2.6789, 2.6786, 2.6784, 2.678, 2.6778, 2.6776, 2.6763, 2.7006, 2.7, 2.6998, 2.6996, 2.6984, 2.6977, 2.6966, 2.6958, 2.6932, 2.6928, 2.6921, 2.6916, 2.6914, 2.6905, 2.6901, 2.69, 2.6899, 2.6888, 2.6883, 2.688, 2.6873, 2.6872, 2.6854, 2.6851, 2.684, 2.6839, 2.6823, 2.6815, 2.6815, 2.681, 2.7037, 2.7034, 2.7005, 2.7004, 2.6984, 2.6966, 2.6964, 2.6954, 2.694, 2.6937, 2.6935, 2.693, 2.6926, 2.6923, 2.6897, 2.6895, 2.6886, 2.6878, 2.6875, 2.6869, 2.6866, 2.6865, 2.6854, 2.6847, 2.6822, 2.6819, 2.6816, 2.6815, 2.6814, 2.6814, 2.7042, 2.7031, 2.7008, 2.6986, 2.6978, 2.6954, 2.695, 2.6944, 2.6942, 2.694, 2.6932, 2.6931, 2.6894, 2.6878, 2.6876, 2.6872, 2.6857, 2.6853, 2.6852, 2.685, 2.6849, 2.6847, 2.6827, 2.6825, 2.6816, 2.6808, 2.6803, 2.6802, 2.6796, 2.6787, 2.7065, 2.705, 2.7049, 2.7047, 2.7043, 2.7026, 2.7, 2.7, 2.6998, 2.6994, 2.6984, 2.6966, 2.6962, 2.6954, 2.6951, 2.6948, 2.6948, 2.6941, 2.6933, 2.6932, 2.6919, 2.6918, 2.6909, 2.6904, 2.6903, 2.6889, 2.6887, 2.6881, 2.6863, 2.6861, 2.7086, 2.7082, 2.7077, 2.707, 2.7067, 2.7023, 2.7019, 2.7011, 2.7007, 2.7004, 2.7003, 2.6986, 2.6968, 2.6961, 2.6958, 2.6956, 2.693, 2.6924, 2.6919, 2.6917, 2.6905, 2.6893, 2.6886, 2.6884, 2.6878, 2.6875, 2.6873, 2.6871, 2.6868, 2.6858, 2.7159, 2.715, 2.713, 2.7123, 2.7121, 2.7112, 2.711, 2.7107, 2.7097, 2.7092, 2.7079, 2.7079, 2.7078, 2.7075, 2.7072, 2.7064, 2.7061, 2.7056, 2.7043, 2.7042, 2.703, 2.7006, 2.7004, 2.7004, 2.6995, 2.6992, 2.6982, 2.6979, 2.6974, 2.6973, 2.7179, 2.7176, 2.7153, 2.7152, 2.7151, 2.7144, 2.7128, 2.7117, 2.7114, 2.7114, 2.7096, 2.7093, 2.7092, 2.7086, 2.7084, 2.7069, 2.7066, 2.7064, 2.7032, 2.7028, 2.7018, 2.7012, 2.7012, 2.7, 2.6998, 2.6997, 2.6993, 2.6972, 2.6961, 2.6946, 2.7202, 2.7189, 2.7181, 2.7179, 2.7164, 2.7136, 2.7128, 2.7127, 2.7118, 2.7105, 2.7103, 2.7101, 2.7093, 2.7087, 2.7083, 2.7075, 2.7069, 2.7068, 2.7066, 2.7063, 2.705, 2.7045, 2.7039, 2.7031, 2.7027, 2.7012, 2.7008, 2.6998, 2.6993, 2.6986, 2.7191, 2.7171, 2.717, 2.7158, 2.715, 2.7139, 2.7131, 2.713, 2.712, 2.7117, 2.711, 2.7107, 2.7102, 2.7102, 2.7096, 2.7092, 2.7079, 2.7065, 2.7064, 2.706, 2.7059, 2.7056, 2.7053, 2.7049, 2.7048, 2.7039, 2.7034, 2.7023, 2.7012, 2.701, 2.7212, 2.717, 2.7151, 2.7144, 2.7144, 2.7141, 2.7133, 2.7114, 2.7112, 2.7109, 2.7104, 2.7075, 2.7073, 2.707, 2.7058, 2.7048, 2.7043, 2.7043, 2.7034, 2.7029, 2.7029, 2.7028, 2.7026, 2.7021, 2.7013, 2.7013, 2.7012, 2.7008, 2.7004, 2.7003, 2.7235, 2.7227, 2.7223, 2.7211, 2.7195, 2.7189, 2.7168, 2.7166, 2.716, 2.7159, 2.715, 2.7148, 2.7148, 2.7094, 2.709, 2.7075, 2.7059, 2.7045, 2.7044, 2.7022, 2.7004, 2.7003, 2.7003, 2.6989, 2.6984, 2.6983, 2.6981, 2.6969, 2.6965, 2.696, 2.72, 2.7195, 2.7193, 2.7191, 2.7166, 2.7163, 2.7161, 2.7141, 2.7121, 2.7109, 2.7105, 2.7104, 2.7102, 2.7098, 2.7095, 2.7095, 2.7095, 2.7091, 2.7087, 2.7083, 2.7078, 2.7077, 2.7077, 2.7077, 2.7075, 2.7068, 2.7062, 2.7054, 2.7043, 2.7038]}, \"token.table\": {\"Topic\": [5, 1, 13, 8, 15, 1, 7, 13, 9, 1, 14, 6, 12, 11, 6, 9, 10, 8, 2, 9, 11, 1, 12, 1, 9, 3, 2, 12, 7, 2, 2, 14, 4, 6, 3, 11, 13, 8, 15, 7, 15, 6, 10, 5, 12, 1, 13, 12, 12, 14, 6, 8, 7, 9, 4, 15, 12, 8, 12, 11, 1, 12, 13, 5, 11, 6, 2, 4, 15, 14, 15, 5, 11, 2, 7, 11, 14, 2, 11, 3, 3, 6, 1, 4, 5, 8, 15, 2, 1, 5, 9, 3, 13, 11, 7, 13, 12, 1, 9, 4, 4, 5, 9, 14, 1, 4, 15, 15, 1, 1, 8, 12, 1, 1, 10, 2, 3, 8, 6, 6, 15, 15, 2, 5, 7, 14, 5, 7, 12, 1, 3, 11, 10, 15, 1, 7, 12, 4, 12, 4, 14, 9, 2, 12, 5, 12, 11, 10, 11, 13, 4, 1, 14, 11, 11, 14, 6, 6, 4, 8, 11, 10, 6, 2, 14, 11, 12, 11, 2, 6, 9, 1, 3, 2, 2, 14, 15, 11, 13, 4, 10, 1, 7, 4, 11, 10, 8, 3, 13, 1, 6, 7, 5, 14, 10, 12, 9, 14, 15, 6, 6, 13, 6, 5, 9, 9, 5, 4, 12, 13, 9, 9, 13, 10, 7, 11, 5, 11, 6, 10, 12, 6, 3, 7, 7, 7, 1, 8, 11, 6, 7, 14, 5, 14, 13, 5, 3, 7, 6, 11, 5, 8, 15, 15, 3, 4, 4, 3, 14, 9, 13, 4, 12, 8, 1, 8, 8, 10, 12, 7, 15, 15, 3, 15, 12, 10, 10, 10, 13, 1, 14, 9, 3, 9, 13, 15, 14, 12, 5, 12, 5, 14, 6, 5, 14, 7, 12, 8, 2, 8, 1, 7, 13, 5, 10, 13, 13, 3, 15, 9, 10, 15, 3, 5, 15, 2, 6, 14, 10, 8, 7, 13, 9, 8, 8, 11, 3, 13, 1, 13, 3, 5, 5, 9, 4, 9, 10, 9, 13, 8, 8, 3, 9, 6, 3, 6, 14, 7, 2, 3, 7, 5, 14, 11, 4, 5, 14, 13, 14, 7, 15, 13, 15, 13, 15, 4, 10, 14, 6, 6, 5, 15, 11, 7, 1, 14, 14, 12, 4, 4, 8, 11, 2, 5, 6, 4, 5, 2, 13, 10, 15, 7, 2, 15, 3, 15, 4, 1, 10, 3, 4, 10, 2, 13, 8, 1, 8, 2, 4, 10, 2, 4, 3, 10, 14, 10, 2, 8, 10, 12, 2, 8, 9, 9, 10, 12, 5, 9, 2, 12, 6, 8, 4, 10, 2, 4, 6, 7, 7, 8, 2, 1, 11, 9, 7, 3, 11, 4, 8, 9, 3, 9, 3, 2, 3, 7, 13, 11, 10, 3], \"Freq\": [0.9732765750352224, 0.9757058110514075, 0.9714398730748534, 0.977828884751213, 0.990219214673206, 0.9986020233854183, 0.9962914548600644, 0.9917931841660722, 0.9965164037334668, 0.9837686014291371, 0.9862477440251962, 0.9936047814145682, 0.9967792263033572, 0.9882655548063389, 0.9858059038550631, 0.9774309473189874, 0.9689786190670551, 0.9825564614914477, 0.9865978528769692, 0.9861345918153018, 0.9759884580177562, 0.9704883486275182, 0.9902311524672681, 0.9780732899135278, 0.9739714938469266, 0.9836635225274454, 0.983839698771473, 0.9744278962120326, 0.9886510859983548, 0.9987210739324555, 0.9914572152719943, 0.9920958281129845, 0.9898915159159468, 0.9757382707337294, 0.9885148796579356, 0.9879252576535137, 0.9909583465690421, 0.9711665097222131, 0.9903151964204032, 0.991913264766983, 0.9881591738656024, 0.9870560991696038, 0.9812754051645532, 0.9862090633199357, 0.9858967654402958, 0.9833518488918921, 0.9934578585996187, 0.992484649302786, 0.9950595418216901, 0.998419179416444, 0.9752792871782401, 0.9822673682393102, 0.9873832373038004, 0.9955821507686489, 0.9837282220334658, 0.9911126406625924, 0.9860948958875155, 0.9880600734601569, 0.994216427454054, 0.9879904595295064, 0.9911725059187094, 0.9806541846953846, 0.9740224034423556, 0.9881683473351505, 0.9781041677563495, 0.98444664485737, 0.9979295626079273, 0.9818398752666702, 0.9838918352941233, 0.9794619737491584, 0.9855352986119167, 0.9755509413846438, 0.9771610632171674, 0.9770374711303691, 0.9824443575527335, 0.9920709382955574, 0.9878829529324386, 0.9845068045347178, 0.9815736254128528, 0.9975520276794126, 0.9959217105864417, 0.989419684133819, 0.981778895169004, 0.9823326917292646, 0.9872779593731311, 0.9848020698383454, 0.9900124717939395, 0.987848591966902, 0.9947743720042009, 0.9865442234336458, 0.9867483414615114, 0.9980072525992604, 0.9854061945821314, 0.982165605153866, 0.9909994561908065, 0.9910308040364132, 0.9827016741761805, 0.9703620985151796, 0.9711377858716992, 0.9686292895492213, 0.969909290428743, 0.9870268353668019, 0.9879067160596234, 0.9940615036814714, 0.9787226735769791, 0.995493462625002, 0.9822781542997688, 0.992644024915047, 0.993022612197286, 0.9751230037799677, 0.978829161825027, 0.9977490744741017, 0.9924351322148043, 0.9756871003815105, 0.9940226623328624, 0.9779651440322719, 0.9908625764038713, 0.9870427561947502, 0.9938013592490185, 0.9810533955795714, 0.991680788441289, 0.981110755806567, 0.9709573804983461, 0.9905150157641677, 0.9815002469914882, 0.9856829967795723, 0.9833401530614876, 0.9890565701462203, 0.9894957538684531, 0.9787915557877025, 0.9855389805331728, 0.9848596239413233, 0.9894039965617342, 0.9828532104539899, 0.9603622028288521, 0.9688515382270627, 0.9893803167994618, 0.987714483694206, 0.9889973637577044, 0.9838015378768888, 0.9682334177636659, 0.9795457888924269, 0.9821859040428434, 0.9962032689139937, 0.9916111684597465, 0.9915778041840198, 0.9706099812037555, 0.9839037458905818, 0.9921011152003801, 0.9845138558824574, 0.9862451870355031, 0.9953914201108571, 0.9816455846204394, 0.9957619355177667, 0.9794323084858568, 0.9842919467864938, 0.9722847337294983, 0.9660418466267499, 0.9733355308292019, 0.9919087968921991, 0.9908070270470116, 0.9973886137761228, 0.9763962627462816, 0.9848617262172054, 0.9800148527783802, 0.9956136995885295, 0.9687476978133008, 0.9915048028797203, 0.9900302803260551, 0.9981142723522538, 0.9835118594846877, 0.9914721597303946, 0.9944663748804876, 0.9695754713181444, 0.9801991706244041, 0.9661895686051247, 0.9857051067067569, 0.9730886700655298, 0.9696738485105802, 0.9770120956897796, 0.9944920104898315, 0.9888471131990412, 0.9877929692930844, 0.9943987492069498, 0.9779415530252127, 0.9712562590571882, 0.9865386657931823, 0.9815752125512576, 0.9749318880696088, 0.9864199470224414, 0.9651776496746386, 0.9863556462004303, 0.9867948387275398, 0.9866755319944351, 0.9867477894598313, 0.9811170431245986, 0.9946730908981412, 0.9851336020431761, 0.9846973552937722, 0.9870670101593347, 0.9904699935060438, 0.9796492222323899, 0.9760217940736161, 0.9835589644111712, 0.9872970182581685, 0.9913596647354184, 0.9655666319004714, 0.9969234910347641, 0.9825014597748409, 0.9823426885478782, 0.9839043863924974, 0.9855403754387229, 0.9753903051936658, 0.9836764944152193, 0.9873609308186698, 0.9791395529973856, 0.9896765487923124, 0.9927226179222512, 0.9862434164481256, 0.9784164922016514, 0.9904038175368596, 0.9870320580455899, 0.9964601697590186, 0.972489699302461, 0.9902206385416885, 0.9928295503477308, 0.9947603387482402, 0.9728865433465101, 0.9918847917014729, 0.9992267406715291, 0.9937146739905574, 0.9953378744639138, 0.9932551710130518, 0.9963385902042311, 0.9968335624562342, 0.985180532954227, 0.9720011996224429, 0.9740321056610373, 0.9950120158427285, 0.9813124963226683, 0.9883342411313581, 0.9974528186365742, 0.9835485142347676, 0.9916176153412232, 0.9698618094241616, 0.9811905473672621, 0.9861716114628122, 0.9858858031483417, 0.9870540868687321, 0.9952406057312547, 0.972822465827619, 0.9959375394992788, 0.9825865968741129, 0.9813380742515214, 0.9843723578937953, 0.9793366774753587, 0.9875493662892888, 0.9906806946991279, 0.9753929553121874, 0.9910842449080656, 0.9920745455495944, 0.9813117099698229, 0.9847247743611653, 0.9846774135525965, 0.9932834335180951, 0.9864284189442615, 0.9849572932427716, 0.9944431002578376, 0.9876309074328032, 0.9879461604455845, 0.9780955592894182, 0.9803760123185323, 0.9884257877185476, 0.9946409564987373, 0.9921214512596989, 0.9724640641336114, 0.9811461963220411, 0.9843866624186914, 0.9926158762333611, 0.9898554102221127, 0.9987072968092686, 0.9908845932468294, 0.9854147835921394, 0.9826205390166302, 0.9846218370205273, 0.9833547201086407, 0.9876366178421492, 0.9880653715971905, 0.9855682311101095, 0.9789384297794983, 0.9949451198313136, 0.9782177110769041, 0.9826962269114786, 0.9894588860863622, 0.992451201664871, 0.9788304031435617, 0.9661274651417456, 0.9763325180704502, 0.9822224078144731, 0.9961216095216785, 0.9788058395108992, 0.9923442870451319, 0.984540417772849, 0.9744144592333357, 0.9865754032882286, 0.9936798805221079, 0.9708012234657899, 0.9665179744054071, 0.9901022633552421, 0.9889956859234976, 0.9956428125722873, 0.9669521686437687, 0.982074675461604, 0.9724339949969613, 0.970317737762985, 0.9922541279491298, 0.9796658801497143, 0.9681122074252534, 0.9899436317849547, 0.9809141987833131, 0.9855296809101185, 0.9844519014371205, 0.9929220952868444, 0.9922462845729105, 0.977206550044336, 0.9913369494721966, 0.9823642739800925, 0.9959023726813824, 0.9947255725607489, 0.9815983395608577, 0.9969002518402961, 0.9952598422442003, 0.9952918697679124, 0.9827080335878688, 0.9891234956915655, 0.9838380881142701, 0.9986636878351585, 0.987317108555572, 0.9776608352824532, 0.9859994508446274, 0.9915440124440867, 0.9809436086111855, 0.9924572376124714, 0.9923350189455667, 0.9942072752510823, 0.998280581911128, 0.992572338459187, 0.9691004011312244, 0.9761381901829151, 0.9892598608911599, 0.9955793175983044, 0.991366515278937, 0.9759976225607526, 0.9871308198723834, 0.9816812001829356, 0.9947113912803099, 0.9906667182635066, 0.9826380035615627, 0.9776956347131058, 0.9916991868648914, 0.9797719895501993, 0.9963886014355371, 0.9820263497741142, 0.9814473562664413, 0.9956262135869365, 0.9967178222301091, 0.9912992263189433, 0.9896062742725237, 0.9930760686666892, 0.9942786287506328, 0.9889425452677929, 0.9963318320472726, 0.9965905556356492, 0.9937343287122061, 0.9621024623014789, 0.9661297206433167, 0.9717300128571171, 0.9819686338777448, 0.9923584660241491, 0.9688258793555796, 0.9920164677661256, 0.9800848404594895, 0.9932497878127028, 0.9913473989887062, 0.9882973000315345, 0.9789760893466221, 0.995845020853421, 0.9861047990355424, 0.974394792626805, 0.9862308936188876, 0.9912506887841958, 0.9845952110925769, 0.9717563672951058, 0.9740641861012692, 0.985961326340589, 0.9847549259086184, 0.9804041544619274, 0.987228746512589, 0.9802772149168545, 0.9840654873225588, 0.9806338515841457, 0.9839612344277582, 0.9909396473861402, 0.9963664108398745, 0.9959474594604856, 0.9962060095653309, 0.9966935984764137, 0.9984361964912141, 0.9920460297722256, 0.9811965071084249, 0.995448038132898, 0.998373864634362, 0.9722977280096657, 0.9774825336371862, 0.9862213015781711, 0.9902907126549486, 0.9857549148407756, 0.9947749158649841, 0.9862509823305683, 0.9923214129356923, 0.9861730155007634, 0.973958552696525, 0.991038078425752, 0.9902108987697272, 0.9857678751273183, 0.9828957412418932, 0.9927948238915462, 0.9970628853184538, 0.9882318150055482, 0.9974803832395625, 0.9930763392910356, 0.999156199544317, 0.9726840137005383, 0.9866609947671066, 0.9899947794114385, 0.998527157976799, 0.9883551597487548, 0.983959888315512, 0.9930579442652864, 0.9839465362258577, 0.9897114376622849, 0.9907100850540892, 0.9953878498327151, 0.9866291445759335, 0.9934778742004088, 0.9717074144484324, 0.9816598552513001, 0.99738606924041, 0.9952233326705174, 0.9875579833240711], \"Term\": [\"account\", \"act\", \"ad\", \"advanc\", \"age\", \"ahab\", \"air\", \"aloft\", \"arm\", \"art\", \"asid\", \"away\", \"aye\", \"bear\", \"bed\", \"began\", \"begin\", \"believ\", \"beneath\", \"best\", \"better\", \"bildad\", \"black\", \"blacksmith\", \"blind\", \"blood\", \"blow\", \"blue\", \"board\", \"boat\", \"bodi\", \"bone\", \"book\", \"born\", \"bow\", \"boy\", \"brain\", \"break\", \"breath\", \"broad\", \"broken\", \"bulk\", \"bulwark\", \"burst\", \"busi\", \"cabin\", \"call\", \"calm\", \"came\", \"captain\", \"care\", \"carpent\", \"carri\", \"case\", \"cast\", \"caught\", \"certain\", \"chanc\", \"chapter\", \"chase\", \"circl\", \"circumst\", \"clear\", \"close\", \"coast\", \"coffin\", \"come\", \"command\", \"common\", \"compani\", \"complet\", \"concern\", \"consid\", \"consider\", \"continu\", \"cook\", \"cours\", \"craft\", \"creatur\", \"crew\", \"cri\", \"cross\", \"cruis\", \"curiou\", \"cut\", \"dark\", \"dart\", \"dash\", \"day\", \"dead\", \"death\", \"deck\", \"deep\", \"devil\", \"dick\", \"die\", \"differ\", \"direct\", \"distanc\", \"doubloon\", \"doubt\", \"drag\", \"draw\", \"drop\", \"ear\", \"end\", \"english\", \"entir\", \"ere\", \"escap\", \"etern\", \"eye\", \"face\", \"fact\", \"far\", \"fast\", \"fear\", \"feel\", \"feet\", \"fell\", \"fellow\", \"final\", \"fine\", \"fish\", \"fisheri\", \"fit\", \"fix\", \"flame\", \"flask\", \"flesh\", \"fli\", \"float\", \"fluke\", \"follow\", \"foot\", \"forecastl\", \"forehead\", \"form\", \"forth\", \"forward\", \"furnish\", \"gain\", \"gaze\", \"gener\", \"give\", \"glanc\", \"glide\", \"go\", \"god\", \"goe\", \"gone\", \"good\", \"grand\", \"great\", \"green\", \"ground\", \"grow\", \"gunwal\", \"hail\", \"half\", \"hammer\", \"hand\", \"happen\", \"hard\", \"hardli\", \"harpoon\", \"hat\", \"have\", \"he\", \"head\", \"hear\", \"heard\", \"heart\", \"heav\", \"heaven\", \"heavi\", \"held\", \"hell\", \"helm\", \"help\", \"high\", \"hint\", \"hoist\", \"hold\", \"home\", \"hope\", \"hour\", \"hull\", \"human\", \"hunt\", \"hunter\", \"ill\", \"indian\", \"instant\", \"intent\", \"interv\", \"iron\", \"island\", \"ivori\", \"jaw\", \"jet\", \"jonah\", \"keel\", \"kept\", \"kill\", \"king\", \"knew\", \"know\", \"known\", \"lanc\", \"land\", \"larg\", \"lash\", \"lay\", \"lean\", \"leap\", \"learn\", \"leav\", \"leeward\", \"left\", \"leg\", \"length\", \"let\", \"level\", \"leviathan\", \"lie\", \"life\", \"lift\", \"light\", \"like\", \"line\", \"littl\", \"live\", \"long\", \"look\", \"lord\", \"lost\", \"love\", \"lower\", \"mad\", \"make\", \"man\", \"marin\", \"mark\", \"mass\", \"mast\", \"masthead\", \"mate\", \"matter\", \"mean\", \"meet\", \"men\", \"mere\", \"middl\", \"midnight\", \"mighti\", \"mile\", \"mind\", \"minut\", \"mobi\", \"moment\", \"monster\", \"morn\", \"mortal\", \"mouth\", \"mr\", \"murder\", \"nantucket\", \"natur\", \"near\", \"nearli\", \"new\", \"nigh\", \"night\", \"oar\", \"object\", \"observ\", \"ocean\", \"oh\", \"oil\", \"old\", \"open\", \"order\", \"origin\", \"pace\", \"parse\", \"part\", \"particular\", \"pass\", \"peculiar\", \"pequod\", \"peril\", \"person\", \"pip\", \"place\", \"plain\", \"plainli\", \"plank\", \"play\", \"point\", \"pole\", \"poor\", \"possibl\", \"power\", \"precis\", \"present\", \"previou\", \"proper\", \"pull\", \"purpos\", \"queequeg\", \"quick\", \"rais\", \"reach\", \"readi\", \"reason\", \"receiv\", \"red\", \"remain\", \"rest\", \"rib\", \"rig\", \"right\", \"rise\", \"rock\", \"roll\", \"rope\", \"round\", \"run\", \"rush\", \"said\", \"sail\", \"sailor\", \"savag\", \"saw\", \"say\", \"sea\", \"seat\", \"second\", \"secur\", \"seen\", \"seiz\", \"set\", \"shall\", \"shark\", \"ship\", \"short\", \"shot\", \"side\", \"sideway\", \"sight\", \"sign\", \"silent\", \"sing\", \"singl\", \"sir\", \"skeleton\", \"skull\", \"sky\", \"sleep\", \"slowli\", \"small\", \"smoke\", \"soft\", \"soon\", \"sort\", \"soul\", \"sound\", \"speak\", \"sperm\", \"spout\", \"stand\", \"starbuck\", \"start\", \"steadi\", \"steel\", \"step\", \"stern\", \"stood\", \"stop\", \"stori\", \"straight\", \"strang\", \"stranger\", \"strike\", \"struck\", \"stubb\", \"substanc\", \"sudden\", \"suddenli\", \"sun\", \"suppos\", \"sure\", \"surfac\", \"suspend\", \"sweet\", \"swim\", \"tail\", \"take\", \"taken\", \"tashtego\", \"teeth\", \"tell\", \"thee\", \"thi\", \"thing\", \"think\", \"thou\", \"thought\", \"thousand\", \"till\", \"time\", \"took\", \"toss\", \"touch\", \"tri\", \"true\", \"turn\", \"use\", \"vast\", \"vessel\", \"view\", \"voic\", \"voyag\", \"wake\", \"want\", \"watch\", \"water\", \"wave\", \"way\", \"went\", \"whale\", \"whaleboat\", \"whaleman\", \"whalemen\", \"white\", \"wide\", \"wild\", \"wind\", \"wonder\", \"wondrou\", \"wood\", \"word\", \"work\", \"world\", \"wreck\", \"yard\", \"ye\", \"year\", \"young\"]}, \"R\": 30, \"lambda.step\": 0.01, \"plot.opts\": {\"xlab\": \"PC1\", \"ylab\": \"PC2\"}, \"topic.order\": [7, 5, 1, 12, 9, 15, 11, 14, 6, 2, 3, 4, 8, 13, 10]};\n",
       "\n",
       "function LDAvis_load_lib(url, callback){\n",
       "  var s = document.createElement('script');\n",
       "  s.src = url;\n",
       "  s.async = true;\n",
       "  s.onreadystatechange = s.onload = callback;\n",
       "  s.onerror = function(){console.warn(\"failed to load library \" + url);};\n",
       "  document.getElementsByTagName(\"head\")[0].appendChild(s);\n",
       "}\n",
       "\n",
       "if(typeof(LDAvis) !== \"undefined\"){\n",
       "   // already loaded: just create the visualization\n",
       "   !function(LDAvis){\n",
       "       new LDAvis(\"#\" + \"ldavis_el1605625689774757287535815146\", ldavis_el1605625689774757287535815146_data);\n",
       "   }(LDAvis);\n",
       "}else if(typeof define === \"function\" && define.amd){\n",
       "   // require.js is available: use it to load d3/LDAvis\n",
       "   require.config({paths: {d3: \"https://d3js.org/d3.v5\"}});\n",
       "   require([\"d3\"], function(d3){\n",
       "      window.d3 = d3;\n",
       "      LDAvis_load_lib(\"https://cdn.jsdelivr.net/gh/bmabey/pyLDAvis@3.3.1/pyLDAvis/js/ldavis.v3.0.0.js\", function(){\n",
       "        new LDAvis(\"#\" + \"ldavis_el1605625689774757287535815146\", ldavis_el1605625689774757287535815146_data);\n",
       "      });\n",
       "    });\n",
       "}else{\n",
       "    // require.js not available: dynamically load d3 & LDAvis\n",
       "    LDAvis_load_lib(\"https://d3js.org/d3.v5.js\", function(){\n",
       "         LDAvis_load_lib(\"https://cdn.jsdelivr.net/gh/bmabey/pyLDAvis@3.3.1/pyLDAvis/js/ldavis.v3.0.0.js\", function(){\n",
       "                 new LDAvis(\"#\" + \"ldavis_el1605625689774757287535815146\", ldavis_el1605625689774757287535815146_data);\n",
       "            })\n",
       "         });\n",
       "}\n",
       "</script>"
      ],
      "text/plain": [
       "PreparedData(topic_coordinates=              x         y  topics  cluster      Freq\n",
       "topic                                               \n",
       "6     -0.448955  0.004695       1        1  6.996470\n",
       "4      0.037477  0.444482       2        1  6.924857\n",
       "0      0.035836 -0.058160       3        1  6.733676\n",
       "11     0.033608 -0.040677       4        1  6.695312\n",
       "8      0.034750 -0.043118       5        1  6.684442\n",
       "14     0.028997 -0.032431       6        1  6.681884\n",
       "10     0.028792 -0.029792       7        1  6.651833\n",
       "13     0.038096 -0.049413       8        1  6.651193\n",
       "5      0.030381 -0.028887       9        1  6.593007\n",
       "1      0.031545 -0.028714      10        1  6.584695\n",
       "2      0.032344 -0.028196      11        1  6.573825\n",
       "3      0.030892 -0.029605      12        1  6.572547\n",
       "7      0.027549 -0.026703      13        1  6.561037\n",
       "12     0.031679 -0.027835      14        1  6.552086\n",
       "9      0.027008 -0.025646      15        1  6.543134, topic_info=        Term         Freq        Total Category  logprob  loglift\n",
       "3346   whale  1271.000000  1271.000000  Default  30.0000  30.0000\n",
       "68      ahab   582.000000   582.000000  Default  29.0000  29.0000\n",
       "1734    like   554.000000   554.000000  Default  28.0000  28.0000\n",
       "2642    ship   527.000000   527.000000  Default  27.0000  27.0000\n",
       "1814     man   495.000000   495.000000  Default  26.0000  26.0000\n",
       "...      ...          ...          ...      ...      ...      ...\n",
       "1386    held    43.754497    44.638097  Topic15  -4.7617   2.7068\n",
       "59       age    42.541128    43.424728  Topic15  -4.7898   2.7062\n",
       "2212    play    40.858474    41.742074  Topic15  -4.8301   2.7054\n",
       "2690   singl    38.844165    39.727765  Topic15  -4.8807   2.7043\n",
       "2679  silent    38.050921    38.934521  Topic15  -4.9013   2.7038\n",
       "\n",
       "[480 rows x 6 columns], token_table=      Topic      Freq     Term\n",
       "term                          \n",
       "21        5  0.973277  account\n",
       "28        1  0.975706      act\n",
       "32       13  0.971440       ad\n",
       "43        8  0.977829   advanc\n",
       "59       15  0.990219      age\n",
       "...     ...       ...      ...\n",
       "3418      7  0.971707    wreck\n",
       "3428     13  0.981660     yard\n",
       "3432     11  0.997386       ye\n",
       "3434     10  0.995223     year\n",
       "3444      3  0.987558    young\n",
       "\n",
       "[450 rows x 3 columns], R=30, lambda_step=0.01, plot_opts={'xlab': 'PC1', 'ylab': 'PC2'}, topic_order=[7, 5, 1, 12, 9, 15, 11, 14, 6, 2, 3, 4, 8, 13, 10])"
      ]
     },
     "execution_count": 152,
     "metadata": {},
     "output_type": "execute_result"
    }
   ],
   "source": [
    "import pyLDAvis.sklearn\n",
    "pyLDAvis.enable_notebook()\n",
    "panel = pyLDAvis.sklearn.prepare(lda_model, data_vectorized, vectorizer)\n",
    "panel"
   ]
  }
 ],
 "metadata": {
  "colab": {
   "name": "NLP-BP-L2.ipynb",
   "provenance": []
  },
  "kernelspec": {
   "display_name": "Python 3 (ipykernel)",
   "language": "python",
   "name": "python3"
  },
  "language_info": {
   "codemirror_mode": {
    "name": "ipython",
    "version": 3
   },
   "file_extension": ".py",
   "mimetype": "text/x-python",
   "name": "python",
   "nbconvert_exporter": "python",
   "pygments_lexer": "ipython3",
   "version": "3.9.7"
  }
 },
 "nbformat": 4,
 "nbformat_minor": 1
}
