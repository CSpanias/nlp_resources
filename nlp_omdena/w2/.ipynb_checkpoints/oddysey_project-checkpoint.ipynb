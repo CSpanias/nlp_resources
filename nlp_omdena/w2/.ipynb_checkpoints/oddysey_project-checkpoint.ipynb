{
 "cells": [
  {
   "cell_type": "markdown",
   "id": "8171ea9f",
   "metadata": {},
   "source": [
    "# Topic Classification using Unsupervised Learning\n",
    "by [CSpanias](https://cspanias.github.io/aboutme/), 2nd Week's Project for [Solving Business Problems with NLP](https://omdena.com/course/solving-business-problems-with-nlp/) by Omdena"
   ]
  },
  {
   "cell_type": "markdown",
   "id": "ed7390fa",
   "metadata": {},
   "source": [
    "# CONTENT\n",
    "1. [Text Pre-Processing](#textpre)\n",
    "2. [Textual Analysis](#textAnalysis)\n",
    "3. [Vectorization - BoW & tf-idf](#vectorization)\n",
    "4. [Topic Classification with Unsupervised Learning](#modelling)\n",
    "    1. [LDA](#LDA)\n",
    "    1. [NMF](#NMF)\n",
    "    3. [SVD](#SVD)\n",
    "5. [Conclusions](#conc)"
   ]
  },
  {
   "cell_type": "markdown",
   "id": "29dc5f5a",
   "metadata": {},
   "source": [
    "<a name=\"textpre\"></a>\n",
    "# 1. Text Pre-Processing\n",
    "1. [Import Text](#import)\n",
    "2. [Remove Special Characaters](#re)\n",
    "3. [Expand Contractions](#contractions)\n",
    "4. [Tokenization](#tokenization)\n",
    "5. [Lower-casing & Stopwords Removal](#lower)\n",
    "6. [POS-Tagging](#postagging)\n",
    "7. [Lemmatization](#lemma)"
   ]
  },
  {
   "cell_type": "markdown",
   "id": "7f40b77a",
   "metadata": {},
   "source": [
    "<a name=\"import\"></a>\n",
    "I chose to experiment with __Homer's Odyssey__, as it is a story I am familiar with (I am Greek!), and therefore I could use some __\"domain expertise\"__ in order to better interpret the results. \n",
    "\n",
    "You can find the __Plain Text UTF-8__ version of the text on the [Project Gutenberg website](https://www.gutenberg.org/ebooks/1727).\n",
    "\n",
    "First, we will __import the text__, we will make sure that is of __class string__, and we will __take a look at the text's first few characters__ to get a feel of it."
   ]
  },
  {
   "cell_type": "code",
   "execution_count": 1,
   "id": "ae68c992",
   "metadata": {
    "scrolled": false
   },
   "outputs": [
    {
     "name": "stdout",
     "output_type": "stream",
     "text": [
      "Variable 'raw' is of type: <class 'str'>\n",
      "\n",
      "First 1000 characters:\n",
      "\n",
      "The Project Gutenberg eBook of The Odyssey, by Homer\n",
      "\n",
      "This eBook is for the use of anyone anywhere in the United States and\n",
      "most other parts of the world at no cost and with almost no restrictions\n",
      "whatsoever. You may copy it, give it away or re-use it under the terms\n",
      "of the Project Gutenberg License included with this eBook or online at\n",
      "www.gutenberg.org. If you are not located in the United States, you\n",
      "will have to check the laws of the country where you are located before\n",
      "using this eBook.\n",
      "\n",
      "Title: The Odyssey\n",
      "\n",
      "Author: Homer\n",
      "\n",
      "Translator: Samuel Butler\n",
      "\n",
      "Release Date: April, 1999 [eBook #1727]\n",
      "[Most recently updated: January 4, 2022]\n",
      "\n",
      "Language: English\n",
      "\n",
      "\n",
      "Produced by: Jim Tinsley and David Widger\n",
      "\n",
      "*** START OF THE PROJECT GUTENBERG EBOOK THE ODYSSEY ***\n",
      "\n",
      "[Illustration]\n",
      "\n",
      "\n",
      "\n",
      "\n",
      "The Odyssey\n",
      "\n",
      "by Homer\n",
      "\n",
      "rendered into English prose for the use of those who cannot read the\n",
      "original\n",
      "\n",
      "Contents\n",
      "\n",
      " PREFACE TO FIRST EDITION\n",
      " PREFACE TO SECOND EDITION\n",
      " THE ODYSSEY\n",
      " BOOK I.\n",
      " BOOK II.\n",
      " BOOK III.\n",
      " BOOK IV.\n",
      "\n",
      "\n"
     ]
    }
   ],
   "source": [
    "# import text as string\n",
    "with open(r\"odyssey_homer.txt\", encoding=\"utf8\") as f:\n",
    "    raw = f.read()\n",
    "    \n",
    "# check dtype\n",
    "print(f\"Variable 'raw' is of type: {type(raw)}\\n\")\n",
    "\n",
    "# check text\n",
    "print(f\"First 1000 characters:\\n\\n{raw[:1000]}\\n\")"
   ]
  },
  {
   "cell_type": "markdown",
   "id": "186cc9b9",
   "metadata": {},
   "source": [
    "<a name=\"re\"></a>\n",
    "As we can see from the output above, __the text is already fairly \"clean\"__, thus, we will have to perform just a few pre-processing steps to __get it to the desired final form__. \n",
    "\n",
    "We will start by __removing special characters__, i.e. anything else than letters or numbers, using __regular expressions__. "
   ]
  },
  {
   "cell_type": "code",
   "execution_count": 2,
   "id": "ccc308e6",
   "metadata": {},
   "outputs": [
    {
     "name": "stdout",
     "output_type": "stream",
     "text": [
      "Initial text without special chars:\n",
      "\n",
      "The Project Gutenberg eBook of The Odyssey by Homer This eBook is for the use of anyone anywhere in the United States and most other parts of the world at no cost and with almost no restrictions whatsoever You may copy it give it away or re use it under the terms of the Project Gutenberg License included with this eBook or online at www gutenberg org If you are not located in the United States you will have to check the laws of the country where you are located before using this eBook Title The Odyssey Author Homer Translator Samuel Butler Release Date April 1999 eBook 1727 Most recently updated January 4 2022 Language English Produced by Jim Tinsley and David Widger START OF THE PROJECT GUTENBERG EBOOK THE ODYSSEY Illustration The Odyssey by Homer rendered into English prose for the use of those who cannot read the original Contents PREFACE TO FIRST EDITION PREFACE TO SECOND EDITION THE ODYSSEY BOOK I BOOK II BOOK III BOOK IV BOOK V BOOK VI BOOK VII BOOK VIII BOOK IX BOOK X BOOK XI BO\n"
     ]
    }
   ],
   "source": [
    "import re\n",
    "\n",
    "# remove special chars\n",
    "text = re.sub('[^\\w\\d]+', ' ', raw)\n",
    "\n",
    "# check that it worked\n",
    "print(f\"Initial text without special chars:\\n\\n{text[:1000]}\")"
   ]
  },
  {
   "cell_type": "markdown",
   "id": "f68fe2b8",
   "metadata": {},
   "source": [
    "<a name=\"contractions\"></a>\n",
    "We will then proceed to __expand any occurence of contracted word__ such as \"it's\" to \"it is\"."
   ]
  },
  {
   "cell_type": "code",
   "execution_count": 3,
   "id": "11179af9",
   "metadata": {},
   "outputs": [
    {
     "name": "stdout",
     "output_type": "stream",
     "text": [
      "Initial text without special chars:\n",
      "\n",
      "The Project Gutenberg eBook of The Odyssey by Homer This eBook is for the use of anyone anywhere in the United States and most other parts of the world at no cost and with almost no restrictions whatsoever You may copy it give it away or re use it under the terms of the Project Gutenberg License included with this eBook or online at www gutenberg org If you are not located in the United States you will have to check the laws of the country where you are located before using this eBook Title The Odyssey Author Homer Translator Samuel Butler Release Date April 1999 eBook 1727 Most recently updated January 4 2022 Language English Produced by Jim Tinsley and David Widger START OF THE PROJECT GUTENBERG EBOOK THE ODYSSEY Illustration The Odyssey by Homer rendered into English prose for the use of those who cannot read the original Contents PREFACE TO FIRST EDITION PREFACE TO SECOND EDITION THE ODYSSEY BOOK I BOOK II BOOK III BOOK IV BOOK V BOOK VI BOOK VII BOOK VIII BOOK IX BOOK X BOOK XI BO\n"
     ]
    }
   ],
   "source": [
    "import contractions\n",
    "\n",
    "expanded_words = []\n",
    "# split text on empty spaces\n",
    "for word in text.split():\n",
    "  # expand shortened words\n",
    "  expanded_words.append(contractions.fix(word))\n",
    "\n",
    "# join text back as string\n",
    "expanded_text = ' '.join(expanded_words)\n",
    "\n",
    "# check that it worked\n",
    "print(f\"Initial text without special chars:\\n\\n{expanded_text[:1000]}\")"
   ]
  },
  {
   "cell_type": "markdown",
   "id": "7eb9dfa8",
   "metadata": {},
   "source": [
    "<a name=\"tokenization\"></a>\n",
    "We can see that the text includes no characters other than letters or numbers, thus, we can perform __tokenization__, i.e. convert it from a single string to a list of tokens. "
   ]
  },
  {
   "cell_type": "code",
   "execution_count": 4,
   "id": "91f144f3",
   "metadata": {
    "scrolled": true
   },
   "outputs": [
    {
     "name": "stdout",
     "output_type": "stream",
     "text": [
      "Number of tokens: 133912.\n",
      "\n",
      "First 20 tokens:\n",
      "\n",
      "['The', 'Project', 'Gutenberg', 'eBook', 'of', 'The', 'Odyssey', 'by', 'Homer', 'This', 'eBook', 'is', 'for', 'the', 'use', 'of', 'anyone', 'anywhere', 'in', 'the']\n",
      "\n"
     ]
    }
   ],
   "source": [
    "from nltk.tokenize import word_tokenize\n",
    "\n",
    "# tokenize text\n",
    "tokens = word_tokenize(expanded_text)\n",
    "\n",
    "print(f\"Number of tokens: {len(tokens)}.\\n\")\n",
    "\n",
    "print(f\"First 20 tokens:\\n\\n{tokens[:20]}\\n\")"
   ]
  },
  {
   "cell_type": "markdown",
   "id": "504c78e4",
   "metadata": {},
   "source": [
    "<a name=\"lower\"></a>\n",
    "Next, we will __lower-case all words__, so we can __remove stopwords__ on the subsequent step. "
   ]
  },
  {
   "cell_type": "code",
   "execution_count": 5,
   "id": "80e5e1e2",
   "metadata": {},
   "outputs": [
    {
     "name": "stdout",
     "output_type": "stream",
     "text": [
      "First 20 tokens:\n",
      "\n",
      "['the', 'project', 'gutenberg', 'ebook', 'of', 'the', 'odyssey', 'by', 'homer', 'this', 'ebook', 'is', 'for', 'the', 'use', 'of', 'anyone', 'anywhere', 'in', 'the']\n"
     ]
    }
   ],
   "source": [
    "# lower case words\n",
    "tokens = [w.lower() for w in tokens]\n",
    "print(f\"First 20 tokens:\\n\\n{tokens[:20]}\")"
   ]
  },
  {
   "cell_type": "code",
   "execution_count": 6,
   "id": "6b4ba145",
   "metadata": {
    "scrolled": false
   },
   "outputs": [
    {
     "name": "stdout",
     "output_type": "stream",
     "text": [
      "Number of tokens without stopwords: 60360.\n",
      "First 20 tokens:\n",
      "\n",
      "['project', 'gutenberg', 'ebook', 'odyssey', 'homer', 'ebook', 'use', 'anyone', 'anywhere', 'united', 'states', 'parts', 'world', 'cost', 'almost', 'restrictions', 'whatsoever', 'may', 'copy', 'give']\n",
      "First 20 tokens sorted:\n",
      "\n",
      "['000', '000', '1', '1', '1', '1', '1', '1', '1', '1', '1', '1', '1', '1', '1', '1', '1', '1', '1', '1']\n"
     ]
    }
   ],
   "source": [
    "from nltk.corpus import stopwords\n",
    "\n",
    "# define stopwords list\n",
    "sw = set(stopwords.words('english'))\n",
    "\n",
    "# remove stopwords\n",
    "tokens = [token for token in tokens if token not in sw]\n",
    "\n",
    "print(f\"Number of tokens without stopwords: {len(tokens)}.\")\n",
    "\n",
    "print(f\"First 20 tokens:\\n\\n{tokens[:20]}\")\n",
    "\n",
    "print(f\"First 20 tokens sorted:\\n\\n{sorted(tokens)[:20]}\")"
   ]
  },
  {
   "cell_type": "markdown",
   "id": "db27cd1e",
   "metadata": {},
   "source": [
    "As we can see from the output above, the __sorted tokens__ gives us a lot of number that __probably represent book chapters, sections__, etc., so nothing meaningful."
   ]
  },
  {
   "cell_type": "code",
   "execution_count": 7,
   "id": "612e2a5b",
   "metadata": {},
   "outputs": [
    {
     "name": "stdout",
     "output_type": "stream",
     "text": [
      "First 20 tokens sorted:\n",
      "\n",
      "['abandoned', 'abandoned', 'abated', 'abetting', 'abhorred', 'abide', 'abide', 'abides', 'abiding', 'able', 'able', 'able', 'able', 'able', 'able', 'able', 'able', 'able', 'able', 'able']\n"
     ]
    }
   ],
   "source": [
    "tokens = [w for w in tokens if w.isalpha()]\n",
    "\n",
    "print(f\"First 20 tokens sorted:\\n\\n{sorted(tokens)[:20]}\")"
   ]
  },
  {
   "cell_type": "markdown",
   "id": "6df7976f",
   "metadata": {},
   "source": [
    "<a name=\"postagging\"></a>\n",
    "The list with the sorted tokens now seem a lot more useful!\n",
    "\n",
    "We must __tag our tokens with their respective Part-of-Speech__ for better results on the following lemmatization process."
   ]
  },
  {
   "cell_type": "code",
   "execution_count": 8,
   "id": "7153f286",
   "metadata": {},
   "outputs": [
    {
     "name": "stdout",
     "output_type": "stream",
     "text": [
      "POS-tagged tokens:\n",
      "\n",
      "[('project', 'NN'), ('gutenberg', 'NN'), ('ebook', 'NN'), ('odyssey', 'JJ'), ('homer', 'NN'), ('ebook', 'NN'), ('use', 'NN'), ('anyone', 'NN'), ('anywhere', 'RB'), ('united', 'JJ'), ('states', 'NNS'), ('parts', 'NNS'), ('world', 'NN'), ('cost', 'NN'), ('almost', 'RB'), ('restrictions', 'NNS'), ('whatsoever', 'VBP'), ('may', 'MD'), ('copy', 'VB'), ('give', 'VB')]\n"
     ]
    }
   ],
   "source": [
    "from nltk import pos_tag\n",
    "\n",
    "# POS tagging\n",
    "tagged_tokens = pos_tag(tokens)\n",
    "\n",
    "print(f\"POS-tagged tokens:\\n\\n{tagged_tokens[:20]}\")"
   ]
  },
  {
   "cell_type": "code",
   "execution_count": 9,
   "id": "e1b604b1",
   "metadata": {},
   "outputs": [
    {
     "name": "stdout",
     "output_type": "stream",
     "text": [
      "WordNet-tagged tokens:\n",
      "\n",
      "[('project', 'n'), ('gutenberg', 'n'), ('ebook', 'n'), ('odyssey', 'a'), ('homer', 'n'), ('ebook', 'n'), ('use', 'n'), ('anyone', 'n'), ('anywhere', 'r'), ('united', 'a'), ('states', 'n'), ('parts', 'n'), ('world', 'n'), ('cost', 'n'), ('almost', 'r'), ('restrictions', 'n'), ('whatsoever', 'v'), ('may', 'n'), ('copy', 'v'), ('give', 'v')]\n"
     ]
    }
   ],
   "source": [
    "# convert tags to WordNet form\n",
    "from nltk.corpus import wordnet\n",
    "\n",
    "def pos_tag_wordnet(tagged_tokens):\n",
    "    \"\"\"Convert POS-tagged tokens to WordNet form tags.\"\"\"\n",
    "    tag_map = {'j': wordnet.ADJ, 'v': wordnet.VERB, 'n': wordnet.NOUN, 'r': wordnet.ADV}\n",
    "    # if a word does not belong to one of the 4 categories make it a NOUN\n",
    "    new_tagged_tokens = [(word, tag_map.get(tag[0].lower(), wordnet.NOUN)) for word, tag in tagged_tokens]\n",
    "    return new_tagged_tokens\n",
    "\n",
    "# call function\n",
    "wordnet_tokens = pos_tag_wordnet(tagged_tokens)\n",
    "print(f\"WordNet-tagged tokens:\\n\\n{wordnet_tokens[:20]}\")"
   ]
  },
  {
   "cell_type": "markdown",
   "id": "10869493",
   "metadata": {},
   "source": [
    "<a name=\"lemma\"></a>\n",
    "The final step of pre-processing would be to __lemmatize__ our tokens."
   ]
  },
  {
   "cell_type": "code",
   "execution_count": 10,
   "id": "d40f42aa",
   "metadata": {},
   "outputs": [
    {
     "name": "stdout",
     "output_type": "stream",
     "text": [
      "Lemmatized text:\n",
      "['project', 'gutenberg', 'ebook', 'odyssey', 'homer', 'ebook', 'use', 'anyone', 'anywhere', 'united', 'state', 'part', 'world', 'cost', 'almost', 'restriction', 'whatsoever', 'may', 'copy', 'give']\n"
     ]
    }
   ],
   "source": [
    "from nltk.stem import WordNetLemmatizer\n",
    "\n",
    "wnl = WordNetLemmatizer()\n",
    "\n",
    "# lemmatize tokens\n",
    "tokens = [wnl.lemmatize(word, tag) for word, tag in wordnet_tokens]\n",
    "\n",
    "# check that it worked\n",
    "print(f\"Lemmatized text:\\n{tokens[:20]}\")"
   ]
  },
  {
   "cell_type": "markdown",
   "id": "a8f908bb",
   "metadata": {},
   "source": [
    "Our text has been __successfuly pre-processed__:\n",
    "1. Special characaters removed\n",
    "1. Contractions expanded\n",
    "1. String tokenized\n",
    "1. Words lower-cased\n",
    "1. Stopwords removed\n",
    "1. Numbers removed\n",
    "1. Words POS-Tagged\n",
    "1. Words lemmatizated"
   ]
  },
  {
   "cell_type": "markdown",
   "id": "3b9cba74",
   "metadata": {},
   "source": [
    "<a name=\"textAnalysis\"></a>\n",
    "# 2. Textual Analysis"
   ]
  },
  {
   "cell_type": "markdown",
   "id": "5e5912b9",
   "metadata": {},
   "source": [
    "Prior feeding our tokens to ML models for clustering, we can also perform a __basic textual analysis__ using NLTK, to get a better feel of the text. \n",
    "\n",
    "For example, we can calculate the __lexical richness__ of the text.\n",
    "\n",
    "__Note:__ Analysis based on [NLTK book](https://www.nltk.org/book/) (Chapter 1)."
   ]
  },
  {
   "cell_type": "code",
   "execution_count": 11,
   "id": "07b174e6",
   "metadata": {
    "scrolled": true
   },
   "outputs": [
    {
     "name": "stdout",
     "output_type": "stream",
     "text": [
      "Number of tokens: 59672\n",
      "\n",
      "Number of unique tokens (vocab): 6010\n",
      "\n",
      "Lexical richness: 10.07%\n"
     ]
    }
   ],
   "source": [
    "# check length & vocab\n",
    "print(f\"Number of tokens: {len(tokens)}\\n\\nNumber of unique tokens (vocab): {len(set(tokens))}\\n\")\n",
    "\n",
    "# check lexical richness\n",
    "lexical_richness = len(set(tokens)) / len(tokens)\n",
    "print(\"Lexical richness: {:.2%}\".format(lexical_richness))"
   ]
  },
  {
   "cell_type": "markdown",
   "id": "0ef1c0d5",
   "metadata": {},
   "source": [
    "It's lexical richness is __surprising low__, considering that it is a text that is consistenly used in schools in order to __teach the Ancient Greek language__! \n",
    "\n",
    "I assume the \"problem\" lies in the translation as __Ancient Greek have a lot of words that cannot be directly translated in English__.\n",
    "\n",
    "We can find out __how much space the 10 most common words take relative to the whole text__ and also visualize it by creating a __Frequency Distribution__."
   ]
  },
  {
   "cell_type": "code",
   "execution_count": 12,
   "id": "fc908fa0",
   "metadata": {},
   "outputs": [
    {
     "name": "stdout",
     "output_type": "stream",
     "text": [
      "\n",
      "The first 10 words constitute the 9.17% of the text (5472 words).\n",
      "\n"
     ]
    },
    {
     "data": {
      "image/png": "[encoded data removed]",
      "text/plain": [
       "<Figure size 432x288 with 1 Axes>"
      ]
     },
     "metadata": {
      "needs_background": "light"
     },
     "output_type": "display_data"
    }
   ],
   "source": [
    "from nltk import FreqDist\n",
    "\n",
    "# create a FreqDist\n",
    "fdist = FreqDist(tokens)\n",
    "\n",
    "# calculate % of first 15 word tokens\n",
    "total = 0\n",
    "for i in fdist.most_common(10):\n",
    "    total += i[1]\n",
    "\n",
    "print(\"\\nThe first 10 words constitute the {:.2%} of the text ({} words).\\n\".format(total / len(tokens), total))\n",
    "\n",
    "# plot cumulative fdist\n",
    "fdist.plot(15, cumulative=True);"
   ]
  },
  {
   "cell_type": "markdown",
   "id": "5fc2dbde",
   "metadata": {},
   "source": [
    "We can see that the token __\"ulysses\" is the $3rd$ most frequent word of the text__. That makes sense as it __the name of the protagonist__ (the Latin version of 'Odysseus'). \n",
    "\n",
    "We can examine this word token a bit more, by checking __how much space takes relative to the whole text__ as well as finding out __how many times exactly appears__."
   ]
  },
  {
   "cell_type": "code",
   "execution_count": 13,
   "id": "fed506b4",
   "metadata": {
    "scrolled": false
   },
   "outputs": [
    {
     "name": "stdout",
     "output_type": "stream",
     "text": [
      "The word token \"ulysses\" constitutes 1.31% of text and it appears 655 times.\n",
      "\n",
      "The 10 most common words are:\n",
      "\n",
      "     go     say ulysses    come     one    take    make   house   would    tell \n",
      "    780     699     655     589     581     489     476     421     403     379 \n"
     ]
    },
    {
     "data": {
      "image/png": "[encoded data removed]",
      "text/plain": [
       "<Figure size 432x288 with 1 Axes>"
      ]
     },
     "metadata": {
      "needs_background": "light"
     },
     "output_type": "display_data"
    }
   ],
   "source": [
    "print(\"The word token \\\"{}\\\" constitutes {:.2%} of text and it appears {} times.\\n\"\n",
    "      .format(fdist.most_common()[2][0], fdist.most_common()[0][1] / len(tokens), fdist.most_common()[2][1]))\n",
    "\n",
    "# tabulate fdist\n",
    "print(f\"The 10 most common words are:\\n\")\n",
    "fdist.tabulate(10)\n",
    "\n",
    "# plot fdist\n",
    "fdist.plot(10);"
   ]
  },
  {
   "cell_type": "markdown",
   "id": "087caf02",
   "metadata": {},
   "source": [
    "We can also find the __hapaxes__ of the text, i.e., words that appear only once. Many times, hapaxes represent very __interesting and rarely-used words__."
   ]
  },
  {
   "cell_type": "code",
   "execution_count": 14,
   "id": "9a183142",
   "metadata": {},
   "outputs": [
    {
     "name": "stdout",
     "output_type": "stream",
     "text": [
      "There are 2448 words that appears only once in the text.\n",
      "\n",
      "The first 20 hapaxes are:\n",
      "\n",
      "['bolts', 'eyeball', 'finding', 'preference', 'andraemon', 'g', 'pero', 'clymene', 'demand', 'phthia', 'soothsayer', 'jury', 'prymneus', 'stamping', 'boethous', 'pleasantly', 'maida', 'survive', 'dip', 'νηίῳ']\n"
     ]
    }
   ],
   "source": [
    "# find hapaxes\n",
    "word_hapaxes = list({w for w in fdist.hapaxes()})\n",
    "\n",
    "print(f\"There are {len(word_hapaxes)} words that appears only once in the text.\\n\\n\\\n",
    "The first 20 hapaxes are:\\n\\n{word_hapaxes[:20]}\")"
   ]
  },
  {
   "cell_type": "markdown",
   "id": "f70d8ed3",
   "metadata": {},
   "source": [
    "In addition to hapaxes, __long words__ usually can give the \"tone\" of a text pretty well and are an interesting aspect to examine."
   ]
  },
  {
   "cell_type": "code",
   "execution_count": 15,
   "id": "6fcb57b7",
   "metadata": {
    "scrolled": false
   },
   "outputs": [
    {
     "name": "stdout",
     "output_type": "stream",
     "text": [
      "There are 15 hapaxes that are longer than 13 characters:\n",
      "\n",
      "['scholasticised', 'straightforwardly', 'merchantability', 'nonproprietary', 'unenforceability', 'extraordinarily', 'discouragement', 'disrespectfully', 'identification', 'representation', 'simultaneously', 'pyriphlegethon', 'circumnavigation', 'notwithstanding', 'inextinguishable'].\n",
      "\n",
      "There are 21 word tokens that are longer than 13 characters:\n",
      "\n",
      "['contemptuously', 'interpretation', 'straightforwardly', 'redistribution', 'accomplishment', 'notwithstanding', 'scholasticised', 'nonproprietary', 'discouragement', 'pyriphlegethon', 'electronically', 'merchantability', 'disrespectfully', 'identification', 'circumnavigation', 'inextinguishable', 'laestrygonians', 'unenforceability', 'extraordinarily', 'representation', 'simultaneously'].\n"
     ]
    }
   ],
   "source": [
    "# find long freq words\n",
    "long_hapaxes = [w for w in word_hapaxes if len(w) > 13]\n",
    "print(f\"There are {len(long_hapaxes)} hapaxes that are longer than 13 characters:\\n\\n{long_hapaxes}.\\n\")\n",
    "\n",
    "long_common = [w for w in set(tokens) if len(w) > 13]\n",
    "print(f\"There are {len(long_common)} word tokens that are longer than 13 characters:\\n\\n{long_common}.\")"
   ]
  },
  {
   "cell_type": "markdown",
   "id": "4936577f",
   "metadata": {},
   "source": [
    "Now \"___pyriphlegethon___\" is indeed an insteresting word and if you are curious __find out what/who is it__ [here](https://www.theoi.com/Khthonios/PotamosPyriphlegethon.html)!"
   ]
  },
  {
   "cell_type": "markdown",
   "id": "3c7beb0b",
   "metadata": {},
   "source": [
    "<a name=\"vectorization\"></a>\n",
    "# 3. Vectorization"
   ]
  },
  {
   "cell_type": "markdown",
   "id": "00e99847",
   "metadata": {},
   "source": [
    "We will try both vectorization approaches, __BoW and tf-idf__, to see if and how they will affect the results later on."
   ]
  },
  {
   "cell_type": "code",
   "execution_count": 16,
   "id": "c458656d",
   "metadata": {},
   "outputs": [],
   "source": [
    "from sklearn.feature_extraction.text import CountVectorizer\n",
    "\n",
    "# instatiate vectorizer\n",
    "cv = CountVectorizer(min_df=3, max_df=0.85)\n",
    "\n",
    "# apply cv to text\n",
    "data_cv = cv.fit_transform(tokens)"
   ]
  },
  {
   "cell_type": "code",
   "execution_count": 17,
   "id": "f6cd79fc",
   "metadata": {},
   "outputs": [
    {
     "data": {
      "text/html": [
       "<div>\n",
       "<style scoped>\n",
       "    .dataframe tbody tr th:only-of-type {\n",
       "        vertical-align: middle;\n",
       "    }\n",
       "\n",
       "    .dataframe tbody tr th {\n",
       "        vertical-align: top;\n",
       "    }\n",
       "\n",
       "    .dataframe thead th {\n",
       "        text-align: right;\n",
       "    }\n",
       "</style>\n",
       "<table border=\"1\" class=\"dataframe\">\n",
       "  <thead>\n",
       "    <tr style=\"text-align: right;\">\n",
       "      <th></th>\n",
       "      <th>abide</th>\n",
       "      <th>able</th>\n",
       "      <th>abode</th>\n",
       "      <th>abound</th>\n",
       "      <th>abroad</th>\n",
       "      <th>absence</th>\n",
       "      <th>absent</th>\n",
       "      <th>abundance</th>\n",
       "      <th>accept</th>\n",
       "      <th>access</th>\n",
       "      <th>...</th>\n",
       "      <th>yield</th>\n",
       "      <th>yoke</th>\n",
       "      <th>yoked</th>\n",
       "      <th>yonder</th>\n",
       "      <th>young</th>\n",
       "      <th>younger</th>\n",
       "      <th>youth</th>\n",
       "      <th>zacynthus</th>\n",
       "      <th>zeus</th>\n",
       "      <th>καὶ</th>\n",
       "    </tr>\n",
       "  </thead>\n",
       "  <tbody>\n",
       "    <tr>\n",
       "      <th>0</th>\n",
       "      <td>0</td>\n",
       "      <td>0</td>\n",
       "      <td>0</td>\n",
       "      <td>0</td>\n",
       "      <td>0</td>\n",
       "      <td>0</td>\n",
       "      <td>0</td>\n",
       "      <td>0</td>\n",
       "      <td>0</td>\n",
       "      <td>0</td>\n",
       "      <td>...</td>\n",
       "      <td>0</td>\n",
       "      <td>0</td>\n",
       "      <td>0</td>\n",
       "      <td>0</td>\n",
       "      <td>0</td>\n",
       "      <td>0</td>\n",
       "      <td>0</td>\n",
       "      <td>0</td>\n",
       "      <td>0</td>\n",
       "      <td>0</td>\n",
       "    </tr>\n",
       "    <tr>\n",
       "      <th>1</th>\n",
       "      <td>0</td>\n",
       "      <td>0</td>\n",
       "      <td>0</td>\n",
       "      <td>0</td>\n",
       "      <td>0</td>\n",
       "      <td>0</td>\n",
       "      <td>0</td>\n",
       "      <td>0</td>\n",
       "      <td>0</td>\n",
       "      <td>0</td>\n",
       "      <td>...</td>\n",
       "      <td>0</td>\n",
       "      <td>0</td>\n",
       "      <td>0</td>\n",
       "      <td>0</td>\n",
       "      <td>0</td>\n",
       "      <td>0</td>\n",
       "      <td>0</td>\n",
       "      <td>0</td>\n",
       "      <td>0</td>\n",
       "      <td>0</td>\n",
       "    </tr>\n",
       "    <tr>\n",
       "      <th>2</th>\n",
       "      <td>0</td>\n",
       "      <td>0</td>\n",
       "      <td>0</td>\n",
       "      <td>0</td>\n",
       "      <td>0</td>\n",
       "      <td>0</td>\n",
       "      <td>0</td>\n",
       "      <td>0</td>\n",
       "      <td>0</td>\n",
       "      <td>0</td>\n",
       "      <td>...</td>\n",
       "      <td>0</td>\n",
       "      <td>0</td>\n",
       "      <td>0</td>\n",
       "      <td>0</td>\n",
       "      <td>0</td>\n",
       "      <td>0</td>\n",
       "      <td>0</td>\n",
       "      <td>0</td>\n",
       "      <td>0</td>\n",
       "      <td>0</td>\n",
       "    </tr>\n",
       "    <tr>\n",
       "      <th>3</th>\n",
       "      <td>0</td>\n",
       "      <td>0</td>\n",
       "      <td>0</td>\n",
       "      <td>0</td>\n",
       "      <td>0</td>\n",
       "      <td>0</td>\n",
       "      <td>0</td>\n",
       "      <td>0</td>\n",
       "      <td>0</td>\n",
       "      <td>0</td>\n",
       "      <td>...</td>\n",
       "      <td>0</td>\n",
       "      <td>0</td>\n",
       "      <td>0</td>\n",
       "      <td>0</td>\n",
       "      <td>0</td>\n",
       "      <td>0</td>\n",
       "      <td>0</td>\n",
       "      <td>0</td>\n",
       "      <td>0</td>\n",
       "      <td>0</td>\n",
       "    </tr>\n",
       "    <tr>\n",
       "      <th>4</th>\n",
       "      <td>0</td>\n",
       "      <td>0</td>\n",
       "      <td>0</td>\n",
       "      <td>0</td>\n",
       "      <td>0</td>\n",
       "      <td>0</td>\n",
       "      <td>0</td>\n",
       "      <td>0</td>\n",
       "      <td>0</td>\n",
       "      <td>0</td>\n",
       "      <td>...</td>\n",
       "      <td>0</td>\n",
       "      <td>0</td>\n",
       "      <td>0</td>\n",
       "      <td>0</td>\n",
       "      <td>0</td>\n",
       "      <td>0</td>\n",
       "      <td>0</td>\n",
       "      <td>0</td>\n",
       "      <td>0</td>\n",
       "      <td>0</td>\n",
       "    </tr>\n",
       "  </tbody>\n",
       "</table>\n",
       "<p>5 rows × 2596 columns</p>\n",
       "</div>"
      ],
      "text/plain": [
       "   abide  able  abode  abound  abroad  absence  absent  abundance  accept  \\\n",
       "0      0     0      0       0       0        0       0          0       0   \n",
       "1      0     0      0       0       0        0       0          0       0   \n",
       "2      0     0      0       0       0        0       0          0       0   \n",
       "3      0     0      0       0       0        0       0          0       0   \n",
       "4      0     0      0       0       0        0       0          0       0   \n",
       "\n",
       "   access  ...  yield  yoke  yoked  yonder  young  younger  youth  zacynthus  \\\n",
       "0       0  ...      0     0      0       0      0        0      0          0   \n",
       "1       0  ...      0     0      0       0      0        0      0          0   \n",
       "2       0  ...      0     0      0       0      0        0      0          0   \n",
       "3       0  ...      0     0      0       0      0        0      0          0   \n",
       "4       0  ...      0     0      0       0      0        0      0          0   \n",
       "\n",
       "   zeus  καὶ  \n",
       "0     0    0  \n",
       "1     0    0  \n",
       "2     0    0  \n",
       "3     0    0  \n",
       "4     0    0  \n",
       "\n",
       "[5 rows x 2596 columns]"
      ]
     },
     "execution_count": 17,
     "metadata": {},
     "output_type": "execute_result"
    }
   ],
   "source": [
    "import pandas as pd\n",
    "\n",
    "# convert data to array\n",
    "cv_vectorized_array = data_cv.toarray()\n",
    "\n",
    "# create a BoW matrix\n",
    "cv_df = pd.DataFrame(cv_vectorized_array, columns=cv.get_feature_names())\n",
    "\n",
    "# check first 5 rows\n",
    "cv_df.head()"
   ]
  },
  {
   "cell_type": "code",
   "execution_count": 18,
   "id": "c0633155",
   "metadata": {},
   "outputs": [],
   "source": [
    "from sklearn.feature_extraction.text import TfidfVectorizer\n",
    "\n",
    "# instatiate vectorizer\n",
    "tfidf = TfidfVectorizer(min_df=3, max_df=0.85)\n",
    "\n",
    "# apply cv to text\n",
    "data_tfidf = tfidf.fit_transform(tokens)"
   ]
  },
  {
   "cell_type": "code",
   "execution_count": 19,
   "id": "68edbeb2",
   "metadata": {
    "scrolled": false
   },
   "outputs": [
    {
     "data": {
      "text/html": [
       "<div>\n",
       "<style scoped>\n",
       "    .dataframe tbody tr th:only-of-type {\n",
       "        vertical-align: middle;\n",
       "    }\n",
       "\n",
       "    .dataframe tbody tr th {\n",
       "        vertical-align: top;\n",
       "    }\n",
       "\n",
       "    .dataframe thead th {\n",
       "        text-align: right;\n",
       "    }\n",
       "</style>\n",
       "<table border=\"1\" class=\"dataframe\">\n",
       "  <thead>\n",
       "    <tr style=\"text-align: right;\">\n",
       "      <th></th>\n",
       "      <th>abide</th>\n",
       "      <th>able</th>\n",
       "      <th>abode</th>\n",
       "      <th>abound</th>\n",
       "      <th>abroad</th>\n",
       "      <th>absence</th>\n",
       "      <th>absent</th>\n",
       "      <th>abundance</th>\n",
       "      <th>accept</th>\n",
       "      <th>access</th>\n",
       "      <th>...</th>\n",
       "      <th>yield</th>\n",
       "      <th>yoke</th>\n",
       "      <th>yoked</th>\n",
       "      <th>yonder</th>\n",
       "      <th>young</th>\n",
       "      <th>younger</th>\n",
       "      <th>youth</th>\n",
       "      <th>zacynthus</th>\n",
       "      <th>zeus</th>\n",
       "      <th>καὶ</th>\n",
       "    </tr>\n",
       "  </thead>\n",
       "  <tbody>\n",
       "    <tr>\n",
       "      <th>0</th>\n",
       "      <td>0.0</td>\n",
       "      <td>0.0</td>\n",
       "      <td>0.0</td>\n",
       "      <td>0.0</td>\n",
       "      <td>0.0</td>\n",
       "      <td>0.0</td>\n",
       "      <td>0.0</td>\n",
       "      <td>0.0</td>\n",
       "      <td>0.0</td>\n",
       "      <td>0.0</td>\n",
       "      <td>...</td>\n",
       "      <td>0.0</td>\n",
       "      <td>0.0</td>\n",
       "      <td>0.0</td>\n",
       "      <td>0.0</td>\n",
       "      <td>0.0</td>\n",
       "      <td>0.0</td>\n",
       "      <td>0.0</td>\n",
       "      <td>0.0</td>\n",
       "      <td>0.0</td>\n",
       "      <td>0.0</td>\n",
       "    </tr>\n",
       "    <tr>\n",
       "      <th>1</th>\n",
       "      <td>0.0</td>\n",
       "      <td>0.0</td>\n",
       "      <td>0.0</td>\n",
       "      <td>0.0</td>\n",
       "      <td>0.0</td>\n",
       "      <td>0.0</td>\n",
       "      <td>0.0</td>\n",
       "      <td>0.0</td>\n",
       "      <td>0.0</td>\n",
       "      <td>0.0</td>\n",
       "      <td>...</td>\n",
       "      <td>0.0</td>\n",
       "      <td>0.0</td>\n",
       "      <td>0.0</td>\n",
       "      <td>0.0</td>\n",
       "      <td>0.0</td>\n",
       "      <td>0.0</td>\n",
       "      <td>0.0</td>\n",
       "      <td>0.0</td>\n",
       "      <td>0.0</td>\n",
       "      <td>0.0</td>\n",
       "    </tr>\n",
       "    <tr>\n",
       "      <th>2</th>\n",
       "      <td>0.0</td>\n",
       "      <td>0.0</td>\n",
       "      <td>0.0</td>\n",
       "      <td>0.0</td>\n",
       "      <td>0.0</td>\n",
       "      <td>0.0</td>\n",
       "      <td>0.0</td>\n",
       "      <td>0.0</td>\n",
       "      <td>0.0</td>\n",
       "      <td>0.0</td>\n",
       "      <td>...</td>\n",
       "      <td>0.0</td>\n",
       "      <td>0.0</td>\n",
       "      <td>0.0</td>\n",
       "      <td>0.0</td>\n",
       "      <td>0.0</td>\n",
       "      <td>0.0</td>\n",
       "      <td>0.0</td>\n",
       "      <td>0.0</td>\n",
       "      <td>0.0</td>\n",
       "      <td>0.0</td>\n",
       "    </tr>\n",
       "    <tr>\n",
       "      <th>3</th>\n",
       "      <td>0.0</td>\n",
       "      <td>0.0</td>\n",
       "      <td>0.0</td>\n",
       "      <td>0.0</td>\n",
       "      <td>0.0</td>\n",
       "      <td>0.0</td>\n",
       "      <td>0.0</td>\n",
       "      <td>0.0</td>\n",
       "      <td>0.0</td>\n",
       "      <td>0.0</td>\n",
       "      <td>...</td>\n",
       "      <td>0.0</td>\n",
       "      <td>0.0</td>\n",
       "      <td>0.0</td>\n",
       "      <td>0.0</td>\n",
       "      <td>0.0</td>\n",
       "      <td>0.0</td>\n",
       "      <td>0.0</td>\n",
       "      <td>0.0</td>\n",
       "      <td>0.0</td>\n",
       "      <td>0.0</td>\n",
       "    </tr>\n",
       "    <tr>\n",
       "      <th>4</th>\n",
       "      <td>0.0</td>\n",
       "      <td>0.0</td>\n",
       "      <td>0.0</td>\n",
       "      <td>0.0</td>\n",
       "      <td>0.0</td>\n",
       "      <td>0.0</td>\n",
       "      <td>0.0</td>\n",
       "      <td>0.0</td>\n",
       "      <td>0.0</td>\n",
       "      <td>0.0</td>\n",
       "      <td>...</td>\n",
       "      <td>0.0</td>\n",
       "      <td>0.0</td>\n",
       "      <td>0.0</td>\n",
       "      <td>0.0</td>\n",
       "      <td>0.0</td>\n",
       "      <td>0.0</td>\n",
       "      <td>0.0</td>\n",
       "      <td>0.0</td>\n",
       "      <td>0.0</td>\n",
       "      <td>0.0</td>\n",
       "    </tr>\n",
       "  </tbody>\n",
       "</table>\n",
       "<p>5 rows × 2596 columns</p>\n",
       "</div>"
      ],
      "text/plain": [
       "   abide  able  abode  abound  abroad  absence  absent  abundance  accept  \\\n",
       "0    0.0   0.0    0.0     0.0     0.0      0.0     0.0        0.0     0.0   \n",
       "1    0.0   0.0    0.0     0.0     0.0      0.0     0.0        0.0     0.0   \n",
       "2    0.0   0.0    0.0     0.0     0.0      0.0     0.0        0.0     0.0   \n",
       "3    0.0   0.0    0.0     0.0     0.0      0.0     0.0        0.0     0.0   \n",
       "4    0.0   0.0    0.0     0.0     0.0      0.0     0.0        0.0     0.0   \n",
       "\n",
       "   access  ...  yield  yoke  yoked  yonder  young  younger  youth  zacynthus  \\\n",
       "0     0.0  ...    0.0   0.0    0.0     0.0    0.0      0.0    0.0        0.0   \n",
       "1     0.0  ...    0.0   0.0    0.0     0.0    0.0      0.0    0.0        0.0   \n",
       "2     0.0  ...    0.0   0.0    0.0     0.0    0.0      0.0    0.0        0.0   \n",
       "3     0.0  ...    0.0   0.0    0.0     0.0    0.0      0.0    0.0        0.0   \n",
       "4     0.0  ...    0.0   0.0    0.0     0.0    0.0      0.0    0.0        0.0   \n",
       "\n",
       "   zeus  καὶ  \n",
       "0   0.0  0.0  \n",
       "1   0.0  0.0  \n",
       "2   0.0  0.0  \n",
       "3   0.0  0.0  \n",
       "4   0.0  0.0  \n",
       "\n",
       "[5 rows x 2596 columns]"
      ]
     },
     "execution_count": 19,
     "metadata": {},
     "output_type": "execute_result"
    }
   ],
   "source": [
    "# convert data to array\n",
    "tfidf_vectorized_array = data_tfidf.toarray()\n",
    "\n",
    "# create a BoW matrix\n",
    "tfidf_df = pd.DataFrame(tfidf_vectorized_array, columns=tfidf.get_feature_names())\n",
    "\n",
    "# check first 5 rows\n",
    "tfidf_df.head()"
   ]
  },
  {
   "cell_type": "markdown",
   "id": "60f93a47",
   "metadata": {},
   "source": [
    "<a name=\"modelling\"></a>\n",
    "# 4. Topic Classification with Unsupervised Learning\n",
    "1. [LDA](#LDA)\n",
    "2. [NMF](#NMF)\n",
    "3. [SVD](#SVD)"
   ]
  },
  {
   "cell_type": "markdown",
   "id": "8a99fe19",
   "metadata": {},
   "source": [
    "We will use three different models, although most of the __focus would be on the LDA model__. Thus, we will perform __hyperparameter optimization__ only for LDA, and we will just __compare the results with the other two models__. \n",
    "\n",
    "Most of the code in the section below comes from [this](https://www.machinelearningplus.com/nlp/topic-modeling-python-sklearn-examples/) amazing article by [Selva Prabhakaran](https://www.machinelearningplus.com/author/selva86/)."
   ]
  },
  {
   "cell_type": "markdown",
   "id": "4bce840b",
   "metadata": {},
   "source": [
    "<a name=\"LDA\"></a>\n",
    "## 4.1 Latent Dirichlet Allocation\n",
    "1. [Hyperparameter Optimization](#gs)\n",
    "1. [Setup & Training](#train)\n",
    "1. [Visualization](#vis)"
   ]
  },
  {
   "cell_type": "markdown",
   "id": "e60e923e",
   "metadata": {},
   "source": [
    "<a name=\"gs\"></a>\n",
    "### 4.1.1 Hyperparameter Optimization"
   ]
  },
  {
   "cell_type": "markdown",
   "id": "2e67b3b8",
   "metadata": {},
   "source": [
    "Instead of trying to find the best number of `n_components` parameter manually, we will use [`GridSearchCV`](https://scikit-learn.org/stable/modules/generated/sklearn.model_selection.GridSearchCV.html) and let it find the best value for us."
   ]
  },
  {
   "cell_type": "code",
   "execution_count": 21,
   "id": "4c11fccb",
   "metadata": {},
   "outputs": [
    {
     "data": {
      "text/plain": [
       "GridSearchCV(estimator=LatentDirichletAllocation(learning_method='online'),\n",
       "             param_grid={'learning_decay': [0.5, 0.7, 0.9],\n",
       "                         'n_components': [5, 10, 15, 20, 25, 30]})"
      ]
     },
     "execution_count": 21,
     "metadata": {},
     "output_type": "execute_result"
    }
   ],
   "source": [
    "from sklearn.model_selection import GridSearchCV\n",
    "from sklearn.decomposition import LatentDirichletAllocation\n",
    "\n",
    "# define hyperparameters\n",
    "search_params = {'n_components': [5, 10, 15, 20, 25, 30], 'learning_decay': [.5, .7, .9]}\n",
    "\n",
    "# instantiate LDA\n",
    "lda = LatentDirichletAllocation(learning_method=\"online\")\n",
    "\n",
    "# Init Grid Search Class\n",
    "model = GridSearchCV(lda, param_grid=search_params)\n",
    "\n",
    "# Do the Grid Search\n",
    "model.fit(data_tfidf)"
   ]
  },
  {
   "cell_type": "code",
   "execution_count": 24,
   "id": "149f89d3",
   "metadata": {},
   "outputs": [
    {
     "name": "stdout",
     "output_type": "stream",
     "text": [
      "Best Model's Params:  {'learning_decay': 0.9, 'n_components': 5}\n",
      "Best Log Likelihood Score:  -89089.65838017475\n",
      "Model Perplexity:  1217.2044692087995\n"
     ]
    }
   ],
   "source": [
    "# Best Model\n",
    "best_lda_model = model.best_estimator_\n",
    "\n",
    "# Model Parameters\n",
    "print(\"Best Model's Params: \", model.best_params_)\n",
    "\n",
    "# Log Likelihood Score\n",
    "print(\"Best Log Likelihood Score: \", model.best_score_)\n",
    "\n",
    "# Perplexity\n",
    "print(\"Model Perplexity: \", best_lda_model.perplexity(data_tfidf))"
   ]
  },
  {
   "cell_type": "code",
   "execution_count": 27,
   "id": "8898ec72",
   "metadata": {
    "scrolled": false
   },
   "outputs": [
    {
     "data": {
      "image/png": "[encoded data removed]",
      "text/plain": [
       "<Figure size 864x576 with 1 Axes>"
      ]
     },
     "metadata": {
      "needs_background": "light"
     },
     "output_type": "display_data"
    }
   ],
   "source": [
    "import seaborn as sns\n",
    "import matplotlib.pyplot as plt\n",
    "\n",
    "results = pd.DataFrame(model.cv_results_)\n",
    "\n",
    "current_palette = sns.color_palette(\"Set2\", 3)\n",
    "\n",
    "plt.figure(figsize=(12,8))\n",
    "\n",
    "sns.lineplot(data=results,\n",
    "            x='param_n_components',\n",
    "            y='mean_test_score',\n",
    "            hue='param_learning_decay',\n",
    "            palette=current_palette,\n",
    "            marker='o'\n",
    ")\n",
    "plt.title(\"Choosing the best model\")\n",
    "plt.show()"
   ]
  },
  {
   "cell_type": "markdown",
   "id": "d54b6fe8",
   "metadata": {},
   "source": [
    "<a name=\"train\"></a>\n",
    "As it shown in the graph above, we can see that $5$ seems the best value for the `n_components` parameter as well as that both $0.7$ and $0.9$ values for the `learning_decay` parameter have the exactly same result."
   ]
  },
  {
   "cell_type": "code",
   "execution_count": 29,
   "id": "a14cb6ba",
   "metadata": {
    "scrolled": true
   },
   "outputs": [],
   "source": [
    "# instantiate LDA\n",
    "lda_model = LatentDirichletAllocation(n_components=5,\n",
    "                                      evaluate_every=0,\n",
    "                                      learning_decay=.9)\n",
    "\n",
    "# train model\n",
    "lda_Z = lda_model.fit_transform(data_tfidf)"
   ]
  },
  {
   "cell_type": "code",
   "execution_count": 30,
   "id": "322bc6de",
   "metadata": {
    "scrolled": true
   },
   "outputs": [
    {
     "name": "stdout",
     "output_type": "stream",
     "text": [
      "Number of tokens: 59672\n",
      "\n",
      "Number of topics: 5\n",
      "\n",
      "Training lasted: 10 iterations.\n",
      "\n",
      "Number of features seen during training: 2596\n",
      "\n",
      "Perplexity score: 1217.15.\n"
     ]
    }
   ],
   "source": [
    "print(f\"Number of tokens: {lda_Z.shape[0]}\\n\\nNumber of topics: {lda_Z.shape[1]}\\n\")\n",
    "print(f\"Training lasted: {lda_model.n_iter_} iterations.\\n\\nNumber of features seen during training: {lda_model.n_features_in_}\")\n",
    "print(f\"\\nPerplexity score: {round(lda_model.bound_, 2)}.\")"
   ]
  },
  {
   "cell_type": "markdown",
   "id": "df201b9e",
   "metadata": {},
   "source": [
    "We can check the results in a concise, __tabulated format__."
   ]
  },
  {
   "cell_type": "code",
   "execution_count": 62,
   "id": "43e1e571",
   "metadata": {
    "scrolled": false
   },
   "outputs": [
    {
     "data": {
      "text/html": [
       "<div>\n",
       "<style scoped>\n",
       "    .dataframe tbody tr th:only-of-type {\n",
       "        vertical-align: middle;\n",
       "    }\n",
       "\n",
       "    .dataframe tbody tr th {\n",
       "        vertical-align: top;\n",
       "    }\n",
       "\n",
       "    .dataframe thead th {\n",
       "        text-align: right;\n",
       "    }\n",
       "</style>\n",
       "<table border=\"1\" class=\"dataframe\">\n",
       "  <thead>\n",
       "    <tr style=\"text-align: right;\">\n",
       "      <th></th>\n",
       "      <th>Word 0</th>\n",
       "      <th>Word 1</th>\n",
       "      <th>Word 2</th>\n",
       "      <th>Word 3</th>\n",
       "      <th>Word 4</th>\n",
       "      <th>Word 5</th>\n",
       "      <th>Word 6</th>\n",
       "      <th>Word 7</th>\n",
       "      <th>Word 8</th>\n",
       "      <th>Word 9</th>\n",
       "      <th>Word 10</th>\n",
       "      <th>Word 11</th>\n",
       "      <th>Word 12</th>\n",
       "      <th>Word 13</th>\n",
       "      <th>Word 14</th>\n",
       "      <th>Word 15</th>\n",
       "      <th>Word 16</th>\n",
       "      <th>Word 17</th>\n",
       "      <th>Word 18</th>\n",
       "      <th>Word 19</th>\n",
       "    </tr>\n",
       "  </thead>\n",
       "  <tbody>\n",
       "    <tr>\n",
       "      <th>Topic 0</th>\n",
       "      <td>take</td>\n",
       "      <td>see</td>\n",
       "      <td>men</td>\n",
       "      <td>back</td>\n",
       "      <td>know</td>\n",
       "      <td>long</td>\n",
       "      <td>woman</td>\n",
       "      <td>though</td>\n",
       "      <td>put</td>\n",
       "      <td>think</td>\n",
       "      <td>another</td>\n",
       "      <td>lay</td>\n",
       "      <td>gutenberg</td>\n",
       "      <td>land</td>\n",
       "      <td>wife</td>\n",
       "      <td>drink</td>\n",
       "      <td>mother</td>\n",
       "      <td>eat</td>\n",
       "      <td>bed</td>\n",
       "      <td>young</td>\n",
       "    </tr>\n",
       "    <tr>\n",
       "      <th>Topic 1</th>\n",
       "      <td>say</td>\n",
       "      <td>make</td>\n",
       "      <td>telemachus</td>\n",
       "      <td>father</td>\n",
       "      <td>could</td>\n",
       "      <td>shall</td>\n",
       "      <td>day</td>\n",
       "      <td>way</td>\n",
       "      <td>great</td>\n",
       "      <td>work</td>\n",
       "      <td>also</td>\n",
       "      <td>kill</td>\n",
       "      <td>minerva</td>\n",
       "      <td>round</td>\n",
       "      <td>place</td>\n",
       "      <td>away</td>\n",
       "      <td>send</td>\n",
       "      <td>water</td>\n",
       "      <td>penelope</td>\n",
       "      <td>without</td>\n",
       "    </tr>\n",
       "    <tr>\n",
       "      <th>Topic 2</th>\n",
       "      <td>come</td>\n",
       "      <td>one</td>\n",
       "      <td>tell</td>\n",
       "      <td>give</td>\n",
       "      <td>man</td>\n",
       "      <td>good</td>\n",
       "      <td>home</td>\n",
       "      <td>much</td>\n",
       "      <td>set</td>\n",
       "      <td>still</td>\n",
       "      <td>well</td>\n",
       "      <td>even</td>\n",
       "      <td>answer</td>\n",
       "      <td>two</td>\n",
       "      <td>among</td>\n",
       "      <td>therefore</td>\n",
       "      <td>thus</td>\n",
       "      <td>hold</td>\n",
       "      <td>saw</td>\n",
       "      <td>end</td>\n",
       "    </tr>\n",
       "    <tr>\n",
       "      <th>Topic 3</th>\n",
       "      <td>god</td>\n",
       "      <td>may</td>\n",
       "      <td>upon</td>\n",
       "      <td>hand</td>\n",
       "      <td>let</td>\n",
       "      <td>leave</td>\n",
       "      <td>people</td>\n",
       "      <td>jove</td>\n",
       "      <td>heaven</td>\n",
       "      <td>like</td>\n",
       "      <td>speak</td>\n",
       "      <td>time</td>\n",
       "      <td>many</td>\n",
       "      <td>must</td>\n",
       "      <td>want</td>\n",
       "      <td>project</td>\n",
       "      <td>sit</td>\n",
       "      <td>yet</td>\n",
       "      <td>stand</td>\n",
       "      <td>heart</td>\n",
       "    </tr>\n",
       "    <tr>\n",
       "      <th>Topic 4</th>\n",
       "      <td>go</td>\n",
       "      <td>ulysses</td>\n",
       "      <td>house</td>\n",
       "      <td>would</td>\n",
       "      <td>get</td>\n",
       "      <td>son</td>\n",
       "      <td>ship</td>\n",
       "      <td>suitor</td>\n",
       "      <td>sea</td>\n",
       "      <td>bring</td>\n",
       "      <td>old</td>\n",
       "      <td>find</td>\n",
       "      <td>till</td>\n",
       "      <td>look</td>\n",
       "      <td>keep</td>\n",
       "      <td>never</td>\n",
       "      <td>first</td>\n",
       "      <td>begin</td>\n",
       "      <td>return</td>\n",
       "      <td>might</td>\n",
       "    </tr>\n",
       "  </tbody>\n",
       "</table>\n",
       "</div>"
      ],
      "text/plain": [
       "        Word 0   Word 1      Word 2  Word 3 Word 4 Word 5  Word 6  Word 7  \\\n",
       "Topic 0   take      see         men    back   know   long   woman  though   \n",
       "Topic 1    say     make  telemachus  father  could  shall     day     way   \n",
       "Topic 2   come      one        tell    give    man   good    home    much   \n",
       "Topic 3    god      may        upon    hand    let  leave  people    jove   \n",
       "Topic 4     go  ulysses       house   would    get    son    ship  suitor   \n",
       "\n",
       "         Word 8 Word 9  Word 10 Word 11    Word 12 Word 13 Word 14    Word 15  \\\n",
       "Topic 0     put  think  another     lay  gutenberg    land    wife      drink   \n",
       "Topic 1   great   work     also    kill    minerva   round   place       away   \n",
       "Topic 2     set  still     well    even     answer     two   among  therefore   \n",
       "Topic 3  heaven   like    speak    time       many    must    want    project   \n",
       "Topic 4     sea  bring      old    find       till    look    keep      never   \n",
       "\n",
       "        Word 16 Word 17   Word 18  Word 19  \n",
       "Topic 0  mother     eat       bed    young  \n",
       "Topic 1    send   water  penelope  without  \n",
       "Topic 2    thus    hold       saw      end  \n",
       "Topic 3     sit     yet     stand    heart  \n",
       "Topic 4   first   begin    return    might  "
      ]
     },
     "execution_count": 62,
     "metadata": {},
     "output_type": "execute_result"
    }
   ],
   "source": [
    "import numpy as np\n",
    "\n",
    "# show top n keywords for each topic\n",
    "def show_topics(vectorizer=tfidf, lda_model=lda_model, n_words=10):\n",
    "    # extract full list of token names\n",
    "    keywords = np.array(tfidf.get_feature_names())\n",
    "    # create emtpy list\n",
    "    topic_keywords = []\n",
    "    # iterate and extract the weights associated with each topic\n",
    "    for topic_weights in lda_model.components_:\n",
    "        # extract key words\n",
    "        top_keyword_locs = (-topic_weights).argsort()[:n_words]\n",
    "        topic_keywords.append(keywords.take(top_keyword_locs))\n",
    "    return topic_keywords\n",
    "\n",
    "topic_keywords = show_topics(vectorizer=tfidf, lda_model=best_lda_model, n_words=20)     \n",
    "\n",
    "# Topic - Keywords Dataframe\n",
    "df_topic_keywords = pd.DataFrame(topic_keywords)\n",
    "df_topic_keywords.columns = ['Word '+ str(i) for i in range(df_topic_keywords.shape[1])]\n",
    "df_topic_keywords.index = ['Topic '+ str(i) for i in range(df_topic_keywords.shape[0])]\n",
    "df_topic_keywords"
   ]
  },
  {
   "cell_type": "markdown",
   "id": "f09c5ce1",
   "metadata": {},
   "source": [
    "<a name=\"vis\"></a>\n",
    "We can also __visualize our topics__ via the pyLDAvis library."
   ]
  },
  {
   "cell_type": "code",
   "execution_count": 54,
   "id": "9f7a0c5f",
   "metadata": {},
   "outputs": [
    {
     "data": {
      "text/html": [
       "\n",
       "<link rel=\"stylesheet\" type=\"text/css\" href=\"https://cdn.jsdelivr.net/gh/bmabey/pyLDAvis@3.3.1/pyLDAvis/js/ldavis.v1.0.0.css\">\n",
       "\n",
       "\n",
       "<div id=\"ldavis_el926422325964162086669898956\"></div>\n",
       "<script type=\"text/javascript\">\n",
       "\n",
       "var ldavis_el926422325964162086669898956_data = {\"mdsDat\": {\"x\": [150.22215270996094, 51.16336441040039, -73.1445541381836, -66.4101333618164, 54.41732406616211], \"y\": [-72.2695541381836, -159.968017578125, 21.523815155029297, -110.60643768310547, 12.44344425201416], \"topics\": [1, 2, 3, 4, 5], \"cluster\": [1, 1, 1, 1, 1], \"Freq\": [20.288930955443657, 20.02295085894209, 19.949179085185637, 19.890881523437077, 19.848057576991536]}, \"tinfo\": {\"Term\": [\"go\", \"say\", \"ulysses\", \"come\", \"one\", \"take\", \"make\", \"house\", \"would\", \"tell\", \"get\", \"see\", \"give\", \"man\", \"men\", \"son\", \"ship\", \"telemachus\", \"god\", \"may\", \"upon\", \"hand\", \"suitor\", \"father\", \"good\", \"home\", \"let\", \"could\", \"leave\", \"shall\", \"go\", \"get\", \"give\", \"son\", \"good\", \"could\", \"shall\", \"jove\", \"heaven\", \"still\", \"long\", \"work\", \"speak\", \"minerva\", \"answer\", \"look\", \"place\", \"away\", \"keep\", \"put\", \"thus\", \"saw\", \"another\", \"penelope\", \"end\", \"land\", \"want\", \"sit\", \"project\", \"wife\", \"house\", \"see\", \"upon\", \"hand\", \"let\", \"leave\", \"sea\", \"day\", \"way\", \"bring\", \"find\", \"also\", \"even\", \"kill\", \"two\", \"round\", \"begin\", \"think\", \"return\", \"country\", \"might\", \"wine\", \"daughter\", \"full\", \"turn\", \"night\", \"eye\", \"odyssey\", \"draw\", \"show\", \"say\", \"ulysses\", \"make\", \"back\", \"people\", \"old\", \"woman\", \"time\", \"many\", \"therefore\", \"water\", \"hold\", \"without\", \"every\", \"ithaca\", \"reach\", \"live\", \"wind\", \"island\", \"heart\", \"sleep\", \"lie\", \"others\", \"seat\", \"call\", \"city\", \"do\", \"ground\", \"ever\", \"sun\", \"come\", \"take\", \"man\", \"men\", \"father\", \"home\", \"much\", \"know\", \"like\", \"till\", \"though\", \"send\", \"never\", \"first\", \"gutenberg\", \"thing\", \"mind\", \"mother\", \"however\", \"bed\", \"king\", \"present\", \"word\", \"far\", \"town\", \"ask\", \"near\", \"room\", \"best\", \"sail\", \"one\", \"would\", \"tell\", \"ship\", \"telemachus\", \"god\", \"may\", \"suitor\", \"great\", \"set\", \"well\", \"among\", \"must\", \"lay\", \"servant\", \"hear\", \"soon\", \"stand\", \"side\", \"stranger\", \"friend\", \"eumaeus\", \"matter\", \"book\", \"dead\", \"throw\", \"husband\", \"tm\", \"try\", \"poor\"], \"Freq\": [728.0, 672.0, 640.0, 565.0, 557.0, 467.0, 459.0, 402.0, 390.0, 361.0, 344.0, 335.0, 336.0, 330.0, 318.0, 319.0, 287.0, 271.0, 265.0, 264.0, 256.0, 255.0, 245.0, 238.0, 239.0, 227.0, 210.0, 211.0, 206.0, 206.0, 727.8896430320665, 344.01653747421864, 336.2071060440439, 318.94675478084565, 238.97855489609023, 210.9585549963898, 205.6525862065243, 175.37984992772377, 169.58282042809066, 166.07010611427577, 165.78534194184724, 164.56552917574453, 148.02002576547378, 144.30601792017774, 143.16271143205657, 142.8500952274518, 135.26752843654356, 134.70935324835744, 132.75559321619045, 128.06274838301695, 124.68509142324358, 121.78034203209393, 117.67897223664644, 113.18688451542984, 111.52247219054854, 108.23699678627118, 103.05920901302817, 101.60580404408356, 101.71395131011744, 100.32388283777625, 402.11618432653944, 334.8194303920098, 255.54811858026648, 254.39769855169504, 209.50112263686955, 206.1306646704334, 200.4096846123406, 189.8438202636626, 186.60157200253016, 168.25276517314663, 157.96858073618236, 154.1152337647959, 154.07394787298364, 153.2173272334782, 143.10178923978626, 138.809079978928, 120.47270026541935, 120.13073216360756, 118.8816971905397, 114.1525937513541, 114.07501781795897, 109.28074807961104, 92.806579206442, 83.4028018233588, 80.86706612344604, 79.64316420083563, 74.08998229483747, 70.17506074899842, 69.89330303925846, 66.31291817540634, 671.8345642989038, 639.516497292518, 458.9633399852053, 194.02341889591622, 187.44157063198256, 162.91310272209594, 159.00719804232955, 144.0526723760543, 130.965556379851, 127.61901319589226, 126.50337420862373, 124.13151275088592, 115.04110868026137, 111.15790909009077, 107.5842651730794, 104.85988385613837, 101.9239163312343, 95.67836924211468, 94.51105516002376, 94.07453509445155, 90.17593808803939, 89.88622019064567, 87.08086680810048, 85.19767312911937, 80.1553164573456, 77.80569282357904, 76.43594672861919, 76.3178840778779, 75.78886707347576, 72.45386708682288, 564.2561404761292, 466.3330203207836, 330.14725340874486, 317.6637422526047, 237.62933781799492, 226.42750824670313, 194.1172757314931, 192.76540659512946, 169.22703471031306, 153.42021466260425, 133.8776050949188, 131.59193933284575, 125.93015269098156, 121.41990883064038, 111.92134837182452, 105.85515641088043, 105.37029073833308, 98.94884544538539, 92.81600786883625, 90.86416728372363, 87.28753939906575, 85.33674123061013, 85.29933285081073, 85.3352312043243, 84.73741046471434, 83.47803917813518, 81.58137130073341, 81.52444652317568, 79.2467585018519, 77.34798701474011, 556.3290442589973, 389.99695450478794, 360.8552135586623, 286.60557005777486, 270.631661101757, 264.99527895896694, 263.6876700887976, 244.70721586370766, 183.57496057878154, 170.21211790716242, 158.58946114050136, 137.99052140282788, 128.9062878899364, 119.58417367429686, 110.59419973983908, 100.06271074561991, 98.74786397372192, 98.02361399045161, 92.06417031730712, 90.6649186367613, 87.2403099917229, 83.05364566067908, 77.5208701689212, 75.3434124620282, 72.81210837871959, 72.1854118352025, 64.5536012682187, 65.75360510929258, 60.19891278371878, 60.051202308210414], \"Total\": [728.0, 672.0, 640.0, 565.0, 557.0, 467.0, 459.0, 402.0, 390.0, 361.0, 344.0, 335.0, 336.0, 330.0, 318.0, 319.0, 287.0, 271.0, 265.0, 264.0, 256.0, 255.0, 245.0, 238.0, 239.0, 227.0, 210.0, 211.0, 206.0, 206.0, 728.659027713175, 344.78405758052963, 336.9746356179076, 319.7143974184174, 239.74608291110962, 211.7260869652926, 206.4201277467571, 176.1473928845351, 170.35042495442354, 166.83763575789146, 166.5528857769309, 165.33312570094625, 148.78757175757727, 145.07356309243312, 143.93024864556787, 143.61763207295832, 136.03644454799112, 135.47688859681074, 133.52312973091466, 128.83029590597425, 125.45263051693726, 122.54787590175341, 118.4465167200284, 113.95442716192633, 112.29002095998442, 109.00455781982926, 103.82675007375609, 102.37335407798786, 102.48434927911666, 101.09142131214152, 402.8808701273618, 335.5840846371597, 256.31275644828116, 255.16234875791633, 210.26576758808162, 206.8953159234119, 201.1743245707638, 190.6084507437123, 187.36622399498236, 169.01741575470305, 158.73322007161187, 154.8798780294213, 154.83862247340622, 153.98350831127004, 143.8664203135383, 139.57371666755122, 121.23734100556531, 120.89682120774519, 119.64638723322906, 114.91723650642334, 114.83967012889825, 110.04539665333311, 93.57121673054115, 84.16745856377358, 81.63353019343833, 80.40781383698669, 74.85462342739602, 70.94110709152683, 70.65793547049807, 67.0775697541945, 672.5986333591034, 640.2805710357018, 459.72742521455694, 194.78750278393764, 188.20565330650152, 163.6771915837942, 159.77127415437127, 144.8167641229549, 131.73114679049542, 128.38310588493158, 127.26746100171509, 124.89560232751818, 115.80523484784209, 111.92201908014256, 108.34834803298013, 105.62396650083424, 102.68798911084359, 96.44245906050782, 95.27517403640577, 94.83864301395991, 90.94002888574529, 90.65029499621986, 87.84497346978462, 85.9617715089106, 80.9194261307021, 78.56978995158951, 77.20003695970681, 77.08199062044032, 76.55294919494581, 73.21794109552113, 565.0202792144653, 467.09719046777917, 330.9113971415269, 318.42788247256937, 238.39347321999765, 227.19164616633154, 194.88139607071741, 193.52952904181015, 169.9911592383578, 154.18434262225995, 134.64174765700875, 132.3560878444492, 126.69429761964048, 122.18403032794717, 112.68560122146668, 106.61933466389289, 106.13442239224933, 99.71298555043408, 93.58013760917817, 91.62833829840397, 88.05170976751582, 86.10089933361685, 86.06351598789077, 86.10083638064503, 85.50154139370227, 84.24217202420353, 82.34551720244848, 82.28859143326171, 80.01090318487914, 78.11212705526201, 557.0925546072343, 390.76042500153414, 361.6187052833048, 287.36904497853277, 271.39513796363826, 265.7587335838066, 264.4511439163244, 245.47068850931174, 184.3384418635182, 170.9757194043487, 159.35292604236318, 138.7539914959375, 129.6697691970413, 120.34764282065787, 111.35768501709342, 100.82616836063767, 99.51132267866993, 98.78709353572633, 92.82774426734903, 91.42838927357764, 88.00377812279383, 83.8173590641659, 78.28434224331826, 76.10752479834719, 73.57558368506737, 72.94889669962396, 65.31708431972673, 66.5330000233623, 60.96237120928145, 60.814665792469704], \"Category\": [\"Default\", \"Default\", \"Default\", \"Default\", \"Default\", \"Default\", \"Default\", \"Default\", \"Default\", \"Default\", \"Default\", \"Default\", \"Default\", \"Default\", \"Default\", \"Default\", \"Default\", \"Default\", \"Default\", \"Default\", \"Default\", \"Default\", \"Default\", \"Default\", \"Default\", \"Default\", \"Default\", \"Default\", \"Default\", \"Default\", \"Topic1\", \"Topic1\", \"Topic1\", \"Topic1\", \"Topic1\", \"Topic1\", \"Topic1\", \"Topic1\", \"Topic1\", \"Topic1\", \"Topic1\", \"Topic1\", \"Topic1\", \"Topic1\", \"Topic1\", \"Topic1\", \"Topic1\", \"Topic1\", \"Topic1\", \"Topic1\", \"Topic1\", \"Topic1\", \"Topic1\", \"Topic1\", \"Topic1\", \"Topic1\", \"Topic1\", \"Topic1\", \"Topic1\", \"Topic1\", \"Topic2\", \"Topic2\", \"Topic2\", \"Topic2\", \"Topic2\", \"Topic2\", \"Topic2\", \"Topic2\", \"Topic2\", \"Topic2\", \"Topic2\", \"Topic2\", \"Topic2\", \"Topic2\", \"Topic2\", \"Topic2\", \"Topic2\", \"Topic2\", \"Topic2\", \"Topic2\", \"Topic2\", \"Topic2\", \"Topic2\", \"Topic2\", \"Topic2\", \"Topic2\", \"Topic2\", \"Topic2\", \"Topic2\", \"Topic2\", \"Topic3\", \"Topic3\", \"Topic3\", \"Topic3\", \"Topic3\", \"Topic3\", \"Topic3\", \"Topic3\", \"Topic3\", \"Topic3\", \"Topic3\", \"Topic3\", \"Topic3\", \"Topic3\", \"Topic3\", \"Topic3\", \"Topic3\", \"Topic3\", \"Topic3\", \"Topic3\", \"Topic3\", \"Topic3\", \"Topic3\", \"Topic3\", \"Topic3\", \"Topic3\", \"Topic3\", \"Topic3\", \"Topic3\", \"Topic3\", \"Topic4\", \"Topic4\", \"Topic4\", \"Topic4\", \"Topic4\", \"Topic4\", \"Topic4\", \"Topic4\", \"Topic4\", \"Topic4\", \"Topic4\", \"Topic4\", \"Topic4\", \"Topic4\", \"Topic4\", \"Topic4\", \"Topic4\", \"Topic4\", \"Topic4\", \"Topic4\", \"Topic4\", \"Topic4\", \"Topic4\", \"Topic4\", \"Topic4\", \"Topic4\", \"Topic4\", \"Topic4\", \"Topic4\", \"Topic4\", \"Topic5\", \"Topic5\", \"Topic5\", \"Topic5\", \"Topic5\", \"Topic5\", \"Topic5\", \"Topic5\", \"Topic5\", \"Topic5\", \"Topic5\", \"Topic5\", \"Topic5\", \"Topic5\", \"Topic5\", \"Topic5\", \"Topic5\", \"Topic5\", \"Topic5\", \"Topic5\", \"Topic5\", \"Topic5\", \"Topic5\", \"Topic5\", \"Topic5\", \"Topic5\", \"Topic5\", \"Topic5\", \"Topic5\", \"Topic5\"], \"logprob\": [30.0, 29.0, 28.0, 27.0, 26.0, 25.0, 24.0, 23.0, 22.0, 21.0, 20.0, 19.0, 18.0, 17.0, 16.0, 15.0, 14.0, 13.0, 12.0, 11.0, 10.0, 9.0, 8.0, 7.0, 6.0, 5.0, 4.0, 3.0, 2.0, 1.0, -2.7279, -3.4774, -3.5003, -3.553, -3.8417, -3.9664, -3.9919, -4.1511, -4.1847, -4.2057, -4.2074, -4.2148, -4.3207, -4.3461, -4.3541, -4.3563, -4.4108, -4.4149, -4.4296, -4.4655, -4.4923, -4.5158, -4.5501, -4.589, -4.6038, -4.6337, -4.6828, -4.697, -4.6959, -4.7097, -3.3081, -3.4913, -3.7615, -3.766, -3.9601, -3.9764, -4.0045, -4.0587, -4.0759, -4.1794, -4.2425, -4.2672, -4.2674, -4.273, -4.3413, -4.3718, -4.5134, -4.5163, -4.5267, -4.5673, -4.568, -4.6109, -4.7744, -4.8812, -4.9121, -4.9273, -4.9996, -5.0539, -5.0579, -5.1105, -2.7912, -2.8405, -3.1722, -4.0332, -4.0677, -4.208, -4.2322, -4.331, -4.4262, -4.4521, -4.4609, -4.4798, -4.5559, -4.5902, -4.6229, -4.6486, -4.677, -4.7402, -4.7525, -4.7571, -4.7994, -4.8026, -4.8343, -4.8562, -4.9172, -4.947, -4.9647, -4.9663, -4.9732, -5.0182, -2.9627, -3.1534, -3.4987, -3.5373, -3.8275, -3.8758, -4.0298, -4.0368, -4.167, -4.2651, -4.4013, -4.4185, -4.4625, -4.499, -4.5805, -4.6362, -4.6408, -4.7036, -4.7676, -4.7889, -4.829, -4.8516, -4.8521, -4.8517, -4.8587, -4.8737, -4.8966, -4.8973, -4.9257, -4.9499, -2.9747, -3.33, -3.4076, -3.638, -3.6953, -3.7164, -3.7213, -3.796, -4.0835, -4.159, -4.2298, -4.3689, -4.437, -4.5121, -4.5902, -4.6903, -4.7035, -4.7109, -4.7736, -4.7889, -4.8274, -4.8766, -4.9455, -4.974, -5.0082, -5.0169, -5.1286, -5.1102, -5.1984, -5.2009], \"loglift\": [30.0, 29.0, 28.0, 27.0, 26.0, 25.0, 24.0, 23.0, 22.0, 21.0, 20.0, 19.0, 18.0, 17.0, 16.0, 15.0, 14.0, 13.0, 12.0, 11.0, 10.0, 9.0, 8.0, 7.0, 6.0, 5.0, 4.0, 3.0, 2.0, 1.0, 1.594, 1.5929, 1.5928, 1.5927, 1.5919, 1.5915, 1.5914, 1.5907, 1.5906, 1.5905, 1.5905, 1.5904, 1.5899, 1.5898, 1.5897, 1.5897, 1.5894, 1.5894, 1.5893, 1.5891, 1.589, 1.5888, 1.5886, 1.5883, 1.5882, 1.588, 1.5877, 1.5876, 1.5875, 1.5875, 1.6064, 1.606, 1.6053, 1.6053, 1.6046, 1.6046, 1.6045, 1.6043, 1.6042, 1.6038, 1.6035, 1.6033, 1.6033, 1.6033, 1.603, 1.6028, 1.602, 1.6019, 1.6019, 1.6016, 1.6016, 1.6013, 1.6001, 1.5992, 1.5989, 1.5987, 1.598, 1.5974, 1.5974, 1.5968, 1.6108, 1.6108, 1.6103, 1.6081, 1.6079, 1.6073, 1.6072, 1.6067, 1.6062, 1.606, 1.606, 1.6058, 1.6054, 1.6051, 1.6049, 1.6047, 1.6045, 1.604, 1.6039, 1.6039, 1.6035, 1.6035, 1.6032, 1.6031, 1.6025, 1.6022, 1.602, 1.602, 1.602, 1.6015, 1.6136, 1.6133, 1.6126, 1.6125, 1.6117, 1.6115, 1.611, 1.611, 1.6104, 1.6099, 1.6092, 1.6091, 1.6089, 1.6086, 1.6081, 1.6077, 1.6077, 1.6072, 1.6067, 1.6065, 1.6062, 1.606, 1.606, 1.606, 1.6059, 1.6058, 1.6056, 1.6056, 1.6053, 1.6051, 1.6157, 1.6151, 1.615, 1.6144, 1.6142, 1.6142, 1.6142, 1.6139, 1.6129, 1.6126, 1.6123, 1.6115, 1.6112, 1.6107, 1.6102, 1.6095, 1.6094, 1.6093, 1.6088, 1.6087, 1.6084, 1.6079, 1.6073, 1.607, 1.6066, 1.6065, 1.6053, 1.6053, 1.6045, 1.6044]}, \"token.table\": {\"Topic\": [2, 5, 1, 1, 4, 1, 3, 4, 2, 4, 5, 2, 3, 3, 4, 1, 2, 2, 2, 5, 3, 2, 1, 5, 2, 3, 3, 2, 4, 4, 2, 4, 5, 2, 1, 1, 1, 5, 1, 5, 3, 4, 2, 5, 3, 1, 3, 4, 2, 4, 5, 3, 3, 1, 1, 2, 4, 4, 1, 5, 2, 2, 3, 4, 3, 1, 1, 3, 4, 3, 5, 5, 4, 2, 4, 1, 4, 4, 5, 4, 4, 2, 2, 3, 5, 3, 1, 3, 1, 5, 4, 1, 1, 3, 2, 4, 2, 4, 1, 3, 2, 3, 2, 4, 5, 5, 1, 5, 2, 5, 1, 3, 1, 5, 1, 5, 1, 5, 5, 3, 4, 5, 5, 3, 4, 2, 4, 5, 1, 4, 3, 5, 4, 5, 2, 2, 3, 2, 1, 3, 2, 5, 1, 3, 2, 3, 3, 4, 1, 5], \"Freq\": [0.9943189648609218, 0.9945659833795875, 0.9962302249792299, 0.993536809292544, 0.9852547483717936, 0.9964799265634894, 0.995957118538497, 0.9931425330844953, 0.9897940601855618, 0.9873654321518747, 0.9854478936047171, 0.9939804087634398, 0.9886377576477491, 0.9927479766467419, 0.9981942608929298, 0.9965706305930472, 0.9920182860786766, 0.9938953798988626, 0.9968078501171472, 0.9921769742591361, 0.984455487238521, 0.9906884419121929, 0.9974172151941465, 0.9902483319291869, 0.9945838934756072, 0.9927769053869147, 0.9917619509751486, 0.98858289056487, 0.9872145680934117, 0.9983494798968992, 0.9953808026367695, 0.9903094510406214, 0.9885939201224607, 0.9861293356875093, 0.9977259459557625, 0.997107688487828, 0.9990955609028227, 0.9971450285995311, 0.9968880287759019, 0.9981640190722195, 0.9859631204159198, 0.9939158045567931, 0.9954446697815158, 0.9918060125256114, 0.9911571592833054, 0.997942917051617, 0.9928291924549144, 0.9947548856375682, 0.9978135717213793, 0.9938006330830479, 0.9951454612062197, 0.9971117970742239, 0.9967849252960083, 0.9934861773101166, 0.9960821040371889, 0.9936128984067442, 0.9880557712020283, 0.997263833356946, 0.990784258567521, 0.9971113449959637, 0.9956726138558722, 0.9987360396743122, 0.9928263333699359, 0.9941693483190616, 0.9933001988177901, 0.9966804191092107, 0.9956994690412069, 0.9984177032418341, 0.9972457970641093, 0.9944497045056608, 0.9963678273947236, 0.998294036812837, 0.9986562656848801, 0.9926883268825504, 0.9893114564843368, 0.9925998709237664, 0.9928496218772482, 0.9954772693110348, 0.9948348084431033, 0.9958040557132088, 0.9945198984272766, 0.9949281815096545, 0.9867339666645936, 0.9958626392764839, 0.9980388274835147, 0.9903810834426939, 0.9916244837019792, 0.9935939580702283, 0.9923811258708288, 0.9866041228402084, 0.9872138462880489, 0.9952739195543162, 0.9935551191578397, 0.9940925670422601, 0.9945975198401181, 0.9964929350686994, 0.9958895078439607, 0.9857624277152867, 0.9955292909181662, 0.9991099694090759, 0.9941626518529669, 0.9888116369401379, 0.9982594983972758, 0.9973096224718602, 0.9967879628869932, 0.9942932282563399, 0.9979646958300863, 0.9987157803354905, 0.9839354681729936, 0.9910830078455307, 0.9963530150853177, 0.9896632000532316, 0.9977655137704592, 0.9948616633272876, 0.9947067369386169, 0.9920324254155561, 0.9949793357231038, 0.9953144829851942, 0.9980825062569787, 0.9833655374994472, 0.9976510446002033, 0.9985440492169347, 0.9982890672571263, 0.9970159166792946, 0.9941911599256806, 0.9925819289640038, 0.9952336651285635, 0.9869923091019298, 0.9963920205174482, 0.9923186582884003, 0.9943600167570279, 0.9919889374720041, 0.9941341245370904, 0.9842136847666626, 0.9922393385176762, 0.9939776056730261, 0.9995617998602583, 0.9987797858654598, 0.992037215138018, 0.99789843374253, 0.998045410815387, 0.9977852553377692, 0.9892036208614426, 0.9954121964037622, 0.9905003145508545, 0.9930466455259981, 0.9951726356414604, 0.987642661635618, 0.9979851242784292, 0.9980539866555546], \"Term\": [\"also\", \"among\", \"another\", \"answer\", \"ask\", \"away\", \"back\", \"bed\", \"begin\", \"best\", \"book\", \"bring\", \"call\", \"city\", \"come\", \"could\", \"country\", \"daughter\", \"day\", \"dead\", \"do\", \"draw\", \"end\", \"eumaeus\", \"even\", \"ever\", \"every\", \"eye\", \"far\", \"father\", \"find\", \"first\", \"friend\", \"full\", \"get\", \"give\", \"go\", \"god\", \"good\", \"great\", \"ground\", \"gutenberg\", \"hand\", \"hear\", \"heart\", \"heaven\", \"hold\", \"home\", \"house\", \"however\", \"husband\", \"island\", \"ithaca\", \"jove\", \"keep\", \"kill\", \"king\", \"know\", \"land\", \"lay\", \"leave\", \"let\", \"lie\", \"like\", \"live\", \"long\", \"look\", \"make\", \"man\", \"many\", \"matter\", \"may\", \"men\", \"might\", \"mind\", \"minerva\", \"mother\", \"much\", \"must\", \"near\", \"never\", \"night\", \"odyssey\", \"old\", \"one\", \"others\", \"penelope\", \"people\", \"place\", \"poor\", \"present\", \"project\", \"put\", \"reach\", \"return\", \"room\", \"round\", \"sail\", \"saw\", \"say\", \"sea\", \"seat\", \"see\", \"send\", \"servant\", \"set\", \"shall\", \"ship\", \"show\", \"side\", \"sit\", \"sleep\", \"son\", \"soon\", \"speak\", \"stand\", \"still\", \"stranger\", \"suitor\", \"sun\", \"take\", \"telemachus\", \"tell\", \"therefore\", \"thing\", \"think\", \"though\", \"throw\", \"thus\", \"till\", \"time\", \"tm\", \"town\", \"try\", \"turn\", \"two\", \"ulysses\", \"upon\", \"want\", \"water\", \"way\", \"well\", \"wife\", \"wind\", \"wine\", \"without\", \"woman\", \"word\", \"work\", \"would\"]}, \"R\": 30, \"lambda.step\": 0.01, \"plot.opts\": {\"xlab\": \"PC1\", \"ylab\": \"PC2\"}, \"topic.order\": [4, 5, 1, 2, 3]};\n",
       "\n",
       "function LDAvis_load_lib(url, callback){\n",
       "  var s = document.createElement('script');\n",
       "  s.src = url;\n",
       "  s.async = true;\n",
       "  s.onreadystatechange = s.onload = callback;\n",
       "  s.onerror = function(){console.warn(\"failed to load library \" + url);};\n",
       "  document.getElementsByTagName(\"head\")[0].appendChild(s);\n",
       "}\n",
       "\n",
       "if(typeof(LDAvis) !== \"undefined\"){\n",
       "   // already loaded: just create the visualization\n",
       "   !function(LDAvis){\n",
       "       new LDAvis(\"#\" + \"ldavis_el926422325964162086669898956\", ldavis_el926422325964162086669898956_data);\n",
       "   }(LDAvis);\n",
       "}else if(typeof define === \"function\" && define.amd){\n",
       "   // require.js is available: use it to load d3/LDAvis\n",
       "   require.config({paths: {d3: \"https://d3js.org/d3.v5\"}});\n",
       "   require([\"d3\"], function(d3){\n",
       "      window.d3 = d3;\n",
       "      LDAvis_load_lib(\"https://cdn.jsdelivr.net/gh/bmabey/pyLDAvis@3.3.1/pyLDAvis/js/ldavis.v3.0.0.js\", function(){\n",
       "        new LDAvis(\"#\" + \"ldavis_el926422325964162086669898956\", ldavis_el926422325964162086669898956_data);\n",
       "      });\n",
       "    });\n",
       "}else{\n",
       "    // require.js not available: dynamically load d3 & LDAvis\n",
       "    LDAvis_load_lib(\"https://d3js.org/d3.v5.js\", function(){\n",
       "         LDAvis_load_lib(\"https://cdn.jsdelivr.net/gh/bmabey/pyLDAvis@3.3.1/pyLDAvis/js/ldavis.v3.0.0.js\", function(){\n",
       "                 new LDAvis(\"#\" + \"ldavis_el926422325964162086669898956\", ldavis_el926422325964162086669898956_data);\n",
       "            })\n",
       "         });\n",
       "}\n",
       "</script>"
      ],
      "text/plain": [
       "PreparedData(topic_coordinates=                x           y  topics  cluster       Freq\n",
       "topic                                                    \n",
       "3      150.222153  -72.269554       1        1  20.288931\n",
       "4       51.163364 -159.968018       2        1  20.022951\n",
       "0      -73.144554   21.523815       3        1  19.949179\n",
       "1      -66.410133 -110.606438       4        1  19.890882\n",
       "2       54.417324   12.443444       5        1  19.848058, topic_info=         Term        Freq       Total Category  logprob  loglift\n",
       "966        go  728.000000  728.000000  Default  30.0000  30.0000\n",
       "1939      say  672.000000  672.000000  Default  29.0000  29.0000\n",
       "2379  ulysses  640.000000  640.000000  Default  28.0000  28.0000\n",
       "409      come  565.000000  565.000000  Default  27.0000  27.0000\n",
       "1555      one  557.000000  557.000000  Default  26.0000  26.0000\n",
       "...       ...         ...         ...      ...      ...      ...\n",
       "2308    throw   72.185412   72.948897   Topic5  -5.0169   1.6065\n",
       "1138  husband   64.553601   65.317084   Topic5  -5.1286   1.6053\n",
       "2321       tm   65.753605   66.533000   Topic5  -5.1102   1.6053\n",
       "2368      try   60.198913   60.962371   Topic5  -5.1984   1.6045\n",
       "1692     poor   60.051202   60.814666   Topic5  -5.2009   1.6044\n",
       "\n",
       "[180 rows x 6 columns], token_table=      Topic      Freq     Term\n",
       "term                          \n",
       "73        2  0.994319     also\n",
       "83        5  0.994566    among\n",
       "94        1  0.996230  another\n",
       "95        1  0.993537   answer\n",
       "144       4  0.985255      ask\n",
       "...     ...       ...      ...\n",
       "2531      3  0.993047  without\n",
       "2536      3  0.995173    woman\n",
       "2545      4  0.987643     word\n",
       "2547      1  0.997985     work\n",
       "2555      5  0.998054    would\n",
       "\n",
       "[150 rows x 3 columns], R=30, lambda_step=0.01, plot_opts={'xlab': 'PC1', 'ylab': 'PC2'}, topic_order=[4, 5, 1, 2, 3])"
      ]
     },
     "execution_count": 54,
     "metadata": {},
     "output_type": "execute_result"
    }
   ],
   "source": [
    "import pyLDAvis.sklearn\n",
    "import warnings\n",
    "warnings.filterwarnings(\"ignore\")\n",
    "\n",
    "pyLDAvis.enable_notebook()\n",
    "\n",
    "panel = pyLDAvis.sklearn.prepare(lda_model, data_tfidf, tfidf, mds='tsne')\n",
    "panel"
   ]
  },
  {
   "cell_type": "markdown",
   "id": "c89643b6",
   "metadata": {},
   "source": [
    "<a name=\"NMF\"></a>\n",
    "## 4.2 Non-Negative Matrix Factorization"
   ]
  },
  {
   "cell_type": "code",
   "execution_count": 44,
   "id": "724d542a",
   "metadata": {},
   "outputs": [],
   "source": [
    "from sklearn.decomposition import NMF\n",
    "\n",
    "# instantiate NMF\n",
    "nmf_model = NMF(n_components=5, init='nndsvd')\n",
    "\n",
    "# train model\n",
    "nmf_Z = nmf_model.fit_transform(data_tfidf)"
   ]
  },
  {
   "cell_type": "code",
   "execution_count": 45,
   "id": "0a80519c",
   "metadata": {},
   "outputs": [
    {
     "name": "stdout",
     "output_type": "stream",
     "text": [
      "Number of tokens: 59672\n",
      "Number of topics: 5\n"
     ]
    }
   ],
   "source": [
    "print(f\"Number of tokens: {nmf_Z.shape[0]}\\nNumber of topics: {nmf_Z.shape[1]}\")"
   ]
  },
  {
   "cell_type": "code",
   "execution_count": 70,
   "id": "12eee7d5",
   "metadata": {},
   "outputs": [
    {
     "data": {
      "text/html": [
       "<div>\n",
       "<style scoped>\n",
       "    .dataframe tbody tr th:only-of-type {\n",
       "        vertical-align: middle;\n",
       "    }\n",
       "\n",
       "    .dataframe tbody tr th {\n",
       "        vertical-align: top;\n",
       "    }\n",
       "\n",
       "    .dataframe thead th {\n",
       "        text-align: right;\n",
       "    }\n",
       "</style>\n",
       "<table border=\"1\" class=\"dataframe\">\n",
       "  <thead>\n",
       "    <tr style=\"text-align: right;\">\n",
       "      <th></th>\n",
       "      <th>Word 0</th>\n",
       "      <th>Word 1</th>\n",
       "      <th>Word 2</th>\n",
       "      <th>Word 3</th>\n",
       "      <th>Word 4</th>\n",
       "      <th>Word 5</th>\n",
       "      <th>Word 6</th>\n",
       "      <th>Word 7</th>\n",
       "      <th>Word 8</th>\n",
       "      <th>Word 9</th>\n",
       "      <th>Word 10</th>\n",
       "      <th>Word 11</th>\n",
       "      <th>Word 12</th>\n",
       "      <th>Word 13</th>\n",
       "      <th>Word 14</th>\n",
       "      <th>Word 15</th>\n",
       "      <th>Word 16</th>\n",
       "      <th>Word 17</th>\n",
       "      <th>Word 18</th>\n",
       "      <th>Word 19</th>\n",
       "    </tr>\n",
       "  </thead>\n",
       "  <tbody>\n",
       "    <tr>\n",
       "      <th>Topic 0</th>\n",
       "      <td>go</td>\n",
       "      <td>take</td>\n",
       "      <td>make</td>\n",
       "      <td>would</td>\n",
       "      <td>tell</td>\n",
       "      <td>house</td>\n",
       "      <td>get</td>\n",
       "      <td>give</td>\n",
       "      <td>man</td>\n",
       "      <td>see</td>\n",
       "      <td>son</td>\n",
       "      <td>men</td>\n",
       "      <td>ship</td>\n",
       "      <td>telemachus</td>\n",
       "      <td>god</td>\n",
       "      <td>may</td>\n",
       "      <td>upon</td>\n",
       "      <td>hand</td>\n",
       "      <td>good</td>\n",
       "      <td>suitor</td>\n",
       "    </tr>\n",
       "    <tr>\n",
       "      <th>Topic 1</th>\n",
       "      <td>say</td>\n",
       "      <td>take</td>\n",
       "      <td>make</td>\n",
       "      <td>house</td>\n",
       "      <td>would</td>\n",
       "      <td>son</td>\n",
       "      <td>men</td>\n",
       "      <td>ship</td>\n",
       "      <td>telemachus</td>\n",
       "      <td>may</td>\n",
       "      <td>god</td>\n",
       "      <td>hand</td>\n",
       "      <td>home</td>\n",
       "      <td>let</td>\n",
       "      <td>shall</td>\n",
       "      <td>day</td>\n",
       "      <td>much</td>\n",
       "      <td>way</td>\n",
       "      <td>jove</td>\n",
       "      <td>like</td>\n",
       "    </tr>\n",
       "    <tr>\n",
       "      <th>Topic 2</th>\n",
       "      <td>ulysses</td>\n",
       "      <td>get</td>\n",
       "      <td>give</td>\n",
       "      <td>see</td>\n",
       "      <td>man</td>\n",
       "      <td>men</td>\n",
       "      <td>god</td>\n",
       "      <td>upon</td>\n",
       "      <td>hand</td>\n",
       "      <td>good</td>\n",
       "      <td>father</td>\n",
       "      <td>suitor</td>\n",
       "      <td>shall</td>\n",
       "      <td>people</td>\n",
       "      <td>back</td>\n",
       "      <td>great</td>\n",
       "      <td>know</td>\n",
       "      <td>long</td>\n",
       "      <td>still</td>\n",
       "      <td>find</td>\n",
       "    </tr>\n",
       "    <tr>\n",
       "      <th>Topic 3</th>\n",
       "      <td>come</td>\n",
       "      <td>take</td>\n",
       "      <td>make</td>\n",
       "      <td>would</td>\n",
       "      <td>son</td>\n",
       "      <td>men</td>\n",
       "      <td>ship</td>\n",
       "      <td>upon</td>\n",
       "      <td>telemachus</td>\n",
       "      <td>may</td>\n",
       "      <td>good</td>\n",
       "      <td>home</td>\n",
       "      <td>leave</td>\n",
       "      <td>let</td>\n",
       "      <td>day</td>\n",
       "      <td>jove</td>\n",
       "      <td>back</td>\n",
       "      <td>heaven</td>\n",
       "      <td>like</td>\n",
       "      <td>work</td>\n",
       "    </tr>\n",
       "    <tr>\n",
       "      <th>Topic 4</th>\n",
       "      <td>one</td>\n",
       "      <td>take</td>\n",
       "      <td>make</td>\n",
       "      <td>would</td>\n",
       "      <td>house</td>\n",
       "      <td>son</td>\n",
       "      <td>men</td>\n",
       "      <td>telemachus</td>\n",
       "      <td>home</td>\n",
       "      <td>may</td>\n",
       "      <td>leave</td>\n",
       "      <td>let</td>\n",
       "      <td>much</td>\n",
       "      <td>shall</td>\n",
       "      <td>day</td>\n",
       "      <td>way</td>\n",
       "      <td>jove</td>\n",
       "      <td>like</td>\n",
       "      <td>bring</td>\n",
       "      <td>old</td>\n",
       "    </tr>\n",
       "  </tbody>\n",
       "</table>\n",
       "</div>"
      ],
      "text/plain": [
       "          Word 0 Word 1 Word 2 Word 3 Word 4 Word 5 Word 6      Word 7  \\\n",
       "Topic 0       go   take   make  would   tell  house    get        give   \n",
       "Topic 1      say   take   make  house  would    son    men        ship   \n",
       "Topic 2  ulysses    get   give    see    man    men    god        upon   \n",
       "Topic 3     come   take   make  would    son    men   ship        upon   \n",
       "Topic 4      one   take   make  would  house    son    men  telemachus   \n",
       "\n",
       "             Word 8 Word 9 Word 10 Word 11 Word 12     Word 13 Word 14  \\\n",
       "Topic 0         man    see     son     men    ship  telemachus     god   \n",
       "Topic 1  telemachus    may     god    hand    home         let   shall   \n",
       "Topic 2        hand   good  father  suitor   shall      people    back   \n",
       "Topic 3  telemachus    may    good    home   leave         let     day   \n",
       "Topic 4        home    may   leave     let    much       shall     day   \n",
       "\n",
       "        Word 15 Word 16 Word 17 Word 18 Word 19  \n",
       "Topic 0     may    upon    hand    good  suitor  \n",
       "Topic 1     day    much     way    jove    like  \n",
       "Topic 2   great    know    long   still    find  \n",
       "Topic 3    jove    back  heaven    like    work  \n",
       "Topic 4     way    jove    like   bring     old  "
      ]
     },
     "execution_count": 70,
     "metadata": {},
     "output_type": "execute_result"
    }
   ],
   "source": [
    "topic_keywords = show_topics(vectorizer=tfidf, lda_model=nmf_model, n_words=20)        \n",
    "\n",
    "# Topic - Keywords Dataframe\n",
    "df_topic_keywords = pd.DataFrame(topic_keywords)\n",
    "df_topic_keywords.columns = ['Word '+ str(i) for i in range(df_topic_keywords.shape[1])]\n",
    "df_topic_keywords.index = ['Topic '+ str(i) for i in range(df_topic_keywords.shape[0])]\n",
    "df_topic_keywords"
   ]
  },
  {
   "cell_type": "markdown",
   "id": "1ac39293",
   "metadata": {},
   "source": [
    "<a name=\"SVD\"></a>\n",
    "## 4.3 Singular Value Decomposition"
   ]
  },
  {
   "cell_type": "code",
   "execution_count": 67,
   "id": "1f2a1ef7",
   "metadata": {},
   "outputs": [
    {
     "name": "stdout",
     "output_type": "stream",
     "text": [
      "Number of tokens: 59672\n",
      "Number of topics: 5\n"
     ]
    }
   ],
   "source": [
    "from sklearn.decomposition import TruncatedSVD\n",
    "\n",
    "# instantiate TSVD\n",
    "lsi_model = TruncatedSVD(n_components=5)\n",
    "\n",
    "# train model\n",
    "lsi_Z = lsi_model.fit_transform(data_tfidf)\n",
    "\n",
    "print(f\"Number of tokens: {lsi_Z.shape[0]}\\nNumber of topics: {lsi_Z.shape[1]}\")"
   ]
  },
  {
   "cell_type": "code",
   "execution_count": 69,
   "id": "a3824de4",
   "metadata": {
    "scrolled": false
   },
   "outputs": [
    {
     "data": {
      "text/html": [
       "<div>\n",
       "<style scoped>\n",
       "    .dataframe tbody tr th:only-of-type {\n",
       "        vertical-align: middle;\n",
       "    }\n",
       "\n",
       "    .dataframe tbody tr th {\n",
       "        vertical-align: top;\n",
       "    }\n",
       "\n",
       "    .dataframe thead th {\n",
       "        text-align: right;\n",
       "    }\n",
       "</style>\n",
       "<table border=\"1\" class=\"dataframe\">\n",
       "  <thead>\n",
       "    <tr style=\"text-align: right;\">\n",
       "      <th></th>\n",
       "      <th>Word 0</th>\n",
       "      <th>Word 1</th>\n",
       "      <th>Word 2</th>\n",
       "      <th>Word 3</th>\n",
       "      <th>Word 4</th>\n",
       "      <th>Word 5</th>\n",
       "      <th>Word 6</th>\n",
       "      <th>Word 7</th>\n",
       "      <th>Word 8</th>\n",
       "      <th>Word 9</th>\n",
       "      <th>Word 10</th>\n",
       "      <th>Word 11</th>\n",
       "      <th>Word 12</th>\n",
       "      <th>Word 13</th>\n",
       "      <th>Word 14</th>\n",
       "      <th>Word 15</th>\n",
       "      <th>Word 16</th>\n",
       "      <th>Word 17</th>\n",
       "      <th>Word 18</th>\n",
       "      <th>Word 19</th>\n",
       "    </tr>\n",
       "  </thead>\n",
       "  <tbody>\n",
       "    <tr>\n",
       "      <th>Topic 0</th>\n",
       "      <td>go</td>\n",
       "      <td>god</td>\n",
       "      <td>hand</td>\n",
       "      <td>men</td>\n",
       "      <td>see</td>\n",
       "      <td>give</td>\n",
       "      <td>man</td>\n",
       "      <td>son</td>\n",
       "      <td>take</td>\n",
       "      <td>telemachus</td>\n",
       "      <td>home</td>\n",
       "      <td>may</td>\n",
       "      <td>get</td>\n",
       "      <td>good</td>\n",
       "      <td>shall</td>\n",
       "      <td>leave</td>\n",
       "      <td>way</td>\n",
       "      <td>let</td>\n",
       "      <td>day</td>\n",
       "      <td>ulysses</td>\n",
       "    </tr>\n",
       "    <tr>\n",
       "      <th>Topic 1</th>\n",
       "      <td>say</td>\n",
       "      <td>men</td>\n",
       "      <td>ship</td>\n",
       "      <td>get</td>\n",
       "      <td>would</td>\n",
       "      <td>suitor</td>\n",
       "      <td>son</td>\n",
       "      <td>make</td>\n",
       "      <td>may</td>\n",
       "      <td>telemachus</td>\n",
       "      <td>tell</td>\n",
       "      <td>hand</td>\n",
       "      <td>house</td>\n",
       "      <td>people</td>\n",
       "      <td>home</td>\n",
       "      <td>sea</td>\n",
       "      <td>father</td>\n",
       "      <td>know</td>\n",
       "      <td>back</td>\n",
       "      <td>answer</td>\n",
       "    </tr>\n",
       "    <tr>\n",
       "      <th>Topic 2</th>\n",
       "      <td>ulysses</td>\n",
       "      <td>would</td>\n",
       "      <td>may</td>\n",
       "      <td>ship</td>\n",
       "      <td>tell</td>\n",
       "      <td>telemachus</td>\n",
       "      <td>make</td>\n",
       "      <td>suitor</td>\n",
       "      <td>house</td>\n",
       "      <td>god</td>\n",
       "      <td>son</td>\n",
       "      <td>say</td>\n",
       "      <td>men</td>\n",
       "      <td>back</td>\n",
       "      <td>upon</td>\n",
       "      <td>could</td>\n",
       "      <td>people</td>\n",
       "      <td>father</td>\n",
       "      <td>good</td>\n",
       "      <td>sea</td>\n",
       "    </tr>\n",
       "    <tr>\n",
       "      <th>Topic 3</th>\n",
       "      <td>come</td>\n",
       "      <td>men</td>\n",
       "      <td>get</td>\n",
       "      <td>son</td>\n",
       "      <td>suitor</td>\n",
       "      <td>ship</td>\n",
       "      <td>make</td>\n",
       "      <td>may</td>\n",
       "      <td>give</td>\n",
       "      <td>sea</td>\n",
       "      <td>see</td>\n",
       "      <td>say</td>\n",
       "      <td>let</td>\n",
       "      <td>back</td>\n",
       "      <td>set</td>\n",
       "      <td>way</td>\n",
       "      <td>ulysses</td>\n",
       "      <td>man</td>\n",
       "      <td>still</td>\n",
       "      <td>bring</td>\n",
       "    </tr>\n",
       "    <tr>\n",
       "      <th>Topic 4</th>\n",
       "      <td>one</td>\n",
       "      <td>come</td>\n",
       "      <td>men</td>\n",
       "      <td>son</td>\n",
       "      <td>get</td>\n",
       "      <td>may</td>\n",
       "      <td>make</td>\n",
       "      <td>give</td>\n",
       "      <td>suitor</td>\n",
       "      <td>home</td>\n",
       "      <td>let</td>\n",
       "      <td>hand</td>\n",
       "      <td>say</td>\n",
       "      <td>father</td>\n",
       "      <td>way</td>\n",
       "      <td>day</td>\n",
       "      <td>know</td>\n",
       "      <td>ulysses</td>\n",
       "      <td>back</td>\n",
       "      <td>people</td>\n",
       "    </tr>\n",
       "  </tbody>\n",
       "</table>\n",
       "</div>"
      ],
      "text/plain": [
       "          Word 0 Word 1 Word 2 Word 3  Word 4      Word 5 Word 6  Word 7  \\\n",
       "Topic 0       go    god   hand    men     see        give    man     son   \n",
       "Topic 1      say    men   ship    get   would      suitor    son    make   \n",
       "Topic 2  ulysses  would    may   ship    tell  telemachus   make  suitor   \n",
       "Topic 3     come    men    get    son  suitor        ship   make     may   \n",
       "Topic 4      one   come    men    son     get         may   make    give   \n",
       "\n",
       "         Word 8      Word 9 Word 10 Word 11 Word 12 Word 13 Word 14 Word 15  \\\n",
       "Topic 0    take  telemachus    home     may     get    good   shall   leave   \n",
       "Topic 1     may  telemachus    tell    hand   house  people    home     sea   \n",
       "Topic 2   house         god     son     say     men    back    upon   could   \n",
       "Topic 3    give         sea     see     say     let    back     set     way   \n",
       "Topic 4  suitor        home     let    hand     say  father     way     day   \n",
       "\n",
       "         Word 16  Word 17 Word 18  Word 19  \n",
       "Topic 0      way      let     day  ulysses  \n",
       "Topic 1   father     know    back   answer  \n",
       "Topic 2   people   father    good      sea  \n",
       "Topic 3  ulysses      man   still    bring  \n",
       "Topic 4     know  ulysses    back   people  "
      ]
     },
     "execution_count": 69,
     "metadata": {},
     "output_type": "execute_result"
    }
   ],
   "source": [
    "topic_keywords = show_topics(vectorizer=tfidf, lda_model=lsi_model, n_words=20)        \n",
    "\n",
    "# Topic - Keywords Dataframe\n",
    "df_topic_keywords = pd.DataFrame(topic_keywords)\n",
    "df_topic_keywords.columns = ['Word '+ str(i) for i in range(df_topic_keywords.shape[1])]\n",
    "df_topic_keywords.index = ['Topic '+ str(i) for i in range(df_topic_keywords.shape[0])]\n",
    "df_topic_keywords"
   ]
  },
  {
   "cell_type": "markdown",
   "id": "868aa9cc",
   "metadata": {},
   "source": [
    "<a name=\"conc\"></a>\n",
    "# 5. Conclusions"
   ]
  },
  {
   "cell_type": "markdown",
   "id": "95a9a0b0",
   "metadata": {},
   "source": [
    "I could infer __some sort of a relationships with some of the topics only from the LDA model__. The results from the other two models include a lot of __overlapping words__, so I couldn't relate any particular characteristic to any of the 5 topics.\n",
    "\n",
    "1. __Topic 0__ seems to be centered around __Penelope__ (the wife of Odysseus) as it contains words such as \"wife\", \"bed\", \"lay\", \"woman\", \"mother\", and \"men\", among others.\n",
    "2. __Topic 1__ hints a relation with __Telemachus__ (the son of Odysseus and Penelope). The words \"away\", \"father\", \"penelope\", and \"kill\" could be related with him travelling away to find his father and being involved in the Trojan war.\n",
    "3. __Topic 4__ must be related with __Odysseus__ as it has words like \"Ulysseus\", \"return\", \"old\", \"home\", \"son\", \"ship\", and \"sea\" which hint towards the return of him back to Ithaca by sea and the return to his old home.\n",
    "\n",
    "For __Topics 2 and 3__ I couldn't infer any kind of relationship."
   ]
  },
  {
   "cell_type": "code",
   "execution_count": 78,
   "id": "2c2982ad",
   "metadata": {},
   "outputs": [
    {
     "data": {
      "text/html": [
       "<div>\n",
       "<style scoped>\n",
       "    .dataframe tbody tr th:only-of-type {\n",
       "        vertical-align: middle;\n",
       "    }\n",
       "\n",
       "    .dataframe tbody tr th {\n",
       "        vertical-align: top;\n",
       "    }\n",
       "\n",
       "    .dataframe thead th {\n",
       "        text-align: right;\n",
       "    }\n",
       "</style>\n",
       "<table border=\"1\" class=\"dataframe\">\n",
       "  <thead>\n",
       "    <tr style=\"text-align: right;\">\n",
       "      <th></th>\n",
       "      <th>Word 0</th>\n",
       "      <th>Word 1</th>\n",
       "      <th>Word 2</th>\n",
       "      <th>Word 3</th>\n",
       "      <th>Word 4</th>\n",
       "      <th>Word 5</th>\n",
       "      <th>Word 6</th>\n",
       "      <th>Word 7</th>\n",
       "      <th>Word 8</th>\n",
       "      <th>Word 9</th>\n",
       "      <th>Word 10</th>\n",
       "      <th>Word 11</th>\n",
       "      <th>Word 12</th>\n",
       "      <th>Word 13</th>\n",
       "      <th>Word 14</th>\n",
       "      <th>Word 15</th>\n",
       "      <th>Word 16</th>\n",
       "      <th>Word 17</th>\n",
       "      <th>Word 18</th>\n",
       "      <th>Word 19</th>\n",
       "    </tr>\n",
       "  </thead>\n",
       "  <tbody>\n",
       "    <tr>\n",
       "      <th>Penelope</th>\n",
       "      <td>take</td>\n",
       "      <td>see</td>\n",
       "      <td>men</td>\n",
       "      <td>back</td>\n",
       "      <td>know</td>\n",
       "      <td>long</td>\n",
       "      <td>woman</td>\n",
       "      <td>though</td>\n",
       "      <td>put</td>\n",
       "      <td>think</td>\n",
       "      <td>another</td>\n",
       "      <td>lay</td>\n",
       "      <td>gutenberg</td>\n",
       "      <td>land</td>\n",
       "      <td>wife</td>\n",
       "      <td>drink</td>\n",
       "      <td>mother</td>\n",
       "      <td>eat</td>\n",
       "      <td>bed</td>\n",
       "      <td>young</td>\n",
       "    </tr>\n",
       "    <tr>\n",
       "      <th>Telemachus</th>\n",
       "      <td>say</td>\n",
       "      <td>make</td>\n",
       "      <td>telemachus</td>\n",
       "      <td>father</td>\n",
       "      <td>could</td>\n",
       "      <td>shall</td>\n",
       "      <td>day</td>\n",
       "      <td>way</td>\n",
       "      <td>great</td>\n",
       "      <td>work</td>\n",
       "      <td>also</td>\n",
       "      <td>kill</td>\n",
       "      <td>minerva</td>\n",
       "      <td>round</td>\n",
       "      <td>place</td>\n",
       "      <td>away</td>\n",
       "      <td>send</td>\n",
       "      <td>water</td>\n",
       "      <td>penelope</td>\n",
       "      <td>without</td>\n",
       "    </tr>\n",
       "    <tr>\n",
       "      <th>?</th>\n",
       "      <td>come</td>\n",
       "      <td>one</td>\n",
       "      <td>tell</td>\n",
       "      <td>give</td>\n",
       "      <td>man</td>\n",
       "      <td>good</td>\n",
       "      <td>home</td>\n",
       "      <td>much</td>\n",
       "      <td>set</td>\n",
       "      <td>still</td>\n",
       "      <td>well</td>\n",
       "      <td>even</td>\n",
       "      <td>answer</td>\n",
       "      <td>two</td>\n",
       "      <td>among</td>\n",
       "      <td>therefore</td>\n",
       "      <td>thus</td>\n",
       "      <td>hold</td>\n",
       "      <td>saw</td>\n",
       "      <td>end</td>\n",
       "    </tr>\n",
       "    <tr>\n",
       "      <th>?</th>\n",
       "      <td>god</td>\n",
       "      <td>may</td>\n",
       "      <td>upon</td>\n",
       "      <td>hand</td>\n",
       "      <td>let</td>\n",
       "      <td>leave</td>\n",
       "      <td>people</td>\n",
       "      <td>jove</td>\n",
       "      <td>heaven</td>\n",
       "      <td>like</td>\n",
       "      <td>speak</td>\n",
       "      <td>time</td>\n",
       "      <td>many</td>\n",
       "      <td>must</td>\n",
       "      <td>want</td>\n",
       "      <td>project</td>\n",
       "      <td>sit</td>\n",
       "      <td>yet</td>\n",
       "      <td>stand</td>\n",
       "      <td>heart</td>\n",
       "    </tr>\n",
       "    <tr>\n",
       "      <th>Odysseus</th>\n",
       "      <td>go</td>\n",
       "      <td>ulysses</td>\n",
       "      <td>house</td>\n",
       "      <td>would</td>\n",
       "      <td>get</td>\n",
       "      <td>son</td>\n",
       "      <td>ship</td>\n",
       "      <td>suitor</td>\n",
       "      <td>sea</td>\n",
       "      <td>bring</td>\n",
       "      <td>old</td>\n",
       "      <td>find</td>\n",
       "      <td>till</td>\n",
       "      <td>look</td>\n",
       "      <td>keep</td>\n",
       "      <td>never</td>\n",
       "      <td>first</td>\n",
       "      <td>begin</td>\n",
       "      <td>return</td>\n",
       "      <td>might</td>\n",
       "    </tr>\n",
       "  </tbody>\n",
       "</table>\n",
       "</div>"
      ],
      "text/plain": [
       "           Word 0   Word 1      Word 2  Word 3 Word 4 Word 5  Word 6  Word 7  \\\n",
       "Penelope     take      see         men    back   know   long   woman  though   \n",
       "Telemachus    say     make  telemachus  father  could  shall     day     way   \n",
       "?            come      one        tell    give    man   good    home    much   \n",
       "?             god      may        upon    hand    let  leave  people    jove   \n",
       "Odysseus       go  ulysses       house   would    get    son    ship  suitor   \n",
       "\n",
       "            Word 8 Word 9  Word 10 Word 11    Word 12 Word 13 Word 14  \\\n",
       "Penelope       put  think  another     lay  gutenberg    land    wife   \n",
       "Telemachus   great   work     also    kill    minerva   round   place   \n",
       "?              set  still     well    even     answer     two   among   \n",
       "?           heaven   like    speak    time       many    must    want   \n",
       "Odysseus       sea  bring      old    find       till    look    keep   \n",
       "\n",
       "              Word 15 Word 16 Word 17   Word 18  Word 19  \n",
       "Penelope        drink  mother     eat       bed    young  \n",
       "Telemachus       away    send   water  penelope  without  \n",
       "?           therefore    thus    hold       saw      end  \n",
       "?             project     sit     yet     stand    heart  \n",
       "Odysseus        never   first   begin    return    might  "
      ]
     },
     "execution_count": 78,
     "metadata": {},
     "output_type": "execute_result"
    }
   ],
   "source": [
    "topic_keywords = show_topics(vectorizer=tfidf, lda_model=best_lda_model, n_words=20)     \n",
    "\n",
    "# Topic - Keywords Dataframe\n",
    "df_topic_keywords = pd.DataFrame(topic_keywords)\n",
    "df_topic_keywords.columns = ['Word '+ str(i) for i in range(df_topic_keywords.shape[1])]\n",
    "df_topic_keywords.index = ['Penelope', 'Telemachus', '?', '?', 'Odysseus']\n",
    "df_topic_keywords"
   ]
  }
 ],
 "metadata": {
  "kernelspec": {
   "display_name": "Python 3 (ipykernel)",
   "language": "python",
   "name": "python3"
  },
  "language_info": {
   "codemirror_mode": {
    "name": "ipython",
    "version": 3
   },
   "file_extension": ".py",
   "mimetype": "text/x-python",
   "name": "python",
   "nbconvert_exporter": "python",
   "pygments_lexer": "ipython3",
   "version": "3.9.7"
  }
 },
 "nbformat": 4,
 "nbformat_minor": 5
}
