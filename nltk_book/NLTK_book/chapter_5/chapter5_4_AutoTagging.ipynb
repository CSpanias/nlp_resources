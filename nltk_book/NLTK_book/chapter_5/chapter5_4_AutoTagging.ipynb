{
 "cells": [
  {
   "cell_type": "markdown",
   "id": "3f2dec07",
   "metadata": {},
   "source": [
    "# **Natural Language Processing with Python**\n",
    "by [CSpanias](https://cspanias.github.io/aboutme/) - 02/2022\n",
    "\n",
    "Content based on the [NLTK book](https://www.nltk.org/book/). <br>\n",
    "\n",
    "You can find Chapter 5 [here](https://www.nltk.org/book/ch05.html).\n",
    "\n",
    "# CONTENT\n",
    "\n",
    "1. Language Processing and Python\n",
    "2. Accessing Text Corpora and Lexical Resources\n",
    "3. Processing Raw Text\n",
    "4. Writing Structured Programs\n",
    "5. Categorizing and Tagging Words\n",
    "    1. Using a Tagger\n",
    "    1. Tagged Corpora\n",
    "    1. Mapping Words to Properties Using Python Dictionaries\n",
    "    1. [Automatic Tagging](#autotagging)\n",
    "        1. [The Default Tagger](#deftagger)\n",
    "        1. [The Regular Expression Tagger](#regextagger)\n",
    "        1. [The Lookup Tagger](#lookuptagger)\n",
    "        1. [Evaluation](#evaluation)"
   ]
  },
  {
   "cell_type": "markdown",
   "id": "40149b78",
   "metadata": {},
   "source": [
    "<a name=\"autotagging\"></a>\n",
    "# 5.4 Automatic Tagging"
   ]
  },
  {
   "cell_type": "markdown",
   "id": "406964ef",
   "metadata": {},
   "source": [
    "In the rest of this chapter we will explore various ways to __automatically add POS tags to text__. \n",
    "\n",
    "We will see that __the tag of a word depends on the word and its context within a sentence__. \n",
    "\n",
    "For this reason, we will be working with __data at the level of (tagged) sentences__ rather than words."
   ]
  },
  {
   "cell_type": "code",
   "execution_count": 11,
   "id": "297bb481",
   "metadata": {},
   "outputs": [],
   "source": [
    "from nltk.corpus import brown\n",
    "\n",
    "brown_tagged_sents = brown.tagged_sents(categories='news')\n",
    "brown_sents = brown.sents(categories='news')"
   ]
  },
  {
   "cell_type": "markdown",
   "id": "62236bb5",
   "metadata": {},
   "source": [
    "<a name=\"deftagger\"></a>\n",
    "## 5.4.1 The Default Tagger"
   ]
  },
  {
   "cell_type": "markdown",
   "id": "8e6fde69",
   "metadata": {},
   "source": [
    "The __simplest possible tagger assigns the same tag to each token__. \n",
    "\n",
    "This may seem to be a rather banal step, but it establishes an important __baseline for tagger performance__. \n",
    "\n",
    "In order to get the best result, we tag each word with the most likely tag. "
   ]
  },
  {
   "cell_type": "code",
   "execution_count": 3,
   "id": "fa2cfb7c",
   "metadata": {},
   "outputs": [
    {
     "data": {
      "text/plain": [
       "'NN'"
      ]
     },
     "execution_count": 3,
     "metadata": {},
     "output_type": "execute_result"
    }
   ],
   "source": [
    "from nltk.corpus import brown\n",
    "from nltk import FreqDist\n",
    "\n",
    "# extract tags from tagged words\n",
    "tags = [tag for (word, tag) in brown.tagged_words(categories='news')]\n",
    "\n",
    "# create a FreqDist & find most used tag\n",
    "FreqDist(tags).max()"
   ]
  },
  {
   "cell_type": "markdown",
   "id": "600ceaad",
   "metadata": {},
   "source": [
    "Now we can create a tagger that tags everything as `NN`."
   ]
  },
  {
   "cell_type": "code",
   "execution_count": 5,
   "id": "1abbf70c",
   "metadata": {
    "scrolled": true
   },
   "outputs": [
    {
     "name": "stdout",
     "output_type": "stream",
     "text": [
      "[('I', 'NN'), ('do', 'NN'), ('not', 'NN'), ('like', 'NN'), ('green', 'NN'), ('eggs', 'NN'), ('and', 'NN'), ('ham', 'NN'), (',', 'NN'), ('I', 'NN'), ('do', 'NN'), ('not', 'NN'), ('like', 'NN'), ('them', 'NN'), ('Sam', 'NN'), ('I', 'NN'), ('am', 'NN'), ('!', 'NN')]\n"
     ]
    }
   ],
   "source": [
    "from nltk.tokenize import word_tokenize\n",
    "from nltk import DefaultTagger\n",
    "\n",
    "# create text\n",
    "raw = 'I do not like green eggs and ham, I do not like them Sam I am!'\n",
    "\n",
    "# tokenize text\n",
    "tokens = word_tokenize(raw)\n",
    "\n",
    "# instantiate tagger\n",
    "default_tagger = DefaultTagger('NN')\n",
    "\n",
    "# apply tagger\n",
    "print(default_tagger.tag(tokens))"
   ]
  },
  {
   "cell_type": "markdown",
   "id": "1593f43b",
   "metadata": {},
   "source": [
    "Unsurprisingly, __this method performs rather poorly__. \n",
    "\n",
    "On a typical corpus, it will tag only about __an eighth of the tokens correctly__."
   ]
  },
  {
   "cell_type": "code",
   "execution_count": 12,
   "id": "546901ea",
   "metadata": {},
   "outputs": [
    {
     "data": {
      "text/plain": [
       "0.13089484257215028"
      ]
     },
     "execution_count": 12,
     "metadata": {},
     "output_type": "execute_result"
    }
   ],
   "source": [
    "from nltk.corpus import brown\n",
    "\n",
    "# evalute def tagger based on brown tagged sents\n",
    "default_tagger.evaluate(brown_tagged_sents)"
   ]
  },
  {
   "cell_type": "markdown",
   "id": "2e37f46b",
   "metadata": {},
   "source": [
    "Default taggers assign their tag to every single word, even words that have never been encountered before. A\n",
    "\n",
    "s it happens, once we have processed several thousand words of English text, __most new words will be nouns__. \n",
    "\n",
    "As we will see, this means that default taggers __can help to improve the robustness of a language processing system__."
   ]
  },
  {
   "cell_type": "markdown",
   "id": "afc2f305",
   "metadata": {},
   "source": [
    "<a name=\"regextagger\"></a>\n",
    "## 5.4.2 The Regural Expression Tagger"
   ]
  },
  {
   "cell_type": "markdown",
   "id": "49ba4038",
   "metadata": {},
   "source": [
    "The regular expression tagger __assigns tags to tokens on the basis of matching patterns__. \n",
    "\n",
    "For instance, we might guess that any word ending in `ed` is the past participle of a verb, and any word ending with `'s` is a possessive noun.\n",
    "\n",
    "We can express these as a list of regular expressions."
   ]
  },
  {
   "cell_type": "code",
   "execution_count": 9,
   "id": "357a67d8",
   "metadata": {},
   "outputs": [],
   "source": [
    "patterns = [\n",
    "    (r'.*ing$', 'VBG'),                   # gerund\n",
    "    (r'.*ed$', 'VBD'),                    # simple past\n",
    "    (r'.*es$', 'VBZ'),                    # 3rd singular present\n",
    "    (r'.*ould$', 'MD'),                   # modals\n",
    "    (r'.*\\'s$', 'NN$'),                   # possesive nouns\n",
    "    (r'.*s$', 'NNS'),                     # plural nouns\n",
    "    (r'.^-?[0-9]+(\\.[0-9]+)?$', 'CD'),    # cardinal numbers\n",
    "    (r'.*', 'NN')                         # nouns (default)\n",
    "]"
   ]
  },
  {
   "cell_type": "markdown",
   "id": "1f3b9d04",
   "metadata": {},
   "source": [
    "Note the these are __processed in order__, and the __first one that matches is applied__. \n",
    "\n",
    "The final regular expression `«.*»` is a __catch-all__ that tags everything as a noun. This is equivalent to the default tagger (only much less efficient). \n",
    "\n",
    "Now we can set up a tagger and use it to tag a sentence."
   ]
  },
  {
   "cell_type": "code",
   "execution_count": 14,
   "id": "22f75605",
   "metadata": {
    "scrolled": true
   },
   "outputs": [
    {
     "name": "stdout",
     "output_type": "stream",
     "text": [
      "[('``', 'NN'), ('Only', 'NN'), ('a', 'NN'), ('relative', 'NN'), ('handful', 'NN'), ('of', 'NN'), ('such', 'NN'), ('reports', 'NNS'), ('was', 'NNS'), ('received', 'VBD'), (\"''\", 'NN'), (',', 'NN'), ('the', 'NN'), ('jury', 'NN'), ('said', 'NN'), (',', 'NN'), ('``', 'NN'), ('considering', 'VBG'), ('the', 'NN'), ('widespread', 'NN'), ('interest', 'NN'), ('in', 'NN'), ('the', 'NN'), ('election', 'NN'), (',', 'NN'), ('the', 'NN'), ('number', 'NN'), ('of', 'NN'), ('voters', 'NNS'), ('and', 'NN'), ('the', 'NN'), ('size', 'NN'), ('of', 'NN'), ('this', 'NNS'), ('city', 'NN'), (\"''\", 'NN'), ('.', 'NN')]\n"
     ]
    },
    {
     "data": {
      "text/plain": [
       "0.1914195357718241"
      ]
     },
     "execution_count": 14,
     "metadata": {},
     "output_type": "execute_result"
    }
   ],
   "source": [
    "from nltk import RegexpTagger\n",
    "\n",
    "# instantiate tagger\n",
    "regexp_tagger = RegexpTagger(patterns)\n",
    "\n",
    "# apply tagger\n",
    "print(regexp_tagger.tag(brown_sents[3]))\n",
    "\n",
    "# evaluate tagger\n",
    "regexp_tagger.evaluate(brown_tagged_sents)"
   ]
  },
  {
   "cell_type": "markdown",
   "id": "295c7292",
   "metadata": {},
   "source": [
    "Now it is right about __a fifth of the time__."
   ]
  },
  {
   "cell_type": "markdown",
   "id": "77f5553c",
   "metadata": {},
   "source": [
    "<a name=\"lookuptagger\"></a>\n",
    "## 5.4.3 The Lookup Tagger"
   ]
  },
  {
   "cell_type": "markdown",
   "id": "510f0802",
   "metadata": {},
   "source": [
    "A lot of high-frequency words do not have the `NN` tag. \n",
    "\n",
    "Let's find the 100 most frequent words and store their most likely tag. We can then use this information as the model for a \"__lookup tagger__\" (an NLTK __UnigramTagger__)."
   ]
  },
  {
   "cell_type": "code",
   "execution_count": 20,
   "id": "9a5660b6",
   "metadata": {},
   "outputs": [
    {
     "data": {
      "text/plain": [
       "0.45578495136941344"
      ]
     },
     "execution_count": 20,
     "metadata": {},
     "output_type": "execute_result"
    }
   ],
   "source": [
    "from nltk import UnigramTagger\n",
    "from nltk import ConditionalFreqDist\n",
    "\n",
    "# create a FreqDist\n",
    "fd = FreqDist(brown.words(categories='news'))\n",
    "\n",
    "# create ConditionalFreqDist\n",
    "cfd = ConditionalFreqDist(brown.tagged_words(categories='news'))\n",
    "\n",
    "# extract the 100 most common words\n",
    "most_freq_words = fd.most_common(100)\n",
    "\n",
    "# find their most likely tags\n",
    "likely_tags = dict((word, cfd[word].max()) for (word, _) in most_freq_words)\n",
    "\n",
    "# instantiate tagger\n",
    "baseline_tagger = UnigramTagger(model=likely_tags)\n",
    "\n",
    "# evalute tagger\n",
    "baseline_tagger.evaluate(brown_tagged_sents)"
   ]
  },
  {
   "cell_type": "markdown",
   "id": "1508181c",
   "metadata": {},
   "source": [
    "It should come as no surprise by now that __simply knowing the tags for the 100 most frequent words enables us to tag a large fraction of tokens correctly (nearly half in fact)__.\n",
    "\n",
    "Let's see what it does on some untagged input text."
   ]
  },
  {
   "cell_type": "code",
   "execution_count": 19,
   "id": "a9e22c53",
   "metadata": {
    "scrolled": true
   },
   "outputs": [
    {
     "name": "stdout",
     "output_type": "stream",
     "text": [
      "[('``', '``'), ('Only', None), ('a', 'AT'), ('relative', None), ('handful', None), ('of', 'IN'), ('such', None), ('reports', None), ('was', 'BEDZ'), ('received', None), (\"''\", \"''\"), (',', ','), ('the', 'AT'), ('jury', None), ('said', 'VBD'), (',', ','), ('``', '``'), ('considering', None), ('the', 'AT'), ('widespread', None), ('interest', None), ('in', 'IN'), ('the', 'AT'), ('election', None), (',', ','), ('the', 'AT'), ('number', None), ('of', 'IN'), ('voters', None), ('and', 'CC'), ('the', 'AT'), ('size', None), ('of', 'IN'), ('this', 'DT'), ('city', None), (\"''\", \"''\"), ('.', '.')]\n"
     ]
    }
   ],
   "source": [
    "# extract an untagged sent\n",
    "sent = brown.sents(categories='news')[3]\n",
    "\n",
    "# apply tagger\n",
    "print(baseline_tagger.tag(sent))"
   ]
  },
  {
   "cell_type": "markdown",
   "id": "c033e331",
   "metadata": {},
   "source": [
    "Many words have been assigned a tag of `None`, because they were not among the 100 most frequent words. \n",
    "\n",
    "In these cases we would like to assign the default tag of `NN`. In other words, we want to __use the lookup table first__, and if it is unable to assign a tag, __then use the default tagger__, a process known as __backoff__. \n",
    "\n",
    "We do this by __specifying one tagger as a parameter to the other__, as shown below. Now the lookup tagger will only store word-tag pairs for words other than nouns, and whenever it cannot assign a tag to a word it will invoke the default tagger."
   ]
  },
  {
   "cell_type": "code",
   "execution_count": 21,
   "id": "a7f5f45e",
   "metadata": {},
   "outputs": [],
   "source": [
    "baseline_tagger = UnigramTagger(model=likely_tags,\n",
    "                                backoff=DefaultTagger('NN'))"
   ]
  },
  {
   "cell_type": "markdown",
   "id": "c733da30",
   "metadata": {},
   "source": [
    "Let's put all this together and write a program to __create and evaluate lookup taggers__ having a range of sizes."
   ]
  },
  {
   "cell_type": "code",
   "execution_count": 24,
   "id": "75623525",
   "metadata": {
    "scrolled": true
   },
   "outputs": [
    {
     "data": {
      "image/png": "[encoded data removed]",
      "text/plain": [
       "<Figure size 432x288 with 1 Axes>"
      ]
     },
     "metadata": {
      "needs_background": "light"
     },
     "output_type": "display_data"
    }
   ],
   "source": [
    "def performance(cfd, wordlist):\n",
    "    # create a base model for the lookup tagger\n",
    "    lt = dict((word, cfd[word].max()) for word in wordlist)\n",
    "    \n",
    "    # instantiate tagger with backoff tagger\n",
    "    baseline_tagger = UnigramTagger(model=lt, backoff=DefaultTagger('NN'))\n",
    "    \n",
    "    # evaluate tagger\n",
    "    return baseline_tagger.evaluate(brown.tagged_sents(categories='news'))\n",
    "\n",
    "\n",
    "def display():\n",
    "    import pylab\n",
    "    \n",
    "    # create a FreqDist & extract 100 most common words\n",
    "    word_freqs = FreqDist(brown.words(categories='news')).most_common()\n",
    "    # extract words only\n",
    "    words_by_freq = [w for (w, _) in word_freqs]\n",
    "    # create a Conditional Freq Dist\n",
    "    cfd = ConditionalFreqDist(brown.tagged_words(categories='news'))\n",
    "    # assign various tagger sizes\n",
    "    sizes = 2 ** pylab.arange(15)\n",
    "    # evalute taggers\n",
    "    perfs = [performance(cfd, words_by_freq[:size]) for size in sizes]\n",
    "    # generate plot\n",
    "    pylab.plot(sizes, perfs, '-bo')\n",
    "    pylab.title('Lookup Tagger Performance with Varying Model Size')\n",
    "    pylab.xlabel('Model Size')\n",
    "    pylab.ylabel('Performance')\n",
    "    pylab.show()\n",
    "\n",
    "# invoke function\n",
    "display()"
   ]
  },
  {
   "cell_type": "markdown",
   "id": "aac50b0d",
   "metadata": {},
   "source": [
    "Observe that performance __initially increases rapidly__ as the model size grows, eventually reaching a __plateau__, when large increases in model size yield little improvement in performance."
   ]
  },
  {
   "cell_type": "markdown",
   "id": "333e7c3f",
   "metadata": {},
   "source": [
    "<a name=\"evaluation\"></a>\n",
    "## 5.4.4 Evaluation"
   ]
  },
  {
   "cell_type": "markdown",
   "id": "1a986a64",
   "metadata": {},
   "source": [
    "In the above examples, you will have noticed an __emphasis on accuracy scores__. In fact, __evaluating the performance of such tools is a central theme in NLP__. \n",
    "\n",
    "Recall the processing pipeline in [fig-sds](https://www.nltk.org/book/ch01.html#fig-sds); any errors in the output of one module are greatly multiplied in the downstream modules.\n",
    "\n",
    "__We evaluate the performance of a tagger relative to the tags a human expert would assign__. Since we don't usually have access to an expert and impartial human judge, we make do instead with __gold standard test data__. \n",
    "\n",
    "This is a __corpus which has been manually annotated__ and which is accepted as a standard against which the guesses of an automatic system are assessed. The tagger is regarded as being correct if the tag it guesses for a given word is the same as the gold standard tag.\n",
    "\n",
    "Of course, the humans who designed and carried out the original gold standard annotation were only human. Further analysis might show mistakes in the gold standard, or may eventually lead to a revised tagset and more elaborate guidelines. Nevertheless, the gold standard is by definition \"correct\" as far as the evaluation of an automatic tagger is concerned.\n",
    "\n",
    "__Developing an annotated corpus is a major undertaking__. \n",
    "\n",
    "Apart from the data, it generates __sophisticated tools__, __documentation__, and __practices for ensuring high quality annotation__.\n",
    "\n",
    "The __tagsets__ and other coding schemes inevitably __depend on some theoretical position that is not shared by all__, however corpus creators often go to great lengths to make their work as theory-neutral as possible in order to maximize the usefulness of their work."
   ]
  }
 ],
 "metadata": {
  "kernelspec": {
   "display_name": "Python 3 (ipykernel)",
   "language": "python",
   "name": "python3"
  },
  "language_info": {
   "codemirror_mode": {
    "name": "ipython",
    "version": 3
   },
   "file_extension": ".py",
   "mimetype": "text/x-python",
   "name": "python",
   "nbconvert_exporter": "python",
   "pygments_lexer": "ipython3",
   "version": "3.9.7"
  }
 },
 "nbformat": 4,
 "nbformat_minor": 5
}
