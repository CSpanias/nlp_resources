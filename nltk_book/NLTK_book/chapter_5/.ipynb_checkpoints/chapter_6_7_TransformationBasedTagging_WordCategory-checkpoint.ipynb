{
 "cells": [
  {
   "cell_type": "markdown",
   "id": "3f2dec07",
   "metadata": {},
   "source": [
    "# **Natural Language Processing with Python**\n",
    "by [CSpanias](https://cspanias.github.io/aboutme/) - 02/2022\n",
    "\n",
    "Content based on the [NLTK book](https://www.nltk.org/book/). <br>\n",
    "\n",
    "You can find Chapter 5 [here](https://www.nltk.org/book/ch05.html).\n",
    "\n",
    "# CONTENT\n",
    "\n",
    "1. Language Processing and Python\n",
    "2. Accessing Text Corpora and Lexical Resources\n",
    "3. Processing Raw Text\n",
    "4. Writing Structured Programs\n",
    "5. Categorizing and Tagging Words\n",
    "    1. Using a Tagger\n",
    "    1. Tagged Corpora\n",
    "    1. Mapping Words to Properties Using Python Dictionaries\n",
    "    1. Automatic Tagging\n",
    "    1. N-Gram Tagging\n",
    "    1. [Transformation-Based Tagging](#tbtagging)\n",
    "    1. [How to Determine the Category of a Word](#category)\n",
    "        1. [Morphological Clues](#morpho)\n",
    "        1. [Syntactic Clues](#syntantic)\n",
    "        1. [Semantic Clues](#semantic)\n",
    "        1. [New Words](#newwords)\n",
    "        1. [Morphology in POS Tagsets](#tagsetmorpho)"
   ]
  },
  {
   "cell_type": "markdown",
   "id": "e79cad3f",
   "metadata": {},
   "source": [
    "<a name=\"tbtagging\"></a>\n",
    "# 5.6 Transformation-Based Tagging"
   ]
  },
  {
   "cell_type": "markdown",
   "id": "40149b78",
   "metadata": {},
   "source": [
    "<a name=\"category\"></a>\n",
    "# 5.7 How to Determine the Category of a Word"
   ]
  },
  {
   "cell_type": "markdown",
   "id": "d66af7b2",
   "metadata": {},
   "source": [
    "<a name=\"morpho\"></a>\n",
    "## 5.7.1 Morphological Clues"
   ]
  },
  {
   "cell_type": "markdown",
   "id": "a3618d23",
   "metadata": {},
   "source": [
    "<a name=\"syntantic\"></a>\n",
    "## 5.7.2 Syntactic Clues"
   ]
  },
  {
   "cell_type": "markdown",
   "id": "6273cb93",
   "metadata": {},
   "source": [
    "<a name=\"semantic\"></a>\n",
    "## 5.7.3 Semantic Clues"
   ]
  },
  {
   "cell_type": "markdown",
   "id": "0bf27221",
   "metadata": {},
   "source": [
    "<a name=\"newwords\"></a>\n",
    "## 5.7.4 New Words"
   ]
  },
  {
   "cell_type": "markdown",
   "id": "5a0f2422",
   "metadata": {},
   "source": [
    "<a name=\"tagsetmorpho\"></a>\n",
    "## 5.7.5 Morphology in POS Tagsets"
   ]
  }
 ],
 "metadata": {
  "kernelspec": {
   "display_name": "Python 3 (ipykernel)",
   "language": "python",
   "name": "python3"
  },
  "language_info": {
   "codemirror_mode": {
    "name": "ipython",
    "version": 3
   },
   "file_extension": ".py",
   "mimetype": "text/x-python",
   "name": "python",
   "nbconvert_exporter": "python",
   "pygments_lexer": "ipython3",
   "version": "3.9.7"
  }
 },
 "nbformat": 4,
 "nbformat_minor": 5
}
