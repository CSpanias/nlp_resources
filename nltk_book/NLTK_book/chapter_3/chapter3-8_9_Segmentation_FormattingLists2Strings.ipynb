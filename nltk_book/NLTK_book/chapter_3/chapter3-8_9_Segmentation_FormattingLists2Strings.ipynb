{
 "cells": [
  {
   "cell_type": "markdown",
   "id": "3f2dec07",
   "metadata": {},
   "source": [
    "# **Natural Language Processing with Python**\n",
    "by [CSpanias](https://cspanias.github.io/aboutme/) - 01/2022\n",
    "\n",
    "Content based on the [NLTK book](https://www.nltk.org/book/). <br>\n",
    "\n",
    "You can find Chapter 3 [here](https://www.nltk.org/book/ch03.html).\n",
    "\n",
    "# CONTENT\n",
    "\n",
    "1. Language Processing and Python\n",
    "2. Accessing Text Corpora and Lexical Resources\n",
    "3. Processing Raw Text\n",
    "    1. Accessing Text from the Web and from Disk\n",
    "    2. Strings: Text Processing at the Lowest Level\n",
    "    3. Text Processing with Unicode\n",
    "    4. Regular Expressions for Detecting Word Patterns\n",
    "    5. Useful Applications of Regural Expressions\n",
    "    6. Normalizing Text\n",
    "    7. Regular Expressions for Tokenizing Text\n",
    "    8. [Segmentation](#Segmentation)\n",
    "        1. [Sentence Segmentation](#SentSegm)\n",
    "        1. [Word Segmentation](#WordSegm)\n",
    "    9. [Formatting: From Lists to Strings](#Formatting)\n",
    "        1. [From Lists to Strings](#List2String)\n",
    "        1. [Strings and Formats](#StringFormats)\n",
    "        1. [Lining Things Up](#Lining)\n",
    "        1. [Writing Results to a File](#File)\n",
    "        1. [Text Wrapping](#Wrapping)\n"
   ]
  },
  {
   "cell_type": "markdown",
   "id": "d0276129",
   "metadata": {},
   "source": [
    "<a name=\"Segmentation\"></a>\n",
    "## 3.8 Segmentation\n",
    "1. [Sentence Segmentation](#SentSegm)\n",
    "1. [Word Segmentation](#WordSegm)\n",
    "\n",
    "**Tokenization is an instance of a more general problem of segmentation**. "
   ]
  },
  {
   "cell_type": "markdown",
   "id": "61953cdf",
   "metadata": {},
   "source": [
    "<a name=\"SentSegm\"></a>\n",
    "###  3.8.1 Sentence Segmentation\n",
    "\n",
    "Manipulating texts at the level of individual words often **presupposes the ability to divide a text into individual sentences**. \n",
    "\n",
    "As we have seen, **some corpora already provide access at the sentence level**. "
   ]
  },
  {
   "cell_type": "code",
   "execution_count": 15,
   "id": "80fa74ef",
   "metadata": {
    "scrolled": true
   },
   "outputs": [
    {
     "name": "stdout",
     "output_type": "stream",
     "text": [
      "The average number of words per sentence is: 20.25\n"
     ]
    }
   ],
   "source": [
    "from nltk.corpus import brown\n",
    "\n",
    "# compute the average number of words per sentence\n",
    "print(\"The average number of words per sentence is: {:.2f}\".\n",
    "     format(len(brown.words()) / len(brown.sents()) ))"
   ]
  },
  {
   "cell_type": "markdown",
   "id": "d1db1871",
   "metadata": {},
   "source": [
    "In other cases, the text is **only available as a stream of characters**. \n",
    "\n",
    "Before tokenizing the text into words, we need to segment it into sentences. \n",
    "\n",
    "NLTK facilitates this by including the [**Punkt sentence segmenter**](https://direct.mit.edu/coli/article/32/4/485/1923/Unsupervised-Multilingual-Sentence-Boundary).\n",
    "\n",
    "*__Data Pretty Print__ [documentation](https://docs.python.org/3/library/pprint.html)*"
   ]
  },
  {
   "cell_type": "code",
   "execution_count": 22,
   "id": "cda4dd8a",
   "metadata": {
    "scrolled": true
   },
   "outputs": [
    {
     "name": "stdout",
     "output_type": "stream",
     "text": [
      "['\"Nonsense!\"',\n",
      " 'said Gregory, who was very rational when anyone else\\nattempted paradox.',\n",
      " '\"Why do all the clerks and navvies in the\\n'\n",
      " 'railway trains look so sad and tired, so very sad and tired?',\n",
      " 'I will\\ntell you.',\n",
      " 'It is because they know that the train is going right.',\n",
      " 'It\\n'\n",
      " 'is because they know that whatever place they have taken a ticket\\n'\n",
      " 'for that place they will reach.',\n",
      " 'It is because after they have\\n'\n",
      " 'passed Sloane Square they know that the next station must be\\n'\n",
      " 'Victoria, and nothing but Victoria.',\n",
      " 'Oh, their wild rapture!',\n",
      " 'oh,\\n'\n",
      " 'their eyes like stars and their souls again in Eden, if the next\\n'\n",
      " 'station were unaccountably Baker Street!\"',\n",
      " '\"It is you who are unpoetical,\" replied the poet Syme.']\n"
     ]
    }
   ],
   "source": [
    "from nltk.corpus import gutenberg\n",
    "from nltk.tokenize import sent_tokenize\n",
    "\n",
    "# load text\n",
    "text = gutenberg.raw(\"chesterton-thursday.txt\")\n",
    "\n",
    "# tokenize text into sentences\n",
    "sents = sent_tokenize(text)\n",
    "\n",
    "# pretty print sample result\n",
    "pprint.pprint(sents[79:89])"
   ]
  },
  {
   "cell_type": "markdown",
   "id": "9c797429",
   "metadata": {},
   "source": [
    "The resulting text is really **a single sentence**, reporting the speech of Mr Lucian Gregory. \n",
    "\n",
    "However, **the quoted speech contains several sentences**, and these have been split into individual strings. This is reasonable behavior for most applications.\n",
    "\n",
    "Sentence segmentation is difficult because **period is used to mark abbreviations**, and **some periods simultaneously mark an abbreviation and terminate a sentence**, as often happens with acronyms like U.S.A."
   ]
  },
  {
   "cell_type": "markdown",
   "id": "217cd8e6",
   "metadata": {},
   "source": [
    "<a name=\"WordSegm\"></a>\n",
    "###  3.8.2 Word Segmentation\n",
    "\n",
    "For some writing systems, tokenizing text is made more difficult by the fact that there is **no visual representation of word boundaries**. \n",
    "\n",
    "For example, in Chinese, the three-character string: `爱国人` (ai4 \"love\" (verb), guo2 \"country\", ren2 \"person\") could be tokenized as: \n",
    "1. `爱国 / 人`, \"country-loving person\" <br>\n",
    "or, <br>\n",
    "2. `爱 / 国人`, \"love country-person.\"\n",
    "\n",
    "A similar problem arises in the **processing of spoken language**, where the hearer must **segment a continuous speech stream** into individual words. A particularly challenging version of this problem arises when we **don't know the words in advance**. This is the problem faced by a **language learner**, such as a child hearing utterances from a parent. \n",
    "\n",
    "Consider the following artificial example, where word boundaries have been removed:\t\n",
    "\n",
    "1. doyouseethekitty\n",
    "1. seethedoggy\n",
    "1. doyoulikethekitty\n",
    "1. likethedoggy\n",
    "\n",
    "Our first challenge is simply to **represent the problem**: we need to **find a way to separate text content from the segmentation**. \n",
    "\n",
    "We can do this by **annotating each character with a boolean value** to indicate whether or not a word-break appears after the character."
   ]
  },
  {
   "cell_type": "code",
   "execution_count": 23,
   "id": "f705f234",
   "metadata": {},
   "outputs": [],
   "source": [
    "# text without boundaries\n",
    "text = \"doyouseethekittyseethedoggydoyoulikethekittylikethedoggy\"\n",
    "\n",
    "# annotate each break with boolean on sentence level\n",
    "seg1 = \"0000000000000001000000000010000000000000000100000000000\"\n",
    "\n",
    "# annotate each break with boolean on word level\n",
    "seg2 = \"0100100100100001001001000010100100010010000100010010000\""
   ]
  },
  {
   "cell_type": "markdown",
   "id": "e2c7f785",
   "metadata": {},
   "source": [
    "Observe that the **segmentation strings consist of zeros and ones**. \n",
    "\n",
    "They are one character shorter than the source text, since **a text of length `n` can only be broken up in `n-1` places**. \n",
    "\n",
    "We can **get back to the original segmented text from the above representation** by building a custom function. "
   ]
  },
  {
   "cell_type": "code",
   "execution_count": 29,
   "id": "0cd42b54",
   "metadata": {
    "scrolled": true
   },
   "outputs": [
    {
     "name": "stdout",
     "output_type": "stream",
     "text": [
      "Original text:\n",
      "doyouseethekittyseethedoggydoyoulikethekittylikethedoggy\n",
      "\n",
      "Sentence-level boolean representation:\n",
      "0000000000000001000000000010000000000000000100000000000\n",
      "\n",
      "Sentence-level segmentation back to text:\n",
      "['doyouseethekitty', 'seethedoggy', 'doyoulikethekitty', 'likethedoggy']\n",
      "\n",
      "Word-level boolean representation:\n",
      "0100100100100001001001000010100100010010000100010010000\n",
      "\n",
      "Word-level segmentation back to text:\n",
      "['do', 'you', 'see', 'the', 'kitty', 'see', 'the', 'doggy', 'do', 'you', 'like', 'the', 'kitty', 'like', 'the', 'doggy']\n",
      "\n"
     ]
    }
   ],
   "source": [
    "def segment(text , segs):\n",
    "    \"\"\"Convert segmentation strings back into text.\"\"\"\n",
    "    \n",
    "    # initialize variables\n",
    "    words = []\n",
    "    last = 0\n",
    "    \n",
    "    # for the length of segement\n",
    "    for i in range (len(segs)):\n",
    "        # check if first boolean value is 1, if not check next value\n",
    "        if segs[i] == '1':\n",
    "            # extract sliced value of text & append it to list\n",
    "            words.append(text[last:i+1])\n",
    "            # increase last by 1\n",
    "            last = i+1\n",
    "            \n",
    "    # extract and append the remaining text to list\n",
    "    words.append(text[last:])\n",
    "    return words\n",
    "\n",
    "print(\"Original text:\\n{}\\n\".format(text))\n",
    "print(\"Sentence-level boolean representation:\\n{}\\n\".format(seg1))\n",
    "print(\"Sentence-level segmentation back to text:\\n{}\\n\".format(segment(text, seg1)))\n",
    "print(\"Word-level boolean representation:\\n{}\\n\".format(seg2))\n",
    "print(\"Word-level segmentation back to text:\\n{}\\n\".format(segment(text, seg2)))"
   ]
  },
  {
   "attachments": {
    "objective_funcntion.PNG": {
     "image/png": "[encoded data removed]"
    }
   },
   "cell_type": "markdown",
   "id": "df246c11",
   "metadata": {},
   "source": [
    "Now the **segmentation task becomes a search problem**: find the bit string that causes the text string to be correctly segmented into words. \n",
    "\n",
    "We assume the learner is acquiring words and storing them in an **internal lexicon**. Given a suitable lexicon, it is possible to **reconstruct the source text as a sequence of lexical items**. \n",
    "\n",
    "We can define an **objective function**: a scoring function whose value we will try to optimize, based on the size of the lexicon (number of characters in the words plus an extra delimiter character to mark the end of each word) and the amount of information needed to reconstruct the source text from the lexicon.\n",
    "\n",
    "![objective_funcntion.PNG](attachment:objective_funcntion.PNG)"
   ]
  },
  {
   "cell_type": "code",
   "execution_count": 34,
   "id": "ff3820d3",
   "metadata": {
    "scrolled": true
   },
   "outputs": [
    {
     "name": "stdout",
     "output_type": "stream",
     "text": [
      "Original text:\n",
      "doyouseethekittyseethedoggydoyoulikethekittylikethedoggy\n",
      "\n",
      "Sentence-level boolean representation:\n",
      "0000000000000001000000000010000000000000000100000000000\n",
      "\n",
      "Sentence-level segmentation back to text:\n",
      "['doyouseethekitty', 'seethedoggy', 'doyoulikethekitty', 'likethedoggy']\n",
      "\n",
      "Evaluation score of the sentence-level segmentation:\n",
      "64\n",
      "\n",
      "Word-level boolean representation:\n",
      "0100100100100001001001000010100100010010000100010010000\n",
      "\n",
      "Word-level segmentation back to text:\n",
      "['do', 'you', 'see', 'the', 'kitty', 'see', 'the', 'doggy', 'do', 'you', 'like', 'the', 'kitty', 'like', 'the', 'doggy']\n",
      "\n",
      "Evaluation score of the word-level segmentation:\n",
      "48\n",
      "\n",
      "Random boolean representation:\n",
      "0000100100000011001000000110000100010000001100010000001\n",
      "\n",
      "Resulted segmented-text:\n",
      "['doyou', 'see', 'thekitt', 'y', 'see', 'thedogg', 'y', 'doyou', 'like', 'thekitt', 'y', 'like', 'thedogg', 'y']\n",
      "\n",
      "Evaluation score of the segmentation:\n",
      "47\n",
      "\n"
     ]
    }
   ],
   "source": [
    "def evaluate(text, segs):\n",
    "    \"\"\"Evaluate segmentation quality.\"\"\"\n",
    "    \n",
    "    # obtain words back from segemented strings\n",
    "    words = segment(text, segs)\n",
    "    # count the number of words\n",
    "    text_size = len(words)\n",
    "    # sum the characters of each word plus a boundary and remove duplicates\n",
    "    lexicon_size = sum(len(word) + 1 for word in set(words))\n",
    "    # return the sum of text and lexicon size\n",
    "    return text_size + lexicon_size\n",
    "\n",
    "# random segmentation example\n",
    "seg3 = \"0000100100000011001000000110000100010000001100010000001\"\n",
    "\n",
    "print(\"Original text:\\n{}\\n\".format(text))\n",
    "\n",
    "print(\"Sentence-level boolean representation:\\n{}\\n\".format(seg1))\n",
    "print(\"Sentence-level segmentation back to text:\\n{}\\n\".format(segment(text, seg1)))\n",
    "print(\"Evaluation score of the sentence-level segmentation:\\n{}\\n\".format(evaluate(text, seg1)))\n",
    "\n",
    "print(\"Word-level boolean representation:\\n{}\\n\".format(seg2))\n",
    "print(\"Word-level segmentation back to text:\\n{}\\n\".format(segment(text, seg2)))\n",
    "print(\"Evaluation score of the word-level segmentation:\\n{}\\n\".format(evaluate(text, seg2)))\n",
    "\n",
    "print(\"Random boolean representation:\\n{}\\n\".format(seg3))\n",
    "print(\"Resulted segmented-text:\\n{}\\n\".format(segment(text, seg3)))\n",
    "print(\"Evaluation score of the segmentation:\\n{}\\n\".format(evaluate(text, seg3)))"
   ]
  },
  {
   "cell_type": "markdown",
   "id": "b183343b",
   "metadata": {},
   "source": [
    "The final step is to **search for the pattern of zeros and ones that minimizes this objective function**.\n",
    "\n",
    "**Smaller values** of the score indicate a **better segmentation**."
   ]
  },
  {
   "cell_type": "markdown",
   "id": "7d5e5743",
   "metadata": {},
   "source": [
    "**Non-Deterministic Search Using Simulated Annealing**: \n",
    "1. Begin searching with phrase segmentations only.\n",
    "1. Randomly perturb the zeros and ones proportional to the \"temperature\" \n",
    "1. With each iteration the temperature is lowered and the perturbation of boundaries is reduced.\n",
    "\n",
    "**Simulated annealing** is a heuristic for finding a good approximation to the optimum value of a function in a large, discrete search space, based on an **analogy with annealing in metallurgy**. "
   ]
  },
  {
   "cell_type": "code",
   "execution_count": 51,
   "id": "7a787cbe",
   "metadata": {
    "scrolled": true
   },
   "outputs": [
    {
     "name": "stdout",
     "output_type": "stream",
     "text": [
      "Original text:\n",
      "doyouseethekittyseethedoggydoyoulikethekittylikethedoggy\n",
      "\n",
      "Random boolean representation:\n",
      "0000000000000001000000000010000000000000000100000000000\n",
      "\n",
      "Optimizing segmentation:\n",
      "\n",
      "64 ['doyouseethekitty', 'seethedoggy', 'doyoulikethekitty', 'likethedoggy']\n",
      "64 ['doyouseethekitty', 'seethedoggy', 'doyoulikethekitty', 'likethedoggy']\n",
      "64 ['doyouseethekitty', 'seethedoggy', 'doyoulikethekitty', 'likethedoggy']\n",
      "64 ['doyouseethekitty', 'seethedoggy', 'doyoulikethekitty', 'likethedoggy']\n",
      "64 ['doyouseethekitty', 'seethedoggy', 'doyoulikethekitty', 'likethedoggy']\n",
      "64 ['doyouseethekitty', 'seethedoggy', 'doyoulikethekitty', 'likethedoggy']\n",
      "64 ['doyouseethekitty', 'seethedoggy', 'doyoulikethekitty', 'likethedoggy']\n",
      "63 ['doyouseethekitty', 'seeth', 'edoggy', 'doyoulikethekittyl', 'i', 'keth', 'edoggy']\n",
      "62 ['doyouseethekitt', 'yseeth', 'edoggy', 'doyoul', 'i', 'keth', 'ekittyl', 'i', 'keth', 'edoggy']\n",
      "62 ['doyouseethekitt', 'yseeth', 'edoggy', 'doyoul', 'i', 'keth', 'ekittyl', 'i', 'keth', 'edoggy']\n",
      "62 ['doyouseethekitt', 'yseeth', 'edoggy', 'doyoul', 'i', 'keth', 'ekittyl', 'i', 'keth', 'edoggy']\n",
      "62 ['doyouseethekitt', 'yseeth', 'edoggy', 'doyoul', 'i', 'keth', 'ekittyl', 'i', 'keth', 'edoggy']\n",
      "62 ['doyouseethekitt', 'yseeth', 'edoggy', 'doyoul', 'i', 'keth', 'ekittyl', 'i', 'keth', 'edoggy']\n",
      "60 ['doyouseethekittyseeth', 'edoggy', 'doyoul', 'i', 'keth', 'ekittyl', 'i', 'keth', 'edoggy']\n",
      "58 ['doyouseethekittyseeth', 'edoggy', 'doyouli', 'keth', 'ekittyli', 'keth', 'edoggy']\n",
      "56 ['doyou', 'seethekittyseeth', 'edoggy', 'doyou', 'li', 'keth', 'ekittyli', 'keth', 'edoggy']\n",
      "55 ['doyou', 'seethekittyseeth', 'edoggy', 'doyou', 'li', 'keth', 'ekitty', 'li', 'keth', 'edoggy']\n",
      "46 ['doyou', 'seeth', 'ekitty', 'seeth', 'edoggy', 'doyou', 'li', 'keth', 'ekitty', 'li', 'keth', 'edoggy']\n",
      "43 ['doyou', 'seeth', 'ekitty', 'seeth', 'edoggy', 'doyou', 'liketh', 'ekitty', 'liketh', 'edoggy']\n",
      "43 ['doyou', 'seeth', 'ekitty', 'seeth', 'edoggy', 'doyou', 'liketh', 'ekitty', 'liketh', 'edoggy']\n",
      "43 ['doyou', 'seeth', 'ekitty', 'seeth', 'edoggy', 'doyou', 'liketh', 'ekitty', 'liketh', 'edoggy']\n",
      "43 ['doyou', 'seeth', 'ekitty', 'seeth', 'edoggy', 'doyou', 'liketh', 'ekitty', 'liketh', 'edoggy']\n",
      "43 ['doyou', 'seeth', 'ekitty', 'seeth', 'edoggy', 'doyou', 'liketh', 'ekitty', 'liketh', 'edoggy']\n",
      "43 ['doyou', 'seeth', 'ekitty', 'seeth', 'edoggy', 'doyou', 'liketh', 'ekitty', 'liketh', 'edoggy']\n",
      "43 ['doyou', 'seeth', 'ekitty', 'seeth', 'edoggy', 'doyou', 'liketh', 'ekitty', 'liketh', 'edoggy']\n",
      "43 ['doyou', 'seeth', 'ekitty', 'seeth', 'edoggy', 'doyou', 'liketh', 'ekitty', 'liketh', 'edoggy']\n",
      "\n",
      "Segmentation has been optimized.\n",
      "\n",
      "The resulting segmentations is:\n",
      "0000100001000001000010000010000100000100000100000100000\n",
      "\n"
     ]
    }
   ],
   "source": [
    "from random import randint\n",
    "\n",
    "def flip(segs, pos):\n",
    "    \"\"\"\"\"\"\n",
    "    \n",
    "    #\n",
    "    return segs[:pos] + str(1-int(segs[pos])) + segs[pos+1:]\n",
    "\n",
    "\n",
    "def flip_n(segs, n):\n",
    "    \"\"\"\"\"\"\n",
    "    #\n",
    "    for i in range(n):\n",
    "        #\n",
    "        segs = flip(segs, randint(0, len(segs)-1))\n",
    "    \n",
    "    #\n",
    "    return segs\n",
    "\n",
    "\n",
    "def anneal(text, segs, iterations, cooling_rate):\n",
    "    \"\"\"\"\"\"\n",
    "    \n",
    "    #\n",
    "    temperature = float(len(segs))\n",
    "    #\n",
    "    while temperature > 0.5:\n",
    "        #\n",
    "        best_segs, best = segs, evaluate(text, segs)\n",
    "        \n",
    "        # \n",
    "        for i in range(iterations):\n",
    "            #\n",
    "            guess = flip_n(segs, round(temperature))\n",
    "            #\n",
    "            score = evaluate(text, guess)\n",
    "            \n",
    "            #\n",
    "            if score < best:\n",
    "                #\n",
    "                best, best_segs = score, guess\n",
    "                \n",
    "        #\n",
    "        score, segs = best, best_segs\n",
    "        #\n",
    "        temperature = temperature / cooling_rate\n",
    "        \n",
    "        #\n",
    "        print(evaluate(text, segs), segment(text, segs))\n",
    "        \n",
    "    # inform user that segmentation optimization process has finished\n",
    "    print(\"\\nSegmentation has been optimized.\\n\")\n",
    "    \n",
    "    #\n",
    "    return print(\"The resulting segmentations is:\\n{}\\n\".format(segs))\n",
    "\n",
    "# initialize a random segmentation\n",
    "random_segm = \"0000000000000001000000000010000000000000000100000000000\"\n",
    "\n",
    "# print information\n",
    "print(\"Original text:\\n{}\\n\".format(text))\n",
    "print(\"Random boolean representation:\\n{}\\n\".format(random_segm))\n",
    "\n",
    "# invoke function\n",
    "print(\"Optimizing segmentation:\\n\")\n",
    "anneal(text, random_segm, 5000, 1.2)"
   ]
  },
  {
   "cell_type": "markdown",
   "id": "78524a46",
   "metadata": {},
   "source": [
    "Notice that **the best segmentation includes \"words\" like thekitty**, since there's **not enough evidence in the data to split this any further**.\n",
    "\n",
    "**With enough data**, it is possible to **automatically segment text into words with a reasonable degree of accuracy**. \n",
    "\n",
    "Such methods can be applied to **tokenization for writing systems that don't have any visual representation of word boundaries**."
   ]
  },
  {
   "cell_type": "markdown",
   "id": "4d76b60c",
   "metadata": {},
   "source": [
    "<a name=\"Formatting\"></a>\n",
    "## 3.9 Formatting: From Lists to Strings\n",
    "1. [From Lists to Strings](#List2String)\n",
    "1. [Strings and Formats](#StringFormats)\n",
    "1. [Lining Things Up](#Lining)\n",
    "1. [Writing Results to a File](#File)\n",
    "1. [Text Wrapping](#Wrapping)\n",
    "\n",
    "When the **results to be presented** are **linguistic**, **textual output** is usually the most natural choice. \n",
    "\n",
    "However, when the results are **numerical**, it may be preferable to produce **graphical** output."
   ]
  },
  {
   "cell_type": "markdown",
   "id": "d2f155c5",
   "metadata": {},
   "source": [
    "<a name=\"List2String\"></a>\n",
    "###  3.9.1 From Lists to Strings\n",
    "**`()join`**\n",
    "\n",
    "The **simplest kind** of structured object we use for text processing is **lists of words**. \n",
    "\n",
    "When we want to **output these** to a display or a file, we must **convert these lists into strings**. \n",
    "\n",
    "The `join()` method only works on a **list of strings**."
   ]
  },
  {
   "cell_type": "code",
   "execution_count": 53,
   "id": "935df5e3",
   "metadata": {},
   "outputs": [
    {
     "name": "stdout",
     "output_type": "stream",
     "text": [
      "We called him Tortoise because he taught us . \n",
      "\n",
      "We;called;him;Tortoise;because;he;taught;us;.\n"
     ]
    }
   ],
   "source": [
    "# create a list of tokens\n",
    "silly = ['We', 'called', 'him', 'Tortoise', 'because', 'he', 'taught', 'us', '.']\n",
    "\n",
    "# 'glue' them into a string\n",
    "print(' '.join(silly), \"\\n\")\n",
    "\n",
    "# 'glue' them into a string with specified delimiter\n",
    "print(';'.join(silly))"
   ]
  },
  {
   "cell_type": "markdown",
   "id": "d09b89e6",
   "metadata": {},
   "source": [
    "<a name=\"StringFormats\"></a>\n",
    "###  3.9.2 Strings and Formats"
   ]
  },
  {
   "cell_type": "markdown",
   "id": "430665ab",
   "metadata": {},
   "source": [
    "There are two ways of **displaying the contents of an object**:\n",
    "\n",
    "1. **`print()`** command yields Python's attempt to produce **the most human-readable form of an object**. \n",
    "\n",
    "2. **naming the variable at a prompt** shows us a string that can be used to recreate this object. \n",
    "\n",
    "It is important to keep in mind that **both of these are just strings**, displayed for the benefit of you, the user. They **do not give us any clue as to the actual internal representation of the object**."
   ]
  },
  {
   "cell_type": "code",
   "execution_count": 55,
   "id": "8a381a41",
   "metadata": {},
   "outputs": [
    {
     "name": "stdout",
     "output_type": "stream",
     "text": [
      "Hello \n",
      "\n",
      "The type of the variable word is: <class 'str'>\n",
      "\n"
     ]
    },
    {
     "data": {
      "text/plain": [
       "'Hello'"
      ]
     },
     "execution_count": 55,
     "metadata": {},
     "output_type": "execute_result"
    }
   ],
   "source": [
    "# create string\n",
    "word = 'Hello'\n",
    "\n",
    "# display with print\n",
    "print(word, \"\\n\")\n",
    "\n",
    "# check the var type\n",
    "print(\"The type of the variable word is: {}\\n\".format(type(word)))\n",
    "\n",
    "# display with just naming\n",
    "word"
   ]
  },
  {
   "cell_type": "markdown",
   "id": "a48f5934",
   "metadata": {},
   "source": [
    "There are many other useful ways to display an object as a string of characters. \n",
    "\n",
    "This may be for the **benefit of a human reader**, or because we want to **export our data to a particular file format for use in an external program**.\n",
    "\n",
    "**Formatted output** typically contains a **combination of variables and pre-specified strings**."
   ]
  },
  {
   "cell_type": "code",
   "execution_count": 58,
   "id": "70e467f8",
   "metadata": {},
   "outputs": [
    {
     "name": "stdout",
     "output_type": "stream",
     "text": [
      "cat -> 3; dog -> 4; snake -> 1; "
     ]
    }
   ],
   "source": [
    "from nltk import FreqDist\n",
    "\n",
    "# create a FreqDist\n",
    "fdist = FreqDist(['dog', 'cat', 'dog', 'cat', 'dog', 'snake', 'dog', 'cat'])\n",
    "\n",
    "# print each word with a predefined output\n",
    "for word in sorted(fdist):\n",
    "    print(word, '->', fdist[word], end='; ')"
   ]
  },
  {
   "cell_type": "markdown",
   "id": "45bd58b9",
   "metadata": {},
   "source": [
    "**Print statements** that contain alternating variables and constants can be **difficult to read and maintain**. \n",
    "\n",
    "Another solution is to use **string formatting**."
   ]
  },
  {
   "cell_type": "code",
   "execution_count": 59,
   "id": "bdb5719b",
   "metadata": {},
   "outputs": [
    {
     "name": "stdout",
     "output_type": "stream",
     "text": [
      "cat->3 dog->4 snake->1 "
     ]
    }
   ],
   "source": [
    "# print each word using string formatting\n",
    "for word in sorted(fdist):\n",
    "    print('{}->{}'.format(word, fdist[word]), end=\" \")"
   ]
  },
  {
   "cell_type": "markdown",
   "id": "57b55f44",
   "metadata": {},
   "source": [
    "The **curly brackets `'{}'`** mark the presence of a **replacement field**.\n",
    "\n",
    "This acts as a placeholder for the string values of objects that are passed to the **`str.format()`** method. \n",
    "\n",
    "A string containing replacement fields is called a **format string**.\n",
    "\n",
    "The **field name** in a format string can start with a **number**, which refers to a **positional argument of `format()`**. "
   ]
  },
  {
   "cell_type": "code",
   "execution_count": 62,
   "id": "435f3d35",
   "metadata": {},
   "outputs": [
    {
     "data": {
      "text/plain": [
       "'from B to A'"
      ]
     },
     "execution_count": 62,
     "metadata": {},
     "output_type": "execute_result"
    }
   ],
   "source": [
    "# A = index 0, B = index 1\n",
    "'from {1} to {0}'.format('A', 'B')"
   ]
  },
  {
   "cell_type": "markdown",
   "id": "b9278d83",
   "metadata": {},
   "source": [
    "We can also **provide the values for the placeholders indirectly**."
   ]
  },
  {
   "cell_type": "code",
   "execution_count": 63,
   "id": "477d529e",
   "metadata": {},
   "outputs": [
    {
     "name": "stdout",
     "output_type": "stream",
     "text": [
      "Lee wants a sandwich right now.\n",
      "Lee wants a spam fritter right now.\n",
      "Lee wants a pancake right now.\n"
     ]
    }
   ],
   "source": [
    "# create a string with placeholder\n",
    "template = 'Lee wants a {} right now.'\n",
    "\n",
    "# create a list of values for the placeholder\n",
    "menu = ['sandwich', 'spam fritter', 'pancake']\n",
    "\n",
    "# replace the placeholder with list element\n",
    "for snack in menu:\n",
    "    print(template.format(snack))"
   ]
  },
  {
   "cell_type": "markdown",
   "id": "213a1a4b",
   "metadata": {},
   "source": [
    "<a name=\"Lining\"></a>\n",
    "###  3.9.3 Lining Things Up"
   ]
  },
  {
   "cell_type": "markdown",
   "id": "e2a17554",
   "metadata": {},
   "source": [
    "So far our format strings generated output of **arbitrary width** on the page (or screen). \n",
    "\n",
    "We can add **padding** to obtain output of a given width by inserting into the brackets a colon **`':'` followed by an integer**. \n",
    "\n",
    "It is **right-justified by default for numbers**, but we can precede the width specifier with a **`'<'`** alignment option to make numbers **left-justified**.\n",
    "\n",
    "**Strings are left-justified by default**, but can be **right-justified** with the **`'>'`** alignment option.\n",
    "\n",
    "Other control characters can be used to specify the **sign and precision of floating point numbers**.\n",
    "\n",
    "*A list with all the **formatting options** can be found [here](https://www.w3schools.com/python/ref_string_format.asp).*"
   ]
  },
  {
   "cell_type": "code",
   "execution_count": 71,
   "id": "dc00b698",
   "metadata": {
    "scrolled": true
   },
   "outputs": [
    {
     "name": "stdout",
     "output_type": "stream",
     "text": [
      "A number with a width of 6:\n",
      "'    41'\n",
      "\n",
      "A number with a width of 6 and aligned left:\n",
      "'41    '\n",
      "\n",
      "A floating-point number rounded to 2 decimal places:\n",
      "41.12\n"
     ]
    }
   ],
   "source": [
    "# print a number with width of 6\n",
    "print(\"A number with a width of 6:\\n'{:6}'\\n\".format(41))\n",
    "\n",
    "# print the same as above but with left-alignment\n",
    "print(\"A number with a width of 6 and aligned left:\\n'{:<6}'\\n\".format(41))\n",
    "\n",
    "# print a floating-point number with a specified number of decimals\n",
    "print(\"A floating-point number rounded to 2 decimal places:\\n{:.2f}\".format(41.123123))"
   ]
  },
  {
   "cell_type": "markdown",
   "id": "f51c5fd9",
   "metadata": {},
   "source": [
    "The string formatting is **smart enough** to know that if you include a **`%`** in your format specification, then you want to **represent the value as a percentage**; there's **no need to multiply by 100**."
   ]
  },
  {
   "cell_type": "code",
   "execution_count": 74,
   "id": "3c9ca843",
   "metadata": {},
   "outputs": [
    {
     "data": {
      "text/plain": [
       "'Accuracy for 9375 words: 34.19%'"
      ]
     },
     "execution_count": 74,
     "metadata": {},
     "output_type": "execute_result"
    }
   ],
   "source": [
    "# assign variables\n",
    "count, total = 3205, 9375\n",
    "\n",
    "# format number as a % rounded to 2 decimal places\n",
    "\"Accuracy for {} words: {:.2%}\".format(total, count / total)"
   ]
  },
  {
   "cell_type": "markdown",
   "id": "85f75168",
   "metadata": {},
   "source": [
    "An important use of formatting strings is for **tabulating data**. \n",
    "\n",
    "This gives us **full control of headings and column widths**.\n",
    "\n",
    "_Note the **clear separation between the language processing work, and the tabulation of results**._"
   ]
  },
  {
   "cell_type": "code",
   "execution_count": 78,
   "id": "0167c76a",
   "metadata": {
    "scrolled": true
   },
   "outputs": [
    {
     "name": "stdout",
     "output_type": "stream",
     "text": [
      "Category            can  could    may  might   must   will \n",
      "news                 93     86     66     38     50    389 \n",
      "religion             82     59     78     12     54     71 \n",
      "hobbies             268     58    131     22     83    264 \n",
      "science_fiction      16     49      4     12      8     16 \n",
      "romance              74    193     11     51     45     43 \n",
      "humor                16     30      8      8      9     13 \n"
     ]
    }
   ],
   "source": [
    "from nltk import ConditionalFreqDist\n",
    "\n",
    "def tabulate(cfdist, words, categories):\n",
    "    \n",
    "    # column headings\n",
    "    print('{:16}'.format('Category'), end=' ')\n",
    "    \n",
    "    # for each word\n",
    "    for word in words:\n",
    "        print('{:>6}'.format(word), end=' ')\n",
    "    print()\n",
    "    \n",
    "    # row heading\n",
    "    for category in categories:\n",
    "        print('{:16}'.format(category), end=' ')\n",
    "        # for each word\n",
    "        for word in words:\n",
    "            # print table cell\n",
    "            print('{:6}'.format(cfdist[category][word]), end=' ')\n",
    "        print()\n",
    "            \n",
    "# create a CFD\n",
    "cfd = ConditionalFreqDist(\n",
    "        (genre, word)\n",
    "        for genre in brown.categories()\n",
    "        for word in brown.words(categories=genre)\n",
    ")\n",
    "\n",
    "# create a list of genres\n",
    "genres = ['news', 'religion', 'hobbies', 'science_fiction', 'romance', 'humor']\n",
    "\n",
    "# create a list of modals\n",
    "modals = ['can', 'could', 'may', 'might', 'must', 'will']\n",
    "\n",
    "# invoke function\n",
    "tabulate(cfd, modals, genres)"
   ]
  },
  {
   "cell_type": "markdown",
   "id": "d9344646",
   "metadata": {},
   "source": [
    "Recall that we can use a format string `'{:{width}}'` and bound a value to the **width parameter** in `format()`. This allows us to **specify the width of a field using a variable**."
   ]
  },
  {
   "cell_type": "code",
   "execution_count": 83,
   "id": "cc9c7dc8",
   "metadata": {},
   "outputs": [
    {
     "data": {
      "text/plain": [
       "'Monty Python   '"
      ]
     },
     "execution_count": 83,
     "metadata": {},
     "output_type": "execute_result"
    }
   ],
   "source": [
    "'{:{width}}'.format('Monty Python', width=15)"
   ]
  },
  {
   "cell_type": "markdown",
   "id": "e9c50866",
   "metadata": {},
   "source": [
    "We could use this to **automatically customize the column** to be just wide enough to accommodate all the words, using **`width = max(len(w) for w in words)`**."
   ]
  },
  {
   "cell_type": "markdown",
   "id": "f6b74837",
   "metadata": {},
   "source": [
    "<a name=\"File\"></a>\n",
    "###  3.9.4 Writing Results to a File"
   ]
  },
  {
   "cell_type": "markdown",
   "id": "f6df411b",
   "metadata": {},
   "source": [
    "It is often useful to **write output to files**."
   ]
  },
  {
   "cell_type": "code",
   "execution_count": 85,
   "id": "8aea9c2e",
   "metadata": {},
   "outputs": [],
   "source": [
    "from nltk.corpus import genesis\n",
    "\n",
    "# create, or read if already exists, an output file \n",
    "output_file = open('output.txt', 'w')\n",
    "\n",
    "# get some words\n",
    "words = set(genesis.words('english-kjv.txt'))\n",
    "\n",
    "# print words to output file\n",
    "for word in sorted(words):\n",
    "    print(word, file=output_file)"
   ]
  },
  {
   "cell_type": "markdown",
   "id": "12f30b44",
   "metadata": {},
   "source": [
    "When we write **non-text data to a file** we must **convert it to a string first**."
   ]
  },
  {
   "cell_type": "code",
   "execution_count": 92,
   "id": "0140df0d",
   "metadata": {},
   "outputs": [
    {
     "name": "stdout",
     "output_type": "stream",
     "text": [
      "The length of words is: 2789.\n",
      "\n"
     ]
    }
   ],
   "source": [
    "# create, or read if already exists, an output file \n",
    "output_file = open('output1.txt', 'w')\n",
    "\n",
    "# find the length of words\n",
    "print(\"The length of words is: {}.\\n\".format(len(words)))\n",
    "\n",
    "# convert number to string\n",
    "length_str = str(len(words))\n",
    "\n",
    "# print to output file\n",
    "print(length_str, file=output_file)"
   ]
  },
  {
   "cell_type": "markdown",
   "id": "8ba2600e",
   "metadata": {},
   "source": [
    "<a name=\"Wrapping\"></a>\n",
    "###  3.9.5 Text Wrapping"
   ]
  },
  {
   "cell_type": "markdown",
   "id": "023f93e7",
   "metadata": {},
   "source": [
    "When the output of our program is **text-like**, instead of tabular, it will usually be **necessary to wrap it** so that it can be displayed conveniently."
   ]
  },
  {
   "cell_type": "code",
   "execution_count": 99,
   "id": "46556379",
   "metadata": {},
   "outputs": [
    {
     "name": "stdout",
     "output_type": "stream",
     "text": [
      "After (5), all (3), is (2), said (4), and (3), done (4), , (1), more (4), is (2), said (4), than (4), done (4), "
     ]
    }
   ],
   "source": [
    "# create a list of words\n",
    "saying = ['After', 'all', 'is', 'said', 'and', 'done', ',', 'more',\n",
    "         'is', 'said', 'than', 'done']\n",
    "\n",
    "# print each word with its length in parentheses\n",
    "for word in saying:\n",
    "    print(word, '(' + str(len(word)) + '),', end=' ')"
   ]
  },
  {
   "cell_type": "markdown",
   "id": "ce0482b3",
   "metadata": {},
   "source": [
    "We can take care of line wrapping with the help of Python's **`textwrap`** module.\n",
    "\n",
    "It can be used for **wrapping and formatting of plain text**. \n",
    "\n",
    "This module provides formatting of text by **adjusting the line breaks in the input paragraph**.\n",
    "\n",
    "_More info on **`textwrap`** can be found [here](https://www.geeksforgeeks.org/textwrap-text-wrapping-filling-python/)._"
   ]
  },
  {
   "cell_type": "code",
   "execution_count": 108,
   "id": "7f1a4494",
   "metadata": {
    "scrolled": true
   },
   "outputs": [
    {
     "name": "stdout",
     "output_type": "stream",
     "text": [
      "Original text of type <class 'str'>:\n",
      "Hello there!\n",
      "How are you doing?\n",
      "Long time no see!\n",
      "\n",
      "Wrapped text of type <class 'list'>:\n",
      "['Hello there! How are you doing? Long time no see!']\n",
      "\n",
      "Filled text of type <class 'str'>:\n",
      "Hello there! How are you doing? Long time no see!\n",
      "\n"
     ]
    }
   ],
   "source": [
    "from textwrap import wrap, fill\n",
    "\n",
    "# createa a paragraph text\n",
    "paragraph = 'Hello there!\\nHow are you doing?\\nLong time no see!'\n",
    "print(\"Original text of type {}:\\n{}\\n\".format(type(paragraph), paragraph))\n",
    "\n",
    "# wrap text\n",
    "wrapped_text = wrap(paragraph)\n",
    "print(\"Wrapped text of type {}:\\n{}\\n\".format(type(wrapped_text), wrapped_text))\n",
    "\n",
    "# wrap string\n",
    "filled_text = fill(paragraph)\n",
    "print(\"Filled text of type {1}:\\n{0}\\n\".format(filled_text, type(filled_text)))"
   ]
  }
 ],
 "metadata": {
  "kernelspec": {
   "display_name": "Python 3 (ipykernel)",
   "language": "python",
   "name": "python3"
  },
  "language_info": {
   "codemirror_mode": {
    "name": "ipython",
    "version": 3
   },
   "file_extension": ".py",
   "mimetype": "text/x-python",
   "name": "python",
   "nbconvert_exporter": "python",
   "pygments_lexer": "ipython3",
   "version": "3.9.7"
  }
 },
 "nbformat": 4,
 "nbformat_minor": 5
}
