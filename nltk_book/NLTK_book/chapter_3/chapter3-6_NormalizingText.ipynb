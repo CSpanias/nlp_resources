{
 "cells": [
  {
   "cell_type": "markdown",
   "id": "3f2dec07",
   "metadata": {},
   "source": [
    "# **Natural Language Processing with Python**\n",
    "by [CSpanias](https://cspanias.github.io/aboutme/) - 01/2022\n",
    "\n",
    "Content based on the [NLTK book](https://www.nltk.org/book/). <br>\n",
    "\n",
    "You can find Chapter 3 [here](https://www.nltk.org/book/ch03.html).\n",
    "\n",
    "# CONTENT\n",
    "\n",
    "1. Language Processing and Python\n",
    "2. Accessing Text Corpora and Lexical Resources\n",
    "3. Processing Raw Text\n",
    "    1. Accessing Text from the Web and from Disk\n",
    "    2. Strings: Text Processing at the Lowest Level\n",
    "    3. Text Processing with Unicode\n",
    "    4. Regular Expressions for Detecting Word Patterns\n",
    "    5. Useful Applications of Regural Expressions\n",
    "    6. [Normalizing Text](#Normalize)\n",
    "        1. [Stemmers](#Stemmers)\n",
    "        1. [Lemmatization](#Lemmatization)\n",
    "    7. [Regular Expressions for Tokenizing Text](#RegexTokens)\n",
    "        1. [Simple Approaches to Tokenization](#Simple)\n",
    "        2. [NLTK's Regular Expression Tokenizer](#Tokenizer)\n",
    "        3. [Further Issues with Tokenization](#Issues)"
   ]
  },
  {
   "cell_type": "markdown",
   "id": "385d370d",
   "metadata": {},
   "source": [
    "**Install**, **import** and **download NLTK**. <br>\n",
    "\n",
    "*Uncomment lines 2 and 5 if you haven't installed and downloaded NLTK yet.*"
   ]
  },
  {
   "cell_type": "code",
   "execution_count": 1,
   "id": "d2abe7cf",
   "metadata": {},
   "outputs": [],
   "source": [
    "# install nltk\n",
    "#!pip install nltk\n",
    "\n",
    "# load nltk\n",
    "import nltk\n",
    "\n",
    "# download nltk\n",
    "#nltk.download()"
   ]
  },
  {
   "cell_type": "markdown",
   "id": "d0276129",
   "metadata": {},
   "source": [
    "<a name=\"Normalize\"></a>\n",
    "## 3.6  Normalizing Text\n",
    "1. [Stemmers](#Stemmers)\n",
    "1. [Lemmatization](#Lemmatization)\n",
    "\n",
    "In earlier program examples we have often **converted text to lowercase** before doing anything with its words. <br>\n",
    "\n",
    "Often we want to go further than this, and **strip off any affixes**, a task known as **stemming**. \n",
    "\n",
    "A further step is to make sure that **the resulting form is a known word in a dictionary**, a task known as **lemmatization**."
   ]
  },
  {
   "cell_type": "code",
   "execution_count": 2,
   "id": "bb1aa1f7",
   "metadata": {},
   "outputs": [],
   "source": [
    "from nltk.tokenize import word_tokenize\n",
    "# define text\n",
    "raw = \"\"\"DENNIS: Listen, strange women lying in ponds distributing swords\n",
    "is no basis for a system of government.  Supreme executive power derives from\n",
    "a mandate from the masses, not from some farcical aquatic ceremony.\"\"\"\n",
    "\n",
    "# tokenize text\n",
    "tokens = word_tokenize(raw)"
   ]
  },
  {
   "cell_type": "markdown",
   "id": "61953cdf",
   "metadata": {},
   "source": [
    "<a name=\"Stemmers\"></a>\n",
    "###  3.6.1 Stemmers\n",
    "**`from nltk.stem import PorterStemmer, LancasterStemmer`**\n",
    "\n",
    "NLTK includes several **off-the-shelf stemmers**, and if you ever need a stemmer you should use one of these in preference to crafting your own using regular expressions, since these handle a wide range of irregular cases. \n",
    "\n",
    "The **Porter** and **Lancaster** stemmers follow **their own rules for stripping affixes**."
   ]
  },
  {
   "cell_type": "code",
   "execution_count": 3,
   "id": "03517e31",
   "metadata": {},
   "outputs": [
    {
     "name": "stdout",
     "output_type": "stream",
     "text": [
      "PorterStemmer:\n",
      "['denni', ':', 'listen', ',', 'strang', 'women', 'lie', 'in', 'pond', 'distribut', 'sword', 'is', 'no', 'basi', 'for', 'a', 'system', 'of', 'govern', '.', 'suprem', 'execut', 'power', 'deriv', 'from', 'a', 'mandat', 'from', 'the', 'mass', ',', 'not', 'from', 'some', 'farcic', 'aquat', 'ceremoni', '.']\n",
      "\n",
      "LancasterStemmer:\n",
      "['den', ':', 'list', ',', 'strange', 'wom', 'lying', 'in', 'pond', 'distribut', 'sword', 'is', 'no', 'bas', 'for', 'a', 'system', 'of', 'govern', '.', 'suprem', 'execut', 'pow', 'der', 'from', 'a', 'mand', 'from', 'the', 'mass', ',', 'not', 'from', 'som', 'farc', 'aqu', 'ceremony', '.']\n",
      "\n"
     ]
    }
   ],
   "source": [
    "from nltk.stem import PorterStemmer, LancasterStemmer\n",
    "\n",
    "# instantiate stemmers\n",
    "porter = PorterStemmer()\n",
    "lancaster = LancasterStemmer()\n",
    "\n",
    "# fit stemmers\n",
    "print(\"PorterStemmer:\\n{}\\n\".format([porter.stem(t) for t in tokens]))\n",
    "print(\"LancasterStemmer:\\n{}\\n\".format([lancaster.stem(t) for t in tokens]))"
   ]
  },
  {
   "cell_type": "markdown",
   "id": "586eac38",
   "metadata": {},
   "source": [
    "Observe that **the Porter stemmer correctly handles the word lying** (mapping it to lie), while the **Lancaster stemmer does not**.\n",
    "\n",
    "**Stemming is not a well-defined process**, and we typically pick the stemmer that best suits the application we have in mind. \n",
    "\n",
    "The **Porter Stemmer** is a good choice if you are indexing some texts and want to support **search using alternative forms of words**."
   ]
  },
  {
   "cell_type": "markdown",
   "id": "7c89b88e",
   "metadata": {},
   "source": [
    "<a name=\"Lemmatization\"></a>\n",
    "###  3.6.2 Lemmatization\n",
    "**`from nltk.stem import WordNetLemmatizer`**\n",
    "\n",
    "The **WordNet lemmatizer only removes affixes if the resulting word is in its dictionary**. \n",
    "\n",
    "This additional checking process makes the lemmatizer **slower than the above stemmers**."
   ]
  },
  {
   "cell_type": "code",
   "execution_count": 4,
   "id": "532093a7",
   "metadata": {},
   "outputs": [
    {
     "name": "stdout",
     "output_type": "stream",
     "text": [
      "Lemmatized tokens:\n",
      "['DENNIS', ':', 'Listen', ',', 'strange', 'woman', 'lying', 'in', 'pond', 'distributing', 'sword', 'is', 'no', 'basis', 'for', 'a', 'system', 'of', 'government', '.', 'Supreme', 'executive', 'power', 'derives', 'from', 'a', 'mandate', 'from', 'the', 'mass', ',', 'not', 'from', 'some', 'farcical', 'aquatic', 'ceremony', '.']\n"
     ]
    }
   ],
   "source": [
    "from nltk.stem import WordNetLemmatizer\n",
    "\n",
    "# instantiate Lemmatizer\n",
    "wnl = WordNetLemmatizer()\n",
    "\n",
    "# fit lemmatizer\n",
    "print(\"Lemmatized tokens:\\n{}\".format([wnl.lemmatize(t) for t in tokens]))"
   ]
  },
  {
   "cell_type": "markdown",
   "id": "3e885998",
   "metadata": {},
   "source": [
    "Notice that it **doesn't handle lying**, but it **converts women to woman**.\n",
    "\n",
    "The WordNet lemmatizer is a good choice if you want to **compile the vocabulary of some texts and want a list of valid lemmas** (or lexicon headwords)."
   ]
  },
  {
   "cell_type": "markdown",
   "id": "fb4f76da",
   "metadata": {},
   "source": [
    "Another **normalization task** involves **identifying non-standard words including numbers, abbreviations, and dates, and mapping any such tokens to a special vocabulary**. \n",
    "\n",
    "For example, every decimal number could be mapped to a single token 0.0, and every acronym could be mapped to AAA. \n",
    "\n",
    "This **keeps the vocabulary small** and **improves the accuracy of many language modeling tasks**."
   ]
  },
  {
   "cell_type": "markdown",
   "id": "d21c7153",
   "metadata": {},
   "source": [
    "<a name=\"RegexTokens\"></a>\n",
    "## 3.7 Regular Expressions for Tokenizing Text\n",
    "1. [Simple Approaches to Tokenization](#Simple)\n",
    "2. [NLTK's Regular Expression Tokenizer](#Tokenizer)\n",
    "3. [Further Issues with Tokenization](#Issues)\n",
    "\n",
    "**Tokenization** is the task of **cutting a string into identifiable linguistic units that constitute a piece of language data**. \n",
    "\n",
    "Although it is a **fundamental task**, it has been delayed until now because **many corpora are already tokenized**, and because **NLTK includes some tokenizers**. \n",
    "\n",
    "Using **regular expressions** for tokenizing text provides **much more control over the process**."
   ]
  },
  {
   "cell_type": "markdown",
   "id": "cf9e9f40",
   "metadata": {},
   "source": [
    "<a name=\"Simple\"></a>\n",
    "###  3.7.1 Simple Approaches to Tokenization\n",
    "\n",
    "The very **simplest method** for tokenizing text is to **split on whitespace**.\n",
    "\n",
    "We could split this raw text on whitespace using **`raw.split()`**. \n",
    "\n",
    "To do the same using a regex, it is not enough to match any space characters in the string since this results in **tokens that contain a `\\n`** (newline character). \n",
    "\n",
    "We need to **match any number of spaces, tabs, or newlines**."
   ]
  },
  {
   "cell_type": "code",
   "execution_count": 5,
   "id": "f7d38761",
   "metadata": {
    "scrolled": false
   },
   "outputs": [
    {
     "name": "stdout",
     "output_type": "stream",
     "text": [
      "Split on whitespace:\n",
      "[\"'When\", \"I'M\", 'a', \"Duchess,'\", 'she', 'said', 'to', 'herself,', '(not', 'in', 'a', 'very', 'hopeful', 'tone', 'though),', \"'I\", \"won't\", 'have', 'any', 'pepper', 'in', 'my', 'kitchen', 'AT', 'ALL.', 'Soup', 'does', 'very', 'well', 'without--Maybe', \"it's\", 'always', 'pepper', 'that', 'makes', 'people', \"hot-tempered,'...\"]\n",
      "\n",
      "Split just on whitespace with regex:\n",
      "[\"'When\", \"I'M\", 'a', \"Duchess,'\", 'she', 'said', 'to', 'herself,', '(not', 'in', 'a', 'very', 'hopeful', 'tone\\nthough),', \"'I\", \"won't\", 'have', 'any', 'pepper', 'in', 'my', 'kitchen', 'AT', 'ALL.', 'Soup', 'does', 'very\\nwell', 'without--Maybe', \"it's\", 'always', 'pepper', 'that', 'makes', 'people', \"hot-tempered,'...\"]\n",
      "\n",
      "Split on regex pattern:\n",
      "[\"'When\", \"I'M\", 'a', \"Duchess,'\", 'she', 'said', 'to', 'herself,', '(not', 'in', 'a', 'very', 'hopeful', 'tone', 'though),', \"'I\", \"won't\", 'have', 'any', 'pepper', 'in', 'my', 'kitchen', 'AT', 'ALL.', 'Soup', 'does', 'very', 'well', 'without--Maybe', \"it's\", 'always', 'pepper', 'that', 'makes', 'people', \"hot-tempered,'...\"]\n",
      "\n",
      "Split on regex pattern 's+':\n",
      "[\"'When\", \"I'M\", 'a', \"Duchess,'\", 'she', 'said', 'to', 'herself,', '(not', 'in', 'a', 'very', 'hopeful', 'tone', 'though),', \"'I\", \"won't\", 'have', 'any', 'pepper', 'in', 'my', 'kitchen', 'AT', 'ALL.', 'Soup', 'does', 'very', 'well', 'without--Maybe', \"it's\", 'always', 'pepper', 'that', 'makes', 'people', \"hot-tempered,'...\"]\n",
      "\n"
     ]
    }
   ],
   "source": [
    "import re\n",
    "\n",
    "# define text\n",
    "raw = \"\"\"'When I'M a Duchess,' she said to herself, (not in a very hopeful tone\n",
    "though), 'I won't have any pepper in my kitchen AT ALL. Soup does very\n",
    "well without--Maybe it's always pepper that makes people hot-tempered,'...\"\"\"\n",
    "\n",
    "# split on whitespace\n",
    "print(\"Split on whitespace:\\n{}\\n\".format(raw.split()))\n",
    "\n",
    "# split on whitespace with regex\n",
    "print(\"Split just on whitespace with regex:\\n{}\\n\".format(re.split(r\" \", raw)))\n",
    "\n",
    "# split on regex pattern, whitespace\\tab\\\n",
    "print(\"Split on regex pattern:\\n{}\\n\".format(re.split('[ \\t\\n]+', raw)))\n",
    "\n",
    "# split on regex pattern, s+ = any whitespace character\n",
    "print(\"Split on regex pattern 's+':\\n{}\\n\".format(re.split('\\s+', raw)))"
   ]
  },
  {
   "cell_type": "markdown",
   "id": "f9edbe55",
   "metadata": {},
   "source": [
    "The regular expression `[ \\t\\n]+`matches one or more space, tab (\\t) or newline (\\n). Other whitespace characters, such as **carriage-return** and **form-feed** should really be included too. \n",
    "\n",
    "Thus, a better idea would be to use a **built-in `re` abbreviation**, **`\\s`**, which means **any whitespace character**. The above statement can be rewritten as `re.split(r'\\s+', raw)`.\n",
    "\n",
    "Splitting on whitespace gives us tokens like **'(not'** and **'herself,'**. \n",
    "\n",
    "An alternative is to use the fact that Python provides us with a character class **`\\w`** for word characters, equivalent to `[a-zA-Z0-9_]`. \n",
    "\n",
    "It also **defines the complement** of this class **`\\W`**, i.e. **all characters other than** letters, digits or underscore."
   ]
  },
  {
   "cell_type": "code",
   "execution_count": 17,
   "id": "1913bc28",
   "metadata": {
    "scrolled": true
   },
   "outputs": [
    {
     "name": "stdout",
     "output_type": "stream",
     "text": [
      "Split on regex using '\\W+':\n",
      "['', 'When', 'I', 'M', 'a', 'Duchess', 'she', 'said', 'to', 'herself', 'not', 'in', 'a', 'very', 'hopeful', 'tone', 'though', 'I', 'won', 't', 'have', 'any', 'pepper', 'in', 'my', 'kitchen', 'AT', 'ALL', 'Soup', 'does', 'very', 'well', 'without', 'Maybe', 'it', 's', 'always', 'pepper', 'that', 'makes', 'people', 'hot', 'tempered', '']\n",
      "\n"
     ]
    }
   ],
   "source": [
    "print(\"Split on regex using '\\W+':\\n{}\\n\".format(re.split(r'\\W+',raw)))"
   ]
  },
  {
   "cell_type": "markdown",
   "id": "3d5a01da",
   "metadata": {},
   "source": [
    "Observe that this resulted in **empty strings** at the start and the end. \n",
    "\n",
    "We get the same tokens, but without the empty strings, with `re.findall(r'\\w+', raw)`, using a **pattern that matches the words instead of the spaces**. \n",
    "\n",
    "Now that we're matching the words, we're in a position to **extend the regular expression to cover a wider range of cases**.\n",
    "\n",
    "**Reminder**: *Parentheses have a second function: to select substrings to be extracted.*\n",
    "\n",
    "*If we want to use the parentheses to **specify the scope of the disjunction, but not to select the material to be output**, the **`?:`** symbol must be added.*"
   ]
  },
  {
   "cell_type": "code",
   "execution_count": 29,
   "id": "73134c9c",
   "metadata": {
    "scrolled": true
   },
   "outputs": [
    {
     "name": "stdout",
     "output_type": "stream",
     "text": [
      "Split on regex using '\\w+|\\S\\w*':\n",
      "[\"'When\", 'I', \"'M\", 'a', 'Duchess', ',', \"'\", 'she', 'said', 'to', 'herself', ',', '(not', 'in', 'a', 'very', 'hopeful', 'tone', 'though', ')', ',', \"'I\", 'won', \"'t\", 'have', 'any', 'pepper', 'in', 'my', 'kitchen', 'AT', 'ALL', '.', 'Soup', 'does', 'very', 'well', 'without', '-', '-Maybe', 'it', \"'s\", 'always', 'pepper', 'that', 'makes', 'people', 'hot', '-tempered', ',', \"'\", '.', '.', '.']\n",
      "\n",
      "Split on extended regex:\n",
      "[\"'\", 'When', \"I'M\", 'a', 'Duchess', ',', \"'\", 'she', 'said', 'to', 'herself', ',', '(', 'not', 'in', 'a', 'very', 'hopeful', 'tone', 'though', ')', ',', \"'\", 'I', \"won't\", 'have', 'any', 'pepper', 'in', 'my', 'kitchen', 'AT', 'ALL', '.', 'Soup', 'does', 'very', 'well', 'without', '--', 'Maybe', \"it's\", 'always', 'pepper', 'that', 'makes', 'people', 'hot-tempered', ',', \"'\", '...']\n",
      "\n"
     ]
    }
   ],
   "source": [
    "# 1. search for any sequence of word characters\n",
    "# 2. or, search for any non-whitespace character followed by any number of word characters\n",
    "print(\"Split on regex using '\\w+|\\S\\w*':\\n{}\\n\".format(re.findall(r'\\w+|\\S\\w*', raw)))\n",
    "\n",
    "# generalize regex to include word-internal hyphens and apostrophes\n",
    "# 1. search for one or more alphabetical characters\n",
    "# 2. followed by \"-\" or \"'\" \n",
    "# 3. followed by zero or more alphabetical characters\n",
    "# 4. or, search for a single \"'\"\n",
    "# 5. or, search for one or more \"-\", \"'\", or \"(\"\n",
    "# 6. or, search for any non-whitespace character\n",
    "# 7. followed by zero or more alphabetical characters\n",
    "print(\"Split on extended regex:\\n{}\\n\".\n",
    "      format(re.findall(r\"\\w+(?:[-']\\w+)*|'|[-.(]+|\\S\\w*\", raw)))"
   ]
  },
  {
   "attachments": {
    "regex_symbols.PNG": {
     "image/png": "[encoded data removed]"
    }
   },
   "cell_type": "markdown",
   "id": "79881f2c",
   "metadata": {},
   "source": [
    "![regex_symbols.PNG](attachment:regex_symbols.PNG)"
   ]
  },
  {
   "cell_type": "markdown",
   "id": "18cb20e8",
   "metadata": {},
   "source": [
    "<a name=\"Tokenizer\"></a>\n",
    "###  3.7.2 NLTK's Regular Expression Tokenizer\n",
    "**`from nltk.tokenize import regexp`**\n",
    "\n",
    "The function `nltk.regexp_tokenize()` is similar to `re.findall()` (when used for tokenization), but **more efficient** for this task, and **avoids the need for special treatment of parentheses**. "
   ]
  },
  {
   "cell_type": "code",
   "execution_count": 40,
   "id": "137b68ed",
   "metadata": {},
   "outputs": [
    {
     "name": "stdout",
     "output_type": "stream",
     "text": [
      "['That', 'U.S.A.', 'poster-print', 'costs', '$12.40', '...']\n"
     ]
    }
   ],
   "source": [
    "from nltk.tokenize import regexp_tokenize\n",
    "\n",
    "text = 'That U.S.A. poster-print costs $12.40...'\n",
    "\n",
    "# create pattern\n",
    "pattern = r'''(?x)     # set flag to allow verbose regexps\n",
    "    (?:[A-Z]\\.)+       # abbreviations, e.g. U.S.A.\n",
    "  | \\w+(?:-\\w+)*       # words with optional internal hyphens\n",
    "  | \\$?\\d+(?:\\.\\d+)?%? # currency and percentages, e.g. $12.40, 82%\n",
    "  | \\.\\.\\.             # ellipsis\n",
    "  | [][.,;\"'?():-_`]   # these are separate tokens; includes ], [\n",
    "'''\n",
    "\n",
    "# call function\n",
    "tokens = nltk.regexp_tokenize(text, pattern)\n",
    "print(tokens)"
   ]
  },
  {
   "cell_type": "markdown",
   "id": "57afcfe2",
   "metadata": {},
   "source": [
    "The special **`(?x)` \"verbose flag\"** tells Python to **strip out the embedded whitespace and comments**.\n",
    "\n",
    "When using the **verbose flag**, it is no longer possible to use **`' '`** to match a space character; so **`\\s`** must be used instead. \n",
    "\n",
    "The `regexp_tokenize()` has an **optional gaps parameter**. When set to True, the regular expression **specifies the gaps between tokens**, as with `re.split()`."
   ]
  },
  {
   "cell_type": "markdown",
   "id": "9cfc253c",
   "metadata": {},
   "source": [
    "We can **evaluate a tokenizer by comparing the resulting tokens with a wordlist**, and **reporting any tokens that don't appear in the wordlist**."
   ]
  },
  {
   "cell_type": "code",
   "execution_count": 44,
   "id": "a00152f7",
   "metadata": {},
   "outputs": [
    {
     "name": "stdout",
     "output_type": "stream",
     "text": [
      "The tokens that are not included in the wordlist are:\n",
      "{'poster-print', '...', 'costs', 'u.s.a.', '$12.40'}\n"
     ]
    }
   ],
   "source": [
    "from nltk.corpus import words\n",
    "\n",
    "# lower-case tokens\n",
    "tokens = [token.lower() for token in tokens]\n",
    "\n",
    "# check for tokens that are not included in words\n",
    "print(\"The tokens that are not included in the wordlist are:\\n{}\".\n",
    "      format(set(tokens).difference(words.words())))"
   ]
  },
  {
   "cell_type": "markdown",
   "id": "7a5ce57e",
   "metadata": {},
   "source": [
    "<a name=\"Issues\"></a>\n",
    "###  3.7.3 Further Issues with Tokenization\n",
    "Tokenization turns out to be a difficult task. No single solution works well across-the-board, and **we must decide what counts as a token depending on the application domain**.\n",
    "\n",
    "When developing a tokenizer it helps to have access to **raw text which has been manually tokenized**, in order to compare the output of your tokenizer with high-quality (or \"gold-standard\") tokens. \n",
    "\n",
    "The NLTK corpus collection includes a sample of **Penn Treebank data**, including the raw **Wall Street Journal text**(`nltk.corpus.treebank_raw.raw()`) and the **tokenized version** (`nltk.corpus.treebank.words()`).\n",
    "\n",
    "A final issue for tokenization is the presence of **contractions**, such as '**didn't**'. If we are analyzing the meaning of a sentence, it would probably be more useful to normalize this form to two separate forms: '**did**' and '**n't**' (or not). \n",
    "\n",
    "We can do this work with the help of a **lookup table**."
   ]
  }
 ],
 "metadata": {
  "kernelspec": {
   "display_name": "Python 3 (ipykernel)",
   "language": "python",
   "name": "python3"
  },
  "language_info": {
   "codemirror_mode": {
    "name": "ipython",
    "version": 3
   },
   "file_extension": ".py",
   "mimetype": "text/x-python",
   "name": "python",
   "nbconvert_exporter": "python",
   "pygments_lexer": "ipython3",
   "version": "3.9.7"
  }
 },
 "nbformat": 4,
 "nbformat_minor": 5
}
