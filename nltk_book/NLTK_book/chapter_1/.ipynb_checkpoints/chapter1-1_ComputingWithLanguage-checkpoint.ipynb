{
 "cells": [
  {
   "cell_type": "markdown",
   "id": "3f2dec07",
   "metadata": {},
   "source": [
    "# **Natural Language Processing with Python**\n",
    "by [CSpanias](https://cspanias.github.io/aboutme/) - 01/2022\n",
    "\n",
    "Content based on the [NLTK book](https://www.nltk.org/book/). <br>\n",
    "\n",
    "You can find Chapter 1 [here](https://www.nltk.org/book/ch01.html).\n",
    "\n",
    "# CONTENT\n",
    "1. [Language Processing and Python](#W1D1) <br>\n",
    "    1. [Computing with Language: Texts and Words](#ComputingwithLanguage1) <br>\n",
    "        1. [Getting Started with Python and NLTK](#GettingStarted) <br>\n",
    "        1. [Searching Text](#SearchingText) <br>\n",
    "        1. [Counting Vocabulary](#CountingVoc) <br>"
   ]
  },
  {
   "cell_type": "markdown",
   "id": "ab8b5c1b",
   "metadata": {},
   "source": [
    "<a name=\"ComputingwithLanguage1\"></a>\n",
    "## 1. Computing with Language: Texts and Words"
   ]
  },
  {
   "cell_type": "markdown",
   "id": "0fd0037c",
   "metadata": {},
   "source": [
    "<a name=\"GettingStarted\"></a>\n",
    "### 1.1 Getting Started with Python and NLTK"
   ]
  },
  {
   "cell_type": "markdown",
   "id": "3d53b04d",
   "metadata": {},
   "source": [
    "**Install**, **import** and **download NLTK**. <br>\n",
    "\n",
    ">Uncomment lines 2 and 5 if you haven't installed and downloaded NLTK yet."
   ]
  },
  {
   "cell_type": "code",
   "execution_count": 4,
   "id": "39126bc0",
   "metadata": {},
   "outputs": [],
   "source": [
    "# install nltk\n",
    "#!pip install nltk\n",
    "\n",
    "# load nltk\n",
    "import nltk\n",
    "\n",
    "# download nltk\n",
    "#nltk.download()"
   ]
  },
  {
   "cell_type": "markdown",
   "id": "59d177eb",
   "metadata": {},
   "source": [
    "Load all items (9 texts) from **NLTK' book module**."
   ]
  },
  {
   "cell_type": "code",
   "execution_count": 5,
   "id": "68c69572",
   "metadata": {},
   "outputs": [],
   "source": [
    "# load all items from NLTK’s book module.\n",
    "from nltk.book import *"
   ]
  },
  {
   "cell_type": "code",
   "execution_count": 15,
   "id": "c98483f9",
   "metadata": {},
   "outputs": [
    {
     "name": "stdout",
     "output_type": "stream",
     "text": [
      "<Text: Moby Dick by Herman Melville 1851>\n",
      "<Text: Chat Corpus>\n",
      "<Text: The Man Who Was Thursday by G . K . Chesterton 1908>\n"
     ]
    }
   ],
   "source": [
    "# check the title of the first book\n",
    "print(text1)\n",
    "\n",
    "# check the title of the fifth book\n",
    "print(text5)\n",
    "\n",
    "# check the title of the ninth (last) book\n",
    "print(text9)"
   ]
  },
  {
   "cell_type": "markdown",
   "id": "e044dab1",
   "metadata": {},
   "source": [
    "<a name=\"SearchingText\"></a>\n",
    "### 1.2 Searching Text\n",
    "**Concordance view** &rarr; shows **every occurrence** of a given word, together with some context.\n",
    "\n",
    "**Syntax**: `text.concordance(\"word\")` "
   ]
  },
  {
   "cell_type": "code",
   "execution_count": 16,
   "id": "04c70885",
   "metadata": {},
   "outputs": [
    {
     "name": "stdout",
     "output_type": "stream",
     "text": [
      "Displaying 11 of 11 matches:\n",
      "ong the former , one was of a most monstrous size . ... This came towards us , \n",
      "ON OF THE PSALMS . \" Touching that monstrous bulk of the whale or ork we have r\n",
      "ll over with a heathenish array of monstrous clubs and spears . Some were thick\n",
      "d as you gazed , and wondered what monstrous cannibal and savage could ever hav\n",
      "that has survived the flood ; most monstrous and most mountainous ! That Himmal\n",
      "they might scout at Moby Dick as a monstrous fable , or still worse and more de\n",
      "th of Radney .'\" CHAPTER 55 Of the Monstrous Pictures of Whales . I shall ere l\n",
      "ing Scenes . In connexion with the monstrous pictures of whales , I am strongly\n",
      "ere to enter upon those still more monstrous stories of them which are to be fo\n",
      "ght have been rummaged out of this monstrous cabinet there is no telling . But \n",
      "of Whale - Bones ; for Whales of a monstrous size are oftentimes cast up dead u\n"
     ]
    }
   ],
   "source": [
    "# get the concordance view of the word \"monstrous\" in text1\n",
    "text1.concordance(\"monstrous\")"
   ]
  },
  {
   "cell_type": "markdown",
   "id": "193b358a",
   "metadata": {},
   "source": [
    "A **concordance** shows us the word in context. What **other words** appear **in a similar range of contexts**? \n",
    "\n",
    "**Syntax**: `text.similar(\"word\")` "
   ]
  },
  {
   "cell_type": "code",
   "execution_count": 93,
   "id": "bdc117a4",
   "metadata": {
    "scrolled": true
   },
   "outputs": [
    {
     "name": "stdout",
     "output_type": "stream",
     "text": [
      "Words used within similar contexts with the word \"monstrous\" in text1:\n",
      "\n",
      "true contemptible christian abundant few part mean careful puzzled\n",
      "mystifying passing curious loving wise doleful gamesome singular\n",
      "delightfully perilous fearless\n"
     ]
    }
   ],
   "source": [
    "# check for words in a similar range of contexts with the word \"monstrous\" in text 1\n",
    "print('Words used within similar contexts with the word \"monstrous\" in text1:\\n')\n",
    "text1.similar(\"monstrous\")"
   ]
  },
  {
   "cell_type": "markdown",
   "id": "91602d92",
   "metadata": {},
   "source": [
    "We can also **examine just the shared contexts** of 2 or more words. \n",
    "\n",
    "**Syntax**: `text.common_contexts([\"word1\", \"word2\"])` "
   ]
  },
  {
   "cell_type": "code",
   "execution_count": 19,
   "id": "b4a2a571",
   "metadata": {},
   "outputs": [
    {
     "name": "stdout",
     "output_type": "stream",
     "text": [
      "No common contexts were found\n"
     ]
    }
   ],
   "source": [
    "# find the contexts shared by the two words\n",
    "text1.common_contexts([\"monstrous\", \"very\"])"
   ]
  },
  {
   "cell_type": "code",
   "execution_count": 20,
   "id": "6ae1ab77",
   "metadata": {},
   "outputs": [
    {
     "name": "stdout",
     "output_type": "stream",
     "text": [
      "am_glad a_pretty a_lucky is_pretty be_glad\n"
     ]
    }
   ],
   "source": [
    "# find the contexts shared by the two words\n",
    "text2.common_contexts([\"monstrous\", \"very\"])"
   ]
  },
  {
   "cell_type": "markdown",
   "id": "a2dce922",
   "metadata": {},
   "source": [
    "We can see visually the **location** of a word within a text, i.e. how many words from the beginning it appears. \n",
    "\n",
    "**Syntax**: `text.dispersion_plot(\"word\")` "
   ]
  },
  {
   "cell_type": "code",
   "execution_count": 21,
   "id": "3a00e666",
   "metadata": {
    "scrolled": true
   },
   "outputs": [
    {
     "data": {
      "image/png": "[encoded data removed]",
      "text/plain": [
       "<Figure size 432x288 with 1 Axes>"
      ]
     },
     "metadata": {
      "needs_background": "light"
     },
     "output_type": "display_data"
    }
   ],
   "source": [
    "# check the location of the word within the text\n",
    "text2.dispersion_plot([\"monstrous\", \"very\", \"vast\"])"
   ]
  },
  {
   "cell_type": "markdown",
   "id": "a8a60770",
   "metadata": {},
   "source": [
    "We can **generate random text** similar to an existing test style. \n",
    "\n",
    "**Syntax**: `text.generate()` "
   ]
  },
  {
   "cell_type": "code",
   "execution_count": 25,
   "id": "bb7ddb1b",
   "metadata": {},
   "outputs": [
    {
     "name": "stderr",
     "output_type": "stream",
     "text": [
      "Building ngram index...\n"
     ]
    },
    {
     "name": "stdout",
     "output_type": "stream",
     "text": [
      "objects , and especially the truth that democratic government has\n",
      "innate capacity to govern its affairs aright through the Province\n",
      "ceded , by any timid forebodings of evil were not to overtake them\n",
      "while I possess the property of the pecuniary estimates for the\n",
      "advancement of civilization . , religion and a reckless disregard of\n",
      "the Argonne , Omaha Beach , Salerno and halfway around the globe , and\n",
      "nothing is more important in the House and the special attention of\n",
      "the Government to interfere with the advice and equipment to free ones\n",
      "; to the public agents intrusted with\n"
     ]
    }
   ],
   "source": [
    "# generate random text with text's 4 style\n",
    "text4.generate(); # ';' is used to supress output"
   ]
  },
  {
   "cell_type": "markdown",
   "id": "f7eee82a",
   "metadata": {},
   "source": [
    "<a name=\"CountingVoc\"></a>\n",
    "### 1.3 Counting Vocabulary"
   ]
  },
  {
   "cell_type": "markdown",
   "id": "c111e4e3",
   "metadata": {},
   "source": [
    "We can find the length of the text, i.e. the number of words including punctuation symbols. \n",
    "\n",
    ">A **token** is the techical term for a **sequence of characters**.\n",
    "\n",
    "**Syntax**: `len(text)`"
   ]
  },
  {
   "cell_type": "code",
   "execution_count": 27,
   "id": "a27b2883",
   "metadata": {},
   "outputs": [
    {
     "data": {
      "text/plain": [
       "152901"
      ]
     },
     "execution_count": 27,
     "metadata": {},
     "output_type": "execute_result"
    }
   ],
   "source": [
    "# find the length of text4, i.e. number of tokens\n",
    "len(text4)"
   ]
  },
  {
   "cell_type": "markdown",
   "id": "8b411012",
   "metadata": {},
   "source": [
    "When we use `len(text)` we are including **duplicate tokens**. We can remove those, so we can find out how many **unique** tokens a text has.\n",
    "\n",
    "A **vocabulary** of a text, i.e. the unique words of the text, is just the **set of tokens** that is uses. \n",
    "\n",
    "**Syntax**: `set(text)`\n",
    "\n",
    ">**Set** is one of 4 built-in data types in Python used to store collections of data. The other 3 are: **List**, **Tuple**, and **Dictionary**. \n",
    "\n",
    "[More info about sets](https://www.w3schools.com/python/python_sets.asp)."
   ]
  },
  {
   "cell_type": "code",
   "execution_count": 94,
   "id": "4b0fd142",
   "metadata": {},
   "outputs": [
    {
     "name": "stdout",
     "output_type": "stream",
     "text": [
      "The length of text1 is: 260819.\n",
      "\n",
      "The length of text1 without duplicate tokens is: 19317.\n"
     ]
    }
   ],
   "source": [
    "# get the length of text1\n",
    "print(\"The length of text1 is: {}.\\n\".format(len(text1)))\n",
    "\n",
    "# get the length of text1 without duplicate tokens\n",
    "print(\"The length of text1 without duplicate tokens is: {}.\".format(len(set(text1))))"
   ]
  },
  {
   "cell_type": "markdown",
   "id": "4f1b1dbb",
   "metadata": {},
   "source": [
    "Text 1 has 260,819 tokens, but only 19,317 **unique items types**, i.e. **unique tokens**. Because our count includes punctuation symbols they are called **unique items types** and not **word types**.\n",
    "\n",
    ">A **word \"token\"** is a particular appearance of a given word in a text; we count word tokens using **len(text)**. <br>\n",
    "A **word \"type\"** is the unique form of the word as a particular sequence of letters - a unique item of vocabulary; we count word types using **len(set(text))**."
   ]
  },
  {
   "cell_type": "markdown",
   "id": "6d37114f",
   "metadata": {},
   "source": [
    "We can also **sort our words alphabetically or numerically**.\n",
    "\n",
    ">punctuation symbols &rarr; numbers &rarr; uppercase letters &rarr; lowercase letters\n",
    "\n",
    "**Syntax**: `sorted(text)`\n",
    "\n",
    "> `sorted(text)` returns a sorted list but it **does not affect the original** text | `text.sort()` **modifies the original** text and returns None."
   ]
  },
  {
   "cell_type": "code",
   "execution_count": 98,
   "id": "eabfa846",
   "metadata": {},
   "outputs": [
    {
     "name": "stdout",
     "output_type": "stream",
     "text": [
      "The first 10 tokens of text 1:\n",
      "['!', '!', '!', '!', '!', '!', '!', '!', '!', '!']\n",
      "\n",
      "The first 10 unique tokens of text 1:\n",
      "['!', '!\"', '!\"--', \"!'\", '!\\'\"', '!)', '!)\"', '!*', '!--', '!--\"']\n",
      "\n",
      "The last 10 tokens of text 1:\n",
      "['zone', 'zone', 'zone', 'zone', 'zone', 'zoned', 'zones', 'zones', 'zones', 'zoology']\n",
      "\n",
      "The last 10 unique tokens of text 1:\n",
      "['zag', 'zay', 'zeal', 'zephyr', 'zig', 'zodiac', 'zone', 'zoned', 'zones', 'zoology']\n"
     ]
    }
   ],
   "source": [
    "# get the first 10 tokens of text 1\n",
    "print(\"The first 10 tokens of text 1:\\n{}\".format(sorted(text1)[:10]))\n",
    "\n",
    "# get the first 10 unique tokens of text 1\n",
    "print(\"\\nThe first 10 unique tokens of text 1:\\n{}\".format(sorted(set(text1))[:10]))\n",
    "\n",
    "# get the last 10 tokens of text 1\n",
    "print(\"\\nThe last 10 tokens of text 1:\\n{}\".format(sorted(text1)[-10:]))\n",
    "\n",
    "# get the last 10 unique tokens of text 1\n",
    "print(\"\\nThe last 10 unique tokens of text 1:\\n{}\".format(sorted(set(text1))[-10:]))"
   ]
  },
  {
   "cell_type": "markdown",
   "id": "d304a599",
   "metadata": {},
   "source": [
    "We can calculate different measures of the **lexical richness** of a text.\n",
    "\n",
    "For example, **how many times a word is used on average**:\n",
    "\n",
    "**Syntax**: `len(set(text)) / len(text)`"
   ]
  },
  {
   "cell_type": "code",
   "execution_count": 99,
   "id": "452f6755",
   "metadata": {},
   "outputs": [
    {
     "name": "stdout",
     "output_type": "stream",
     "text": [
      "The averange number that a token is used within text1 is: 0.07406285585022564.\n",
      "\n"
     ]
    }
   ],
   "source": [
    "# number of words in text / number of words without duplicates of text\n",
    "print(\"The averange number that a token is used within text1 is: {}.\\n\".format(len(set(text1)) / len(text1)))"
   ]
  },
  {
   "cell_type": "markdown",
   "id": "f96b5857",
   "metadata": {},
   "source": [
    ">The averange number that a token is used within text1 is: 0.07406285585022564.\n",
    "\n",
    "That means that each word is used 1,352 (19,317 * 0.07) times on average, or that the number of unique words is just 7%."
   ]
  },
  {
   "cell_type": "markdown",
   "id": "06178d9e",
   "metadata": {},
   "source": [
    "We also see **how often a word occurs in a text**.\n",
    "\n",
    "**Syntax**: `text.count(\"word\")`"
   ]
  },
  {
   "cell_type": "code",
   "execution_count": 72,
   "id": "4b132929",
   "metadata": {
    "scrolled": true
   },
   "outputs": [
    {
     "name": "stdout",
     "output_type": "stream",
     "text": [
      "The word \"very\" appears 311 times in text1.\n"
     ]
    }
   ],
   "source": [
    "# each word is used 14 times on average\n",
    "print(\"The word \\\"very\\\" appears {} times in text1.\".format(text1.count(\"very\")))"
   ]
  },
  {
   "cell_type": "markdown",
   "id": "73c40445",
   "metadata": {},
   "source": [
    "We can also **define short functions** for efficiency:\n",
    "\n",
    ">More on functions [here](https://www.w3schools.com/python/python_functions.asp)."
   ]
  },
  {
   "cell_type": "code",
   "execution_count": 103,
   "id": "783313b4",
   "metadata": {},
   "outputs": [
    {
     "name": "stdout",
     "output_type": "stream",
     "text": [
      "The lexical diversity of <Text: Moby Dick by Herman Melville 1851> is 0.07.\n",
      "\n",
      "The word 'whale' consists the 0.35% of <Text: Moby Dick by Herman Melville 1851>\n"
     ]
    }
   ],
   "source": [
    "def lexical_diversity(text):\n",
    "    return round(len(set(text)) / len(text), 2)\n",
    "\n",
    "def percentage(count, total):\n",
    "    return round(count / total * 100, 2)\n",
    "\n",
    "print(\"The lexical diversity of {} is {}.\\n\".format(text1, lexical_diversity(text1)))\n",
    "print(\"The word 'whale' consists the {}% of {}\".format(\n",
    "    percentage(text1.count(\"whale\"), len(text1)),\n",
    "    text1)\n",
    "     )"
   ]
  }
 ],
 "metadata": {
  "kernelspec": {
   "display_name": "Python 3 (ipykernel)",
   "language": "python",
   "name": "python3"
  },
  "language_info": {
   "codemirror_mode": {
    "name": "ipython",
    "version": 3
   },
   "file_extension": ".py",
   "mimetype": "text/x-python",
   "name": "python",
   "nbconvert_exporter": "python",
   "pygments_lexer": "ipython3",
   "version": "3.9.7"
  }
 },
 "nbformat": 4,
 "nbformat_minor": 5
}
