{
 "cells": [
  {
   "cell_type": "markdown",
   "id": "3f2dec07",
   "metadata": {},
   "source": [
    "# **Natural Language Processing with Python**\n",
    "by [CSpanias](https://cspanias.github.io/aboutme/) - 01/2022\n",
    "\n",
    "Content based on the [NLTK book](https://www.nltk.org/book/). <br>\n",
    "\n",
    "You can find Chapter 2 [here](https://www.nltk.org/book/ch02.html).\n",
    "\n",
    "# CONTENT\n",
    "\n",
    "1. Language Processing and Python\n",
    "2. Accessing Text Corpora and Lexical Resources\n",
    "    1. Accessing Text Corpora\n",
    "    2. Conditional Frequency Distributions\n",
    "    3. [More Python: Reusing Code](#Python)\n",
    "        1. [Functions](#Functions)\n",
    "        2. [Modules](#Modules)\n",
    "        "
   ]
  },
  {
   "attachments": {},
   "cell_type": "markdown",
   "id": "d0276129",
   "metadata": {},
   "source": [
    "<a name=\"Python\"></a>\n",
    "## 2.3 More Python: Reusing Code\n",
    "1. [Functions](#Functions)\n",
    "2. [Modules](#Modules)"
   ]
  },
  {
   "cell_type": "markdown",
   "id": "4f721ef3",
   "metadata": {},
   "source": [
    "<a name=\"Functions\"></a>\n",
    "### 2.3.1 Functions\n",
    "Rather than **repeating the same code several times over**, it is **more efficient** and **reliable** to **localize this work** inside a function.\n",
    "\n",
    "A function is usually defined to take some **inputs**, using special variables known as **parameters**, and it may produce a result, also known as a **return value**.\n",
    "\n",
    "When a function is **defined**, we can **call** or **invoke** it."
   ]
  },
  {
   "cell_type": "markdown",
   "id": "1e29527c",
   "metadata": {},
   "source": [
    "<a name=\"Modules\"></a>\n",
    "### 2.3.2 Modules\n",
    "It makes life a lot easier if you can **collect your work into a single place**, and access previously defined functions without making copies.\n",
    "\n",
    "A **collection of variable and function definitions** in a file is called a Python **module**. NLTK's code for processing the Brown Corpus is an example of a module.\n",
    "\n",
    "A **collection of related modules** is called a **package**. NLTK's collection of code for processing all the different corpora is an example of a package\n",
    "\n",
    "NLTK itself is a **set of packages**, sometimes called a **library**."
   ]
  }
 ],
 "metadata": {
  "kernelspec": {
   "display_name": "Python 3 (ipykernel)",
   "language": "python",
   "name": "python3"
  },
  "language_info": {
   "codemirror_mode": {
    "name": "ipython",
    "version": 3
   },
   "file_extension": ".py",
   "mimetype": "text/x-python",
   "name": "python",
   "nbconvert_exporter": "python",
   "pygments_lexer": "ipython3",
   "version": "3.9.7"
  }
 },
 "nbformat": 4,
 "nbformat_minor": 5
}
