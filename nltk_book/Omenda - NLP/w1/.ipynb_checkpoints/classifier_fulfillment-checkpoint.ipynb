{
 "cells": [
  {
   "cell_type": "code",
   "execution_count": 1,
   "id": "different-lighter",
   "metadata": {},
   "outputs": [],
   "source": [
    "import pandas as pd\n",
    "import numpy as np\n",
    "import matplotlib.pyplot as plt"
   ]
  },
  {
   "cell_type": "code",
   "execution_count": 135,
   "id": "flying-filing",
   "metadata": {},
   "outputs": [],
   "source": [
    "# define custom functions for machine learning\n",
    "\n",
    "from sklearn.model_selection import cross_val_score\n",
    "from sklearn.model_selection import cross_val_predict\n",
    "from sklearn.metrics import confusion_matrix\n",
    "from sklearn.model_selection import KFold\n",
    "from sklearn.model_selection import GridSearchCV, RandomizedSearchCV\n",
    "\n",
    "def crossvalidate_classifier(model, X, y, cm=False):\n",
    "    \n",
    "    scores = cross_val_score(model, X, y, scoring='f1_macro', cv=5)\n",
    "    #scores = cross_val_score(model, X, y, scoring='accuracy', cv=5)\n",
    "    print(\"%0.2f f-1 score with a standard deviation of %0.2f\" % (scores.mean(), scores.std()))\n",
    "    y_pred = cross_val_predict(model, X, y, cv=5)\n",
    "\n",
    "    if(cm):\n",
    "        conf_mat = confusion_matrix(y, y_pred, labels=['fulfillment','other'])\n",
    "        plot_confusion_matrix(conf_mat, classes = ['fulfillment','other'])\n",
    "    \n",
    "def evaluate_classifier(model, X_train, X_test, y_train, y_test):\n",
    "      \n",
    "    # ... fit your model here ...\n",
    "    model.fit(X_train,y_train)\n",
    "\n",
    "    # Run predict on your tfidf test data to get your predictions\n",
    "    pred = model.predict(X_test)\n",
    "\n",
    "    # Calculate your accuracy using the metrics module\n",
    "    acc_score = metrics.accuracy_score(pred, y_test)\n",
    "    print(\"Accuracy Score:   %0.3f\" % acc_score)\n",
    "    \n",
    "    f1score = metrics.f1_score(pred, y_test, average='macro')\n",
    "    print(\"F-1 Score:   %0.3f\" % f1score)\n",
    "\n",
    "    # Calculate the confusion matrices for the tfidf_svc model\n",
    "    #svc_cm = metrics.confusion_matrix(y_test, pred, labels=['fulfillment','other'])\n",
    "\n",
    "    # Plot the confusion matrix using the plot_confusion_matrix function\n",
    "    #plot_confusion_matrix(svc_cm, classes = ['fulfillment','other'], title=\"Confusion Matrix\")\n",
    "    \n",
    "    return model\n",
    "\n",
    "def best_hyperparam(X_train_data, X_test_data, y_train_data, y_test_data, \n",
    "                       model, param_grid, cv=5, scoring_fit='f1_score',\n",
    "                       do_probabilities = False):\n",
    "    gs = RandomizedSearchCV(\n",
    "        estimator=model,\n",
    "        param_grid=param_grid, \n",
    "        cv=cv, \n",
    "        n_jobs=-1, \n",
    "        scoring=scoring_fit,\n",
    "        verbose=2\n",
    "    )\n",
    "    fitted_model = gs.fit(X_train_data, y_train_data, epochs=100)\n",
    "    \n",
    "    if do_probabilities:\n",
    "      pred = fitted_model.predict_proba(X_test_data)\n",
    "    else:\n",
    "      pred = fitted_model.predict(X_test_data)\n",
    "    \n",
    "    return fitted_model, pred"
   ]
  },
  {
   "cell_type": "code",
   "execution_count": 2,
   "id": "robust-maple",
   "metadata": {},
   "outputs": [],
   "source": [
    "df= pd.read_csv('C:/Users/4022313/OneDrive - MyFedEx/Desktop/Projects/Fullfilment Houses/TI-customers_scraped.csv')"
   ]
  },
  {
   "cell_type": "code",
   "execution_count": 335,
   "id": "authentic-funds",
   "metadata": {},
   "outputs": [
    {
     "data": {
      "text/html": [
       "<div>\n",
       "<style scoped>\n",
       "    .dataframe tbody tr th:only-of-type {\n",
       "        vertical-align: middle;\n",
       "    }\n",
       "\n",
       "    .dataframe tbody tr th {\n",
       "        vertical-align: top;\n",
       "    }\n",
       "\n",
       "    .dataframe thead th {\n",
       "        text-align: right;\n",
       "    }\n",
       "</style>\n",
       "<table border=\"1\" class=\"dataframe\">\n",
       "  <thead>\n",
       "    <tr style=\"text-align: right;\">\n",
       "      <th></th>\n",
       "      <th>Unnamed: 0</th>\n",
       "      <th>cntry_enti_nbr</th>\n",
       "      <th>cntry_bus_nm</th>\n",
       "      <th>web_links_cntry</th>\n",
       "      <th>description_cntry</th>\n",
       "      <th>feature</th>\n",
       "      <th>fulfillment</th>\n",
       "    </tr>\n",
       "  </thead>\n",
       "  <tbody>\n",
       "    <tr>\n",
       "      <th>0</th>\n",
       "      <td>0</td>\n",
       "      <td>487211337</td>\n",
       "      <td>Universal Traffic Service, Inc.</td>\n",
       "      <td>['https://www.utsnet.com/', 'https://www.utsne...</td>\n",
       "      <td>['Universal Traffic Service is the partner of ...</td>\n",
       "      <td>universal traffic service, inc.['universal tra...</td>\n",
       "      <td>0</td>\n",
       "    </tr>\n",
       "    <tr>\n",
       "      <th>1</th>\n",
       "      <td>1</td>\n",
       "      <td>488212349</td>\n",
       "      <td>PLATINUM CARGO LOGISTICS</td>\n",
       "      <td>['https://www.platinumcargologistics.com/', 'h...</td>\n",
       "      <td>['Intelligent Solutions...Powerful Results  Pl...</td>\n",
       "      <td>platinum cargo logistics['intelligent solution...</td>\n",
       "      <td>0</td>\n",
       "    </tr>\n",
       "    <tr>\n",
       "      <th>2</th>\n",
       "      <td>2</td>\n",
       "      <td>488487617</td>\n",
       "      <td>Tazmanian Freight Forwarding, Inc.</td>\n",
       "      <td>['https://www.tazmanian.com/', 'https://www.ta...</td>\n",
       "      <td>[\"When your shipping needs have a time-definit...</td>\n",
       "      <td>tazmanian freight forwarding, inc.[\"when your ...</td>\n",
       "      <td>1</td>\n",
       "    </tr>\n",
       "    <tr>\n",
       "      <th>3</th>\n",
       "      <td>3</td>\n",
       "      <td>485749529</td>\n",
       "      <td>Mesca (Ascent Global Logistics)</td>\n",
       "      <td>['https://ascentgl.com/blog/roadrunner-transpo...</td>\n",
       "      <td>['Roadrunner Transportation Systems (“Roadrunn...</td>\n",
       "      <td>mesca (ascent global logistics)['roadrunner tr...</td>\n",
       "      <td>0</td>\n",
       "    </tr>\n",
       "    <tr>\n",
       "      <th>4</th>\n",
       "      <td>4</td>\n",
       "      <td>1213806603</td>\n",
       "      <td>GlobalTranz</td>\n",
       "      <td>['https://www.globaltranz.com/shippers/warehou...</td>\n",
       "      <td>['Seamless Warehouse, Fulfillment and Distribu...</td>\n",
       "      <td>globaltranz['seamless warehouse, fulfillment a...</td>\n",
       "      <td>1</td>\n",
       "    </tr>\n",
       "  </tbody>\n",
       "</table>\n",
       "</div>"
      ],
      "text/plain": [
       "   Unnamed: 0  cntry_enti_nbr                        cntry_bus_nm  \\\n",
       "0           0       487211337     Universal Traffic Service, Inc.   \n",
       "1           1       488212349            PLATINUM CARGO LOGISTICS   \n",
       "2           2       488487617  Tazmanian Freight Forwarding, Inc.   \n",
       "3           3       485749529     Mesca (Ascent Global Logistics)   \n",
       "4           4      1213806603                         GlobalTranz   \n",
       "\n",
       "                                     web_links_cntry  \\\n",
       "0  ['https://www.utsnet.com/', 'https://www.utsne...   \n",
       "1  ['https://www.platinumcargologistics.com/', 'h...   \n",
       "2  ['https://www.tazmanian.com/', 'https://www.ta...   \n",
       "3  ['https://ascentgl.com/blog/roadrunner-transpo...   \n",
       "4  ['https://www.globaltranz.com/shippers/warehou...   \n",
       "\n",
       "                                   description_cntry  \\\n",
       "0  ['Universal Traffic Service is the partner of ...   \n",
       "1  ['Intelligent Solutions...Powerful Results  Pl...   \n",
       "2  [\"When your shipping needs have a time-definit...   \n",
       "3  ['Roadrunner Transportation Systems (“Roadrunn...   \n",
       "4  ['Seamless Warehouse, Fulfillment and Distribu...   \n",
       "\n",
       "                                             feature  fulfillment  \n",
       "0  universal traffic service, inc.['universal tra...            0  \n",
       "1  platinum cargo logistics['intelligent solution...            0  \n",
       "2  tazmanian freight forwarding, inc.[\"when your ...            1  \n",
       "3  mesca (ascent global logistics)['roadrunner tr...            0  \n",
       "4  globaltranz['seamless warehouse, fulfillment a...            1  "
      ]
     },
     "execution_count": 335,
     "metadata": {},
     "output_type": "execute_result"
    }
   ],
   "source": [
    "df.head()"
   ]
  },
  {
   "cell_type": "code",
   "execution_count": 353,
   "id": "naked-variance",
   "metadata": {},
   "outputs": [],
   "source": [
    "df['feature'] = df['cntry_bus_nm']+ df['description_cntry']\n",
    "df['feature'] = df['feature'] .str.lower()\n",
    "\n",
    "df['fulfillment'] = np.where(df['feature'].str.contains('shipping|warehouse|warehousing|fulfillment|3pl|logistic'), 1, 0)"
   ]
  },
  {
   "cell_type": "code",
   "execution_count": 354,
   "id": "manufactured-force",
   "metadata": {},
   "outputs": [
    {
     "data": {
      "text/plain": [
       "1    991\n",
       "0    284\n",
       "Name: fulfillment, dtype: int64"
      ]
     },
     "execution_count": 354,
     "metadata": {},
     "output_type": "execute_result"
    }
   ],
   "source": [
    "df['fulfillment'].value_counts()"
   ]
  },
  {
   "cell_type": "code",
   "execution_count": 355,
   "id": "modular-alexandria",
   "metadata": {},
   "outputs": [],
   "source": [
    "df_fulfillment = df[df['fulfillment']==1]"
   ]
  },
  {
   "cell_type": "code",
   "execution_count": 356,
   "id": "corresponding-construction",
   "metadata": {},
   "outputs": [
    {
     "data": {
      "text/html": [
       "<div>\n",
       "<style scoped>\n",
       "    .dataframe tbody tr th:only-of-type {\n",
       "        vertical-align: middle;\n",
       "    }\n",
       "\n",
       "    .dataframe tbody tr th {\n",
       "        vertical-align: top;\n",
       "    }\n",
       "\n",
       "    .dataframe thead th {\n",
       "        text-align: right;\n",
       "    }\n",
       "</style>\n",
       "<table border=\"1\" class=\"dataframe\">\n",
       "  <thead>\n",
       "    <tr style=\"text-align: right;\">\n",
       "      <th></th>\n",
       "      <th>Unnamed: 0</th>\n",
       "      <th>cntry_enti_nbr</th>\n",
       "      <th>cntry_bus_nm</th>\n",
       "      <th>web_links_cntry</th>\n",
       "      <th>description_cntry</th>\n",
       "      <th>feature</th>\n",
       "      <th>fulfillment</th>\n",
       "    </tr>\n",
       "  </thead>\n",
       "  <tbody>\n",
       "    <tr>\n",
       "      <th>1</th>\n",
       "      <td>1</td>\n",
       "      <td>488212349</td>\n",
       "      <td>PLATINUM CARGO LOGISTICS</td>\n",
       "      <td>['https://www.platinumcargologistics.com/', 'h...</td>\n",
       "      <td>['Intelligent Solutions...Powerful Results  Pl...</td>\n",
       "      <td>platinum cargo logistics['intelligent solution...</td>\n",
       "      <td>1</td>\n",
       "    </tr>\n",
       "    <tr>\n",
       "      <th>2</th>\n",
       "      <td>2</td>\n",
       "      <td>488487617</td>\n",
       "      <td>Tazmanian Freight Forwarding, Inc.</td>\n",
       "      <td>['https://www.tazmanian.com/', 'https://www.ta...</td>\n",
       "      <td>[\"When your shipping needs have a time-definit...</td>\n",
       "      <td>tazmanian freight forwarding, inc.[\"when your ...</td>\n",
       "      <td>1</td>\n",
       "    </tr>\n",
       "    <tr>\n",
       "      <th>3</th>\n",
       "      <td>3</td>\n",
       "      <td>485749529</td>\n",
       "      <td>Mesca (Ascent Global Logistics)</td>\n",
       "      <td>['https://ascentgl.com/blog/roadrunner-transpo...</td>\n",
       "      <td>['Roadrunner Transportation Systems (“Roadrunn...</td>\n",
       "      <td>mesca (ascent global logistics)['roadrunner tr...</td>\n",
       "      <td>1</td>\n",
       "    </tr>\n",
       "    <tr>\n",
       "      <th>4</th>\n",
       "      <td>4</td>\n",
       "      <td>1213806603</td>\n",
       "      <td>GlobalTranz</td>\n",
       "      <td>['https://www.globaltranz.com/shippers/warehou...</td>\n",
       "      <td>['Seamless Warehouse, Fulfillment and Distribu...</td>\n",
       "      <td>globaltranz['seamless warehouse, fulfillment a...</td>\n",
       "      <td>1</td>\n",
       "    </tr>\n",
       "    <tr>\n",
       "      <th>5</th>\n",
       "      <td>5</td>\n",
       "      <td>487220833</td>\n",
       "      <td>A.P. MÃ¸ller - MÃ¦rsk A/S</td>\n",
       "      <td>['https://help.shopify.com/en/manual/shipping/...</td>\n",
       "      <td>[\"With Shopify, you can use a fulfillment serv...</td>\n",
       "      <td>a.p. mã¸ller - mã¦rsk a/s[\"with shopify, you c...</td>\n",
       "      <td>1</td>\n",
       "    </tr>\n",
       "  </tbody>\n",
       "</table>\n",
       "</div>"
      ],
      "text/plain": [
       "   Unnamed: 0  cntry_enti_nbr                        cntry_bus_nm  \\\n",
       "1           1       488212349            PLATINUM CARGO LOGISTICS   \n",
       "2           2       488487617  Tazmanian Freight Forwarding, Inc.   \n",
       "3           3       485749529     Mesca (Ascent Global Logistics)   \n",
       "4           4      1213806603                         GlobalTranz   \n",
       "5           5       487220833           A.P. MÃ¸ller - MÃ¦rsk A/S   \n",
       "\n",
       "                                     web_links_cntry  \\\n",
       "1  ['https://www.platinumcargologistics.com/', 'h...   \n",
       "2  ['https://www.tazmanian.com/', 'https://www.ta...   \n",
       "3  ['https://ascentgl.com/blog/roadrunner-transpo...   \n",
       "4  ['https://www.globaltranz.com/shippers/warehou...   \n",
       "5  ['https://help.shopify.com/en/manual/shipping/...   \n",
       "\n",
       "                                   description_cntry  \\\n",
       "1  ['Intelligent Solutions...Powerful Results  Pl...   \n",
       "2  [\"When your shipping needs have a time-definit...   \n",
       "3  ['Roadrunner Transportation Systems (“Roadrunn...   \n",
       "4  ['Seamless Warehouse, Fulfillment and Distribu...   \n",
       "5  [\"With Shopify, you can use a fulfillment serv...   \n",
       "\n",
       "                                             feature  fulfillment  \n",
       "1  platinum cargo logistics['intelligent solution...            1  \n",
       "2  tazmanian freight forwarding, inc.[\"when your ...            1  \n",
       "3  mesca (ascent global logistics)['roadrunner tr...            1  \n",
       "4  globaltranz['seamless warehouse, fulfillment a...            1  \n",
       "5  a.p. mã¸ller - mã¦rsk a/s[\"with shopify, you c...            1  "
      ]
     },
     "execution_count": 356,
     "metadata": {},
     "output_type": "execute_result"
    }
   ],
   "source": [
    "df_fulfillment.head()"
   ]
  },
  {
   "cell_type": "code",
   "execution_count": 357,
   "id": "elegant-bridal",
   "metadata": {},
   "outputs": [],
   "source": [
    "df1= df_fulfillment.copy()\n",
    "df1= df1[['cntry_bus_nm','feature']]\n",
    "df1['label']='fulfillment'\n",
    "df1.columns= ['name', 'description', 'class']"
   ]
  },
  {
   "cell_type": "code",
   "execution_count": 296,
   "id": "coordinated-finnish",
   "metadata": {},
   "outputs": [
    {
     "data": {
      "text/plain": [
       "(747, 3)"
      ]
     },
     "execution_count": 296,
     "metadata": {},
     "output_type": "execute_result"
    }
   ],
   "source": [
    "df1.shape"
   ]
  },
  {
   "cell_type": "code",
   "execution_count": 333,
   "id": "offensive-jason",
   "metadata": {},
   "outputs": [],
   "source": [
    "df.to_csv('C:/Users/4022313/OneDrive - MyFedEx/Desktop/Projects/Fullfilment Houses/TI_scraped1.csv')"
   ]
  },
  {
   "cell_type": "code",
   "execution_count": 298,
   "id": "greek-cleaning",
   "metadata": {},
   "outputs": [],
   "source": [
    "df_other = pd.read_csv('C:/Users/4022313/OneDrive - MyFedEx/Desktop/Projects/Sales Vertical Classification/FY2021/archived_03_26_2021/train/t_scraped_clean_1300.csv')"
   ]
  },
  {
   "cell_type": "code",
   "execution_count": 299,
   "id": "direct-relation",
   "metadata": {},
   "outputs": [
    {
     "data": {
      "text/html": [
       "<div>\n",
       "<style scoped>\n",
       "    .dataframe tbody tr th:only-of-type {\n",
       "        vertical-align: middle;\n",
       "    }\n",
       "\n",
       "    .dataframe tbody tr th {\n",
       "        vertical-align: top;\n",
       "    }\n",
       "\n",
       "    .dataframe thead th {\n",
       "        text-align: right;\n",
       "    }\n",
       "</style>\n",
       "<table border=\"1\" class=\"dataframe\">\n",
       "  <thead>\n",
       "    <tr style=\"text-align: right;\">\n",
       "      <th></th>\n",
       "      <th>globl_bus_nm</th>\n",
       "      <th>web_links</th>\n",
       "      <th>description_list</th>\n",
       "    </tr>\n",
       "  </thead>\n",
       "  <tbody>\n",
       "    <tr>\n",
       "      <th>0</th>\n",
       "      <td>Synnex Corporation</td>\n",
       "      <td>['https://www.synnexcorp.com/', 'http://www.sy...</td>\n",
       "      <td>['Learn More', 'Learn More', ' Synnex Corporat...</td>\n",
       "    </tr>\n",
       "    <tr>\n",
       "      <th>1</th>\n",
       "      <td>Varian Medical Systems, Inc.</td>\n",
       "      <td>['https://www.varian.com/', 'https://www.varia...</td>\n",
       "      <td>['Were dedicated to forging a new, more unifyi...</td>\n",
       "    </tr>\n",
       "    <tr>\n",
       "      <th>2</th>\n",
       "      <td>Otis Elevator Company</td>\n",
       "      <td>['https://www.otis.com/', 'https://www.otis.co...</td>\n",
       "      <td>['To give you the best possible browsing exper...</td>\n",
       "    </tr>\n",
       "    <tr>\n",
       "      <th>3</th>\n",
       "      <td>General Electric Company</td>\n",
       "      <td>['https://www.ge.com/', 'https://www.ge.com/ab...</td>\n",
       "      <td>[\"Access the latest press releases, media cont...</td>\n",
       "    </tr>\n",
       "    <tr>\n",
       "      <th>4</th>\n",
       "      <td>Duke University</td>\n",
       "      <td>['https://duke.edu/', 'https://pratt.duke.edu/...</td>\n",
       "      <td>[' Working@Duke News More News from Duke Today...</td>\n",
       "    </tr>\n",
       "  </tbody>\n",
       "</table>\n",
       "</div>"
      ],
      "text/plain": [
       "                   globl_bus_nm  \\\n",
       "0            Synnex Corporation   \n",
       "1  Varian Medical Systems, Inc.   \n",
       "2         Otis Elevator Company   \n",
       "3      General Electric Company   \n",
       "4               Duke University   \n",
       "\n",
       "                                           web_links  \\\n",
       "0  ['https://www.synnexcorp.com/', 'http://www.sy...   \n",
       "1  ['https://www.varian.com/', 'https://www.varia...   \n",
       "2  ['https://www.otis.com/', 'https://www.otis.co...   \n",
       "3  ['https://www.ge.com/', 'https://www.ge.com/ab...   \n",
       "4  ['https://duke.edu/', 'https://pratt.duke.edu/...   \n",
       "\n",
       "                                    description_list  \n",
       "0  ['Learn More', 'Learn More', ' Synnex Corporat...  \n",
       "1  ['Were dedicated to forging a new, more unifyi...  \n",
       "2  ['To give you the best possible browsing exper...  \n",
       "3  [\"Access the latest press releases, media cont...  \n",
       "4  [' Working@Duke News More News from Duke Today...  "
      ]
     },
     "execution_count": 299,
     "metadata": {},
     "output_type": "execute_result"
    }
   ],
   "source": [
    "df_other.head()"
   ]
  },
  {
   "cell_type": "code",
   "execution_count": 300,
   "id": "promotional-confidentiality",
   "metadata": {},
   "outputs": [],
   "source": [
    "df_other['feature'] = df_other['globl_bus_nm'] + df_other['description_list']\n",
    "df_other['feature'] = df_other['feature'] .str.lower()"
   ]
  },
  {
   "cell_type": "code",
   "execution_count": 301,
   "id": "owned-bloom",
   "metadata": {},
   "outputs": [],
   "source": [
    "df_other['discard'] = np.where(df_other['feature'].str.contains('logistic|3pl|fulfillment|transportation|supply chain'),1,0)"
   ]
  },
  {
   "cell_type": "code",
   "execution_count": 302,
   "id": "spare-california",
   "metadata": {},
   "outputs": [
    {
     "data": {
      "text/plain": [
       "0    821\n",
       "1    340\n",
       "Name: discard, dtype: int64"
      ]
     },
     "execution_count": 302,
     "metadata": {},
     "output_type": "execute_result"
    }
   ],
   "source": [
    "df_other['discard'].value_counts()"
   ]
  },
  {
   "cell_type": "code",
   "execution_count": 303,
   "id": "secondary-dialogue",
   "metadata": {},
   "outputs": [],
   "source": [
    "df2= df_other[df_other['discard']==0].sample(700)"
   ]
  },
  {
   "cell_type": "code",
   "execution_count": 304,
   "id": "decimal-extraction",
   "metadata": {},
   "outputs": [],
   "source": [
    "df2 =df2[['globl_bus_nm','feature']]\n",
    "df2['label'] = 'other'\n",
    "df2.columns= ['name', 'description', 'class']"
   ]
  },
  {
   "cell_type": "code",
   "execution_count": 305,
   "id": "charitable-cause",
   "metadata": {},
   "outputs": [
    {
     "name": "stdout",
     "output_type": "stream",
     "text": [
      "                                 name  \\\n",
      "2  Tazmanian Freight Forwarding, Inc.   \n",
      "4                         GlobalTranz   \n",
      "5           A.P. MÃ¸ller - MÃ¦rsk A/S   \n",
      "6      CERASIS FOR UNITED CENTRAL SUP   \n",
      "9                          OIA GLOBAL   \n",
      "\n",
      "                                         description        class  \n",
      "2  tazmanian freight forwarding, inc.[\"when your ...  fulfillment  \n",
      "4  globaltranz['seamless warehouse, fulfillment a...  fulfillment  \n",
      "5  a.p. mã¸ller - mã¦rsk a/s[\"with shopify, you c...  fulfillment  \n",
      "6  cerasis for united central sup['the future of ...  fulfillment  \n",
      "9  oia global['whether you require distribution o...  fulfillment                                 name  \\\n",
      "966   H&E Equipment Services, Inc.   \n",
      "138                Medtronic, Inc.   \n",
      "1033           Carrier Corporation   \n",
      "1056               Plaskolite, LLC   \n",
      "68                The Misumi Group   \n",
      "\n",
      "                                            description  class  \n",
      "966   h&e equipment services, inc.[\"search use my lo...  other  \n",
      "138   medtronic, inc.['this site uses cookies to sto...  other  \n",
      "1033  carrier corporation['built on willis carriers ...  other  \n",
      "1056  plaskolite, llc[\"core offerings materials prod...  other  \n",
      "68    the misumi group['we, misumi group, inc. do he...  other  \n",
      "(747, 3) (700, 3)\n"
     ]
    }
   ],
   "source": [
    "print(df1.head(), df2.head())\n",
    "print(df1.shape, df2.shape)"
   ]
  },
  {
   "cell_type": "code",
   "execution_count": 306,
   "id": "minimal-madness",
   "metadata": {},
   "outputs": [
    {
     "data": {
      "text/html": [
       "<div>\n",
       "<style scoped>\n",
       "    .dataframe tbody tr th:only-of-type {\n",
       "        vertical-align: middle;\n",
       "    }\n",
       "\n",
       "    .dataframe tbody tr th {\n",
       "        vertical-align: top;\n",
       "    }\n",
       "\n",
       "    .dataframe thead th {\n",
       "        text-align: right;\n",
       "    }\n",
       "</style>\n",
       "<table border=\"1\" class=\"dataframe\">\n",
       "  <thead>\n",
       "    <tr style=\"text-align: right;\">\n",
       "      <th></th>\n",
       "      <th>name</th>\n",
       "      <th>description</th>\n",
       "      <th>class</th>\n",
       "    </tr>\n",
       "  </thead>\n",
       "  <tbody>\n",
       "    <tr>\n",
       "      <th>2</th>\n",
       "      <td>Tazmanian Freight Forwarding, Inc.</td>\n",
       "      <td>tazmanian freight forwarding, inc.[\"when your ...</td>\n",
       "      <td>fulfillment</td>\n",
       "    </tr>\n",
       "    <tr>\n",
       "      <th>4</th>\n",
       "      <td>GlobalTranz</td>\n",
       "      <td>globaltranz['seamless warehouse, fulfillment a...</td>\n",
       "      <td>fulfillment</td>\n",
       "    </tr>\n",
       "    <tr>\n",
       "      <th>5</th>\n",
       "      <td>A.P. MÃ¸ller - MÃ¦rsk A/S</td>\n",
       "      <td>a.p. mã¸ller - mã¦rsk a/s[\"with shopify, you c...</td>\n",
       "      <td>fulfillment</td>\n",
       "    </tr>\n",
       "    <tr>\n",
       "      <th>6</th>\n",
       "      <td>CERASIS FOR UNITED CENTRAL SUP</td>\n",
       "      <td>cerasis for united central sup['the future of ...</td>\n",
       "      <td>fulfillment</td>\n",
       "    </tr>\n",
       "    <tr>\n",
       "      <th>9</th>\n",
       "      <td>OIA GLOBAL</td>\n",
       "      <td>oia global['whether you require distribution o...</td>\n",
       "      <td>fulfillment</td>\n",
       "    </tr>\n",
       "  </tbody>\n",
       "</table>\n",
       "</div>"
      ],
      "text/plain": [
       "                                 name  \\\n",
       "2  Tazmanian Freight Forwarding, Inc.   \n",
       "4                         GlobalTranz   \n",
       "5           A.P. MÃ¸ller - MÃ¦rsk A/S   \n",
       "6      CERASIS FOR UNITED CENTRAL SUP   \n",
       "9                          OIA GLOBAL   \n",
       "\n",
       "                                         description        class  \n",
       "2  tazmanian freight forwarding, inc.[\"when your ...  fulfillment  \n",
       "4  globaltranz['seamless warehouse, fulfillment a...  fulfillment  \n",
       "5  a.p. mã¸ller - mã¦rsk a/s[\"with shopify, you c...  fulfillment  \n",
       "6  cerasis for united central sup['the future of ...  fulfillment  \n",
       "9  oia global['whether you require distribution o...  fulfillment  "
      ]
     },
     "execution_count": 306,
     "metadata": {},
     "output_type": "execute_result"
    }
   ],
   "source": [
    "df_nlp = pd.concat([df1, df2], axis=0)\n",
    "df_nlp.head()"
   ]
  },
  {
   "cell_type": "code",
   "execution_count": 334,
   "id": "racial-classroom",
   "metadata": {},
   "outputs": [],
   "source": [
    "df_nlp.to_csv('C:/Users/4022313/OneDrive - MyFedEx/Desktop/Projects/Fullfilment Houses/TI_nlp.csv')"
   ]
  },
  {
   "cell_type": "code",
   "execution_count": 307,
   "id": "broad-virginia",
   "metadata": {},
   "outputs": [],
   "source": [
    "import gensim\n",
    "from gensim.utils import simple_preprocess\n",
    "from gensim.parsing.preprocessing import STOPWORDS\n",
    "from nltk.stem import WordNetLemmatizer, SnowballStemmer\n",
    "from nltk.stem.porter import *\n",
    "import numpy as np\n",
    "np.random.seed(2018)\n",
    "import nltk\n",
    "#nltk.download('wordnet')"
   ]
  },
  {
   "cell_type": "code",
   "execution_count": 308,
   "id": "corrected-leone",
   "metadata": {},
   "outputs": [],
   "source": [
    "stemmer = SnowballStemmer('english')\n",
    "\n",
    "def lemmatize_stemming(text):\n",
    "    return stemmer.stem(WordNetLemmatizer().lemmatize(text, pos='v'))\n",
    "\n",
    "def preprocess(text):\n",
    "    result = []\n",
    "    for token in gensim.utils.simple_preprocess(text):\n",
    "        if token not in gensim.parsing.preprocessing.STOPWORDS:\n",
    "            result.append(lemmatize_stemming(token))\n",
    "    return str(result)"
   ]
  },
  {
   "cell_type": "code",
   "execution_count": 309,
   "id": "demonstrated-notification",
   "metadata": {},
   "outputs": [],
   "source": [
    "from sklearn.feature_extraction.text import CountVectorizer, TfidfVectorizer\n",
    "from sklearn.model_selection import train_test_split\n",
    "from sklearn.naive_bayes import MultinomialNB\n",
    "from sklearn.svm import LinearSVC, SVC\n",
    "from sklearn import metrics\n",
    "from sklearn.ensemble import RandomForestClassifier, AdaBoostClassifier, BaggingClassifier, GradientBoostingClassifier"
   ]
  },
  {
   "cell_type": "code",
   "execution_count": 310,
   "id": "circular-style",
   "metadata": {},
   "outputs": [],
   "source": [
    "df_nlp['tokens'] = df_nlp['description'].map(preprocess)"
   ]
  },
  {
   "cell_type": "code",
   "execution_count": 311,
   "id": "painful-couple",
   "metadata": {},
   "outputs": [
    {
     "data": {
      "text/plain": [
       "fulfillment    747\n",
       "other          700\n",
       "Name: class, dtype: int64"
      ]
     },
     "execution_count": 311,
     "metadata": {},
     "output_type": "execute_result"
    }
   ],
   "source": [
    "df_nlp.head()\n",
    "df_nlp['class'].value_counts()"
   ]
  },
  {
   "cell_type": "code",
   "execution_count": 312,
   "id": "foster-ability",
   "metadata": {},
   "outputs": [],
   "source": [
    "X = df_nlp['tokens']\n",
    "y= df_nlp['class']"
   ]
  },
  {
   "cell_type": "code",
   "execution_count": 313,
   "id": "soviet-alloy",
   "metadata": {},
   "outputs": [],
   "source": [
    "# Split training and testing data\n",
    "X_train, X_test, y_train, y_test = train_test_split(X, y, random_state=53, test_size=0.25, shuffle=True, stratify=y )"
   ]
  },
  {
   "cell_type": "code",
   "execution_count": 314,
   "id": "prime-advertising",
   "metadata": {},
   "outputs": [
    {
     "data": {
      "text/plain": [
       "206    fulfillment\n",
       "447          other\n",
       "142    fulfillment\n",
       "734    fulfillment\n",
       "232          other\n",
       "Name: class, dtype: object"
      ]
     },
     "execution_count": 314,
     "metadata": {},
     "output_type": "execute_result"
    }
   ],
   "source": [
    "y_test.head()"
   ]
  },
  {
   "cell_type": "code",
   "execution_count": 315,
   "id": "removed-corps",
   "metadata": {},
   "outputs": [],
   "source": [
    "# Initialize count vectorizer\n",
    "count_vectorizer = CountVectorizer(stop_words='english', max_df=0.9, min_df=0.05)\n",
    "\n",
    "# Create count train and test variables\n",
    "count_train = count_vectorizer.fit_transform(X_train)\n",
    "count_test = count_vectorizer.transform(X_test)\n",
    "\n",
    "# Initialize tfidf vectorizer\n",
    "tfidf_vectorizer = TfidfVectorizer(stop_words='english', max_df=0.9, min_df=0.05)\n",
    "\n",
    "# Create tfidf train and test variables\n",
    "tfidf_train = tfidf_vectorizer.fit_transform(X_train)\n",
    "tfidf_test = tfidf_vectorizer.transform(X_test)"
   ]
  },
  {
   "cell_type": "code",
   "execution_count": 316,
   "id": "imperial-franchise",
   "metadata": {},
   "outputs": [
    {
     "name": "stdout",
     "output_type": "stream",
     "text": [
      "(1085, 1084) (1085, 1084)\n"
     ]
    }
   ],
   "source": [
    "print(count_train.shape, tfidf_train.shape)"
   ]
  },
  {
   "cell_type": "code",
   "execution_count": 317,
   "id": "wooden-arrangement",
   "metadata": {},
   "outputs": [
    {
     "name": "stdout",
     "output_type": "stream",
     "text": [
      "{'pacif': 685, 'multi': 635, 'brand': 105, 'compani': 179, 'design': 257, 'develop': 260, 'produc': 757, 'market': 598, 'product': 758, 'write': 1078, 'instrument': 503, 'world': 1075, 'sector': 874, 'licens': 558, 'agreement': 34, 'strateg': 951, 'acquisit': 12, 'believ': 91, 'growth': 438, 'strategi': 952, 'uniqu': 1027, 'build': 113, 'effort': 304, 'earn': 292, 'quarter': 782, 'expand': 351, 'season': 871, 'line': 563, 'add': 18, 'new': 647, 'retail': 834, 'leverag': 557, 'expertis': 358, 'stay': 944, 'power': 731, 'lead': 549, 'manufactur': 595, 'consum': 203, 'sell': 880, 'headquart': 448, 'california': 117, 'popular': 724, 'proprietari': 769, 'includ': 482, 'perfect': 704, 'wide': 1069, 'rang': 788, 'inspir': 499, 'featur': 375, 'premier': 736, 'properti': 768, 'generat': 425, 'care': 125, 'commit': 175, 'help': 455, 'posit': 727, 'impact': 477, 'live': 567, 'visit': 1052, 'com': 169, 'follow': 399, 'right': 841, 'reserv': 827, 'leav': 553, 'websit': 1062, 'enter': 323, 'differ': 263, 'term': 984, 'use': 1033, 'privaci': 752, 'polici': 723, 'american': 42, 'numer': 657, 'founder': 408, 'previous': 744, 'presid': 741, 'ceo': 137, 'chairman': 142, 'march': 596, 'month': 633, 'action': 14, 'figur': 384, 'electron': 306, 'role': 847, 'play': 719, 'vehicl': 1042, 'art': 63, 'activ': 15, 'kit': 535, 'construct': 201, 'creativ': 228, 'intern': 511, 'road': 844, 'game': 422, 'come': 171, 'trademark': 1003, 'war': 1055, 'acquir': 11, 'color': 168, 'corp': 217, 'februari': 376, 'financi': 388, 'statement': 941, 'year': 1081, 'account': 7, 'form': 404, 'partner': 693, 'llc': 569, 'joint': 528, 'ventur': 1044, 'usa': 1032, 'launch': 547, 'announc': 47, 'success': 965, 'negoti': 645, 'rise': 842, 'promot': 766, 'york': 1082, 'trade': 1002, 'cultur': 232, 'bring': 108, 'china': 152, 'creat': 226, 'make': 592, 'varieti': 1039, 'global': 427, 'interact': 510, 'seri': 886, 'devic': 261, 'connect': 194, 'set': 889, 'user': 1034, 'abl': 1, 'pre': 733, 'defin': 250, 'select': 878, 'video': 1047, 'model': 628, 'collect': 167, 'port': 725, 'origin': 679, 'addit': 19, 'expans': 352, 'card': 124, 'univers': 1029, 'incorpor': 484, 'corpor': 218, 'respons': 831, 'covid': 225, 'group': 436, 'provid': 773, 'servic': 888, 'countri': 222, 'region': 808, 'inform': 492, 'avail': 80, 'specif': 929, 'sustain': 972, 'societi': 917, 'seven': 890, 'busi': 114, 'area': 60, 'main': 588, 'end': 316, 'click': 160, 'safeti': 854, 'perform': 705, 'requir': 825, 'medic': 607, 'regul': 810, 'view': 1048, 'chang': 144, 'director': 267, 'execut': 349, 'offic': 665, 'publish': 775, 'stori': 950, 'technolog': 981, 'result': 833, 'refer': 806, 'present': 740, 'copyright': 215, 'regulatori': 812, 'approv': 57, 'status': 943, 'receiv': 800, 'oper': 672, 'obtain': 661, 'contact': 204, 'individu': 489, 'hold': 462, 'continu': 207, 'box': 103, 'let': 555, 'know': 536, 'robot': 845, 'sure': 971, 'browser': 112, 'support': 970, 'javascript': 524, 'cooki': 213, 'block': 98, 'load': 570, 'review': 839, 'inquiri': 496, 'relat': 813, 'messag': 614, 'team': 978, 'id': 470, 'order': 676, 'option': 675, 'field': 382, 'place': 715, 'member': 610, 'number': 656, 'complet': 183, 'process': 756, 'note': 652, 'choos': 154, 'subsidiari': 963, 'north': 651, 'america': 41, 'europ': 338, 'africa': 28, 'middl': 619, 'east': 296, 'asia': 65, 'australia': 75, 'largest': 543, 'worldwid': 1076, 'recogn': 802, 'read': 795, 'vice': 1046, 'sale': 855, 'custom': 234, 'experi': 356, 'women': 1071, 'network': 646, 'focus': 398, 'drive': 286, 'today': 997, 'reach': 794, 'key': 532, 'file': 385, 'plan': 716, 'report': 821, 'decemb': 245, 'learn': 552, 'investor': 518, 'press': 742, 'releas': 815, 'career': 126, 'best': 93, 'rate': 792, 'guarante': 439, 'site': 910, 'disabl': 268, 'opportun': 673, 'supplier': 969, 'divers': 276, 'program': 762, 'updat': 1031, 'lose': 579, 'tool': 998, 'agent': 32, 'reward': 840, 'applic': 53, 'express': 361, 'logist': 573, 'establish': 336, 'grow': 437, 'skill': 913, 'equip': 331, 'modern': 629, 'facil': 366, 'ship': 896, 'agenc': 31, 'contain': 205, 'nvocc': 658, 'sea': 868, 'air': 37, 'freight': 411, 'forward': 406, 'clearanc': 159, 'legal': 554, 'consult': 202, 'public': 774, 'mission': 625, 'adjust': 21, 'target': 976, 'trend': 1014, 'need': 644, 'dynam': 290, 'consolid': 199, 'precis': 734, 'organ': 677, 'carrier': 129, 'principl': 748, 'optim': 674, 'cost': 220, 'time': 995, 'transport': 1011, 'coordin': 214, 'warehous': 1056, 'class': 157, 'fast': 372, 'accur': 8, 'matter': 602, 'destin': 258, 'communic': 177, 'problem': 754, 'solv': 920, 'shipment': 897, 'flow': 397, 'econom': 298, 'count': 221, 'peopl': 702, 'trust': 1020, 'handl': 443, 'better': 94, 'solut': 919, 'deliv': 252, 'deliveri': 253, 'direct': 266, 'partnership': 694, 'base': 87, 'tradit': 1004, 'greater': 433, 'cargo': 127, 'integr': 505, 'minim': 623, 'comprehens': 187, 'real': 797, 'schedul': 862, 'access': 4, 'offer': 664, 'strive': 957, 'constant': 200, 'enhanc': 320, 'ocean': 662, 'import': 479, 'los': 578, 'angel': 46, 'chicago': 150, 'domest': 280, 'outstand': 681, 'industri': 490, 'export': 360, 'cover': 223, 'south': 923, 'japan': 523, 'india': 487, 'practic': 732, 'function': 418, 'center': 135, 'transit': 1009, 'ensur': 322, 'final': 386, 'track': 1001, 'multipl': 637, 'onlin': 670, 'faster': 373, 'easier': 294, 'expedit': 354, 'strong': 958, 'nation': 638, 'presenc': 739, 'premium': 737, 'choic': 153, 'larg': 542, 'effici': 303, 'expert': 357, 'reliabl': 817, 'highest': 458, 'qualiti': 781, 'possibl': 728, 'reput': 823, 'depend': 256, 'excel': 345, 'recent': 801, 'conveni': 211, 've': 1041, 'certain': 138, 'job': 525, 'standard': 938, 'hour': 465, 'day': 242, 'week': 1063, 'th': 988, 'park': 690, 'il': 474, 'fax': 374, 'feder': 377, 'tax': 977, 'news': 648, 'initi': 494, 'contribut': 209, 'life': 559, 'social': 916, 'challeng': 143, 'achiev': 10, 'special': 926, 'dr': 285, 'profil': 760, 'manag': 593, 'way': 1060, 'accord': 6, 'leader': 550, 'emerg': 310, 'annual': 48, 'histori': 461, 'search': 870, 'fuel': 415, 'enabl': 314, 'improv': 480, 'high': 456, 'suit': 966, 'water': 1059, 'plant': 717, 'treatment': 1013, 'plus': 720, 'feedback': 379, 'appropri': 56, 'innov': 495, 'aspect': 67, 'valu': 1037, 'valuabl': 1038, 'profit': 761, 'page': 688, 'core': 216, 'materi': 601, 'home': 463, 'health': 449, 'chemic': 149, 'pursu': 778, 'advantag': 24, 'analysi': 43, 'administr': 22, 'resourc': 828, 'extend': 362, 'singl': 908, 'essenti': 335, 'robust': 846, 'maintain': 589, 'leadership': 551, 'advanc': 23, 'structur': 959, 'transform': 1008, 'meet': 609, 'increas': 485, 'foundat': 407, 'compon': 186, 'infrastructur': 493, 'specialti': 928, 'pharmaceut': 709, 'firm': 390, 'diagnost': 262, 'respond': 830, 'diseas': 271, 'condit': 190, 'safe': 853, 'medicin': 608, 'cut': 235, 'edg': 300, 'major': 591, 'critic': 230, 'april': 59, 'environment': 329, 'friend': 414, 'open': 671, 'futur': 420, 'combin': 170, 'unit': 1028, 'healthi': 451, 'environ': 328, 'progress': 763, 'therapi': 990, 'address': 20, 'patient': 699, 'enjoy': 321, 'autom': 78, 'happen': 444, 'think': 992, 'info': 491, 'rapid': 790, 'invent': 514, 'later': 545, 'suppli': 968, 'govern': 431, 'passion': 696, 'treat': 1012, 'like': 561, 'famili': 371, 'pride': 746, 'feel': 380, 'employe': 312, 'short': 900, 'goal': 429, 'long': 575, 'event': 340, 'benefit': 92, 'mind': 622, 'code': 165, 'collabor': 166, 'respect': 829, 'current': 233, 'begin': 90, 'realiz': 798, 'control': 210, 'consid': 196, 'insight': 498, 'determin': 259, 'work': 1072, 'test': 986, 'exact': 342, 'decad': 244, 'patent': 698, 'regular': 811, 'articl': 64, 'state': 940, 'philosophi': 710, 'procedur': 755, 'discov': 269, 'money': 631, 'person': 707, 'limit': 562, 'prevent': 743, 'educ': 301, 'spend': 931, 'guid': 440, 'deep': 249, 'talent': 974, 'mean': 604, 'type': 1023, 'strength': 955, 'background': 85, 'near': 642, 'oversea': 683, 'sign': 901, 'extra': 364, 'west': 1065, 'xa': 1080, 'scienc': 864, 'non': 650, 'stop': 947, 'engin': 319, 'hous': 466, 'dedic': 248, 'orient': 678, 'globe': 428, 'join': 527, 'insid': 497, 'outsid': 680, 'communiti': 178, 'local': 571, 'great': 432, 'seek': 876, 'indic': 488, 'clear': 158, 'green': 434, 'tx': 1022, 'digit': 265, 'commerc': 172, 'signific': 902, 'creation': 227, 'shop': 899, 'return': 836, 'ecommerc': 297, 'touch': 1000, 'total': 999, 'satisfact': 858, 'save': 859, 'list': 565, 'factor': 368, 'serv': 887, 'post': 729, 'citi': 155, 'mail': 587, 'free': 410, 'associ': 71, 'measur': 605, 'apart': 50, 'pay': 700, 'want': 1054, 'step': 945, 'rule': 851, 'exceed': 344, 'demand': 254, 'entir': 325, 'secur': 875, 'damag': 238, 'flexibl': 395, 'size': 912, 'repres': 822, 'pick': 712, 'locat': 572, 'airport': 38, 'board': 100, 'commerci': 173, 'hand': 442, 'land': 540, 'immedi': 476, 'prioriti': 751, 'distribut': 273, 'effect': 302, 'second': 872, 'soon': 921, 'economi': 299, 'win': 1070, 'longer': 576, 'altern': 40, 'common': 176, 'low': 582, 'claim': 156, 'smart': 915, 'util': 1035, 'truck': 1016, 'driver': 287, 'rout': 850, 'minut': 624, 'request': 824, 'protect': 770, 'transfer': 1007, 'capabl': 120, 'point': 722, 'canada': 119, 'cross': 231, 'border': 102, 'ltl': 584, 'rest': 832, 'assur': 72, 'manner': 594, 'fit': 391, 'assist': 70, 'break': 106, 'white': 1067, 'start': 939, 'finish': 389, 'exampl': 343, 'match': 600, 'client': 161, 'maxim': 603, 'charter': 147, 'book': 101, 'document': 279, 'relationship': 814, 'frequent': 412, 'competit': 181, 'rat': 791, 'certifi': 140, 'print': 749, 'display': 272, 'delay': 251, 'revenu': 837, 'grind': 435, 'mainten': 590, 'run': 852, 'tech': 979, 'healthcar': 450, 'oil': 667, 'gas': 423, 'auto': 77, 'vendor': 1043, 'data': 240, 'exchang': 346, 'singapor': 907, 'miami': 617, 'fl': 393, 'act': 13, 'extens': 363, 'specialist': 927, 'fleet': 394, 'project': 764, 'storag': 948, 'intellig': 506, 'reduc': 805, 'human': 469, 'error': 333, 'arriv': 62, 'easili': 295, 'monitor': 632, 'mobil': 627, 'confid': 192, 'train': 1005, 'potenti': 730, 'hub': 468, 'particular': 692, 'item': 521, 'carri': 128, 'profession': 759, 'platform': 718, 'discuss': 270, 'issu': 520, 'share': 893, 'owner': 684, 'portfolio': 726, 'space': 924, 'decis': 247, 'worker': 1073, 'quick': 784, 'replac': 820, 'nationwid': 639, 'offici': 666, 'truckload': 1017, 'weve': 1066, 'look': 577, 'earli': 291, 'st': 934, 'breakthrough': 107, 'turn': 1021, 'push': 779, 'explor': 359, 'shape': 892, 'vision': 1051, 'love': 581, 'hear': 452, 'general': 424, 'question': 783, 'hospit': 464, 'research': 826, 'latest': 546, 'answer': 49, 'simpl': 904, 'good': 430, 'empow': 313, 'easi': 293, 'shift': 895, 'daili': 236, 'stand': 937, 'privat': 753, 'screen': 867, 'separ': 884, 'spin': 932, 'retain': 835, 'broad': 109, 'section': 873, 'footprint': 401, 'ongo': 669, 'welcom': 1064, 'contract': 208, 'especi': 334, 'award': 84, 'light': 560, 'old': 668, 'span': 925, 'categori': 132, 'instal': 500, 'approach': 55, 'school': 863, 'imag': 475, 'uk': 1024, 'pm': 721, 'mexico': 616, 'germani': 426, 'kingdom': 534, 'ask': 66, 'door': 282, 'equiti': 332, 'fulfil': 416, 'scientif': 865, 'pandem': 689, 'sharehold': 894, 'link': 564, 'primari': 747, 'sit': 909, 'self': 879, 'titl': 996, 'higher': 457, 'late': 544, 'john': 526, 'purchas': 776, 'decid': 246, 'introduc': 513, 'divis': 277, 'ii': 473, 'forc': 402, 'face': 365, 'expens': 355, 'clinic': 162, 'studi': 960, 'complex': 184, 'involv': 519, 'million': 621, 'channel': 145, 'inventori': 515, 'depart': 255, 'commiss': 174, 'agre': 33, 'octob': 663, 'investig': 517, 'revers': 838, 'deal': 243, 'prior': 750, 'appoint': 54, 'head': 447, 'lane': 541, 'juli': 530, 'charg': 146, 'septemb': 885, 'remov': 819, 'june': 531, 'streamlin': 953, 'half': 441, 'fortun': 405, 'rank': 789, 'capit': 122, 'billion': 97, 'stock': 946, 'magazin': 586, 'exclus': 348, 'payment': 701, 'overal': 682, 'author': 76, 'succeed': 964, 'street': 954, 'stake': 936, 'thank': 989, 'august': 74, 'novemb': 654, 'expect': 353, 'exist': 350, 'asset': 69, 'cash': 131, 'buy': 115, 'compet': 180, 'accept': 3, 'percent': 703, 'price': 745, 'januari': 522, 'gain': 421, 'small': 914, 'strengthen': 956, 'heart': 453, 'allow': 39, 'aim': 36, 'competitor': 182, 'close': 163, 'merger': 613, 'transact': 1006, 'subject': 961, 'histor': 460, 'visibl': 1050, 'youll': 1083, 'chain': 141, 'email': 309, 'dont': 281, 'level': 556, 'marketplac': 599, 'branch': 104, 'simpli': 905, 'send': 881, 'drop': 288, 'store': 949, 'hire': 459, 'mile': 620, 'idea': 471, 'food': 400, 'true': 1018, 'phone': 711, 'thrive': 994, 'label': 538, 'accessori': 5, 'hard': 446, 'remain': 818, 'room': 848, 'age': 30, 'consist': 198, 'difficult': 264, 'tell': 982, 'celebr': 134, 'san': 857, 'prefer': 735, 'convers': 212, 'natur': 640, 'merchant': 612, 'thousand': 993, 'abil': 0, 'packag': 687, 'affili': 26, 'basic': 89, 'employ': 311, 'factori': 369, 'pass': 695, 'tri': 1015, 'superior': 967, 'energi': 317, 'understand': 1026, 'parti': 691, 'monday': 630, 'friday': 413, 'ag': 29, 'chief': 151, 'reflect': 807, 'equal': 330, 'transpar': 1010, 'root': 849, 'central': 136, 'perspect': 708, 'watch': 1058, 'doubl': 283, 'prepar': 738, 'truli': 1019, 'listen': 566, 'record': 804, 'intend': 507, 'appli': 52, 'purpos': 777, 'invest': 516, 'scale': 861, 'risk': 843, 'pioneer': 713, 'www': 1079, 'fulli': 417, 'technic': 980, 'sourc': 922, 'machin': 585, 'happi': 445, 'case': 130, 'pack': 686, 'mark': 597, 'sensit': 883, 'proud': 771, 'motiv': 634, 'segment': 877, 'talk': 975, 'recommend': 803, 'thing': 991, 'situat': 911, 'check': 148, 'reason': 799, 'big': 95, 'averag': 83, 'regist': 809, 'washington': 1057, 'station': 942, 'reli': 816, 'basi': 88, 'avenu': 82, 'menu': 611, 'content': 206, 'entri': 327, 'rd': 793, 'squar': 933, 'array': 61, 'foreign': 403, 'wholesal': 1068, 'district': 275, 'shanghai': 891, 'financ': 387, 'consider': 197, 'bank': 86, 'staff': 935, 'implement': 478, 'capac': 121, 'distributor': 274, 'media': 606, 'senior': 882, 'encourag': 315, 'necessari': 643, 'enterpris': 324, 'caus': 133, 'period': 706, 'softwar': 918, 'confirm': 193, 'scientist': 866, 'certif': 139, 'valid': 1036, 'lot': 580, 'sampl': 856, 'download': 284, 'date': 241, 'actual': 16, 'institut': 502, 'correct': 219, 'analyz': 45, 'fix': 392, 'proper': 767, 'complianc': 185, 'analyt': 44, 'method': 615, 'simplifi': 906, 'independ': 486, 'prove': 772, 'tailor': 973, 'automot': 79, 'european': 339, 'element': 307, 'object': 660, 'multin': 636, 'intens': 508, 'labor': 539, 'dock': 278, 'inbound': 481, 'coast': 164, 'atlanta': 73, 'termin': 985, 'ave': 81, 'dalla': 237, 'ca': 116, 'houston': 467, 'ny': 659, 'blvd': 99, 'francisco': 409, 'approxim': 58, 'electr': 305, 'mid': 618, 'll': 568, 'pl': 714, 'broker': 110, 'rail': 786, 'vast': 1040, 'speed': 930, 'knowledg': 537, 'app': 51, 'nthe': 655, 'notic': 653, 'qualifi': 780, 'past': 697, 'law': 548, 'submit': 962, 'say': 860, 'heavi': 454, 'navig': 641, 'worth': 1077, 'floor': 396, 'biggest': 96, 'vessel': 1045, 'promis': 765, 'kind': 533, 'quot': 785, 'assembl': 68, 'unmatch': 1030, 'brokerag': 111, 'insur': 504, 'web': 1061, 'inclus': 483, 'coverag': 224, 'fight': 383, 'fee': 378, 'feet': 381, 'campaign': 118, 'excit': 347, 'logo': 574, 'fund': 419, 'newslett': 649, 'acceler': 2, 'ahead': 35, 'elimin': 308, 'seamless': 869, 'entiti': 326, 'engag': 318, 'duti': 289, 'temperatur': 983, 'journey': 529, 'volum': 1053, 'evolv': 341, 'workforc': 1074, 'affect': 25, 'adapt': 17, 'fall': 370, 'afford': 27, 'ultim': 1025, 'dashboard': 239, 'shipper': 898, 'fact': 367, 'identifi': 472, 'similar': 903, 'virtual': 1049, 'accuraci': 9, 'mitig': 626, 'rais': 787, 'car': 123, 'concern': 189, 'consent': 195, 'lower': 583, 'compris': 188, 'credit': 229, 'internet': 512, 'texa': 987, 'intent': 509, 'conduct': 191, 'instead': 501, 'estim': 337, 'readi': 796}\n"
     ]
    }
   ],
   "source": [
    "print(count_vectorizer.vocabulary_)"
   ]
  },
  {
   "cell_type": "code",
   "execution_count": 318,
   "id": "superb-minister",
   "metadata": {},
   "outputs": [
    {
     "name": "stdout",
     "output_type": "stream",
     "text": [
      "0.98 f-1 score with a standard deviation of 0.01\n"
     ]
    }
   ],
   "source": [
    "crossvalidate_classifier(RandomForestClassifier(), tfidf_train, y_train)"
   ]
  },
  {
   "cell_type": "code",
   "execution_count": 319,
   "id": "binding-stadium",
   "metadata": {},
   "outputs": [
    {
     "name": "stdout",
     "output_type": "stream",
     "text": [
      "0.98 f-1 score with a standard deviation of 0.01\n"
     ]
    }
   ],
   "source": [
    "crossvalidate_classifier(GradientBoostingClassifier(), tfidf_train, y_train)"
   ]
  },
  {
   "cell_type": "code",
   "execution_count": 320,
   "id": "material-xerox",
   "metadata": {},
   "outputs": [
    {
     "data": {
      "text/plain": [
       "644           other\n",
       "628           other\n",
       "699           other\n",
       "849           other\n",
       "1242    fulfillment\n",
       "Name: class, dtype: object"
      ]
     },
     "execution_count": 320,
     "metadata": {},
     "output_type": "execute_result"
    }
   ],
   "source": [
    "y_train.head()"
   ]
  },
  {
   "cell_type": "code",
   "execution_count": 321,
   "id": "legislative-casino",
   "metadata": {},
   "outputs": [
    {
     "name": "stdout",
     "output_type": "stream",
     "text": [
      "(1085, 1084) (362, 1084) (1085,) (362,)\n"
     ]
    }
   ],
   "source": [
    "print(tfidf_train.shape, tfidf_test.shape, y_train.shape, y_test.shape)"
   ]
  },
  {
   "cell_type": "code",
   "execution_count": 322,
   "id": "future-classics",
   "metadata": {},
   "outputs": [
    {
     "name": "stdout",
     "output_type": "stream",
     "text": [
      "Accuracy Score:   0.997\n",
      "F-1 Score:   0.997\n"
     ]
    }
   ],
   "source": [
    "model = evaluate_classifier(RandomForestClassifier(), tfidf_train, tfidf_test, y_train, y_test)"
   ]
  },
  {
   "cell_type": "code",
   "execution_count": 323,
   "id": "moving-efficiency",
   "metadata": {},
   "outputs": [],
   "source": [
    "df_pred1= df[df['fulfillment']==0]"
   ]
  },
  {
   "cell_type": "code",
   "execution_count": 324,
   "id": "emerging-oxygen",
   "metadata": {},
   "outputs": [
    {
     "name": "stderr",
     "output_type": "stream",
     "text": [
      "C:\\Users\\4022313\\Anaconda3\\envs\\py37\\lib\\site-packages\\ipykernel_launcher.py:1: SettingWithCopyWarning: \n",
      "A value is trying to be set on a copy of a slice from a DataFrame.\n",
      "Try using .loc[row_indexer,col_indexer] = value instead\n",
      "\n",
      "See the caveats in the documentation: https://pandas.pydata.org/pandas-docs/stable/user_guide/indexing.html#returning-a-view-versus-a-copy\n",
      "  \"\"\"Entry point for launching an IPython kernel.\n"
     ]
    }
   ],
   "source": [
    "df_pred1['description'] = df_pred1['cntry_bus_nm']+ df_pred1['description_cntry']"
   ]
  },
  {
   "cell_type": "code",
   "execution_count": 325,
   "id": "attached-flooring",
   "metadata": {},
   "outputs": [
    {
     "name": "stderr",
     "output_type": "stream",
     "text": [
      "C:\\Users\\4022313\\Anaconda3\\envs\\py37\\lib\\site-packages\\ipykernel_launcher.py:1: SettingWithCopyWarning: \n",
      "A value is trying to be set on a copy of a slice from a DataFrame.\n",
      "Try using .loc[row_indexer,col_indexer] = value instead\n",
      "\n",
      "See the caveats in the documentation: https://pandas.pydata.org/pandas-docs/stable/user_guide/indexing.html#returning-a-view-versus-a-copy\n",
      "  \"\"\"Entry point for launching an IPython kernel.\n"
     ]
    }
   ],
   "source": [
    "df_pred1['tokens'] = df_pred1['description'].map(preprocess)"
   ]
  },
  {
   "cell_type": "code",
   "execution_count": 326,
   "id": "operational-leone",
   "metadata": {},
   "outputs": [],
   "source": [
    "tfidf_pred1 = tfidf_vectorizer.transform(df_pred1['tokens'])"
   ]
  },
  {
   "cell_type": "code",
   "execution_count": 327,
   "id": "little-yahoo",
   "metadata": {},
   "outputs": [],
   "source": [
    "prediction= model.predict(tfidf_pred1)"
   ]
  },
  {
   "cell_type": "code",
   "execution_count": 328,
   "id": "wanted-series",
   "metadata": {},
   "outputs": [
    {
     "name": "stdout",
     "output_type": "stream",
     "text": [
      "['fulfillment' 'fulfillment' 'fulfillment' 'other' 'other' 'other'\n",
      " 'fulfillment' 'fulfillment' 'other' 'fulfillment' 'fulfillment' 'other'\n",
      " 'other' 'other' 'fulfillment' 'other' 'fulfillment' 'other' 'fulfillment'\n",
      " 'other' 'other' 'fulfillment' 'fulfillment' 'fulfillment' 'other' 'other'\n",
      " 'fulfillment' 'fulfillment' 'fulfillment' 'fulfillment' 'fulfillment'\n",
      " 'fulfillment' 'other' 'fulfillment' 'other' 'other' 'other' 'fulfillment'\n",
      " 'other' 'fulfillment' 'fulfillment' 'fulfillment' 'fulfillment' 'other'\n",
      " 'fulfillment' 'other' 'fulfillment' 'fulfillment' 'fulfillment' 'other'\n",
      " 'fulfillment' 'other' 'other' 'other' 'other' 'other' 'other' 'other'\n",
      " 'other' 'other' 'other' 'fulfillment' 'fulfillment' 'other' 'other'\n",
      " 'fulfillment' 'fulfillment' 'fulfillment' 'other' 'fulfillment' 'other'\n",
      " 'fulfillment' 'fulfillment' 'fulfillment' 'other' 'fulfillment' 'other'\n",
      " 'other' 'other' 'other' 'other' 'other' 'other' 'other' 'fulfillment'\n",
      " 'other' 'fulfillment' 'fulfillment' 'other' 'other' 'fulfillment' 'other'\n",
      " 'fulfillment' 'fulfillment' 'fulfillment' 'fulfillment' 'fulfillment'\n",
      " 'fulfillment' 'other' 'other' 'other' 'other' 'other' 'fulfillment'\n",
      " 'other' 'fulfillment' 'fulfillment' 'other' 'other' 'other' 'fulfillment'\n",
      " 'fulfillment' 'other' 'other' 'fulfillment' 'fulfillment' 'other' 'other'\n",
      " 'other' 'fulfillment' 'fulfillment' 'other' 'fulfillment' 'fulfillment'\n",
      " 'fulfillment' 'other' 'fulfillment' 'other' 'fulfillment' 'fulfillment'\n",
      " 'other' 'other' 'other' 'fulfillment' 'other' 'fulfillment' 'fulfillment'\n",
      " 'other' 'other' 'other' 'other' 'fulfillment' 'fulfillment' 'other'\n",
      " 'fulfillment' 'other' 'other' 'other' 'other' 'other' 'fulfillment'\n",
      " 'fulfillment' 'other' 'fulfillment' 'other' 'other' 'other' 'other'\n",
      " 'other' 'other' 'other' 'other' 'fulfillment' 'fulfillment' 'other'\n",
      " 'other' 'other' 'fulfillment' 'other' 'fulfillment' 'fulfillment' 'other'\n",
      " 'other' 'other' 'other' 'other' 'fulfillment' 'fulfillment' 'other'\n",
      " 'fulfillment' 'fulfillment' 'other' 'fulfillment' 'fulfillment' 'other'\n",
      " 'fulfillment' 'other' 'other' 'fulfillment' 'fulfillment' 'other' 'other'\n",
      " 'other' 'other' 'other' 'fulfillment' 'fulfillment' 'fulfillment' 'other'\n",
      " 'other' 'other' 'fulfillment' 'other' 'fulfillment' 'other' 'fulfillment'\n",
      " 'fulfillment' 'fulfillment' 'fulfillment' 'other' 'fulfillment'\n",
      " 'fulfillment' 'fulfillment' 'fulfillment' 'fulfillment' 'other' 'other'\n",
      " 'other' 'other' 'other' 'other' 'other' 'other' 'fulfillment' 'other'\n",
      " 'other' 'fulfillment' 'other' 'other' 'fulfillment' 'other' 'fulfillment'\n",
      " 'fulfillment' 'other' 'other' 'fulfillment' 'fulfillment' 'other' 'other'\n",
      " 'other' 'other' 'fulfillment' 'fulfillment' 'fulfillment' 'other' 'other'\n",
      " 'other' 'other' 'fulfillment' 'other' 'fulfillment' 'other' 'fulfillment'\n",
      " 'fulfillment' 'other' 'other' 'other' 'other' 'other' 'other' 'other'\n",
      " 'fulfillment' 'other' 'other' 'other' 'other' 'other' 'fulfillment'\n",
      " 'fulfillment' 'fulfillment' 'other' 'other' 'other' 'fulfillment' 'other'\n",
      " 'other' 'fulfillment' 'fulfillment' 'fulfillment' 'other' 'fulfillment'\n",
      " 'fulfillment' 'other' 'other' 'fulfillment' 'other' 'fulfillment' 'other'\n",
      " 'other' 'other' 'fulfillment' 'other' 'fulfillment' 'fulfillment'\n",
      " 'fulfillment' 'other' 'other' 'fulfillment' 'fulfillment' 'other' 'other'\n",
      " 'fulfillment' 'other' 'fulfillment' 'fulfillment' 'other' 'fulfillment'\n",
      " 'other' 'other' 'other' 'other' 'other' 'fulfillment' 'other'\n",
      " 'fulfillment' 'fulfillment' 'other' 'fulfillment' 'fulfillment' 'other'\n",
      " 'other' 'other' 'fulfillment' 'other' 'other' 'fulfillment' 'fulfillment'\n",
      " 'other' 'other' 'other' 'other' 'fulfillment' 'fulfillment' 'other'\n",
      " 'fulfillment' 'fulfillment' 'other' 'other' 'fulfillment' 'fulfillment'\n",
      " 'other' 'other' 'other' 'other' 'fulfillment' 'fulfillment' 'other'\n",
      " 'fulfillment' 'fulfillment' 'fulfillment' 'fulfillment' 'other'\n",
      " 'fulfillment' 'other' 'other' 'other' 'other' 'other' 'other' 'other'\n",
      " 'other' 'other' 'fulfillment' 'other' 'other' 'fulfillment' 'fulfillment'\n",
      " 'other' 'fulfillment' 'other' 'other' 'other' 'fulfillment' 'other'\n",
      " 'other' 'other' 'other' 'other' 'fulfillment' 'other' 'fulfillment'\n",
      " 'fulfillment' 'fulfillment' 'fulfillment' 'fulfillment' 'other' 'other'\n",
      " 'other' 'fulfillment' 'other' 'other' 'other' 'other' 'fulfillment'\n",
      " 'other' 'fulfillment' 'other' 'fulfillment' 'fulfillment' 'other' 'other'\n",
      " 'other' 'fulfillment' 'other' 'fulfillment' 'other' 'fulfillment' 'other'\n",
      " 'fulfillment' 'other' 'other' 'other' 'other' 'other' 'fulfillment'\n",
      " 'fulfillment' 'fulfillment' 'fulfillment' 'other' 'fulfillment'\n",
      " 'fulfillment' 'other' 'fulfillment' 'other' 'other' 'fulfillment' 'other'\n",
      " 'fulfillment' 'fulfillment' 'fulfillment' 'other' 'other' 'other' 'other'\n",
      " 'other' 'fulfillment' 'other' 'other' 'other' 'other' 'fulfillment'\n",
      " 'fulfillment' 'other' 'other' 'fulfillment' 'other' 'other' 'other'\n",
      " 'fulfillment' 'other' 'other' 'fulfillment' 'other' 'other' 'other'\n",
      " 'fulfillment' 'fulfillment' 'other' 'fulfillment' 'other' 'other'\n",
      " 'fulfillment' 'other' 'fulfillment' 'fulfillment' 'other' 'other' 'other'\n",
      " 'other' 'other' 'fulfillment' 'fulfillment' 'other' 'fulfillment'\n",
      " 'fulfillment' 'other' 'fulfillment' 'other' 'other' 'fulfillment'\n",
      " 'fulfillment' 'other' 'fulfillment' 'fulfillment' 'other' 'other' 'other'\n",
      " 'fulfillment' 'fulfillment' 'fulfillment' 'other' 'other' 'fulfillment'\n",
      " 'other' 'fulfillment' 'other' 'fulfillment' 'other' 'other' 'other'\n",
      " 'other' 'other' 'other' 'other' 'fulfillment' 'other' 'other'\n",
      " 'fulfillment' 'other' 'other' 'other' 'other' 'other' 'fulfillment'\n",
      " 'other' 'other' 'other' 'fulfillment' 'other' 'fulfillment' 'fulfillment'\n",
      " 'other' 'other' 'fulfillment' 'other' 'fulfillment' 'other' 'other']\n"
     ]
    }
   ],
   "source": [
    "print(prediction)"
   ]
  },
  {
   "cell_type": "code",
   "execution_count": 329,
   "id": "incident-mobility",
   "metadata": {},
   "outputs": [
    {
     "name": "stderr",
     "output_type": "stream",
     "text": [
      "C:\\Users\\4022313\\Anaconda3\\envs\\py37\\lib\\site-packages\\ipykernel_launcher.py:1: SettingWithCopyWarning: \n",
      "A value is trying to be set on a copy of a slice from a DataFrame.\n",
      "Try using .loc[row_indexer,col_indexer] = value instead\n",
      "\n",
      "See the caveats in the documentation: https://pandas.pydata.org/pandas-docs/stable/user_guide/indexing.html#returning-a-view-versus-a-copy\n",
      "  \"\"\"Entry point for launching an IPython kernel.\n"
     ]
    }
   ],
   "source": [
    "df_pred1['class'] = np.asarray(prediction)"
   ]
  },
  {
   "cell_type": "code",
   "execution_count": 330,
   "id": "dominican-kitty",
   "metadata": {},
   "outputs": [
    {
     "data": {
      "text/plain": [
       "other          303\n",
       "fulfillment    225\n",
       "Name: class, dtype: int64"
      ]
     },
     "execution_count": 330,
     "metadata": {},
     "output_type": "execute_result"
    }
   ],
   "source": [
    "df_pred1['class'].value_counts()"
   ]
  },
  {
   "cell_type": "code",
   "execution_count": 331,
   "id": "pediatric-yeast",
   "metadata": {},
   "outputs": [
    {
     "data": {
      "text/html": [
       "<div>\n",
       "<style scoped>\n",
       "    .dataframe tbody tr th:only-of-type {\n",
       "        vertical-align: middle;\n",
       "    }\n",
       "\n",
       "    .dataframe tbody tr th {\n",
       "        vertical-align: top;\n",
       "    }\n",
       "\n",
       "    .dataframe thead th {\n",
       "        text-align: right;\n",
       "    }\n",
       "</style>\n",
       "<table border=\"1\" class=\"dataframe\">\n",
       "  <thead>\n",
       "    <tr style=\"text-align: right;\">\n",
       "      <th></th>\n",
       "      <th>Unnamed: 0</th>\n",
       "      <th>cntry_enti_nbr</th>\n",
       "      <th>cntry_bus_nm</th>\n",
       "      <th>web_links_cntry</th>\n",
       "      <th>description_cntry</th>\n",
       "      <th>feature</th>\n",
       "      <th>fulfillment</th>\n",
       "      <th>description</th>\n",
       "      <th>tokens</th>\n",
       "      <th>class</th>\n",
       "    </tr>\n",
       "  </thead>\n",
       "  <tbody>\n",
       "    <tr>\n",
       "      <th>0</th>\n",
       "      <td>0</td>\n",
       "      <td>487211337</td>\n",
       "      <td>Universal Traffic Service, Inc.</td>\n",
       "      <td>['https://www.utsnet.com/', 'https://www.utsne...</td>\n",
       "      <td>['Universal Traffic Service is the partner of ...</td>\n",
       "      <td>universal traffic service, inc.['universal tra...</td>\n",
       "      <td>0</td>\n",
       "      <td>Universal Traffic Service, Inc.['Universal Tra...</td>\n",
       "      <td>['univers', 'traffic', 'servic', 'univers', 't...</td>\n",
       "      <td>fulfillment</td>\n",
       "    </tr>\n",
       "    <tr>\n",
       "      <th>1</th>\n",
       "      <td>1</td>\n",
       "      <td>488212349</td>\n",
       "      <td>PLATINUM CARGO LOGISTICS</td>\n",
       "      <td>['https://www.platinumcargologistics.com/', 'h...</td>\n",
       "      <td>['Intelligent Solutions...Powerful Results  Pl...</td>\n",
       "      <td>platinum cargo logistics['intelligent solution...</td>\n",
       "      <td>0</td>\n",
       "      <td>PLATINUM CARGO LOGISTICS['Intelligent Solution...</td>\n",
       "      <td>['platinum', 'cargo', 'logist', 'intellig', 's...</td>\n",
       "      <td>fulfillment</td>\n",
       "    </tr>\n",
       "    <tr>\n",
       "      <th>3</th>\n",
       "      <td>3</td>\n",
       "      <td>485749529</td>\n",
       "      <td>Mesca (Ascent Global Logistics)</td>\n",
       "      <td>['https://ascentgl.com/blog/roadrunner-transpo...</td>\n",
       "      <td>['Roadrunner Transportation Systems (“Roadrunn...</td>\n",
       "      <td>mesca (ascent global logistics)['roadrunner tr...</td>\n",
       "      <td>0</td>\n",
       "      <td>Mesca (Ascent Global Logistics)['Roadrunner Tr...</td>\n",
       "      <td>['mesca', 'ascent', 'global', 'logist', 'roadr...</td>\n",
       "      <td>fulfillment</td>\n",
       "    </tr>\n",
       "    <tr>\n",
       "      <th>7</th>\n",
       "      <td>7</td>\n",
       "      <td>487889127</td>\n",
       "      <td>NANKAI ELECTRIC RAILWAY CO., LTD.</td>\n",
       "      <td>['https://www.bloomberg.com/profile/company/90...</td>\n",
       "      <td>[\"To continue, please click the box below to l...</td>\n",
       "      <td>nankai electric railway co., ltd.[\"to continue...</td>\n",
       "      <td>0</td>\n",
       "      <td>NANKAI ELECTRIC RAILWAY CO., LTD.[\"To continue...</td>\n",
       "      <td>['nankai', 'electr', 'railway', 'continu', 'cl...</td>\n",
       "      <td>other</td>\n",
       "    </tr>\n",
       "    <tr>\n",
       "      <th>8</th>\n",
       "      <td>8</td>\n",
       "      <td>488547798</td>\n",
       "      <td>Mid-America Overseas, Inc.</td>\n",
       "      <td>['https://www.maoinc.com/', 'https://www.maoin...</td>\n",
       "      <td>[' ', ' ']</td>\n",
       "      <td>mid-america overseas, inc.[' ', ' ']</td>\n",
       "      <td>0</td>\n",
       "      <td>Mid-America Overseas, Inc.[' ', ' ']</td>\n",
       "      <td>['mid', 'america', 'oversea']</td>\n",
       "      <td>other</td>\n",
       "    </tr>\n",
       "  </tbody>\n",
       "</table>\n",
       "</div>"
      ],
      "text/plain": [
       "   Unnamed: 0  cntry_enti_nbr                       cntry_bus_nm  \\\n",
       "0           0       487211337    Universal Traffic Service, Inc.   \n",
       "1           1       488212349           PLATINUM CARGO LOGISTICS   \n",
       "3           3       485749529    Mesca (Ascent Global Logistics)   \n",
       "7           7       487889127  NANKAI ELECTRIC RAILWAY CO., LTD.   \n",
       "8           8       488547798         Mid-America Overseas, Inc.   \n",
       "\n",
       "                                     web_links_cntry  \\\n",
       "0  ['https://www.utsnet.com/', 'https://www.utsne...   \n",
       "1  ['https://www.platinumcargologistics.com/', 'h...   \n",
       "3  ['https://ascentgl.com/blog/roadrunner-transpo...   \n",
       "7  ['https://www.bloomberg.com/profile/company/90...   \n",
       "8  ['https://www.maoinc.com/', 'https://www.maoin...   \n",
       "\n",
       "                                   description_cntry  \\\n",
       "0  ['Universal Traffic Service is the partner of ...   \n",
       "1  ['Intelligent Solutions...Powerful Results  Pl...   \n",
       "3  ['Roadrunner Transportation Systems (“Roadrunn...   \n",
       "7  [\"To continue, please click the box below to l...   \n",
       "8                                         [' ', ' ']   \n",
       "\n",
       "                                             feature  fulfillment  \\\n",
       "0  universal traffic service, inc.['universal tra...            0   \n",
       "1  platinum cargo logistics['intelligent solution...            0   \n",
       "3  mesca (ascent global logistics)['roadrunner tr...            0   \n",
       "7  nankai electric railway co., ltd.[\"to continue...            0   \n",
       "8               mid-america overseas, inc.[' ', ' ']            0   \n",
       "\n",
       "                                         description  \\\n",
       "0  Universal Traffic Service, Inc.['Universal Tra...   \n",
       "1  PLATINUM CARGO LOGISTICS['Intelligent Solution...   \n",
       "3  Mesca (Ascent Global Logistics)['Roadrunner Tr...   \n",
       "7  NANKAI ELECTRIC RAILWAY CO., LTD.[\"To continue...   \n",
       "8               Mid-America Overseas, Inc.[' ', ' ']   \n",
       "\n",
       "                                              tokens        class  \n",
       "0  ['univers', 'traffic', 'servic', 'univers', 't...  fulfillment  \n",
       "1  ['platinum', 'cargo', 'logist', 'intellig', 's...  fulfillment  \n",
       "3  ['mesca', 'ascent', 'global', 'logist', 'roadr...  fulfillment  \n",
       "7  ['nankai', 'electr', 'railway', 'continu', 'cl...        other  \n",
       "8                      ['mid', 'america', 'oversea']        other  "
      ]
     },
     "execution_count": 331,
     "metadata": {},
     "output_type": "execute_result"
    }
   ],
   "source": [
    "df_pred1.head()"
   ]
  },
  {
   "cell_type": "code",
   "execution_count": 332,
   "id": "administrative-prototype",
   "metadata": {},
   "outputs": [],
   "source": [
    "df_pred1[['cntry_enti_nbr','cntry_bus_nm','class']].to_csv('C:/Users/4022313/OneDrive - MyFedEx/Desktop/Projects/Fullfilment Houses/TI_fulfillment_predicted.csv')"
   ]
  },
  {
   "cell_type": "code",
   "execution_count": 336,
   "id": "sexual-gender",
   "metadata": {},
   "outputs": [
    {
     "name": "stdout",
     "output_type": "stream",
     "text": [
      "Index(['name', 'description', 'class'], dtype='object') Index(['Unnamed: 0', 'cntry_enti_nbr', 'cntry_bus_nm', 'web_links_cntry',\n",
      "       'description_cntry', 'feature', 'fulfillment', 'description', 'tokens',\n",
      "       'class'],\n",
      "      dtype='object')\n"
     ]
    }
   ],
   "source": [
    "print(df1.columns, df_pred1.columns)"
   ]
  },
  {
   "cell_type": "code",
   "execution_count": 358,
   "id": "anonymous-assist",
   "metadata": {},
   "outputs": [],
   "source": [
    "df_ff1= df_fulfillment[['cntry_enti_nbr', 'cntry_bus_nm', 'fulfillment']]\n",
    "df_ff1.columns= ['cntry_enti_nbr', 'cntry_bus_nm', 'class']\n",
    "\n",
    "df_ff2= df_pred1[['cntry_enti_nbr','cntry_bus_nm','class']]"
   ]
  },
  {
   "cell_type": "code",
   "execution_count": 359,
   "id": "acting-concept",
   "metadata": {},
   "outputs": [
    {
     "name": "stdout",
     "output_type": "stream",
     "text": [
      "(1519, 3)\n",
      "   cntry_enti_nbr                        cntry_bus_nm class\n",
      "1       488212349            PLATINUM CARGO LOGISTICS     1\n",
      "2       488487617  Tazmanian Freight Forwarding, Inc.     1\n",
      "3       485749529     Mesca (Ascent Global Logistics)     1\n",
      "4      1213806603                         GlobalTranz     1\n",
      "5       487220833           A.P. MÃ¸ller - MÃ¦rsk A/S     1\n"
     ]
    }
   ],
   "source": [
    "TI_all = pd.concat([df_ff1, df_ff2], axis=0)\n",
    "print(TI_all.shape)\n",
    "print(TI_all.head())"
   ]
  },
  {
   "cell_type": "code",
   "execution_count": 343,
   "id": "accompanied-progressive",
   "metadata": {},
   "outputs": [],
   "source": [
    "TI_all.to_csv('C:/Users/4022313/OneDrive - MyFedEx/Desktop/Projects/Fullfilment Houses/TI_fulfillment_all.csv')"
   ]
  },
  {
   "cell_type": "code",
   "execution_count": 360,
   "id": "furnished-simon",
   "metadata": {},
   "outputs": [
    {
     "name": "stdout",
     "output_type": "stream",
     "text": [
      "(640, 3)\n"
     ]
    }
   ],
   "source": [
    "TI_all_nodup= TI_all.drop_duplicates('cntry_enti_nbr')\n",
    "print(TI_all_nodup.shape)"
   ]
  },
  {
   "cell_type": "code",
   "execution_count": 362,
   "id": "covered-premises",
   "metadata": {},
   "outputs": [
    {
     "data": {
      "text/plain": [
       "1              488\n",
       "other          121\n",
       "fulfillment     31\n",
       "Name: class, dtype: int64"
      ]
     },
     "execution_count": 362,
     "metadata": {},
     "output_type": "execute_result"
    }
   ],
   "source": [
    "TI_all_nodup['class'].value_counts()"
   ]
  },
  {
   "cell_type": "code",
   "execution_count": 363,
   "id": "appointed-trunk",
   "metadata": {},
   "outputs": [],
   "source": [
    "TI_nodup=TI_all_nodup.copy()"
   ]
  },
  {
   "cell_type": "code",
   "execution_count": 364,
   "id": "characteristic-screw",
   "metadata": {},
   "outputs": [
    {
     "name": "stderr",
     "output_type": "stream",
     "text": [
      "C:\\Users\\4022313\\Anaconda3\\envs\\py37\\lib\\site-packages\\pandas\\core\\series.py:4512: SettingWithCopyWarning: \n",
      "A value is trying to be set on a copy of a slice from a DataFrame\n",
      "\n",
      "See the caveats in the documentation: https://pandas.pydata.org/pandas-docs/stable/user_guide/indexing.html#returning-a-view-versus-a-copy\n",
      "  method=method,\n"
     ]
    }
   ],
   "source": [
    "TI_all_nodup['class'].replace('fulfillment',1, inplace=True)\n",
    "TI_all_nodup['class'].replace('other',0, inplace=True)"
   ]
  },
  {
   "cell_type": "code",
   "execution_count": 365,
   "id": "strategic-contemporary",
   "metadata": {},
   "outputs": [],
   "source": [
    "TI_all_nodup.to_csv('C:/Users/4022313/OneDrive - MyFedEx/Desktop/Projects/Fullfilment Houses/TI_fulfillment_nodup.csv')"
   ]
  },
  {
   "cell_type": "code",
   "execution_count": null,
   "id": "tutorial-pastor",
   "metadata": {},
   "outputs": [],
   "source": []
  }
 ],
 "metadata": {
  "kernelspec": {
   "display_name": "Python 3",
   "language": "python",
   "name": "python3"
  },
  "language_info": {
   "codemirror_mode": {
    "name": "ipython",
    "version": 3
   },
   "file_extension": ".py",
   "mimetype": "text/x-python",
   "name": "python",
   "nbconvert_exporter": "python",
   "pygments_lexer": "ipython3",
   "version": "3.7.10"
  }
 },
 "nbformat": 4,
 "nbformat_minor": 5
}
