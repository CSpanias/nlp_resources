{
 "cells": [
  {
   "cell_type": "markdown",
   "id": "3f2dec07",
   "metadata": {},
   "source": [
    "# **Natural Language Processing with Python**\n",
    "by [CSpanias](https://cspanias.github.io/aboutme/) - 01/2022\n",
    "\n",
    "Content based on the [NLTK book](https://www.nltk.org/book/). <br>\n",
    "\n",
    "You can find Chapter 3 [here](https://www.nltk.org/book/ch03.html).\n",
    "\n",
    "# CONTENT\n",
    "\n",
    "1. Language Processing and Python\n",
    "2. Accessing Text Corpora and Lexical Resources\n",
    "3. Processing Raw Text\n",
    "    1. Accessing Text from the Web and from Disk\n",
    "    2. Strings: Text Processing at the Lowest Level\n",
    "    3. Text Processing with Unicode\n",
    "    4. Regular Expressions for Detecting Word Patterns\n",
    "    5. Useful Applications of Regural Expressions\n",
    "    6. Normalizing Text\n",
    "    7. Regular Expressions for Tokenizing Text\n",
    "    8. [Segmentation](#Segmentation)\n",
    "        1. [Sentence Segmentation](#SentSegm)\n",
    "        1. [Word Segmentation](#WordSegm)\n",
    "    9. [Formatting: From Lists to Strings](#Formatting)\n",
    "        1. [From Lists to Strings](#List2String)\n",
    "        1. [Strings and Formats](#StringFormats)\n",
    "        1. [Lining Things Up](#Lining)\n",
    "        1. [Writing Results to a File](#File)\n",
    "        1. [Text Wrapping](#Wrapping)\n"
   ]
  },
  {
   "cell_type": "markdown",
   "id": "d0276129",
   "metadata": {},
   "source": [
    "<a name=\"Segmentation\"></a>\n",
    "## 3.8 Segmentation\n",
    "1. [Sentence Segmentation](#SentSegm)\n",
    "1. [Word Segmentation](#WordSegm)"
   ]
  },
  {
   "cell_type": "markdown",
   "id": "61953cdf",
   "metadata": {},
   "source": [
    "<a name=\"SentSegm\"></a>\n",
    "###  3.8.1 Sentence Segmentation"
   ]
  },
  {
   "cell_type": "markdown",
   "id": "217cd8e6",
   "metadata": {},
   "source": [
    "<a name=\"WordSegm\"></a>\n",
    "###  3.8.2 Word Segmentation"
   ]
  },
  {
   "cell_type": "markdown",
   "id": "4d76b60c",
   "metadata": {},
   "source": [
    "<a name=\"Formatting\"></a>\n",
    "## 3.9 Formatting: From Lists to Strings\n",
    "1. [From Lists to Strings](#List2String)\n",
    "1. [Strings and Formats](#StringFormats)\n",
    "1. [Lining Things Up](#Lining)\n",
    "1. [Writing Results to a File](#File)\n",
    "1. [Text Wrapping](#Wrapping)"
   ]
  },
  {
   "cell_type": "markdown",
   "id": "d2f155c5",
   "metadata": {},
   "source": [
    "<a name=\"List2String\"></a>\n",
    "###  3.9.1 From Lists to Strings"
   ]
  },
  {
   "cell_type": "markdown",
   "id": "430665ab",
   "metadata": {},
   "source": [
    "<a name=\"StringFormats\"></a>\n",
    "###  3.9.2 Strings and Formats"
   ]
  },
  {
   "cell_type": "markdown",
   "id": "213a1a4b",
   "metadata": {},
   "source": [
    "<a name=\"Lining\"></a>\n",
    "###  3.9.3 Lining Things Up"
   ]
  },
  {
   "cell_type": "markdown",
   "id": "f6b74837",
   "metadata": {},
   "source": [
    "<a name=\"File\"></a>\n",
    "###  3.9.4 Writing Results to a File"
   ]
  },
  {
   "cell_type": "markdown",
   "id": "8ba2600e",
   "metadata": {},
   "source": [
    "<a name=\"Wrapping\"></a>\n",
    "###  3.9.5 Text Wrapping"
   ]
  }
 ],
 "metadata": {
  "kernelspec": {
   "display_name": "Python 3 (ipykernel)",
   "language": "python",
   "name": "python3"
  },
  "language_info": {
   "codemirror_mode": {
    "name": "ipython",
    "version": 3
   },
   "file_extension": ".py",
   "mimetype": "text/x-python",
   "name": "python",
   "nbconvert_exporter": "python",
   "pygments_lexer": "ipython3",
   "version": "3.9.7"
  }
 },
 "nbformat": 4,
 "nbformat_minor": 5
}
