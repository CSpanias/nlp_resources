{
 "cells": [
  {
   "cell_type": "code",
   "execution_count": 16,
   "id": "9a073f8d",
   "metadata": {},
   "outputs": [
    {
     "ename": "ValueError",
     "evalue": "invalid literal for int() with base 10: ''",
     "output_type": "error",
     "traceback": [
      "\u001b[1;31m---------------------------------------------------------------------------\u001b[0m",
      "\u001b[1;31mValueError\u001b[0m                                Traceback (most recent call last)",
      "\u001b[1;32m~\\AppData\\Local\\Temp/ipykernel_1584/19985336.py\u001b[0m in \u001b[0;36m<module>\u001b[1;34m\u001b[0m\n\u001b[0;32m     14\u001b[0m     \u001b[0mline_split\u001b[0m \u001b[1;33m=\u001b[0m \u001b[0mline\u001b[0m\u001b[1;33m.\u001b[0m\u001b[0msplit\u001b[0m\u001b[1;33m(\u001b[0m\u001b[1;34m' +++$+++ '\u001b[0m\u001b[1;33m)\u001b[0m\u001b[1;33m\u001b[0m\u001b[1;33m\u001b[0m\u001b[0m\n\u001b[0;32m     15\u001b[0m     \u001b[1;31m# append tuple of character and line\u001b[0m\u001b[1;33m\u001b[0m\u001b[1;33m\u001b[0m\u001b[0m\n\u001b[1;32m---> 16\u001b[1;33m     \u001b[0mline_num\u001b[0m \u001b[1;33m=\u001b[0m \u001b[0mint\u001b[0m\u001b[1;33m(\u001b[0m\u001b[0mline_split\u001b[0m\u001b[1;33m[\u001b[0m\u001b[1;36m0\u001b[0m\u001b[1;33m]\u001b[0m\u001b[1;33m[\u001b[0m\u001b[1;36m1\u001b[0m\u001b[1;33m:\u001b[0m\u001b[1;33m]\u001b[0m\u001b[1;33m)\u001b[0m\u001b[1;33m\u001b[0m\u001b[1;33m\u001b[0m\u001b[0m\n\u001b[0m\u001b[0;32m     17\u001b[0m \u001b[1;33m\u001b[0m\u001b[0m\n\u001b[0;32m     18\u001b[0m     \u001b[0mcurrent_line\u001b[0m \u001b[1;33m=\u001b[0m \u001b[0mline_split\u001b[0m\u001b[1;33m[\u001b[0m\u001b[1;36m4\u001b[0m\u001b[1;33m]\u001b[0m\u001b[1;33m.\u001b[0m\u001b[0mstrip\u001b[0m\u001b[1;33m(\u001b[0m\u001b[1;33m)\u001b[0m\u001b[1;33m\u001b[0m\u001b[1;33m\u001b[0m\u001b[0m\n",
      "\u001b[1;31mValueError\u001b[0m: invalid literal for int() with base 10: ''"
     ]
    }
   ],
   "source": [
    "import more_itertools as mit\n",
    "\n",
    "data_path = r'C:/Users/10inm/NLP/princess_bride.txt'\n",
    "\n",
    "# Defining lines as a list of each line\n",
    "with open(data_path, 'r', encoding='utf-8') as f:\n",
    "  raw_lines = f.read().split('\\n')\n",
    "\n",
    "raw_lines.reverse()\n",
    "lines = []\n",
    "\n",
    "for line in raw_lines:\n",
    "    # split line into parts\n",
    "    line_split = line.split(' +++$+++ ')\n",
    "    # append tuple of character and line\n",
    "    line_num = int(line_split[0][1:])\n",
    "\n",
    "    current_line = line_split[4].strip()\n",
    "    # append tuple of line num, character and line\n",
    "    lines.append((line_num, current_line))\n",
    "# make sure the lines are in order\n",
    "lines = sorted(lines, key=lambda x: x[0])\n",
    "\n",
    "# group lines by scene\n",
    "by_scene = [list(group) for group in mit.consecutive_groups(lines, lambda x: x[0])]\n",
    "\n",
    "dialog_only = [[dialog_line[1] for dialog_line in dialog_group] \n",
    "                for dialog_group in by_scene]\n",
    "\n",
    "dialog_combos_nested = [list(map(list, zip(dialog_group, dialog_group[1:]))) for dialog_group in dialog_only]\n",
    "\n",
    "dialog_combos = [combo for combos in dialog_combos_nested for combo in combos]\n",
    "\n",
    "# print dialog combos:\n",
    "print(dialog_combos)\n"
   ]
  },
  {
   "cell_type": "code",
   "execution_count": 18,
   "id": "7c0c0c67",
   "metadata": {},
   "outputs": [],
   "source": [
    "dialog_combos = [['You feeling any better?', 'A little bit.'],\n",
    "                 ['A little bit.', 'Guess what.'], ['Guess what.', 'What?'],\n",
    "                 ['What?', \"Your grandfather's here.\"],\n",
    "                 [\"Your grandfather's here.\", \"Mom, can't you tell him that I'm sick?\"],\n",
    "                 [\"Mom, can't you tell him that I'm sick?\", \"You are sick, that's why he's here.\"],\n",
    "                 ['I brought you a special present.', 'What is it?'], ['What is it?', 'Open it up.'],\n",
    "                 ['Open it up.', 'A book?'], ['A book?', \"That's right.\"],\n",
    "                 [\"He's climbing the rope. And he's gaining on us.\", 'Inconceivable!'],\n",
    "                 ['Sorry.', 'Thank you.'], ['Thank you.', 'I do not suppose you could speed things up?'],\n",
    "                 ['Hello.', \"It's you.\"], [\"It's you.\", 'True!'],\n",
    "                 ['True!', \"You don't look so good.  You don't smell so good either.\"],\n",
    "                 [\"You don't look so good.  You don't smell so good either.\", 'Perhaps not. I feel fine.'],\n",
    "                 ['Perhaps not. I feel fine.', 'Yeah?'], ['An hour.', 'Yeah, an hour.'],\n",
    "                 ['Yeah, an hour.', 'A good hour. Yeah.'],\n",
    "                 ['Now I think you ought to go to sleep.', 'Okay.'], ['Okay.', 'Okay. Okay. Okay. All right. So long.'],\n",
    "                 ['Maybe you could come over and read it again to me tomorrow.', 'As you wish...']]"
   ]
  },
  {
   "cell_type": "code",
   "execution_count": 20,
   "id": "b13fc7c7",
   "metadata": {},
   "outputs": [
    {
     "name": "stdout",
     "output_type": "stream",
     "text": [
      "Cool!\n",
      "\n"
     ]
    }
   ],
   "source": [
    "import numpy as np\n",
    "from seq2seq import encoder_model, decoder_model, num_decoder_tokens, target_features_dict, reverse_target_features_dict, max_decoder_seq_length\n",
    "\n",
    "class ChatBot:\n",
    "  \n",
    "  negative_responses = (\"no\", \"nope\", \"nah\", \"naw\", \"not a chance\", \"sorry\")\n",
    "\n",
    "  exit_commands = (\"quit\", \"pause\", \"exit\", \"goodbye\", \"bye\", \"later\", \"stop\")\n",
    "  \n",
    "  def start_chat(self):\n",
    "    user_response = input(\"Hi, I'm a chatbot trained on dialog from The Princess Bride. Would you like to chat with me?\\n\")\n",
    "    \n",
    "    if user_response in self.negative_responses:\n",
    "      print(\"Ok, have a great day!\")\n",
    "      return\n",
    "    \n",
    "    self.chat(user_response)\n",
    "  \n",
    "  def chat(self, reply):\n",
    "    while not self.make_exit(reply):\n",
    "      reply = input(self.generate_response(reply))\n",
    "    \n",
    "\n",
    "  def generate_response(self, user_input):\n",
    "    states_value = encoder_model.predict(user_input)\n",
    "    target_seq = np.zeros((1, 1, num_decoder_tokens))\n",
    "    target_seq[0, 0, target_features_dict['<START>']] = 1.\n",
    "\n",
    "    chatbot_response = ''\n",
    "\n",
    "    stop_condition = False\n",
    "    while not stop_condition:\n",
    "      output_tokens, hidden_state, cell_state = decoder_model.predict([target_seq] + states_value)\n",
    "\n",
    "      sampled_token_index = np.argmax(output_tokens[0, -1, :])\n",
    "      sampled_token = reverse_target_features_dict[sampled_token_index]\n",
    "      chatbot_response += \" \" + sampled_token\n",
    "\n",
    "      if (sampled_token == '<END>' or len(chatbot_response) > max_decoder_seq_length):\n",
    "        stop_condition = True\n",
    "\n",
    "      target_seq = np.zeros((1, 1, num_decoder_tokens))\n",
    "      target_seq[0, 0, sampled_token_index] = 1.\n",
    "\n",
    "      states_value = [hidden_state, cell_state]\n",
    "\n",
    "    return chatbot_response\n",
    "  \n",
    "  def make_exit(self, reply):\n",
    "    for exit_command in self.exit_commands:\n",
    "      if exit_command in reply:\n",
    "        print(\"Ok, have a great day!\")\n",
    "        return True\n",
    "      \n",
    "    return False\n",
    "  \n",
    "chatty_mcchatface = ChatBot()\n",
    "# call .generate_response():\n",
    "chatty_mcchatface.generate_response(\"asdasdas\")\n",
    "\n"
   ]
  }
 ],
 "metadata": {
  "kernelspec": {
   "display_name": "Python 3 (ipykernel)",
   "language": "python",
   "name": "python3"
  },
  "language_info": {
   "codemirror_mode": {
    "name": "ipython",
    "version": 3
   },
   "file_extension": ".py",
   "mimetype": "text/x-python",
   "name": "python",
   "nbconvert_exporter": "python",
   "pygments_lexer": "ipython3",
   "version": "3.9.7"
  }
 },
 "nbformat": 4,
 "nbformat_minor": 5
}
