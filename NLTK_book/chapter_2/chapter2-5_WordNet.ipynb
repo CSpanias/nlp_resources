{
 "cells": [
  {
   "cell_type": "markdown",
   "id": "3f2dec07",
   "metadata": {},
   "source": [
    "# **Natural Language Processing with Python**\n",
    "by [CSpanias](https://cspanias.github.io/aboutme/) - 01/2022\n",
    "\n",
    "Content based on the [NLTK book](https://www.nltk.org/book/). <br>\n",
    "\n",
    "You can find Chapter 2 [here](https://www.nltk.org/book/ch02.html).\n",
    "\n",
    "# CONTENT\n",
    "\n",
    "1. Language Processing and Python\n",
    "2. Accessing Text Corpora and Lexical Resources\n",
    "    1. Accessing Text Corpora\n",
    "    2. Conditional Frequency Distributions\n",
    "    3. More Python: Reusing Code\n",
    "    4. Lexical Resources\n",
    "    5. [WordNet](#WordNet)\n",
    "        1. [Senses and Synonyms](#SensesSyns)\n",
    "        2. [The WordNet Hierarchy](#Hierarchy)\n",
    "        3. [More Lexical Relations](#LexicalRelations)\n",
    "        4. [Semantic Similarity](#Semantics)"
   ]
  },
  {
   "cell_type": "markdown",
   "id": "385d370d",
   "metadata": {},
   "source": [
    "**Install**, **import** and **download NLTK**. <br>\n",
    "\n",
    "*Uncomment lines 2 and 5 if you haven't installed and downloaded NLTK yet.*"
   ]
  },
  {
   "cell_type": "code",
   "execution_count": 1,
   "id": "d2abe7cf",
   "metadata": {},
   "outputs": [],
   "source": [
    "# install nltk\n",
    "#!pip install nltk\n",
    "\n",
    "# load nltk\n",
    "import nltk\n",
    "\n",
    "# download nltk\n",
    "#nltk.download()"
   ]
  },
  {
   "cell_type": "markdown",
   "id": "d0276129",
   "metadata": {},
   "source": [
    "<a name=\"WordNet\"></a>\n",
    "## 2.5. WordNet\n",
    "1. [Senses and Synonyms](#SensesSyns)\n",
    "2. [The WordNet Hierarchy](#Hierarchy)\n",
    "3. [More Lexical Relations](#LexicalRelations)\n",
    "4. [Semantic Similarity](#Semantics)\n",
    "\n",
    "`from nltk.corpus import wordnet`\n",
    "\n",
    "WordNet is a **semantically-oriented dictionary of English**, similar to a traditional **thesaurus** but with a **richer structure**. \n",
    "\n",
    "NLTK includes the **English WordNet**, with **155,287 words** and **117,659 synonym sets**."
   ]
  },
  {
   "cell_type": "markdown",
   "id": "4f721ef3",
   "metadata": {},
   "source": [
    "<a name=\"SensesSyns\"></a>\n",
    "### 2.5.1 Senses and Synonyms\n",
    "If we replace a word in a sentence and its meaning remain the same, those words are **synonyms**, i.e. have the **same meaning**."
   ]
  },
  {
   "cell_type": "code",
   "execution_count": 2,
   "id": "89e108b4",
   "metadata": {},
   "outputs": [
    {
     "name": "stdout",
     "output_type": "stream",
     "text": [
      "[Synset('car.n.01')]\n"
     ]
    }
   ],
   "source": [
    "from nltk.corpus import wordnet as wn\n",
    "\n",
    "# search for the 'sense' of a word\n",
    "print(wn.synsets('motorcar'))"
   ]
  },
  {
   "cell_type": "markdown",
   "id": "5cf77a0d",
   "metadata": {},
   "source": [
    "The word 'motorcar' has **one possible meaning**, identified as `car.n.01`, the $1^{st}$ **noun sense** of 'car'.\n",
    "\n",
    "The **entity** `car.n.01` is called a **synset**, **syn**onym **set**, a collection of synonymous words (or \"**lemmas**\")."
   ]
  },
  {
   "cell_type": "code",
   "execution_count": 4,
   "id": "603a987a",
   "metadata": {
    "scrolled": true
   },
   "outputs": [
    {
     "name": "stdout",
     "output_type": "stream",
     "text": [
      "['car', 'auto', 'automobile', 'machine', 'motorcar']\n"
     ]
    }
   ],
   "source": [
    "# search for all the synonyms that have the same lemma\n",
    "print(wn.synset('car.n.01').lemma_names())"
   ]
  },
  {
   "cell_type": "markdown",
   "id": "56e0b2f7",
   "metadata": {},
   "source": [
    "Each word of a **synset** can have **several meanings**, however we are interested in the **single meaning**, i.e. **lemma**, that is common to all words of the above synset."
   ]
  },
  {
   "cell_type": "code",
   "execution_count": 6,
   "id": "0fcb0216",
   "metadata": {},
   "outputs": [
    {
     "name": "stdout",
     "output_type": "stream",
     "text": [
      "a motor vehicle with four wheels; usually propelled by an internal combustion engine \n",
      "\n",
      "['he needs a car to get to work']\n"
     ]
    }
   ],
   "source": [
    "# get the definition of a synset\n",
    "print(wn.synset('car.n.01').definition(), \"\\n\")\n",
    "\n",
    "# get an example use of a synset\n",
    "print(wn.synset('car.n.01').examples())"
   ]
  },
  {
   "cell_type": "markdown",
   "id": "6de2773f",
   "metadata": {},
   "source": [
    "Although definitions help humans to understand the intended meaning of a synset, **the words of the synset are often more useful for our programs**.\n",
    "\n",
    "To eliminate ambiguity, we will identify these words as car.n.01.automobile, car.n.01.motorcar, and so on. This **pairing of a synset with a word** is called a **lemma**. "
   ]
  },
  {
   "cell_type": "code",
   "execution_count": 25,
   "id": "d9b65ec3",
   "metadata": {
    "scrolled": true
   },
   "outputs": [
    {
     "name": "stdout",
     "output_type": "stream",
     "text": [
      "[Lemma('car.n.01.car'), Lemma('car.n.01.auto'), Lemma('car.n.01.automobile'), Lemma('car.n.01.machine'), Lemma('car.n.01.motorcar')] \n",
      "\n",
      "Lemma('car.n.01.automobile') \n",
      "\n",
      "Synset('car.n.01') \n",
      "\n",
      "automobile\n"
     ]
    }
   ],
   "source": [
    "# get all lemmas for synset\n",
    "print(wn.synset('car.n.01').lemmas(), \"\\n\")\n",
    "\n",
    "# look up for a particular lemma\n",
    "print(wn.lemma('car.n.01.automobile'), \"\\n\")\n",
    "\n",
    "# get the synset corresponding to a lemma\n",
    "print(wn.lemma('car.n.01.automobile').synset(), \"\\n\")\n",
    "\n",
    "# get the name of a lemma\n",
    "print(wn.lemma('car.n.01.automobile').name())"
   ]
  },
  {
   "cell_type": "code",
   "execution_count": 18,
   "id": "6a663704",
   "metadata": {
    "scrolled": true
   },
   "outputs": [
    {
     "name": "stdout",
     "output_type": "stream",
     "text": [
      "[Synset('car.n.01'), Synset('car.n.02'), Synset('car.n.03'), Synset('car.n.04'), Synset('cable_car.n.01')] \n",
      "\n",
      "['car', 'auto', 'automobile', 'machine', 'motorcar']\n",
      "['car', 'railcar', 'railway_car', 'railroad_car']\n",
      "['car', 'gondola']\n",
      "['car', 'elevator_car']\n",
      "['cable_car', 'car']\n",
      "\n",
      " [Lemma('car.n.01.car'), Lemma('car.n.02.car'), Lemma('car.n.03.car'), Lemma('car.n.04.car'), Lemma('cable_car.n.01.car')]\n"
     ]
    }
   ],
   "source": [
    "# get the synsets of 'car'\n",
    "print(wn.synsets('car'), \"\\n\")\n",
    "\n",
    "# print lemmas associated with 'car'\n",
    "for synset in wn.synsets('car'):\n",
    "    print(synset.lemma_names())\n",
    "    \n",
    "# access all lemmas\n",
    "print(\"\\n\", wn.lemmas('car'))"
   ]
  },
  {
   "cell_type": "markdown",
   "id": "dfb2a4bb",
   "metadata": {},
   "source": [
    "Unlike the **unambiguous** word 'motorcar' (has one synset), the word is **ambiguous** (has five synsets)."
   ]
  },
  {
   "attachments": {
    "wordnet_hierarchy.PNG": {
     "image/png": "[encoded data removed]"
    }
   },
   "cell_type": "markdown",
   "id": "e2611dba",
   "metadata": {},
   "source": [
    "<a name=\"Hierarchy\"></a>\n",
    "### 2.5.2 The WordNet Hierarchy\n",
    "WordNet synsets correspond to **abstract concepts**, and they don't always have corresponding words in English. \n",
    "\n",
    "These concepts are linked together in a hierarchy. Some concepts are very general, such as Entity, State, Event — these are called **unique beginners** or **root synsets**. Others, such as gas guzzler and hatchback, are much more specific. \n",
    "\n",
    "![wordnet_hierarchy.PNG](attachment:wordnet_hierarchy.PNG)\n",
    "\n",
    "WordNet makes it easy to navigate between concepts. For example, given a concept like motorcar, we can look at the concepts that are more specific; the (immediate) **hyponyms**."
   ]
  },
  {
   "cell_type": "code",
   "execution_count": 28,
   "id": "a0bfccf2",
   "metadata": {},
   "outputs": [
    {
     "name": "stdout",
     "output_type": "stream",
     "text": [
      "[Synset('ambulance.n.01'), Synset('beach_wagon.n.01'), Synset('bus.n.04'), Synset('cab.n.03'), Synset('compact.n.03'), Synset('convertible.n.01'), Synset('coupe.n.01'), Synset('cruiser.n.01'), Synset('electric.n.01'), Synset('gas_guzzler.n.01')] \n",
      "\n",
      "['Model_T', 'S.U.V.', 'SUV', 'Stanley_Steamer', 'ambulance', 'beach_waggon', 'beach_wagon', 'bus', 'cab', 'compact', 'compact_car', 'convertible', 'coupe', 'cruiser', 'electric', 'electric_automobile', 'electric_car', 'estate_car', 'gas_guzzler', 'hack', 'hardtop', 'hatchback', 'heap', 'horseless_carriage', 'hot-rod', 'hot_rod', 'jalopy', 'jeep', 'landrover', 'limo', 'limousine', 'loaner', 'minicar', 'minivan', 'pace_car', 'patrol_car', 'phaeton', 'police_car', 'police_cruiser', 'prowl_car', 'race_car', 'racer', 'racing_car', 'roadster', 'runabout', 'saloon', 'secondhand_car', 'sedan', 'sport_car', 'sport_utility', 'sport_utility_vehicle', 'sports_car', 'squad_car', 'station_waggon', 'station_wagon', 'stock_car', 'subcompact', 'subcompact_car', 'taxi', 'taxicab', 'tourer', 'touring_car', 'two-seater', 'used-car', 'waggon', 'wagon'] "
     ]
    }
   ],
   "source": [
    "# get the synsets of word\n",
    "motorcar = wn.synset('car.n.01')\n",
    "\n",
    "# get the word's hyponyms\n",
    "types_of_motorcar = motorcar.hyponyms()\n",
    "\n",
    "# print the first hyponym\n",
    "print(types_of_motorcar[:10], \"\\n\")\n",
    "\n",
    "# sorted \n",
    "print(sorted(lemma.name() \n",
    "             for synset in types_of_motorcar \n",
    "             for lemma in synset.lemmas()), end=\" \")"
   ]
  },
  {
   "cell_type": "markdown",
   "id": "8ea26582",
   "metadata": {},
   "source": [
    "We can also navigate up the hierarchy by visiting **hypernyms**. \n",
    "\n",
    "Some words have **multiple paths**, because they can be classified in more than one way."
   ]
  },
  {
   "cell_type": "code",
   "execution_count": 45,
   "id": "f9deaa29",
   "metadata": {},
   "outputs": [
    {
     "name": "stdout",
     "output_type": "stream",
     "text": [
      "[Synset('motor_vehicle.n.01')] \n",
      "\n",
      "The word 'motorcar' has 2 hypernym paths. \n",
      "\n",
      "['entity.n.01', 'physical_entity.n.01', 'object.n.01', 'whole.n.02', 'artifact.n.01', 'instrumentality.n.03', 'container.n.01', 'wheeled_vehicle.n.01', 'self-propelled_vehicle.n.01', 'motor_vehicle.n.01', 'car.n.01'] \n",
      "\n",
      "['entity.n.01', 'physical_entity.n.01', 'object.n.01', 'whole.n.02', 'artifact.n.01', 'instrumentality.n.03', 'conveyance.n.03', 'vehicle.n.01', 'wheeled_vehicle.n.01', 'self-propelled_vehicle.n.01', 'motor_vehicle.n.01', 'car.n.01']\n"
     ]
    }
   ],
   "source": [
    "# get hypernym\n",
    "print(motorcar.hypernyms(), \"\\n\")\n",
    "\n",
    "# get hypernym paths\n",
    "paths = motorcar.hypernym_paths()\n",
    "\n",
    "# get the number of paths\n",
    "print(\"The word 'motorcar' has {} hypernym paths.\".format\n",
    "      (len(paths)), \"\\n\")\n",
    "\n",
    "# check the 1st path\n",
    "print([synset.name() for synset in paths[0]], \"\\n\")\n",
    "\n",
    "# check the 2nd path\n",
    "print([synset.name() for synset in paths[1]])"
   ]
  },
  {
   "cell_type": "markdown",
   "id": "dbe064db",
   "metadata": {},
   "source": [
    "We can get the most **general hypernyms** (**root hypernyms**) of a synset."
   ]
  },
  {
   "cell_type": "code",
   "execution_count": 47,
   "id": "0f4be404",
   "metadata": {},
   "outputs": [
    {
     "data": {
      "text/plain": [
       "[Synset('entity.n.01')]"
      ]
     },
     "execution_count": 47,
     "metadata": {},
     "output_type": "execute_result"
    }
   ],
   "source": [
    "motorcar.root_hypernyms()"
   ]
  },
  {
   "cell_type": "code",
   "execution_count": 72,
   "id": "fe7b645c",
   "metadata": {},
   "outputs": [],
   "source": [
    "#nltk.app.wordnet()"
   ]
  },
  {
   "cell_type": "markdown",
   "id": "ce78a86f",
   "metadata": {},
   "source": [
    "<a name=\"LexicalRelations\"></a>\n",
    "### 2.5.3 More Lexical Relations\n",
    "`part_meronyms()` <br>\n",
    "`substance_meronyms()` <br>\n",
    "`member_holonyms()`\n",
    "\n",
    "**Hypernyms** and **hyponyms** are called **lexical relations** because they relate one synset to another. These two relations navigate up and down the **\"is-a\" hierarchy**. \n",
    "\n",
    "Another important way to navigate the WordNet network is from items to their components (**meronyms**) or to the things they are contained in (**holonyms**).\n",
    "\n",
    "> **word** &rarr; tree <br>\n",
    "**part meronyms** &rarr; trunk, crown, etc <br>\n",
    "**substance meronyms** &rarr; heartwood, sapwood, etc <br>\n",
    "**member holonyms** &rarr; forest (collection of trees)"
   ]
  },
  {
   "cell_type": "code",
   "execution_count": 76,
   "id": "f13670c1",
   "metadata": {},
   "outputs": [
    {
     "name": "stdout",
     "output_type": "stream",
     "text": [
      "The part meronyms of 'tree' are: [Synset('burl.n.02'), Synset('crown.n.07'), Synset('limb.n.02'), Synset('stump.n.01'), Synset('trunk.n.01')].\n",
      "\n",
      "The substance meronyms of 'tree' are: [Synset('heartwood.n.01'), Synset('sapwood.n.01')]. \n",
      "\n",
      "The member holonyms of 'tree' are: [Synset('forest.n.01')]. \n",
      "\n"
     ]
    }
   ],
   "source": [
    "# get word's synset\n",
    "synset_tree = wn.synset('tree.n.01')\n",
    "\n",
    "# get part meronyms\n",
    "print(\"The part meronyms of 'tree' are: {}.\\n\".format(synset_tree.part_meronyms()))\n",
    "\n",
    "# get substance meronyms\n",
    "print(\"The substance meronyms of 'tree' are: {}. \\n\".format(synset_tree.substance_meronyms()))\n",
    "\n",
    "# get member holonyms\n",
    "print(\"The member holonyms of 'tree' are: {}. \\n\".format(synset_tree.member_holonyms()))"
   ]
  },
  {
   "cell_type": "markdown",
   "id": "107e2c09",
   "metadata": {},
   "source": [
    "To see just **how intricate things can get**, consider the word **mint**, which has **several closely-related senses**. \n",
    "\n",
    "We can see that mint.n.04 is part of mint.n.02 and the substance from which mint.n.05 is made."
   ]
  },
  {
   "cell_type": "code",
   "execution_count": 82,
   "id": "c7c69d45",
   "metadata": {},
   "outputs": [
    {
     "name": "stdout",
     "output_type": "stream",
     "text": [
      "batch.n.02: (often followed by `of') a large number or amount or extent\n",
      "mint.n.02: any north temperate plant of the genus Mentha with aromatic leaves and small mauve flowers\n",
      "mint.n.03: any member of the mint family of plants\n",
      "mint.n.04: the leaves of a mint plant used fresh or candied\n",
      "mint.n.05: a candy that is flavored with a mint oil\n",
      "mint.n.06: a plant where money is coined by authority of the government\n",
      "[Synset('mint.n.02')] \n",
      "\n",
      "[Synset('mint.n.05')]\n"
     ]
    }
   ],
   "source": [
    "for synset in wn.synsets(\"mint\", wn.NOUN):\n",
    "    print(synset.name() + \":\", synset.definition())\n",
    "    \n",
    "# get part holonyms\n",
    "print(wn.synset('mint.n.04').part_holonyms(),\"\\n\")\n",
    "\n",
    "# get substance holonyms\n",
    "print(wn.synset('mint.n.04').substance_holonyms())"
   ]
  },
  {
   "cell_type": "markdown",
   "id": "fae37e56",
   "metadata": {},
   "source": [
    "There are also **relationships between verbs**. \n",
    "\n",
    "For example, the act of walking involves the act of stepping, so **walking entails stepping**. \n",
    "\n",
    "Some verbs have **multiple entailments**."
   ]
  },
  {
   "cell_type": "code",
   "execution_count": 84,
   "id": "97fcc417",
   "metadata": {
    "scrolled": true
   },
   "outputs": [
    {
     "name": "stdout",
     "output_type": "stream",
     "text": [
      "[Synset('step.v.01')] \n",
      "\n",
      "[Synset('chew.v.01'), Synset('swallow.v.01')] \n",
      "\n",
      "[Synset('arouse.v.07'), Synset('disappoint.v.01')] \n",
      "\n"
     ]
    }
   ],
   "source": [
    "# get entailments\n",
    "print(wn.synset('walk.v.01').entailments(), \"\\n\")\n",
    "\n",
    "# get entailments\n",
    "print(wn.synset('eat.v.01').entailments(), \"\\n\")\n",
    "\n",
    "# get entailments\n",
    "print(wn.synset('tease.v.03').entailments(), \"\\n\")"
   ]
  },
  {
   "cell_type": "markdown",
   "id": "950c8bca",
   "metadata": {},
   "source": [
    "Some lexical **relationship** hold **between lemmas**, e.g. **antonymy."
   ]
  },
  {
   "cell_type": "code",
   "execution_count": 86,
   "id": "1ceb0b54",
   "metadata": {},
   "outputs": [
    {
     "name": "stdout",
     "output_type": "stream",
     "text": [
      "[Lemma('demand.n.02.demand')] \n",
      "\n",
      "[Lemma('vertical.a.01.vertical'), Lemma('inclined.a.02.inclined')]\n"
     ]
    }
   ],
   "source": [
    "# get antonym\n",
    "print(wn.lemma('supply.n.02.supply').antonyms(), \"\\n\")\n",
    "\n",
    "print(wn.lemma('horizontal.a.01.horizontal').antonyms())"
   ]
  },
  {
   "cell_type": "markdown",
   "id": "e4baf672",
   "metadata": {},
   "source": [
    "We can see the **lexical relations**, and the other methods defined on a synset, using `dir()`."
   ]
  },
  {
   "cell_type": "code",
   "execution_count": 94,
   "id": "68b30efb",
   "metadata": {},
   "outputs": [
    {
     "name": "stdout",
     "output_type": "stream",
     "text": [
      "['__class__', '__delattr__', '__dict__', '__dir__', '__doc__', '__eq__', '__format__', '__ge__', '__getattribute__', '__gt__', '__hash__', '__init__', '__init_subclass__', '__le__', '__lt__', '__module__', '__ne__', '__new__', '__reduce__', '__reduce_ex__', '__repr__', '__setattr__', '__sizeof__', '__slots__', '__str__', '__subclasshook__', '__weakref__', '_all_hypernyms', '_definition', '_examples', '_frame_ids', '_hypernyms', '_instance_hypernyms', '_iter_hypernym_lists', '_lemma_names', '_lemma_pointers', '_lemmas', '_lexname', '_max_depth', '_min_depth']\n"
     ]
    }
   ],
   "source": [
    "# get first 10 synset methods\n",
    "print(dir(wn.synset('harmony.n.02'))[:40])"
   ]
  },
  {
   "cell_type": "markdown",
   "id": "9f31a9d9",
   "metadata": {},
   "source": [
    "<a name=\"Semantics\"></a>\n",
    "### 2.5.4 Semantic Similarity\n",
    "**Synsets are linked by a complex network of lexical relations**. Given a particular synset, we can traverse the WordNet network to find synsets with related meanings. \n",
    "\n",
    "Knowing which words are **semantically related** is **useful for indexing a collection of texts**, so that a search for a general term like vehicle will match documents containing specific terms like limousine.\n",
    "\n",
    "Recall that **each synset has one or more hypernym paths that link it to a root hypernym** such as entity.n.01. \n",
    "\n",
    "**Two synsets linked to the same root may have several hypernyms in common**. \n",
    "\n",
    "If **two synsets share a very specific hypernym** — one that is low down in the hypernym hierarchy — they must be **closely related**."
   ]
  },
  {
   "cell_type": "code",
   "execution_count": 99,
   "id": "394aaf1c",
   "metadata": {},
   "outputs": [
    {
     "name": "stdout",
     "output_type": "stream",
     "text": [
      "The lowest common hypernyms between 'right_whale' and 'minke_whale' are: [Synset('baleen_whale.n.01')].\n",
      "\n",
      "The lowest common hypernyms between 'right_whale' and 'orca' are: [Synset('whale.n.02')].\n",
      "\n",
      "The lowest common hypernyms between 'right_whale' and 'tortoise' are: [Synset('vertebrate.n.01')].\n",
      "\n",
      "The lowest common hypernyms between 'right_whale' and 'novel' are: [Synset('entity.n.01')].\n",
      "\n"
     ]
    }
   ],
   "source": [
    "# get synsets\n",
    "right = wn.synset('right_whale.n.01')\n",
    "orca = wn.synset('orca.n.01')\n",
    "minke = wn.synset('minke_whale.n.01')\n",
    "tortoise = wn.synset('tortoise.n.01')\n",
    "novel = wn.synset('novel.n.01')\n",
    "\n",
    "# get common hypernyms\n",
    "print(\"The lowest common hypernyms between 'right_whale' and 'minke_whale' are: {}.\\n\".format(\n",
    "right.lowest_common_hypernyms(minke)))\n",
    "\n",
    "print(\"The lowest common hypernyms between 'right_whale' and 'orca' are: {}.\\n\".format(\n",
    "right.lowest_common_hypernyms(orca)))\n",
    "\n",
    "print(\"The lowest common hypernyms between 'right_whale' and 'tortoise' are: {}.\\n\".format(\n",
    "right.lowest_common_hypernyms(tortoise)))\n",
    "\n",
    "print(\"The lowest common hypernyms between 'right_whale' and 'novel' are: {}.\\n\".format(\n",
    "right.lowest_common_hypernyms(novel)))"
   ]
  },
  {
   "cell_type": "markdown",
   "id": "d50011b7",
   "metadata": {},
   "source": [
    "We know that **whale is very specific** (and baleen whale even more so), while **vertebrate is more general** and **entity is completely general**.\n",
    "\n",
    "We can **quantify** this concept of **generality** by looking up the **depth of each synset**:"
   ]
  },
  {
   "cell_type": "code",
   "execution_count": 104,
   "id": "59e69361",
   "metadata": {
    "scrolled": true
   },
   "outputs": [
    {
     "name": "stdout",
     "output_type": "stream",
     "text": [
      "The min_depth of 'baleen_whale' is : 14. \n",
      "\n",
      "The min_depth of 'whale' is : 13. \n",
      "\n",
      "The min_depth of 'vertebrate' is : 8. \n",
      "\n",
      "The min_depth of 'entity' is : 0. \n",
      "\n"
     ]
    }
   ],
   "source": [
    "# find the depth of each synset\n",
    "print(\"The min_depth of 'baleen_whale' is : {}. \\n\".\n",
    "      format(wn.synset('baleen_whale.n.01').min_depth()))\n",
    "\n",
    "print(\"The min_depth of 'whale' is : {}. \\n\".\n",
    "      format(wn.synset('whale.n.02').min_depth()))\n",
    "\n",
    "print(\"The min_depth of 'vertebrate' is : {}. \\n\".\n",
    "      format(wn.synset('vertebrate.n.01').min_depth()))\n",
    "\n",
    "print(\"The min_depth of 'entity' is : {}. \\n\".\n",
    "      format(wn.synset('entity.n.01').min_depth()))"
   ]
  },
  {
   "cell_type": "markdown",
   "id": "b742a3a1",
   "metadata": {},
   "source": [
    "**Similarity measures** have been defined over the collection of WordNet synsets which incorporate the above insight. \n",
    "\n",
    "For example, `path_similarity()` assigns a score in the **range 0–1** based on the shortest path that connects the concepts in the hypernym hierarchy (-1 is returned in those cases where a path cannot be found). Comparing a synset with itself will return 1. "
   ]
  },
  {
   "cell_type": "code",
   "execution_count": 107,
   "id": "2263dd2d",
   "metadata": {
    "scrolled": true
   },
   "outputs": [
    {
     "name": "stdout",
     "output_type": "stream",
     "text": [
      "The similarity score between 'right_whale' and 'minke' is: 0.25. \n",
      "\n",
      "The similarity score between 'right_whale' and 'orca' is: 0.17. \n",
      "\n",
      "The similarity score between 'right_whale' and 'novel' is: 0.04. \n",
      "\n"
     ]
    }
   ],
   "source": [
    "# get similarity score\n",
    "print(\"The similarity score between 'right_whale' and 'minke' is: {}. \\n\".\n",
    "      format(right.path_similarity(minke)))\n",
    "\n",
    "print(\"The similarity score between 'right_whale' and 'orca' is: {:.2f}. \\n\".\n",
    "      format(right.path_similarity(orca)))\n",
    "\n",
    "print(\"The similarity score between 'right_whale' and 'novel' is: {:.2f}. \\n\".\n",
    "      format(right.path_similarity(novel)))"
   ]
  },
  {
   "cell_type": "markdown",
   "id": "71f31ec7",
   "metadata": {},
   "source": [
    "The number decrease as we move away from the semantic space of sea creatures to inanimate objects.\n",
    "\n",
    "Several other **similarity measures** are available. Find more with `help(wn)`.\n",
    "\n",
    "NLTK also includes **VerbNet**, a **hierarhical verb lexicon** linked to **WordNet**: `from nltk.corpus import verbnet`.\n",
    "\n",
    "Significant sources of published corpora are the **Linguistic Data Consortium (LDC)** and the **European Language Resources Agency (ELRA)**. \n",
    "\n",
    "A good **tool for creating annotated text corpora** is called [**Brat**](http://brat.nlplab.org/).\n",
    "\n",
    "These and many other language resources have been documented using **OLAC Metadata**, and can be searched via the OLAC [homepage](http://www.language-archives.org/). \n",
    "\n",
    "**Corpora List** is a mailing list for discussions about corpora, and you can find resources by searching the list archives or posting to the list.\n",
    "\n",
    "The most complete inventory of the world's languages is [**Ethnologue**](http://www.ethnologue.com/). Of 7,000 languages, only a few dozen have substantial digital resources suitable for use in NLP."
   ]
  }
 ],
 "metadata": {
  "kernelspec": {
   "display_name": "Python 3 (ipykernel)",
   "language": "python",
   "name": "python3"
  },
  "language_info": {
   "codemirror_mode": {
    "name": "ipython",
    "version": 3
   },
   "file_extension": ".py",
   "mimetype": "text/x-python",
   "name": "python",
   "nbconvert_exporter": "python",
   "pygments_lexer": "ipython3",
   "version": "3.9.7"
  }
 },
 "nbformat": 4,
 "nbformat_minor": 5
}
