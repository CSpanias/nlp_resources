{
 "cells": [
  {
   "cell_type": "markdown",
   "id": "9c7e4232",
   "metadata": {},
   "source": [
    "# **Natural Language Processing with Python**\n",
    "by [CSpanias](https://cspanias.github.io/aboutme/) - 01/2022\n",
    "\n",
    "Content based on the [NLTK book](https://www.nltk.org/book/). <br>\n",
    "\n",
    "You can find these exercises at the end of [Chapter 2](https://www.nltk.org/book/ch02.html).\n",
    "\n",
    "## Chapter 2 exercises & solutions"
   ]
  },
  {
   "cell_type": "code",
   "execution_count": 120,
   "id": "aeaadff1",
   "metadata": {
    "scrolled": false
   },
   "outputs": [],
   "source": [
    "# load nltk\n",
    "import nltk\n",
    "# import all texts\n",
    "from nltk.book import *"
   ]
  },
  {
   "cell_type": "markdown",
   "id": "0c3d8413",
   "metadata": {},
   "source": [
    "### 1. Create a variable phrase containing a list of words. Review the operations described in the previous chapter, including addition, multiplication, indexing, slicing, and sorting."
   ]
  },
  {
   "cell_type": "code",
   "execution_count": 3,
   "id": "bf6115ab",
   "metadata": {},
   "outputs": [
    {
     "name": "stdout",
     "output_type": "stream",
     "text": [
      "['Hello', 'Hola', 'Bonjour', 'Geia', 'Salut', 'Hi'] \n",
      "\n",
      "['Hello', 'Hola', 'Bonjour', 'Geia', 'Salut', 'Hi', 'Hello', 'Hola', 'Bonjour', 'Geia', 'Salut', 'Hi'] \n",
      "\n",
      "3 \n",
      "\n",
      "['Geia', 'Salut', 'Hi'] \n",
      "\n",
      "['Salut', 'Hola', 'Hi', 'Hello', 'Geia', 'Bonjour'] \n",
      "\n"
     ]
    }
   ],
   "source": [
    "# create a list of words\n",
    "word_list = ['Hello', 'Hola', 'Bonjour', 'Geia', 'Salut']\n",
    "\n",
    "# addition\n",
    "word_list += ['Hi']\n",
    "print(word_list, \"\\n\")\n",
    "\n",
    "# multiplication\n",
    "print(word_list * 2, \"\\n\")\n",
    "\n",
    "# indexing\n",
    "print(word_list.index(\"Geia\"), \"\\n\")\n",
    "\n",
    "# slicing\n",
    "print(word_list[-3:], \"\\n\")\n",
    "\n",
    "# sorting\n",
    "print(sorted(word_list, reverse=True), \"\\n\")"
   ]
  },
  {
   "cell_type": "markdown",
   "id": "f9e5d0f9",
   "metadata": {},
   "source": [
    "### 2. Use the corpus module to explore austen-persuasion.txt. How many word tokens does this book have? How many word types?"
   ]
  },
  {
   "cell_type": "code",
   "execution_count": 5,
   "id": "0149f874",
   "metadata": {},
   "outputs": [
    {
     "name": "stdout",
     "output_type": "stream",
     "text": [
      "The number of word types in the text is: 84121.\n",
      "\n",
      "The number of word types in the text is: 6036.\n"
     ]
    }
   ],
   "source": [
    "from nltk.corpus import gutenberg\n",
    "\n",
    "# get word tokens (all words)\n",
    "word_types = len([w for w in gutenberg.words(\"austen-persuasion.txt\")\n",
    "                  if w.isalpha()])\n",
    "\n",
    "# print the number of word tokens\n",
    "print(\"The number of word types in the text is: {}.\\n\".format(word_types))\n",
    "\n",
    "# get word types (unique words)\n",
    "word_types = len(set([w for w in gutenberg.words(\"austen-persuasion.txt\")\n",
    "                  if w.isalpha()]))\n",
    "\n",
    "# print the number of word types\n",
    "print(\"The number of word types in the text is: {}.\".format(word_types))"
   ]
  },
  {
   "cell_type": "markdown",
   "id": "da7af8c1",
   "metadata": {},
   "source": [
    "### 3. Use the Brown corpus reader nltk.corpus.brown.words() or the Web text corpus reader nltk.corpus.webtext.words() to access some sample text in two different genres."
   ]
  },
  {
   "cell_type": "code",
   "execution_count": 9,
   "id": "f2addda9",
   "metadata": {},
   "outputs": [
    {
     "name": "stdout",
     "output_type": "stream",
     "text": [
      "The categories in the Brown corpus are:\n",
      "['adventure', 'belles_lettres', 'editorial', 'fiction', 'government', 'hobbies', 'humor', 'learned', 'lore', 'mystery', 'news', 'religion', 'reviews', 'romance', 'science_fiction'].\n",
      "\n",
      "The first 20 words of the category adventure are:\n",
      "['Dan', 'Morgan', 'told', 'himself', 'he', 'would', 'forget', 'Ann', 'Turner', '.', 'He', 'was', 'well', 'rid', 'of', 'her', '.', 'He', 'certainly', \"didn't\"].\n",
      "\n",
      "The first 20 words of the category religion are:\n",
      "['As', 'a', 'result', ',', 'although', 'we', 'still', 'make', 'use', 'of', 'this', 'distinction', ',', 'there', 'is', 'much', 'confusion', 'as', 'to', 'the'].\n",
      "\n"
     ]
    }
   ],
   "source": [
    "from nltk.corpus import brown\n",
    "\n",
    "# get a list with categories\n",
    "categories = []\n",
    "# for every category in categories\n",
    "for category in brown.categories():\n",
    "    # append category in the list\n",
    "    categories.append(category)\n",
    "\n",
    "# check categories\n",
    "print(\"The categories in the Brown corpus are:\\n{}.\\n\".format(categories))\n",
    "\n",
    "# access specific category's words\n",
    "print(\"The first 20 words of the category {} are:\\n{}.\\n\".\n",
    "     format(categories[0], brown.words(categories='adventure')[:20]))\n",
    "\n",
    "print(\"The first 20 words of the category {} are:\\n{}.\\n\".\n",
    "     format(categories[11], brown.words(categories='religion')[:20]))"
   ]
  },
  {
   "cell_type": "markdown",
   "id": "573f3951",
   "metadata": {},
   "source": [
    "### 4. Read in the texts of the State of the Union addresses, using the state_union corpus reader. Count occurrences of men, women, and people in each document. What has happened to the usage of these words over time?"
   ]
  },
  {
   "cell_type": "code",
   "execution_count": 76,
   "id": "f175b2a0",
   "metadata": {},
   "outputs": [
    {
     "name": "stdout",
     "output_type": "stream",
     "text": [
      "The first 5 fileids are:\n",
      "1945-Truman.txt\n",
      "1946-Truman.txt\n",
      " \n",
      "       1945 1946 1947 1948 1949 1950 1951 1953 1954 1955 1956 1957 1958 1959 1960 1961 1962 1963 1963 1964 1965 1965 1966 \n",
      "   men    2   12    7    4    2    6    8    3    2    4    2    5    2    4    2    6    6    8    8    3   18   18   12 \n",
      " women    2    7    2    1    1    2    2    0    0    0    2    2    1    1    0    0    2    5    5    1    3    3    1 \n",
      "people   10   49   12   22   15   15    9   17   15   26   30   11   19   11   10   10   10   15   15    3   30   30   35 \n",
      " \n"
     ]
    },
    {
     "data": {
      "image/png": "[encoded data removed]",
      "text/plain": [
       "<Figure size 432x288 with 1 Axes>"
      ]
     },
     "metadata": {
      "needs_background": "light"
     },
     "output_type": "display_data"
    }
   ],
   "source": [
    "from nltk.corpus import state_union\n",
    "\n",
    "# check the file names of the corpus\n",
    "print(\"The first 5 fileids are:\")\n",
    "for file in state_union.fileids()[:2]:\n",
    "    print(file)\n",
    "\n",
    "# create lists\n",
    "target_words, files = ['men', 'women', 'people'], []\n",
    "\n",
    "# append each file name to empty list\n",
    "for file in state_union.fileids():\n",
    "    files.append(file[:4])\n",
    "    \n",
    "cfd = nltk.ConditionalFreqDist(\n",
    "    # word and first 4 chars of fileid\n",
    "    (word, file[:4])\n",
    "    # for every file in the corpus\n",
    "    for file in state_union.fileids()\n",
    "    # for every word in each file\n",
    "    for word in state_union.words(file)\n",
    ")\n",
    "\n",
    "print(\" \")\n",
    "# tabulate cfd to find counts for each word within each file\n",
    "cfd.tabulate(conditions=target_words, samples=files[:23])\n",
    "\n",
    "print(\" \")\n",
    "# create a cfd for check what happended over time\n",
    "cfd = nltk.ConditionalFreqDist(\n",
    "    # word and first 4 chars of fileid\n",
    "    (target_word, file[:4])\n",
    "    # for every file in the corpus\n",
    "    for file in state_union.fileids()\n",
    "    # for every word in each file\n",
    "    for w in state_union.words(file)\n",
    "    # create a list with our target words\n",
    "    for target_word in ['men', 'women', 'people']\n",
    "    # lower case words and check for match\n",
    "    if w.lower() == target_word\n",
    ")\n",
    "\n",
    "# generate plot\n",
    "cfd.plot();"
   ]
  },
  {
   "cell_type": "markdown",
   "id": "c246feeb",
   "metadata": {},
   "source": [
    "### 5. Investigate the holonym-meronym relations for some nouns. Remember that there are three kinds of holonym-meronym relation, so you need to use: `member_meronyms()`, `part_meronyms()`, `substance_meronyms()`, `member_holonyms()`, `part_holonyms()`, and `substance_holonyms()`."
   ]
  },
  {
   "cell_type": "code",
   "execution_count": 80,
   "id": "fa1d6316",
   "metadata": {},
   "outputs": [
    {
     "name": "stdout",
     "output_type": "stream",
     "text": [
      "The synsets of the word 'dog' are: [Synset('dog.n.01'), Synset('frump.n.01'), Synset('dog.n.03'), Synset('cad.n.01'), Synset('frank.n.02'), Synset('pawl.n.01'), Synset('andiron.n.01'), Synset('chase.v.01')].\n",
      "\n",
      "The lemmas of the word 'dog' are: ['dog', 'domestic_dog', 'Canis_familiaris'].\n",
      "\n",
      "The member holonyms of the word 'dog' are: [Synset('canis.n.01'), Synset('pack.n.06')].\n",
      "\n",
      "The part holonyms of the word 'dog' are: [].\n",
      "\n",
      "The substance holonyms of the word 'dog' are: [].\n",
      "\n",
      "The member meronyms of the word 'dog' are: [].\n",
      "\n",
      "The part meronyms of the word 'dog' are: [Synset('flag.n.07')].\n",
      "\n",
      "The substance meronyms of the word 'dog' are: [].\n",
      "\n"
     ]
    }
   ],
   "source": [
    "from nltk.corpus import wordnet as wn\n",
    "\n",
    "# get the synsets of 'dog'\n",
    "synsets_dog = wn.synsets('dog')\n",
    "print(\"The synsets of the word 'dog' are: {}.\\n\".format(synsets_dog))\n",
    "\n",
    "# get the synsets\n",
    "synset_dog = wn.synset('dog.n.01')\n",
    "\n",
    "# check the lemmas\n",
    "print(\"The lemmas of the word 'dog' are: {}.\\n\".\n",
    "      format(synset_dog.lemma_names()))\n",
    "\n",
    "# get member holonyms (where it belong)\n",
    "print(\"The member holonyms of the word 'dog' are: {}.\\n\".\n",
    "      format(synset_dog.member_holonyms()))\n",
    "\n",
    "# get part holonyms\n",
    "print(\"The part holonyms of the word 'dog' are: {}.\\n\".\n",
    "      format(synset_dog.part_holonyms()))\n",
    "\n",
    "# get substance holonyms\n",
    "print(\"The substance holonyms of the word 'dog' are: {}.\\n\".\n",
    "      format(synset_dog.substance_holonyms()))\n",
    "\n",
    "# get member meronyms\n",
    "print(\"The member meronyms of the word 'dog' are: {}.\\n\".\n",
    "      format(synset_dog.member_meronyms()))\n",
    "\n",
    "# get part meronyms (its components)\n",
    "print(\"The part meronyms of the word 'dog' are: {}.\\n\".\n",
    "      format(synset_dog.part_meronyms()))\n",
    "\n",
    "# get substance meronyms (internal components)\n",
    "print(\"The substance meronyms of the word 'dog' are: {}.\\n\".\n",
    "      format(synset_dog.substance_meronyms()))"
   ]
  },
  {
   "cell_type": "markdown",
   "id": "f083489f",
   "metadata": {},
   "source": [
    "### 6. In the discussion of comparative wordlists, we created an object called translate which you could look up using words in both German and Spanish in order to get corresponding words in English. What problem might arise with this approach? Can you suggest a way to avoid this problem?"
   ]
  },
  {
   "cell_type": "markdown",
   "id": "5c062765",
   "metadata": {
    "scrolled": true
   },
   "source": [
    "Words could have the **same spelling** in 2 different languages. We could tag the word with its language to avoid such a problem."
   ]
  },
  {
   "cell_type": "code",
   "execution_count": 108,
   "id": "f698db09",
   "metadata": {},
   "outputs": [
    {
     "name": "stdout",
     "output_type": "stream",
     "text": [
      "[('je-fr', 'I'), ('tu, vous-fr', 'you (singular), thou'), ('il-fr', 'he'), ('nous-fr', 'we'), ('vous-fr', 'you (plural)')]\n"
     ]
    },
    {
     "data": {
      "text/plain": [
       "{'je-fr': 'I', 'tu, vous-fr': 'you (singular), thou'}"
      ]
     },
     "execution_count": 108,
     "metadata": {},
     "output_type": "execute_result"
    }
   ],
   "source": [
    "from nltk.corpus import swadesh\n",
    "\n",
    "# create list of tuples\n",
    "fr2en = [(i+'-fr', e) for (i, e) in swadesh.entries(['fr', 'en'])]\n",
    "print(fr2en[:5])\n",
    "\n",
    "# convert list of tuples into a dictionary\n",
    "translate = dict(fr2en)\n",
    "# slice the dict\n",
    "import itertools\n",
    "dict(itertools.islice(translate.items(), 2))\n",
    "\n",
    "#print(translate['et-fr'])"
   ]
  },
  {
   "cell_type": "markdown",
   "id": "b12c29a9",
   "metadata": {},
   "source": [
    "### 7. According to Strunk and White's Elements of Style, the word however, used at the start of a sentence, means \"in whatever way\" or \"to whatever extent\", and not \"nevertheless\". \n",
    "\n",
    "### They give this example of [correct usage](http://www.bartleby.com/141/strunk3.html): \n",
    "\n",
    ">However you advise him, he will probably do as he thinks best. \n",
    "\n",
    "### Use the concordance tool to study actual usage of this word in the various texts we have been considering. See also the LanguageLog [posting](http://itre.cis.upenn.edu/~myl/languagelog/archives/001913.html) \"Fossilized prejudices about 'however'."
   ]
  },
  {
   "cell_type": "code",
   "execution_count": 102,
   "id": "51270f03",
   "metadata": {},
   "outputs": [
    {
     "name": "stdout",
     "output_type": "stream",
     "text": [
      "Displaying 25 of 35 matches:\n",
      "s , such as telephones or watches . However , none of the big three weeklies re\n",
      "ther intellectual-property rights . However , five other countries -- China , T\n",
      "to be sold *-50 in the U.S. *T*-1 . However , after two meetings with the Sovie\n",
      "clining . The purchasing managers , however , also said that orders turned up i\n",
      " of worries about potential abuse , however , he says 0 the state will begin *-\n",
      "ll game . '' Some fellow teachers , however , viewed Mrs. Yeargin as cocky and \n",
      "ssary . '' He declined *-2 to say , however , how much Sea Containers might rai\n",
      "e going *-3 to top us . '' Temple , however , harshly criticized Sea Containers\n",
      "a bottle . In the last year or so , however , this exclusive club has taken in \n",
      ". These prices seem rather modest , however , in light of other French wines fr\n",
      "ons can steal a march on Burgundy , however . The six wines of the Domaine de l\n",
      "it would study other alternatives . However , it has n't yet made any proposals\n",
      "t of high-yield subordinated debt . However , the junk-bond market has collapse\n",
      "T*-227 usually stays in the tower , however . More often than not , ringers thi\n",
      "y are n't accepted *-1 everywhere , however . The oldest bell-ringing group in \n",
      "on Wednesday . There are no signs , however , of China 's yielding on key issue\n",
      " York . A spokesman for the state , however , calls the idea `` not effective o\n",
      "e considerable skill * to resolve . However , neither Mr. Baum nor Mr. Harper h\n",
      "sly give the president such power . However , the president does have a duty * \n",
      "r. Riese says 0 *T*-1 . Until now , however , buyers who *T*-53 wanted *-1 to f\n",
      " all this *-2 lying down for long , however . Its new products and trading tech\n",
      "ock-selection products . They may , however , risk *-1 bringing some damaging i\n",
      "nment or private watchdogs insist , however , on * introducing greater friction\n",
      "rm 's equity . '' CS First Boston , however , benefits from the backing of its \n",
      " the defendants . The big problem , however , is that there 's no guarantee tha\n"
     ]
    }
   ],
   "source": [
    "from nltk.book import *\n",
    "\n",
    "# get fileids\n",
    "text7.concordance(\"However\")"
   ]
  },
  {
   "cell_type": "markdown",
   "id": "1f2c9003",
   "metadata": {},
   "source": [
    "### 8. Define a conditional frequency distribution over the Names corpus that allows you to see which initial letters are more frequent for males vs. females (cf. [4.4](https://www.nltk.org/book/ch02.html#fig-cfd-gender))."
   ]
  },
  {
   "cell_type": "code",
   "execution_count": 125,
   "id": "32f996c3",
   "metadata": {},
   "outputs": [
    {
     "name": "stdout",
     "output_type": "stream",
     "text": [
      "female.txt male.txt "
     ]
    },
    {
     "data": {
      "image/png": "[encoded data removed]",
      "text/plain": [
       "<Figure size 432x288 with 1 Axes>"
      ]
     },
     "metadata": {
      "needs_background": "light"
     },
     "output_type": "display_data"
    }
   ],
   "source": [
    "from nltk.corpus import names\n",
    "\n",
    "# check file names\n",
    "for file in names.fileids():\n",
    "    print(file, end=\" \")\n",
    "    \n",
    "# create a cfd\n",
    "cfd = nltk.ConditionalFreqDist(\n",
    "        # create a variable pair\n",
    "        (file[:-4], letter[0])\n",
    "        # for every file name\n",
    "        for file in names.fileids()\n",
    "        # for every letter\n",
    "        for letter in names.words(file)\n",
    ")\n",
    "\n",
    "# generate plot\n",
    "cfd.plot();"
   ]
  },
  {
   "cell_type": "markdown",
   "id": "ab1900ec",
   "metadata": {},
   "source": [
    "### 9. Pick a pair of texts and study the differences between them, in terms of vocabulary, vocabulary richness, genre, etc. Can you find pairs of words which have quite different meanings across the two texts, such as monstrous in Moby Dick and in Sense and Sensibility?"
   ]
  },
  {
   "cell_type": "code",
   "execution_count": 172,
   "id": "d8300bf4",
   "metadata": {},
   "outputs": [
    {
     "name": "stdout",
     "output_type": "stream",
     "text": [
      "The vocabulary of 'Moby Dick by Herman Melville 1851' is: 19317.\n",
      "\n",
      "The lexical richness of 'Moby Dick by Herman Melville 1851' is: 0.07.\n",
      "\n",
      "Displaying 4 of 4 matches:\n",
      "os of this monster ' s mouth , be it beast , boat , or stone , down it goes all\n",
      "ereas all the other things , whether beast or vessel , that enter into the drea\n",
      "-- PILGRIM ' S PROGRESS . \" That sea beast Leviathan , which God of all his wor\n",
      " another horn , pertaining to a land beast of the unicorn nature . The Narwhale\n",
      "None \n",
      "\n",
      "Displaying 8 of 8 matches:\n",
      "cts , whiteness refiningly enhances beauty , as if imparting some special virt\n",
      "s a simple old soul ,-- Rad , and a beauty too . Boys , they say the rest of h\n",
      "e , and with curses , the appalling beauty of the vast milky mass , that lit u\n",
      "er also the devilish brilliance and beauty of many of its most remorseless tri\n",
      "In no living thing are the lines of beauty more exquisitely defined than in th\n",
      "motions derive their most appalling beauty from it . Real strength never impai\n",
      "om it . Real strength never impairs beauty or harmony , but it often bestows i\n",
      "etude , when beholding the tranquil beauty and brilliancy of the ocean ' s ski\n",
      "None \n",
      "\n",
      "The vocabulary of 'Sense and Sensibility by Jane Austen 1811' is: 6833.\n",
      "\n",
      "The lexical richness of 'Sense and Sensibility by Jane Austen 1811' is: 0.05.\n",
      "\n",
      "no matches\n",
      "None \n",
      "\n",
      "Displaying 21 of 21 matches:\n",
      "quire his name and age , admire his beauty , and ask him questions which his m\n",
      "hild ; but the influence of youth , beauty , and elegance , gave an interest t\n",
      "e midst of a heavy rain . His manly beauty and more than common gracefulness w\n",
      "plain his sentiments on picturesque beauty , and second marriages , and then y\n",
      " a fine country , because it unites beauty with utility -- and I dare say it i\n",
      " who first defined what picturesque beauty was . I detest jargon of every kind\n",
      "ome unaccountable bias in favour of beauty , he was the husband of a very sill\n",
      "ty , they acknowledged considerable beauty ; her features were pretty , and sh\n",
      "ontinual raptures , extolling their beauty , courting their notice , and humou\n",
      "nd as Elinor was not blinded by the beauty , or the shrewd look of the younges\n",
      "ly blind him to every thing but her beauty and good nature ; but the four succ\n",
      "ven an interesting character to her beauty . If in the supposition of his seek\n",
      "cept when any object of picturesque beauty within their view drew from her an \n",
      "nd I don ' t know what the greatest beauty can do more . Ah ! poor man ! he ha\n",
      "There was something in her style of beauty , to please them particularly . I r\n",
      " ; and her features small , without beauty , and naturally without expression \n",
      "ing to a young woman who HAS BEEN a beauty in the loss of her personal attract\n",
      " , or elegance , and almost without beauty .-- I remember her perfectly . Just\n",
      "eries , now just beginning to be in beauty , to gain a distant eminence ; wher\n",
      "drawn on to marry a girl , of whose beauty she had herself heard him speak wit\n",
      "tion in woman ;-- and many a rising beauty would be slighted by him in after -\n",
      "None \n",
      "\n"
     ]
    }
   ],
   "source": [
    "def lexical_richness(text):\n",
    "    \"\"\"Calculate lexical richness of a text.\"\"\"\n",
    "    \n",
    "    return len(set(text)) / len(text)\n",
    "\n",
    "def text_info(text):\n",
    "    \"\"\"Generate basic information about a text.\"\"\"\n",
    "    # text vocabulary\n",
    "    print(\"The vocabulary of '{}' is: {}.\\n\".format(str(text)[7:-1], len(set(text))))\n",
    "    # lexical richness\n",
    "    print(\"The lexical richness of '{}' is: {:.2f}.\\n\".format(str(text)[7:-1], lexical_richness(text)))\n",
    "    # concordance view\n",
    "    print(text.concordance(\"beast\"), \"\\n\")\n",
    "    print(text.concordance(\"beauty\"), \"\\n\")\n",
    "\n",
    "# compare texts\n",
    "text_info(text1)\n",
    "text_info(text2)"
   ]
  },
  {
   "cell_type": "markdown",
   "id": "4eed3c83",
   "metadata": {},
   "source": [
    "### 10. Read the BBC News [article](http://news.bbc.co.uk/1/hi/education/6173441.stm): UK's Vicky Pollards 'left behind' . The article gives the following statistic about teen language: \"the top 20 words used, including yeah, no, but and like, account for around a third of all words.\" How many word types account for a third of all word tokens, for a variety of text sources? What do you conclude about this statistic? Read more about this on [LanguageLog](http://itre.cis.upenn.edu/~myl/languagelog/archives/003993.html)."
   ]
  },
  {
   "cell_type": "code",
   "execution_count": 41,
   "id": "5ac00cfd",
   "metadata": {},
   "outputs": [
    {
     "name": "stdout",
     "output_type": "stream",
     "text": [
      "['My', 'list', 'of', 'words'] \n",
      "\n",
      "My list of words \n",
      "\n",
      "['My', 'list', 'of', 'words']\n"
     ]
    }
   ],
   "source": [
    "# create a list of words\n",
    "word_list = [\"yeah\", \"no\", \"but\", \"like\"]"
   ]
  },
  {
   "cell_type": "markdown",
   "id": "307ba7b5",
   "metadata": {},
   "source": [
    "### 11. "
   ]
  },
  {
   "cell_type": "code",
   "execution_count": 49,
   "id": "353e2380",
   "metadata": {},
   "outputs": [
    {
     "name": "stdout",
     "output_type": "stream",
     "text": [
      "['This', 'is', 'the', 'first', 'phrase', '!', 'I', 'am', 'a', 'parrot', '.']\n",
      "[1, 2, 3, 4, 5, 6, 'I', 'am', 'a', 'parrot', '.', 'This', 'is', 'the', 'first', 'phrase', '!'] \n",
      "\n",
      "11\n",
      "11\n"
     ]
    }
   ],
   "source": [
    "# define variables with lists of words\n",
    "phrase1 = [\"This\", \"is\", \"the\", \"first\", \"phrase\", \"!\"]\n",
    "phrase2 = [\"I\", \"am\", \"a\", \"parrot\", \".\"]\n",
    "phrase3 = [1, 2, 3, 4, 5, 6]\n",
    "\n",
    "# concatenation\n",
    "print(phrase1 + phrase2)\n",
    "print(phrase3 + phrase2 + phrase1, \"\\n\")\n",
    "\n",
    "# lengths\n",
    "print(len(phrase1 + phrase2)) # concatenate and then calculate the total length\n",
    "print(len(phrase1) + len(phrase2)) # calcualte the length of eaech list and add their lengths"
   ]
  },
  {
   "cell_type": "markdown",
   "id": "98cbbc52",
   "metadata": {},
   "source": [
    "### 12. Consider the following two expressions, which have the same value. Which one will typically be more relevant in NLP? Why?\n",
    "\n",
    ">\"Monty Python\"[6:12] <br>\n",
    "[\"Monty\", \"Python\"][1]"
   ]
  },
  {
   "cell_type": "code",
   "execution_count": 53,
   "id": "d6f78682",
   "metadata": {},
   "outputs": [
    {
     "name": "stdout",
     "output_type": "stream",
     "text": [
      "Python\n",
      "Python\n"
     ]
    }
   ],
   "source": [
    "print(\"Monty Python\"[6:12])\n",
    "print([\"Monty\", \"Python\"][1])"
   ]
  },
  {
   "cell_type": "markdown",
   "id": "7dec2154",
   "metadata": {},
   "source": [
    "I think the **second one is more relevant to NLP** as we are usually dealing with tokenized text, i.e lists of invidual words and perform several operations such as **slicing** in lists instead of strings."
   ]
  },
  {
   "cell_type": "markdown",
   "id": "87f87e7c",
   "metadata": {},
   "source": [
    "### 13. We have seen how to represent a sentence as a list of words, where each word is a sequence of characters. What does `sent1[2][2]` do? Why? Experiment with other index values."
   ]
  },
  {
   "cell_type": "markdown",
   "id": "f88fe700",
   "metadata": {},
   "source": [
    "`sent1[2][2]` is expected to obtain the letter at index 2 of the word at index 2."
   ]
  },
  {
   "cell_type": "code",
   "execution_count": 57,
   "id": "c50ad34b",
   "metadata": {},
   "outputs": [
    {
     "name": "stdout",
     "output_type": "stream",
     "text": [
      "The full sent1 is: ['Call', 'me', 'Ishmael', '.'].\n",
      "The element with index 2 of sent1 is: Ishmael.\n",
      "The letter with the index 2 of this element is: h.\n"
     ]
    }
   ],
   "source": [
    "print(\"The full sent1 is: {}.\".format(sent1))\n",
    "print(\"The element with index 2 of sent1 is: {}.\".format(sent1[2]))\n",
    "print(\"The letter with the index 2 of this element is: {}.\".format(sent1[2][2]))"
   ]
  },
  {
   "cell_type": "markdown",
   "id": "db25acc9",
   "metadata": {},
   "source": [
    "### 14. The first sentence of `text3` is provided to you in the variable `sent3`. The index of `the` in `sent3` is 1, because `sent3[1]` gives us 'the'. What are the indexes of the two other occurrences of this word in `sent3`?"
   ]
  },
  {
   "cell_type": "code",
   "execution_count": 89,
   "id": "d04587fb",
   "metadata": {},
   "outputs": [
    {
     "name": "stdout",
     "output_type": "stream",
     "text": [
      "1\n",
      "3\n",
      "2\n",
      "the\n",
      "the\n"
     ]
    }
   ],
   "source": [
    "# find 1st index of \"the\"\n",
    "print(text3.index(\"the\"))\n",
    "# find 2nd index, starting from 2\n",
    "print(text3[2:].index(\"the\"))\n",
    "# find 3rd index, starting from 6\n",
    "print(text3[6:].index(\"the\"))\n",
    "\n",
    "# second index = 2+3\n",
    "print(text3[5])\n",
    "# third index = 6+2\n",
    "print(text3[8])"
   ]
  },
  {
   "cell_type": "markdown",
   "id": "f4e2582d",
   "metadata": {},
   "source": [
    "### 15. Review the discussion of conditionals in [4](https://www.nltk.org/book/ch01.html#sec-making-decisions). Find all words in the Chat Corpus (text5) starting with the letter `b`. Show them in alphabetical order."
   ]
  },
  {
   "cell_type": "code",
   "execution_count": 94,
   "id": "fbb6fe55",
   "metadata": {},
   "outputs": [
    {
     "name": "stdout",
     "output_type": "stream",
     "text": [
      "['b', 'b-day', 'b/c', 'b4', 'babay', 'babble', 'babblein', 'babe', 'babes', 'babi', 'babies', 'babiess', 'baby', 'babycakeses', 'bachelorette', 'back', 'backatchya', 'backfrontsidewaysandallaroundtheworld', 'backroom', 'backup', 'bacl', 'bad', 'bag', 'bagel', 'bagels', 'bahahahaa', 'bak', 'baked', 'balad', 'balance', 'balck', 'ball', 'ballin', 'balls', 'ban', 'band', 'bandito', 'bandsaw', 'banjoes', 'banned', 'baord', 'bar', 'barbie', 'bare', 'barely', 'bares', 'barfights', 'barks', 'barn', 'barrel', 'base', 'bases', 'basically', 'basket', 'battery', 'bay', 'bbbbbyyyyyyyeeeeeeeee', 'bbiam', 'bbl', 'bbs', 'bc', 'be', 'beach', 'beachhhh', 'beam', 'beams', 'beanbag', 'beans', 'bear', 'bears', 'beat', 'beaten', 'beatles', 'beats', 'beattles', 'beautiful', 'because', 'beckley', 'become', 'bed', 'bedford', 'bedroom', 'beeeeehave', 'beeehave', 'been', 'beer', 'before', 'beg', 'begin', 'behave', 'behind', 'bein', 'being', 'beleive', 'believe', 'belive', 'bell', 'belly', 'belong', 'belongings', 'ben', 'bend', 'benz', 'bes', 'beside', 'besides', 'best', 'bet', 'betrayal', 'betta', 'better', 'between', 'beuty', 'bf', 'bi', 'biatch', 'bible', 'biebsa', 'bied', 'big', 'bigest', 'biggest', 'biiiatch', 'bike', 'bikes', 'bikini', 'bio', 'bird', 'birfday', 'birthday', 'bisexual', 'bishes', 'bit', 'bitch', 'bitches', 'bitdh', 'bite', 'bites', 'biyatch', 'biz', 'bj', 'black', 'blade', 'blah', 'blank', 'blankie', 'blazed', 'bleach', 'blech', 'bless', 'blessings', 'blew', 'blind', 'blinks', 'bliss', 'blocking', 'bloe', 'blood', 'blooded', 'bloody', 'blow', 'blowing', 'blowjob', 'blowup', 'blue', 'blueberry', 'bluer', 'blues', 'blunt', 'board', 'bob', 'bodies', 'body', 'boed', 'boght', 'boi', 'boing', 'boinked', 'bois', 'bomb', 'bone', 'boned', 'bones', 'bong', 'boning', 'bonus', 'boo', 'booboo', 'boobs', 'book', 'boom', 'boooooooooooglyyyyyy', 'boost', 'boot', 'bootay', 'booted', 'boots', 'booty', 'border', 'borderline', 'bored', 'boredom', 'boring', 'born', 'born-again', 'bosom', 'boss', 'bossy', 'bot', 'both', 'bother', 'bothering', 'bottle', 'bought', 'bounced', 'bouncer', 'bouncers', 'bound', 'bout', 'bouts', 'bow', 'bowl', 'box', 'boy', 'boyfriend', 'boys', 'bra', 'brad', 'brady', 'brain', 'brakes', 'brass', 'brat', 'brb', 'brbbb', 'bread', 'break', 'breaks', 'breath', 'breathe', 'bred', 'breeding', 'bright', 'brightened', 'bring', 'brings', 'bro', 'broke', 'brooklyn', 'brother', 'brothers', 'brought', 'brown', 'brrrrrrr', 'bruises', 'brunswick', 'brwn', 'btw', 'bucks', 'buddyyyyyy', 'buff', 'buffalo', 'bug', 'bugs', 'buh', 'build', 'builds', 'built', 'bull', 'bulls', 'bum', 'bumber', 'bummer', 'bumped', 'bumper', 'bunch', 'bunny', 'burger', 'burito', 'burned', 'burns', 'burp', 'burpin', 'burps', 'burried', 'burryed', 'bus', 'buses', 'bust', 'busted', 'busy', 'but', 'butt', 'butter', 'butterscotch', 'button', 'buttons', 'buy', 'buying', 'bwahahahahahahahahahaha', 'by', 'byb', 'bye', 'byeee', 'byeeee', 'byeeeeeeee', 'byeeeeeeeeeeeee', 'byes']\n"
     ]
    }
   ],
   "source": [
    "print(sorted(set(w for w in text5 if w.startswith(\"b\"))))"
   ]
  },
  {
   "cell_type": "markdown",
   "id": "7986773f",
   "metadata": {},
   "source": [
    "### 16. Type the expression `list(range(10))` at the interpreter prompt. Now try `list(range(10, 20))`, `list(range(10, 20, 2))`, and `list(range(20, 10, -2))`. We will see a variety of uses for this built-in function in later chapters."
   ]
  },
  {
   "cell_type": "code",
   "execution_count": 99,
   "id": "db6bce84",
   "metadata": {},
   "outputs": [
    {
     "name": "stdout",
     "output_type": "stream",
     "text": [
      "[0, 1, 2, 3, 4, 5, 6, 7, 8, 9]\n",
      "[10, 12, 14, 16, 18]\n",
      "[20, 18, 16, 14, 12]\n"
     ]
    }
   ],
   "source": [
    "# generate a list from 0 to 10\n",
    "print(list(range(10)))\n",
    "# generate a list from 10 to 20 with step 2\n",
    "print(list(range(10, 20, 2)))\n",
    "# genera a list from 20 to 10 with step -2\n",
    "print(list(range(20, 10, -2)))"
   ]
  },
  {
   "cell_type": "markdown",
   "id": "3b2cacd6",
   "metadata": {},
   "source": [
    "### 17. Use `text9.index()` to find the index of the word 'sunset'. You'll need to insert this word as an argument between the parentheses. By a process of trial and error, find the slice for the complete sentence that contains this word."
   ]
  },
  {
   "cell_type": "code",
   "execution_count": 115,
   "id": "db8b71c6",
   "metadata": {},
   "outputs": [
    {
     "name": "stdout",
     "output_type": "stream",
     "text": [
      "The index of the word \"sunset\" is 629.\n",
      "\n",
      "['Park', 'lay', 'on', 'the', 'sunset', 'side', 'of', 'London'] \n",
      "\n",
      "['of', 'Saffron', 'Park', 'lay', 'on', 'the', 'sunset', 'side', 'of', 'London', ','] \n",
      "\n",
      "['THE', 'suburb', 'of', 'Saffron', 'Park', 'lay', 'on', 'the', 'sunset', 'side', 'of', 'London', ',', 'as', 'red', 'and', 'ragged', 'as', 'a', 'cloud', 'of', 'sunset', '.']\n"
     ]
    }
   ],
   "source": [
    "the_word = \"sunset\"\n",
    "print(\"The index of the word \\\"{}\\\" is {}.\\n\".format(the_word, text9.index(\"sunset\")))\n",
    "\n",
    "print(text9[625:633], \"\\n\")\n",
    "print(text9[623:634], \"\\n\")\n",
    "print(text9[621:644])"
   ]
  },
  {
   "cell_type": "markdown",
   "id": "9d9f47e9",
   "metadata": {},
   "source": [
    "### 18. Using list addition, and the set and sorted operations, compute the vocabulary of the sentences sent1 ... sent8."
   ]
  },
  {
   "cell_type": "code",
   "execution_count": 118,
   "id": "3a11e0db",
   "metadata": {},
   "outputs": [
    {
     "name": "stdout",
     "output_type": "stream",
     "text": [
      "['!', ',', '-', '.', '1', '25', '29', '61', ':', 'ARTHUR', 'Call', 'Citizens', 'Dashwood', 'Fellow', 'God', 'House', 'I', 'In', 'Ishmael', 'JOIN', 'KING', 'MALE', 'Nov.', 'PMing', 'Pierre', 'Representatives', 'SCENE', 'SEXY', 'Senate', 'Sussex', 'The', 'Vinken', 'Whoa', '[', ']', 'a', 'and', 'as', 'attrac', 'been', 'beginning', 'board', 'clop', 'created', 'director', 'discreet', 'earth', 'encounters', 'family', 'for', 'had', 'have', 'heaven', 'in', 'join', 'lady', 'lol', 'long', 'me', 'nonexecutive', 'of', 'old', 'older', 'people', 'problem', 'seeks', 'settled', 'single', 'the', 'there', 'to', 'will', 'wind', 'with', 'years']\n"
     ]
    }
   ],
   "source": [
    "print(sorted(set(sent1 + sent2 + sent3 + sent4 + sent5 + sent6 + sent7 + sent8)))"
   ]
  },
  {
   "cell_type": "markdown",
   "id": "1971ff91",
   "metadata": {},
   "source": [
    "### 19. What is the difference between the following two lines? Which one will give a larger value? Will this be the case for other texts?\n",
    "\n",
    ">`sorted(set(w.lower() for w in text1))` <br> `sorted(w.lower() for w in set(text1))`"
   ]
  },
  {
   "cell_type": "markdown",
   "id": "4aa40a42",
   "metadata": {},
   "source": [
    "The expression `sorted(set(w.lower() for w in text1))` is expected to:\n",
    "1. Lower-case all word tokens.\n",
    "2. Remove the duplicate tokens.\n",
    "3. Return the results sorted.\n",
    "\n",
    "The expression `sorted(w.lower() for w in set(text1))` is expected to:\n",
    "1. Remove the duplicate tokens.\n",
    "2. Lower-case all word tokens.\n",
    "3. Return the results sorted.\n",
    "\n",
    "**The $2^{nd}$ expression is expected to give a larger value**, as it first removes duplicates, and then lower-case the word letters. For example, the word tokens \"The\" and \"the\" will both count as unique tokens. \n",
    "\n",
    "The $1^{st}$ expression first lower-case word letters, thus, converting \"The\" to \"the\", and then removes duplicates."
   ]
  },
  {
   "cell_type": "code",
   "execution_count": 124,
   "id": "013b3179",
   "metadata": {},
   "outputs": [
    {
     "name": "stdout",
     "output_type": "stream",
     "text": [
      "17231\n",
      "19317\n"
     ]
    }
   ],
   "source": [
    "print(len(sorted(set(w.lower() for w in text1))))\n",
    "\n",
    "print(len(sorted(w.lower() for w in set(text1))))"
   ]
  },
  {
   "cell_type": "markdown",
   "id": "b021bdf2",
   "metadata": {},
   "source": [
    "### 20. What is the difference between the following two tests: `w.isupper()` and `not w.islower()`?"
   ]
  },
  {
   "cell_type": "markdown",
   "id": "f602e858",
   "metadata": {},
   "source": [
    "The expression `w.isupper()` will return the `w` if all letters are upper-case.\n",
    "\n",
    "The expression `not w.islower()` will return the `w` that they do not have all they letters lower-cased, e.g. upper-case, and title-case words."
   ]
  },
  {
   "cell_type": "code",
   "execution_count": 129,
   "id": "8066e121",
   "metadata": {},
   "outputs": [
    {
     "name": "stdout",
     "output_type": "stream",
     "text": [
      "['ETYMOLOGY', 'I', 'H', 'HACKLUYT', 'WHALE', 'HVAL', 'HVALT', 'WEBSTER', 'S', 'DICTIONARY']\n",
      "['[', 'Moby', 'Dick', 'Herman', 'Melville', '1851', ']', 'ETYMOLOGY', '.', '(']\n"
     ]
    }
   ],
   "source": [
    "upper_list = [w for w in text1 if w.isupper()]\n",
    "print(upper_list[:10])\n",
    "\n",
    "not_lower_list = [w for w in text1 if not w.islower()]\n",
    "print(not_lower_list[:10])"
   ]
  },
  {
   "cell_type": "markdown",
   "id": "ea809680",
   "metadata": {},
   "source": [
    "### 21. Write the slice expression that extracts the last two words of `text2`."
   ]
  },
  {
   "cell_type": "code",
   "execution_count": 130,
   "id": "910892d7",
   "metadata": {},
   "outputs": [
    {
     "data": {
      "text/plain": [
       "['THE', 'END']"
      ]
     },
     "execution_count": 130,
     "metadata": {},
     "output_type": "execute_result"
    }
   ],
   "source": [
    "text2[-2:]"
   ]
  },
  {
   "cell_type": "markdown",
   "id": "db82b826",
   "metadata": {},
   "source": [
    "### 22. Find all the four-letter words in the Chat Corpus (text5). With the help of a frequency distribution (FreqDist), show these words in decreasing order of frequency."
   ]
  },
  {
   "cell_type": "code",
   "execution_count": 140,
   "id": "d89c490e",
   "metadata": {},
   "outputs": [
    {
     "name": "stdout",
     "output_type": "stream",
     "text": [
      "text5 has 9371 four-letter words.\n",
      "\n"
     ]
    },
    {
     "data": {
      "text/plain": [
       "FreqDist({'JOIN': 1021, 'PART': 1016, 'that': 274, 'what': 183, 'here': 181, 'have': 164, 'like': 156, 'with': 152, 'chat': 142, 'your': 137, ...})"
      ]
     },
     "execution_count": 140,
     "metadata": {},
     "output_type": "execute_result"
    }
   ],
   "source": [
    "four_letter_w = [w for w in text5 if len(w) == 4 and w.isalpha()]\n",
    "print(\"text5 has {} four-letter words.\\n\".format(len(four_letter_w)))\n",
    "\n",
    "fdist = FreqDist(four_letter_w)\n",
    "fdist"
   ]
  },
  {
   "cell_type": "markdown",
   "id": "d95fac1b",
   "metadata": {},
   "source": [
    "### 23. Review the discussion of looping with conditions in [4](https://www.nltk.org/book/ch01.html#sec-making-decisions). Use a combination of `for` and `if` statements to loop over the words of the movie script for Monty Python and the Holy Grail (text6) and print all the uppercase words, one per line."
   ]
  },
  {
   "cell_type": "code",
   "execution_count": 146,
   "id": "c885172a",
   "metadata": {},
   "outputs": [
    {
     "name": "stdout",
     "output_type": "stream",
     "text": [
      "PATSY\n",
      "DEAD\n",
      "CRAPPER\n",
      "I\n",
      "OTHER\n",
      "DINGO\n",
      "FRENCH\n",
      "C\n",
      "TIM\n",
      "GUARD\n"
     ]
    }
   ],
   "source": [
    "upper_text6 = [w for w in set(text6) if w.isalpha() and w.isupper()]\n",
    "# print just the first 10 words\n",
    "for w in upper_text6[:10]:\n",
    "    print(w)"
   ]
  },
  {
   "cell_type": "markdown",
   "id": "178ad8ac",
   "metadata": {},
   "source": [
    "### 24. Write expressions for finding all words in text6 that meet the conditions listed below. The result should be in the form of a list of words: ['word1', 'word2', ...].\n",
    "\n",
    "1. Ending in 'ise'\n",
    "2. Containing the letter 'z'\n",
    "3. Containing the sequence of letters 'pt'\n",
    "4. Having all lowercase letters except for an initial capital (i.e., titlecase)"
   ]
  },
  {
   "cell_type": "code",
   "execution_count": 154,
   "id": "f8cda52d",
   "metadata": {},
   "outputs": [
    {
     "name": "stdout",
     "output_type": "stream",
     "text": [
      "['wise', 'wise', 'apologise', 'surprise', 'surprise', 'surprise', 'noise', 'surprise', 'zone', 'amazes']\n"
     ]
    }
   ],
   "source": [
    "ise_text6 = [w for w in text6 if w.endswith(\"ise\")]\n",
    "z_text6 = [w for w in text6 if \"z\" in w]\n",
    "pt_text6 = [w for w in text6 if \"pt\" in w]\n",
    "title_text6 = [w for w in text6 if w.istitle()]\n",
    "\n",
    "# concatenate the lists\n",
    "words_text6 = ise_text6 + z_text6 + pt_text6 + title_text6\n",
    "# print the first 10 words\n",
    "print(words_text6[:10])"
   ]
  },
  {
   "cell_type": "markdown",
   "id": "26061a17",
   "metadata": {},
   "source": [
    "### 25.  Define `sent` to be the list of words ['she', 'sells', 'sea', 'shells', 'by', 'the', 'sea', 'shore']. Now write code to perform the following tasks:\n",
    "\n",
    "1. Print all words beginning with 'sh' <br>\n",
    "2. Print all words longer than four characters"
   ]
  },
  {
   "cell_type": "code",
   "execution_count": 157,
   "id": "44726bc1",
   "metadata": {},
   "outputs": [
    {
     "name": "stdout",
     "output_type": "stream",
     "text": [
      "['she', 'shells', 'shore']\n",
      "['sells', 'shells', 'shore']\n"
     ]
    }
   ],
   "source": [
    "# define list\n",
    "sent = ['she', 'sells', 'sea', 'shells', 'by', 'the', 'sea', 'shore']\n",
    "\n",
    "# words beginning with 'sh'\n",
    "sh_words = [w for w in sent if w.startswith(\"sh\")]\n",
    "print(sh_words)\n",
    "\n",
    "# words longer than 4 characters\n",
    "long_words = [w for w in sent if len(w) > 4]\n",
    "print(long_words)"
   ]
  },
  {
   "cell_type": "markdown",
   "id": "d4760974",
   "metadata": {},
   "source": [
    "### 26. What does the following Python code do? `sum(len(w) for w in text1)` Can you use it to work out the average word length of a text?"
   ]
  },
  {
   "cell_type": "markdown",
   "id": "23abd71e",
   "metadata": {},
   "source": [
    "`sum(len(w) for w in text1)` returns the sum of the lengths of all the tokens in text1.\n",
    "\n",
    "You can use it to find the average word length if you remove the number and punctuation."
   ]
  },
  {
   "cell_type": "code",
   "execution_count": 166,
   "id": "be262ccc",
   "metadata": {},
   "outputs": [
    {
     "name": "stdout",
     "output_type": "stream",
     "text": [
      "The sum of all the token lengths of text1 is 999044 characters.\n",
      "\n",
      "The sum of all the word lengths of text1 is 951935 characters.\n",
      "\n",
      "text1 has a total of 218361 word tokens.\n",
      "\n",
      "The mean word length of text is 0.22938646020999334 characters.\n"
     ]
    }
   ],
   "source": [
    "token_length = sum(len(w) for w in text1)\n",
    "print(\"The sum of all the token lengths of text1 is {} characters.\\n\".format(token_length))\n",
    "\n",
    "# keep only alphabetical chars\n",
    "char_length = sum(len(w) for w in text1 if w.isalpha())\n",
    "print(\"The sum of all the word lengths of text1 is {} characters.\\n\".format(char_length))\n",
    "\n",
    "# find the average word length\n",
    "total_words = len([w for w in text1 if w.isalpha()])\n",
    "print(\"text1 has a total of {} word tokens.\\n\".format(total_words))\n",
    "\n",
    "# find the mean word length\n",
    "mean_word_len = total_words / char_length\n",
    "print(\"The mean word length of text is {} characters.\".format(mean_word_len))"
   ]
  },
  {
   "cell_type": "markdown",
   "id": "5d3ddaa5",
   "metadata": {},
   "source": [
    "### 27. Define a function called `vocab_size(text)` that has a single parameter for the text, and which returns the vocabulary size of the text."
   ]
  },
  {
   "cell_type": "code",
   "execution_count": 167,
   "id": "930a224c",
   "metadata": {},
   "outputs": [
    {
     "name": "stdout",
     "output_type": "stream",
     "text": [
      "The vocabulary size of text1 is 19317 tokens.\n",
      "\n",
      "The vocabulary size of text2 is 6833 tokens.\n"
     ]
    }
   ],
   "source": [
    "def vocab_size(text):\n",
    "    return len(set(text))\n",
    "\n",
    "print(\"The vocabulary size of text1 is {} tokens.\\n\".format(vocab_size(text1)))\n",
    "print(\"The vocabulary size of text2 is {} tokens.\".format(vocab_size(text2)))"
   ]
  },
  {
   "cell_type": "markdown",
   "id": "b9eb6987",
   "metadata": {},
   "source": [
    "### 28. Define a function `percent(word, text)` that calculates how often a given word occurs in a text, and expresses the result as a percentage."
   ]
  },
  {
   "cell_type": "code",
   "execution_count": 176,
   "id": "212d2833",
   "metadata": {},
   "outputs": [
    {
     "name": "stdout",
     "output_type": "stream",
     "text": [
      "The word \"the\" consists 5.3% of text1.\n",
      "\n",
      "The word \"the\" consists 2.7% of text2.\n",
      "\n"
     ]
    }
   ],
   "source": [
    "def percent(word, text):\n",
    "    return text.count(word) / len(text)*100\n",
    "\n",
    "print(\"The word \\\"{}\\\" consists {:.1f}% of {}.\\n\".format(\"the\", percent(\"the\", text1), \"text1\"))\n",
    "print(\"The word \\\"{}\\\" consists {:.1f}% of {}.\\n\".format(\"the\", percent(\"the\", text2), \"text2\"))"
   ]
  },
  {
   "cell_type": "markdown",
   "id": "e1eabb13",
   "metadata": {},
   "source": [
    "### 29. We have been using sets to store vocabularies. Try the following Python expression: `set(sent3) < set(text1)`. Experiment with this using different arguments to `set()`. What does it do? Can you think of a practical application for this?"
   ]
  },
  {
   "cell_type": "code",
   "execution_count": 181,
   "id": "04284213",
   "metadata": {
    "scrolled": true
   },
   "outputs": [
    {
     "name": "stdout",
     "output_type": "stream",
     "text": [
      "True\n",
      "False\n"
     ]
    }
   ],
   "source": [
    "print(set(sent3) < set(text1))\n",
    "print(set(text1) > set(text2))"
   ]
  },
  {
   "cell_type": "markdown",
   "id": "d5605dad",
   "metadata": {},
   "source": [
    "It compares the vocabulary of one text or sentence to the other. \n",
    "\n",
    "It could be used to **compare the vocabulary** between two different texts or genres, etc., as a measure of **lexical richness.**"
   ]
  }
 ],
 "metadata": {
  "kernelspec": {
   "display_name": "Python 3 (ipykernel)",
   "language": "python",
   "name": "python3"
  },
  "language_info": {
   "codemirror_mode": {
    "name": "ipython",
    "version": 3
   },
   "file_extension": ".py",
   "mimetype": "text/x-python",
   "name": "python",
   "nbconvert_exporter": "python",
   "pygments_lexer": "ipython3",
   "version": "3.9.7"
  }
 },
 "nbformat": 4,
 "nbformat_minor": 5
}
