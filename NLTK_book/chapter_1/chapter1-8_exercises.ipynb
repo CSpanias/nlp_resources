{
 "cells": [
  {
   "cell_type": "markdown",
   "id": "9c7e4232",
   "metadata": {},
   "source": [
    "# **Natural Language Processing with Python**\n",
    "by [CSpanias](https://cspanias.github.io/aboutme/) - 01/2022\n",
    "\n",
    "Content based on the [NLTK book](https://www.nltk.org/book/). <br>\n",
    "\n",
    "You can find these exercises at the end of [Chapter 1](https://www.nltk.org/book/ch01.html).\n",
    "\n",
    "## Chapter 1 exercises & solutions"
   ]
  },
  {
   "cell_type": "code",
   "execution_count": 2,
   "id": "aeaadff1",
   "metadata": {
    "scrolled": false
   },
   "outputs": [
    {
     "name": "stdout",
     "output_type": "stream",
     "text": [
      "*** Introductory Examples for the NLTK Book ***\n",
      "Loading text1, ..., text9 and sent1, ..., sent9\n",
      "Type the name of the text or sentence to view it.\n",
      "Type: 'texts()' or 'sents()' to list the materials.\n",
      "text1: Moby Dick by Herman Melville 1851\n",
      "text2: Sense and Sensibility by Jane Austen 1811\n",
      "text3: The Book of Genesis\n",
      "text4: Inaugural Address Corpus\n",
      "text5: Chat Corpus\n",
      "text6: Monty Python and the Holy Grail\n",
      "text7: Wall Street Journal\n",
      "text8: Personals Corpus\n",
      "text9: The Man Who Was Thursday by G . K . Chesterton 1908\n"
     ]
    }
   ],
   "source": [
    "# load nltk\n",
    "import nltk\n",
    "# import all texts\n",
    "from nltk.book import *"
   ]
  },
  {
   "cell_type": "markdown",
   "id": "0c3d8413",
   "metadata": {},
   "source": [
    "### 1. Try using the Python interpreter as a **calculator**, and typing expressions like 12 / (4 + 1)."
   ]
  },
  {
   "cell_type": "code",
   "execution_count": 3,
   "id": "bf6115ab",
   "metadata": {},
   "outputs": [
    {
     "data": {
      "text/plain": [
       "2.6666666666666665"
      ]
     },
     "execution_count": 3,
     "metadata": {},
     "output_type": "execute_result"
    }
   ],
   "source": [
    "12 / (5*9) * 10"
   ]
  },
  {
   "cell_type": "markdown",
   "id": "f9e5d0f9",
   "metadata": {},
   "source": [
    "### 2. Given an alphabet of 26 letters, there are 26 **to the power 10**, or 26 ** 10, ten-letter strings we can form. That works out to 141167095653376. How many hundred-letter strings are possible?"
   ]
  },
  {
   "cell_type": "code",
   "execution_count": 6,
   "id": "0149f874",
   "metadata": {},
   "outputs": [
    {
     "name": "stdout",
     "output_type": "stream",
     "text": [
      "You can form 141167095653376 10-letter strings given an alphabet of 26 letters.\n",
      "\n",
      "You can form 3142930641582938830174357788501626427282669988762475256374173175398995908420104023465432599069702289330964075081611719197835869803511992549376 100-letter strings given an alphabet of 26 letters.\n",
      "\n"
     ]
    }
   ],
   "source": [
    "print(\"You can form {} {}-letter strings given an alphabet of {} letters.\\n\".format(26**10, 10, 26))\n",
    "\n",
    "print(\"You can form {} {}-letter strings given an alphabet of {} letters.\\n\".format(26**100, 100, 26))"
   ]
  },
  {
   "cell_type": "markdown",
   "id": "da7af8c1",
   "metadata": {},
   "source": [
    "### 3. The Python **multiplication operation** can be applied to **lists**. What happens when you type ['Monty', 'Python'] * 20, or 3 * sent1?"
   ]
  },
  {
   "cell_type": "code",
   "execution_count": 8,
   "id": "f2addda9",
   "metadata": {},
   "outputs": [
    {
     "name": "stdout",
     "output_type": "stream",
     "text": [
      "['Monty', 'Python', 'Monty', 'Python', 'Monty', 'Python', 'Monty', 'Python', 'Monty', 'Python', 'Monty', 'Python', 'Monty', 'Python', 'Monty', 'Python', 'Monty', 'Python', 'Monty', 'Python', 'Monty', 'Python', 'Monty', 'Python', 'Monty', 'Python', 'Monty', 'Python', 'Monty', 'Python', 'Monty', 'Python', 'Monty', 'Python', 'Monty', 'Python', 'Monty', 'Python', 'Monty', 'Python'] \n",
      "\n",
      "['Call', 'me', 'Ishmael', '.', 'Call', 'me', 'Ishmael', '.', 'Call', 'me', 'Ishmael', '.']\n"
     ]
    }
   ],
   "source": [
    "name_list = ['Monty', 'Python']\n",
    "print(name_list * 20, \"\\n\")\n",
    "\n",
    "print(3*sent1)"
   ]
  },
  {
   "cell_type": "markdown",
   "id": "573f3951",
   "metadata": {},
   "source": [
    "### 4. Review [1](https://www.nltk.org/book/ch01.html#sec-computing-with-language-texts-and-words) on computing with language. **How many words** are there in text2? **How many distinct words** are there?"
   ]
  },
  {
   "cell_type": "code",
   "execution_count": 22,
   "id": "97a9969f",
   "metadata": {},
   "outputs": [
    {
     "name": "stdout",
     "output_type": "stream",
     "text": [
      "There are 120733 words in text2.\n",
      "\n",
      "There are 6713 unique words in text2.\n"
     ]
    }
   ],
   "source": [
    "# get the number of words only from text2\n",
    "text2_len = [w for w in text2 if w.isalpha()]\n",
    "print(\"There are {} words in text2.\\n\".format(len(text2_len)))\n",
    "\n",
    "# get the number of unique words only from text2\n",
    "text2_hapaxes = (len(set(word for word in text2 if word.isalpha())))\n",
    "print(\"There are {} unique words in text2.\".format(text2_hapaxes))"
   ]
  },
  {
   "cell_type": "markdown",
   "id": "c246feeb",
   "metadata": {},
   "source": [
    "### 5. Compare the **lexical diversity scores** for humor and romance fiction in [1.1](https://www.nltk.org/book/ch01.html#tab-brown-types). Which genre is more lexically diverse?"
   ]
  },
  {
   "cell_type": "markdown",
   "id": "7cb3e02f",
   "metadata": {},
   "source": [
    ">**Humor**: 0.231 <br> **Romance fiction**: 0.121\n",
    "\n",
    "**Humor** is more **lexically diverse** than **Romance fiction** as they have 23% and 12% unique tokens, respectively."
   ]
  },
  {
   "cell_type": "markdown",
   "id": "f083489f",
   "metadata": {},
   "source": [
    "### 6. Produce a dispersion plot of the four main protagonists in Sense and Sensibility: Elinor, Marianne, Edward, and Willoughby. What can you observe about the different roles played by the males and females in this novel? Can you identify the couples?"
   ]
  },
  {
   "cell_type": "code",
   "execution_count": 30,
   "id": "a2b4f4d4",
   "metadata": {
    "scrolled": true
   },
   "outputs": [
    {
     "data": {
      "image/png": "[encoded data removed]",
      "text/plain": [
       "<Figure size 432x288 with 1 Axes>"
      ]
     },
     "metadata": {
      "needs_background": "light"
     },
     "output_type": "display_data"
    }
   ],
   "source": [
    "# create a list with the protagonists\n",
    "protagonists = [\"Elinor\", \"Marianne\", \"Edward\", \"Willoughby\"]\n",
    "# create a dispersion plot\n",
    "text2.dispersion_plot(protagonists)"
   ]
  },
  {
   "cell_type": "markdown",
   "id": "b6a431b5",
   "metadata": {},
   "source": [
    "It seems that **Elinor** is the **main protagonist** as her name appears throughout the book, followed by **Marianne** which seems to be the **co-protagonist**. There are no identifiable couples.\n",
    "\n",
    "[Couples Answer](https://www.sparknotes.com/lit/sensibility/characters/): Elinor & Edward, Marianne & Willoughby."
   ]
  },
  {
   "cell_type": "markdown",
   "id": "b12c29a9",
   "metadata": {},
   "source": [
    "### 7. Find the **collocations** in text5."
   ]
  },
  {
   "cell_type": "code",
   "execution_count": 28,
   "id": "51270f03",
   "metadata": {},
   "outputs": [
    {
     "name": "stdout",
     "output_type": "stream",
     "text": [
      "wanna chat; PART JOIN; MODE #14-19teens; JOIN PART; PART PART;\n",
      "cute.-ass MP3; MP3 player; JOIN JOIN; times .. .; ACTION watches; guys\n",
      "wanna; song lasts; last night; ACTION sits; -...)...- S.M.R.; Lime\n",
      "Player; Player 12%; dont know; lez gurls; long time\n",
      "None\n"
     ]
    }
   ],
   "source": [
    "# check the collocations\n",
    "print(text5.collocations())"
   ]
  },
  {
   "cell_type": "markdown",
   "id": "1f2c9003",
   "metadata": {},
   "source": [
    "### 8. Consider the following Python expression: len(set(text4)). State the purpose of this expression. Describe the two steps involved in performing this computation."
   ]
  },
  {
   "cell_type": "markdown",
   "id": "add5ab95",
   "metadata": {},
   "source": [
    "`len(set(text4))` calculates the **length** (number of tokens) of **text4** with **no duplicates**.\n",
    "\n",
    "1. `set(text4)` removes duplicates from text4\n",
    "2. `len(set(text4))` calculates the length of the \"clean\" text4"
   ]
  },
  {
   "cell_type": "markdown",
   "id": "ab1900ec",
   "metadata": {},
   "source": [
    "### 9. Review 2 on lists and strings.\n",
    "\n",
    "1. **Define a string and assign it to a variable**, e.g., my_string = 'My String' (but put something more interesting in the string). Print the contents of this variable in two ways, first by **simply typing the variable name** and pressing enter, then by using the **print statement**.\n",
    "2. Try **adding the string to itself** using my_string + my_string, or multiplying it by a number, e.g., my_string * 3. Notice that the strings are joined together without any spaces. How could you fix this?"
   ]
  },
  {
   "cell_type": "code",
   "execution_count": 37,
   "id": "d8300bf4",
   "metadata": {},
   "outputs": [
    {
     "name": "stdout",
     "output_type": "stream",
     "text": [
      "I put something interesting!\n",
      "I put something interesting!\n",
      "\n",
      "I put something interesting!I put something interesting!\n",
      "I put something interesting!I put something interesting!I put something interesting! \n",
      "\n",
      "I put something interesting! I put something interesting!\n",
      "I put something interesting! I put something interesting! I put something interesting! \n"
     ]
    }
   ],
   "source": [
    "# 9.1\n",
    "my_string = \"I put something interesting!\"\n",
    "# print statement\n",
    "print(my_string)\n",
    "# using .format attribute\n",
    "print(\"{}\\n\".format(my_string))\n",
    "# directly typing, not shown as output here\n",
    "my_string\n",
    "\n",
    "# 9.2\n",
    "# adding the string to itself\n",
    "print(my_string + my_string)\n",
    "# multiplying the string\n",
    "print(my_string * 3, \"\\n\")\n",
    "\n",
    "# adding spaces between strings\n",
    "print(my_string + \" \" + my_string)\n",
    "print((my_string + \" \") * 3)"
   ]
  },
  {
   "cell_type": "markdown",
   "id": "4eed3c83",
   "metadata": {},
   "source": [
    "### 10. Define a variable my_sent to be a list of words, using the syntax my_sent = [\"My\", \"sent\"] (but with your own words, or a favorite saying).\n",
    "\n",
    "1. Use `' '.join(my_sent)` to convert this into a string.\n",
    "2. Use `split()` to split the string back into the list form you had to start with."
   ]
  },
  {
   "cell_type": "code",
   "execution_count": 41,
   "id": "5ac00cfd",
   "metadata": {},
   "outputs": [
    {
     "name": "stdout",
     "output_type": "stream",
     "text": [
      "['My', 'list', 'of', 'words'] \n",
      "\n",
      "My list of words \n",
      "\n",
      "['My', 'list', 'of', 'words']\n"
     ]
    }
   ],
   "source": [
    "# define the variable to be a list of words\n",
    "my_sent = [\"My\", \"list\", \"of\", \"words\"]\n",
    "print(my_sent, \"\\n\")\n",
    "\n",
    "# convert list to string\n",
    "my_string = \" \".join(my_sent)\n",
    "print(my_string, \"\\n\")\n",
    "\n",
    "# convert string to list\n",
    "my_list = my_string.split()\n",
    "print(my_list)"
   ]
  },
  {
   "cell_type": "markdown",
   "id": "307ba7b5",
   "metadata": {},
   "source": [
    "### 11. Define several variables containing lists of words, e.g., phrase1, phrase2, and so on. Join them together in various combinations (using the plus operator) to form whole sentences. What is the relationship between len(phrase1 + phrase2) and len(phrase1) + len(phrase2)?"
   ]
  },
  {
   "cell_type": "code",
   "execution_count": 49,
   "id": "353e2380",
   "metadata": {},
   "outputs": [
    {
     "name": "stdout",
     "output_type": "stream",
     "text": [
      "['This', 'is', 'the', 'first', 'phrase', '!', 'I', 'am', 'a', 'parrot', '.']\n",
      "[1, 2, 3, 4, 5, 6, 'I', 'am', 'a', 'parrot', '.', 'This', 'is', 'the', 'first', 'phrase', '!'] \n",
      "\n",
      "11\n",
      "11\n"
     ]
    }
   ],
   "source": [
    "# define variables with lists of words\n",
    "phrase1 = [\"This\", \"is\", \"the\", \"first\", \"phrase\", \"!\"]\n",
    "phrase2 = [\"I\", \"am\", \"a\", \"parrot\", \".\"]\n",
    "phrase3 = [1, 2, 3, 4, 5, 6]\n",
    "\n",
    "# concatenation\n",
    "print(phrase1 + phrase2)\n",
    "print(phrase3 + phrase2 + phrase1, \"\\n\")\n",
    "\n",
    "# lengths\n",
    "print(len(phrase1 + phrase2)) # concatenate and then calculate the total length\n",
    "print(len(phrase1) + len(phrase2)) # calcualte the length of eaech list and add their lengths"
   ]
  },
  {
   "cell_type": "markdown",
   "id": "98cbbc52",
   "metadata": {},
   "source": [
    "### 12. Consider the following two expressions, which have the same value. Which one will typically be more relevant in NLP? Why?\n",
    "\n",
    ">\"Monty Python\"[6:12] <br>\n",
    "[\"Monty\", \"Python\"][1]"
   ]
  },
  {
   "cell_type": "code",
   "execution_count": 53,
   "id": "d6f78682",
   "metadata": {},
   "outputs": [
    {
     "name": "stdout",
     "output_type": "stream",
     "text": [
      "Python\n",
      "Python\n"
     ]
    }
   ],
   "source": [
    "print(\"Monty Python\"[6:12])\n",
    "print([\"Monty\", \"Python\"][1])"
   ]
  },
  {
   "cell_type": "markdown",
   "id": "7dec2154",
   "metadata": {},
   "source": [
    "I think the **second one is more relevant to NLP** as we are usually dealing with tokenized text, i.e lists of invidual words and perform several operations such as **slicing** in lists instead of strings."
   ]
  },
  {
   "cell_type": "markdown",
   "id": "87f87e7c",
   "metadata": {},
   "source": [
    "### 13. We have seen how to represent a sentence as a list of words, where each word is a sequence of characters. What does `sent1[2][2]` do? Why? Experiment with other index values."
   ]
  },
  {
   "cell_type": "markdown",
   "id": "f88fe700",
   "metadata": {},
   "source": [
    "`sent1[2][2]` is expected to obtain the letter at index 2 of the word at index 2."
   ]
  },
  {
   "cell_type": "code",
   "execution_count": 57,
   "id": "c50ad34b",
   "metadata": {},
   "outputs": [
    {
     "name": "stdout",
     "output_type": "stream",
     "text": [
      "The full sent1 is: ['Call', 'me', 'Ishmael', '.'].\n",
      "The element with index 2 of sent1 is: Ishmael.\n",
      "The letter with the index 2 of this element is: h.\n"
     ]
    }
   ],
   "source": [
    "print(\"The full sent1 is: {}.\".format(sent1))\n",
    "print(\"The element with index 2 of sent1 is: {}.\".format(sent1[2]))\n",
    "print(\"The letter with the index 2 of this element is: {}.\".format(sent1[2][2]))"
   ]
  },
  {
   "cell_type": "markdown",
   "id": "db25acc9",
   "metadata": {},
   "source": [
    "### 14. The first sentence of `text3` is provided to you in the variable `sent3`. The index of `the` in `sent3` is 1, because `sent3[1]` gives us 'the'. What are the indexes of the two other occurrences of this word in `sent3`?"
   ]
  },
  {
   "cell_type": "code",
   "execution_count": 89,
   "id": "d04587fb",
   "metadata": {},
   "outputs": [
    {
     "name": "stdout",
     "output_type": "stream",
     "text": [
      "1\n",
      "3\n",
      "2\n",
      "the\n",
      "the\n"
     ]
    }
   ],
   "source": [
    "# find 1st index of \"the\"\n",
    "print(text3.index(\"the\"))\n",
    "# find 2nd index, starting from 2\n",
    "print(text3[2:].index(\"the\"))\n",
    "# find 3rd index, starting from 6\n",
    "print(text3[6:].index(\"the\"))\n",
    "\n",
    "# second index = 2+3\n",
    "print(text3[5])\n",
    "# third index = 6+2\n",
    "print(text3[8])"
   ]
  },
  {
   "cell_type": "markdown",
   "id": "f4e2582d",
   "metadata": {},
   "source": [
    "### 15. Review the discussion of conditionals in [4](https://www.nltk.org/book/ch01.html#sec-making-decisions). Find all words in the Chat Corpus (text5) starting with the letter `b`. Show them in alphabetical order."
   ]
  },
  {
   "cell_type": "code",
   "execution_count": 94,
   "id": "fbb6fe55",
   "metadata": {},
   "outputs": [
    {
     "name": "stdout",
     "output_type": "stream",
     "text": [
      "['b', 'b-day', 'b/c', 'b4', 'babay', 'babble', 'babblein', 'babe', 'babes', 'babi', 'babies', 'babiess', 'baby', 'babycakeses', 'bachelorette', 'back', 'backatchya', 'backfrontsidewaysandallaroundtheworld', 'backroom', 'backup', 'bacl', 'bad', 'bag', 'bagel', 'bagels', 'bahahahaa', 'bak', 'baked', 'balad', 'balance', 'balck', 'ball', 'ballin', 'balls', 'ban', 'band', 'bandito', 'bandsaw', 'banjoes', 'banned', 'baord', 'bar', 'barbie', 'bare', 'barely', 'bares', 'barfights', 'barks', 'barn', 'barrel', 'base', 'bases', 'basically', 'basket', 'battery', 'bay', 'bbbbbyyyyyyyeeeeeeeee', 'bbiam', 'bbl', 'bbs', 'bc', 'be', 'beach', 'beachhhh', 'beam', 'beams', 'beanbag', 'beans', 'bear', 'bears', 'beat', 'beaten', 'beatles', 'beats', 'beattles', 'beautiful', 'because', 'beckley', 'become', 'bed', 'bedford', 'bedroom', 'beeeeehave', 'beeehave', 'been', 'beer', 'before', 'beg', 'begin', 'behave', 'behind', 'bein', 'being', 'beleive', 'believe', 'belive', 'bell', 'belly', 'belong', 'belongings', 'ben', 'bend', 'benz', 'bes', 'beside', 'besides', 'best', 'bet', 'betrayal', 'betta', 'better', 'between', 'beuty', 'bf', 'bi', 'biatch', 'bible', 'biebsa', 'bied', 'big', 'bigest', 'biggest', 'biiiatch', 'bike', 'bikes', 'bikini', 'bio', 'bird', 'birfday', 'birthday', 'bisexual', 'bishes', 'bit', 'bitch', 'bitches', 'bitdh', 'bite', 'bites', 'biyatch', 'biz', 'bj', 'black', 'blade', 'blah', 'blank', 'blankie', 'blazed', 'bleach', 'blech', 'bless', 'blessings', 'blew', 'blind', 'blinks', 'bliss', 'blocking', 'bloe', 'blood', 'blooded', 'bloody', 'blow', 'blowing', 'blowjob', 'blowup', 'blue', 'blueberry', 'bluer', 'blues', 'blunt', 'board', 'bob', 'bodies', 'body', 'boed', 'boght', 'boi', 'boing', 'boinked', 'bois', 'bomb', 'bone', 'boned', 'bones', 'bong', 'boning', 'bonus', 'boo', 'booboo', 'boobs', 'book', 'boom', 'boooooooooooglyyyyyy', 'boost', 'boot', 'bootay', 'booted', 'boots', 'booty', 'border', 'borderline', 'bored', 'boredom', 'boring', 'born', 'born-again', 'bosom', 'boss', 'bossy', 'bot', 'both', 'bother', 'bothering', 'bottle', 'bought', 'bounced', 'bouncer', 'bouncers', 'bound', 'bout', 'bouts', 'bow', 'bowl', 'box', 'boy', 'boyfriend', 'boys', 'bra', 'brad', 'brady', 'brain', 'brakes', 'brass', 'brat', 'brb', 'brbbb', 'bread', 'break', 'breaks', 'breath', 'breathe', 'bred', 'breeding', 'bright', 'brightened', 'bring', 'brings', 'bro', 'broke', 'brooklyn', 'brother', 'brothers', 'brought', 'brown', 'brrrrrrr', 'bruises', 'brunswick', 'brwn', 'btw', 'bucks', 'buddyyyyyy', 'buff', 'buffalo', 'bug', 'bugs', 'buh', 'build', 'builds', 'built', 'bull', 'bulls', 'bum', 'bumber', 'bummer', 'bumped', 'bumper', 'bunch', 'bunny', 'burger', 'burito', 'burned', 'burns', 'burp', 'burpin', 'burps', 'burried', 'burryed', 'bus', 'buses', 'bust', 'busted', 'busy', 'but', 'butt', 'butter', 'butterscotch', 'button', 'buttons', 'buy', 'buying', 'bwahahahahahahahahahaha', 'by', 'byb', 'bye', 'byeee', 'byeeee', 'byeeeeeeee', 'byeeeeeeeeeeeee', 'byes']\n"
     ]
    }
   ],
   "source": [
    "print(sorted(set(w for w in text5 if w.startswith(\"b\"))))"
   ]
  },
  {
   "cell_type": "markdown",
   "id": "7986773f",
   "metadata": {},
   "source": [
    "### 16. Type the expression `list(range(10))` at the interpreter prompt. Now try `list(range(10, 20))`, `list(range(10, 20, 2))`, and `list(range(20, 10, -2))`. We will see a variety of uses for this built-in function in later chapters."
   ]
  },
  {
   "cell_type": "code",
   "execution_count": 99,
   "id": "db6bce84",
   "metadata": {},
   "outputs": [
    {
     "name": "stdout",
     "output_type": "stream",
     "text": [
      "[0, 1, 2, 3, 4, 5, 6, 7, 8, 9]\n",
      "[10, 12, 14, 16, 18]\n",
      "[20, 18, 16, 14, 12]\n"
     ]
    }
   ],
   "source": [
    "# generate a list from 0 to 10\n",
    "print(list(range(10)))\n",
    "# generate a list from 10 to 20 with step 2\n",
    "print(list(range(10, 20, 2)))\n",
    "# genera a list from 20 to 10 with step -2\n",
    "print(list(range(20, 10, -2)))"
   ]
  },
  {
   "cell_type": "markdown",
   "id": "3b2cacd6",
   "metadata": {},
   "source": [
    "### 17. Use `text9.index()` to find the index of the word 'sunset'. You'll need to insert this word as an argument between the parentheses. By a process of trial and error, find the slice for the complete sentence that contains this word."
   ]
  },
  {
   "cell_type": "code",
   "execution_count": 115,
   "id": "db8b71c6",
   "metadata": {},
   "outputs": [
    {
     "name": "stdout",
     "output_type": "stream",
     "text": [
      "The index of the word \"sunset\" is 629.\n",
      "\n",
      "['Park', 'lay', 'on', 'the', 'sunset', 'side', 'of', 'London'] \n",
      "\n",
      "['of', 'Saffron', 'Park', 'lay', 'on', 'the', 'sunset', 'side', 'of', 'London', ','] \n",
      "\n",
      "['THE', 'suburb', 'of', 'Saffron', 'Park', 'lay', 'on', 'the', 'sunset', 'side', 'of', 'London', ',', 'as', 'red', 'and', 'ragged', 'as', 'a', 'cloud', 'of', 'sunset', '.']\n"
     ]
    }
   ],
   "source": [
    "the_word = \"sunset\"\n",
    "print(\"The index of the word \\\"{}\\\" is {}.\\n\".format(the_word, text9.index(\"sunset\")))\n",
    "\n",
    "print(text9[625:633], \"\\n\")\n",
    "print(text9[623:634], \"\\n\")\n",
    "print(text9[621:644])"
   ]
  },
  {
   "cell_type": "markdown",
   "id": "9d9f47e9",
   "metadata": {},
   "source": [
    "### 18. Using list addition, and the set and sorted operations, compute the vocabulary of the sentences sent1 ... sent8."
   ]
  },
  {
   "cell_type": "code",
   "execution_count": 118,
   "id": "3a11e0db",
   "metadata": {},
   "outputs": [
    {
     "name": "stdout",
     "output_type": "stream",
     "text": [
      "['!', ',', '-', '.', '1', '25', '29', '61', ':', 'ARTHUR', 'Call', 'Citizens', 'Dashwood', 'Fellow', 'God', 'House', 'I', 'In', 'Ishmael', 'JOIN', 'KING', 'MALE', 'Nov.', 'PMing', 'Pierre', 'Representatives', 'SCENE', 'SEXY', 'Senate', 'Sussex', 'The', 'Vinken', 'Whoa', '[', ']', 'a', 'and', 'as', 'attrac', 'been', 'beginning', 'board', 'clop', 'created', 'director', 'discreet', 'earth', 'encounters', 'family', 'for', 'had', 'have', 'heaven', 'in', 'join', 'lady', 'lol', 'long', 'me', 'nonexecutive', 'of', 'old', 'older', 'people', 'problem', 'seeks', 'settled', 'single', 'the', 'there', 'to', 'will', 'wind', 'with', 'years']\n"
     ]
    }
   ],
   "source": [
    "print(sorted(set(sent1 + sent2 + sent3 + sent4 + sent5 + sent6 + sent7 + sent8)))"
   ]
  },
  {
   "cell_type": "markdown",
   "id": "1971ff91",
   "metadata": {},
   "source": [
    "### 19. What is the difference between the following two lines? Which one will give a larger value? Will this be the case for other texts?\n",
    "\n",
    ">`sorted(set(w.lower() for w in text1))` <br> `sorted(w.lower() for w in set(text1))`"
   ]
  },
  {
   "cell_type": "markdown",
   "id": "4aa40a42",
   "metadata": {},
   "source": [
    "The expression `sorted(set(w.lower() for w in text1))` is expected to:\n",
    "1. Lower-case all word tokens.\n",
    "2. Remove the duplicate tokens.\n",
    "3. Return the results sorted.\n",
    "\n",
    "The expression `sorted(w.lower() for w in set(text1))` is expected to:\n",
    "1. Remove the duplicate tokens.\n",
    "2. Lower-case all word tokens.\n",
    "3. Return the results sorted.\n",
    "\n",
    "**The $2^{nd}$ expression is expected to give a larger value**, as it first removes duplicates, and then lower-case the word letters. For example, the word tokens \"The\" and \"the\" will both count as unique tokens. \n",
    "\n",
    "The $1^{st}$ expression first lower-case word letters, thus, converting \"The\" to \"the\", and then removes duplicates."
   ]
  },
  {
   "cell_type": "code",
   "execution_count": 124,
   "id": "013b3179",
   "metadata": {},
   "outputs": [
    {
     "name": "stdout",
     "output_type": "stream",
     "text": [
      "17231\n",
      "19317\n"
     ]
    }
   ],
   "source": [
    "print(len(sorted(set(w.lower() for w in text1))))\n",
    "\n",
    "print(len(sorted(w.lower() for w in set(text1))))"
   ]
  },
  {
   "cell_type": "markdown",
   "id": "b021bdf2",
   "metadata": {},
   "source": [
    "### 20. What is the difference between the following two tests: `w.isupper()` and `not w.islower()`?"
   ]
  },
  {
   "cell_type": "markdown",
   "id": "f602e858",
   "metadata": {},
   "source": [
    "The expression `w.isupper()` will return the `w` if all letters are upper-case.\n",
    "\n",
    "The expression `not w.islower()` will return the `w` that they do not have all they letters lower-cased, e.g. upper-case, and title-case words."
   ]
  },
  {
   "cell_type": "code",
   "execution_count": 129,
   "id": "8066e121",
   "metadata": {},
   "outputs": [
    {
     "name": "stdout",
     "output_type": "stream",
     "text": [
      "['ETYMOLOGY', 'I', 'H', 'HACKLUYT', 'WHALE', 'HVAL', 'HVALT', 'WEBSTER', 'S', 'DICTIONARY']\n",
      "['[', 'Moby', 'Dick', 'Herman', 'Melville', '1851', ']', 'ETYMOLOGY', '.', '(']\n"
     ]
    }
   ],
   "source": [
    "upper_list = [w for w in text1 if w.isupper()]\n",
    "print(upper_list[:10])\n",
    "\n",
    "not_lower_list = [w for w in text1 if not w.islower()]\n",
    "print(not_lower_list[:10])"
   ]
  },
  {
   "cell_type": "markdown",
   "id": "ea809680",
   "metadata": {},
   "source": [
    "### 21. Write the slice expression that extracts the last two words of `text2`."
   ]
  },
  {
   "cell_type": "code",
   "execution_count": 130,
   "id": "910892d7",
   "metadata": {},
   "outputs": [
    {
     "data": {
      "text/plain": [
       "['THE', 'END']"
      ]
     },
     "execution_count": 130,
     "metadata": {},
     "output_type": "execute_result"
    }
   ],
   "source": [
    "text2[-2:]"
   ]
  },
  {
   "cell_type": "markdown",
   "id": "db82b826",
   "metadata": {},
   "source": [
    "### 22. Find all the four-letter words in the Chat Corpus (text5). With the help of a frequency distribution (FreqDist), show these words in decreasing order of frequency."
   ]
  },
  {
   "cell_type": "code",
   "execution_count": 140,
   "id": "d89c490e",
   "metadata": {},
   "outputs": [
    {
     "name": "stdout",
     "output_type": "stream",
     "text": [
      "text5 has 9371 four-letter words.\n",
      "\n"
     ]
    },
    {
     "data": {
      "text/plain": [
       "FreqDist({'JOIN': 1021, 'PART': 1016, 'that': 274, 'what': 183, 'here': 181, 'have': 164, 'like': 156, 'with': 152, 'chat': 142, 'your': 137, ...})"
      ]
     },
     "execution_count": 140,
     "metadata": {},
     "output_type": "execute_result"
    }
   ],
   "source": [
    "four_letter_w = [w for w in text5 if len(w) == 4 and w.isalpha()]\n",
    "print(\"text5 has {} four-letter words.\\n\".format(len(four_letter_w)))\n",
    "\n",
    "fdist = FreqDist(four_letter_w)\n",
    "fdist"
   ]
  },
  {
   "cell_type": "markdown",
   "id": "d95fac1b",
   "metadata": {},
   "source": [
    "### 23. Review the discussion of looping with conditions in [4](https://www.nltk.org/book/ch01.html#sec-making-decisions). Use a combination of `for` and `if` statements to loop over the words of the movie script for Monty Python and the Holy Grail (text6) and print all the uppercase words, one per line."
   ]
  },
  {
   "cell_type": "code",
   "execution_count": 146,
   "id": "c885172a",
   "metadata": {},
   "outputs": [
    {
     "name": "stdout",
     "output_type": "stream",
     "text": [
      "PATSY\n",
      "DEAD\n",
      "CRAPPER\n",
      "I\n",
      "OTHER\n",
      "DINGO\n",
      "FRENCH\n",
      "C\n",
      "TIM\n",
      "GUARD\n"
     ]
    }
   ],
   "source": [
    "upper_text6 = [w for w in set(text6) if w.isalpha() and w.isupper()]\n",
    "# print just the first 10 words\n",
    "for w in upper_text6[:10]:\n",
    "    print(w)"
   ]
  },
  {
   "cell_type": "markdown",
   "id": "178ad8ac",
   "metadata": {},
   "source": [
    "### 24. Write expressions for finding all words in text6 that meet the conditions listed below. The result should be in the form of a list of words: ['word1', 'word2', ...].\n",
    "\n",
    "1. Ending in 'ise'\n",
    "2. Containing the letter 'z'\n",
    "3. Containing the sequence of letters 'pt'\n",
    "4. Having all lowercase letters except for an initial capital (i.e., titlecase)"
   ]
  },
  {
   "cell_type": "code",
   "execution_count": 154,
   "id": "f8cda52d",
   "metadata": {},
   "outputs": [
    {
     "name": "stdout",
     "output_type": "stream",
     "text": [
      "['wise', 'wise', 'apologise', 'surprise', 'surprise', 'surprise', 'noise', 'surprise', 'zone', 'amazes']\n"
     ]
    }
   ],
   "source": [
    "ise_text6 = [w for w in text6 if w.endswith(\"ise\")]\n",
    "z_text6 = [w for w in text6 if \"z\" in w]\n",
    "pt_text6 = [w for w in text6 if \"pt\" in w]\n",
    "title_text6 = [w for w in text6 if w.istitle()]\n",
    "\n",
    "# concatenate the lists\n",
    "words_text6 = ise_text6 + z_text6 + pt_text6 + title_text6\n",
    "# print the first 10 words\n",
    "print(words_text6[:10])"
   ]
  },
  {
   "cell_type": "markdown",
   "id": "26061a17",
   "metadata": {},
   "source": [
    "### 25.  Define `sent` to be the list of words ['she', 'sells', 'sea', 'shells', 'by', 'the', 'sea', 'shore']. Now write code to perform the following tasks:\n",
    "\n",
    "1. Print all words beginning with 'sh' <br>\n",
    "2. Print all words longer than four characters"
   ]
  },
  {
   "cell_type": "code",
   "execution_count": 157,
   "id": "44726bc1",
   "metadata": {},
   "outputs": [
    {
     "name": "stdout",
     "output_type": "stream",
     "text": [
      "['she', 'shells', 'shore']\n",
      "['sells', 'shells', 'shore']\n"
     ]
    }
   ],
   "source": [
    "# define list\n",
    "sent = ['she', 'sells', 'sea', 'shells', 'by', 'the', 'sea', 'shore']\n",
    "\n",
    "# words beginning with 'sh'\n",
    "sh_words = [w for w in sent if w.startswith(\"sh\")]\n",
    "print(sh_words)\n",
    "\n",
    "# words longer than 4 characters\n",
    "long_words = [w for w in sent if len(w) > 4]\n",
    "print(long_words)"
   ]
  },
  {
   "cell_type": "markdown",
   "id": "d4760974",
   "metadata": {},
   "source": [
    "### 26. What does the following Python code do? `sum(len(w) for w in text1)` Can you use it to work out the average word length of a text?"
   ]
  },
  {
   "cell_type": "markdown",
   "id": "23abd71e",
   "metadata": {},
   "source": [
    "`sum(len(w) for w in text1)` returns the sum of the lengths of all the tokens in text1.\n",
    "\n",
    "You can use it to find the average word length if you remove the number and punctuation."
   ]
  },
  {
   "cell_type": "code",
   "execution_count": 166,
   "id": "be262ccc",
   "metadata": {},
   "outputs": [
    {
     "name": "stdout",
     "output_type": "stream",
     "text": [
      "The sum of all the token lengths of text1 is 999044 characters.\n",
      "\n",
      "The sum of all the word lengths of text1 is 951935 characters.\n",
      "\n",
      "text1 has a total of 218361 word tokens.\n",
      "\n",
      "The mean word length of text is 0.22938646020999334 characters.\n"
     ]
    }
   ],
   "source": [
    "token_length = sum(len(w) for w in text1)\n",
    "print(\"The sum of all the token lengths of text1 is {} characters.\\n\".format(token_length))\n",
    "\n",
    "# keep only alphabetical chars\n",
    "char_length = sum(len(w) for w in text1 if w.isalpha())\n",
    "print(\"The sum of all the word lengths of text1 is {} characters.\\n\".format(char_length))\n",
    "\n",
    "# find the average word length\n",
    "total_words = len([w for w in text1 if w.isalpha()])\n",
    "print(\"text1 has a total of {} word tokens.\\n\".format(total_words))\n",
    "\n",
    "# find the mean word length\n",
    "mean_word_len = total_words / char_length\n",
    "print(\"The mean word length of text is {} characters.\".format(mean_word_len))"
   ]
  },
  {
   "cell_type": "markdown",
   "id": "5d3ddaa5",
   "metadata": {},
   "source": [
    "### 27. Define a function called `vocab_size(text)` that has a single parameter for the text, and which returns the vocabulary size of the text."
   ]
  },
  {
   "cell_type": "code",
   "execution_count": 167,
   "id": "930a224c",
   "metadata": {},
   "outputs": [
    {
     "name": "stdout",
     "output_type": "stream",
     "text": [
      "The vocabulary size of text1 is 19317 tokens.\n",
      "\n",
      "The vocabulary size of text2 is 6833 tokens.\n"
     ]
    }
   ],
   "source": [
    "def vocab_size(text):\n",
    "    return len(set(text))\n",
    "\n",
    "print(\"The vocabulary size of text1 is {} tokens.\\n\".format(vocab_size(text1)))\n",
    "print(\"The vocabulary size of text2 is {} tokens.\".format(vocab_size(text2)))"
   ]
  },
  {
   "cell_type": "markdown",
   "id": "b9eb6987",
   "metadata": {},
   "source": [
    "### 28. Define a function `percent(word, text)` that calculates how often a given word occurs in a text, and expresses the result as a percentage."
   ]
  },
  {
   "cell_type": "code",
   "execution_count": 176,
   "id": "212d2833",
   "metadata": {},
   "outputs": [
    {
     "name": "stdout",
     "output_type": "stream",
     "text": [
      "The word \"the\" consists 5.3% of text1.\n",
      "\n",
      "The word \"the\" consists 2.7% of text2.\n",
      "\n"
     ]
    }
   ],
   "source": [
    "def percent(word, text):\n",
    "    return text.count(word) / len(text)*100\n",
    "\n",
    "print(\"The word \\\"{}\\\" consists {:.1f}% of {}.\\n\".format(\"the\", percent(\"the\", text1), \"text1\"))\n",
    "print(\"The word \\\"{}\\\" consists {:.1f}% of {}.\\n\".format(\"the\", percent(\"the\", text2), \"text2\"))"
   ]
  },
  {
   "cell_type": "markdown",
   "id": "e1eabb13",
   "metadata": {},
   "source": [
    "### 29. We have been using sets to store vocabularies. Try the following Python expression: `set(sent3) < set(text1)`. Experiment with this using different arguments to `set()`. What does it do? Can you think of a practical application for this?"
   ]
  },
  {
   "cell_type": "code",
   "execution_count": 181,
   "id": "04284213",
   "metadata": {
    "scrolled": true
   },
   "outputs": [
    {
     "name": "stdout",
     "output_type": "stream",
     "text": [
      "True\n",
      "False\n"
     ]
    }
   ],
   "source": [
    "print(set(sent3) < set(text1))\n",
    "print(set(text1) > set(text2))"
   ]
  },
  {
   "cell_type": "markdown",
   "id": "d5605dad",
   "metadata": {},
   "source": [
    "It compares the vocabulary of one text or sentence to the other. \n",
    "\n",
    "It could be used to **compare the vocabulary** between two different texts or genres, etc., as a measure of **lexical richness.**"
   ]
  }
 ],
 "metadata": {
  "kernelspec": {
   "display_name": "Python 3 (ipykernel)",
   "language": "python",
   "name": "python3"
  },
  "language_info": {
   "codemirror_mode": {
    "name": "ipython",
    "version": 3
   },
   "file_extension": ".py",
   "mimetype": "text/x-python",
   "name": "python",
   "nbconvert_exporter": "python",
   "pygments_lexer": "ipython3",
   "version": "3.9.7"
  }
 },
 "nbformat": 4,
 "nbformat_minor": 5
}
