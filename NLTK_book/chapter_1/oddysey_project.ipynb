{
 "cells": [
  {
   "cell_type": "markdown",
   "id": "b6811bac",
   "metadata": {},
   "source": [
    "# **Natural Language Processing with Python**\n",
    "by [CSpanias](https://cspanias.github.io/aboutme/) - 01/2022\n",
    "\n",
    "Content based on the [NLTK book](https://www.nltk.org/book/). <br>\n",
    "\n",
    "You can find Chapter 1 [here](https://www.nltk.org/book/ch01.html), my notes for Chapter 1 [here](https://github.com/CSpanias/nlp_resources/blob/main/NLTK_book/chapter_1/chapter1_languageProcessingAndPython.ipynb) as well as my version of the associated exercise solutions [here](https://github.com/CSpanias/nlp_resources/blob/main/NLTK_book/chapter_1/chapter1_exercises.ipynb).\n",
    "\n",
    "This is my short \"project\" for revising Chapter's 1 materials."
   ]
  },
  {
   "cell_type": "markdown",
   "id": "d96cec48",
   "metadata": {},
   "source": [
    "# Textual analysis of Homer's Odyssey. \n",
    "You can find the Plain Text UTF-8 version of the text on the [Project Gutenberg website](https://www.gutenberg.org/ebooks/1727)."
   ]
  },
  {
   "cell_type": "code",
   "execution_count": 8,
   "id": "ae68c992",
   "metadata": {
    "scrolled": false
   },
   "outputs": [],
   "source": [
    "# import text as string\n",
    "with open(r\"odyssey_homer.txt\", encoding=\"utf8\") as f:\n",
    "    raw = f.read()"
   ]
  },
  {
   "cell_type": "code",
   "execution_count": 10,
   "id": "05b619b4",
   "metadata": {},
   "outputs": [
    {
     "name": "stdout",
     "output_type": "stream",
     "text": [
      "Variable 'raw' is of type: <class 'str'>\n",
      "\n"
     ]
    }
   ],
   "source": [
    "# check dtype\n",
    "print(f\"Variable 'raw' is of type: {type(raw)}\\n\")"
   ]
  },
  {
   "cell_type": "code",
   "execution_count": 11,
   "id": "c9a9d26d",
   "metadata": {},
   "outputs": [
    {
     "name": "stdout",
     "output_type": "stream",
     "text": [
      "First 500 characters:\n",
      "\n",
      "The Project Gutenberg eBook of The Odyssey, by Homer\n",
      "\n",
      "This eBook is for the use of anyone anywhere in the United States and\n",
      "most other parts of the world at no cost and with almost no restrictions\n",
      "whatsoever. You may copy it, give it away or re-use it under the terms\n",
      "of the Project Gutenberg License included with this eBook or online at\n",
      "www.gutenberg.org. If you are not located in the United State\n",
      "\n"
     ]
    }
   ],
   "source": [
    "# check text\n",
    "print(f\"First 500 characters:\\n\\n{raw[:400]}\\n\")"
   ]
  },
  {
   "cell_type": "code",
   "execution_count": 12,
   "id": "6778733c",
   "metadata": {
    "scrolled": true
   },
   "outputs": [
    {
     "name": "stdout",
     "output_type": "stream",
     "text": [
      "Initial text without special chars:\n",
      "\n",
      "The Project Gutenberg eBook of The Odyssey by Homer This eBook is for the use of anyone anywhere in the United States and most other parts of the world at no cost and with almost no restrictions whatsoever You may copy it give it away or re use it under the terms of the Project Gutenberg License included with this eBook or online at www gutenberg org If you are not located in the United States you\n"
     ]
    }
   ],
   "source": [
    "import re\n",
    "\n",
    "# remove special chars\n",
    "raw = re.sub('[^A-Za-z0-9]+', ' ', raw)\n",
    "print(f\"Initial text without special chars:\\n\\n{raw[:400]}\")"
   ]
  },
  {
   "cell_type": "code",
   "execution_count": 13,
   "id": "91f144f3",
   "metadata": {},
   "outputs": [
    {
     "name": "stdout",
     "output_type": "stream",
     "text": [
      "Number of tokens: 133799.\n",
      "\n"
     ]
    }
   ],
   "source": [
    "from nltk.tokenize import word_tokenize\n",
    "\n",
    "# tokenize text\n",
    "tokens = word_tokenize(raw)\n",
    "print(f\"Number of tokens: {len(tokens)}.\\n\")"
   ]
  },
  {
   "cell_type": "code",
   "execution_count": 20,
   "id": "80e5e1e2",
   "metadata": {},
   "outputs": [],
   "source": [
    "# lower case words\n",
    "tokens = [w.lower() for w in tokens]"
   ]
  },
  {
   "cell_type": "code",
   "execution_count": 21,
   "id": "6b4ba145",
   "metadata": {},
   "outputs": [
    {
     "name": "stdout",
     "output_type": "stream",
     "text": [
      "Number of tokens without stopwords: 60284.\n"
     ]
    }
   ],
   "source": [
    "from nltk.corpus import stopwords\n",
    "\n",
    "# define stopwords list\n",
    "sw = set(stopwords.words('english'))\n",
    "\n",
    "# remove stopwords\n",
    "tokens = [token for token in tokens if token not in sw]\n",
    "print(f\"Number of tokens without stopwords: {len(tokens)}.\")"
   ]
  },
  {
   "cell_type": "code",
   "execution_count": 22,
   "id": "07b174e6",
   "metadata": {
    "scrolled": true
   },
   "outputs": [
    {
     "name": "stdout",
     "output_type": "stream",
     "text": [
      "First 20 tokens:\n",
      "\n",
      "['project', 'gutenberg', 'ebook', 'odyssey', 'homer', 'ebook', 'use', 'anyone', 'anywhere', 'united', 'states', 'parts', 'world', 'cost', 'almost', 'restrictions', 'whatsoever', 'may', 'copy', 'give', 'away', 'use', 'terms', 'project', 'gutenberg', 'license', 'included', 'ebook', 'online', 'www']\n",
      "\n",
      "Number of tokens: 60284\n",
      "\n",
      "Number of unique tokens (vocab): 7764\n",
      "\n",
      "Lexical richness: 12.88%\n"
     ]
    }
   ],
   "source": [
    "# check first few tokens\n",
    "print(f\"First 20 tokens:\\n\\n{tokens[:30]}\\n\")\n",
    "\n",
    "# check length & vocab\n",
    "print(f\"Number of tokens: {len(tokens)}\\n\\nNumber of unique tokens (vocab): {len(set(tokens))}\\n\")\n",
    "\n",
    "# check lexical richness\n",
    "lexical_richness = len(set(tokens)) / len(tokens)\n",
    "print(\"Lexical richness: {:.2%}\".format(lexical_richness))"
   ]
  },
  {
   "cell_type": "code",
   "execution_count": 39,
   "id": "fc908fa0",
   "metadata": {
    "scrolled": true
   },
   "outputs": [
    {
     "name": "stdout",
     "output_type": "stream",
     "text": [
      "The first 15 word tokens constitute the 9.10% of the text (5486 words).\n"
     ]
    },
    {
     "data": {
      "image/png": "[encoded data removed]",
      "text/plain": [
       "<Figure size 432x288 with 1 Axes>"
      ]
     },
     "metadata": {
      "needs_background": "light"
     },
     "output_type": "display_data"
    }
   ],
   "source": [
    "# calculate % of first 15 word tokens\n",
    "total = 0\n",
    "for i in fdist.most_common(15):\n",
    "    total += i[1]\n",
    "    \n",
    "print(\"The first 15 word tokens constitute the {:.2%} of the text ({} words).\".format(total / len(tokens), total))\n",
    "\n",
    "# plot cumulative fdist\n",
    "fdist.plot(15, cumulative=True);"
   ]
  },
  {
   "cell_type": "code",
   "execution_count": 48,
   "id": "fed506b4",
   "metadata": {
    "scrolled": false
   },
   "outputs": [
    {
     "name": "stdout",
     "output_type": "stream",
     "text": [
      "The token \"ulysses\" constitutes 0.01 of text.\n",
      "\n",
      "ulysses     one    said   house   would     man     men      us    went    come \n",
      "    655     573     483     413     385     347     335     313     301     291 \n"
     ]
    },
    {
     "data": {
      "image/png": "[encoded data removed]",
      "text/plain": [
       "<Figure size 432x288 with 1 Axes>"
      ]
     },
     "metadata": {
      "needs_background": "light"
     },
     "output_type": "display_data"
    }
   ],
   "source": [
    "from nltk import FreqDist\n",
    "\n",
    "# create a FreqDist\n",
    "fdist = FreqDist(tokens)\n",
    "\n",
    "print(\"The token \\\"{}\\\" constitutes {:.2f} of text.\\n\"\n",
    "      .format(fdist.most_common()[0][0], fdist.most_common()[0][1] / len(tokens)))\n",
    "\n",
    "# tabulate fdist\n",
    "fdist.tabulate(10)\n",
    "\n",
    "# plot fdist\n",
    "fdist.plot(15);"
   ]
  },
  {
   "cell_type": "code",
   "execution_count": 76,
   "id": "c212fc34",
   "metadata": {
    "scrolled": true
   },
   "outputs": [
    {
     "name": "stdout",
     "output_type": "stream",
     "text": [
      "There are 3273 words that appears only once in the text.\n",
      "\n",
      "The first 30 hapaxes are: ['title', 'samuel', 'release', 'april', '1999', '1727', '2022', 'jim', 'tinsley', 'david', 'widger', 'rendered', 'contents', 'al', 'professore', 'cav', 'biagio', 'ingroia', 'prezioso', 'alleato', 'autore', 'riconoscente', 'supplement', 'entitled', 'unwieldy', 'epitomised', 'solve', 'periplus', 'via', 'arguments']\n"
     ]
    }
   ],
   "source": [
    "# find hapaxes\n",
    "print(f\"There are {len(fdist.hapaxes())} words that appears only once in the text.\\n\\n\\\n",
    "The first 30 hapaxes are: {fdist.hapaxes()[:30]}\")"
   ]
  },
  {
   "cell_type": "code",
   "execution_count": 70,
   "id": "6fcb57b7",
   "metadata": {
    "scrolled": false
   },
   "outputs": [
    {
     "name": "stdout",
     "output_type": "stream",
     "text": [
      "There are 27 words longer than 13 characters:\n",
      "\n",
      "['laestrygonians', 'interpretation', 'embellishments', 'accomplishments', 'contemptuously', 'redistribution', 'redistributing', 'electronically', 'scholasticised', 'simultaneously', 'rearrangements', 'singlehanded18', 'straightforwardly', 'inextinguishable', 'pyriphlegethon', 'disrespectfully', 'extraordinarily', 'notwithstanding', 'accomplishment', 'discouragement', 'circumnavigation', 'impossibilities', 'representations', 'nonproprietary', 'merchantability', 'unenforceability', 'identification']\n"
     ]
    }
   ],
   "source": [
    "# find long freq words\n",
    "long_common = [w for w in fdist if len(w) > 13]\n",
    "print(\"There are {} words longer than 13 characters:\\n\\n{}\".format(len(long_common) ,long_common))"
   ]
  }
 ],
 "metadata": {
  "kernelspec": {
   "display_name": "Python 3 (ipykernel)",
   "language": "python",
   "name": "python3"
  },
  "language_info": {
   "codemirror_mode": {
    "name": "ipython",
    "version": 3
   },
   "file_extension": ".py",
   "mimetype": "text/x-python",
   "name": "python",
   "nbconvert_exporter": "python",
   "pygments_lexer": "ipython3",
   "version": "3.9.7"
  }
 },
 "nbformat": 4,
 "nbformat_minor": 5
}
