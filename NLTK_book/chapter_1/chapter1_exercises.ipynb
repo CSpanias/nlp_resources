{
 "cells": [
  {
   "cell_type": "markdown",
   "id": "9c7e4232",
   "metadata": {},
   "source": [
    "# **Natural Language Processing with Python**\n",
    "by [CSpanias](https://cspanias.github.io/aboutme/) - 01/2022\n",
    "\n",
    "Content based on the [NLTK book](https://www.nltk.org/book/). <br>\n",
    "\n",
    "You can find these exercises at the end of [Chapter 1](https://www.nltk.org/book/ch01.html).\n",
    "\n",
    "## Chapter 1 exercises & solutions"
   ]
  },
  {
   "cell_type": "markdown",
   "id": "0c3d8413",
   "metadata": {},
   "source": [
    "__1.__ Try using the Python interpreter as a **calculator**, and typing expressions like 12 / (4 + 1)."
   ]
  },
  {
   "cell_type": "code",
   "execution_count": 1,
   "id": "bf6115ab",
   "metadata": {},
   "outputs": [
    {
     "data": {
      "text/plain": [
       "2.6666666666666665"
      ]
     },
     "execution_count": 1,
     "metadata": {},
     "output_type": "execute_result"
    }
   ],
   "source": [
    "12 / (5*9) * 10"
   ]
  },
  {
   "cell_type": "markdown",
   "id": "f9e5d0f9",
   "metadata": {},
   "source": [
    "__2.__ Given an alphabet of 26 letters, there are 26 **to the power 10**, or 26 ** 10, ten-letter strings we can form. That works out to 141167095653376. How many hundred-letter strings are possible?"
   ]
  },
  {
   "cell_type": "code",
   "execution_count": 4,
   "id": "0149f874",
   "metadata": {},
   "outputs": [
    {
     "name": "stdout",
     "output_type": "stream",
     "text": [
      "You can form 141167095653376 10-letter strings given an alphabet of 26 letters.\n",
      "\n",
      "You can form 3142930641582938830174357788501626427282669988762475256374173175398995908420104023465432599069702289330964075081611719197835869803511992549376 100-letter strings given an alphabet of 26 letters.\n"
     ]
    }
   ],
   "source": [
    "print(f\"You can form {26**10} {10}-letter strings given an alphabet of {26} letters.\\n\")\n",
    "\n",
    "print(f\"You can form {26**100} {100}-letter strings given an alphabet of {26} letters.\")"
   ]
  },
  {
   "cell_type": "markdown",
   "id": "da7af8c1",
   "metadata": {},
   "source": [
    "__3.__ The Python **multiplication operation** can be applied to **lists**. What happens when you type `['Monty', 'Python'] * 20`, or `3 * sent1`?"
   ]
  },
  {
   "cell_type": "code",
   "execution_count": 8,
   "id": "f2addda9",
   "metadata": {},
   "outputs": [
    {
     "name": "stdout",
     "output_type": "stream",
     "text": [
      "['Monty', 'Python', 'Monty', 'Python', 'Monty', 'Python', 'Monty', 'Python', 'Monty', 'Python'] \n",
      "\n",
      "HelloHelloHello\n"
     ]
    }
   ],
   "source": [
    "name_list = ['Monty', 'Python']\n",
    "print(name_list * 5, \"\\n\")\n",
    "\n",
    "my_string = 'Hello'\n",
    "print(3 * my_string)"
   ]
  },
  {
   "cell_type": "markdown",
   "id": "573f3951",
   "metadata": {},
   "source": [
    "__4.__ Review [1](https://www.nltk.org/book/ch01.html#sec-computing-with-language-texts-and-words) on computing with language. **How many words** are there in text2? **How many distinct words** are there?"
   ]
  },
  {
   "cell_type": "code",
   "execution_count": 11,
   "id": "97a9969f",
   "metadata": {},
   "outputs": [
    {
     "name": "stdout",
     "output_type": "stream",
     "text": [
      "There are 120733 words in text2.\n",
      "\n",
      "There are 6833 unique words in text2.\n"
     ]
    }
   ],
   "source": [
    "from nltk.book import *\n",
    "\n",
    "# get the number of words of text2\n",
    "text2_len = [w for w in text2 if w.isalpha()]\n",
    "print(f\"There are {len(text2_len)} words in text2.\\n\")\n",
    "\n",
    "# get the number of vocabulary of text2\n",
    "text2_vocab = (len(set(text2)))\n",
    "print(f\"There are {text2_vocab} unique words in text2.\")"
   ]
  },
  {
   "cell_type": "markdown",
   "id": "c246feeb",
   "metadata": {},
   "source": [
    "__5.__ Compare the **lexical diversity scores** for humor and romance fiction in [1.1](https://www.nltk.org/book/ch01.html#tab-brown-types). Which genre is more lexically diverse?"
   ]
  },
  {
   "cell_type": "markdown",
   "id": "7cb3e02f",
   "metadata": {},
   "source": [
    ">**Humor**: 0.231 <br> **Romance fiction**: 0.121\n",
    "\n",
    "**Humor** is more **lexically diverse** than **Romance fiction** as they have 23% and 12% unique tokens, respectively."
   ]
  },
  {
   "cell_type": "code",
   "execution_count": 28,
   "id": "772e3801",
   "metadata": {},
   "outputs": [
    {
     "name": "stdout",
     "output_type": "stream",
     "text": [
      "['adventure', 'belles_lettres', 'editorial', 'fiction', 'government', 'hobbies', 'humor', 'learned', 'lore', 'mystery', 'news', 'religion', 'reviews', 'romance', 'science_fiction']\n",
      "\n",
      "Lexical diversity of romance: 12.07%.\n",
      "\n",
      "Lexical diversity of humor: 23.13%.\n"
     ]
    }
   ],
   "source": [
    "from nltk.corpus import brown\n",
    "\n",
    "# check brown corpus categories\n",
    "print(brown.categories())\n",
    "\n",
    "# extract tokens of each category\n",
    "tokens_romance = brown.words(categories=\"romance\")\n",
    "tokens_humor = brown.words(categories=\"humor\")\n",
    "\n",
    "# create a function for calculating lexical diversity\n",
    "def lexical_diversity(tokens_list):\n",
    "    return len(set(tokens_list)) / len(tokens_list)\n",
    "\n",
    "# calculate lexical diversity\n",
    "print(\"\\nLexical diversity of romance: {:.2%}.\\n\".format(lexical_diversity(tokens_romance)))\n",
    "print(\"Lexical diversity of humor: {:.2%}.\".format(lexical_diversity(tokens_humor)))"
   ]
  },
  {
   "cell_type": "markdown",
   "id": "f083489f",
   "metadata": {},
   "source": [
    "__6.__ Produce a __dispersion plot__ of the four main protagonists in Sense and Sensibility: Elinor, Marianne, Edward, and Willoughby. \n",
    "\n",
    "What can you observe about the different roles played by the males and females in this novel? Can you identify the couples?"
   ]
  },
  {
   "cell_type": "code",
   "execution_count": 29,
   "id": "a2b4f4d4",
   "metadata": {
    "scrolled": true
   },
   "outputs": [
    {
     "name": "stdout",
     "output_type": "stream",
     "text": [
      "<Text: Sense and Sensibility by Jane Austen 1811>\n"
     ]
    },
    {
     "data": {
      "image/png": "[encoded data removed]",
      "text/plain": [
       "<Figure size 432x288 with 1 Axes>"
      ]
     },
     "metadata": {
      "needs_background": "light"
     },
     "output_type": "display_data"
    }
   ],
   "source": [
    "# choose the appropriate text\n",
    "print(text2)\n",
    "\n",
    "# create a list with the protagonists\n",
    "protagonists = [\"Elinor\", \"Marianne\", \"Edward\", \"Willoughby\"]\n",
    "\n",
    "# create a dispersion plot\n",
    "text2.dispersion_plot(protagonists)"
   ]
  },
  {
   "cell_type": "markdown",
   "id": "b6a431b5",
   "metadata": {},
   "source": [
    "It seems that **Elinor** is the **main protagonist** as her name appears throughout the book, followed by **Marianne** which seems to be the **co-protagonist**. There are __no identifiable couples__ through the dispersion plot.\n",
    "\n",
    "[Couples Answer](https://www.sparknotes.com/lit/sensibility/characters/): Elinor & Edward, Marianne & Willoughby."
   ]
  },
  {
   "cell_type": "markdown",
   "id": "b12c29a9",
   "metadata": {},
   "source": [
    "__7.__ Find the **collocations** in text5."
   ]
  },
  {
   "cell_type": "code",
   "execution_count": 31,
   "id": "51270f03",
   "metadata": {},
   "outputs": [
    {
     "name": "stdout",
     "output_type": "stream",
     "text": [
      "wanna chat; PART JOIN; MODE #14-19teens; JOIN PART; PART PART;\n",
      "cute.-ass MP3; MP3 player; JOIN JOIN; times .. .; ACTION watches; guys\n",
      "wanna; song lasts; last night; ACTION sits; -...)...- S.M.R.; Lime\n",
      "Player; Player 12%; dont know; lez gurls; long time\n",
      "None\n"
     ]
    }
   ],
   "source": [
    "print(text5.collocations())"
   ]
  },
  {
   "cell_type": "markdown",
   "id": "1f2c9003",
   "metadata": {},
   "source": [
    "__8.__ Consider the following Python expression: `len(set(text4))`. \n",
    "\n",
    "State the purpose of this expression. Describe the two steps involved in performing this computation."
   ]
  },
  {
   "cell_type": "markdown",
   "id": "add5ab95",
   "metadata": {},
   "source": [
    "`len(set(text4))` calculates the **vocabulary** of text4.\n",
    "\n",
    "1. `set(text4)` removes duplicates from text4.\n",
    "2. `len(set(text4))` calculates the length of text4."
   ]
  },
  {
   "cell_type": "markdown",
   "id": "ab1900ec",
   "metadata": {},
   "source": [
    "__9.__ Review 2 on lists and strings.\n",
    "\n",
    "1. **Define a string and assign it to a variable**, e.g., `my_string = 'My String'` (but put something more interesting in the string). Print the contents of this variable in two ways, first by **simply typing the variable name** and pressing enter, then by using the **print statement**.\n",
    "\n",
    "\n",
    "2. Try **adding the string to itself** using `my_string + my_string`, or multiplying it by a number, e.g., `my_string * 3`. Notice that the strings are joined together without any spaces. How could you fix this?"
   ]
  },
  {
   "cell_type": "code",
   "execution_count": 32,
   "id": "d8300bf4",
   "metadata": {},
   "outputs": [
    {
     "name": "stdout",
     "output_type": "stream",
     "text": [
      "I put something interesting!\n",
      "\n",
      "I put something interesting!\n",
      "\n",
      "I put something interesting!\n",
      "\n"
     ]
    },
    {
     "data": {
      "text/plain": [
       "'I put something interesting!'"
      ]
     },
     "execution_count": 32,
     "metadata": {},
     "output_type": "execute_result"
    }
   ],
   "source": [
    "# 9.1\n",
    "my_string = \"I put something interesting!\"\n",
    "# print statement\n",
    "print(my_string)\n",
    "# using .format attribute\n",
    "print(\"\\n{}\\n\".format(my_string))\n",
    "# using f-string\n",
    "print(f\"{my_string}\\n\")\n",
    "# as output\n",
    "my_string"
   ]
  },
  {
   "cell_type": "code",
   "execution_count": 34,
   "id": "6b9e561d",
   "metadata": {},
   "outputs": [
    {
     "name": "stdout",
     "output_type": "stream",
     "text": [
      "I put something interesting!I put something interesting! \n",
      "\n",
      "I put something interesting!I put something interesting!I put something interesting! \n",
      "\n",
      "I put something interesting! I put something interesting! \n",
      "\n",
      "I put something interesting! I put something interesting! \n"
     ]
    }
   ],
   "source": [
    "# adding the string to itself\n",
    "print(my_string + my_string, \"\\n\")\n",
    "# multiplying the string\n",
    "print(my_string * 3, \"\\n\")\n",
    "\n",
    "# adding spaces between strings\n",
    "print(my_string + \" \" + my_string,\"\\n\")\n",
    "print((my_string + \" \") * 2)"
   ]
  },
  {
   "cell_type": "markdown",
   "id": "4eed3c83",
   "metadata": {},
   "source": [
    "__10.__ Define a variable `my_sent` to be a list of words, using the syntax `my_sent = [\"My\", \"sent\"]` (but with your own words, or a favorite saying).\n",
    "\n",
    "1. Use `' '.join(my_sent)` to convert this into a string.\n",
    "2. Use `split()` to split the string back into the list form you had to start with."
   ]
  },
  {
   "cell_type": "code",
   "execution_count": 36,
   "id": "5ac00cfd",
   "metadata": {},
   "outputs": [
    {
     "name": "stdout",
     "output_type": "stream",
     "text": [
      "My list of words \n",
      "\n",
      "['My', 'list', 'of', 'words']\n"
     ]
    }
   ],
   "source": [
    "# define the variable to be a list of words\n",
    "my_sent = [\"My\", \"list\", \"of\", \"words\"]\n",
    "\n",
    "# convert list to string\n",
    "my_string = \" \".join(my_sent)\n",
    "print(my_string, \"\\n\")\n",
    "\n",
    "# convert string to list\n",
    "my_list = my_string.split()\n",
    "print(my_list)"
   ]
  },
  {
   "cell_type": "markdown",
   "id": "307ba7b5",
   "metadata": {},
   "source": [
    "__11.__ Define several variables containing lists of words, e.g., phrase1, phrase2, and so on. Join them together in various combinations (using the plus operator) to form whole sentences. What is the relationship between `len(phrase1 + phrase2)` and `len(phrase1) + len(phrase2)`?"
   ]
  },
  {
   "cell_type": "code",
   "execution_count": 39,
   "id": "353e2380",
   "metadata": {},
   "outputs": [
    {
     "name": "stdout",
     "output_type": "stream",
     "text": [
      "['This', 'is', 'the', 'first', 'phrase', '!', 'I', 'am', 'a', 'parrot', '.'] \n",
      "\n",
      "['This', 'is', 'the', 'first', 'phrase', '!', 'I', 'am', 'a', 'parrot', '.', 1, 2, 3, 4, 5, 6] \n",
      "\n",
      "11 \n",
      "\n",
      "11\n"
     ]
    }
   ],
   "source": [
    "# define variables with lists of words\n",
    "phrase1 = [\"This\", \"is\", \"the\", \"first\", \"phrase\", \"!\"]\n",
    "phrase2 = [\"I\", \"am\", \"a\", \"parrot\", \".\"]\n",
    "phrase3 = [1, 2, 3, 4, 5, 6]\n",
    "\n",
    "# concatenation\n",
    "print(phrase1 + phrase2, \"\\n\")\n",
    "print(phrase1 + phrase2 + phrase3, \"\\n\")\n",
    "\n",
    " # concatenate and then calculate the total length\n",
    "print(len(phrase1 + phrase2), \"\\n\")\n",
    "# calcualte the length of eaech list and add their lengths\n",
    "print(len(phrase1) + len(phrase2)) "
   ]
  },
  {
   "cell_type": "markdown",
   "id": "98cbbc52",
   "metadata": {},
   "source": [
    "__12.__ Consider the following two expressions, which have the same value. Which one will typically be more relevant in NLP? Why?\n",
    "\n",
    "`\"Monty Python\"[6:12]` and `[\"Monty\", \"Python\"][1]`"
   ]
  },
  {
   "cell_type": "code",
   "execution_count": 53,
   "id": "d6f78682",
   "metadata": {},
   "outputs": [
    {
     "name": "stdout",
     "output_type": "stream",
     "text": [
      "Python\n",
      "Python\n"
     ]
    }
   ],
   "source": [
    "print(\"Monty Python\"[6:12])\n",
    "print([\"Monty\", \"Python\"][1])"
   ]
  },
  {
   "cell_type": "markdown",
   "id": "7dec2154",
   "metadata": {},
   "source": [
    "I think the **second one is more relevant to NLP** as we are usually dealing with tokenized text, i.e lists of invidual words and perform several operations such as **slicing** in lists instead of strings."
   ]
  },
  {
   "cell_type": "markdown",
   "id": "87f87e7c",
   "metadata": {},
   "source": [
    "__13.__ We have seen how to represent a sentence as a list of words, where each word is a sequence of characters. What does `sent1[2][2]` do? Why? Experiment with other index values."
   ]
  },
  {
   "cell_type": "markdown",
   "id": "f88fe700",
   "metadata": {},
   "source": [
    "`sent1[2][2]` is expected to obtain the letter at index 2 of the word at index 2."
   ]
  },
  {
   "cell_type": "code",
   "execution_count": 47,
   "id": "c50ad34b",
   "metadata": {},
   "outputs": [
    {
     "name": "stdout",
     "output_type": "stream",
     "text": [
      "sent1: ['Call', 'me', 'Ishmael', '.']\n",
      "\n",
      "sent1[2]: Ishmael\n",
      "\n",
      "sent1[2][2]: h\n"
     ]
    }
   ],
   "source": [
    "print(f\"sent1: {sent1}\\n\")\n",
    "print(f\"sent1[2]: {sent1[2]}\\n\")\n",
    "print(f\"sent1[2][2]: {sent1[2][2]}\")"
   ]
  },
  {
   "cell_type": "markdown",
   "id": "db25acc9",
   "metadata": {},
   "source": [
    "__14.__ The first sentence of `text3` is provided to you in the variable `sent3`. The index of `the` in `sent3` is 1, because `sent3[1]` gives us 'the'. \n",
    "\n",
    "What are the indexes of the two other occurrences of this word in `sent3`?"
   ]
  },
  {
   "cell_type": "code",
   "execution_count": 48,
   "id": "d04587fb",
   "metadata": {},
   "outputs": [
    {
     "name": "stdout",
     "output_type": "stream",
     "text": [
      "1\n",
      "3\n",
      "2\n",
      "the\n",
      "the\n"
     ]
    }
   ],
   "source": [
    "# find 1st index of \"the\"\n",
    "print(text3.index(\"the\"))\n",
    "# find 2nd index, starting from 2\n",
    "print(text3[2:].index(\"the\"))\n",
    "# find 3rd index, starting from 6\n",
    "print(text3[6:].index(\"the\"))\n",
    "\n",
    "# second index = 2+3\n",
    "print(text3[5])\n",
    "# third index = 6+2\n",
    "print(text3[8])"
   ]
  },
  {
   "cell_type": "markdown",
   "id": "f4e2582d",
   "metadata": {},
   "source": [
    "__15.__ Review the discussion of conditionals in [4](https://www.nltk.org/book/ch01.html#sec-making-decisions). Find all words in the Chat Corpus (text5) starting with the letter `b`. Show them in alphabetical order."
   ]
  },
  {
   "cell_type": "code",
   "execution_count": 94,
   "id": "fbb6fe55",
   "metadata": {},
   "outputs": [
    {
     "name": "stdout",
     "output_type": "stream",
     "text": [
      "['b', 'b-day', 'b/c', 'b4', 'babay', 'babble', 'babblein', 'babe', 'babes', 'babi', 'babies', 'babiess', 'baby', 'babycakeses', 'bachelorette', 'back', 'backatchya', 'backfrontsidewaysandallaroundtheworld', 'backroom', 'backup', 'bacl', 'bad', 'bag', 'bagel', 'bagels', 'bahahahaa', 'bak', 'baked', 'balad', 'balance', 'balck', 'ball', 'ballin', 'balls', 'ban', 'band', 'bandito', 'bandsaw', 'banjoes', 'banned', 'baord', 'bar', 'barbie', 'bare', 'barely', 'bares', 'barfights', 'barks', 'barn', 'barrel', 'base', 'bases', 'basically', 'basket', 'battery', 'bay', 'bbbbbyyyyyyyeeeeeeeee', 'bbiam', 'bbl', 'bbs', 'bc', 'be', 'beach', 'beachhhh', 'beam', 'beams', 'beanbag', 'beans', 'bear', 'bears', 'beat', 'beaten', 'beatles', 'beats', 'beattles', 'beautiful', 'because', 'beckley', 'become', 'bed', 'bedford', 'bedroom', 'beeeeehave', 'beeehave', 'been', 'beer', 'before', 'beg', 'begin', 'behave', 'behind', 'bein', 'being', 'beleive', 'believe', 'belive', 'bell', 'belly', 'belong', 'belongings', 'ben', 'bend', 'benz', 'bes', 'beside', 'besides', 'best', 'bet', 'betrayal', 'betta', 'better', 'between', 'beuty', 'bf', 'bi', 'biatch', 'bible', 'biebsa', 'bied', 'big', 'bigest', 'biggest', 'biiiatch', 'bike', 'bikes', 'bikini', 'bio', 'bird', 'birfday', 'birthday', 'bisexual', 'bishes', 'bit', 'bitch', 'bitches', 'bitdh', 'bite', 'bites', 'biyatch', 'biz', 'bj', 'black', 'blade', 'blah', 'blank', 'blankie', 'blazed', 'bleach', 'blech', 'bless', 'blessings', 'blew', 'blind', 'blinks', 'bliss', 'blocking', 'bloe', 'blood', 'blooded', 'bloody', 'blow', 'blowing', 'blowjob', 'blowup', 'blue', 'blueberry', 'bluer', 'blues', 'blunt', 'board', 'bob', 'bodies', 'body', 'boed', 'boght', 'boi', 'boing', 'boinked', 'bois', 'bomb', 'bone', 'boned', 'bones', 'bong', 'boning', 'bonus', 'boo', 'booboo', 'boobs', 'book', 'boom', 'boooooooooooglyyyyyy', 'boost', 'boot', 'bootay', 'booted', 'boots', 'booty', 'border', 'borderline', 'bored', 'boredom', 'boring', 'born', 'born-again', 'bosom', 'boss', 'bossy', 'bot', 'both', 'bother', 'bothering', 'bottle', 'bought', 'bounced', 'bouncer', 'bouncers', 'bound', 'bout', 'bouts', 'bow', 'bowl', 'box', 'boy', 'boyfriend', 'boys', 'bra', 'brad', 'brady', 'brain', 'brakes', 'brass', 'brat', 'brb', 'brbbb', 'bread', 'break', 'breaks', 'breath', 'breathe', 'bred', 'breeding', 'bright', 'brightened', 'bring', 'brings', 'bro', 'broke', 'brooklyn', 'brother', 'brothers', 'brought', 'brown', 'brrrrrrr', 'bruises', 'brunswick', 'brwn', 'btw', 'bucks', 'buddyyyyyy', 'buff', 'buffalo', 'bug', 'bugs', 'buh', 'build', 'builds', 'built', 'bull', 'bulls', 'bum', 'bumber', 'bummer', 'bumped', 'bumper', 'bunch', 'bunny', 'burger', 'burito', 'burned', 'burns', 'burp', 'burpin', 'burps', 'burried', 'burryed', 'bus', 'buses', 'bust', 'busted', 'busy', 'but', 'butt', 'butter', 'butterscotch', 'button', 'buttons', 'buy', 'buying', 'bwahahahahahahahahahaha', 'by', 'byb', 'bye', 'byeee', 'byeeee', 'byeeeeeeee', 'byeeeeeeeeeeeee', 'byes']\n"
     ]
    }
   ],
   "source": [
    "print(sorted(set(w for w in text5 if w.startswith(\"b\"))))"
   ]
  },
  {
   "cell_type": "markdown",
   "id": "7986773f",
   "metadata": {},
   "source": [
    "__16.__ Type the expression `list(range(10))` at the interpreter prompt. Now try `list(range(10, 20))`, `list(range(10, 20, 2))`, and `list(range(20, 10, -2))`. \n",
    "\n",
    "We will see a variety of uses for this built-in function in later chapters."
   ]
  },
  {
   "cell_type": "code",
   "execution_count": 99,
   "id": "db6bce84",
   "metadata": {},
   "outputs": [
    {
     "name": "stdout",
     "output_type": "stream",
     "text": [
      "[0, 1, 2, 3, 4, 5, 6, 7, 8, 9]\n",
      "[10, 12, 14, 16, 18]\n",
      "[20, 18, 16, 14, 12]\n"
     ]
    }
   ],
   "source": [
    "# generate a list from 0 to 10\n",
    "print(list(range(10)))\n",
    "# generate a list from 10 to 20 with step 2\n",
    "print(list(range(10, 20, 2)))\n",
    "# genera a list from 20 to 10 with step -2\n",
    "print(list(range(20, 10, -2)))"
   ]
  },
  {
   "cell_type": "markdown",
   "id": "3b2cacd6",
   "metadata": {},
   "source": [
    "__17.__ Use `text9.index()` to __find the index__ of the word 'sunset'. You'll need to insert this word as an argument between the parentheses. By a process of trial and error, __find the slice for the complete sentence__ that contains this word."
   ]
  },
  {
   "cell_type": "code",
   "execution_count": 52,
   "id": "db8b71c6",
   "metadata": {},
   "outputs": [
    {
     "name": "stdout",
     "output_type": "stream",
     "text": [
      "The index of the word \"sunset\" is 629.\n",
      "\n",
      "['Park', 'lay', 'on', 'the', 'sunset', 'side', 'of', 'London'] \n",
      "\n",
      "['of', 'Saffron', 'Park', 'lay', 'on', 'the', 'sunset', 'side', 'of', 'London', ','] \n",
      "\n",
      "['THE', 'suburb', 'of', 'Saffron', 'Park', 'lay', 'on', 'the', 'sunset', 'side', 'of', 'London', ',', 'as', 'red', 'and', 'ragged', 'as', 'a', 'cloud', 'of', 'sunset', '.']\n"
     ]
    }
   ],
   "source": [
    "the_word = \"sunset\"\n",
    "print(f'The index of the word \\\"{the_word}\\\" is {text9.index(\"sunset\")}.\\n')\n",
    "\n",
    "print(text9[625:633], \"\\n\")\n",
    "print(text9[623:634], \"\\n\")\n",
    "print(text9[621:644])"
   ]
  },
  {
   "cell_type": "markdown",
   "id": "9d9f47e9",
   "metadata": {},
   "source": [
    "__18.__ Using __list addition__, and the set and sorted operations, compute the vocabulary of the sentences sent1...sent8."
   ]
  },
  {
   "cell_type": "code",
   "execution_count": 54,
   "id": "3a11e0db",
   "metadata": {},
   "outputs": [
    {
     "name": "stdout",
     "output_type": "stream",
     "text": [
      "75\n"
     ]
    }
   ],
   "source": [
    "print(len(sorted(set(sent1 + sent2 + sent3 + sent4 + sent5 + sent6 + sent7 + sent8))))"
   ]
  },
  {
   "cell_type": "markdown",
   "id": "1971ff91",
   "metadata": {},
   "source": [
    "__19.__ What is the difference between the following two lines? Which one will give a larger value? Will this be the case for other texts?\n",
    "\n",
    "`sorted(set(w.lower() for w in text1))` and `sorted(w.lower() for w in set(text1))`"
   ]
  },
  {
   "cell_type": "markdown",
   "id": "4aa40a42",
   "metadata": {},
   "source": [
    "The expression `sorted(set(w.lower() for w in text1))` is expected to:\n",
    "1. Lower-case all word tokens.\n",
    "2. Remove the duplicate tokens.\n",
    "3. Return the results sorted.\n",
    "\n",
    "The expression `sorted(w.lower() for w in set(text1))` is expected to:\n",
    "1. Remove the duplicate tokens.\n",
    "2. Lower-case all word tokens.\n",
    "3. Return the results sorted.\n",
    "\n",
    "**The $2^{nd}$ expression is expected to give a larger value**, as it first removes duplicates, and then lower-case the word letters. For example, the word tokens \"The\" and \"the\" will both count as unique tokens. \n",
    "\n",
    "The $1^{st}$ expression first lower-case word letters, thus, converting \"The\" to \"the\", and then removes duplicates."
   ]
  },
  {
   "cell_type": "code",
   "execution_count": 55,
   "id": "013b3179",
   "metadata": {},
   "outputs": [
    {
     "name": "stdout",
     "output_type": "stream",
     "text": [
      "17231\n",
      "19317\n"
     ]
    }
   ],
   "source": [
    "print(len(sorted(set(w.lower() for w in text1))))\n",
    "\n",
    "print(len(sorted(w.lower() for w in set(text1))))"
   ]
  },
  {
   "cell_type": "markdown",
   "id": "b021bdf2",
   "metadata": {},
   "source": [
    "__20.__ What is the difference between the following two tests: `w.isupper()` and `not w.islower()`?"
   ]
  },
  {
   "cell_type": "markdown",
   "id": "f602e858",
   "metadata": {},
   "source": [
    "The expression `w.isupper()` will return the `w` if all letters are __upper-case__.\n",
    "\n",
    "The expression `not w.islower()` will return the `w` that they do not have all they letters lower-cased, e.g. __upper-case, and title-case words__."
   ]
  },
  {
   "cell_type": "code",
   "execution_count": 56,
   "id": "8066e121",
   "metadata": {},
   "outputs": [
    {
     "name": "stdout",
     "output_type": "stream",
     "text": [
      "['ETYMOLOGY', 'I', 'H', 'HACKLUYT', 'WHALE', 'HVAL', 'HVALT', 'WEBSTER', 'S', 'DICTIONARY']\n",
      "['[', 'Moby', 'Dick', 'Herman', 'Melville', '1851', ']', 'ETYMOLOGY', '.', '(']\n"
     ]
    }
   ],
   "source": [
    "upper_list = [w for w in text1 if w.isupper()]\n",
    "print(upper_list[:10])\n",
    "\n",
    "not_lower_list = [w for w in text1 if not w.islower()]\n",
    "print(not_lower_list[:10])"
   ]
  },
  {
   "cell_type": "markdown",
   "id": "ea809680",
   "metadata": {},
   "source": [
    "__21.__ Write the slice expression that extracts the last two words of `text2`."
   ]
  },
  {
   "cell_type": "code",
   "execution_count": 57,
   "id": "910892d7",
   "metadata": {},
   "outputs": [
    {
     "data": {
      "text/plain": [
       "['THE', 'END']"
      ]
     },
     "execution_count": 57,
     "metadata": {},
     "output_type": "execute_result"
    }
   ],
   "source": [
    "text2[-2:]"
   ]
  },
  {
   "cell_type": "markdown",
   "id": "db82b826",
   "metadata": {},
   "source": [
    "__22.__ Find all the __four-letter words__ in the Chat Corpus (text5). \n",
    "\n",
    "With the help of a frequency distribution (FreqDist), show these words in __decreasing order of frequency__."
   ]
  },
  {
   "cell_type": "code",
   "execution_count": 76,
   "id": "dc2abdac",
   "metadata": {},
   "outputs": [
    {
     "name": "stdout",
     "output_type": "stream",
     "text": [
      "[('that', 1769), ('have', 1029), ('will', 935), ('with', 918), ('this', 755), ('from', 545), ('been', 496), ('must', 373), ('upon', 365), ('they', 358)]\n"
     ]
    },
    {
     "data": {
      "image/png": "[encoded data removed]",
      "text/plain": [
       "<Figure size 432x288 with 1 Axes>"
      ]
     },
     "metadata": {
      "needs_background": "light"
     },
     "output_type": "display_data"
    }
   ],
   "source": [
    "# extract 4-letter words\n",
    "four_letter_words = [w for w in text4 if len(w) == 4 and w.isalpha()]\n",
    "# create a FreqDist\n",
    "fdist = nltk.FreqDist(four_letter_words)\n",
    "# most common words\n",
    "print(fdist.most_common(10))\n",
    "# generate plot\n",
    "fdist.plot(10);"
   ]
  },
  {
   "cell_type": "markdown",
   "id": "d95fac1b",
   "metadata": {},
   "source": [
    "__23.__ Review the discussion of looping with conditions in [4](https://www.nltk.org/book/ch01.html#sec-making-decisions). \n",
    "\n",
    "Use a combination of `for` and `if` statements to loop over the words of the movie script for Monty Python and the Holy Grail (text6) and print all the uppercase words, one per line."
   ]
  },
  {
   "cell_type": "code",
   "execution_count": 79,
   "id": "c885172a",
   "metadata": {},
   "outputs": [
    {
     "name": "stdout",
     "output_type": "stream",
     "text": [
      "LUCKY, MASTER, SHRUBBER, PRINCE, PATSY, ANIMATOR, ALL, W, LOVELY, BLACK, "
     ]
    }
   ],
   "source": [
    "upper_text6 = [w for w in set(text6) if w.isalpha() and w.isupper()]\n",
    "# print just the first 10 words\n",
    "for w in upper_text6[:10]:\n",
    "    print(w, end=\", \")"
   ]
  },
  {
   "cell_type": "markdown",
   "id": "178ad8ac",
   "metadata": {},
   "source": [
    "__24.__ Write expressions for finding all words in text6 that meet the conditions listed below. \n",
    "\n",
    "The result should be in the form of a list of words: `['word1', 'word2', ...]`.\n",
    "\n",
    "1. Ending in 'ise'\n",
    "2. Containing the letter 'z'\n",
    "3. Containing the sequence of letters 'pt'\n",
    "4. Having all lowercase letters except for an initial capital (i.e., titlecase)"
   ]
  },
  {
   "cell_type": "code",
   "execution_count": 109,
   "id": "f8cda52d",
   "metadata": {},
   "outputs": [
    {
     "name": "stdout",
     "output_type": "stream",
     "text": [
      "['wise', 'wise', 'apologise', 'surprise', 'surprise', 'surprise', 'noise', 'surprise']\n",
      "['zone', 'amazes', 'Fetchez', 'Fetchez', 'zoop', 'zoo', 'zhiv', 'frozen', 'zoosh']\n",
      "['empty', 'aptly', 'Thpppppt', 'Thppt', 'Thppt', 'empty', 'Thppppt', 'temptress', 'temptation', 'ptoo']\n",
      "['Whoa', 'Halt', 'Who', 'It', 'I', 'Arthur', 'Uther', 'Pendragon', 'Camelot', 'King']\n"
     ]
    }
   ],
   "source": [
    "ise_text6 = [w for w in text6 if w.endswith(\"ise\")]\n",
    "print(ise_text6[:10])\n",
    "z_text6 = [w for w in text6 if \"z\" in w]\n",
    "print(z_text6[:10])\n",
    "pt_text6 = [w for w in text6 if \"pt\" in w]\n",
    "print(pt_text6[:10])\n",
    "title_text6 = [w for w in text6 if w.istitle()]\n",
    "print(title_text6[:10])"
   ]
  },
  {
   "cell_type": "markdown",
   "id": "26061a17",
   "metadata": {},
   "source": [
    "__25.__  Define `sent` to be the list of words `['she', 'sells', 'sea', 'shells', 'by', 'the', 'sea', 'shore']`. Now write code to perform the following tasks:\n",
    "\n",
    "1. Print all words beginning with 'sh' <br>\n",
    "2. Print all words longer than four characters"
   ]
  },
  {
   "cell_type": "code",
   "execution_count": 110,
   "id": "44726bc1",
   "metadata": {},
   "outputs": [
    {
     "name": "stdout",
     "output_type": "stream",
     "text": [
      "['she', 'shells', 'shore']\n",
      "['sells', 'shells', 'shore']\n"
     ]
    }
   ],
   "source": [
    "# define list\n",
    "sent = ['she', 'sells', 'sea', 'shells', 'by', 'the', 'sea', 'shore']\n",
    "\n",
    "# words beginning with 'sh'\n",
    "sh_words = [w for w in sent if w.startswith(\"sh\")]\n",
    "print(sh_words)\n",
    "\n",
    "# words longer than 4 characters\n",
    "long_words = [w for w in sent if len(w) > 4]\n",
    "print(long_words)"
   ]
  },
  {
   "cell_type": "markdown",
   "id": "d4760974",
   "metadata": {},
   "source": [
    "__26.__ What does the following Python code do? `sum(len(w) for w in text1)` Can you use it to work out the average word length of a text?"
   ]
  },
  {
   "cell_type": "markdown",
   "id": "23abd71e",
   "metadata": {},
   "source": [
    "`sum(len(w) for w in text1)` returns the sum of the lengths of all the tokens in text1.\n",
    "\n",
    "You can use it to find the average word length if you remove the number and punctuation."
   ]
  },
  {
   "cell_type": "code",
   "execution_count": 112,
   "id": "be262ccc",
   "metadata": {},
   "outputs": [
    {
     "name": "stdout",
     "output_type": "stream",
     "text": [
      "The sum of all the tokens lengths of text1 is 999044 characters.\n",
      "\n",
      "The sum of all the word lengths of text1 is 951935 characters.\n",
      "\n",
      "text1 has a total of 218361 word tokens.\n",
      "\n",
      "The mean word length of text is 0.22938646020999334 characters.\n"
     ]
    }
   ],
   "source": [
    "token_length = sum(len(w) for w in text1)\n",
    "print(f\"The sum of all the tokens lengths of text1 is {token_length} characters.\\n\")\n",
    "\n",
    "# keep only alphabetical chars\n",
    "char_length = sum(len(w) for w in text1 if w.isalpha())\n",
    "print(f\"The sum of all the word lengths of text1 is {char_length} characters.\\n\")\n",
    "\n",
    "# find the average word length\n",
    "total_words = len([w for w in text1 if w.isalpha()])\n",
    "print(f\"text1 has a total of {total_words} word tokens.\\n\")\n",
    "\n",
    "# find the mean word length\n",
    "mean_word_len = total_words / char_length\n",
    "print(f\"The mean word length of text is {mean_word_len} characters.\")"
   ]
  },
  {
   "cell_type": "markdown",
   "id": "5d3ddaa5",
   "metadata": {},
   "source": [
    "__27.__ Define a function called `vocab_size(text)` that has a single parameter for the text, and which returns the vocabulary size of the text."
   ]
  },
  {
   "cell_type": "code",
   "execution_count": 113,
   "id": "930a224c",
   "metadata": {},
   "outputs": [
    {
     "name": "stdout",
     "output_type": "stream",
     "text": [
      "The vocabulary size of text1 is 19317 tokens.\n",
      "\n",
      "The vocabulary size of text2 is 6833 tokens.\n"
     ]
    }
   ],
   "source": [
    "def vocab_size(text):\n",
    "    return len(set(text))\n",
    "\n",
    "print(f\"The vocabulary size of text1 is {vocab_size(text1)} tokens.\\n\")\n",
    "print(f\"The vocabulary size of text2 is {vocab_size(text2)} tokens.\")"
   ]
  },
  {
   "cell_type": "markdown",
   "id": "b9eb6987",
   "metadata": {},
   "source": [
    "__28.__ Define a function `percent(word, text)` that calculates how often a given word occurs in a text, and expresses the result as a percentage."
   ]
  },
  {
   "cell_type": "code",
   "execution_count": 114,
   "id": "212d2833",
   "metadata": {},
   "outputs": [
    {
     "name": "stdout",
     "output_type": "stream",
     "text": [
      "The word \"the\" consists 5.3% of text1.\n",
      "\n",
      "The word \"the\" consists 2.7% of text2.\n",
      "\n"
     ]
    }
   ],
   "source": [
    "def percent(word, text):\n",
    "    return text.count(word) / len(text)*100\n",
    "\n",
    "print(\"The word \\\"{}\\\" consists {:.1f}% of {}.\\n\".format(\"the\", percent(\"the\", text1), \"text1\"))\n",
    "print(\"The word \\\"{}\\\" consists {:.1f}% of {}.\\n\".format(\"the\", percent(\"the\", text2), \"text2\"))"
   ]
  },
  {
   "cell_type": "markdown",
   "id": "e1eabb13",
   "metadata": {},
   "source": [
    "__29.__ We have been using sets to store vocabularies. Try the following Python expression: `set(sent3) < set(text1)`. Experiment with this using different arguments to `set()`. \n",
    "\n",
    "What does it do? Can you think of a practical application for this?"
   ]
  },
  {
   "cell_type": "code",
   "execution_count": 181,
   "id": "04284213",
   "metadata": {
    "scrolled": true
   },
   "outputs": [
    {
     "name": "stdout",
     "output_type": "stream",
     "text": [
      "True\n",
      "False\n"
     ]
    }
   ],
   "source": [
    "print(set(sent3) < set(text1))\n",
    "print(set(text1) > set(text2))"
   ]
  },
  {
   "cell_type": "markdown",
   "id": "d5605dad",
   "metadata": {},
   "source": [
    "It compares the vocabulary of one text or sentence to the other. \n",
    "\n",
    "It could be used to **compare the vocabulary** between two different texts or genres, etc., as a measure of **lexical richness.**"
   ]
  }
 ],
 "metadata": {
  "kernelspec": {
   "display_name": "Python 3 (ipykernel)",
   "language": "python",
   "name": "python3"
  },
  "language_info": {
   "codemirror_mode": {
    "name": "ipython",
    "version": 3
   },
   "file_extension": ".py",
   "mimetype": "text/x-python",
   "name": "python",
   "nbconvert_exporter": "python",
   "pygments_lexer": "ipython3",
   "version": "3.9.7"
  }
 },
 "nbformat": 4,
 "nbformat_minor": 5
}
