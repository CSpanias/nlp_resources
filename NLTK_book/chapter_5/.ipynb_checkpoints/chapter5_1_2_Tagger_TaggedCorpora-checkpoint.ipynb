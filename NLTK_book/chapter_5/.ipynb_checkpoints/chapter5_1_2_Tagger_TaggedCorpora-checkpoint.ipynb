{
 "cells": [
  {
   "cell_type": "markdown",
   "id": "3f2dec07",
   "metadata": {},
   "source": [
    "# **Natural Language Processing with Python**\n",
    "by [CSpanias](https://cspanias.github.io/aboutme/) - 02/2022\n",
    "\n",
    "Content based on the [NLTK book](https://www.nltk.org/book/). <br>\n",
    "\n",
    "You can find Chapter 5 [here](https://www.nltk.org/book/ch05.html).\n",
    "\n",
    "# CONTENT\n",
    "\n",
    "1. Language Processing and Python\n",
    "2. Accessing Text Corpora and Lexical Resources\n",
    "3. Processing Raw Text\n",
    "4. Writing Structured Programs\n",
    "5. [Categorizing and Tagging Words](#cattag)\n",
    "    1. [Using a Tagger](#tagger)\n",
    "    1. [Tagged Corpora](#taggedcorpora)\n",
    "        1. [Representing Tagged Tokens](#representingtaggedtokens)\n",
    "        1. [Reading Tagged Corpora](#readingtaggedcorpora)\n",
    "        1. [A Universal Part-of-Speech Tagset](#unitagset)\n",
    "        1. [Nouns](#nouns)\n",
    "        1. [Verbs](#verbs)\n",
    "        1. [Adjectives and Adverbs](#adjadv)\n",
    "        1. [Unsimplified Tags](#unsimplified)\n",
    "        1. [Exploring Tagged Corpora](#exploringtaggedcorpora)\n",
    "    1. [Mapping Words to Properties Using Python Dictionaries](#mappwithdicts)\n",
    "    "
   ]
  },
  {
   "cell_type": "markdown",
   "id": "7db95825",
   "metadata": {},
   "source": [
    "<a name=\"cattag\"></a>\n",
    "# 5. Categorizing and Tagging Words"
   ]
  },
  {
   "cell_type": "markdown",
   "id": "6c8468d2",
   "metadata": {},
   "source": [
    "**\"Word classes\"** (nouns, verbs, adjectives, and adverbs) are useful categories for many language processing tasks. They **arise from simple analysis of the distribution of words** in text. \n",
    "\n",
    "The goal of this chapter is to answer the following questions:\n",
    "\n",
    "1. What are lexical categories and how are they used in natural language processing?\n",
    "\n",
    "2. What is a good Python data structure for storing words and their categories?\n",
    "\n",
    "3. How can we automatically tag each word of a text with its word class?\n",
    "\n",
    "\n",
    "Along the way, we'll cover some fundamental techniques in NLP, including **sequence labeling**, **n-gram models**, **backoff**, and __evaluation__. \n",
    "\n",
    "\n",
    "These techniques are useful in many areas, and tagging gives us a simple context in which to present them. We will also see how **tagging is the second step in the typical NLP pipeline, following tokenization**.\n",
    "\n",
    "The process of __classifying words into their parts of speech and labeling them accordingly__ is known as **part-of-speech tagging**. \n",
    "\n",
    "POS are also known as __word classes__ or __lexical categories__. The collection of tags used for a particular task is known as a __tagset__. \n",
    "\n",
    "Our emphasis in this chapter is on __exploiting tags__, and __tagging text automatically__."
   ]
  },
  {
   "cell_type": "markdown",
   "id": "40149b78",
   "metadata": {},
   "source": [
    "<a name=\"tagger\"></a>\n",
    "# 5.1 Using a Tagger"
   ]
  },
  {
   "cell_type": "markdown",
   "id": "202282ad",
   "metadata": {},
   "source": [
    "A **POS-tagger** processes a sequence of words, and attaches a POS-tag to each word."
   ]
  },
  {
   "cell_type": "code",
   "execution_count": 3,
   "id": "28893b6f",
   "metadata": {},
   "outputs": [
    {
     "data": {
      "text/plain": [
       "[('And', 'CC'),\n",
       " ('now', 'RB'),\n",
       " ('for', 'IN'),\n",
       " ('something', 'NN'),\n",
       " ('completely', 'RB'),\n",
       " ('different', 'JJ')]"
      ]
     },
     "execution_count": 3,
     "metadata": {},
     "output_type": "execute_result"
    }
   ],
   "source": [
    "from nltk.tokenize import word_tokenize\n",
    "from nltk import pos_tag\n",
    "\n",
    "text = word_tokenize('And now for something completely different')\n",
    "pos_tag(text)"
   ]
  },
  {
   "cell_type": "markdown",
   "id": "09de29ab",
   "metadata": {},
   "source": [
    "Here we see that `and` is `CC` (coordinating conjunction), `now` and `completely` are `RB` (adverbs), `for` is `IN` (preposition), `something` is `NN` (noun), and `different` is `JJ` (adjective).\n",
    "\n",
    "NLTK provides **documentation for each tag**."
   ]
  },
  {
   "cell_type": "code",
   "execution_count": 5,
   "id": "e5c7cb29",
   "metadata": {
    "scrolled": true
   },
   "outputs": [
    {
     "name": "stdout",
     "output_type": "stream",
     "text": [
      "RB: adverb\n",
      "    occasionally unabatingly maddeningly adventurously professedly\n",
      "    stirringly prominently technologically magisterially predominately\n",
      "    swiftly fiscally pitilessly ...\n"
     ]
    }
   ],
   "source": [
    "import nltk\n",
    "\n",
    "# using tag\n",
    "nltk.help.upenn_tagset('RB')"
   ]
  },
  {
   "cell_type": "code",
   "execution_count": 10,
   "id": "20df9a31",
   "metadata": {},
   "outputs": [
    {
     "name": "stdout",
     "output_type": "stream",
     "text": [
      "NN: noun, common, singular or mass\n",
      "    common-carrier cabbage knuckle-duster Casino afghan shed thermostat\n",
      "    investment slide humour falloff slick wind hyena override subhumanity\n",
      "    machinist ...\n",
      "NNP: noun, proper, singular\n",
      "    Motown Venneboerger Czestochwa Ranzer Conchita Trumplane Christos\n",
      "    Oceanside Escobar Kreisler Sawyer Cougar Yvette Ervin ODI Darryl CTCA\n",
      "    Shannon A.K.C. Meltex Liverpool ...\n",
      "NNPS: noun, proper, plural\n",
      "    Americans Americas Amharas Amityvilles Amusements Anarcho-Syndicalists\n",
      "    Andalusians Andes Andruses Angels Animals Anthony Antilles Antiques\n",
      "    Apache Apaches Apocrypha ...\n",
      "NNS: noun, common, plural\n",
      "    undergraduates scotches bric-a-brac products bodyguards facets coasts\n",
      "    divestitures storehouses designs clubs fragrances averages\n",
      "    subjectivists apprehensions muses factory-jobs ...\n"
     ]
    }
   ],
   "source": [
    "# using regex\n",
    "nltk.help.upenn_tagset('NN.*')"
   ]
  },
  {
   "cell_type": "code",
   "execution_count": 11,
   "id": "1b77a18d",
   "metadata": {},
   "outputs": [
    {
     "data": {
      "text/plain": [
       "[('They', 'PRP'),\n",
       " ('refuse', 'VBP'),\n",
       " ('to', 'TO'),\n",
       " ('permit', 'VB'),\n",
       " ('us', 'PRP'),\n",
       " ('to', 'TO'),\n",
       " ('obtain', 'VB'),\n",
       " ('the', 'DT'),\n",
       " ('refuse', 'NN'),\n",
       " ('permit', 'NN')]"
      ]
     },
     "execution_count": 11,
     "metadata": {},
     "output_type": "execute_result"
    }
   ],
   "source": [
    "# sent with homonyms\n",
    "text = word_tokenize('They refuse to permit us to obtain the refuse permit')\n",
    "nltk.pos_tag(text)"
   ]
  },
  {
   "cell_type": "markdown",
   "id": "a04c6d44",
   "metadata": {},
   "source": [
    "Notice that `refuse` and `permit` both appear as a `VBP`(present tense verb) and a `NN` (noun). \n",
    "\n",
    "E.g. `refUSE` is a verb meaning \"deny,\" while `REFuse` is a noun meaning \"trash\" (i.e. they are not homophones). \n",
    "\n",
    "Thus, **we need to know which word is being used in order to pronounce the text correctly**.\n",
    "\n",
    "For this reason, **text-to-speech systems** usually perform POS-tagging."
   ]
  },
  {
   "cell_type": "markdown",
   "id": "31e32691",
   "metadata": {},
   "source": [
    "__Lexical categories__ like \"noun\" and __POS-tags__ like NN seem to have their uses, but the details will be obscure to many readers. \n",
    "\n",
    "You might wonder what justification there is for introducing this extra level of information. Many of these categories arise from __superficial analysis the distribution of words__ in text. \n",
    "\n",
    "Consider the following analysis involving woman (a noun), bought (a verb), over (a preposition), and the (a determiner). \n",
    "\n",
    "The `text.similar()` method takes a word $w$, finds all contexts $w_1 w w_2$, then finds all words $ w^{'} $ that appear in the same context, i.e. $w_1 w^{'} \n",
    "w_2$."
   ]
  },
  {
   "cell_type": "code",
   "execution_count": 13,
   "id": "9e40866a",
   "metadata": {},
   "outputs": [
    {
     "name": "stdout",
     "output_type": "stream",
     "text": [
      "people men others the time children that one work man af house girls\n",
      "and two way state years water this\n"
     ]
    }
   ],
   "source": [
    "text = nltk.Text(word.lower() for word in nltk.corpus.brown.words())\n",
    "text.similar('women')"
   ]
  },
  {
   "cell_type": "markdown",
   "id": "1e06aa62",
   "metadata": {},
   "source": [
    "<a name=\"taggedcorpora\"></a>\n",
    "# 5.2 Tagged Corpora\n",
    "1. [Representing Tagged Tokens](#representingtaggedtokens)\n",
    "1. [Reading Tagged Corpora](#readingtaggedcorpora)\n",
    "1. [A Universal Part-of-Speech Tagset](#unitagset)\n",
    "1. [Nouns](#nouns)\n",
    "1. [Verbs](#verbs)\n",
    "1. [Adjectives and Adverbs](#adjadv)\n",
    "1. [Unsimplified Tags](#unsimplified)\n",
    "1. [Exploring Tagged Corpora](#exploringtaggedcorpora)"
   ]
  },
  {
   "cell_type": "markdown",
   "id": "80cada36",
   "metadata": {},
   "source": [
    "<a name=\"representingtaggedtokens\"></a>\n",
    "## 5.2.1 Representing Tagged Tokens"
   ]
  },
  {
   "cell_type": "markdown",
   "id": "e6897036",
   "metadata": {},
   "source": [
    "By convention in NLTK, a tagged token is represented using a **tuple consisting of the token and the tag**. \n",
    "\n",
    "We can create one of these special tuples from the standard string representation of a tagged token, using the function `str2tuple()`."
   ]
  },
  {
   "cell_type": "code",
   "execution_count": 16,
   "id": "b9c4f03b",
   "metadata": {},
   "outputs": [
    {
     "data": {
      "text/plain": [
       "('fly', 'NN')"
      ]
     },
     "execution_count": 16,
     "metadata": {},
     "output_type": "execute_result"
    }
   ],
   "source": [
    "tagged_token = nltk.tag.str2tuple('fly/NN')\n",
    "tagged_token"
   ]
  },
  {
   "cell_type": "markdown",
   "id": "51b9b7e8",
   "metadata": {},
   "source": [
    "We can construct a **list of tagged tokens directly from a string**. \n",
    "\n",
    "The first step is to **tokenize the string** to access the individual word/tag strings, and then to **convert each of these into a tuple**."
   ]
  },
  {
   "cell_type": "code",
   "execution_count": 18,
   "id": "15d1eb53",
   "metadata": {},
   "outputs": [
    {
     "data": {
      "text/plain": [
       "[('The', 'AT'),\n",
       " ('grand', 'JJ'),\n",
       " ('jury', 'NN'),\n",
       " ('commented', 'VBD'),\n",
       " ('on', 'IN')]"
      ]
     },
     "execution_count": 18,
     "metadata": {},
     "output_type": "execute_result"
    }
   ],
   "source": [
    "sent = \"\"\"\n",
    "The/AT grand/JJ jury/NN commented/VBD on/IN a/AT number/NN of/IN\n",
    "other/AP topics/NNS ,/, AMONG/IN them/PPO the/AT Atlanta/NP and/CC\n",
    "Fulton/NP-tl County/NN-tl purchasing/VBG departments/NNS which/WDT it/PPS\n",
    "said/VBD ``/`` ARE/BER well/QL operated/VBN and/CC follow/VB generally/RB\n",
    "accepted/VBN practices/NNS which/WDT inure/VB to/IN the/AT best/JJT\n",
    "interest/NN of/IN both/ABX governments/NNS ''/'' ./.\n",
    "\"\"\"\n",
    "\n",
    "[nltk.tag.str2tuple(t) for t in sent.split()][:5]"
   ]
  },
  {
   "cell_type": "markdown",
   "id": "8f2dc756",
   "metadata": {},
   "source": [
    "<a name=\"readingtaggedcorpora\"></a>\n",
    "## 5.2.2 Reading Tagged Corpora"
   ]
  },
  {
   "cell_type": "markdown",
   "id": "2659bdb3",
   "metadata": {},
   "source": [
    "Several of the corpora included with NLTK have been tagged for their POS.\n",
    "\n",
    "Here's an example of what you might see if you opened a file from the **Brown Corpus** with a text editor:\n",
    "\n",
    "> _\"The/at Fulton/np-tl County/nn-tl Grand/jj-tl Jury/nn-tl said/vbd Friday/nr an/at investigation/nn of/in Atlanta's/np$ recent/jj primary/nn\n",
    "election/nn produced/vbd / no/at evidence/nn ''/'' that/cs any/dti irregularities/nns took/vbd place/nn ./._\n",
    "\n",
    "Other corpora use a variety of formats for storing POS-tags. \n",
    "\n",
    "NLTK's corpus readers provide a **uniform interface** so that you don't have to be concerned with the different file formats. \n",
    "\n",
    "Whenever a corpus contains tagged text, the NLTK corpus interface will have a `tagged_words()` method.\n",
    "\n",
    "__Not all corpora employ the same set of tags__; see the `tagset help` functionality and the `readme()` methods mentioned above for documentation.\n",
    "\n",
    "Initially we want to avoid the complications of these tagsets, so we use a built-in mapping to the **\"Universal Tagset\"**."
   ]
  },
  {
   "cell_type": "code",
   "execution_count": 25,
   "id": "f41722c6",
   "metadata": {},
   "outputs": [
    {
     "name": "stdout",
     "output_type": "stream",
     "text": [
      "[('The', 'AT'), ('Fulton', 'NP-TL'), ...]\n",
      "[('The', 'DET'), ('Fulton', 'NOUN'), ...]\n",
      "[('Pierre', 'NNP'), ('Vinken', 'NNP'), (',', ','), ...]\n",
      "[('Pierre', 'NOUN'), ('Vinken', 'NOUN'), (',', '.'), ...]\n"
     ]
    }
   ],
   "source": [
    "print(nltk.corpus.brown.tagged_words())\n",
    "print(nltk.corpus.brown.tagged_words(tagset='universal'))\n",
    "\n",
    "print(nltk.corpus.treebank.tagged_words())\n",
    "print(nltk.corpus.treebank.tagged_words(tagset='universal'))"
   ]
  },
  {
   "cell_type": "markdown",
   "id": "f1b862fe",
   "metadata": {},
   "source": [
    "Tagged corpora for several **other languages** are distributed with NLTK.\n",
    "\n",
    "These usually contain **non-ASCII text**, and Python always displays this in hexadecimal when printing a larger structure such as a list.\n",
    "\n",
    "If your environment is set up correctly, with **appropriate editors and fonts**, you should be able to display individual strings in a human-readable way."
   ]
  },
  {
   "cell_type": "code",
   "execution_count": 29,
   "id": "53958616",
   "metadata": {
    "scrolled": true
   },
   "outputs": [
    {
     "name": "stdout",
     "output_type": "stream",
     "text": [
      "[('一', 'Neu'), ('友情', 'Nad'), ('嘉珍', 'Nba'), ...]\n",
      "[('মহিষের', 'NN'), ('সন্তান', 'NN'), (':', 'SYM'), ...]\n"
     ]
    }
   ],
   "source": [
    "print(nltk.corpus.sinica_treebank.tagged_words())\n",
    "print(nltk.corpus.indian.tagged_words())"
   ]
  },
  {
   "cell_type": "markdown",
   "id": "012f8040",
   "metadata": {},
   "source": [
    "If the corpus is also segmented into sentences, it will have a `tagged_sents()` method that divides up the tagged words into sentences rather than presenting them as one big list. \n",
    "\n",
    "This will be useful when we come to developing **automatic taggers**, as they are trained and tested on lists of sentences, not words."
   ]
  },
  {
   "cell_type": "code",
   "execution_count": 34,
   "id": "a63ce7c7",
   "metadata": {},
   "outputs": [
    {
     "name": "stdout",
     "output_type": "stream",
     "text": [
      "[('The', 'AT'), ('Fulton', 'NP-TL'), ('County', 'NN-TL'), ('Grand', 'JJ-TL'), ('Jury', 'NN-TL'), ('said', 'VBD'), ('Friday', 'NR'), ('an', 'AT'), ('investigation', 'NN'), ('of', 'IN'), (\"Atlanta's\", 'NP$'), ('recent', 'JJ'), ('primary', 'NN'), ('election', 'NN'), ('produced', 'VBD'), ('``', '``'), ('no', 'AT'), ('evidence', 'NN'), (\"''\", \"''\"), ('that', 'CS'), ('any', 'DTI'), ('irregularities', 'NNS'), ('took', 'VBD'), ('place', 'NN'), ('.', '.')]\n"
     ]
    }
   ],
   "source": [
    "print(nltk.corpus.brown.tagged_sents()[0])"
   ]
  },
  {
   "cell_type": "markdown",
   "id": "e558764e",
   "metadata": {},
   "source": [
    "<a name=\"unitagset\"></a>\n",
    "## 5.2.3 A Universal Part-of-Speech Tagset"
   ]
  },
  {
   "attachments": {
    "uni_tagset.PNG": {
     "image/png": "[encoded data removed]"
    }
   },
   "cell_type": "markdown",
   "id": "5e64b087",
   "metadata": {},
   "source": [
    "Tagged corpora use **many different conventions for tagging words**. \n",
    "\n",
    "To help us get started, we will be looking at a simplified tagset.\n",
    "\n",
    "![uni_tagset.PNG](attachment:uni_tagset.PNG)"
   ]
  },
  {
   "cell_type": "code",
   "execution_count": 38,
   "id": "aaaec148",
   "metadata": {},
   "outputs": [
    {
     "name": "stdout",
     "output_type": "stream",
     "text": [
      "[('NOUN', 30654), ('VERB', 14399), ('ADP', 12355), ('.', 11928), ('DET', 11389), ('ADJ', 6706), ('ADV', 3349), ('CONJ', 2717), ('PRON', 2535), ('PRT', 2264), ('NUM', 2166), ('X', 92)]\n"
     ]
    },
    {
     "data": {
      "image/png": "[encoded data removed]",
      "text/plain": [
       "<Figure size 432x288 with 1 Axes>"
      ]
     },
     "metadata": {
      "needs_background": "light"
     },
     "output_type": "display_data"
    }
   ],
   "source": [
    "from nltk.corpus import brown\n",
    "\n",
    "brown_news_tagged = brown.tagged_words(categories=\"news\", tagset=\"universal\")\n",
    "tag_fd = nltk.FreqDist(tag for (word, tag) in brown_news_tagged)\n",
    "print(tag_fd.most_common())\n",
    "\n",
    "# generate plot\n",
    "tag_fd.plot(cumulative=True);"
   ]
  },
  {
   "cell_type": "markdown",
   "id": "0b06f978",
   "metadata": {},
   "source": [
    "We can use these tags to do powerful searches using a **graphical POS-concordance tool** `nltk.app.concordance()`."
   ]
  },
  {
   "cell_type": "code",
   "execution_count": 42,
   "id": "135f38c7",
   "metadata": {},
   "outputs": [],
   "source": [
    "from nltk.app import concordance\n",
    "\n",
    "concordance()"
   ]
  },
  {
   "cell_type": "markdown",
   "id": "0af602e0",
   "metadata": {},
   "source": [
    "<a name=\"nouns\"></a>\n",
    "## 5.2.4 Nouns"
   ]
  },
  {
   "attachments": {
    "nn.PNG": {
     "image/png": "[encoded data removed]"
    }
   },
   "cell_type": "markdown",
   "id": "f200d170",
   "metadata": {},
   "source": [
    "Nouns generally refer to people, places, things, or concepts, e.g.: woman, Scotland, book, intelligence. \n",
    "\n",
    "Nouns can appear **after determiners and adjectives**, and **can be the subject or object of the verb**.\n",
    "\n",
    "![nn.PNG](attachment:nn.PNG)"
   ]
  },
  {
   "cell_type": "markdown",
   "id": "4c21ecc5",
   "metadata": {},
   "source": [
    "The __simplified noun tags__ are `N` (__common nouns__) like book, and `NP` (__proper nouns__) like Scotland."
   ]
  },
  {
   "cell_type": "code",
   "execution_count": 45,
   "id": "12c8d89d",
   "metadata": {},
   "outputs": [
    {
     "name": "stdout",
     "output_type": "stream",
     "text": [
      "['NOUN', 'DET', 'ADJ', 'ADP', '.', 'VERB', 'CONJ', 'NUM', 'ADV', 'PRT', 'PRON', 'X']\n"
     ]
    },
    {
     "data": {
      "image/png": "[encoded data removed]",
      "text/plain": [
       "<Figure size 432x288 with 1 Axes>"
      ]
     },
     "metadata": {
      "needs_background": "light"
     },
     "output_type": "display_data"
    }
   ],
   "source": [
    "# list of bigrams\n",
    "word_tag_pairs = nltk.bigrams(brown_news_tagged)\n",
    "\n",
    "# extract tag before N\n",
    "noun_preceders = [a[1] for (a, b) in word_tag_pairs if b[1] == 'NOUN']\n",
    "\n",
    "# createa a FreqDist\n",
    "fdist = nltk.FreqDist(noun_preceders)\n",
    "\n",
    "# check most common tags before N\n",
    "print([tag for (tag, _) in fdist.most_common()])\n",
    "\n",
    "# generate a plot\n",
    "fdist.plot();"
   ]
  },
  {
   "cell_type": "markdown",
   "id": "c249f000",
   "metadata": {},
   "source": [
    "<a name=\"verbs\"></a>\n",
    "## 5.2.5 Verbs"
   ]
  },
  {
   "attachments": {
    "verbs.PNG": {
     "image/png": "[encoded data removed]"
    }
   },
   "cell_type": "markdown",
   "id": "47ed8920",
   "metadata": {},
   "source": [
    "Verbs are __words that describe events and actions__. \n",
    "\n",
    "In the context of a sentence, verbs typically __express a relation involving the referents of one or more noun phrases__.\n",
    "\n",
    "![verbs.PNG](attachment:verbs.PNG)"
   ]
  },
  {
   "cell_type": "code",
   "execution_count": 48,
   "id": "5c788c01",
   "metadata": {
    "scrolled": true
   },
   "outputs": [
    {
     "name": "stdout",
     "output_type": "stream",
     "text": [
      "['is', 'said', 'was', 'are', 'be', 'has', 'have', 'will', 'says', 'would', 'were', 'had', 'been', 'could', \"'s\", 'can', 'do', 'say', 'make', 'may']\n"
     ]
    }
   ],
   "source": [
    "wsj = nltk.corpus.treebank.tagged_words(tagset='universal')\n",
    "word_tag_fd = nltk.FreqDist(wsj)\n",
    "\n",
    "# extract most common verbs\n",
    "print([wt[0] for (wt, _) in word_tag_fd.most_common() if wt[1] == 'VERB'][:20])"
   ]
  },
  {
   "cell_type": "markdown",
   "id": "061a5c33",
   "metadata": {},
   "source": [
    "Note that the items being counted in the frequency distribution are __word-tag pairs__. \n",
    "\n",
    "Since words and tags are paired, we can treat the word as a condition and the tag as an event, and initialize a conditional frequency distribution with a list of condition-event pairs. \n",
    "\n",
    "This lets us see a __frequency-ordered list of tags given a word__."
   ]
  },
  {
   "cell_type": "code",
   "execution_count": 59,
   "id": "0cf2765c",
   "metadata": {},
   "outputs": [
    {
     "data": {
      "text/plain": [
       "[('VB', 28), ('NN', 20)]"
      ]
     },
     "execution_count": 59,
     "metadata": {},
     "output_type": "execute_result"
    }
   ],
   "source": [
    "cfd1 = nltk.ConditionalFreqDist(wsj)\n",
    "cfd1['yield'].most_common()"
   ]
  },
  {
   "cell_type": "markdown",
   "id": "9c500619",
   "metadata": {},
   "source": [
    "We can __reverse the order of the pairs__, so that the tags are the conditions, and the words are the events. \n",
    "\n",
    "Now we can __see likely words for a given tag__."
   ]
  },
  {
   "cell_type": "code",
   "execution_count": 53,
   "id": "b8679537",
   "metadata": {
    "scrolled": false
   },
   "outputs": [
    {
     "name": "stdout",
     "output_type": "stream",
     "text": [
      "['been', 'expected', 'made', 'compared', 'based', 'used', 'priced', 'sold', 'named', 'designed']\n"
     ]
    }
   ],
   "source": [
    "wsj = nltk.corpus.treebank.tagged_words()\n",
    "cfd2 = nltk.ConditionalFreqDist((tag, word) for (word, tag) in wsj)\n",
    "print(list(cfd2['VBN'])[:10])"
   ]
  },
  {
   "cell_type": "markdown",
   "id": "d80ef3a2",
   "metadata": {},
   "source": [
    "To clarify the distinction between `VBD` (past tense) and `VBN` (past participle), let's find words which can be both VBD and VBN, and see some surrounding text."
   ]
  },
  {
   "cell_type": "code",
   "execution_count": 64,
   "id": "1462e09d",
   "metadata": {
    "scrolled": true
   },
   "outputs": [
    {
     "name": "stdout",
     "output_type": "stream",
     "text": [
      "['named', 'used', 'caused', 'reported', 'said', 'stopped', 'heard', 'studied', 'led', 'replaced', 'sold', 'worked', 'died', 'found', 'rejected', 'imposed', 'made', 'dumped', 'imported', 'mixed']\n",
      "\n",
      " [('While', 'IN'), ('program', 'NN'), ('trades', 'NNS'), ('swiftly', 'RB'), ('kicked', 'VBD')]\n",
      "\n",
      " [('head', 'NN'), ('of', 'IN'), ('state', 'NN'), ('has', 'VBZ'), ('kicked', 'VBN')]\n"
     ]
    }
   ],
   "source": [
    "wsj1 = nltk.corpus.treebank.tagged_words()\n",
    "word_tag_fd = nltk.FreqDist(wsj1)\n",
    "cfd3 = nltk.ConditionalFreqDist(wsj1)\n",
    "\n",
    "print([w for w in cfd3.conditions() if 'VBD' in cfd3[w] and 'VBN' in cfd3[w]][:20])\n",
    "\n",
    "idx1 = wsj1.index(('kicked', 'VBD'))\n",
    "(print(\"\\n\", wsj1[idx1-4:idx1+1]))\n",
    "\n",
    "idx2 = wsj1.index(('kicked', 'VBN'))\n",
    "(print(\"\\n\", wsj1[idx2-4:idx2+1]))"
   ]
  },
  {
   "cell_type": "markdown",
   "id": "531ebd39",
   "metadata": {},
   "source": [
    "In this case, we see that the past participle of __kicked__ is preceded by a form of the auxiliary verb __have__. Is this generally true?\n",
    "\n",
    "Given the list of past participles produced by `list(cfd2['VBN'])`, lets collect a list of all the word-tag pairs that immediately precede items in that list."
   ]
  },
  {
   "cell_type": "code",
   "execution_count": 117,
   "id": "2af47eda",
   "metadata": {
    "scrolled": false
   },
   "outputs": [
    {
     "name": "stdout",
     "output_type": "stream",
     "text": [
      "['been', 'expected', 'made', 'compared', 'based', 'used', 'priced', 'sold', 'named', 'designed'] \n",
      "\n",
      "[(('been', 'VBN'), 150), (('expected', 'VBN'), 52), (('made', 'VBN'), 33), (('compared', 'VBN'), 32), (('based', 'VBN'), 31), (('used', 'VBN'), 26), (('priced', 'VBN'), 26), (('sold', 'VBN'), 25), (('named', 'VBN'), 20), (('designed', 'VBN'), 20)]\n",
      "\n",
      " [(('Pierre', 'NNP'), ('Vinken', 'NNP')), (('Vinken', 'NNP'), (',', ','))]\n",
      "\n",
      " ['VBD', 'RB', 'VBZ', 'NNS', 'VBD', 'VBD', 'CC', 'VBD', 'VBP', 'DT']\n",
      "\n",
      " [('VBZ', 331), ('VBD', 300), ('RB', 287), ('VB', 236), ('VBP', 227), ('NNS', 112), (',', 110), ('NN', 107), ('DT', 86), ('-NONE-', 70), ('VBN', 55), ('CC', 38), ('IN', 37), ('VBG', 31), ('JJ', 19), ('``', 13), ('CD', 12), ('POS', 10), ('NNP', 7), ('.', 7), ('-LRB-', 6), (':', 6), ('PRP$', 5), ('RBR', 5), ('PRP', 5), ('TO', 3), ('JJS', 3), (\"''\", 3), ('JJR', 1), ('RBS', 1), ('-RRB-', 1)]\n"
     ]
    }
   ],
   "source": [
    "print(list(cfd2['VBN'])[:10], \"\\n\")\n",
    "\n",
    "print([(wt, tag) for (wt, tag) in word_tag_fd.most_common()\n",
    "       if wt[1] == 'VBN'][:10])\n",
    "\n",
    "treebank_tagged = nltk.corpus.treebank.tagged_words()\n",
    "\n",
    "# list of bigrams\n",
    "word_tag_pairs = list(nltk.bigrams(treebank_tagged))\n",
    "print(\"\\n\", word_tag_pairs[:2])\n",
    "# extract tag before VBN\n",
    "vbn_preceders = [a[1] for (a, b) in word_tag_pairs if b[1] == 'VBN']\n",
    "print(\"\\n\", vbn_preceders[:10])\n",
    "\n",
    "# createa a FreqDist\n",
    "fdist = nltk.FreqDist(vbn_preceders)\n",
    "\n",
    "# check most common tags before N\n",
    "print(\"\\n\", [(word, tag) for (word, tag) in fdist.most_common()])"
   ]
  },
  {
   "cell_type": "markdown",
   "id": "e1f93ad7",
   "metadata": {},
   "source": [
    "<a name=\"adjadv\"></a>\n",
    "## 5.2.6 Adjectives and Adverbs"
   ]
  },
  {
   "cell_type": "markdown",
   "id": "85ccbff5",
   "metadata": {},
   "source": [
    "<a name=\"unsimplified\"></a>\n",
    "## 5.2.7 Unsimplified Tags"
   ]
  },
  {
   "cell_type": "markdown",
   "id": "d2aba67e",
   "metadata": {},
   "source": [
    "<a name=\"exploringtaggedcorpora\"></a>\n",
    "## 5.2.8 Exploring Tagged Corpora"
   ]
  }
 ],
 "metadata": {
  "kernelspec": {
   "display_name": "Python 3 (ipykernel)",
   "language": "python",
   "name": "python3"
  },
  "language_info": {
   "codemirror_mode": {
    "name": "ipython",
    "version": 3
   },
   "file_extension": ".py",
   "mimetype": "text/x-python",
   "name": "python",
   "nbconvert_exporter": "python",
   "pygments_lexer": "ipython3",
   "version": "3.9.7"
  }
 },
 "nbformat": 4,
 "nbformat_minor": 5
}
