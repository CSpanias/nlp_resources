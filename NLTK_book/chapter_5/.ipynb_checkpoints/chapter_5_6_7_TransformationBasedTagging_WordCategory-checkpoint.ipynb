{
 "cells": [
  {
   "cell_type": "markdown",
   "id": "3f2dec07",
   "metadata": {},
   "source": [
    "# **Natural Language Processing with Python**\n",
    "by [CSpanias](https://cspanias.github.io/aboutme/) - 02/2022\n",
    "\n",
    "Content based on the [NLTK book](https://www.nltk.org/book/). <br>\n",
    "\n",
    "You can find Chapter 5 [here](https://www.nltk.org/book/ch05.html).\n",
    "\n",
    "# CONTENT\n",
    "\n",
    "1. Language Processing and Python\n",
    "2. Accessing Text Corpora and Lexical Resources\n",
    "3. Processing Raw Text\n",
    "4. Writing Structured Programs\n",
    "5. Categorizing and Tagging Words\n",
    "    1. Using a Tagger\n",
    "    1. Tagged Corpora\n",
    "    1. Mapping Words to Properties Using Python Dictionaries\n",
    "    1. Automatic Tagging\n",
    "    1. N-Gram Tagging\n",
    "    1. [Transformation-Based Tagging](#tbtagging)\n",
    "    1. [How to Determine the Category of a Word](#category)\n",
    "        1. [Morphological Clues](#morpho)\n",
    "        1. [Syntactic Clues](#syntantic)\n",
    "        1. [Semantic Clues](#semantic)\n",
    "        1. [New Words](#newwords)\n",
    "        1. [Morphology in POS Tagsets](#tagsetmorpho)"
   ]
  },
  {
   "cell_type": "markdown",
   "id": "e79cad3f",
   "metadata": {},
   "source": [
    "<a name=\"tbtagging\"></a>\n",
    "# 5.6 Transformation-Based Tagging"
   ]
  },
  {
   "attachments": {
    "brill.PNG": {
     "image/png": "[encoded data removed]"
    }
   },
   "cell_type": "markdown",
   "id": "a6f00985",
   "metadata": {},
   "source": [
    "A potential issue with n-gram taggers is the __size of their n-gram table (or language model)__. \n",
    "\n",
    "If tagging is to be employed in a variety of language technologies deployed on mobile computing devices, it is important to strike a __balance between model size and tagger performance__. \n",
    "\n",
    "An n-gram tagger with backoff may store trigram and bigram tables, __large sparse arrays__ which may have hundreds of millions of entries.\n",
    "\n",
    "A second issue concerns __context__. The only information an n-gram tagger considers from prior context is tags, even though words themselves might be a useful source of information. It is simply impractical for n-gram models to be conditioned on the identities of words in the context. \n",
    "\n",
    "In this section we examine Brill tagging, an inductive tagging method which performs very well using models that are only a tiny fraction of the size of n-gram taggers.\n",
    "\n",
    "__Brill tagging__ is a kind of __transformation-based learning__. The general idea is very simple:\n",
    "1. __guess the tag__ of each word\n",
    "2. then go back and __fix the mistakes__\n",
    "\n",
    "In this way, a Brill tagger successively transforms a bad tagging of a text into a better one. As with n-gram tagging, this is a __supervised learning method__, since we need annotated training data to figure out whether the tagger's guess is a mistake or not. \n",
    "\n",
    "However, unlike n-gram tagging, it does not count observations but compiles a list of transformational correction rules.\n",
    "\n",
    "Let's look at an example involving the following sentence:\n",
    "\n",
    "> The President said he will ask Congress to increase grants to states for vocational rehabilitation\n",
    "\n",
    "We will examine the operation of two rules: \n",
    "1. Replace `NN` with `VB` when the previous word is `TO`\n",
    "2. Replace `TO` with `IN` when the next tag is `NNS`. \n",
    "\n",
    "The figure below illustrates this process:\n",
    "1. first tagging with the unigram tagger\n",
    "2. then applying the rules to fix the errors.\n",
    "\n",
    "![brill.PNG](attachment:brill.PNG)\n",
    "\n",
    " All such rules are generated from a template of the following form: \n",
    "> \"replace `T1` with `T2` in the context `C`\". \n",
    "\n",
    "Typical contexts are the identity or the tag of the preceding or following word, or the appearance of a specific tag within 2-3 words of the current word. \n",
    "\n",
    "During its training phase, the tagger guesses values for `T1`, `T2` and `C`, to create thousands of candidate rules. Each rule is __scored according to its net benefit__: the number of incorrect tags that it corrects, less the number of correct tags it incorrectly modifies.\n",
    "\n",
    "Brill taggers have another interesting property: the __rules are linguistically interpretable__. \n",
    "\n",
    "Compare this with the n-gram taggers, which employ a potentially massive table of n-grams. We cannot learn much from direct inspection of such a table, in comparison to the rules learned by the Brill tagger."
   ]
  },
  {
   "cell_type": "code",
   "execution_count": 4,
   "id": "81d19af6",
   "metadata": {
    "scrolled": true
   },
   "outputs": [
    {
     "name": "stdout",
     "output_type": "stream",
     "text": [
      "Loading tagged data from treebank... \n",
      "Read testing data (200 sents/5251 wds)\n",
      "Read training data (800 sents/19933 wds)\n",
      "Read baseline data (800 sents/19933 wds) [reused the training set]\n",
      "Trained baseline tagger\n",
      "    Accuracy on test set: 0.8366\n",
      "Training tbl tagger...\n",
      "TBL train (fast) (seqs: 800; tokens: 19933; tpls: 24; min score: 3; min acc: None)\n",
      "Finding initial useful rules...\n",
      "    Found 12799 useful rules.\n",
      "\n",
      "           B      |\n",
      "   S   F   r   O  |        Score = Fixed - Broken\n",
      "   c   i   o   t  |  R     Fixed = num tags changed incorrect -> correct\n",
      "   o   x   k   h  |  u     Broken = num tags changed correct -> incorrect\n",
      "   r   e   e   e  |  l     Other = num tags changed incorrect -> incorrect\n",
      "   e   d   n   r  |  e\n",
      "------------------+-------------------------------------------------------\n",
      "  23  23   0   0  | POS->VBZ if Pos:PRP@[-2,-1]\n",
      "  18  19   1   0  | NN->VB if Pos:-NONE-@[-2] & Pos:TO@[-1]\n",
      "  14  14   0   0  | VBP->VB if Pos:MD@[-2,-1]\n",
      "  12  12   0   0  | VBP->VB if Pos:TO@[-1]\n",
      "  11  11   0   0  | VBD->VBN if Pos:VBD@[-1]\n",
      "  11  11   0   0  | IN->WDT if Pos:-NONE-@[1] & Pos:VBP@[2]\n",
      "  10  11   1   0  | VBN->VBD if Pos:PRP@[-1]\n",
      "   9  10   1   0  | VBD->VBN if Pos:VBZ@[-1]\n",
      "   8   8   0   0  | NN->VB if Pos:MD@[-1]\n",
      "   7   7   0   1  | VB->NN if Pos:DT@[-1]\n",
      "   7   7   0   0  | VB->VBP if Pos:PRP@[-1]\n",
      "   7   7   0   0  | IN->WDT if Pos:-NONE-@[1] & Pos:VBZ@[2]\n",
      "   7   8   1   0  | IN->RB if Word:as@[2]\n",
      "   6   6   0   0  | VBD->VBN if Pos:VBP@[-2,-1]\n",
      "   6   6   0   1  | IN->WDT if Pos:-NONE-@[1] & Pos:VBD@[2]\n",
      "   5   5   0   0  | POS->VBZ if Pos:-NONE-@[-1]\n",
      "   5   5   0   0  | VB->VBP if Pos:NNS@[-1]\n",
      "   5   5   0   0  | VBD->VBN if Word:be@[-2,-1]\n",
      "   4   4   0   0  | POS->VBZ if Pos:``@[-2]\n",
      "   4   4   0   0  | VBP->VB if Pos:VBD@[-2,-1]\n",
      "   4   6   2   3  | RP->RB if Pos:CD@[1,2]\n",
      "   4   4   0   0  | RB->JJ if Pos:DT@[-1] & Pos:NN@[1]\n",
      "   4   4   0   0  | NN->VBP if Pos:NNS@[-2] & Pos:RB@[-1]\n",
      "   4   5   1   0  | VBN->VBD if Pos:NNP@[-2] & Pos:NNP@[-1]\n",
      "   4   4   0   0  | IN->WDT if Pos:-NONE-@[1] & Pos:MD@[2]\n",
      "   4   8   4   0  | VBD->VBN if Word:*@[1]\n",
      "   4   4   0   0  | JJS->RBS if Word:most@[0] & Word:the@[-1] & Pos:DT@[-1]\n",
      "   3   3   0   0  | VBD->VBN if Pos:VBN@[-1]\n",
      "   3   4   1   0  | VBN->VB if Pos:TO@[-1]\n",
      "   3   4   1   1  | IN->RB if Pos:.@[1]\n",
      "   3   3   0   0  | JJ->RB if Pos:VBD@[1]\n",
      "   3   3   0   0  | PRP$->PRP if Pos:TO@[1]\n",
      "   3   3   0   0  | NN->VBP if Pos:NNS@[-1] & Pos:DT@[1]\n",
      "   3   3   0   0  | VBP->VB if Word:n't@[-2,-1]\n",
      "Trained tbl tagger in 3.47 seconds\n",
      "    Accuracy on test set: 0.8572\n",
      "Tagging the test data\n"
     ]
    }
   ],
   "source": [
    "from nltk.tbl import demo as brill_demo\n",
    "\n",
    "brill_demo.demo()\n",
    "\n",
    "#print(open('errors.out').read())"
   ]
  },
  {
   "cell_type": "markdown",
   "id": "40149b78",
   "metadata": {},
   "source": [
    "<a name=\"category\"></a>\n",
    "# 5.7 How to Determine the Category of a Word"
   ]
  },
  {
   "cell_type": "markdown",
   "id": "1eb7ebfb",
   "metadata": {},
   "source": [
    "Now that we have examined word classes in detail, we turn to a more basic question: __how do we decide what category a word belongs to in the first place?__ \n",
    "\n",
    "In general, linguists use morphological, syntactic, and semantic clues to determine the category of a word."
   ]
  },
  {
   "cell_type": "markdown",
   "id": "d66af7b2",
   "metadata": {},
   "source": [
    "<a name=\"morpho\"></a>\n",
    "## 5.7.1 Morphological Clues"
   ]
  },
  {
   "cell_type": "markdown",
   "id": "70e1ae3e",
   "metadata": {},
   "source": [
    "The __internal structure__ of a word may give useful clues as to the word's category. \n",
    "\n",
    "For example, `-ness` is a suffix that combines with an adjective to produce a noun, e.g. happy → happiness, ill → illness. \n",
    "\n",
    "So if we encounter a word that ends in `-ness`, this is __very likely to be a noun__. \n",
    "\n",
    "Similarly, `-ment` is a suffix that combines with some verbs to produce a noun, e.g. govern → government and establish → establishment.\n",
    "\n",
    "English verbs can also be morphologically complex.\n",
    "\n",
    "For instance, the present participle of a verb ends in `-ing`, and expresses the idea of ongoing, incomplete action (e.g. falling, eating). \n",
    "\n",
    "The `-ing` suffix also appears on nouns derived from verbs, e.g. the falling of the leaves (this is known as the __gerund__)."
   ]
  },
  {
   "cell_type": "markdown",
   "id": "a3618d23",
   "metadata": {},
   "source": [
    "<a name=\"syntantic\"></a>\n",
    "## 5.7.2 Syntactic Clues"
   ]
  },
  {
   "cell_type": "markdown",
   "id": "f390e1b9",
   "metadata": {},
   "source": [
    "Another source of information is the __typical contexts__ in which a word can occur. \n",
    "\n",
    "For example, assume that we have already determined the category of nouns. Then we might say that a __syntactic criterion__ for an adjective in English is that it can occur immediately before a noun, or immediately following the words be or very. \n",
    "\n",
    "According to these tests, `near` should be categorized as an adjective:\n",
    "\t\n",
    "1. the `near` window\n",
    "2. The end is (very) `near`."
   ]
  },
  {
   "cell_type": "markdown",
   "id": "6273cb93",
   "metadata": {},
   "source": [
    "<a name=\"semantic\"></a>\n",
    "## 5.7.3 Semantic Clues"
   ]
  },
  {
   "cell_type": "markdown",
   "id": "6c96b93c",
   "metadata": {},
   "source": [
    "Finally, the __meaning of a word__ is a useful clue as to its lexical category. \n",
    "\n",
    "For example, __the best-known definition of a `noun` is semantic__: \n",
    "\n",
    "> \"the name of a person, place or thing\". \n",
    "\n",
    "Within modern linguistics, semantic criteria for word classes are treated with suspicion, mainly because they are __hard to formalize__. \n",
    "\n",
    "Nevertheless, semantic criteria underpin many of our intuitions about word classes, and enable us to make a __good guess about the categorization of words in languages that we are unfamiliar with__. \n",
    "\n",
    "For example, if all we know about the Dutch word `verjaardag` is that it means the same as the English word `birthday`, then we can guess that `verjaardag` is a noun in Dutch. \n",
    "\n",
    "However, some care is needed: although we might translate `zij is vandaag jarig` as `it's her birthday today`, the word `jarig` is in fact an adjective in Dutch, and has no exact equivalent in English."
   ]
  },
  {
   "cell_type": "markdown",
   "id": "0bf27221",
   "metadata": {},
   "source": [
    "<a name=\"newwords\"></a>\n",
    "## 5.7.4 New Words"
   ]
  },
  {
   "cell_type": "markdown",
   "id": "f2fce2e8",
   "metadata": {},
   "source": [
    "__All languages acquire new lexical items__. \n",
    "\n",
    "A list of words recently added to the Oxford Dictionary of English includes cyberslacker, fatoush, blamestorm, SARS, cantopop, bupkis, noughties, muggle, and robata. \n",
    "\n",
    "Notice that all these new words are `nouns`, and this is reflected in calling nouns an __open class__.\n",
    "\n",
    "By contrast, prepositions are regarded as a __closed class__. \n",
    "\n",
    "That is, there is a limited set of words belonging to the class (e.g., above, along, at, below, beside, between, during, for, from, in, near, on, outside, over, past, through, towards, under, up, with), and __membership of the set only changes very gradually over time__."
   ]
  },
  {
   "cell_type": "markdown",
   "id": "5a0f2422",
   "metadata": {},
   "source": [
    "<a name=\"tagsetmorpho\"></a>\n",
    "## 5.7.5 Morphology in POS Tagsets"
   ]
  },
  {
   "attachments": {
    "tagset_morphology.PNG": {
     "image/png": "[encoded data removed]"
    }
   },
   "cell_type": "markdown",
   "id": "a3ade7fc",
   "metadata": {},
   "source": [
    "__Common tagsets often capture some morpho-syntactic information__; that is, information about the kind of morphological markings that words receive by virtue of their syntactic role.\n",
    "\n",
    "Consider, for example, the selection of distinct grammatical forms of the word `go` illustrated in the following sentences:\n",
    "\t\t\n",
    "* Go away!\n",
    "* He sometimes goes to the cafe.\n",
    "* All the cakes have gone.\n",
    "* We went on the excursion.\n",
    "\n",
    "Each of these forms — `go`, `goes`, `gone`, and `went` — is __morphologically distinct__ from the others. \n",
    "\n",
    "Consider the form, `goes`. This occurs in a restricted set of grammatical contexts, and requires a third person singular subject. Thus, the following sentences are ungrammatical.\n",
    "\t\n",
    "* *They sometimes goes to the cafe.\n",
    "* *I sometimes goes to the cafe.\n",
    "\n",
    "\n",
    "By contrast, `gone` is the past participle form; it is required after `have` (and cannot be replaced in this context by goes), and cannot occur as the main verb of a clause.\n",
    "\t\n",
    "* *All the cakes have goes.\n",
    "* *He sometimes gone to the cafe.\n",
    "\n",
    "We can easily imagine a tagset in which the four distinct grammatical forms just discussed were all tagged as `VB`. Although this would be adequate for some purposes, a more fine-grained tagset provides useful information about these forms that can help other processors that try to detect patterns in tag sequences. The Brown tagset captures these distinctions, as summarized in the figure below.\n",
    "\n",
    "![tagset_morphology.PNG](attachment:tagset_morphology.PNG)\n",
    "\n",
    "In addition to this set of verb tags, the various forms of the verb to be have special tags: `be/BE`, `being/BEG`, `am/BEM`, `are/BER`, `is/BEZ`, `been/BEN`, `were/BED` and `was/BEDZ` (plus extra tags for negative forms of the verb). \n",
    "\n",
    "All told, this fine-grained tagging of verbs means that an automatic tagger that uses this tagset is effectively carrying out a limited amount of morphological analysis.\n",
    "\n",
    "Most POS tagsets make use of the same basic categories, such as __noun__, -__verb__, __adjective__, and __preposition__. \n",
    "\n",
    "However, __tagsets differ both in how finely they divide words into categories, and in how they define their categories__. \n",
    "\n",
    "For example, `is` might be tagged simply as a __verb__ in one tagset; but as a __distinct form of the lexeme `be`__ in another tagset (as in the Brown Corpus). \n",
    "\n",
    "This variation in tagsets is unavoidable, since POS tags are used in different ways for different tasks. In other words, there is no one 'right way' to assign tags, only more or less useful ways depending on one's goals."
   ]
  }
 ],
 "metadata": {
  "kernelspec": {
   "display_name": "Python 3 (ipykernel)",
   "language": "python",
   "name": "python3"
  },
  "language_info": {
   "codemirror_mode": {
    "name": "ipython",
    "version": 3
   },
   "file_extension": ".py",
   "mimetype": "text/x-python",
   "name": "python",
   "nbconvert_exporter": "python",
   "pygments_lexer": "ipython3",
   "version": "3.9.7"
  }
 },
 "nbformat": 4,
 "nbformat_minor": 5
}
