{
 "cells": [
  {
   "cell_type": "markdown",
   "id": "3f2dec07",
   "metadata": {},
   "source": [
    "# **Natural Language Processing with Python**\n",
    "by [CSpanias](https://cspanias.github.io/aboutme/) - 02/2022\n",
    "\n",
    "Content based on the [NLTK book](https://www.nltk.org/book/). <br>\n",
    "\n",
    "You can find Chapter 6 [here](https://www.nltk.org/book/ch06.html).\n",
    "\n",
    "# CONTENT\n",
    "\n",
    "1. Language Processing and Python\n",
    "2. Accessing Text Corpora and Lexical Resources\n",
    "3. Processing Raw Text\n",
    "4. Writing Structured Programs\n",
    "5. Categorizing and Tagging Words\n",
    "6. Learning to Classify Text\n",
    "    1. Supervised Classification\n",
    "    2. Futher Examples of Supervised Classification\n",
    "    3. [Evaluation](#eval)\n",
    "        1. [Test Set](#testset)\n",
    "        1. [Accuracy](#accuracy)\n",
    "        1. [Precision and Recall](#prerec)\n",
    "        1. [Confusion Matrices](#cm)\n",
    "        1. [Cross-Validation](#cv)"
   ]
  },
  {
   "cell_type": "markdown",
   "id": "442df51a",
   "metadata": {},
   "source": [
    "<a name=\"eval\"></a>\n",
    "# 6.3 Evaluation"
   ]
  },
  {
   "cell_type": "markdown",
   "id": "a0538c60",
   "metadata": {},
   "source": [
    "<a name=\"testset\"></a>\n",
    "## 6.3.1 Test Set"
   ]
  },
  {
   "cell_type": "markdown",
   "id": "616e6ab4",
   "metadata": {},
   "source": [
    "<a name=\"accuracy\"></a>\n",
    "## 6.3.2 Accuracy"
   ]
  },
  {
   "cell_type": "markdown",
   "id": "3160376d",
   "metadata": {},
   "source": [
    "<a name=\"prerec\"></a>\n",
    "## 6.3.3 Precision and Recall"
   ]
  },
  {
   "cell_type": "markdown",
   "id": "3098785a",
   "metadata": {},
   "source": [
    "<a name=\"cm\"></a>\n",
    "## 6.3.4 Confusion Matrices"
   ]
  },
  {
   "cell_type": "markdown",
   "id": "be32fda1",
   "metadata": {},
   "source": [
    "<a name=\"cv\"></a>\n",
    "## 6.3.5 Cross-Validation"
   ]
  }
 ],
 "metadata": {
  "kernelspec": {
   "display_name": "Python 3 (ipykernel)",
   "language": "python",
   "name": "python3"
  },
  "language_info": {
   "codemirror_mode": {
    "name": "ipython",
    "version": 3
   },
   "file_extension": ".py",
   "mimetype": "text/x-python",
   "name": "python",
   "nbconvert_exporter": "python",
   "pygments_lexer": "ipython3",
   "version": "3.9.7"
  }
 },
 "nbformat": 4,
 "nbformat_minor": 5
}
