{
 "cells": [
  {
   "cell_type": "code",
   "execution_count": 20,
   "id": "53e8b46a",
   "metadata": {},
   "outputs": [
    {
     "name": "stdout",
     "output_type": "stream",
     "text": [
      "My list contains the following 50 numbers:\n",
      "\n",
      "[0, 2, 4, 6, 8, 10, 12, 14, 16, 18, 20, 22, 24, 26, 28, 30, 32, 34, 36, 38, 40, 42, 44, 46, 48, 50, 52, 54, 56, 58, 60, 62, 64, 66, 68, 70, 72, 74, 76, 78, 80, 82, 84, 86, 88, 90, 92, 94, 96, 98]\n",
      "\n",
      "My list is now converted into a numPy array with a shape of (50,):\n",
      "\n",
      "[ 0  2  4  6  8 10 12 14 16 18 20 22 24 26 28 30 32 34 36 38 40 42 44 46\n",
      " 48 50 52 54 56 58 60 62 64 66 68 70 72 74 76 78 80 82 84 86 88 90 92 94\n",
      " 96 98]\n",
      "\n",
      "My 1D np array is now converted into a numPy array with a shape of (10, 5):\n",
      "\n",
      "[[ 0  2  4  6  8]\n",
      " [10 12 14 16 18]\n",
      " [20 22 24 26 28]\n",
      " [30 32 34 36 38]\n",
      " [40 42 44 46 48]\n",
      " [50 52 54 56 58]\n",
      " [60 62 64 66 68]\n",
      " [70 72 74 76 78]\n",
      " [80 82 84 86 88]\n",
      " [90 92 94 96 98]]\n",
      "\n",
      "My transposed 2D np array has now a shape of (5, 10):\n",
      "\n",
      "[[ 0 10 20 30 40 50 60 70 80 90]\n",
      " [ 2 12 22 32 42 52 62 72 82 92]\n",
      " [ 4 14 24 34 44 54 64 74 84 94]\n",
      " [ 6 16 26 36 46 56 66 76 86 96]\n",
      " [ 8 18 28 38 48 58 68 78 88 98]]\n"
     ]
    }
   ],
   "source": [
    "import numpy as np\n",
    "\n",
    "# create an emtpy list\n",
    "my_list = []\n",
    "\n",
    "# populate list with the first 50 even numbers\n",
    "for i in range(200):\n",
    "    # if list contains 50 numbers stop\n",
    "    if len(my_list) < 50:\n",
    "        # check if number is even\n",
    "        if i%2 == 0:\n",
    "            # append number to list\n",
    "            my_list.append(i)\n",
    "            \n",
    "# print an informative message\n",
    "print(\"My list contains the following {} numbers:\\n\\n{}\\n\".\n",
    "      format(len(my_list), my_list))\n",
    "\n",
    "# convert list to a numpy array\n",
    "my_array = np.array(my_list)\n",
    "print(\"My list is now converted into a numPy array with a shape of {}:\\n\\n{}\\n\".\n",
    "      format(my_array.shape, my_array))\n",
    "\n",
    "# convert 1D np array to a 2D (10x5) np array\n",
    "my_2d_array = np.reshape(my_array, (10, 5))\n",
    "print(\"My 1D np array is now converted into a numPy array with a shape of {}:\\n\\n{}\\n\".\n",
    "      format(my_2d_array.shape, my_2d_array))\n",
    "\n",
    "# transpose the 2d np array from (10x5) to (5x10)\n",
    "my_trans_array = np.transpose(my_2d_array)\n",
    "print(\"My transposed 2D np array has now a shape of {}:\\n\\n{}\".format(my_trans_array.shape, my_trans_array))"
   ]
  },
  {
   "cell_type": "code",
   "execution_count": null,
   "id": "f04c87a4",
   "metadata": {},
   "outputs": [],
   "source": []
  }
 ],
 "metadata": {
  "kernelspec": {
   "display_name": "Python 3 (ipykernel)",
   "language": "python",
   "name": "python3"
  },
  "language_info": {
   "codemirror_mode": {
    "name": "ipython",
    "version": 3
   },
   "file_extension": ".py",
   "mimetype": "text/x-python",
   "name": "python",
   "nbconvert_exporter": "python",
   "pygments_lexer": "ipython3",
   "version": "3.9.7"
  }
 },
 "nbformat": 4,
 "nbformat_minor": 5
}
