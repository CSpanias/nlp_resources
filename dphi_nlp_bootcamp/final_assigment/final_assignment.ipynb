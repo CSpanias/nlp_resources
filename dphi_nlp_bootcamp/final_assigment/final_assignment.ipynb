{
 "cells": [
  {
   "cell_type": "markdown",
   "id": "915c7924",
   "metadata": {},
   "source": [
    "# [Getting Started with NLP](https://dphi.tech/bootcamps/getting-started-with-natural-language-processing?utm_source=header)\n",
    "by [CSpanias](https://cspanias.github.io/aboutme/), 28/01 - 06/02/2022 <br>\n",
    "\n",
    "Bootcamp organized by **[DPhi](https://dphi.tech/community/)**, lectures given by [**Dipanjan (DJ) Sarkar**](https://www.linkedin.com/in/dipanzan/) ([GitHub repo](https://github.com/dipanjanS/nlp_essentials)) <br>\n",
    "\n",
    "This notebook constitutes my **personal submission** to the final assignment of the Bootcamp."
   ]
  },
  {
   "cell_type": "markdown",
   "id": "2e1ec43b",
   "metadata": {},
   "source": [
    "# CONTENT\n",
    "1. [Problem Overview](#ProblemOverview)\n",
    "2. [Import & Check Dataset](#Data)\n",
    "    1. [Missing Values](#nans)\n",
    "    1. [Duplicated Rows](#duplicates)\n",
    "    1. [Balance](#balance)\n",
    "3. [NLP Pipeline](#Pipeline)\n",
    "    1. [Text Pre-Processing](#TextPre)\n",
    "    1. [Splitting Dataset](#SplitData)\n",
    "    1. [Basic NLP Count-Based Features](#NLPCB)\n",
    "    1. [Build a Classification Model](#MLModel)\n",
    "    1. [Logistic Regression](#LogReg)"
   ]
  },
  {
   "cell_type": "markdown",
   "id": "98fbf561",
   "metadata": {},
   "source": [
    "<a name=\"ProblemOverview\"></a>\n",
    "# 1. Problem Overview"
   ]
  },
  {
   "cell_type": "markdown",
   "id": "4be953a5",
   "metadata": {},
   "source": [
    "> In this challenge, you will work on a dataset that contains **news headlines** - which are aimed to be **written in a sarcastic manner** by the news author. Our job here is to build our NLP models and **predict whether the headline is sarcastic or not**.\n",
    "\n",
    "This problem represents a **binary classification problem** as the news headlines need to be **classified betweeen 2 categories**:\n",
    "1. Sarcastic (1)\n",
    "2. Not Sarcastic (0)\n",
    "\n",
    "_More info about different Classification types [here](https://machinelearningmastery.com/types-of-classification-in-machine-learning/#:~:text=In%20machine%20learning%2C%20classification%20refers,one%20of%20the%20known%20characters.)._"
   ]
  },
  {
   "cell_type": "markdown",
   "id": "eb581479",
   "metadata": {},
   "source": [
    "<a name=\"Data\"></a>\n",
    "# 2. Import & Check Dataset"
   ]
  },
  {
   "cell_type": "code",
   "execution_count": 1,
   "id": "fa119f42",
   "metadata": {},
   "outputs": [],
   "source": [
    "# import required libraries\n",
    "import pandas as pd # import dataset, create and manipulate dataframes\n",
    "import numpy as np # vectorize functions and perform calculations\n",
    "import contractions # expand contractions\n",
    "import re # regular expressions\n",
    "import string # count-based features\n",
    "import seaborn as sns # visualization\n",
    "import matplotlib.pyplot as plt # visualization\n",
    "\n",
    "from nltk.tokenize import word_tokenize # tokenize string or sentences\n",
    "from nltk.corpus import stopwords # import english stopword list\n",
    "from nltk.stem import PorterStemmer # stemming\n",
    "from sklearn.linear_model import LogisticRegression # our algorithm\n",
    "from sklearn.feature_extraction.text import CountVectorizer, TfidfVectorizer # count-based language models\n",
    "from sklearn.metrics import confusion_matrix, classification_report # model evaluation metrics\n",
    "from sklearn.model_selection import train_test_split # split & evaluate dataset\n",
    "from collections import Counter # count-based calculations\n",
    "from textblob import TextBlob # sentiment analysis\n",
    "from wordcloud import WordCloud # visualization\n",
    "\n",
    "pd.options.mode.chained_assignment = None  # hide warnings"
   ]
  },
  {
   "cell_type": "code",
   "execution_count": 2,
   "id": "e9c755c8",
   "metadata": {},
   "outputs": [],
   "source": [
    "# load dataset as dataframe\n",
    "df = pd.read_csv('https://github.com/CSpanias/nlp_resources/blob/main/dphi_nlp_bootcamp/final_assigment/Train_Dataset.csv?raw=true')"
   ]
  },
  {
   "cell_type": "code",
   "execution_count": 3,
   "id": "69da3b69",
   "metadata": {
    "scrolled": true
   },
   "outputs": [
    {
     "name": "stdout",
     "output_type": "stream",
     "text": [
      "The dataframe consists of 44262 rows and 2 columns.\n"
     ]
    },
    {
     "data": {
      "text/html": [
       "<div>\n",
       "<style scoped>\n",
       "    .dataframe tbody tr th:only-of-type {\n",
       "        vertical-align: middle;\n",
       "    }\n",
       "\n",
       "    .dataframe tbody tr th {\n",
       "        vertical-align: top;\n",
       "    }\n",
       "\n",
       "    .dataframe thead th {\n",
       "        text-align: right;\n",
       "    }\n",
       "</style>\n",
       "<table border=\"1\" class=\"dataframe\">\n",
       "  <thead>\n",
       "    <tr style=\"text-align: right;\">\n",
       "      <th></th>\n",
       "      <th>headline</th>\n",
       "      <th>is_sarcastic</th>\n",
       "    </tr>\n",
       "  </thead>\n",
       "  <tbody>\n",
       "    <tr>\n",
       "      <th>0</th>\n",
       "      <td>supreme court votes 7-2 to legalize all worldl...</td>\n",
       "      <td>1</td>\n",
       "    </tr>\n",
       "    <tr>\n",
       "      <th>1</th>\n",
       "      <td>hungover man horrified to learn he made dozens...</td>\n",
       "      <td>1</td>\n",
       "    </tr>\n",
       "    <tr>\n",
       "      <th>2</th>\n",
       "      <td>emily's list founder: women are the 'problem s...</td>\n",
       "      <td>0</td>\n",
       "    </tr>\n",
       "    <tr>\n",
       "      <th>3</th>\n",
       "      <td>send your kids back to school with confidence</td>\n",
       "      <td>0</td>\n",
       "    </tr>\n",
       "    <tr>\n",
       "      <th>4</th>\n",
       "      <td>watch: experts talk pesticides and health</td>\n",
       "      <td>0</td>\n",
       "    </tr>\n",
       "  </tbody>\n",
       "</table>\n",
       "</div>"
      ],
      "text/plain": [
       "                                            headline  is_sarcastic\n",
       "0  supreme court votes 7-2 to legalize all worldl...             1\n",
       "1  hungover man horrified to learn he made dozens...             1\n",
       "2  emily's list founder: women are the 'problem s...             0\n",
       "3      send your kids back to school with confidence             0\n",
       "4          watch: experts talk pesticides and health             0"
      ]
     },
     "execution_count": 3,
     "metadata": {},
     "output_type": "execute_result"
    }
   ],
   "source": [
    "# check df's shape\n",
    "print(\"The dataframe consists of {} rows and {} columns.\".format(df.shape[0], df.shape[1]))\n",
    "# check 1st 5 rows\n",
    "df.head()"
   ]
  },
  {
   "cell_type": "markdown",
   "id": "3343f5f1",
   "metadata": {},
   "source": [
    "<a name=\"nans\"></a>\n",
    "We should first check our dataset for **missing values** as well as the **data type** of our variables.\n",
    "\n",
    "We would expect that the **`headline`** and the **`is_sarcastic`** column to be of type **object** and **integer**, respectively, and ideally with **no missing values**."
   ]
  },
  {
   "cell_type": "code",
   "execution_count": 4,
   "id": "868fc1ca",
   "metadata": {
    "scrolled": false
   },
   "outputs": [
    {
     "name": "stdout",
     "output_type": "stream",
     "text": [
      "<class 'pandas.core.frame.DataFrame'>\n",
      "RangeIndex: 44262 entries, 0 to 44261\n",
      "Data columns (total 2 columns):\n",
      " #   Column        Non-Null Count  Dtype \n",
      "---  ------        --------------  ----- \n",
      " 0   headline      44262 non-null  object\n",
      " 1   is_sarcastic  44262 non-null  int64 \n",
      "dtypes: int64(1), object(1)\n",
      "memory usage: 691.7+ KB\n"
     ]
    }
   ],
   "source": [
    "# check basic info\n",
    "df.info()"
   ]
  },
  {
   "cell_type": "markdown",
   "id": "c2fb7352",
   "metadata": {},
   "source": [
    "<a name=\"duplicates\"></a>\n",
    "We can also check if we have any **duplicate rows** in our dataset."
   ]
  },
  {
   "cell_type": "code",
   "execution_count": 5,
   "id": "2a3d24ff",
   "metadata": {},
   "outputs": [
    {
     "name": "stdout",
     "output_type": "stream",
     "text": [
      "Number of duplicated rows: 17204\n"
     ]
    }
   ],
   "source": [
    "# check for duplicates\n",
    "print(\"Number of duplicated rows: {}\".format(df.duplicated().sum()))"
   ]
  },
  {
   "cell_type": "markdown",
   "id": "2ce2cd82",
   "metadata": {},
   "source": [
    "We have a **huge amount of duplicated rows**, so we will drop them."
   ]
  },
  {
   "cell_type": "code",
   "execution_count": 6,
   "id": "5466cc3b",
   "metadata": {},
   "outputs": [
    {
     "name": "stdout",
     "output_type": "stream",
     "text": [
      "Number of duplicated rows: 0\n",
      "\n",
      "The dataframe consists of 27058 rows and 2 columns.\n"
     ]
    }
   ],
   "source": [
    "# drop duplicated rows\n",
    "df.drop_duplicates(keep='first', inplace=True)\n",
    "\n",
    "# check duplicates\n",
    "print(\"Number of duplicated rows: {}\\n\".format(df.duplicated().sum()))\n",
    "\n",
    "# check shape\n",
    "print(\"The dataframe consists of {} rows and {} columns.\".format(df.shape[0], df.shape[1]))"
   ]
  },
  {
   "cell_type": "markdown",
   "id": "a7a4a1ac",
   "metadata": {},
   "source": [
    "<a name=\"balance\"></a>\n",
    "We should also check if our dataset's distribution is **balanced or imbalanced** as this will **guide us on how we will treat our data** as well as the **algorithm selection** process."
   ]
  },
  {
   "cell_type": "code",
   "execution_count": 7,
   "id": "88fc4e3b",
   "metadata": {},
   "outputs": [
    {
     "data": {
      "text/plain": [
       "0    14358\n",
       "1    12700\n",
       "Name: is_sarcastic, dtype: int64"
      ]
     },
     "execution_count": 7,
     "metadata": {},
     "output_type": "execute_result"
    }
   ],
   "source": [
    "# check label distribution\n",
    "df['is_sarcastic'].value_counts()"
   ]
  },
  {
   "cell_type": "markdown",
   "id": "4b997acd",
   "metadata": {},
   "source": [
    "As we can see, **our dataset is well-balanced**."
   ]
  },
  {
   "cell_type": "markdown",
   "id": "f6030789",
   "metadata": {},
   "source": [
    "We can **visualize the sarcastic and non-sarcastic headlines** in our datasets using a **wordcloud**."
   ]
  },
  {
   "cell_type": "code",
   "execution_count": 8,
   "id": "0424ddc4",
   "metadata": {
    "scrolled": true
   },
   "outputs": [
    {
     "data": {
      "image/png": "[encoded data removed]",
      "text/plain": [
       "<Figure size 432x288 with 1 Axes>"
      ]
     },
     "metadata": {},
     "output_type": "display_data"
    }
   ],
   "source": [
    "# generate a wordcloud for sarcastic headlines\n",
    "sarcasm_wordcloud = WordCloud(width=512, height=512).generate(' '.join(df['headline'][df['is_sarcastic']==1]))\n",
    "plt.figure(figsize=(6, 4), facecolor='k')\n",
    "plt.imshow(sarcasm_wordcloud)\n",
    "plt.axis('off')\n",
    "plt.tight_layout(pad=0)\n",
    "plt.show()"
   ]
  },
  {
   "cell_type": "code",
   "execution_count": 9,
   "id": "acc1bb92",
   "metadata": {},
   "outputs": [
    {
     "data": {
      "image/png": "[encoded data removed]",
      "text/plain": [
       "<Figure size 432x288 with 1 Axes>"
      ]
     },
     "metadata": {},
     "output_type": "display_data"
    }
   ],
   "source": [
    "# generate a wordcloud for non-sarcastic headlines\n",
    "nosarcasm_wordcloud = WordCloud(width=512, height=512).generate(' '.join(df['headline'][df['is_sarcastic']==0]))\n",
    "plt.figure(figsize=(6, 4), facecolor='k')\n",
    "plt.imshow(nosarcasm_wordcloud)\n",
    "plt.axis('off')\n",
    "plt.tight_layout(pad=0)\n",
    "plt.show()"
   ]
  },
  {
   "cell_type": "markdown",
   "id": "31f10512",
   "metadata": {},
   "source": [
    "<a name=\"Pipeline\"></a>\n",
    "# 3. NLP Pipeline"
   ]
  },
  {
   "cell_type": "markdown",
   "id": "f8a13b53",
   "metadata": {},
   "source": [
    "The steps below will form our **NLP pipeline** for building our NLP models:\n",
    "1. [Text Pre-Processing](#TextPre)\n",
    "1. [Train & Test Datasets](#SplitData)\n",
    "1. [Basic NLP Count-Based Features](#NLPCB)\n",
    "1. [Sentiment Analysis](#sentana)\n",
    "1. [Bag of Words](#BoW)\n",
    "1. [Build a Classification Model](#MLModel)"
   ]
  },
  {
   "cell_type": "markdown",
   "id": "89dd90fd",
   "metadata": {},
   "source": [
    "<a name=\"TextPre\"></a>\n",
    "## 3.1 Text Pre-Processing"
   ]
  },
  {
   "cell_type": "markdown",
   "id": "225b0973",
   "metadata": {},
   "source": [
    "Normally, our $1^{st}$ step would be to perform some **basic text pre-processing** like:\n",
    "* remove stopwords\n",
    "* remove punctuation\n",
    "* lower case characters\n",
    "* stip whitespace\n",
    "* expand contractions\n",
    "\n",
    "In this case **stopwords**, **punctuation** as well as **character casing** could provide information regarding the **tone of the headline**, thus we will keep them as it is."
   ]
  },
  {
   "cell_type": "code",
   "execution_count": 10,
   "id": "033ee9d3",
   "metadata": {},
   "outputs": [],
   "source": [
    "# load stopwords default nltk list\n",
    "stop_words = stopwords.words('english')\n",
    "\n",
    "def normalize_document(doc):\n",
    "    \"\"\"Normalize the document by performing basic text pre-processing tasks.\"\"\"\n",
    "\n",
    "    # remove special characters\n",
    "    doc = re.sub(r'[^a-zA-Z0-9\\s]', '', doc, re.I|re.A)\n",
    "    # remove trailing whitespace\n",
    "    nowhite = doc.strip()\n",
    "    # expand contractions\n",
    "    expanded = contractions.fix(nowhite)\n",
    "    # tokenize document\n",
    "    tokens = word_tokenize(expanded)\n",
    "    # remove stopwords\n",
    "    filtered_tokens = [token for token in tokens if token not in stop_words]\n",
    "    # re-create document from tokens\n",
    "    doc = ' '.join(filtered_tokens)\n",
    "    \n",
    "    return doc\n",
    "\n",
    "# vectorize function for faster computations\n",
    "normalize_corpus = np.vectorize(normalize_document)"
   ]
  },
  {
   "cell_type": "code",
   "execution_count": 11,
   "id": "9f022ece",
   "metadata": {},
   "outputs": [],
   "source": [
    "# normalize 'description colum'\n",
    "norm_corpus = normalize_corpus(list(df['headline']))"
   ]
  },
  {
   "cell_type": "code",
   "execution_count": 12,
   "id": "96399fcc",
   "metadata": {
    "scrolled": true
   },
   "outputs": [
    {
     "name": "stdout",
     "output_type": "stream",
     "text": [
      "The 'headline' column has 27058 rows.\n",
      "\n",
      "The first 5 headlines are:\n",
      "\n",
      "0    supreme court votes 7-2 to legalize all worldl...\n",
      "1    hungover man horrified to learn he made dozens...\n",
      "2    emily's list founder: women are the 'problem s...\n",
      "3        send your kids back to school with confidence\n",
      "4            watch: experts talk pesticides and health\n",
      "Name: headline, dtype: object\n"
     ]
    }
   ],
   "source": [
    "# check shape\n",
    "print(\"The 'headline' column has {} rows.\\n\".format(df.headline.shape[0]))\n",
    "\n",
    "# check first 5 rows\n",
    "print(\"The first 5 headlines are:\\n\\n{}\".format(df.headline.head()))"
   ]
  },
  {
   "cell_type": "markdown",
   "id": "7682f163",
   "metadata": {},
   "source": [
    "<a name=\"SplitData\"></a>\n",
    "## 3.2 Splitting Dataset"
   ]
  },
  {
   "cell_type": "code",
   "execution_count": 13,
   "id": "f7999143",
   "metadata": {},
   "outputs": [
    {
     "name": "stdout",
     "output_type": "stream",
     "text": [
      "The training set has 21646 rows and the testing set has 5412 rows.\n",
      "\n",
      "The label distribution is:\n",
      "\n",
      "Training set: Label 1 = 10189 | Label 0 = 11457.\n",
      "\n",
      "Test set: Label 1 = 2511 | Label 0 = 2901\n",
      "\n"
     ]
    }
   ],
   "source": [
    "# assign feature & target variables\n",
    "X = df.drop(['is_sarcastic'], axis = 1)\n",
    "y = df['is_sarcastic']\n",
    "\n",
    "# split dataset into training and test sets\n",
    "X_train, X_test, y_train, y_test = train_test_split(X, y, test_size=0.2, random_state=42)\n",
    "\n",
    "# check shape of train & test sets\n",
    "print(\"The training set has {} rows and the testing set has {} rows.\\n\".format(X_train.shape[0], X_test.shape[0]))\n",
    "\n",
    "# check label's distribution for each set\n",
    "print(\"The label distribution is:\\n\\nTraining set: Label 1 = {} | Label 0 = {}.\\n\\nTest set: Label 1 = {} | Label 0 = {}\\n\".\n",
    "      format(Counter(y_train)[1], Counter(y_train)[0], Counter(y_test)[1], Counter(y_test)[0]))"
   ]
  },
  {
   "cell_type": "markdown",
   "id": "d1b2a6b0",
   "metadata": {},
   "source": [
    "<a name=\"NLPCB\"></a>\n",
    "## 3.3 Basic NLP Count-based Features"
   ]
  },
  {
   "cell_type": "markdown",
   "id": "50d07674",
   "metadata": {},
   "source": [
    "A number of basic text based features can also be created which sometimes are helpful for **improving text classification models**. \n",
    "\n",
    "Some examples are:\n",
    "\n",
    "- __Word Count:__ total number of words in the documents\n",
    "- __Character Count:__ total number of characters in the documents\n",
    "- __Average Word Density:__ average length of the words used in the documents\n",
    "- __Puncutation Count:__ total number of punctuation marks in the documents\n",
    "- __Upper Case Count:__ total number of upper count words in the documents\n",
    "- __Title Word Count:__ total number of proper case (title) words in the documents\n",
    "\n",
    "**Note**: _The aforementioned information comes from [this](https://www.analyticsvidhya.com/blog/2018/04/a-comprehensive-guide-to-understand-and-implement-text-classification-in-python/) article._"
   ]
  },
  {
   "cell_type": "code",
   "execution_count": 14,
   "id": "38d854da",
   "metadata": {},
   "outputs": [
    {
     "data": {
      "text/html": [
       "<div>\n",
       "<style scoped>\n",
       "    .dataframe tbody tr th:only-of-type {\n",
       "        vertical-align: middle;\n",
       "    }\n",
       "\n",
       "    .dataframe tbody tr th {\n",
       "        vertical-align: top;\n",
       "    }\n",
       "\n",
       "    .dataframe thead th {\n",
       "        text-align: right;\n",
       "    }\n",
       "</style>\n",
       "<table border=\"1\" class=\"dataframe\">\n",
       "  <thead>\n",
       "    <tr style=\"text-align: right;\">\n",
       "      <th></th>\n",
       "      <th>headline</th>\n",
       "      <th>is_sarcastic</th>\n",
       "    </tr>\n",
       "  </thead>\n",
       "  <tbody>\n",
       "    <tr>\n",
       "      <th>0</th>\n",
       "      <td>supreme court votes 7-2 to legalize all worldl...</td>\n",
       "      <td>1</td>\n",
       "    </tr>\n",
       "    <tr>\n",
       "      <th>1</th>\n",
       "      <td>hungover man horrified to learn he made dozens...</td>\n",
       "      <td>1</td>\n",
       "    </tr>\n",
       "    <tr>\n",
       "      <th>2</th>\n",
       "      <td>emily's list founder: women are the 'problem s...</td>\n",
       "      <td>0</td>\n",
       "    </tr>\n",
       "    <tr>\n",
       "      <th>3</th>\n",
       "      <td>send your kids back to school with confidence</td>\n",
       "      <td>0</td>\n",
       "    </tr>\n",
       "    <tr>\n",
       "      <th>4</th>\n",
       "      <td>watch: experts talk pesticides and health</td>\n",
       "      <td>0</td>\n",
       "    </tr>\n",
       "    <tr>\n",
       "      <th>...</th>\n",
       "      <td>...</td>\n",
       "      <td>...</td>\n",
       "    </tr>\n",
       "    <tr>\n",
       "      <th>44243</th>\n",
       "      <td>gated community under siege by savages</td>\n",
       "      <td>1</td>\n",
       "    </tr>\n",
       "    <tr>\n",
       "      <th>44245</th>\n",
       "      <td>watching the world destroy itself</td>\n",
       "      <td>0</td>\n",
       "    </tr>\n",
       "    <tr>\n",
       "      <th>44249</th>\n",
       "      <td>fucker riding man's ass whole way out to cleve...</td>\n",
       "      <td>1</td>\n",
       "    </tr>\n",
       "    <tr>\n",
       "      <th>44250</th>\n",
       "      <td>pushy hermit crab girlfriend wants to move in</td>\n",
       "      <td>1</td>\n",
       "    </tr>\n",
       "    <tr>\n",
       "      <th>44253</th>\n",
       "      <td>coworker retreats to remote corner of office t...</td>\n",
       "      <td>1</td>\n",
       "    </tr>\n",
       "  </tbody>\n",
       "</table>\n",
       "<p>27058 rows × 2 columns</p>\n",
       "</div>"
      ],
      "text/plain": [
       "                                                headline  is_sarcastic\n",
       "0      supreme court votes 7-2 to legalize all worldl...             1\n",
       "1      hungover man horrified to learn he made dozens...             1\n",
       "2      emily's list founder: women are the 'problem s...             0\n",
       "3          send your kids back to school with confidence             0\n",
       "4              watch: experts talk pesticides and health             0\n",
       "...                                                  ...           ...\n",
       "44243             gated community under siege by savages             1\n",
       "44245                  watching the world destroy itself             0\n",
       "44249  fucker riding man's ass whole way out to cleve...             1\n",
       "44250      pushy hermit crab girlfriend wants to move in             1\n",
       "44253  coworker retreats to remote corner of office t...             1\n",
       "\n",
       "[27058 rows x 2 columns]"
      ]
     },
     "execution_count": 14,
     "metadata": {},
     "output_type": "execute_result"
    }
   ],
   "source": [
    "# check df\n",
    "df"
   ]
  },
  {
   "cell_type": "code",
   "execution_count": 15,
   "id": "f54c80b3",
   "metadata": {},
   "outputs": [],
   "source": [
    "# calculate total number of characters\n",
    "X_train['char_count'] = X_train['headline'].apply(len)\n",
    "# calculate total number of words\n",
    "X_train['word_count'] = X_train['headline'].apply(lambda x: len(x.split()))\n",
    "# # calculate average word density\n",
    "X_train['word_density'] = X_train['char_count'] / (X_train['word_count']+1)\n",
    "# calculate total number of punctuaction marks\n",
    "X_train['punctuation_count'] = X_train['headline'].apply(lambda x: len(\"\".join(_ for _ in x if _ in string.punctuation)))\n",
    "# calculate total number of title-cased words\n",
    "X_train['title_word_count'] = X_train['headline'].apply(lambda x: len([wrd for wrd in x.split() if wrd.istitle()]))\n",
    "# calculate total number of upper-cased words\n",
    "X_train['upper_case_word_count'] = X_train['headline'].apply(lambda x: len([wrd for wrd in x.split() if wrd.isupper()]))\n",
    "\n",
    "# calculate total number of characters\n",
    "X_test['char_count'] = X_test['headline'].apply(len)\n",
    "# calculate total number of words\n",
    "X_test['word_count'] = X_test['headline'].apply(lambda x: len(x.split()))\n",
    "# calculate average word density\n",
    "X_test['word_density'] = X_test['char_count'] / (X_test['word_count']+1)\n",
    "# calculate total number of punctuaction marks\n",
    "X_test['punctuation_count'] = X_test['headline'].apply(lambda x: len(\"\".join(_ for _ in x if _ in string.punctuation))) \n",
    "# calculate total number of title-cased words\n",
    "X_test['title_word_count'] = X_test['headline'].apply(lambda x: len([wrd for wrd in x.split() if wrd.istitle()]))\n",
    "# calculate total number of upper-cased words\n",
    "X_test['upper_case_word_count'] = X_test['headline'].apply(lambda x: len([wrd for wrd in x.split() if wrd.isupper()]))"
   ]
  },
  {
   "cell_type": "code",
   "execution_count": 16,
   "id": "19e0774f",
   "metadata": {
    "scrolled": true
   },
   "outputs": [
    {
     "data": {
      "text/html": [
       "<div>\n",
       "<style scoped>\n",
       "    .dataframe tbody tr th:only-of-type {\n",
       "        vertical-align: middle;\n",
       "    }\n",
       "\n",
       "    .dataframe tbody tr th {\n",
       "        vertical-align: top;\n",
       "    }\n",
       "\n",
       "    .dataframe thead th {\n",
       "        text-align: right;\n",
       "    }\n",
       "</style>\n",
       "<table border=\"1\" class=\"dataframe\">\n",
       "  <thead>\n",
       "    <tr style=\"text-align: right;\">\n",
       "      <th></th>\n",
       "      <th>headline</th>\n",
       "      <th>char_count</th>\n",
       "      <th>word_count</th>\n",
       "      <th>word_density</th>\n",
       "      <th>punctuation_count</th>\n",
       "      <th>title_word_count</th>\n",
       "      <th>upper_case_word_count</th>\n",
       "    </tr>\n",
       "  </thead>\n",
       "  <tbody>\n",
       "    <tr>\n",
       "      <th>20316</th>\n",
       "      <td>frazzled robert mueller walking around with pi...</td>\n",
       "      <td>100</td>\n",
       "      <td>15</td>\n",
       "      <td>6.250000</td>\n",
       "      <td>0</td>\n",
       "      <td>0</td>\n",
       "      <td>0</td>\n",
       "    </tr>\n",
       "    <tr>\n",
       "      <th>22430</th>\n",
       "      <td>ballet hispánico is giving latino artists a vo...</td>\n",
       "      <td>62</td>\n",
       "      <td>10</td>\n",
       "      <td>5.636364</td>\n",
       "      <td>0</td>\n",
       "      <td>0</td>\n",
       "      <td>0</td>\n",
       "    </tr>\n",
       "    <tr>\n",
       "      <th>3637</th>\n",
       "      <td>porn actress very nearly appears to enjoy ejac...</td>\n",
       "      <td>61</td>\n",
       "      <td>10</td>\n",
       "      <td>5.545455</td>\n",
       "      <td>0</td>\n",
       "      <td>0</td>\n",
       "      <td>0</td>\n",
       "    </tr>\n",
       "    <tr>\n",
       "      <th>22481</th>\n",
       "      <td>less than half of the money pledged to fight e...</td>\n",
       "      <td>77</td>\n",
       "      <td>13</td>\n",
       "      <td>5.500000</td>\n",
       "      <td>0</td>\n",
       "      <td>0</td>\n",
       "      <td>0</td>\n",
       "    </tr>\n",
       "    <tr>\n",
       "      <th>8211</th>\n",
       "      <td>smoking ban collapses fragile prison economy</td>\n",
       "      <td>44</td>\n",
       "      <td>6</td>\n",
       "      <td>6.285714</td>\n",
       "      <td>0</td>\n",
       "      <td>0</td>\n",
       "      <td>0</td>\n",
       "    </tr>\n",
       "  </tbody>\n",
       "</table>\n",
       "</div>"
      ],
      "text/plain": [
       "                                                headline  char_count  \\\n",
       "20316  frazzled robert mueller walking around with pi...         100   \n",
       "22430  ballet hispánico is giving latino artists a vo...          62   \n",
       "3637   porn actress very nearly appears to enjoy ejac...          61   \n",
       "22481  less than half of the money pledged to fight e...          77   \n",
       "8211        smoking ban collapses fragile prison economy          44   \n",
       "\n",
       "       word_count  word_density  punctuation_count  title_word_count  \\\n",
       "20316          15      6.250000                  0                 0   \n",
       "22430          10      5.636364                  0                 0   \n",
       "3637           10      5.545455                  0                 0   \n",
       "22481          13      5.500000                  0                 0   \n",
       "8211            6      6.285714                  0                 0   \n",
       "\n",
       "       upper_case_word_count  \n",
       "20316                      0  \n",
       "22430                      0  \n",
       "3637                       0  \n",
       "22481                      0  \n",
       "8211                       0  "
      ]
     },
     "execution_count": 16,
     "metadata": {},
     "output_type": "execute_result"
    }
   ],
   "source": [
    "# check df\n",
    "X_train.head()"
   ]
  },
  {
   "cell_type": "markdown",
   "id": "e9f1e7e1",
   "metadata": {},
   "source": [
    "It seems that **all characters** in the headline column **are already lower-cased**, thus we will discard the `title_word_count` and `upper_case_word_count` columns."
   ]
  },
  {
   "cell_type": "code",
   "execution_count": 17,
   "id": "e6cb6d32",
   "metadata": {
    "scrolled": true
   },
   "outputs": [
    {
     "data": {
      "text/html": [
       "<div>\n",
       "<style scoped>\n",
       "    .dataframe tbody tr th:only-of-type {\n",
       "        vertical-align: middle;\n",
       "    }\n",
       "\n",
       "    .dataframe tbody tr th {\n",
       "        vertical-align: top;\n",
       "    }\n",
       "\n",
       "    .dataframe thead th {\n",
       "        text-align: right;\n",
       "    }\n",
       "</style>\n",
       "<table border=\"1\" class=\"dataframe\">\n",
       "  <thead>\n",
       "    <tr style=\"text-align: right;\">\n",
       "      <th></th>\n",
       "      <th>headline</th>\n",
       "      <th>char_count</th>\n",
       "      <th>word_count</th>\n",
       "      <th>word_density</th>\n",
       "      <th>punctuation_count</th>\n",
       "    </tr>\n",
       "  </thead>\n",
       "  <tbody>\n",
       "    <tr>\n",
       "      <th>20316</th>\n",
       "      <td>frazzled robert mueller walking around with pi...</td>\n",
       "      <td>100</td>\n",
       "      <td>15</td>\n",
       "      <td>6.250000</td>\n",
       "      <td>0</td>\n",
       "    </tr>\n",
       "    <tr>\n",
       "      <th>22430</th>\n",
       "      <td>ballet hispánico is giving latino artists a vo...</td>\n",
       "      <td>62</td>\n",
       "      <td>10</td>\n",
       "      <td>5.636364</td>\n",
       "      <td>0</td>\n",
       "    </tr>\n",
       "    <tr>\n",
       "      <th>3637</th>\n",
       "      <td>porn actress very nearly appears to enjoy ejac...</td>\n",
       "      <td>61</td>\n",
       "      <td>10</td>\n",
       "      <td>5.545455</td>\n",
       "      <td>0</td>\n",
       "    </tr>\n",
       "    <tr>\n",
       "      <th>22481</th>\n",
       "      <td>less than half of the money pledged to fight e...</td>\n",
       "      <td>77</td>\n",
       "      <td>13</td>\n",
       "      <td>5.500000</td>\n",
       "      <td>0</td>\n",
       "    </tr>\n",
       "    <tr>\n",
       "      <th>8211</th>\n",
       "      <td>smoking ban collapses fragile prison economy</td>\n",
       "      <td>44</td>\n",
       "      <td>6</td>\n",
       "      <td>6.285714</td>\n",
       "      <td>0</td>\n",
       "    </tr>\n",
       "  </tbody>\n",
       "</table>\n",
       "</div>"
      ],
      "text/plain": [
       "                                                headline  char_count  \\\n",
       "20316  frazzled robert mueller walking around with pi...         100   \n",
       "22430  ballet hispánico is giving latino artists a vo...          62   \n",
       "3637   porn actress very nearly appears to enjoy ejac...          61   \n",
       "22481  less than half of the money pledged to fight e...          77   \n",
       "8211        smoking ban collapses fragile prison economy          44   \n",
       "\n",
       "       word_count  word_density  punctuation_count  \n",
       "20316          15      6.250000                  0  \n",
       "22430          10      5.636364                  0  \n",
       "3637           10      5.545455                  0  \n",
       "22481          13      5.500000                  0  \n",
       "8211            6      6.285714                  0  "
      ]
     },
     "execution_count": 17,
     "metadata": {},
     "output_type": "execute_result"
    }
   ],
   "source": [
    "# remove columns\n",
    "X_train.drop(columns=['title_word_count', 'upper_case_word_count'], inplace=True, axis=0)\n",
    "X_test.drop(columns=['title_word_count', 'upper_case_word_count'], inplace=True, axis=0)\n",
    "# check df\n",
    "X_train.head()"
   ]
  },
  {
   "cell_type": "markdown",
   "id": "24272973",
   "metadata": {},
   "source": [
    "<a name=\"sentana\"></a>\n",
    "## 3.4 Sentiment Analysis "
   ]
  },
  {
   "cell_type": "markdown",
   "id": "bcc2ce8f",
   "metadata": {},
   "source": [
    "We want to **detect sarcasm** which is a very difficult task as it is highly **subjective**, **opinionated** and people often **express strong emotions** and **feelings** through it. \n",
    "\n",
    "This makes it a classic case where the text documents here are a good candidate for **extracting sentiment as a feature**.\n",
    "\n",
    "The general expectation is that a **sarcastic headline** (label 1) should have a **negative sentiment** and a **non-sarcastic headline** (label 0) should have a **positive sentiment**.\n",
    "\n",
    "**`TextBlob`** is an excellent open-source library for performing **sentiment analysis** based on a **sentiment lexicon** which leverages to give both **polarity and subjectivity scores**. \n",
    "\n",
    "- The **polarity score** is a float within the range [-1.0, 1.0]. \n",
    "- The **subjectivity** is a float within the range [0.0, 1.0] where 0.0 is very objective and 1.0 is very subjective. \n",
    "\n",
    "This is **unsupervised**, **lexicon-based sentiment analysis** where **we don't have any pre-labeled data** saying which review migth have a positive or negative sentiment. \n",
    "\n",
    "**Note**: _The above information come from [this](https://towardsdatascience.com/a-practitioners-guide-to-natural-language-processing-part-i-processing-understanding-text-9f4abfd13e72) article._"
   ]
  },
  {
   "cell_type": "code",
   "execution_count": 18,
   "id": "e862889b",
   "metadata": {},
   "outputs": [],
   "source": [
    "# calculate review's sentiment \n",
    "x_train_snt_obj = X_train['headline'].apply(lambda row: TextBlob(row).sentiment)\n",
    "# create a column for polarity scores\n",
    "X_train['Polarity'] = [obj.polarity for obj in x_train_snt_obj.values]\n",
    "# create a column for subjectivity scores\n",
    "X_train['Subjectivity'] = [obj.subjectivity for obj in x_train_snt_obj.values]\n",
    "\n",
    "# calculate review's sentiment \n",
    "x_test_snt_obj = X_test['headline'].apply(lambda row: TextBlob(row).sentiment)\n",
    "# create a column for polarity scores\n",
    "X_test['Polarity'] = [obj.polarity for obj in x_test_snt_obj.values]\n",
    "# create a column for subjectivity scores\n",
    "X_test['Subjectivity'] = [obj.subjectivity for obj in x_test_snt_obj.values]"
   ]
  },
  {
   "cell_type": "code",
   "execution_count": 19,
   "id": "c5e5e048",
   "metadata": {
    "scrolled": false
   },
   "outputs": [
    {
     "data": {
      "text/html": [
       "<div>\n",
       "<style scoped>\n",
       "    .dataframe tbody tr th:only-of-type {\n",
       "        vertical-align: middle;\n",
       "    }\n",
       "\n",
       "    .dataframe tbody tr th {\n",
       "        vertical-align: top;\n",
       "    }\n",
       "\n",
       "    .dataframe thead th {\n",
       "        text-align: right;\n",
       "    }\n",
       "</style>\n",
       "<table border=\"1\" class=\"dataframe\">\n",
       "  <thead>\n",
       "    <tr style=\"text-align: right;\">\n",
       "      <th></th>\n",
       "      <th>headline</th>\n",
       "      <th>char_count</th>\n",
       "      <th>word_count</th>\n",
       "      <th>word_density</th>\n",
       "      <th>punctuation_count</th>\n",
       "      <th>Polarity</th>\n",
       "      <th>Subjectivity</th>\n",
       "    </tr>\n",
       "  </thead>\n",
       "  <tbody>\n",
       "    <tr>\n",
       "      <th>20316</th>\n",
       "      <td>frazzled robert mueller walking around with pi...</td>\n",
       "      <td>100</td>\n",
       "      <td>15</td>\n",
       "      <td>6.250000</td>\n",
       "      <td>0</td>\n",
       "      <td>0.000000</td>\n",
       "      <td>0.000000</td>\n",
       "    </tr>\n",
       "    <tr>\n",
       "      <th>22430</th>\n",
       "      <td>ballet hispánico is giving latino artists a vo...</td>\n",
       "      <td>62</td>\n",
       "      <td>10</td>\n",
       "      <td>5.636364</td>\n",
       "      <td>0</td>\n",
       "      <td>0.000000</td>\n",
       "      <td>0.000000</td>\n",
       "    </tr>\n",
       "    <tr>\n",
       "      <th>3637</th>\n",
       "      <td>porn actress very nearly appears to enjoy ejac...</td>\n",
       "      <td>61</td>\n",
       "      <td>10</td>\n",
       "      <td>5.545455</td>\n",
       "      <td>0</td>\n",
       "      <td>0.265000</td>\n",
       "      <td>0.510000</td>\n",
       "    </tr>\n",
       "    <tr>\n",
       "      <th>22481</th>\n",
       "      <td>less than half of the money pledged to fight e...</td>\n",
       "      <td>77</td>\n",
       "      <td>13</td>\n",
       "      <td>5.500000</td>\n",
       "      <td>0</td>\n",
       "      <td>-0.166667</td>\n",
       "      <td>0.116667</td>\n",
       "    </tr>\n",
       "    <tr>\n",
       "      <th>8211</th>\n",
       "      <td>smoking ban collapses fragile prison economy</td>\n",
       "      <td>44</td>\n",
       "      <td>6</td>\n",
       "      <td>6.285714</td>\n",
       "      <td>0</td>\n",
       "      <td>0.000000</td>\n",
       "      <td>0.500000</td>\n",
       "    </tr>\n",
       "  </tbody>\n",
       "</table>\n",
       "</div>"
      ],
      "text/plain": [
       "                                                headline  char_count  \\\n",
       "20316  frazzled robert mueller walking around with pi...         100   \n",
       "22430  ballet hispánico is giving latino artists a vo...          62   \n",
       "3637   porn actress very nearly appears to enjoy ejac...          61   \n",
       "22481  less than half of the money pledged to fight e...          77   \n",
       "8211        smoking ban collapses fragile prison economy          44   \n",
       "\n",
       "       word_count  word_density  punctuation_count  Polarity  Subjectivity  \n",
       "20316          15      6.250000                  0  0.000000      0.000000  \n",
       "22430          10      5.636364                  0  0.000000      0.000000  \n",
       "3637           10      5.545455                  0  0.265000      0.510000  \n",
       "22481          13      5.500000                  0 -0.166667      0.116667  \n",
       "8211            6      6.285714                  0  0.000000      0.500000  "
      ]
     },
     "execution_count": 19,
     "metadata": {},
     "output_type": "execute_result"
    }
   ],
   "source": [
    "# check df\n",
    "X_train.head()"
   ]
  },
  {
   "cell_type": "markdown",
   "id": "7b4e2946",
   "metadata": {},
   "source": [
    "<a name=\"BoW\"></a>\n",
    "## 3.5 Bag of Words"
   ]
  },
  {
   "cell_type": "markdown",
   "id": "4beec7d6",
   "metadata": {},
   "source": [
    "This is perhaps the most simple vector space representational model for unstructured text. A vector space model is simply a mathematical model to **represent unstructured text as numeric vectors**, such that each dimension of the vector is a specific feature\\attribute. \n",
    "\n",
    "\n",
    "**Note**: _The above information come from [this](https://towardsdatascience.com/understanding-feature-engineering-part-3-traditional-methods-for-text-data-f6f7d70acd41) article._"
   ]
  },
  {
   "cell_type": "code",
   "execution_count": 20,
   "id": "5d64572f",
   "metadata": {},
   "outputs": [],
   "source": [
    "# load stopwords default nltk list\n",
    "stop_words = stopwords.words('english')\n",
    "\n",
    "# load up a simple porter stemmer - nothing fancy\n",
    "ps = PorterStemmer()\n",
    "\n",
    "def simple_text_preprocessor(document):\n",
    "    \"\"\"Perform basic text pre-processing tasks.\"\"\"\n",
    "    \n",
    "    # lower case\n",
    "    document = str(document).lower()\n",
    "    \n",
    "    # expand contractions\n",
    "    document = contractions.fix(document)\n",
    "    \n",
    "    # remove unnecessary characters\n",
    "    document = re.sub(r'[^a-zA-Z]',r' ', document)\n",
    "    document = re.sub(r'nbsp', r'', document)\n",
    "    document = re.sub(' +', ' ', document)\n",
    "    \n",
    "    # simple porter stemming\n",
    "    document = ' '.join([ps.stem(word) for word in document.split()])\n",
    "    \n",
    "    # stopwords removal\n",
    "    document = ' '.join([word for word in document.split() if word not in stop_words])\n",
    "    \n",
    "    return document\n",
    "\n",
    "# vectorize function\n",
    "stp = np.vectorize(simple_text_preprocessor)"
   ]
  },
  {
   "cell_type": "code",
   "execution_count": 21,
   "id": "454d55c4",
   "metadata": {},
   "outputs": [
    {
     "data": {
      "text/html": [
       "<div>\n",
       "<style scoped>\n",
       "    .dataframe tbody tr th:only-of-type {\n",
       "        vertical-align: middle;\n",
       "    }\n",
       "\n",
       "    .dataframe tbody tr th {\n",
       "        vertical-align: top;\n",
       "    }\n",
       "\n",
       "    .dataframe thead th {\n",
       "        text-align: right;\n",
       "    }\n",
       "</style>\n",
       "<table border=\"1\" class=\"dataframe\">\n",
       "  <thead>\n",
       "    <tr style=\"text-align: right;\">\n",
       "      <th></th>\n",
       "      <th>headline</th>\n",
       "      <th>char_count</th>\n",
       "      <th>word_count</th>\n",
       "      <th>word_density</th>\n",
       "      <th>punctuation_count</th>\n",
       "      <th>Polarity</th>\n",
       "      <th>Subjectivity</th>\n",
       "      <th>Clean Headline</th>\n",
       "    </tr>\n",
       "  </thead>\n",
       "  <tbody>\n",
       "    <tr>\n",
       "      <th>20316</th>\n",
       "      <td>frazzled robert mueller walking around with pi...</td>\n",
       "      <td>100</td>\n",
       "      <td>15</td>\n",
       "      <td>6.250000</td>\n",
       "      <td>0</td>\n",
       "      <td>0.000000</td>\n",
       "      <td>0.000000</td>\n",
       "      <td>frazzl robert mueller walk around piec russia ...</td>\n",
       "    </tr>\n",
       "    <tr>\n",
       "      <th>22430</th>\n",
       "      <td>ballet hispánico is giving latino artists a vo...</td>\n",
       "      <td>62</td>\n",
       "      <td>10</td>\n",
       "      <td>5.636364</td>\n",
       "      <td>0</td>\n",
       "      <td>0.000000</td>\n",
       "      <td>0.000000</td>\n",
       "      <td>ballet hisp nico give latino artist voic deserv</td>\n",
       "    </tr>\n",
       "    <tr>\n",
       "      <th>3637</th>\n",
       "      <td>porn actress very nearly appears to enjoy ejac...</td>\n",
       "      <td>61</td>\n",
       "      <td>10</td>\n",
       "      <td>5.545455</td>\n",
       "      <td>0</td>\n",
       "      <td>0.265000</td>\n",
       "      <td>0.510000</td>\n",
       "      <td>porn actress veri nearli appear enjoy ejacul face</td>\n",
       "    </tr>\n",
       "    <tr>\n",
       "      <th>22481</th>\n",
       "      <td>less than half of the money pledged to fight e...</td>\n",
       "      <td>77</td>\n",
       "      <td>13</td>\n",
       "      <td>5.500000</td>\n",
       "      <td>0</td>\n",
       "      <td>-0.166667</td>\n",
       "      <td>0.116667</td>\n",
       "      <td>less half money pledg fight ebola reach affect...</td>\n",
       "    </tr>\n",
       "    <tr>\n",
       "      <th>8211</th>\n",
       "      <td>smoking ban collapses fragile prison economy</td>\n",
       "      <td>44</td>\n",
       "      <td>6</td>\n",
       "      <td>6.285714</td>\n",
       "      <td>0</td>\n",
       "      <td>0.000000</td>\n",
       "      <td>0.500000</td>\n",
       "      <td>smoke ban collaps fragil prison economi</td>\n",
       "    </tr>\n",
       "  </tbody>\n",
       "</table>\n",
       "</div>"
      ],
      "text/plain": [
       "                                                headline  char_count  \\\n",
       "20316  frazzled robert mueller walking around with pi...         100   \n",
       "22430  ballet hispánico is giving latino artists a vo...          62   \n",
       "3637   porn actress very nearly appears to enjoy ejac...          61   \n",
       "22481  less than half of the money pledged to fight e...          77   \n",
       "8211        smoking ban collapses fragile prison economy          44   \n",
       "\n",
       "       word_count  word_density  punctuation_count  Polarity  Subjectivity  \\\n",
       "20316          15      6.250000                  0  0.000000      0.000000   \n",
       "22430          10      5.636364                  0  0.000000      0.000000   \n",
       "3637           10      5.545455                  0  0.265000      0.510000   \n",
       "22481          13      5.500000                  0 -0.166667      0.116667   \n",
       "8211            6      6.285714                  0  0.000000      0.500000   \n",
       "\n",
       "                                          Clean Headline  \n",
       "20316  frazzl robert mueller walk around piec russia ...  \n",
       "22430    ballet hisp nico give latino artist voic deserv  \n",
       "3637   porn actress veri nearli appear enjoy ejacul face  \n",
       "22481  less half money pledg fight ebola reach affect...  \n",
       "8211             smoke ban collaps fragil prison economi  "
      ]
     },
     "execution_count": 21,
     "metadata": {},
     "output_type": "execute_result"
    }
   ],
   "source": [
    "# create a new column with cleaned text\n",
    "X_train['Clean Headline'] = stp(X_train['headline'].values)\n",
    "X_test['Clean Headline'] = stp(X_test['headline'].values)\n",
    "\n",
    "# check first 5 rows\n",
    "X_train.head()"
   ]
  },
  {
   "cell_type": "code",
   "execution_count": 22,
   "id": "dffc7891",
   "metadata": {
    "scrolled": true
   },
   "outputs": [
    {
     "data": {
      "text/html": [
       "<div>\n",
       "<style scoped>\n",
       "    .dataframe tbody tr th:only-of-type {\n",
       "        vertical-align: middle;\n",
       "    }\n",
       "\n",
       "    .dataframe tbody tr th {\n",
       "        vertical-align: top;\n",
       "    }\n",
       "\n",
       "    .dataframe thead th {\n",
       "        text-align: right;\n",
       "    }\n",
       "</style>\n",
       "<table border=\"1\" class=\"dataframe\">\n",
       "  <thead>\n",
       "    <tr style=\"text-align: right;\">\n",
       "      <th></th>\n",
       "      <th>char_count</th>\n",
       "      <th>word_count</th>\n",
       "      <th>word_density</th>\n",
       "      <th>punctuation_count</th>\n",
       "      <th>Polarity</th>\n",
       "      <th>Subjectivity</th>\n",
       "    </tr>\n",
       "  </thead>\n",
       "  <tbody>\n",
       "    <tr>\n",
       "      <th>0</th>\n",
       "      <td>100</td>\n",
       "      <td>15</td>\n",
       "      <td>6.250000</td>\n",
       "      <td>0</td>\n",
       "      <td>0.000000</td>\n",
       "      <td>0.000000</td>\n",
       "    </tr>\n",
       "    <tr>\n",
       "      <th>1</th>\n",
       "      <td>62</td>\n",
       "      <td>10</td>\n",
       "      <td>5.636364</td>\n",
       "      <td>0</td>\n",
       "      <td>0.000000</td>\n",
       "      <td>0.000000</td>\n",
       "    </tr>\n",
       "    <tr>\n",
       "      <th>2</th>\n",
       "      <td>61</td>\n",
       "      <td>10</td>\n",
       "      <td>5.545455</td>\n",
       "      <td>0</td>\n",
       "      <td>0.265000</td>\n",
       "      <td>0.510000</td>\n",
       "    </tr>\n",
       "    <tr>\n",
       "      <th>3</th>\n",
       "      <td>77</td>\n",
       "      <td>13</td>\n",
       "      <td>5.500000</td>\n",
       "      <td>0</td>\n",
       "      <td>-0.166667</td>\n",
       "      <td>0.116667</td>\n",
       "    </tr>\n",
       "    <tr>\n",
       "      <th>4</th>\n",
       "      <td>44</td>\n",
       "      <td>6</td>\n",
       "      <td>6.285714</td>\n",
       "      <td>0</td>\n",
       "      <td>0.000000</td>\n",
       "      <td>0.500000</td>\n",
       "    </tr>\n",
       "  </tbody>\n",
       "</table>\n",
       "</div>"
      ],
      "text/plain": [
       "   char_count  word_count  word_density  punctuation_count  Polarity  \\\n",
       "0         100          15      6.250000                  0  0.000000   \n",
       "1          62          10      5.636364                  0  0.000000   \n",
       "2          61          10      5.545455                  0  0.265000   \n",
       "3          77          13      5.500000                  0 -0.166667   \n",
       "4          44           6      6.285714                  0  0.000000   \n",
       "\n",
       "   Subjectivity  \n",
       "0      0.000000  \n",
       "1      0.000000  \n",
       "2      0.510000  \n",
       "3      0.116667  \n",
       "4      0.500000  "
      ]
     },
     "execution_count": 22,
     "metadata": {},
     "output_type": "execute_result"
    }
   ],
   "source": [
    "# remove the 2 columns\n",
    "X_train_metadata = X_train.drop(['headline', 'Clean Headline'], axis=1).reset_index(drop=True)\n",
    "X_test_metadata = X_test.drop(['headline', 'Clean Headline'], axis=1).reset_index(drop=True)\n",
    "\n",
    "# check first 5 rows\n",
    "X_train_metadata.head()"
   ]
  },
  {
   "cell_type": "code",
   "execution_count": 23,
   "id": "382e3948",
   "metadata": {
    "scrolled": true
   },
   "outputs": [
    {
     "data": {
      "text/html": [
       "<div>\n",
       "<style scoped>\n",
       "    .dataframe tbody tr th:only-of-type {\n",
       "        vertical-align: middle;\n",
       "    }\n",
       "\n",
       "    .dataframe tbody tr th {\n",
       "        vertical-align: top;\n",
       "    }\n",
       "\n",
       "    .dataframe thead th {\n",
       "        text-align: right;\n",
       "    }\n",
       "</style>\n",
       "<table border=\"1\" class=\"dataframe\">\n",
       "  <thead>\n",
       "    <tr style=\"text-align: right;\">\n",
       "      <th></th>\n",
       "      <th>aaa</th>\n",
       "      <th>aaron</th>\n",
       "      <th>aarp</th>\n",
       "      <th>aatish</th>\n",
       "      <th>ab</th>\n",
       "      <th>abandon</th>\n",
       "      <th>abaya</th>\n",
       "      <th>abba</th>\n",
       "      <th>abbey</th>\n",
       "      <th>abbi</th>\n",
       "      <th>...</th>\n",
       "      <th>zogbi</th>\n",
       "      <th>zohan</th>\n",
       "      <th>zombi</th>\n",
       "      <th>zone</th>\n",
       "      <th>zoo</th>\n",
       "      <th>zookeep</th>\n",
       "      <th>zoologist</th>\n",
       "      <th>zoom</th>\n",
       "      <th>zucker</th>\n",
       "      <th>zuckerberg</th>\n",
       "    </tr>\n",
       "  </thead>\n",
       "  <tbody>\n",
       "    <tr>\n",
       "      <th>0</th>\n",
       "      <td>0</td>\n",
       "      <td>0</td>\n",
       "      <td>0</td>\n",
       "      <td>0</td>\n",
       "      <td>0</td>\n",
       "      <td>0</td>\n",
       "      <td>0</td>\n",
       "      <td>0</td>\n",
       "      <td>0</td>\n",
       "      <td>0</td>\n",
       "      <td>...</td>\n",
       "      <td>0</td>\n",
       "      <td>0</td>\n",
       "      <td>0</td>\n",
       "      <td>0</td>\n",
       "      <td>0</td>\n",
       "      <td>0</td>\n",
       "      <td>0</td>\n",
       "      <td>0</td>\n",
       "      <td>0</td>\n",
       "      <td>0</td>\n",
       "    </tr>\n",
       "    <tr>\n",
       "      <th>1</th>\n",
       "      <td>0</td>\n",
       "      <td>0</td>\n",
       "      <td>0</td>\n",
       "      <td>0</td>\n",
       "      <td>0</td>\n",
       "      <td>0</td>\n",
       "      <td>0</td>\n",
       "      <td>0</td>\n",
       "      <td>0</td>\n",
       "      <td>0</td>\n",
       "      <td>...</td>\n",
       "      <td>0</td>\n",
       "      <td>0</td>\n",
       "      <td>0</td>\n",
       "      <td>0</td>\n",
       "      <td>0</td>\n",
       "      <td>0</td>\n",
       "      <td>0</td>\n",
       "      <td>0</td>\n",
       "      <td>0</td>\n",
       "      <td>0</td>\n",
       "    </tr>\n",
       "    <tr>\n",
       "      <th>2</th>\n",
       "      <td>0</td>\n",
       "      <td>0</td>\n",
       "      <td>0</td>\n",
       "      <td>0</td>\n",
       "      <td>0</td>\n",
       "      <td>0</td>\n",
       "      <td>0</td>\n",
       "      <td>0</td>\n",
       "      <td>0</td>\n",
       "      <td>0</td>\n",
       "      <td>...</td>\n",
       "      <td>0</td>\n",
       "      <td>0</td>\n",
       "      <td>0</td>\n",
       "      <td>0</td>\n",
       "      <td>0</td>\n",
       "      <td>0</td>\n",
       "      <td>0</td>\n",
       "      <td>0</td>\n",
       "      <td>0</td>\n",
       "      <td>0</td>\n",
       "    </tr>\n",
       "    <tr>\n",
       "      <th>3</th>\n",
       "      <td>0</td>\n",
       "      <td>0</td>\n",
       "      <td>0</td>\n",
       "      <td>0</td>\n",
       "      <td>0</td>\n",
       "      <td>0</td>\n",
       "      <td>0</td>\n",
       "      <td>0</td>\n",
       "      <td>0</td>\n",
       "      <td>0</td>\n",
       "      <td>...</td>\n",
       "      <td>0</td>\n",
       "      <td>0</td>\n",
       "      <td>0</td>\n",
       "      <td>0</td>\n",
       "      <td>0</td>\n",
       "      <td>0</td>\n",
       "      <td>0</td>\n",
       "      <td>0</td>\n",
       "      <td>0</td>\n",
       "      <td>0</td>\n",
       "    </tr>\n",
       "    <tr>\n",
       "      <th>4</th>\n",
       "      <td>0</td>\n",
       "      <td>0</td>\n",
       "      <td>0</td>\n",
       "      <td>0</td>\n",
       "      <td>0</td>\n",
       "      <td>0</td>\n",
       "      <td>0</td>\n",
       "      <td>0</td>\n",
       "      <td>0</td>\n",
       "      <td>0</td>\n",
       "      <td>...</td>\n",
       "      <td>0</td>\n",
       "      <td>0</td>\n",
       "      <td>0</td>\n",
       "      <td>0</td>\n",
       "      <td>0</td>\n",
       "      <td>0</td>\n",
       "      <td>0</td>\n",
       "      <td>0</td>\n",
       "      <td>0</td>\n",
       "      <td>0</td>\n",
       "    </tr>\n",
       "  </tbody>\n",
       "</table>\n",
       "<p>5 rows × 15616 columns</p>\n",
       "</div>"
      ],
      "text/plain": [
       "   aaa  aaron  aarp  aatish  ab  abandon  abaya  abba  abbey  abbi  ...  \\\n",
       "0    0      0     0       0   0        0      0     0      0     0  ...   \n",
       "1    0      0     0       0   0        0      0     0      0     0  ...   \n",
       "2    0      0     0       0   0        0      0     0      0     0  ...   \n",
       "3    0      0     0       0   0        0      0     0      0     0  ...   \n",
       "4    0      0     0       0   0        0      0     0      0     0  ...   \n",
       "\n",
       "   zogbi  zohan  zombi  zone  zoo  zookeep  zoologist  zoom  zucker  \\\n",
       "0      0      0      0     0    0        0          0     0       0   \n",
       "1      0      0      0     0    0        0          0     0       0   \n",
       "2      0      0      0     0    0        0          0     0       0   \n",
       "3      0      0      0     0    0        0          0     0       0   \n",
       "4      0      0      0     0    0        0          0     0       0   \n",
       "\n",
       "   zuckerberg  \n",
       "0           0  \n",
       "1           0  \n",
       "2           0  \n",
       "3           0  \n",
       "4           0  \n",
       "\n",
       "[5 rows x 15616 columns]"
      ]
     },
     "execution_count": 23,
     "metadata": {},
     "output_type": "execute_result"
    }
   ],
   "source": [
    "# instatiate vectorizer\n",
    "cv = CountVectorizer(min_df=0.0, max_df=1.0, ngram_range=(1, 1))\n",
    "\n",
    "# fit vectorizer to 'Clean Review' and convert it to numpy array\n",
    "X_traincv = cv.fit_transform(X_train['Clean Headline']).toarray()\n",
    "# create a pandas DataFrame\n",
    "X_traincv = pd.DataFrame(X_traincv, columns=cv.get_feature_names())\n",
    "\n",
    "# use vectorizer to transform 'Clean Review' and convert it to numpy array\n",
    "X_testcv = cv.transform(X_test['Clean Headline']).toarray()\n",
    "# create a pandas DataFrame\n",
    "X_testcv = pd.DataFrame(X_testcv, columns=cv.get_feature_names())\n",
    "\n",
    "# check first 5 rows\n",
    "X_traincv.head()"
   ]
  },
  {
   "cell_type": "markdown",
   "id": "b89b8e14",
   "metadata": {},
   "source": [
    "We now must **concatenate the 2 seperate DataFrames into a single DataFrame**, and **remove `headline` column**."
   ]
  },
  {
   "cell_type": "code",
   "execution_count": 24,
   "id": "1a138834",
   "metadata": {
    "scrolled": false
   },
   "outputs": [
    {
     "data": {
      "text/html": [
       "<div>\n",
       "<style scoped>\n",
       "    .dataframe tbody tr th:only-of-type {\n",
       "        vertical-align: middle;\n",
       "    }\n",
       "\n",
       "    .dataframe tbody tr th {\n",
       "        vertical-align: top;\n",
       "    }\n",
       "\n",
       "    .dataframe thead th {\n",
       "        text-align: right;\n",
       "    }\n",
       "</style>\n",
       "<table border=\"1\" class=\"dataframe\">\n",
       "  <thead>\n",
       "    <tr style=\"text-align: right;\">\n",
       "      <th></th>\n",
       "      <th>char_count</th>\n",
       "      <th>word_count</th>\n",
       "      <th>word_density</th>\n",
       "      <th>punctuation_count</th>\n",
       "      <th>Polarity</th>\n",
       "      <th>Subjectivity</th>\n",
       "      <th>aaa</th>\n",
       "      <th>aaron</th>\n",
       "      <th>aarp</th>\n",
       "      <th>aatish</th>\n",
       "      <th>...</th>\n",
       "      <th>zogbi</th>\n",
       "      <th>zohan</th>\n",
       "      <th>zombi</th>\n",
       "      <th>zone</th>\n",
       "      <th>zoo</th>\n",
       "      <th>zookeep</th>\n",
       "      <th>zoologist</th>\n",
       "      <th>zoom</th>\n",
       "      <th>zucker</th>\n",
       "      <th>zuckerberg</th>\n",
       "    </tr>\n",
       "  </thead>\n",
       "  <tbody>\n",
       "    <tr>\n",
       "      <th>0</th>\n",
       "      <td>100</td>\n",
       "      <td>15</td>\n",
       "      <td>6.250000</td>\n",
       "      <td>0</td>\n",
       "      <td>0.000000</td>\n",
       "      <td>0.000000</td>\n",
       "      <td>0</td>\n",
       "      <td>0</td>\n",
       "      <td>0</td>\n",
       "      <td>0</td>\n",
       "      <td>...</td>\n",
       "      <td>0</td>\n",
       "      <td>0</td>\n",
       "      <td>0</td>\n",
       "      <td>0</td>\n",
       "      <td>0</td>\n",
       "      <td>0</td>\n",
       "      <td>0</td>\n",
       "      <td>0</td>\n",
       "      <td>0</td>\n",
       "      <td>0</td>\n",
       "    </tr>\n",
       "    <tr>\n",
       "      <th>1</th>\n",
       "      <td>62</td>\n",
       "      <td>10</td>\n",
       "      <td>5.636364</td>\n",
       "      <td>0</td>\n",
       "      <td>0.000000</td>\n",
       "      <td>0.000000</td>\n",
       "      <td>0</td>\n",
       "      <td>0</td>\n",
       "      <td>0</td>\n",
       "      <td>0</td>\n",
       "      <td>...</td>\n",
       "      <td>0</td>\n",
       "      <td>0</td>\n",
       "      <td>0</td>\n",
       "      <td>0</td>\n",
       "      <td>0</td>\n",
       "      <td>0</td>\n",
       "      <td>0</td>\n",
       "      <td>0</td>\n",
       "      <td>0</td>\n",
       "      <td>0</td>\n",
       "    </tr>\n",
       "    <tr>\n",
       "      <th>2</th>\n",
       "      <td>61</td>\n",
       "      <td>10</td>\n",
       "      <td>5.545455</td>\n",
       "      <td>0</td>\n",
       "      <td>0.265000</td>\n",
       "      <td>0.510000</td>\n",
       "      <td>0</td>\n",
       "      <td>0</td>\n",
       "      <td>0</td>\n",
       "      <td>0</td>\n",
       "      <td>...</td>\n",
       "      <td>0</td>\n",
       "      <td>0</td>\n",
       "      <td>0</td>\n",
       "      <td>0</td>\n",
       "      <td>0</td>\n",
       "      <td>0</td>\n",
       "      <td>0</td>\n",
       "      <td>0</td>\n",
       "      <td>0</td>\n",
       "      <td>0</td>\n",
       "    </tr>\n",
       "    <tr>\n",
       "      <th>3</th>\n",
       "      <td>77</td>\n",
       "      <td>13</td>\n",
       "      <td>5.500000</td>\n",
       "      <td>0</td>\n",
       "      <td>-0.166667</td>\n",
       "      <td>0.116667</td>\n",
       "      <td>0</td>\n",
       "      <td>0</td>\n",
       "      <td>0</td>\n",
       "      <td>0</td>\n",
       "      <td>...</td>\n",
       "      <td>0</td>\n",
       "      <td>0</td>\n",
       "      <td>0</td>\n",
       "      <td>0</td>\n",
       "      <td>0</td>\n",
       "      <td>0</td>\n",
       "      <td>0</td>\n",
       "      <td>0</td>\n",
       "      <td>0</td>\n",
       "      <td>0</td>\n",
       "    </tr>\n",
       "    <tr>\n",
       "      <th>4</th>\n",
       "      <td>44</td>\n",
       "      <td>6</td>\n",
       "      <td>6.285714</td>\n",
       "      <td>0</td>\n",
       "      <td>0.000000</td>\n",
       "      <td>0.500000</td>\n",
       "      <td>0</td>\n",
       "      <td>0</td>\n",
       "      <td>0</td>\n",
       "      <td>0</td>\n",
       "      <td>...</td>\n",
       "      <td>0</td>\n",
       "      <td>0</td>\n",
       "      <td>0</td>\n",
       "      <td>0</td>\n",
       "      <td>0</td>\n",
       "      <td>0</td>\n",
       "      <td>0</td>\n",
       "      <td>0</td>\n",
       "      <td>0</td>\n",
       "      <td>0</td>\n",
       "    </tr>\n",
       "  </tbody>\n",
       "</table>\n",
       "<p>5 rows × 15622 columns</p>\n",
       "</div>"
      ],
      "text/plain": [
       "   char_count  word_count  word_density  punctuation_count  Polarity  \\\n",
       "0         100          15      6.250000                  0  0.000000   \n",
       "1          62          10      5.636364                  0  0.000000   \n",
       "2          61          10      5.545455                  0  0.265000   \n",
       "3          77          13      5.500000                  0 -0.166667   \n",
       "4          44           6      6.285714                  0  0.000000   \n",
       "\n",
       "   Subjectivity  aaa  aaron  aarp  aatish  ...  zogbi  zohan  zombi  zone  \\\n",
       "0      0.000000    0      0     0       0  ...      0      0      0     0   \n",
       "1      0.000000    0      0     0       0  ...      0      0      0     0   \n",
       "2      0.510000    0      0     0       0  ...      0      0      0     0   \n",
       "3      0.116667    0      0     0       0  ...      0      0      0     0   \n",
       "4      0.500000    0      0     0       0  ...      0      0      0     0   \n",
       "\n",
       "   zoo  zookeep  zoologist  zoom  zucker  zuckerberg  \n",
       "0    0        0          0     0       0           0  \n",
       "1    0        0          0     0       0           0  \n",
       "2    0        0          0     0       0           0  \n",
       "3    0        0          0     0       0           0  \n",
       "4    0        0          0     0       0           0  \n",
       "\n",
       "[5 rows x 15622 columns]"
      ]
     },
     "execution_count": 24,
     "metadata": {},
     "output_type": "execute_result"
    }
   ],
   "source": [
    "# concatenate the 2 dataframes\n",
    "X_train_comb = pd.concat([X_train_metadata, X_traincv], axis=1)\n",
    "X_test_comb = pd.concat([X_test_metadata, X_testcv], axis=1)\n",
    "\n",
    "# check first 5 rows\n",
    "X_train_comb.head()"
   ]
  },
  {
   "cell_type": "markdown",
   "id": "c0599dd2",
   "metadata": {},
   "source": [
    "<a name=\"LogReg\"></a>\n",
    "## 3.6 Logistic Regression"
   ]
  },
  {
   "cell_type": "code",
   "execution_count": 25,
   "id": "7141da61",
   "metadata": {
    "scrolled": false
   },
   "outputs": [],
   "source": [
    "# instantiate log reg\n",
    "lr = LogisticRegression(C=1, random_state=42, solver='liblinear')\n",
    "\n",
    "# train logreg\n",
    "lr.fit(X_train_comb, y_train)\n",
    "# predict using test data\n",
    "predictions = lr.predict(X_test_comb)"
   ]
  },
  {
   "cell_type": "code",
   "execution_count": 26,
   "id": "43d1f4ca",
   "metadata": {
    "scrolled": true
   },
   "outputs": [
    {
     "name": "stdout",
     "output_type": "stream",
     "text": [
      "              precision    recall  f1-score   support\n",
      "\n",
      "           0       0.82      0.86      0.84      2901\n",
      "           1       0.83      0.77      0.80      2511\n",
      "\n",
      "    accuracy                           0.82      5412\n",
      "   macro avg       0.82      0.82      0.82      5412\n",
      "weighted avg       0.82      0.82      0.82      5412\n",
      "\n"
     ]
    }
   ],
   "source": [
    "# print classification report\n",
    "print(classification_report(y_test, predictions))"
   ]
  },
  {
   "cell_type": "code",
   "execution_count": 27,
   "id": "61a37f8b",
   "metadata": {},
   "outputs": [
    {
     "data": {
      "image/png": "[encoded data removed]",
      "text/plain": [
       "<Figure size 504x504 with 2 Axes>"
      ]
     },
     "metadata": {
      "needs_background": "light"
     },
     "output_type": "display_data"
    }
   ],
   "source": [
    "cm = confusion_matrix(y_test, predictions)\n",
    "\n",
    "# visualize confusion matrix with seaborn heatmap\n",
    "cm_matrix = pd.DataFrame(data=cm, columns=['Actual Positive:1',\n",
    "                                           'Actual Negative:0'],\n",
    "                        index=['Predict Positive:1', 'Predict Negative:0'])\n",
    "fig, ax = plt.subplots(figsize=(7,7))  \n",
    "sns.heatmap(cm_matrix, annot=True, fmt='d', cmap='YlGnBu');"
   ]
  }
 ],
 "metadata": {
  "kernelspec": {
   "display_name": "Python 3 (ipykernel)",
   "language": "python",
   "name": "python3"
  },
  "language_info": {
   "codemirror_mode": {
    "name": "ipython",
    "version": 3
   },
   "file_extension": ".py",
   "mimetype": "text/x-python",
   "name": "python",
   "nbconvert_exporter": "python",
   "pygments_lexer": "ipython3",
   "version": "3.9.7"
  }
 },
 "nbformat": 4,
 "nbformat_minor": 5
}
