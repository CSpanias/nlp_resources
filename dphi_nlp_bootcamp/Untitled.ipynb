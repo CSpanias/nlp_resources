{
 "cells": [
  {
   "cell_type": "code",
   "execution_count": 43,
   "id": "66313c11",
   "metadata": {},
   "outputs": [],
   "source": [
    "# import required libraries\n",
    "import spacy\n",
    "import contractions\n",
    "import requests\n",
    "import re\n",
    "import unicodedata\n",
    "\n",
    "from nltk.tokenize import word_tokenize\n",
    "from nltk.corpus import stopwords, wordnet\n",
    "from nltk.stem import WordNetLemmatizer\n",
    "from nltk.tag import pos_tag\n",
    "from bs4 import BeautifulSoup"
   ]
  },
  {
   "cell_type": "code",
   "execution_count": 4,
   "id": "7ae050cb",
   "metadata": {
    "scrolled": true
   },
   "outputs": [
    {
     "name": "stdout",
     "output_type": "stream",
     "text": [
      "Oriam\n",
      "From Wikipedia, the free encyclopedia\n",
      "Jump to navigationJump to search\n",
      "Oriam is Scotland's national performance centre for sport, based at Heriot-Watt University's Riccarton campus in Edinburgh. The Scottish Rugby Union and the Scottish Football Association use it as a training facility, Heart of Midlothian F.C. rent the centre for first-team training and to run their academy. It is also used by other sports teams, students and members of the public.\n",
      "\n",
      "\n",
      "Contents\n",
      "1\tHistory\n",
      "2\tSports\n",
      "3\tFacilities\n",
      "4\tSee also\n",
      "5\tReferences\n",
      "6\tExternal links\n",
      "History\n",
      "A review of Scottish football, led by former First Minister of Scotland Henry McLeish, picked up on the lack of facilities in Scotland in the first report published in April 2010.[1] In February 2012, Sport Minister Shona Robison announced that Â£25 million from the Scottish Government's Young Scots Fund would be put towards a new multi-sports centre which would include a national football academy.[2] Universities, colleges and local authorities were invited to bid.[3] By August 2013 there were three finalists.[4] In September 2013, it was announced that the design by Reiach & Hall was chosen.[5][6] The remaining Â£9 million towards the cost of building came from sportscotland, Heriot-Watt University and the City of Edinburgh Council.[7]\n",
      "\n",
      "Construction work began in March 2015.[8] The Â£33 million facility opened in August 2016. The indoor football pitch is covered by a curved steel frame with a PVC roof,[9] the shape of which has been likened to the trajectory of \"the goal which defied physics\" which was scored by Brazilian football player Roberto Carlos against France in 1997.[10][11][12] The building won the Future Building section at the 2016 Scottish Design Awards.[13][14]\n",
      "\n",
      "Sports\n",
      "The Scottish Rugby Union and the Scottish Football Association have both made long-term commitments to using Oriam ahead of international fixtures.[15] Heart of Midlothian F.C. use the facility to run their academy and for first-team training.[16] The Scottish Handball Association, basketballscotland and Scottish Netball also use the facility.[17] Furthermore, it is used by the recently formed professional womenâ€™s team in basketball and handball, both launched in summer 2016.[18] Unlike some elite performance facilities, Oriam will be available to other sports teams, students and members of the public.[19][20] For the 2016â€“17 season, Hibernian F.C. will play their under-20 fixtures at Oriam.[15]\n",
      "\n",
      "Facilities\n",
      "The centre has a FIFA-accredited indoor synthetic 3G pitch which is the largest of its type in Europe.[11][21][22][23][24] Its dimensions of 116 yards by 76 yards are the same size as those of Hampden Park's pitch.[12][15][25][26] At the midpoint of this playing space, the roof is 28m high and there is a 15m playing height at the sides.[15] The space accommodates a viewing area that can seat 500 people.[15] There is also a synthetic pitch outdoors. There are natural surfaces outside too- five grass football pitches and two grass rugby pitches.[12]\n",
      "\n",
      "Indoors there is a 12-court sports hall, eight squash courts and a four-court sports hall.[27] Other facilities available on the high-performance side of the centre include a HydroWorx 3500i Series hydrotherapy pool with an integrated treadmill, a rehabilitation area and gym area for strength and conditioning.[25]\n",
      "\n",
      "A 160-bed hotel is to be located on the site, to open in 2017.[12][19]\n"
     ]
    }
   ],
   "source": [
    "# import text file\n",
    "with open('oriam.txt') as f:\n",
    "    sample_text = f.read()\n",
    "\n",
    "print(sample_text)"
   ]
  },
  {
   "cell_type": "code",
   "execution_count": 15,
   "id": "bce4a124",
   "metadata": {
    "scrolled": true
   },
   "outputs": [
    {
     "name": "stdout",
     "output_type": "stream",
     "text": [
      "Text:\n",
      "Oriam\n",
      "From Wikipedia, the free encyclopedia\n",
      "Jump to navigationJump to search\n",
      "Oriam is Scotland's national performance centre for sport, based at\n",
      "\n",
      "Text Tokenized:\n",
      "['Oriam', 'From', 'Wikipedia', ',', 'the', 'free', 'encyclopedia', 'Jump', 'to', 'navigationJump', 'to', 'search', 'Oriam', 'is', 'Scotland', \"'s\", 'national', 'performance', 'centre', 'for']\n",
      "\n",
      "Text Cleaned:\n",
      "['members', 'height', 'council', 'first', 'defied', 'scots', 'history', 'association', 'frame', 'free', 'hall', 'invited', 'also', '3500i', 'two', 'began', '9', 'chosen', 'references', 'announced']\n",
      "\n",
      "[('Oriam', 'NN'), ('From', 'IN'), ('Wikipedia', 'NNP'), (',', ','), ('the', 'DT')]\n",
      "\n",
      " {'j': 'a', 'v': 'v', 'n': 'n', 'r': 'r'} \n",
      "\n",
      "[('Oriam', 'n'), ('From', 'n'), ('Wikipedia', 'n'), (',', 'n'), ('the', 'n'), ('free', 'a'), ('encyclopedia', 'n'), ('Jump', 'n'), ('to', 'n'), ('navigationJump', 'v'), ('to', 'n'), ('search', 'v'), ('Oriam', 'n'), ('is', 'v'), ('Scotland', 'n'), (\"'s\", 'n'), ('national', 'a'), ('performance', 'n'), ('centre', 'n'), ('for', 'n'), ('sport', 'n'), (',', 'n'), ('based', 'v'), ('at', 'n'), ('Heriot-Watt', 'n')]\n",
      "Text Lemmatized:\n",
      "Oriam From Wikipedia , the free encyclopedia Jump to navigationJump to search Oriam be Scotland 's national performance centre for sport , base at Herio\n"
     ]
    }
   ],
   "source": [
    "def clean_text(text):\n",
    "    \"\"\"Perform basic text pre-processing.\"\"\"\n",
    "    \n",
    "    # tokenize text\n",
    "    text_tokenized = word_tokenize(text)\n",
    "    # remove duplicates\n",
    "    text_no_dup = set(text_tokenized)\n",
    "    # keep only alphanumeric tokens\n",
    "    text_alpha = [w for w in text_no_dup if w.isalnum()]\n",
    "    # lower case all tokens\n",
    "    text_lower = [w.lower() for w in text_alpha]\n",
    "    # remove trailing whitespace\n",
    "    text_ws = [w.strip() for w in text_lower]\n",
    "    # import stopwords list\n",
    "    stop_words = stopwords.words('english')\n",
    "    # keep words that are not defined as stopwords\n",
    "    text_ns = [w for w in text_ws if w not in stop_words]\n",
    "    # expand contractions\n",
    "    text_nc = [contractions.fix(w) for w in text_ns]\n",
    "    # return the cleaned text\n",
    "    return text_nc\n",
    "    \n",
    "def lemmatize_text(text):\n",
    "    \"\"\"Lemmatize text.\"\"\"\n",
    "    \n",
    "    # tokenize text\n",
    "    tokens = word_tokenize(text)\n",
    "    # expand contractions\n",
    "    text_nc = [contractions.fix(w) for w in tokens]\n",
    "    # POS-tag tokens\n",
    "    tagged_tokens = pos_tag(text_nc)\n",
    "    # convert tags to WordNet tags\n",
    "    tag_map = {'j': wordnet.ADJ, 'v': wordnet.VERB,\n",
    "               'n': wordnet.NOUN, 'r': wordnet.ADV}\n",
    "    wn_tagged_tokens = [\n",
    "        (word, tag_map.get(tag[0].lower(), wordnet.NOUN))\n",
    "        for word, tag in tagged_tokens]\n",
    "    # lemmatize text\n",
    "    wnl = WordNetLemmatizer()\n",
    "    lemmatized_text = \" \".join(wnl.lemmatize(word, tag)\n",
    "                               for word, tag in wn_tagged_tokens)\n",
    "    \n",
    "    return lemmatized_text\n",
    "\n",
    "print(\"Text:\\n{}\".format(sample_text)[:150])\n",
    "print(\"\\nText Tokenized:\\n{}\".format(word_tokenize(sample_text)[:20]))\n",
    "print(\"\\nText Cleaned:\\n{}\\n\".format(clean_text(sample_text)[:20]))\n",
    "print(\"Text Lemmatized:\\n{}\".format(lemmatize_text(sample_text)[:152]))"
   ]
  },
  {
   "cell_type": "code",
   "execution_count": 17,
   "id": "9859184c",
   "metadata": {},
   "outputs": [
    {
     "name": "stdout",
     "output_type": "stream",
     "text": [
      "[Oriam, \n",
      ", From, Wikipedia, ,, the, free, encyclopedia, \n",
      ", Jump, to, navigationJump, to, search, \n",
      ", Oriam, is, Scotland, 's, national]\n"
     ]
    }
   ],
   "source": [
    "# load pipeline\n",
    "nlp = spacy.load('en_core_web_sm')\n",
    "\n",
    "# create NLP object\n",
    "text_spacy = nlp(sample_text)\n",
    "\n",
    "# tokenize\n",
    "tokens = [token for token in text_spacy]\n",
    "print(tokens[:20])"
   ]
  },
  {
   "cell_type": "code",
   "execution_count": 29,
   "id": "610bb364",
   "metadata": {
    "scrolled": true
   },
   "outputs": [
    {
     "name": "stdout",
     "output_type": "stream",
     "text": [
      "<!doctype html>\n",
      "<!-- paulirish.com/2008/conditional-stylesheets-vs-css-hacks-answer-neither/ -->\n",
      "<!-\n"
     ]
    },
    {
     "data": {
      "text/plain": [
       "\"   Oriam - Oriam Scotland Scotland's National Sports Performance Centre                   Academic Facilities Gym Synthetic Pitches Sports Hall Conference Performance Wing Grass Pitches Members Area NEW MEMBERS Member Cancellation Form Sport Community Sport Student Sport Performance Sport Health & Fitness Inductions & Personal Training My Wellness and On Demand Exercise Classes Membership Options Membership Offers News About Us ORIAM FAQs Contact Us Bistro Partners Job Vacancies Terms & Conditions   Academic Facilities Gym Synthetic Pitches Sports Hall Conference Performance Wing Grass Pitches Members Area NEW MEMBERS Member Cancellation Form Sport Community Sport Student Sport Performance Sport Health & Fitness Inductions & Personal Training My Wellness and On Demand Exercise Classes Membership Options Membership Offers News About Us ORIAM FAQs Contact Us Bistro Partners Job Vacancies Terms & Conditions     MEMBERSHIP OFFERFind out more...    RE-OPENING INFO& FAQs    DOWNLOAD OUR NEW APP  FACILITY UPDATES, CLASSES AND BOOKINGS    FIND OUT MORE NOW        COMMUNITY MEMBERSHIPS Click here for community membership info! MEMBERS AREA Click here for online bookings STUDENT MEMBERSHIPS Click here to join online NEWS Our Oriam  Temporary Reduced ServiceOn 7th February we will have temporary reduced service. This ...Systems and Process UpdateFind out more about upcoming improvements to our customer systems ...Reduced Service Update – 22nd December Due to the new guidance for indoor contact sport, we ... WHAT’S ON Our Oriam  December EventsWe have a packed calendar for the rest of the ...Our Oriam  Upcoming EventsWe have a packed calendar for the rest of the ... TWITTER FEED AvatarOriam Scotland@Oriamscotland·Our Oriam  New Updates We are excited to be making some big updates to our bookings & memberships systems. The next step will require us to shutdown some systems on Monday 7th February for a day. You can find full details in our website news section.  http://ow.ly/PHC650HIq31 AvatarOriam Scotland@Oriamscotland·Our Oriam  Your Life The @HWUSportsUnion Wellbeing week starts tomorrow!  Our Bike Bothy are offering discounted bike hire options for February with 25% off and the SU Athletics club are starting a Couch to 5k group from 1st February and much more still to come. AvatarOriam Scotland@Oriamscotland·Our Oriam  Your Success The countdown is on for the Beijing 2022 Winter Olympics. Just 7 days to go! Good luck to all the athletes selected for Team GB, we look forward to cheering you all on here at Oriam! #goodluck #teamgb #makeamazinghappen #wintersports AvatarOriam Scotland@Oriamscotland·Our Oriam  Welcome Back Today the restrictions on indoor contact sports have been lifted and we are very excited to welcome back team training and casual sport in our sports halls and indoor pitches! You can book casual sports on our Oriam App upto 7 days in advance.  #ouroriam  PERFORMANCE SPORT Click Here for More Information STUDENT SPORT Click Here for More Information COMMUNITY SPORT Click Here for More Information SIGN UP FOR MORE INFO! Fill in your email and we will keep you updated about our latest offers   By filling in this form you consent to us contacting you by email with information about Oriam offers. We take your privacy seriously and will only use your personal information to provide you with the products and services you have requested from us.           MON- FRI  6:30AM - 10PM SATURDAY 8AM - 8PM SUNDAY 8AM- 10PM  Oriam Heriot-watt University, Edinburgh EH14 4AS© Copyright 2017 Oriam. All rights reserved. Site by Meme Media Privacy Policy      Privacy Settings  We use cookies to enhance your experience while using our website. If you are using our Services via a browser you can restrict, block or remove cookies through your web browser settings. We also use content and scripts from third parties that may use tracking technologies. You can selectively provide your consent below to allow such third party embeds. For complete information about the cookies we use, data we collect and how we process them, please check our Privacy Policy  Youtube Consent to display content from Youtube  Vimeo Consent to display content from Vimeo  Google Maps Consent to display content from Google    Save \""
      ]
     },
     "execution_count": 29,
     "metadata": {},
     "output_type": "execute_result"
    }
   ],
   "source": [
    "data = requests.get(\"https://oriamscotland.com/\")\n",
    "                    \n",
    "content = data.text\n",
    "\n",
    "print(content[:100])\n",
    "\n",
    "bs = BeautifulSoup(content, 'html.parser')\n",
    "\n",
    "text = bs.get_text()\n",
    "\n",
    "stripped_text = re.sub(r'[\\r|\\n|\\r\\n|\\t]+', ' ', text)\n",
    "stripped_text"
   ]
  },
  {
   "cell_type": "code",
   "execution_count": 35,
   "id": "3c9e0bf5",
   "metadata": {},
   "outputs": [
    {
     "data": {
      "text/plain": [
       "'Some Accented text'"
      ]
     },
     "execution_count": 35,
     "metadata": {},
     "output_type": "execute_result"
    }
   ],
   "source": [
    "rus_text = \"Не́которые иностра́нцы ду́мают, что в Росси́и медве́ди хо́дят по у́лицам. Коне́чно, \\\n",
    "э́то непра́вда! Медве́ди живу́т в лесу́ и не лю́бят люде́й.\"\n",
    "\n",
    "s = 'Sómě Áccěntěd těxt'\n",
    "\n",
    "clean_text = unicodedata.normalize('NFKD', s).encode('ascii', 'ignore').decode('utf-8', 'ignore')\n",
    "clean_text"
   ]
  },
  {
   "cell_type": "code",
   "execution_count": 48,
   "id": "a602d976",
   "metadata": {},
   "outputs": [
    {
     "data": {
      "text/plain": [
       "'I be the good'"
      ]
     },
     "execution_count": 48,
     "metadata": {},
     "output_type": "execute_result"
    }
   ],
   "source": [
    "text = 'I am the best'\n",
    "\n",
    "nlp = spacy.load('en_core_web_sm')\n",
    "\n",
    "text_spacy = nlp(text)\n",
    "\n",
    "text = ' '.join([word.lemma_ if word.lemma_ != '-PRON-' else word.text for word in text_spacy])\n",
    "text"
   ]
  }
 ],
 "metadata": {
  "kernelspec": {
   "display_name": "Python 3 (ipykernel)",
   "language": "python",
   "name": "python3"
  },
  "language_info": {
   "codemirror_mode": {
    "name": "ipython",
    "version": 3
   },
   "file_extension": ".py",
   "mimetype": "text/x-python",
   "name": "python",
   "nbconvert_exporter": "python",
   "pygments_lexer": "ipython3",
   "version": "3.9.7"
  }
 },
 "nbformat": 4,
 "nbformat_minor": 5
}
