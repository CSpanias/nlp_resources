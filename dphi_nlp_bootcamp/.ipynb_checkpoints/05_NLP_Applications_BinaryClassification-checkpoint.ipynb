{
 "cells": [
  {
   "cell_type": "markdown",
   "metadata": {},
   "source": [
    "# [Getting Started with NLP](https://dphi.tech/bootcamps/getting-started-with-natural-language-processing?utm_source=header)\n",
    "by [CSpanias](https://cspanias.github.io/aboutme/), 28/01 - 06/02/2022 <br>\n",
    "\n",
    "Bootcamp organized by **[DPhi](https://dphi.tech/community/)**, lectures given by [**Dipanjan (DJ) Sarkar**](https://www.linkedin.com/in/dipanzan/) ([GitHub repo](https://github.com/dipanjanS/nlp_essentials)) <br>\n",
    "\n",
    "## Fundamental Tutorials for NLP:\n",
    "* [NLTK Book](https://www.nltk.org/book/)\n",
    "* [spaCy Tutorials](https://course.spacy.io/en/chapter1)"
   ]
  },
  {
   "cell_type": "markdown",
   "metadata": {},
   "source": [
    "# CONTENT\n",
    "1. Text Wrangling\n",
    "2. Text Representation with Feature Engineering - Statistical Models\n",
    "3. Text Representation with Feature Engineering - Deep Learning Models\n",
    "4. NLP Applications - Recommender Systems\n",
    "5. [NLP Applications - Recommender Systems \\#2](#NLPApp2)\n",
    "    1. [Load and View Data](#Data)\n",
    "    1. [Text Pre-Processing](#TextPre)\n",
    "        1. [Merge  Text Attributes](#merge)\n",
    "        2. [Convert Rating System](#convert)\n",
    "        3. [Remove Useless Records](#useless)\n",
    "        4. [Check Label's Distribution](#balance)\n",
    "    1. [Build Train & Test Datasets](#split)\n",
    "    1. [Experiment 1: Basic NLP Count-based Features](#experiment1)\n",
    "        1. [Logistic Regression](#logreg)\n",
    "        1. [Model Evaluation Metrics - Quick Refresher](#metrics)\n",
    "        1. [Leveraging Text Sentiment](#sentiment)\n",
    "    1. [Experiment 2: Features from Sentiment Analysis](#experiment2)\n",
    "        1. [Buidling & Evaluating Model with Sentiment Analysis](#model2)\n",
    "        1. [Text Pre-Processing \\#2](#textpre2) \n",
    "        1. [Extracting Basic NLP Count-based Features](#previousfeatures)\n",
    "    1. [Experiment 3: Adding Bag of Words based Features](#experiment3)\n",
    "        1. [Model Training & Evaluation](#evaluation3)"
   ]
  },
  {
   "cell_type": "markdown",
   "metadata": {},
   "source": [
    "<a name=\"NLPApp2\"><a/>\n",
    "# 5. NLP Applications - Recommender Systems \\#2"
   ]
  },
  {
   "cell_type": "markdown",
   "metadata": {
    "colab_type": "text",
    "id": "8wgGEuy-9G1x"
   },
   "source": [
    "The problem presented in this notebook is a classic NLP problem dealing with data from an e-commerce store focusing on women's clothing. \n",
    "\n",
    "The aim is to **predict a product's rating from customer reviews**.\n",
    "\n",
    "**Each record** in the dataset is a **customer review** which consists of the review title, text description and a rating (ranging from 1 - 5) for a product amongst other features.\n",
    "\n",
    "We convert this into a **binary classification problem** such that:\n",
    "1. a customer recommends a product (label 1) if the **rating is > 3**\n",
    "2. else they do not recommend the product (label 0).\n",
    "\n",
    "The goal is to **leverage the review text attributes to predict the recommendation rating**.\n",
    "\n",
    "**Note**: _The dataset is [available](https://www.kaggle.com/nicapotato/womens-ecommerce-clothing-reviews) on Kaggle._"
   ]
  },
  {
   "cell_type": "markdown",
   "metadata": {},
   "source": [
    "<a name=\"Data\"></a>\n",
    "# 5.1 Load and View Data"
   ]
  },
  {
   "cell_type": "code",
   "execution_count": 1,
   "metadata": {
    "colab": {},
    "colab_type": "code",
    "id": "VXs4584w9G1y"
   },
   "outputs": [],
   "source": [
    "# import required libraries\n",
    "import numpy as np\n",
    "import pandas as pd\n",
    "\n",
    "from sklearn.metrics import confusion_matrix, classification_report"
   ]
  },
  {
   "cell_type": "code",
   "execution_count": 2,
   "metadata": {
    "colab": {
     "base_uri": "https://localhost:8080/",
     "height": 246
    },
    "colab_type": "code",
    "id": "xmq8n6Sa9G12",
    "outputId": "77cb6a72-43ae-4df4-81bb-d26822e8c2f4",
    "scrolled": true
   },
   "outputs": [
    {
     "data": {
      "text/html": [
       "<div>\n",
       "<style scoped>\n",
       "    .dataframe tbody tr th:only-of-type {\n",
       "        vertical-align: middle;\n",
       "    }\n",
       "\n",
       "    .dataframe tbody tr th {\n",
       "        vertical-align: top;\n",
       "    }\n",
       "\n",
       "    .dataframe thead th {\n",
       "        text-align: right;\n",
       "    }\n",
       "</style>\n",
       "<table border=\"1\" class=\"dataframe\">\n",
       "  <thead>\n",
       "    <tr style=\"text-align: right;\">\n",
       "      <th></th>\n",
       "      <th>Unnamed: 0</th>\n",
       "      <th>Clothing ID</th>\n",
       "      <th>Age</th>\n",
       "      <th>Title</th>\n",
       "      <th>Review Text</th>\n",
       "      <th>Rating</th>\n",
       "      <th>Recommended IND</th>\n",
       "      <th>Positive Feedback Count</th>\n",
       "      <th>Division Name</th>\n",
       "      <th>Department Name</th>\n",
       "      <th>Class Name</th>\n",
       "    </tr>\n",
       "  </thead>\n",
       "  <tbody>\n",
       "    <tr>\n",
       "      <th>0</th>\n",
       "      <td>0</td>\n",
       "      <td>767</td>\n",
       "      <td>33</td>\n",
       "      <td></td>\n",
       "      <td>Absolutely wonderful - silky and sexy and comf...</td>\n",
       "      <td>4</td>\n",
       "      <td>1</td>\n",
       "      <td>0</td>\n",
       "      <td>Initmates</td>\n",
       "      <td>Intimate</td>\n",
       "      <td>Intimates</td>\n",
       "    </tr>\n",
       "    <tr>\n",
       "      <th>1</th>\n",
       "      <td>1</td>\n",
       "      <td>1080</td>\n",
       "      <td>34</td>\n",
       "      <td></td>\n",
       "      <td>Love this dress!  it's sooo pretty.  i happene...</td>\n",
       "      <td>5</td>\n",
       "      <td>1</td>\n",
       "      <td>4</td>\n",
       "      <td>General</td>\n",
       "      <td>Dresses</td>\n",
       "      <td>Dresses</td>\n",
       "    </tr>\n",
       "    <tr>\n",
       "      <th>2</th>\n",
       "      <td>2</td>\n",
       "      <td>1077</td>\n",
       "      <td>60</td>\n",
       "      <td>Some major design flaws</td>\n",
       "      <td>I had such high hopes for this dress and reall...</td>\n",
       "      <td>3</td>\n",
       "      <td>0</td>\n",
       "      <td>0</td>\n",
       "      <td>General</td>\n",
       "      <td>Dresses</td>\n",
       "      <td>Dresses</td>\n",
       "    </tr>\n",
       "    <tr>\n",
       "      <th>3</th>\n",
       "      <td>3</td>\n",
       "      <td>1049</td>\n",
       "      <td>50</td>\n",
       "      <td>My favorite buy!</td>\n",
       "      <td>I love, love, love this jumpsuit. it's fun, fl...</td>\n",
       "      <td>5</td>\n",
       "      <td>1</td>\n",
       "      <td>0</td>\n",
       "      <td>General Petite</td>\n",
       "      <td>Bottoms</td>\n",
       "      <td>Pants</td>\n",
       "    </tr>\n",
       "    <tr>\n",
       "      <th>4</th>\n",
       "      <td>4</td>\n",
       "      <td>847</td>\n",
       "      <td>47</td>\n",
       "      <td>Flattering shirt</td>\n",
       "      <td>This shirt is very flattering to all due to th...</td>\n",
       "      <td>5</td>\n",
       "      <td>1</td>\n",
       "      <td>6</td>\n",
       "      <td>General</td>\n",
       "      <td>Tops</td>\n",
       "      <td>Blouses</td>\n",
       "    </tr>\n",
       "  </tbody>\n",
       "</table>\n",
       "</div>"
      ],
      "text/plain": [
       "   Unnamed: 0  Clothing ID  Age                    Title  \\\n",
       "0           0          767   33                            \n",
       "1           1         1080   34                            \n",
       "2           2         1077   60  Some major design flaws   \n",
       "3           3         1049   50         My favorite buy!   \n",
       "4           4          847   47         Flattering shirt   \n",
       "\n",
       "                                         Review Text  Rating  Recommended IND  \\\n",
       "0  Absolutely wonderful - silky and sexy and comf...       4                1   \n",
       "1  Love this dress!  it's sooo pretty.  i happene...       5                1   \n",
       "2  I had such high hopes for this dress and reall...       3                0   \n",
       "3  I love, love, love this jumpsuit. it's fun, fl...       5                1   \n",
       "4  This shirt is very flattering to all due to th...       5                1   \n",
       "\n",
       "   Positive Feedback Count   Division Name Department Name Class Name  \n",
       "0                        0       Initmates        Intimate  Intimates  \n",
       "1                        4         General         Dresses    Dresses  \n",
       "2                        0         General         Dresses    Dresses  \n",
       "3                        0  General Petite         Bottoms      Pants  \n",
       "4                        6         General            Tops    Blouses  "
      ]
     },
     "execution_count": 2,
     "metadata": {},
     "output_type": "execute_result"
    }
   ],
   "source": [
    "# read data as pandas DataFrame\n",
    "df = pd.read_csv('https://github.com/CSpanias/nlp_resources/blob/main/dphi_nlp_bootcamp/Womens%20Clothing%20E-Commerce%20Reviews.csv?raw=true', keep_default_na=False)\n",
    "\n",
    "# check first 5 rows\n",
    "df.head()"
   ]
  },
  {
   "cell_type": "markdown",
   "metadata": {},
   "source": [
    "<a name=\"TextPre\"></a>\n",
    "# 5.2 Text Pre-Processing"
   ]
  },
  {
   "cell_type": "markdown",
   "metadata": {
    "colab_type": "text",
    "id": "HSWdX9p49G15"
   },
   "source": [
    "We want to achieve the following goals:\n",
    "1. [Merge  Text Attributes](#merge)\n",
    "2. [Convert Rating System](#convert)\n",
    "3. [Remove Useless Records](#useless)\n",
    "4. [Check Label's Distribution](#balance)"
   ]
  },
  {
   "cell_type": "markdown",
   "metadata": {},
   "source": [
    "<a name=\"merge\"></a>\n",
    "### 5.2.1 Merge Text Attributes\n",
    "\n",
    "We want to **merge all review text attributes** into a **single attribute**."
   ]
  },
  {
   "cell_type": "code",
   "execution_count": 4,
   "metadata": {
    "colab": {
     "base_uri": "https://localhost:8080/",
     "height": 195
    },
    "colab_type": "code",
    "id": "wD3desQl9G16",
    "outputId": "5788af75-820a-4c13-b580-1ba106f5d172",
    "scrolled": true
   },
   "outputs": [
    {
     "data": {
      "text/html": [
       "<div>\n",
       "<style scoped>\n",
       "    .dataframe tbody tr th:only-of-type {\n",
       "        vertical-align: middle;\n",
       "    }\n",
       "\n",
       "    .dataframe tbody tr th {\n",
       "        vertical-align: top;\n",
       "    }\n",
       "\n",
       "    .dataframe thead th {\n",
       "        text-align: right;\n",
       "    }\n",
       "</style>\n",
       "<table border=\"1\" class=\"dataframe\">\n",
       "  <thead>\n",
       "    <tr style=\"text-align: right;\">\n",
       "      <th></th>\n",
       "      <th>Unnamed: 0</th>\n",
       "      <th>Clothing ID</th>\n",
       "      <th>Age</th>\n",
       "      <th>Title</th>\n",
       "      <th>Review Text</th>\n",
       "      <th>Rating</th>\n",
       "      <th>Recommended IND</th>\n",
       "      <th>Positive Feedback Count</th>\n",
       "      <th>Division Name</th>\n",
       "      <th>Department Name</th>\n",
       "      <th>Class Name</th>\n",
       "      <th>Review</th>\n",
       "    </tr>\n",
       "  </thead>\n",
       "  <tbody>\n",
       "    <tr>\n",
       "      <th>0</th>\n",
       "      <td>0</td>\n",
       "      <td>767</td>\n",
       "      <td>33</td>\n",
       "      <td></td>\n",
       "      <td>Absolutely wonderful - silky and sexy and comf...</td>\n",
       "      <td>4</td>\n",
       "      <td>1</td>\n",
       "      <td>0</td>\n",
       "      <td>Initmates</td>\n",
       "      <td>Intimate</td>\n",
       "      <td>Intimates</td>\n",
       "      <td>Absolutely wonderful - silky and sexy and comf...</td>\n",
       "    </tr>\n",
       "    <tr>\n",
       "      <th>1</th>\n",
       "      <td>1</td>\n",
       "      <td>1080</td>\n",
       "      <td>34</td>\n",
       "      <td></td>\n",
       "      <td>Love this dress!  it's sooo pretty.  i happene...</td>\n",
       "      <td>5</td>\n",
       "      <td>1</td>\n",
       "      <td>4</td>\n",
       "      <td>General</td>\n",
       "      <td>Dresses</td>\n",
       "      <td>Dresses</td>\n",
       "      <td>Love this dress!  it's sooo pretty.  i happene...</td>\n",
       "    </tr>\n",
       "    <tr>\n",
       "      <th>2</th>\n",
       "      <td>2</td>\n",
       "      <td>1077</td>\n",
       "      <td>60</td>\n",
       "      <td>Some major design flaws</td>\n",
       "      <td>I had such high hopes for this dress and reall...</td>\n",
       "      <td>3</td>\n",
       "      <td>0</td>\n",
       "      <td>0</td>\n",
       "      <td>General</td>\n",
       "      <td>Dresses</td>\n",
       "      <td>Dresses</td>\n",
       "      <td>Some major design flaws I had such high hopes ...</td>\n",
       "    </tr>\n",
       "    <tr>\n",
       "      <th>3</th>\n",
       "      <td>3</td>\n",
       "      <td>1049</td>\n",
       "      <td>50</td>\n",
       "      <td>My favorite buy!</td>\n",
       "      <td>I love, love, love this jumpsuit. it's fun, fl...</td>\n",
       "      <td>5</td>\n",
       "      <td>1</td>\n",
       "      <td>0</td>\n",
       "      <td>General Petite</td>\n",
       "      <td>Bottoms</td>\n",
       "      <td>Pants</td>\n",
       "      <td>My favorite buy! I love, love, love this jumps...</td>\n",
       "    </tr>\n",
       "    <tr>\n",
       "      <th>4</th>\n",
       "      <td>4</td>\n",
       "      <td>847</td>\n",
       "      <td>47</td>\n",
       "      <td>Flattering shirt</td>\n",
       "      <td>This shirt is very flattering to all due to th...</td>\n",
       "      <td>5</td>\n",
       "      <td>1</td>\n",
       "      <td>6</td>\n",
       "      <td>General</td>\n",
       "      <td>Tops</td>\n",
       "      <td>Blouses</td>\n",
       "      <td>Flattering shirt This shirt is very flattering...</td>\n",
       "    </tr>\n",
       "  </tbody>\n",
       "</table>\n",
       "</div>"
      ],
      "text/plain": [
       "   Unnamed: 0  Clothing ID  Age                    Title  \\\n",
       "0           0          767   33                            \n",
       "1           1         1080   34                            \n",
       "2           2         1077   60  Some major design flaws   \n",
       "3           3         1049   50         My favorite buy!   \n",
       "4           4          847   47         Flattering shirt   \n",
       "\n",
       "                                         Review Text  Rating  Recommended IND  \\\n",
       "0  Absolutely wonderful - silky and sexy and comf...       4                1   \n",
       "1  Love this dress!  it's sooo pretty.  i happene...       5                1   \n",
       "2  I had such high hopes for this dress and reall...       3                0   \n",
       "3  I love, love, love this jumpsuit. it's fun, fl...       5                1   \n",
       "4  This shirt is very flattering to all due to th...       5                1   \n",
       "\n",
       "   Positive Feedback Count   Division Name Department Name Class Name  \\\n",
       "0                        0       Initmates        Intimate  Intimates   \n",
       "1                        4         General         Dresses    Dresses   \n",
       "2                        0         General         Dresses    Dresses   \n",
       "3                        0  General Petite         Bottoms      Pants   \n",
       "4                        6         General            Tops    Blouses   \n",
       "\n",
       "                                              Review  \n",
       "0  Absolutely wonderful - silky and sexy and comf...  \n",
       "1  Love this dress!  it's sooo pretty.  i happene...  \n",
       "2  Some major design flaws I had such high hopes ...  \n",
       "3  My favorite buy! I love, love, love this jumps...  \n",
       "4  Flattering shirt This shirt is very flattering...  "
      ]
     },
     "execution_count": 4,
     "metadata": {},
     "output_type": "execute_result"
    }
   ],
   "source": [
    "# merge 'title' and 'review text' columns into a single column\n",
    "df['Review'] = (df['Title'].map(str) +' '+ df['Review Text']).apply(lambda row: row.strip())\n",
    "\n",
    "# check first 5 rows\n",
    "df.head()"
   ]
  },
  {
   "cell_type": "markdown",
   "metadata": {},
   "source": [
    "<a name=\"convert\"></a>\n",
    "### 5.2.2 Convert Rating System\n",
    "\n",
    "We need to **convert** the 5-star **rating system** into a **binary rating system** (1 or 0)."
   ]
  },
  {
   "cell_type": "code",
   "execution_count": 5,
   "metadata": {},
   "outputs": [
    {
     "data": {
      "text/html": [
       "<div>\n",
       "<style scoped>\n",
       "    .dataframe tbody tr th:only-of-type {\n",
       "        vertical-align: middle;\n",
       "    }\n",
       "\n",
       "    .dataframe tbody tr th {\n",
       "        vertical-align: top;\n",
       "    }\n",
       "\n",
       "    .dataframe thead th {\n",
       "        text-align: right;\n",
       "    }\n",
       "</style>\n",
       "<table border=\"1\" class=\"dataframe\">\n",
       "  <thead>\n",
       "    <tr style=\"text-align: right;\">\n",
       "      <th></th>\n",
       "      <th>Review</th>\n",
       "      <th>Rating</th>\n",
       "    </tr>\n",
       "  </thead>\n",
       "  <tbody>\n",
       "    <tr>\n",
       "      <th>0</th>\n",
       "      <td>Absolutely wonderful - silky and sexy and comf...</td>\n",
       "      <td>1</td>\n",
       "    </tr>\n",
       "    <tr>\n",
       "      <th>1</th>\n",
       "      <td>Love this dress!  it's sooo pretty.  i happene...</td>\n",
       "      <td>1</td>\n",
       "    </tr>\n",
       "    <tr>\n",
       "      <th>2</th>\n",
       "      <td>Some major design flaws I had such high hopes ...</td>\n",
       "      <td>0</td>\n",
       "    </tr>\n",
       "    <tr>\n",
       "      <th>3</th>\n",
       "      <td>My favorite buy! I love, love, love this jumps...</td>\n",
       "      <td>1</td>\n",
       "    </tr>\n",
       "    <tr>\n",
       "      <th>4</th>\n",
       "      <td>Flattering shirt This shirt is very flattering...</td>\n",
       "      <td>1</td>\n",
       "    </tr>\n",
       "  </tbody>\n",
       "</table>\n",
       "</div>"
      ],
      "text/plain": [
       "                                              Review  Rating\n",
       "0  Absolutely wonderful - silky and sexy and comf...       1\n",
       "1  Love this dress!  it's sooo pretty.  i happene...       1\n",
       "2  Some major design flaws I had such high hopes ...       0\n",
       "3  My favorite buy! I love, love, love this jumps...       1\n",
       "4  Flattering shirt This shirt is very flattering...       1"
      ]
     },
     "execution_count": 5,
     "metadata": {},
     "output_type": "execute_result"
    }
   ],
   "source": [
    "# convert 5-start rating system into a binary one\n",
    "df['Rating'] = [1 if rating > 3 else 0 for rating in df['Rating']]\n",
    "\n",
    "# create a new df with just the 2 columns\n",
    "df = df[['Review', 'Rating']]\n",
    "\n",
    "# check first 5 rows\n",
    "df.head()"
   ]
  },
  {
   "cell_type": "markdown",
   "metadata": {},
   "source": [
    "<a name=\"useless\"></a>\n",
    "### 5.2.3 Remove Useless Records\n",
    "\n",
    "We can remove all records that have **no review text** are they won't provide any information to our model."
   ]
  },
  {
   "cell_type": "code",
   "execution_count": 7,
   "metadata": {
    "colab": {
     "base_uri": "https://localhost:8080/",
     "height": 168
    },
    "colab_type": "code",
    "id": "VB2DhPLH9G19",
    "outputId": "0c8fcc37-0998-435e-a912-f6f60f9c30de"
   },
   "outputs": [
    {
     "name": "stdout",
     "output_type": "stream",
     "text": [
      "<class 'pandas.core.frame.DataFrame'>\n",
      "Int64Index: 22642 entries, 0 to 23485\n",
      "Data columns (total 2 columns):\n",
      " #   Column  Non-Null Count  Dtype \n",
      "---  ------  --------------  ----- \n",
      " 0   Review  22642 non-null  object\n",
      " 1   Rating  22642 non-null  int64 \n",
      "dtypes: int64(1), object(1)\n",
      "memory usage: 530.7+ KB\n"
     ]
    }
   ],
   "source": [
    "# remove empty records from 'Review' column\n",
    "df = df[df['Review'] != '']\n",
    "\n",
    "# check basic info\n",
    "df.info()"
   ]
  },
  {
   "cell_type": "markdown",
   "metadata": {},
   "source": [
    "<a name=\"balance\"></a>\n",
    "### 5.2.4 Check Label's Distribution\n",
    "\n",
    "We can also check if our dataset is **balanced or not**."
   ]
  },
  {
   "cell_type": "code",
   "execution_count": 8,
   "metadata": {
    "colab": {
     "base_uri": "https://localhost:8080/",
     "height": 67
    },
    "colab_type": "code",
    "id": "LHRcOkxZ9G2A",
    "outputId": "fdeea29a-c6ab-4634-848d-83cd9a4df54e"
   },
   "outputs": [
    {
     "data": {
      "text/plain": [
       "1    17449\n",
       "0     5193\n",
       "Name: Rating, dtype: int64"
      ]
     },
     "execution_count": 8,
     "metadata": {},
     "output_type": "execute_result"
    }
   ],
   "source": [
    "# check target variable's distribution\n",
    "df['Rating'].value_counts()"
   ]
  },
  {
   "cell_type": "markdown",
   "metadata": {
    "colab_type": "text",
    "id": "j9HZhCnN9G2C"
   },
   "source": [
    "<a name=\"split\"></a>\n",
    "# 5.3 Build Train & Test Datasets"
   ]
  },
  {
   "cell_type": "markdown",
   "metadata": {},
   "source": [
    "We must split our dataset into **training** and **test sets**. \n",
    "\n",
    "The simplest way to achieve that is by using sklearn's **`train_test_split`** method. \n",
    "\n",
    "**Note**: You can find _**`train_test_split`**'s documentation [here](https://scikit-learn.org/stable/modules/generated/sklearn.model_selection.train_test_split.html)."
   ]
  },
  {
   "cell_type": "code",
   "execution_count": 10,
   "metadata": {
    "colab": {
     "base_uri": "https://localhost:8080/",
     "height": 34
    },
    "colab_type": "code",
    "id": "jBsPt1rC9G2C",
    "outputId": "047e7192-a598-47c1-d0e2-25a38fd8ba14"
   },
   "outputs": [
    {
     "name": "stdout",
     "output_type": "stream",
     "text": [
      "The training set has 16981 rows and 1 column.\n",
      "The test set has 5661 rows and 1 column.\n"
     ]
    }
   ],
   "source": [
    "from sklearn.model_selection import train_test_split\n",
    "\n",
    "# split dataset into training and test sets\n",
    "X_train, X_test, y_train, y_test = train_test_split(df[['Review']], df['Rating'], random_state=42)\n",
    "\n",
    "# check shape\n",
    "print(\"The training set has {} rows and {} column.\\nThe test set has {} rows and {} column.\".\n",
    "      format(X_train.shape[0], X_train.shape[1], X_test.shape[0], X_test.shape[1]))"
   ]
  },
  {
   "cell_type": "markdown",
   "metadata": {},
   "source": [
    "We can also check **label's distribution** seperately on each set."
   ]
  },
  {
   "cell_type": "code",
   "execution_count": 27,
   "metadata": {
    "colab": {
     "base_uri": "https://localhost:8080/",
     "height": 34
    },
    "colab_type": "code",
    "id": "_m6_wP6X9G2F",
    "outputId": "b703f0af-1d6c-4200-b494-e37be4a59411"
   },
   "outputs": [
    {
     "name": "stdout",
     "output_type": "stream",
     "text": [
      "The label distribution is:\n",
      "\n",
      "Training set: Label 1 = 13059 | Label 0 = 3922.\n",
      "\n",
      "Test set: Label 1 = 4390 | Label 0 = 1271\n"
     ]
    }
   ],
   "source": [
    "from collections import Counter\n",
    "\n",
    "# check label's distribution for each set\n",
    "print(\"The label distribution is:\\n\\nTraining set: Label 1 = {} | Label 0 = {}.\\n\\nTest set: Label 1 = {} | Label 0 = {}\".\n",
    "      format(Counter(y_train)[1], Counter(y_train)[0], Counter(y_test)[1], Counter(y_test)[0]))"
   ]
  },
  {
   "cell_type": "markdown",
   "metadata": {
    "colab_type": "text",
    "id": "j9HZhCnN9G2C"
   },
   "source": [
    "<a name=\"experiment1\"></a>\n",
    "# 5.4 Experiment 1: Basic NLP Count-based Features"
   ]
  },
  {
   "cell_type": "markdown",
   "metadata": {
    "colab_type": "text",
    "id": "ZiKBkmzA9G2H"
   },
   "source": [
    "A number of basic text based features can also be created which sometimes are helpful for **improving text classification models**. \n",
    "\n",
    "Some examples are:\n",
    "\n",
    "- __Word Count:__ total number of words in the documents\n",
    "- __Character Count:__ total number of characters in the documents\n",
    "- __Average Word Density:__ average length of the words used in the documents\n",
    "- __Puncutation Count:__ total number of punctuation marks in the documents\n",
    "- __Upper Case Count:__ total number of upper count words in the documents\n",
    "- __Title Word Count:__ total number of proper case (title) words in the documents\n",
    "\n",
    "**Note**: _The aforementioned information comes from [this](https://www.analyticsvidhya.com/blog/2018/04/a-comprehensive-guide-to-understand-and-implement-text-classification-in-python/) article._"
   ]
  },
  {
   "cell_type": "code",
   "execution_count": 28,
   "metadata": {
    "colab": {},
    "colab_type": "code",
    "id": "Rk6Kc62u9G2H"
   },
   "outputs": [],
   "source": [
    "import string\n",
    "\n",
    "# calculate total number of characters\n",
    "X_train['char_count'] = X_train['Review'].apply(len)\n",
    "# calculate total number of words\n",
    "X_train['word_count'] = X_train['Review'].apply(lambda x: len(x.split()))\n",
    "# calculate average word density\n",
    "X_train['word_density'] = X_train['char_count'] / (X_train['word_count']+1)\n",
    "# calculate total number of punctuaction marks\n",
    "X_train['punctuation_count'] = X_train['Review'].apply(lambda x: len(\"\".join(_ for _ in x if _ in string.punctuation)))\n",
    "# calculate total number of title-cased words\n",
    "X_train['title_word_count'] = X_train['Review'].apply(lambda x: len([wrd for wrd in x.split() if wrd.istitle()]))\n",
    "# calculate total number of upper-cased words\n",
    "X_train['upper_case_word_count'] = X_train['Review'].apply(lambda x: len([wrd for wrd in x.split() if wrd.isupper()]))\n",
    "\n",
    "# calculate total number of characters\n",
    "X_test['char_count'] = X_test['Review'].apply(len)\n",
    "# calculate total number of words\n",
    "X_test['word_count'] = X_test['Review'].apply(lambda x: len(x.split()))\n",
    "# calculate average word density\n",
    "X_test['word_density'] = X_test['char_count'] / (X_test['word_count']+1)\n",
    "# calculate total number of punctuaction marks\n",
    "X_test['punctuation_count'] = X_test['Review'].apply(lambda x: len(\"\".join(_ for _ in x if _ in string.punctuation))) \n",
    "# calculate total number of title-cased words\n",
    "X_test['title_word_count'] = X_test['Review'].apply(lambda x: len([wrd for wrd in x.split() if wrd.istitle()]))\n",
    "# calculate total number of upper-cased words\n",
    "X_test['upper_case_word_count'] = X_test['Review'].apply(lambda x: len([wrd for wrd in x.split() if wrd.isupper()]))"
   ]
  },
  {
   "cell_type": "markdown",
   "metadata": {},
   "source": [
    "**Note**: _Information about **lambda functions** can be found [here](https://www.w3schools.com/python/python_lambda.asp)._"
   ]
  },
  {
   "cell_type": "code",
   "execution_count": 29,
   "metadata": {
    "colab": {
     "base_uri": "https://localhost:8080/",
     "height": 195
    },
    "colab_type": "code",
    "id": "iyJ87jSe9G2J",
    "outputId": "47cce8ab-5da8-49f3-929e-01d225864d79"
   },
   "outputs": [
    {
     "data": {
      "text/html": [
       "<div>\n",
       "<style scoped>\n",
       "    .dataframe tbody tr th:only-of-type {\n",
       "        vertical-align: middle;\n",
       "    }\n",
       "\n",
       "    .dataframe tbody tr th {\n",
       "        vertical-align: top;\n",
       "    }\n",
       "\n",
       "    .dataframe thead th {\n",
       "        text-align: right;\n",
       "    }\n",
       "</style>\n",
       "<table border=\"1\" class=\"dataframe\">\n",
       "  <thead>\n",
       "    <tr style=\"text-align: right;\">\n",
       "      <th></th>\n",
       "      <th>Review</th>\n",
       "      <th>char_count</th>\n",
       "      <th>word_count</th>\n",
       "      <th>word_density</th>\n",
       "      <th>punctuation_count</th>\n",
       "      <th>title_word_count</th>\n",
       "      <th>upper_case_word_count</th>\n",
       "    </tr>\n",
       "  </thead>\n",
       "  <tbody>\n",
       "    <tr>\n",
       "      <th>12896</th>\n",
       "      <td>Soooo soft! This is a delightfully soft and fl...</td>\n",
       "      <td>268</td>\n",
       "      <td>52</td>\n",
       "      <td>5.056604</td>\n",
       "      <td>8</td>\n",
       "      <td>2</td>\n",
       "      <td>0</td>\n",
       "    </tr>\n",
       "    <tr>\n",
       "      <th>13183</th>\n",
       "      <td>Had my eye on this, but dind't get I finally v...</td>\n",
       "      <td>399</td>\n",
       "      <td>84</td>\n",
       "      <td>4.694118</td>\n",
       "      <td>20</td>\n",
       "      <td>2</td>\n",
       "      <td>1</td>\n",
       "    </tr>\n",
       "    <tr>\n",
       "      <th>1496</th>\n",
       "      <td>I wanted to like this... I wanted to like this...</td>\n",
       "      <td>525</td>\n",
       "      <td>104</td>\n",
       "      <td>5.000000</td>\n",
       "      <td>19</td>\n",
       "      <td>2</td>\n",
       "      <td>2</td>\n",
       "    </tr>\n",
       "    <tr>\n",
       "      <th>5205</th>\n",
       "      <td>Beautiful blouse Bought this for my daughter i...</td>\n",
       "      <td>203</td>\n",
       "      <td>35</td>\n",
       "      <td>5.638889</td>\n",
       "      <td>10</td>\n",
       "      <td>2</td>\n",
       "      <td>0</td>\n",
       "    </tr>\n",
       "    <tr>\n",
       "      <th>13366</th>\n",
       "      <td>Boxy. large. Boxy, unflattering, and large.\\n\\...</td>\n",
       "      <td>295</td>\n",
       "      <td>51</td>\n",
       "      <td>5.673077</td>\n",
       "      <td>22</td>\n",
       "      <td>2</td>\n",
       "      <td>0</td>\n",
       "    </tr>\n",
       "  </tbody>\n",
       "</table>\n",
       "</div>"
      ],
      "text/plain": [
       "                                                  Review  char_count  \\\n",
       "12896  Soooo soft! This is a delightfully soft and fl...         268   \n",
       "13183  Had my eye on this, but dind't get I finally v...         399   \n",
       "1496   I wanted to like this... I wanted to like this...         525   \n",
       "5205   Beautiful blouse Bought this for my daughter i...         203   \n",
       "13366  Boxy. large. Boxy, unflattering, and large.\\n\\...         295   \n",
       "\n",
       "       word_count  word_density  punctuation_count  title_word_count  \\\n",
       "12896          52      5.056604                  8                 2   \n",
       "13183          84      4.694118                 20                 2   \n",
       "1496          104      5.000000                 19                 2   \n",
       "5205           35      5.638889                 10                 2   \n",
       "13366          51      5.673077                 22                 2   \n",
       "\n",
       "       upper_case_word_count  \n",
       "12896                      0  \n",
       "13183                      1  \n",
       "1496                       2  \n",
       "5205                       0  \n",
       "13366                      0  "
      ]
     },
     "execution_count": 29,
     "metadata": {},
     "output_type": "execute_result"
    }
   ],
   "source": [
    "# check first 5 rows\n",
    "X_train.head()"
   ]
  },
  {
   "cell_type": "markdown",
   "metadata": {
    "colab_type": "text",
    "id": "j9HZhCnN9G2C"
   },
   "source": [
    "<a name=\"logreg\"></a>\n",
    "## 5.4.1 Logistic Regression "
   ]
  },
  {
   "cell_type": "markdown",
   "metadata": {
    "colab_type": "text",
    "id": "1mHfxYqj9G2L"
   },
   "source": [
    "A logistic regression model is **easy to train**, **interpret** and **works well** on a wide variety of NLP problems.\n",
    "\n",
    "**Note**: _More info about Logistic Regression [here](https://www.youtube.com/watch?v=yIYKR4sgzI8)._"
   ]
  },
  {
   "cell_type": "code",
   "execution_count": 30,
   "metadata": {
    "colab": {},
    "colab_type": "code",
    "id": "4xlxi2zO9G2L"
   },
   "outputs": [],
   "source": [
    "from sklearn.linear_model import LogisticRegression\n",
    "\n",
    "# instantiate log reg\n",
    "lr = LogisticRegression(C=1, random_state=42, solver='liblinear')"
   ]
  },
  {
   "cell_type": "markdown",
   "metadata": {
    "colab_type": "text",
    "id": "j9HZhCnN9G2C"
   },
   "source": [
    "<a name=\"metrics\"></a>\n",
    "## 5.4.2 Model Evaluation Metrics - Quick Refresher"
   ]
  },
  {
   "cell_type": "markdown",
   "metadata": {
    "colab_type": "text",
    "id": "yLi8rI2d9G2N"
   },
   "source": [
    "Just **accuracy is never enough** in datasets with a **rare class problem**.\n",
    "\n",
    "- __Precision:__ The positive predictive power of a model. Out of all the predictions made by a model for a class, how many are actually correct\n",
    "- __Recall:__ The coverage or hit-rate of a model. Out of all the test data samples belonging to a class, how many was the model able to predict (hit or cover) correctly.\n",
    "- __F1-score:__ The harmonic mean of the precision and recall.\n",
    "\n",
    "**Note**: _More info about classification metrics [here](https://www.analyticsvidhya.com/blog/2021/07/metrics-to-evaluate-your-classification-model-to-take-the-right-decisions/)._"
   ]
  },
  {
   "cell_type": "code",
   "execution_count": 34,
   "metadata": {
    "colab": {
     "base_uri": "https://localhost:8080/",
     "height": 311
    },
    "colab_type": "code",
    "id": "v7uniDrC9G2O",
    "outputId": "549e2638-58b9-4360-fe88-9f8e2b1a0904"
   },
   "outputs": [
    {
     "name": "stdout",
     "output_type": "stream",
     "text": [
      "              precision    recall  f1-score   support\n",
      "\n",
      "           0       0.00      0.00      0.00      1271\n",
      "           1       0.78      1.00      0.87      4390\n",
      "\n",
      "    accuracy                           0.78      5661\n",
      "   macro avg       0.39      0.50      0.44      5661\n",
      "weighted avg       0.60      0.78      0.68      5661\n",
      "\n"
     ]
    },
    {
     "data": {
      "text/html": [
       "<div>\n",
       "<style scoped>\n",
       "    .dataframe tbody tr th:only-of-type {\n",
       "        vertical-align: middle;\n",
       "    }\n",
       "\n",
       "    .dataframe tbody tr th {\n",
       "        vertical-align: top;\n",
       "    }\n",
       "\n",
       "    .dataframe thead th {\n",
       "        text-align: right;\n",
       "    }\n",
       "</style>\n",
       "<table border=\"1\" class=\"dataframe\">\n",
       "  <thead>\n",
       "    <tr style=\"text-align: right;\">\n",
       "      <th></th>\n",
       "      <th>0</th>\n",
       "      <th>1</th>\n",
       "    </tr>\n",
       "  </thead>\n",
       "  <tbody>\n",
       "    <tr>\n",
       "      <th>0</th>\n",
       "      <td>0</td>\n",
       "      <td>1271</td>\n",
       "    </tr>\n",
       "    <tr>\n",
       "      <th>1</th>\n",
       "      <td>0</td>\n",
       "      <td>4390</td>\n",
       "    </tr>\n",
       "  </tbody>\n",
       "</table>\n",
       "</div>"
      ],
      "text/plain": [
       "   0     1\n",
       "0  0  1271\n",
       "1  0  4390"
      ]
     },
     "execution_count": 34,
     "metadata": {},
     "output_type": "execute_result"
    }
   ],
   "source": [
    "# train model\n",
    "lr.fit(X_train.drop(['Review'], axis=1), y_train)\n",
    "\n",
    "# predict with test data\n",
    "predictions = lr.predict(X_test.drop(['Review'], axis=1))\n",
    "\n",
    "# evaluate model\n",
    "print(classification_report(y_test, predictions, zero_division=0))\n",
    "\n",
    "# convert cr to pandas dataframe\n",
    "pd.DataFrame(confusion_matrix(y_test, predictions))"
   ]
  },
  {
   "cell_type": "markdown",
   "metadata": {
    "colab_type": "text",
    "id": "WB1WXnmS9G2Q"
   },
   "source": [
    "Looks like our model was not able to predict a single product having a bad (no recommendation) rating, i.e. __Class 0__. \n",
    "\n",
    "This is as good as someone predicting a __1__ or __good__ for every product review. \n",
    "\n",
    "Can we do better?"
   ]
  },
  {
   "cell_type": "markdown",
   "metadata": {
    "colab_type": "text",
    "id": "j9HZhCnN9G2C"
   },
   "source": [
    "<a name=\"sentiment\"></a>\n",
    "## 5.4.3 Leveraging Text Sentiment"
   ]
  },
  {
   "cell_type": "markdown",
   "metadata": {
    "colab_type": "text",
    "id": "Njk5U6ld9G2a"
   },
   "source": [
    "Reviews are pretty **subjective**, **opinionated** and people often **express strong emotions**, **feelings**. \n",
    "\n",
    "This makes it a classic case where the text documents here are a good candidate for **extracting sentiment as a feature**.\n",
    "\n",
    "The general expectation is that **highly rated and recommended products** (label 1) should have a **positive sentiment** and products which are **not recommended** (label 0) should have a **negative sentiment**.\n",
    "\n",
    "**`TextBlob`** is an excellent open-source library for performing **sentiment analysis**. It has a **sentiment lexicon** (in the form of an XML file) which it leverages to give both **polarity and subjectivity scores**. \n",
    "\n",
    "- The **polarity score** is a float within the range [-1.0, 1.0]. \n",
    "- The **subjectivity** is a float within the range [0.0, 1.0] where 0.0 is very objective and 1.0 is very subjective. \n",
    "\n",
    "**Note**: _The above information come from [this](https://towardsdatascience.com/a-practitioners-guide-to-natural-language-processing-part-i-processing-understanding-text-9f4abfd13e72) article._"
   ]
  },
  {
   "cell_type": "code",
   "execution_count": 48,
   "metadata": {
    "colab": {
     "base_uri": "https://localhost:8080/",
     "height": 34
    },
    "colab_type": "code",
    "id": "oG7_MSsR9G2a",
    "outputId": "20f440ec-31e1-4d41-e276-2824b4348725"
   },
   "outputs": [
    {
     "name": "stdout",
     "output_type": "stream",
     "text": [
      "Sentiment analysis of 'This is an AMAZING pair of Jeans!': Polarity = 0.75 | Subjectivity = 0.90\n",
      "\n",
      "Sentiment analysis of 'I really hated this UGLY T-shirt!!': Polarity = -0.95 | Subjectivity = 0.85\n"
     ]
    }
   ],
   "source": [
    "from textblob import TextBlob\n",
    "\n",
    "# perform sentiment analysis\n",
    "sent = 'This is an AMAZING pair of Jeans!'\n",
    "sent_analysis = TextBlob(sent).sentiment\n",
    "print(\"Sentiment analysis of '{}': Polarity = {:.2f} | Subjectivity = {:.2f}\\n\".\n",
    "      format(sent, sent_analysis[0], sent_analysis[1]))\n",
    "\n",
    "sent_1 = 'I really hated this UGLY T-shirt!!'\n",
    "sent_analysis_1 = TextBlob(sent_1).sentiment\n",
    "print(\"Sentiment analysis of '{}': Polarity = {:.2f} | Subjectivity = {:.2f}\".\n",
    "      format(sent_1, sent_analysis_1[0], sent_analysis_1[1]))"
   ]
  },
  {
   "cell_type": "markdown",
   "metadata": {
    "colab_type": "text",
    "id": "G9vlglD09G2f"
   },
   "source": [
    "Looks like this should help us get features which **can distinguish between good and bad products**."
   ]
  },
  {
   "cell_type": "markdown",
   "metadata": {},
   "source": [
    "<a name=\"experiment2\"></a>\n",
    "# 5.5 Experiment 2: Features from Sentiment Analysis "
   ]
  },
  {
   "cell_type": "markdown",
   "metadata": {
    "colab_type": "text",
    "id": "k1D5kDCM9G2f"
   },
   "source": [
    "Remember this is **unsupervised**, **lexicon-based sentiment analysis** where **we don't have any pre-labeled data** saying which review migth have a positive or negative sentiment. "
   ]
  },
  {
   "cell_type": "code",
   "execution_count": 50,
   "metadata": {
    "colab": {},
    "colab_type": "code",
    "id": "nkYd9_8A9G2f"
   },
   "outputs": [],
   "source": [
    "# calculate review's sentiment \n",
    "x_train_snt_obj = X_train['Review'].apply(lambda row: TextBlob(row).sentiment)\n",
    "# create a column for polarity scores\n",
    "X_train['Polarity'] = [obj.polarity for obj in x_train_snt_obj.values]\n",
    "# create a column for subjectivity scores\n",
    "X_train['Subjectivity'] = [obj.subjectivity for obj in x_train_snt_obj.values]\n",
    "\n",
    "# calculate review's sentiment \n",
    "x_test_snt_obj = X_test['Review'].apply(lambda row: TextBlob(row).sentiment)\n",
    "# create a column for polarity scores\n",
    "X_test['Polarity'] = [obj.polarity for obj in x_test_snt_obj.values]\n",
    "# create a column for subjectivity scores\n",
    "X_test['Subjectivity'] = [obj.subjectivity for obj in x_test_snt_obj.values]"
   ]
  },
  {
   "cell_type": "code",
   "execution_count": 51,
   "metadata": {
    "colab": {
     "base_uri": "https://localhost:8080/",
     "height": 195
    },
    "colab_type": "code",
    "id": "5so7o_W89G2h",
    "outputId": "57bb8e33-8416-4d78-8b3c-734aaf106dae"
   },
   "outputs": [
    {
     "data": {
      "text/html": [
       "<div>\n",
       "<style scoped>\n",
       "    .dataframe tbody tr th:only-of-type {\n",
       "        vertical-align: middle;\n",
       "    }\n",
       "\n",
       "    .dataframe tbody tr th {\n",
       "        vertical-align: top;\n",
       "    }\n",
       "\n",
       "    .dataframe thead th {\n",
       "        text-align: right;\n",
       "    }\n",
       "</style>\n",
       "<table border=\"1\" class=\"dataframe\">\n",
       "  <thead>\n",
       "    <tr style=\"text-align: right;\">\n",
       "      <th></th>\n",
       "      <th>Review</th>\n",
       "      <th>char_count</th>\n",
       "      <th>word_count</th>\n",
       "      <th>word_density</th>\n",
       "      <th>punctuation_count</th>\n",
       "      <th>title_word_count</th>\n",
       "      <th>upper_case_word_count</th>\n",
       "      <th>Polarity</th>\n",
       "      <th>Subjectivity</th>\n",
       "    </tr>\n",
       "  </thead>\n",
       "  <tbody>\n",
       "    <tr>\n",
       "      <th>12896</th>\n",
       "      <td>Soooo soft! This is a delightfully soft and fl...</td>\n",
       "      <td>268</td>\n",
       "      <td>52</td>\n",
       "      <td>5.056604</td>\n",
       "      <td>8</td>\n",
       "      <td>2</td>\n",
       "      <td>0</td>\n",
       "      <td>0.170455</td>\n",
       "      <td>0.490909</td>\n",
       "    </tr>\n",
       "    <tr>\n",
       "      <th>13183</th>\n",
       "      <td>Had my eye on this, but dind't get I finally v...</td>\n",
       "      <td>399</td>\n",
       "      <td>84</td>\n",
       "      <td>4.694118</td>\n",
       "      <td>20</td>\n",
       "      <td>2</td>\n",
       "      <td>1</td>\n",
       "      <td>0.101944</td>\n",
       "      <td>0.719537</td>\n",
       "    </tr>\n",
       "    <tr>\n",
       "      <th>1496</th>\n",
       "      <td>I wanted to like this... I wanted to like this...</td>\n",
       "      <td>525</td>\n",
       "      <td>104</td>\n",
       "      <td>5.000000</td>\n",
       "      <td>19</td>\n",
       "      <td>2</td>\n",
       "      <td>2</td>\n",
       "      <td>0.186538</td>\n",
       "      <td>0.458761</td>\n",
       "    </tr>\n",
       "    <tr>\n",
       "      <th>5205</th>\n",
       "      <td>Beautiful blouse Bought this for my daughter i...</td>\n",
       "      <td>203</td>\n",
       "      <td>35</td>\n",
       "      <td>5.638889</td>\n",
       "      <td>10</td>\n",
       "      <td>2</td>\n",
       "      <td>0</td>\n",
       "      <td>0.625000</td>\n",
       "      <td>0.825000</td>\n",
       "    </tr>\n",
       "    <tr>\n",
       "      <th>13366</th>\n",
       "      <td>Boxy. large. Boxy, unflattering, and large.\\n\\...</td>\n",
       "      <td>295</td>\n",
       "      <td>51</td>\n",
       "      <td>5.673077</td>\n",
       "      <td>22</td>\n",
       "      <td>2</td>\n",
       "      <td>0</td>\n",
       "      <td>0.329613</td>\n",
       "      <td>0.510268</td>\n",
       "    </tr>\n",
       "  </tbody>\n",
       "</table>\n",
       "</div>"
      ],
      "text/plain": [
       "                                                  Review  char_count  \\\n",
       "12896  Soooo soft! This is a delightfully soft and fl...         268   \n",
       "13183  Had my eye on this, but dind't get I finally v...         399   \n",
       "1496   I wanted to like this... I wanted to like this...         525   \n",
       "5205   Beautiful blouse Bought this for my daughter i...         203   \n",
       "13366  Boxy. large. Boxy, unflattering, and large.\\n\\...         295   \n",
       "\n",
       "       word_count  word_density  punctuation_count  title_word_count  \\\n",
       "12896          52      5.056604                  8                 2   \n",
       "13183          84      4.694118                 20                 2   \n",
       "1496          104      5.000000                 19                 2   \n",
       "5205           35      5.638889                 10                 2   \n",
       "13366          51      5.673077                 22                 2   \n",
       "\n",
       "       upper_case_word_count  Polarity  Subjectivity  \n",
       "12896                      0  0.170455      0.490909  \n",
       "13183                      1  0.101944      0.719537  \n",
       "1496                       2  0.186538      0.458761  \n",
       "5205                       0  0.625000      0.825000  \n",
       "13366                      0  0.329613      0.510268  "
      ]
     },
     "execution_count": 51,
     "metadata": {},
     "output_type": "execute_result"
    }
   ],
   "source": [
    "# check first 5 rows\n",
    "X_train.head()"
   ]
  },
  {
   "cell_type": "markdown",
   "metadata": {},
   "source": [
    "<a name=\"model2\"></a>\n",
    "## 5.5.1 Buidling & Evaluating Model with Sentiment Analysis"
   ]
  },
  {
   "cell_type": "code",
   "execution_count": 53,
   "metadata": {
    "colab": {
     "base_uri": "https://localhost:8080/",
     "height": 258
    },
    "colab_type": "code",
    "id": "_fiZszFw9G2j",
    "outputId": "7ddabd2f-c990-46a9-a332-6dca46f3e917"
   },
   "outputs": [
    {
     "name": "stdout",
     "output_type": "stream",
     "text": [
      "              precision    recall  f1-score   support\n",
      "\n",
      "           0       0.69      0.26      0.38      1271\n",
      "           1       0.82      0.97      0.89      4390\n",
      "\n",
      "    accuracy                           0.81      5661\n",
      "   macro avg       0.75      0.61      0.63      5661\n",
      "weighted avg       0.79      0.81      0.77      5661\n",
      "\n"
     ]
    },
    {
     "data": {
      "text/html": [
       "<div>\n",
       "<style scoped>\n",
       "    .dataframe tbody tr th:only-of-type {\n",
       "        vertical-align: middle;\n",
       "    }\n",
       "\n",
       "    .dataframe tbody tr th {\n",
       "        vertical-align: top;\n",
       "    }\n",
       "\n",
       "    .dataframe thead th {\n",
       "        text-align: right;\n",
       "    }\n",
       "</style>\n",
       "<table border=\"1\" class=\"dataframe\">\n",
       "  <thead>\n",
       "    <tr style=\"text-align: right;\">\n",
       "      <th></th>\n",
       "      <th>0</th>\n",
       "      <th>1</th>\n",
       "    </tr>\n",
       "  </thead>\n",
       "  <tbody>\n",
       "    <tr>\n",
       "      <th>0</th>\n",
       "      <td>336</td>\n",
       "      <td>935</td>\n",
       "    </tr>\n",
       "    <tr>\n",
       "      <th>1</th>\n",
       "      <td>152</td>\n",
       "      <td>4238</td>\n",
       "    </tr>\n",
       "  </tbody>\n",
       "</table>\n",
       "</div>"
      ],
      "text/plain": [
       "     0     1\n",
       "0  336   935\n",
       "1  152  4238"
      ]
     },
     "execution_count": 53,
     "metadata": {},
     "output_type": "execute_result"
    }
   ],
   "source": [
    "# train log reg\n",
    "lr.fit(X_train.drop(['Review'], axis=1), y_train, )\n",
    "# predict on test data\n",
    "predictions = lr.predict(X_test.drop(['Review'], axis=1))\n",
    "\n",
    "# print classification report\n",
    "print(classification_report(y_test, predictions))\n",
    "\n",
    "# convert report to pandas DataFrame\n",
    "pd.DataFrame(confusion_matrix(y_test, predictions))"
   ]
  },
  {
   "cell_type": "markdown",
   "metadata": {
    "colab_type": "text",
    "id": "0mx9hX449G2l"
   },
   "source": [
    "Interesting! Looks like we are now able to predict __26%__ of the total number of bad or negative rated products now, and **Precision** is quite good at __69%__.\n",
    "\n",
    "__F1-Score__ for bad reviews is now __40%__ and for good reviews is __89%__.\n",
    "\n",
    "This brings our overall __F1-Score__ to __77%__ which is quite good.\n",
    "\n",
    "Can we still improve on our model since the recall of bad reviews is still pretty low?"
   ]
  },
  {
   "cell_type": "markdown",
   "metadata": {},
   "source": [
    "<a name=\"textpre2\"></a>\n",
    "## 5.5.2 Text Pre-Processing \\#2"
   ]
  },
  {
   "cell_type": "markdown",
   "metadata": {
    "colab_type": "text",
    "id": "U09f6e829G2l"
   },
   "source": [
    "We want to extract some specific features based on standard NLP feature engineering models like the classic **Bag of Words** model.\n",
    "\n",
    "For this we need to **clean and pre-process our text data**. We will build a **simple text pre-processor** that will perform:\n",
    "\n",
    "- Text Lowercasing\n",
    "- Removal of contractions\n",
    "- Removing unnecessary characters, numbers and symbols\n",
    "- Stemming\n",
    "- Stopword removal\n",
    "\n",
    "**Note**: _The above information come from [this](https://towardsdatascience.com/a-practitioners-guide-to-natural-language-processing-part-i-processing-understanding-text-9f4abfd13e72) article._"
   ]
  },
  {
   "cell_type": "code",
   "execution_count": 55,
   "metadata": {
    "colab": {
     "base_uri": "https://localhost:8080/",
     "height": 34
    },
    "colab_type": "code",
    "id": "s8PQYYWm9G2n",
    "outputId": "32ae4c28-d3c2-414f-9ffb-2bc21ec0d2b6"
   },
   "outputs": [
    {
     "data": {
      "text/plain": [
       "'I did not like this t-shirt'"
      ]
     },
     "execution_count": 55,
     "metadata": {},
     "output_type": "execute_result"
    }
   ],
   "source": [
    "import contractions\n",
    "\n",
    "# expand contractions\n",
    "contractions.fix('I didn\\'t like this t-shirt')"
   ]
  },
  {
   "cell_type": "code",
   "execution_count": 59,
   "metadata": {
    "colab": {},
    "colab_type": "code",
    "id": "ZSkz7gQY9G2t"
   },
   "outputs": [],
   "source": [
    "import re\n",
    "\n",
    "from nltk.corpus import stopwords\n",
    "from nltk.stem import PorterStemmer\n",
    "\n",
    "# remove some stopwords to capture negation in n-grams if possible\n",
    "stop_words = stopwords.words('english')\n",
    "stop_words.remove('no')\n",
    "stop_words.remove('not')\n",
    "stop_words.remove('but')\n",
    "\n",
    "# load up a simple porter stemmer - nothing fancy\n",
    "ps = PorterStemmer()\n",
    "\n",
    "def simple_text_preprocessor(document):\n",
    "    \"\"\"Perform basic text pre-processing tasks.\"\"\"\n",
    "    \n",
    "    # lower case\n",
    "    document = str(document).lower()\n",
    "    \n",
    "    # expand contractions\n",
    "    document = contractions.fix(document)\n",
    "    \n",
    "    # remove unnecessary characters\n",
    "    document = re.sub(r'[^a-zA-Z]',r' ', document)\n",
    "    document = re.sub(r'nbsp', r'', document)\n",
    "    document = re.sub(' +', ' ', document)\n",
    "    \n",
    "    # simple porter stemming\n",
    "    document = ' '.join([ps.stem(word) for word in document.split()])\n",
    "    \n",
    "    # stopwords removal\n",
    "    document = ' '.join([word for word in document.split() if word not in stop_words])\n",
    "    \n",
    "    return document\n",
    "\n",
    "# vectorize function\n",
    "stp = np.vectorize(simple_text_preprocessor)"
   ]
  },
  {
   "cell_type": "code",
   "execution_count": 60,
   "metadata": {
    "colab": {
     "base_uri": "https://localhost:8080/",
     "height": 296
    },
    "colab_type": "code",
    "id": "u3bHOnew9G2v",
    "outputId": "2d374c5c-dc4b-4d61-ec31-1fd3bf24fb97"
   },
   "outputs": [
    {
     "data": {
      "text/html": [
       "<div>\n",
       "<style scoped>\n",
       "    .dataframe tbody tr th:only-of-type {\n",
       "        vertical-align: middle;\n",
       "    }\n",
       "\n",
       "    .dataframe tbody tr th {\n",
       "        vertical-align: top;\n",
       "    }\n",
       "\n",
       "    .dataframe thead th {\n",
       "        text-align: right;\n",
       "    }\n",
       "</style>\n",
       "<table border=\"1\" class=\"dataframe\">\n",
       "  <thead>\n",
       "    <tr style=\"text-align: right;\">\n",
       "      <th></th>\n",
       "      <th>Review</th>\n",
       "      <th>char_count</th>\n",
       "      <th>word_count</th>\n",
       "      <th>word_density</th>\n",
       "      <th>punctuation_count</th>\n",
       "      <th>title_word_count</th>\n",
       "      <th>upper_case_word_count</th>\n",
       "      <th>Polarity</th>\n",
       "      <th>Subjectivity</th>\n",
       "      <th>Clean Review</th>\n",
       "    </tr>\n",
       "  </thead>\n",
       "  <tbody>\n",
       "    <tr>\n",
       "      <th>12896</th>\n",
       "      <td>Soooo soft! This is a delightfully soft and fl...</td>\n",
       "      <td>268</td>\n",
       "      <td>52</td>\n",
       "      <td>5.056604</td>\n",
       "      <td>8</td>\n",
       "      <td>2</td>\n",
       "      <td>0</td>\n",
       "      <td>0.170455</td>\n",
       "      <td>0.490909</td>\n",
       "      <td>soooo soft thi delight soft fluffi sweater mig...</td>\n",
       "    </tr>\n",
       "    <tr>\n",
       "      <th>13183</th>\n",
       "      <td>Had my eye on this, but dind't get I finally v...</td>\n",
       "      <td>399</td>\n",
       "      <td>84</td>\n",
       "      <td>4.694118</td>\n",
       "      <td>20</td>\n",
       "      <td>2</td>\n",
       "      <td>1</td>\n",
       "      <td>0.101944</td>\n",
       "      <td>0.719537</td>\n",
       "      <td>eye thi but dind get final visit store petit t...</td>\n",
       "    </tr>\n",
       "    <tr>\n",
       "      <th>1496</th>\n",
       "      <td>I wanted to like this... I wanted to like this...</td>\n",
       "      <td>525</td>\n",
       "      <td>104</td>\n",
       "      <td>5.000000</td>\n",
       "      <td>19</td>\n",
       "      <td>2</td>\n",
       "      <td>2</td>\n",
       "      <td>0.186538</td>\n",
       "      <td>0.458761</td>\n",
       "      <td>want like thi want like thi top badli badli fa...</td>\n",
       "    </tr>\n",
       "    <tr>\n",
       "      <th>5205</th>\n",
       "      <td>Beautiful blouse Bought this for my daughter i...</td>\n",
       "      <td>203</td>\n",
       "      <td>35</td>\n",
       "      <td>5.638889</td>\n",
       "      <td>10</td>\n",
       "      <td>2</td>\n",
       "      <td>0</td>\n",
       "      <td>0.625000</td>\n",
       "      <td>0.825000</td>\n",
       "      <td>beauti blous bought thi daughter law birthday ...</td>\n",
       "    </tr>\n",
       "    <tr>\n",
       "      <th>13366</th>\n",
       "      <td>Boxy. large. Boxy, unflattering, and large.\\n\\...</td>\n",
       "      <td>295</td>\n",
       "      <td>51</td>\n",
       "      <td>5.673077</td>\n",
       "      <td>22</td>\n",
       "      <td>2</td>\n",
       "      <td>0</td>\n",
       "      <td>0.329613</td>\n",
       "      <td>0.510268</td>\n",
       "      <td>boxi larg boxi unflatt larg curvi pound thi to...</td>\n",
       "    </tr>\n",
       "  </tbody>\n",
       "</table>\n",
       "</div>"
      ],
      "text/plain": [
       "                                                  Review  char_count  \\\n",
       "12896  Soooo soft! This is a delightfully soft and fl...         268   \n",
       "13183  Had my eye on this, but dind't get I finally v...         399   \n",
       "1496   I wanted to like this... I wanted to like this...         525   \n",
       "5205   Beautiful blouse Bought this for my daughter i...         203   \n",
       "13366  Boxy. large. Boxy, unflattering, and large.\\n\\...         295   \n",
       "\n",
       "       word_count  word_density  punctuation_count  title_word_count  \\\n",
       "12896          52      5.056604                  8                 2   \n",
       "13183          84      4.694118                 20                 2   \n",
       "1496          104      5.000000                 19                 2   \n",
       "5205           35      5.638889                 10                 2   \n",
       "13366          51      5.673077                 22                 2   \n",
       "\n",
       "       upper_case_word_count  Polarity  Subjectivity  \\\n",
       "12896                      0  0.170455      0.490909   \n",
       "13183                      1  0.101944      0.719537   \n",
       "1496                       2  0.186538      0.458761   \n",
       "5205                       0  0.625000      0.825000   \n",
       "13366                      0  0.329613      0.510268   \n",
       "\n",
       "                                            Clean Review  \n",
       "12896  soooo soft thi delight soft fluffi sweater mig...  \n",
       "13183  eye thi but dind get final visit store petit t...  \n",
       "1496   want like thi want like thi top badli badli fa...  \n",
       "5205   beauti blous bought thi daughter law birthday ...  \n",
       "13366  boxi larg boxi unflatt larg curvi pound thi to...  "
      ]
     },
     "execution_count": 60,
     "metadata": {},
     "output_type": "execute_result"
    }
   ],
   "source": [
    "# create a new column with cleaned text\n",
    "X_train['Clean Review'] = stp(X_train['Review'].values)\n",
    "X_test['Clean Review'] = stp(X_test['Review'].values)\n",
    "\n",
    "# check first 5 rows\n",
    "X_train.head()"
   ]
  },
  {
   "cell_type": "markdown",
   "metadata": {},
   "source": [
    "<a name=\"previousfeatures\"></a>\n",
    "## 5.5.3 Extracting Basic NLP Count-based Features"
   ]
  },
  {
   "cell_type": "code",
   "execution_count": 61,
   "metadata": {
    "colab": {
     "base_uri": "https://localhost:8080/",
     "height": 195
    },
    "colab_type": "code",
    "id": "C7jXiEiG9G2y",
    "outputId": "36aeccd5-106c-4fbe-c75c-82d24d57fec9"
   },
   "outputs": [
    {
     "data": {
      "text/html": [
       "<div>\n",
       "<style scoped>\n",
       "    .dataframe tbody tr th:only-of-type {\n",
       "        vertical-align: middle;\n",
       "    }\n",
       "\n",
       "    .dataframe tbody tr th {\n",
       "        vertical-align: top;\n",
       "    }\n",
       "\n",
       "    .dataframe thead th {\n",
       "        text-align: right;\n",
       "    }\n",
       "</style>\n",
       "<table border=\"1\" class=\"dataframe\">\n",
       "  <thead>\n",
       "    <tr style=\"text-align: right;\">\n",
       "      <th></th>\n",
       "      <th>char_count</th>\n",
       "      <th>word_count</th>\n",
       "      <th>word_density</th>\n",
       "      <th>punctuation_count</th>\n",
       "      <th>title_word_count</th>\n",
       "      <th>upper_case_word_count</th>\n",
       "      <th>Polarity</th>\n",
       "      <th>Subjectivity</th>\n",
       "    </tr>\n",
       "  </thead>\n",
       "  <tbody>\n",
       "    <tr>\n",
       "      <th>0</th>\n",
       "      <td>268</td>\n",
       "      <td>52</td>\n",
       "      <td>5.056604</td>\n",
       "      <td>8</td>\n",
       "      <td>2</td>\n",
       "      <td>0</td>\n",
       "      <td>0.170455</td>\n",
       "      <td>0.490909</td>\n",
       "    </tr>\n",
       "    <tr>\n",
       "      <th>1</th>\n",
       "      <td>399</td>\n",
       "      <td>84</td>\n",
       "      <td>4.694118</td>\n",
       "      <td>20</td>\n",
       "      <td>2</td>\n",
       "      <td>1</td>\n",
       "      <td>0.101944</td>\n",
       "      <td>0.719537</td>\n",
       "    </tr>\n",
       "    <tr>\n",
       "      <th>2</th>\n",
       "      <td>525</td>\n",
       "      <td>104</td>\n",
       "      <td>5.000000</td>\n",
       "      <td>19</td>\n",
       "      <td>2</td>\n",
       "      <td>2</td>\n",
       "      <td>0.186538</td>\n",
       "      <td>0.458761</td>\n",
       "    </tr>\n",
       "    <tr>\n",
       "      <th>3</th>\n",
       "      <td>203</td>\n",
       "      <td>35</td>\n",
       "      <td>5.638889</td>\n",
       "      <td>10</td>\n",
       "      <td>2</td>\n",
       "      <td>0</td>\n",
       "      <td>0.625000</td>\n",
       "      <td>0.825000</td>\n",
       "    </tr>\n",
       "    <tr>\n",
       "      <th>4</th>\n",
       "      <td>295</td>\n",
       "      <td>51</td>\n",
       "      <td>5.673077</td>\n",
       "      <td>22</td>\n",
       "      <td>2</td>\n",
       "      <td>0</td>\n",
       "      <td>0.329613</td>\n",
       "      <td>0.510268</td>\n",
       "    </tr>\n",
       "  </tbody>\n",
       "</table>\n",
       "</div>"
      ],
      "text/plain": [
       "   char_count  word_count  word_density  punctuation_count  title_word_count  \\\n",
       "0         268          52      5.056604                  8                 2   \n",
       "1         399          84      4.694118                 20                 2   \n",
       "2         525         104      5.000000                 19                 2   \n",
       "3         203          35      5.638889                 10                 2   \n",
       "4         295          51      5.673077                 22                 2   \n",
       "\n",
       "   upper_case_word_count  Polarity  Subjectivity  \n",
       "0                      0  0.170455      0.490909  \n",
       "1                      1  0.101944      0.719537  \n",
       "2                      2  0.186538      0.458761  \n",
       "3                      0  0.625000      0.825000  \n",
       "4                      0  0.329613      0.510268  "
      ]
     },
     "execution_count": 61,
     "metadata": {},
     "output_type": "execute_result"
    }
   ],
   "source": [
    "# remove the 2 columns\n",
    "X_train_metadata = X_train.drop(['Review', 'Clean Review'], axis=1).reset_index(drop=True)\n",
    "X_test_metadata = X_test.drop(['Review', 'Clean Review'], axis=1).reset_index(drop=True)\n",
    "\n",
    "# check first 5 rows\n",
    "X_train_metadata.head()"
   ]
  },
  {
   "cell_type": "markdown",
   "metadata": {},
   "source": [
    "<a name=\"experiment3\"></a>\n",
    "# 5.6 Experiment 3: Adding Bag of Words based Features"
   ]
  },
  {
   "cell_type": "markdown",
   "metadata": {
    "colab_type": "text",
    "id": "r7777OYn9G21"
   },
   "source": [
    "This is perhaps the most simple vector space representational model for unstructured text. A vector space model is simply a mathematical model to **represent unstructured text as numeric vectors**, such that each dimension of the vector is a specific feature\\attribute. \n",
    "\n",
    "\n",
    "**Note**: _The above information come from [this](https://towardsdatascience.com/understanding-feature-engineering-part-3-traditional-methods-for-text-data-f6f7d70acd41) article._"
   ]
  },
  {
   "cell_type": "code",
   "execution_count": 65,
   "metadata": {
    "colab": {
     "base_uri": "https://localhost:8080/",
     "height": 244
    },
    "colab_type": "code",
    "id": "SaX1fDmT9G23",
    "outputId": "49a8d0d7-fdf0-4391-c636-015281834d30"
   },
   "outputs": [
    {
     "data": {
      "text/html": [
       "<div>\n",
       "<style scoped>\n",
       "    .dataframe tbody tr th:only-of-type {\n",
       "        vertical-align: middle;\n",
       "    }\n",
       "\n",
       "    .dataframe tbody tr th {\n",
       "        vertical-align: top;\n",
       "    }\n",
       "\n",
       "    .dataframe thead th {\n",
       "        text-align: right;\n",
       "    }\n",
       "</style>\n",
       "<table border=\"1\" class=\"dataframe\">\n",
       "  <thead>\n",
       "    <tr style=\"text-align: right;\">\n",
       "      <th></th>\n",
       "      <th>aa</th>\n",
       "      <th>aaaaandidon</th>\n",
       "      <th>aaaaannnnnnd</th>\n",
       "      <th>aaaah</th>\n",
       "      <th>aaaahmaz</th>\n",
       "      <th>aaah</th>\n",
       "      <th>ab</th>\n",
       "      <th>abbey</th>\n",
       "      <th>abbi</th>\n",
       "      <th>abck</th>\n",
       "      <th>...</th>\n",
       "      <th>zing</th>\n",
       "      <th>zip</th>\n",
       "      <th>zipper</th>\n",
       "      <th>zipperi</th>\n",
       "      <th>zippi</th>\n",
       "      <th>zone</th>\n",
       "      <th>zooland</th>\n",
       "      <th>zoom</th>\n",
       "      <th>zowi</th>\n",
       "      <th>zuma</th>\n",
       "    </tr>\n",
       "  </thead>\n",
       "  <tbody>\n",
       "    <tr>\n",
       "      <th>0</th>\n",
       "      <td>0</td>\n",
       "      <td>0</td>\n",
       "      <td>0</td>\n",
       "      <td>0</td>\n",
       "      <td>0</td>\n",
       "      <td>0</td>\n",
       "      <td>0</td>\n",
       "      <td>0</td>\n",
       "      <td>0</td>\n",
       "      <td>0</td>\n",
       "      <td>...</td>\n",
       "      <td>0</td>\n",
       "      <td>0</td>\n",
       "      <td>0</td>\n",
       "      <td>0</td>\n",
       "      <td>0</td>\n",
       "      <td>0</td>\n",
       "      <td>0</td>\n",
       "      <td>0</td>\n",
       "      <td>0</td>\n",
       "      <td>0</td>\n",
       "    </tr>\n",
       "    <tr>\n",
       "      <th>1</th>\n",
       "      <td>0</td>\n",
       "      <td>0</td>\n",
       "      <td>0</td>\n",
       "      <td>0</td>\n",
       "      <td>0</td>\n",
       "      <td>0</td>\n",
       "      <td>0</td>\n",
       "      <td>0</td>\n",
       "      <td>0</td>\n",
       "      <td>0</td>\n",
       "      <td>...</td>\n",
       "      <td>0</td>\n",
       "      <td>0</td>\n",
       "      <td>0</td>\n",
       "      <td>0</td>\n",
       "      <td>0</td>\n",
       "      <td>0</td>\n",
       "      <td>0</td>\n",
       "      <td>0</td>\n",
       "      <td>0</td>\n",
       "      <td>0</td>\n",
       "    </tr>\n",
       "    <tr>\n",
       "      <th>2</th>\n",
       "      <td>0</td>\n",
       "      <td>0</td>\n",
       "      <td>0</td>\n",
       "      <td>0</td>\n",
       "      <td>0</td>\n",
       "      <td>0</td>\n",
       "      <td>0</td>\n",
       "      <td>0</td>\n",
       "      <td>0</td>\n",
       "      <td>0</td>\n",
       "      <td>...</td>\n",
       "      <td>0</td>\n",
       "      <td>0</td>\n",
       "      <td>0</td>\n",
       "      <td>0</td>\n",
       "      <td>0</td>\n",
       "      <td>0</td>\n",
       "      <td>0</td>\n",
       "      <td>0</td>\n",
       "      <td>0</td>\n",
       "      <td>0</td>\n",
       "    </tr>\n",
       "    <tr>\n",
       "      <th>3</th>\n",
       "      <td>0</td>\n",
       "      <td>0</td>\n",
       "      <td>0</td>\n",
       "      <td>0</td>\n",
       "      <td>0</td>\n",
       "      <td>0</td>\n",
       "      <td>0</td>\n",
       "      <td>0</td>\n",
       "      <td>0</td>\n",
       "      <td>0</td>\n",
       "      <td>...</td>\n",
       "      <td>0</td>\n",
       "      <td>0</td>\n",
       "      <td>0</td>\n",
       "      <td>0</td>\n",
       "      <td>0</td>\n",
       "      <td>0</td>\n",
       "      <td>0</td>\n",
       "      <td>0</td>\n",
       "      <td>0</td>\n",
       "      <td>0</td>\n",
       "    </tr>\n",
       "    <tr>\n",
       "      <th>4</th>\n",
       "      <td>0</td>\n",
       "      <td>0</td>\n",
       "      <td>0</td>\n",
       "      <td>0</td>\n",
       "      <td>0</td>\n",
       "      <td>0</td>\n",
       "      <td>0</td>\n",
       "      <td>0</td>\n",
       "      <td>0</td>\n",
       "      <td>0</td>\n",
       "      <td>...</td>\n",
       "      <td>0</td>\n",
       "      <td>0</td>\n",
       "      <td>0</td>\n",
       "      <td>0</td>\n",
       "      <td>0</td>\n",
       "      <td>0</td>\n",
       "      <td>0</td>\n",
       "      <td>0</td>\n",
       "      <td>0</td>\n",
       "      <td>0</td>\n",
       "    </tr>\n",
       "  </tbody>\n",
       "</table>\n",
       "<p>5 rows × 8554 columns</p>\n",
       "</div>"
      ],
      "text/plain": [
       "   aa  aaaaandidon  aaaaannnnnnd  aaaah  aaaahmaz  aaah  ab  abbey  abbi  \\\n",
       "0   0            0             0      0         0     0   0      0     0   \n",
       "1   0            0             0      0         0     0   0      0     0   \n",
       "2   0            0             0      0         0     0   0      0     0   \n",
       "3   0            0             0      0         0     0   0      0     0   \n",
       "4   0            0             0      0         0     0   0      0     0   \n",
       "\n",
       "   abck  ...  zing  zip  zipper  zipperi  zippi  zone  zooland  zoom  zowi  \\\n",
       "0     0  ...     0    0       0        0      0     0        0     0     0   \n",
       "1     0  ...     0    0       0        0      0     0        0     0     0   \n",
       "2     0  ...     0    0       0        0      0     0        0     0     0   \n",
       "3     0  ...     0    0       0        0      0     0        0     0     0   \n",
       "4     0  ...     0    0       0        0      0     0        0     0     0   \n",
       "\n",
       "   zuma  \n",
       "0     0  \n",
       "1     0  \n",
       "2     0  \n",
       "3     0  \n",
       "4     0  \n",
       "\n",
       "[5 rows x 8554 columns]"
      ]
     },
     "execution_count": 65,
     "metadata": {},
     "output_type": "execute_result"
    }
   ],
   "source": [
    "from sklearn.feature_extraction.text import CountVectorizer\n",
    "\n",
    "# instatiate vectorizer\n",
    "cv = CountVectorizer(min_df=0.0, max_df=1.0, ngram_range=(1, 1))\n",
    "# fit vectorizer to 'Clean Review' and convert it to numpy array\n",
    "X_traincv = cv.fit_transform(X_train['Clean Review']).toarray()\n",
    "# create a pandas DataFrame\n",
    "X_traincv = pd.DataFrame(X_traincv, columns=cv.get_feature_names())\n",
    "\n",
    "# use vectorizer to transform 'Clean Review' and convert it to numpy array\n",
    "X_testcv = cv.transform(X_test['Clean Review']).toarray()\n",
    "# create a pandas DataFrame\n",
    "X_testcv = pd.DataFrame(X_testcv, columns=cv.get_feature_names())\n",
    "\n",
    "# check first 5 rows\n",
    "X_traincv.head()"
   ]
  },
  {
   "cell_type": "code",
   "execution_count": 66,
   "metadata": {
    "colab": {
     "base_uri": "https://localhost:8080/",
     "height": 244
    },
    "colab_type": "code",
    "id": "AMNdg_cg9G27",
    "outputId": "dcfd5c6a-1293-4e42-fdc8-af4bcb9a7ebb"
   },
   "outputs": [
    {
     "data": {
      "text/html": [
       "<div>\n",
       "<style scoped>\n",
       "    .dataframe tbody tr th:only-of-type {\n",
       "        vertical-align: middle;\n",
       "    }\n",
       "\n",
       "    .dataframe tbody tr th {\n",
       "        vertical-align: top;\n",
       "    }\n",
       "\n",
       "    .dataframe thead th {\n",
       "        text-align: right;\n",
       "    }\n",
       "</style>\n",
       "<table border=\"1\" class=\"dataframe\">\n",
       "  <thead>\n",
       "    <tr style=\"text-align: right;\">\n",
       "      <th></th>\n",
       "      <th>char_count</th>\n",
       "      <th>word_count</th>\n",
       "      <th>word_density</th>\n",
       "      <th>punctuation_count</th>\n",
       "      <th>title_word_count</th>\n",
       "      <th>upper_case_word_count</th>\n",
       "      <th>Polarity</th>\n",
       "      <th>Subjectivity</th>\n",
       "      <th>aa</th>\n",
       "      <th>aaaaandidon</th>\n",
       "      <th>...</th>\n",
       "      <th>zing</th>\n",
       "      <th>zip</th>\n",
       "      <th>zipper</th>\n",
       "      <th>zipperi</th>\n",
       "      <th>zippi</th>\n",
       "      <th>zone</th>\n",
       "      <th>zooland</th>\n",
       "      <th>zoom</th>\n",
       "      <th>zowi</th>\n",
       "      <th>zuma</th>\n",
       "    </tr>\n",
       "  </thead>\n",
       "  <tbody>\n",
       "    <tr>\n",
       "      <th>0</th>\n",
       "      <td>268</td>\n",
       "      <td>52</td>\n",
       "      <td>5.056604</td>\n",
       "      <td>8</td>\n",
       "      <td>2</td>\n",
       "      <td>0</td>\n",
       "      <td>0.170455</td>\n",
       "      <td>0.490909</td>\n",
       "      <td>0</td>\n",
       "      <td>0</td>\n",
       "      <td>...</td>\n",
       "      <td>0</td>\n",
       "      <td>0</td>\n",
       "      <td>0</td>\n",
       "      <td>0</td>\n",
       "      <td>0</td>\n",
       "      <td>0</td>\n",
       "      <td>0</td>\n",
       "      <td>0</td>\n",
       "      <td>0</td>\n",
       "      <td>0</td>\n",
       "    </tr>\n",
       "    <tr>\n",
       "      <th>1</th>\n",
       "      <td>399</td>\n",
       "      <td>84</td>\n",
       "      <td>4.694118</td>\n",
       "      <td>20</td>\n",
       "      <td>2</td>\n",
       "      <td>1</td>\n",
       "      <td>0.101944</td>\n",
       "      <td>0.719537</td>\n",
       "      <td>0</td>\n",
       "      <td>0</td>\n",
       "      <td>...</td>\n",
       "      <td>0</td>\n",
       "      <td>0</td>\n",
       "      <td>0</td>\n",
       "      <td>0</td>\n",
       "      <td>0</td>\n",
       "      <td>0</td>\n",
       "      <td>0</td>\n",
       "      <td>0</td>\n",
       "      <td>0</td>\n",
       "      <td>0</td>\n",
       "    </tr>\n",
       "    <tr>\n",
       "      <th>2</th>\n",
       "      <td>525</td>\n",
       "      <td>104</td>\n",
       "      <td>5.000000</td>\n",
       "      <td>19</td>\n",
       "      <td>2</td>\n",
       "      <td>2</td>\n",
       "      <td>0.186538</td>\n",
       "      <td>0.458761</td>\n",
       "      <td>0</td>\n",
       "      <td>0</td>\n",
       "      <td>...</td>\n",
       "      <td>0</td>\n",
       "      <td>0</td>\n",
       "      <td>0</td>\n",
       "      <td>0</td>\n",
       "      <td>0</td>\n",
       "      <td>0</td>\n",
       "      <td>0</td>\n",
       "      <td>0</td>\n",
       "      <td>0</td>\n",
       "      <td>0</td>\n",
       "    </tr>\n",
       "    <tr>\n",
       "      <th>3</th>\n",
       "      <td>203</td>\n",
       "      <td>35</td>\n",
       "      <td>5.638889</td>\n",
       "      <td>10</td>\n",
       "      <td>2</td>\n",
       "      <td>0</td>\n",
       "      <td>0.625000</td>\n",
       "      <td>0.825000</td>\n",
       "      <td>0</td>\n",
       "      <td>0</td>\n",
       "      <td>...</td>\n",
       "      <td>0</td>\n",
       "      <td>0</td>\n",
       "      <td>0</td>\n",
       "      <td>0</td>\n",
       "      <td>0</td>\n",
       "      <td>0</td>\n",
       "      <td>0</td>\n",
       "      <td>0</td>\n",
       "      <td>0</td>\n",
       "      <td>0</td>\n",
       "    </tr>\n",
       "    <tr>\n",
       "      <th>4</th>\n",
       "      <td>295</td>\n",
       "      <td>51</td>\n",
       "      <td>5.673077</td>\n",
       "      <td>22</td>\n",
       "      <td>2</td>\n",
       "      <td>0</td>\n",
       "      <td>0.329613</td>\n",
       "      <td>0.510268</td>\n",
       "      <td>0</td>\n",
       "      <td>0</td>\n",
       "      <td>...</td>\n",
       "      <td>0</td>\n",
       "      <td>0</td>\n",
       "      <td>0</td>\n",
       "      <td>0</td>\n",
       "      <td>0</td>\n",
       "      <td>0</td>\n",
       "      <td>0</td>\n",
       "      <td>0</td>\n",
       "      <td>0</td>\n",
       "      <td>0</td>\n",
       "    </tr>\n",
       "  </tbody>\n",
       "</table>\n",
       "<p>5 rows × 8562 columns</p>\n",
       "</div>"
      ],
      "text/plain": [
       "   char_count  word_count  word_density  punctuation_count  title_word_count  \\\n",
       "0         268          52      5.056604                  8                 2   \n",
       "1         399          84      4.694118                 20                 2   \n",
       "2         525         104      5.000000                 19                 2   \n",
       "3         203          35      5.638889                 10                 2   \n",
       "4         295          51      5.673077                 22                 2   \n",
       "\n",
       "   upper_case_word_count  Polarity  Subjectivity  aa  aaaaandidon  ...  zing  \\\n",
       "0                      0  0.170455      0.490909   0            0  ...     0   \n",
       "1                      1  0.101944      0.719537   0            0  ...     0   \n",
       "2                      2  0.186538      0.458761   0            0  ...     0   \n",
       "3                      0  0.625000      0.825000   0            0  ...     0   \n",
       "4                      0  0.329613      0.510268   0            0  ...     0   \n",
       "\n",
       "   zip  zipper  zipperi  zippi  zone  zooland  zoom  zowi  zuma  \n",
       "0    0       0        0      0     0        0     0     0     0  \n",
       "1    0       0        0      0     0        0     0     0     0  \n",
       "2    0       0        0      0     0        0     0     0     0  \n",
       "3    0       0        0      0     0        0     0     0     0  \n",
       "4    0       0        0      0     0        0     0     0     0  \n",
       "\n",
       "[5 rows x 8562 columns]"
      ]
     },
     "execution_count": 66,
     "metadata": {},
     "output_type": "execute_result"
    }
   ],
   "source": [
    "# concatenate the 2 dataframes\n",
    "X_train_comb = pd.concat([X_train_metadata, X_traincv], axis=1)\n",
    "X_test_comb = pd.concat([X_test_metadata, X_testcv], axis=1)\n",
    "\n",
    "# check first 5 rows\n",
    "X_train_comb.head()"
   ]
  },
  {
   "cell_type": "markdown",
   "metadata": {},
   "source": [
    "<a name=\"evaluation3\"></a>\n",
    "## 5.6.1 Model Training & Evaluation"
   ]
  },
  {
   "cell_type": "code",
   "execution_count": 67,
   "metadata": {
    "colab": {
     "base_uri": "https://localhost:8080/",
     "height": 258
    },
    "colab_type": "code",
    "id": "fWaTndc-9G3A",
    "outputId": "2e50b231-5f42-4713-cbba-601dfd7eccb0"
   },
   "outputs": [
    {
     "name": "stdout",
     "output_type": "stream",
     "text": [
      "              precision    recall  f1-score   support\n",
      "\n",
      "           0       0.76      0.71      0.73      1271\n",
      "           1       0.92      0.94      0.93      4390\n",
      "\n",
      "    accuracy                           0.88      5661\n",
      "   macro avg       0.84      0.82      0.83      5661\n",
      "weighted avg       0.88      0.88      0.88      5661\n",
      "\n"
     ]
    },
    {
     "data": {
      "text/html": [
       "<div>\n",
       "<style scoped>\n",
       "    .dataframe tbody tr th:only-of-type {\n",
       "        vertical-align: middle;\n",
       "    }\n",
       "\n",
       "    .dataframe tbody tr th {\n",
       "        vertical-align: top;\n",
       "    }\n",
       "\n",
       "    .dataframe thead th {\n",
       "        text-align: right;\n",
       "    }\n",
       "</style>\n",
       "<table border=\"1\" class=\"dataframe\">\n",
       "  <thead>\n",
       "    <tr style=\"text-align: right;\">\n",
       "      <th></th>\n",
       "      <th>0</th>\n",
       "      <th>1</th>\n",
       "    </tr>\n",
       "  </thead>\n",
       "  <tbody>\n",
       "    <tr>\n",
       "      <th>0</th>\n",
       "      <td>899</td>\n",
       "      <td>372</td>\n",
       "    </tr>\n",
       "    <tr>\n",
       "      <th>1</th>\n",
       "      <td>285</td>\n",
       "      <td>4105</td>\n",
       "    </tr>\n",
       "  </tbody>\n",
       "</table>\n",
       "</div>"
      ],
      "text/plain": [
       "     0     1\n",
       "0  899   372\n",
       "1  285  4105"
      ]
     },
     "execution_count": 67,
     "metadata": {},
     "output_type": "execute_result"
    }
   ],
   "source": [
    "# train logreg\n",
    "lr.fit(X_train_comb, y_train)\n",
    "# predict using test data\n",
    "predictions = lr.predict(X_test_comb)\n",
    "\n",
    "# print classification report\n",
    "print(classification_report(y_test, predictions))\n",
    "\n",
    "# convert cr to pandas DataFrame\n",
    "pd.DataFrame(confusion_matrix(y_test, predictions))"
   ]
  },
  {
   "cell_type": "markdown",
   "metadata": {
    "colab_type": "text",
    "id": "1ePwRpYI9G3E"
   },
   "source": [
    "Wow! This looks promising.\n",
    "\n",
    "We are now able to predict __71%__ of the total number of bad or negative rated products now! **Precision** is quite good at __76%__\n",
    "\n",
    "__F1-Score__ for bad reviews is now __73%__ and good reviews is __93%__.\n",
    "\n",
    "This brings our overall __F1-Score__ to __88%__ which is quite good."
   ]
  }
 ],
 "metadata": {
  "colab": {
   "collapsed_sections": [],
   "name": "05 - NLP Applications - Predicting E-Commerce Product Recommendation Ratings from Reviews .ipynb",
   "provenance": []
  },
  "kernelspec": {
   "display_name": "Python 3 (ipykernel)",
   "language": "python",
   "name": "python3"
  },
  "language_info": {
   "codemirror_mode": {
    "name": "ipython",
    "version": 3
   },
   "file_extension": ".py",
   "mimetype": "text/x-python",
   "name": "python",
   "nbconvert_exporter": "python",
   "pygments_lexer": "ipython3",
   "version": "3.9.7"
  }
 },
 "nbformat": 4,
 "nbformat_minor": 1
}
