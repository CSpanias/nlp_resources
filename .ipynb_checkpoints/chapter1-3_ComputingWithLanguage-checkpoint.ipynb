{
 "cells": [
  {
   "cell_type": "markdown",
   "id": "3f2dec07",
   "metadata": {},
   "source": [
    "# **Natural Language Processing with Python**\n",
    "Revision notes for [AI Bootcamp](https://instituteofcoding.org/skillsbootcamps/course/skills-bootcamp-in-artificial-intelligence/) W08-W11. <br>\n",
    "\n",
    "Content based on the [NLTK book](https://www.nltk.org/book/). <br>\n",
    "\n",
    "You can find Chapter 1 [here](https://www.nltk.org/book/ch01.html).\n",
    "\n",
    "# CONTENT\n",
    "\n",
    "1. Language Processing and Python\n",
    "    1. Computing with Language: Texts and Words\n",
    "    2. A Closer Look at Python: Texts as Lists of Words\n",
    "    3. [Computing with Language: Simple Statistics](#ComputingwithLanguage2)\n",
    "        1. [Frequency Distributions](#FreqDist)\n",
    "        2. [Fine-Grained Selection of Words](#WordSelection)\n",
    "        3. [Collocations and Bigrams](#Collocations)\n",
    "        4. [Counting Other Things](#CountingOther)"
   ]
  },
  {
   "cell_type": "markdown",
   "id": "385d370d",
   "metadata": {},
   "source": [
    "**Install**, **import** and **download NLTK**. <br>\n",
    "\n",
    "*Uncomment lines 2 and 5 if you haven't installed and downloaded NLTK yet.*"
   ]
  },
  {
   "cell_type": "code",
   "execution_count": 1,
   "id": "d2abe7cf",
   "metadata": {},
   "outputs": [],
   "source": [
    "# install nltk\n",
    "#!pip install nltk\n",
    "\n",
    "# load nltk\n",
    "import nltk\n",
    "\n",
    "# download nltk\n",
    "#nltk.download()"
   ]
  },
  {
   "cell_type": "markdown",
   "id": "79726eee",
   "metadata": {},
   "source": [
    "Load all items (9 texts) from **NLTK' book module**."
   ]
  },
  {
   "cell_type": "code",
   "execution_count": 2,
   "id": "68c69572",
   "metadata": {
    "scrolled": true
   },
   "outputs": [
    {
     "name": "stdout",
     "output_type": "stream",
     "text": [
      "*** Introductory Examples for the NLTK Book ***\n",
      "Loading text1, ..., text9 and sent1, ..., sent9\n",
      "Type the name of the text or sentence to view it.\n",
      "Type: 'texts()' or 'sents()' to list the materials.\n",
      "text1: Moby Dick by Herman Melville 1851\n",
      "text2: Sense and Sensibility by Jane Austen 1811\n",
      "text3: The Book of Genesis\n",
      "text4: Inaugural Address Corpus\n",
      "text5: Chat Corpus\n",
      "text6: Monty Python and the Holy Grail\n",
      "text7: Wall Street Journal\n",
      "text8: Personals Corpus\n",
      "text9: The Man Who Was Thursday by G . K . Chesterton 1908\n"
     ]
    }
   ],
   "source": [
    "# load all items from NLTK’s book module.\n",
    "from nltk.book import *"
   ]
  },
  {
   "cell_type": "markdown",
   "id": "df0ff83e",
   "metadata": {},
   "source": [
    "<a name=\"ComputingwithLanguage2\"></a>\n",
    "## 1.1.3 Computing with Language: Simple Statistics\n",
    "The goal is to use **automatic methods** to find characteristic words and expressions of a text.\n",
    "\n",
    "1. [Frequency Distributions](#FreqDist)\n",
    "2. [Fine-Grained Selection of Words](#WordSelection)\n",
    "3. [Collocations and Bigrams](#Collocations)\n",
    "4. [Counting Other Things](#CountingOther)"
   ]
  },
  {
   "cell_type": "markdown",
   "id": "74bec411",
   "metadata": {},
   "source": [
    "<a name=\"FreqDist\"></a>\n",
    "### 3.1 Frequency Distributions\n",
    "The **frequency of each vocabulary item in the text**, i.e. how the total number of word tokens in the text is distributed across the vocabulary items.\n",
    "\n",
    "It can help to identify the **most informative** words about a topic within a text.\n",
    "\n",
    "**Syntax**:``FreqDist(text)``"
   ]
  },
  {
   "cell_type": "code",
   "execution_count": 16,
   "id": "a3232c25",
   "metadata": {},
   "outputs": [
    {
     "name": "stdout",
     "output_type": "stream",
     "text": [
      "<FreqDist with 19317 samples and 260819 outcomes>\n"
     ]
    },
    {
     "data": {
      "text/plain": [
       "FreqDist({',': 18713, 'the': 13721, '.': 6862, 'of': 6536, 'and': 6024, 'a': 4569, 'to': 4542, ';': 4072, 'in': 3916, 'that': 2982, ...})"
      ]
     },
     "execution_count": 16,
     "metadata": {},
     "output_type": "execute_result"
    }
   ],
   "source": [
    "# get the outcomes of fdist1\n",
    "fdist1 = FreqDist(text1)\n",
    "print(fdist1)\n",
    "\n",
    "# get the frequency distribution of text1\n",
    "fdist1 = FreqDist(text1)\n",
    "fdist1"
   ]
  },
  {
   "cell_type": "markdown",
   "id": "9fc74804",
   "metadata": {},
   "source": [
    "><FreqDist with 19317 samples and 260819 outcomes>\n",
    "\n",
    "The **FreqDist object** gives us the total number of tokens (**outcomes**) that have been counted up (260,819) as well as the number of unique tokens (19,317).\n",
    "\n",
    "We can find also the $n$ most frequent words in the text.\n",
    "\n",
    "**Syntax**: `frequency_distribution.most_common(n)`"
   ]
  },
  {
   "cell_type": "code",
   "execution_count": 18,
   "id": "899deb70",
   "metadata": {},
   "outputs": [
    {
     "data": {
      "text/plain": [
       "[(',', 18713),\n",
       " ('the', 13721),\n",
       " ('.', 6862),\n",
       " ('of', 6536),\n",
       " ('and', 6024),\n",
       " ('a', 4569),\n",
       " ('to', 4542),\n",
       " (';', 4072),\n",
       " ('in', 3916),\n",
       " ('that', 2982)]"
      ]
     },
     "execution_count": 18,
     "metadata": {},
     "output_type": "execute_result"
    }
   ],
   "source": [
    "# find the 10 most frequent words of text1\n",
    "fdist1.most_common(10)"
   ]
  },
  {
   "cell_type": "markdown",
   "id": "668f9143",
   "metadata": {},
   "source": [
    "We can also find the **FreqDist of a specific word**.\n",
    "\n",
    "**Syntax**:`frequency_distribution[\"word\"]`"
   ]
  },
  {
   "cell_type": "code",
   "execution_count": 19,
   "id": "d292df87",
   "metadata": {},
   "outputs": [
    {
     "data": {
      "text/plain": [
       "906"
      ]
     },
     "execution_count": 19,
     "metadata": {},
     "output_type": "execute_result"
    }
   ],
   "source": [
    "# find the FreqDist of the word 'whale' in text1\n",
    "fdist1[\"whale\"]"
   ]
  },
  {
   "cell_type": "markdown",
   "id": "7b584f62",
   "metadata": {},
   "source": [
    "A **cumulative frequency plot** for the $n$ most frequent words can inform us on **what proportion of the text is taken up** with those words.\n",
    "\n",
    "**Syntax**:`frequency_distribution.plot(n, cumulative=True)`"
   ]
  },
  {
   "cell_type": "code",
   "execution_count": 21,
   "id": "c990b1c0",
   "metadata": {
    "scrolled": true
   },
   "outputs": [
    {
     "data": {
      "image/png": "[encoded data removed]",
      "text/plain": [
       "<Figure size 432x288 with 1 Axes>"
      ]
     },
     "metadata": {
      "needs_background": "light"
     },
     "output_type": "display_data"
    }
   ],
   "source": [
    "# generate a cumulative frequency plot for the 10 most frequent words\n",
    "fdist1.plot(10, cumulative=True); # the ';' supresses text output generated from the plot"
   ]
  },
  {
   "cell_type": "markdown",
   "id": "0c0c946a",
   "metadata": {},
   "source": [
    "The above graph tell us that just **those 10 words account for almost $\\frac{1}{3}$ of the book**!\n",
    "\n",
    "We can also search for the **words that occur only once**, the so-called **hapaxes**.\n",
    "\n",
    "**Syntax**:`frequency_distribution.hapaxes()`"
   ]
  },
  {
   "cell_type": "code",
   "execution_count": 25,
   "id": "dfba8694",
   "metadata": {},
   "outputs": [
    {
     "data": {
      "text/plain": [
       "9002"
      ]
     },
     "execution_count": 25,
     "metadata": {},
     "output_type": "execute_result"
    }
   ],
   "source": [
    "# find the number of the unique words of text1\n",
    "len(fd_text1.hapaxes())"
   ]
  },
  {
   "cell_type": "markdown",
   "id": "c7b27d8f",
   "metadata": {},
   "source": [
    "There are 9002 **hapaxes** in text1!"
   ]
  },
  {
   "cell_type": "code",
   "execution_count": 33,
   "id": "b46acff4",
   "metadata": {},
   "outputs": [
    {
     "name": "stdout",
     "output_type": "stream",
     "text": [
      "['Herman', 'Melville', ']', 'ETYMOLOGY', 'Late', 'Consumptive', 'School', 'threadbare', 'lexicons', 'mockingly', 'flags', 'mortality', 'signification', 'HACKLUYT', 'Sw', 'HVAL', 'roundness', 'Dut', 'Ger', 'WALLEN']\n"
     ]
    }
   ],
   "source": [
    "# print the first 20 hapaxes of text1\n",
    "print(fd_text1.hapaxes()[:20])"
   ]
  },
  {
   "cell_type": "markdown",
   "id": "39a87d75",
   "metadata": {},
   "source": [
    "<a name=\"WordSelection\"></a>\n",
    "### 3.2 Fine-Grained Selection of Words\n",
    "\n",
    "We can perform more **refined selections** of words.\n",
    "\n",
    "For instance, let's find the **words that are more than 15 characters long**, using **set theory** notation.\n",
    "\n",
    ">[**Set theory**](https://en.wikipedia.org/wiki/Set_theory) is the branch of mathematical logic that studies sets, which can be informally described as collections of objects.\n",
    "\n",
    "$P$ &rarr; the property of 15 or more <br>\n",
    "\n",
    "$P(w)$ &rarr; is true if $w$ is more than 15 characters long <br>\n",
    "\n",
    "$w {\\;} | {\\;} w {\\;} E {\\;} V {\\;} \\& {\\;} P(w)$ &rarr; the set of all $w$ such that $w$ is an element of $V$ (vocabulary) and $w$ has property $P$.\n",
    "\n",
    "`[w for w in V if p(w)]` &rarr; Python notation"
   ]
  },
  {
   "cell_type": "code",
   "execution_count": 60,
   "id": "223909a9",
   "metadata": {},
   "outputs": [
    {
     "name": "stdout",
     "output_type": "stream",
     "text": [
      "The length of the vocabulary in text4 is: 18.\n",
      "\n",
      "The unique tokens that are >15 characters are:\n",
      " ['RESPONSIBILITIES', 'antiphilosophists', 'constitutionally', 'contradistinction', 'discountenancing', 'disqualification', 'enthusiastically', 'instrumentalities', 'internationality', 'irresponsibility', 'misappropriation', 'misrepresentation', 'misunderstanding', 'responsibilities', 'sentimentalizing', 'transcontinental', 'uncharitableness', 'unconstitutional']\n",
      "\n",
      "['RESPONSIBILITIES', 'antiphilosophists', 'constitutionally', 'contradistinction', 'discountenancing', 'disqualification', 'enthusiastically', 'instrumentalities', 'internationality', 'irresponsibility', 'misappropriation', 'misrepresentation', 'misunderstanding', 'responsibilities', 'sentimentalizing', 'transcontinental', 'uncharitableness', 'unconstitutional']\n"
     ]
    }
   ],
   "source": [
    "# remove duplicates to obtain vocabulary\n",
    "V = set(text4)\n",
    "\n",
    "# create a set with words more than 15 characters long\n",
    "long_words = [w for w in V if len(w) > 15] \n",
    "\n",
    "# check how many words are more than 15 characters long\n",
    "print(\"The length of the vocabulary in text4 is: {}.\".format(len(long_words)))\n",
    "\n",
    "# print the individual words\n",
    "print(\"\\nThe unique tokens that are >15 characters are:\\n {}\\n\".format(sorted(long_words)))\n",
    "\n",
    "# we can also construct a set directly in a more succinct way\n",
    "long_words_1 = {w for w in text4 if len(w) > 15}\n",
    "print(sorted(long_words_1))"
   ]
  },
  {
   "cell_type": "markdown",
   "id": "8a39053e",
   "metadata": {},
   "source": [
    "**Long words** seem to reflect the **national focus** of the text. \n",
    "\n",
    "**Frequently occurring long words** might be even more representative. \n",
    "\n",
    "Thus, **eliminate short & infrequent** long words."
   ]
  },
  {
   "cell_type": "code",
   "execution_count": 76,
   "id": "87e23555",
   "metadata": {
    "scrolled": false
   },
   "outputs": [
    {
     "name": "stdout",
     "output_type": "stream",
     "text": [
      "The number of frequently occurring long words are: 144.\n",
      "\n",
      "The 10 most frequently occurring long words are: \n",
      "['Administration', 'Confederacy', 'Constitution', 'Declaration', 'Departments', 'Independence', 'Legislature', 'Presidential', 'Territories', 'accomplished']\n"
     ]
    }
   ],
   "source": [
    "# obtain a frequency distribution\n",
    "fdist4 = FreqDist(text4)\n",
    "\n",
    "# find frequently occurring long words ()>10 chars & occurring >7 times)\n",
    "frequent_long = {w for w in text4 if len(w) > 10 and fdist4[w] > 7}\n",
    "\n",
    "# check how the number of words\n",
    "print(\"The number of frequently occurring long words are: {}.\\n\".format(len(frequent_long)))\n",
    "\n",
    "# print the words\n",
    "print(\"The 10 most frequently occurring long words are: \\n{}\".format(sorted(frequent_long)[:10]))"
   ]
  },
  {
   "cell_type": "markdown",
   "id": "2e540741",
   "metadata": {},
   "source": [
    "The results **reflects** pretty well **the text style**!"
   ]
  },
  {
   "cell_type": "markdown",
   "id": "eedd3ef5",
   "metadata": {},
   "source": [
    "<a name=\"Collocations\"></a>\n",
    "### 3.3 Collocations & Bigrams\n",
    "> A **collocation** is a sequence of words that **occur together unusually often**. In brief, **frequent bigrams**.\n",
    "\n",
    "A characteristic of collocations is that they are **resistant to substitution with words that have similar senses**. For example, when **red wine** (collocation) is replaced by **maroon wine** (sounds odd).\n",
    "\n",
    "> **Bigrams** are word pairs.\n",
    "\n",
    "**Syntax**: `bigrams([word1, word2, word3, word4])`"
   ]
  },
  {
   "cell_type": "code",
   "execution_count": 78,
   "id": "46c39f02",
   "metadata": {},
   "outputs": [
    {
     "name": "stdout",
     "output_type": "stream",
     "text": [
      "<generator object bigrams at 0x0000020C6760C040>\n",
      "[('more', 'is'), ('is', 'said'), ('said', 'than'), ('than', 'done')]\n"
     ]
    }
   ],
   "source": [
    "from nltk import bigrams\n",
    "\n",
    "# pair the words within the list\n",
    "bigram_pairs = bigrams([\"more\", \"is\", \"said\", \"than\", \"done\"])\n",
    "\n",
    "# it returns a bigram object\n",
    "print(bigram_pairs)\n",
    "\n",
    "# convert object to a list and print it\n",
    "print(list(bigram_pairs))"
   ]
  },
  {
   "cell_type": "markdown",
   "id": "bd8e0d37",
   "metadata": {},
   "source": [
    "**Collocations** are just **frequent bigrams**, but usually we are interested to those that involve rare words, i.e. **bigrams that occur more often than we would expect** based on the frequency of the individual words.\n",
    "\n",
    "**Syntax**:`text.collocations()`  "
   ]
  },
  {
   "cell_type": "code",
   "execution_count": 96,
   "id": "16cfa02e",
   "metadata": {
    "scrolled": true
   },
   "outputs": [
    {
     "name": "stdout",
     "output_type": "stream",
     "text": [
      "The collocations of <Text: Inaugural Address Corpus> are:\n",
      "\n",
      "United States; fellow citizens; years ago; four years; Federal\n",
      "Government; General Government; American people; Vice President; God\n",
      "bless; Chief Justice; one another; fellow Americans; Old World;\n",
      "Almighty God; Fellow citizens; Chief Magistrate; every citizen; Indian\n",
      "tribes; public debt; foreign nations\n",
      "None\n"
     ]
    }
   ],
   "source": [
    "# find pair of words within text1\n",
    "print(\"The collocations of {} are:\\n\".format(text4))\n",
    "print(text4.collocations())"
   ]
  },
  {
   "cell_type": "code",
   "execution_count": 97,
   "id": "06ddc602",
   "metadata": {},
   "outputs": [
    {
     "name": "stdout",
     "output_type": "stream",
     "text": [
      "The collocations of <Text: Chat Corpus> are:\n",
      "\n",
      "wanna chat; PART JOIN; MODE #14-19teens; JOIN PART; PART PART;\n",
      "cute.-ass MP3; MP3 player; JOIN JOIN; times .. .; ACTION watches; guys\n",
      "wanna; song lasts; last night; ACTION sits; -...)...- S.M.R.; Lime\n",
      "Player; Player 12%; dont know; lez gurls; long time\n",
      "None\n"
     ]
    }
   ],
   "source": [
    "# find pair of words within text5\n",
    "print(\"The collocations of {} are:\\n\".format(text5))\n",
    "print(text5.collocations())"
   ]
  },
  {
   "cell_type": "markdown",
   "id": "a9fa6161",
   "metadata": {},
   "source": [
    "The collocations are very **specific to the genre** of the texts."
   ]
  },
  {
   "cell_type": "markdown",
   "id": "5952af86",
   "metadata": {},
   "source": [
    "<a name=\"CountingOther\"></a>\n",
    "### 3.4 Counting Other Things\n",
    "We can also find the **dist of word lengths** in a text."
   ]
  },
  {
   "cell_type": "code",
   "execution_count": 110,
   "id": "6a8e39f9",
   "metadata": {},
   "outputs": [
    {
     "name": "stdout",
     "output_type": "stream",
     "text": [
      "<FreqDist with 17 samples and 152901 outcomes> \n",
      "\n",
      "[1, 2, 3, 4, 5, 6, 7, 8, 9, 10, 11, 12, 13, 14, 15, 16, 17]\n"
     ]
    }
   ],
   "source": [
    "# create a list with the length of each word\n",
    "word_lengths = [len(w) for w in text4]\n",
    "\n",
    "# create a FreqDist for each length\n",
    "fdist = FreqDist(word_lengths)\n",
    "print(fdist, \"\\n\")\n",
    "\n",
    "# check the length categories\n",
    "print(sorted(fdist))"
   ]
  },
  {
   "cell_type": "markdown",
   "id": "dd74869e",
   "metadata": {},
   "source": [
    "><FreqDist with 17 samples and 152901 outcomes>\n",
    "\n",
    "There are **152,901 tokens**, but just **17 different lengths**. There are only words from 1 up to 17 characters long!\n",
    "\n",
    "We can find out what lengths are the most common."
   ]
  },
  {
   "cell_type": "code",
   "execution_count": 111,
   "id": "6562c53e",
   "metadata": {
    "scrolled": true
   },
   "outputs": [
    {
     "name": "stdout",
     "output_type": "stream",
     "text": [
      "[(3, 29826), (2, 28300), (4, 19238), (1, 17410), (5, 13565), (6, 11069), (7, 10322), (8, 7474), (9, 5798), (10, 4812)]\n"
     ]
    }
   ],
   "source": [
    "# check the 10 most common words lengths\n",
    "print(fdist.most_common(10))"
   ]
  },
  {
   "cell_type": "code",
   "execution_count": 124,
   "id": "d13152b4",
   "metadata": {},
   "outputs": [
    {
     "name": "stdout",
     "output_type": "stream",
     "text": [
      "The most common character length in text4 is: 3\n",
      "The character length 3 accounts for 19.51% of the text.\n"
     ]
    }
   ],
   "source": [
    "# find the most common legth\n",
    "print(\"The most common character length in text4 is: {}\".format(fdist.max()))\n",
    "\n",
    "# find the % of the most common length\n",
    "print(\"The character length {} accounts for {:.2f}% of the text.\".format(fdist.max(), (fdist.freq(3))*100))"
   ]
  },
  {
   "attachments": {
    "nltk_freqdist.PNG": {
     "image/png": "[encoded data removed]"
    }
   },
   "cell_type": "markdown",
   "id": "2a8f381e",
   "metadata": {},
   "source": [
    "![nltk_freqdist.PNG](attachment:nltk_freqdist.PNG)"
   ]
  },
  {
   "cell_type": "markdown",
   "id": "869611af",
   "metadata": {},
   "source": [
    "We can display the FreqDist in a tabulated format.\n",
    "\n",
    "**Syntax**:`frequency_distribution.tabulate()`"
   ]
  },
  {
   "cell_type": "code",
   "execution_count": 128,
   "id": "70fd16aa",
   "metadata": {},
   "outputs": [
    {
     "name": "stdout",
     "output_type": "stream",
     "text": [
      "    3     2     4     1     5     6     7     8     9    10    11    12    13    14    15    16    17 \n",
      "29826 28300 19238 17410 13565 11069 10322  7474  5798  4812  2482  1436   626   403    79    51    10 \n"
     ]
    }
   ],
   "source": [
    "# display the FreqDist in a tabulated format\n",
    "fdist.tabulate()"
   ]
  },
  {
   "cell_type": "markdown",
   "id": "5d71f6cb",
   "metadata": {},
   "source": [
    "We can obtain a graphical plot of the frequency distribution.\n",
    "\n",
    "**Syntax**: `frequency_distribution.plot()`"
   ]
  },
  {
   "cell_type": "code",
   "execution_count": 131,
   "id": "eb39ee36",
   "metadata": {},
   "outputs": [
    {
     "data": {
      "image/png": "[encoded data removed]",
      "text/plain": [
       "<Figure size 432x288 with 1 Axes>"
      ]
     },
     "metadata": {
      "needs_background": "light"
     },
     "output_type": "display_data"
    }
   ],
   "source": [
    "# create a sample of text1 with just 20 words\n",
    "subtext1 = text1[350:370]\n",
    "# create a frequency distribution of the sample\n",
    "fd_subtext1 = FreqDist(subtext1)\n",
    "# create a graphical plot of the distribution\n",
    "fd_subtext1.plot();"
   ]
  }
 ],
 "metadata": {
  "kernelspec": {
   "display_name": "Python 3 (ipykernel)",
   "language": "python",
   "name": "python3"
  },
  "language_info": {
   "codemirror_mode": {
    "name": "ipython",
    "version": 3
   },
   "file_extension": ".py",
   "mimetype": "text/x-python",
   "name": "python",
   "nbconvert_exporter": "python",
   "pygments_lexer": "ipython3",
   "version": "3.9.7"
  }
 },
 "nbformat": 4,
 "nbformat_minor": 5
}
