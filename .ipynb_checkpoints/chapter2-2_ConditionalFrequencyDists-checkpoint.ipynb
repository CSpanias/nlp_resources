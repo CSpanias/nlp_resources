{
 "cells": [
  {
   "cell_type": "markdown",
   "id": "3f2dec07",
   "metadata": {},
   "source": [
    "# **Natural Language Processing with Python**\n",
    "Revision notes for [AI Bootcamp](https://instituteofcoding.org/skillsbootcamps/course/skills-bootcamp-in-artificial-intelligence/) W08-W11. <br>\n",
    "\n",
    "Content based on the [NLTK book](https://www.nltk.org/book/). <br>\n",
    "\n",
    "You can find Chapter 2 [here](https://www.nltk.org/book/ch02.html).\n",
    "\n",
    "# CONTENT\n",
    "\n",
    "1. Language Processing and Python\n",
    "2. Accessing Text Corpora and Lexical Resources\n",
    "    1. Accessing Text Corpora\n",
    "    2. [Conditional Frequency Distributions](#ConditionalFD)\n",
    "        1. [Conditions and Events](#CondEv)\n",
    "        1. [Counting Words by Genre](#CountGenre)\n",
    "        1. [Plotting and Tabulating Distributions](#PlotTabDist)\n",
    "        1. [Generating Random Text with Bigrams](#RandTextBig)\n",
    "\n"
   ]
  },
  {
   "cell_type": "markdown",
   "id": "385d370d",
   "metadata": {},
   "source": [
    "**Install**, **import** and **download NLTK**. <br>\n",
    "\n",
    "*Uncomment lines 2 and 5 if you haven't installed and downloaded NLTK yet.*"
   ]
  },
  {
   "cell_type": "code",
   "execution_count": 2,
   "id": "d2abe7cf",
   "metadata": {},
   "outputs": [],
   "source": [
    "# install nltk\n",
    "#!pip install nltk\n",
    "\n",
    "# load nltk\n",
    "import nltk\n",
    "\n",
    "# download nltk\n",
    "#nltk.download()"
   ]
  },
  {
   "cell_type": "markdown",
   "id": "79726eee",
   "metadata": {},
   "source": [
    "Load all items (9 texts) from **NLTK' book module**."
   ]
  },
  {
   "cell_type": "code",
   "execution_count": 3,
   "id": "68c69572",
   "metadata": {
    "scrolled": true
   },
   "outputs": [
    {
     "name": "stdout",
     "output_type": "stream",
     "text": [
      "*** Introductory Examples for the NLTK Book ***\n",
      "Loading text1, ..., text9 and sent1, ..., sent9\n",
      "Type the name of the text or sentence to view it.\n",
      "Type: 'texts()' or 'sents()' to list the materials.\n",
      "text1: Moby Dick by Herman Melville 1851\n",
      "text2: Sense and Sensibility by Jane Austen 1811\n",
      "text3: The Book of Genesis\n",
      "text4: Inaugural Address Corpus\n",
      "text5: Chat Corpus\n",
      "text6: Monty Python and the Holy Grail\n",
      "text7: Wall Street Journal\n",
      "text8: Personals Corpus\n",
      "text9: The Man Who Was Thursday by G . K . Chesterton 1908\n"
     ]
    }
   ],
   "source": [
    "# load all items from NLTK’s book module.\n",
    "from nltk.book import *"
   ]
  },
  {
   "cell_type": "markdown",
   "id": "d0276129",
   "metadata": {},
   "source": [
    "<a name=\"ConditionalFD\"></a>\n",
    "## 2.2 Conditional Frequency Distributions\n",
    "<a name=\"RandTextBig\"></a>\n",
    "### Generating Random Text with Bigrams"
   ]
  },
  {
   "cell_type": "markdown",
   "id": "4f721ef3",
   "metadata": {},
   "source": [
    "<a name=\"CondEv\"></a>\n",
    "### Conditions and Events"
   ]
  },
  {
   "cell_type": "markdown",
   "id": "6da829b5",
   "metadata": {},
   "source": [
    "<a name=\"CountGenre\"></a>\n",
    "### Counting Words by Genre"
   ]
  },
  {
   "cell_type": "markdown",
   "id": "54984b4c",
   "metadata": {},
   "source": [
    "<a name=\"PlotTabDist\"></a>\n",
    "### Plotting and Tabulating Distributions\n"
   ]
  }
 ],
 "metadata": {
  "kernelspec": {
   "display_name": "Python 3 (ipykernel)",
   "language": "python",
   "name": "python3"
  },
  "language_info": {
   "codemirror_mode": {
    "name": "ipython",
    "version": 3
   },
   "file_extension": ".py",
   "mimetype": "text/x-python",
   "name": "python",
   "nbconvert_exporter": "python",
   "pygments_lexer": "ipython3",
   "version": "3.9.7"
  }
 },
 "nbformat": 4,
 "nbformat_minor": 5
}
