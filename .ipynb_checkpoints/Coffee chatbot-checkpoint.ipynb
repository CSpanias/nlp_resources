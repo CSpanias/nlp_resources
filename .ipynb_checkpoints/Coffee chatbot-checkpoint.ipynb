{
 "cells": [
  {
   "cell_type": "code",
   "execution_count": 3,
   "id": "6d68a8e7",
   "metadata": {},
   "outputs": [
    {
     "name": "stdout",
     "output_type": "stream",
     "text": [
      "Welcome to the cafe!\n"
     ]
    },
    {
     "ename": "KeyboardInterrupt",
     "evalue": "Interrupted by user",
     "output_type": "error",
     "traceback": [
      "\u001b[1;31m---------------------------------------------------------------------------\u001b[0m",
      "\u001b[1;31mKeyboardInterrupt\u001b[0m                         Traceback (most recent call last)",
      "\u001b[1;32m~\\AppData\\Local\\Temp/ipykernel_2872/3323287724.py\u001b[0m in \u001b[0;36m<module>\u001b[1;34m\u001b[0m\n\u001b[0;32m     67\u001b[0m \u001b[1;33m\u001b[0m\u001b[0m\n\u001b[0;32m     68\u001b[0m \u001b[1;31m# Call coffee_bot()!\u001b[0m\u001b[1;33m\u001b[0m\u001b[1;33m\u001b[0m\u001b[0m\n\u001b[1;32m---> 69\u001b[1;33m \u001b[0mcoffee_bot\u001b[0m\u001b[1;33m(\u001b[0m\u001b[1;33m)\u001b[0m\u001b[1;33m\u001b[0m\u001b[1;33m\u001b[0m\u001b[0m\n\u001b[0m",
      "\u001b[1;32m~\\AppData\\Local\\Temp/ipykernel_2872/3323287724.py\u001b[0m in \u001b[0;36mcoffee_bot\u001b[1;34m()\u001b[0m\n\u001b[0;32m      3\u001b[0m \u001b[1;33m\u001b[0m\u001b[0m\n\u001b[0;32m      4\u001b[0m   \u001b[0mprint\u001b[0m\u001b[1;33m(\u001b[0m\u001b[1;34m\"Welcome to the cafe!\"\u001b[0m\u001b[1;33m)\u001b[0m\u001b[1;33m\u001b[0m\u001b[1;33m\u001b[0m\u001b[0m\n\u001b[1;32m----> 5\u001b[1;33m   \u001b[0mname\u001b[0m \u001b[1;33m=\u001b[0m \u001b[0minput\u001b[0m\u001b[1;33m(\u001b[0m\u001b[1;34m\"Can I get your name please? \"\u001b[0m\u001b[1;33m)\u001b[0m\u001b[1;33m\u001b[0m\u001b[1;33m\u001b[0m\u001b[0m\n\u001b[0m\u001b[0;32m      6\u001b[0m \u001b[1;33m\u001b[0m\u001b[0m\n\u001b[0;32m      7\u001b[0m   \u001b[0msize\u001b[0m \u001b[1;33m=\u001b[0m \u001b[0mget_size\u001b[0m\u001b[1;33m(\u001b[0m\u001b[1;33m)\u001b[0m\u001b[1;33m\u001b[0m\u001b[1;33m\u001b[0m\u001b[0m\n",
      "\u001b[1;32mC:\\ProgramData\\Anaconda3\\lib\\site-packages\\ipykernel\\kernelbase.py\u001b[0m in \u001b[0;36mraw_input\u001b[1;34m(self, prompt)\u001b[0m\n\u001b[0;32m   1004\u001b[0m                 \u001b[1;34m\"raw_input was called, but this frontend does not support input requests.\"\u001b[0m\u001b[1;33m\u001b[0m\u001b[1;33m\u001b[0m\u001b[0m\n\u001b[0;32m   1005\u001b[0m             )\n\u001b[1;32m-> 1006\u001b[1;33m         return self._input_request(\n\u001b[0m\u001b[0;32m   1007\u001b[0m             \u001b[0mstr\u001b[0m\u001b[1;33m(\u001b[0m\u001b[0mprompt\u001b[0m\u001b[1;33m)\u001b[0m\u001b[1;33m,\u001b[0m\u001b[1;33m\u001b[0m\u001b[1;33m\u001b[0m\u001b[0m\n\u001b[0;32m   1008\u001b[0m             \u001b[0mself\u001b[0m\u001b[1;33m.\u001b[0m\u001b[0m_parent_ident\u001b[0m\u001b[1;33m[\u001b[0m\u001b[1;34m\"shell\"\u001b[0m\u001b[1;33m]\u001b[0m\u001b[1;33m,\u001b[0m\u001b[1;33m\u001b[0m\u001b[1;33m\u001b[0m\u001b[0m\n",
      "\u001b[1;32mC:\\ProgramData\\Anaconda3\\lib\\site-packages\\ipykernel\\kernelbase.py\u001b[0m in \u001b[0;36m_input_request\u001b[1;34m(self, prompt, ident, parent, password)\u001b[0m\n\u001b[0;32m   1049\u001b[0m             \u001b[1;32mexcept\u001b[0m \u001b[0mKeyboardInterrupt\u001b[0m\u001b[1;33m:\u001b[0m\u001b[1;33m\u001b[0m\u001b[1;33m\u001b[0m\u001b[0m\n\u001b[0;32m   1050\u001b[0m                 \u001b[1;31m# re-raise KeyboardInterrupt, to truncate traceback\u001b[0m\u001b[1;33m\u001b[0m\u001b[1;33m\u001b[0m\u001b[0m\n\u001b[1;32m-> 1051\u001b[1;33m                 \u001b[1;32mraise\u001b[0m \u001b[0mKeyboardInterrupt\u001b[0m\u001b[1;33m(\u001b[0m\u001b[1;34m\"Interrupted by user\"\u001b[0m\u001b[1;33m)\u001b[0m \u001b[1;32mfrom\u001b[0m \u001b[1;32mNone\u001b[0m\u001b[1;33m\u001b[0m\u001b[1;33m\u001b[0m\u001b[0m\n\u001b[0m\u001b[0;32m   1052\u001b[0m             \u001b[1;32mexcept\u001b[0m \u001b[0mException\u001b[0m\u001b[1;33m:\u001b[0m\u001b[1;33m\u001b[0m\u001b[1;33m\u001b[0m\u001b[0m\n\u001b[0;32m   1053\u001b[0m                 \u001b[0mself\u001b[0m\u001b[1;33m.\u001b[0m\u001b[0mlog\u001b[0m\u001b[1;33m.\u001b[0m\u001b[0mwarning\u001b[0m\u001b[1;33m(\u001b[0m\u001b[1;34m\"Invalid Message:\"\u001b[0m\u001b[1;33m,\u001b[0m \u001b[0mexc_info\u001b[0m\u001b[1;33m=\u001b[0m\u001b[1;32mTrue\u001b[0m\u001b[1;33m)\u001b[0m\u001b[1;33m\u001b[0m\u001b[1;33m\u001b[0m\u001b[0m\n",
      "\u001b[1;31mKeyboardInterrupt\u001b[0m: Interrupted by user"
     ]
    }
   ],
   "source": [
    "# Define your functions\n",
    "def coffee_bot():\n",
    "\n",
    "  print(\"Welcome to the cafe!\")\n",
    "  name = input(\"Can I get your name please? \")\n",
    "\n",
    "  size = get_size()\n",
    "  drink_type = get_drink_type()\n",
    "\n",
    "  print(\"Alright, that's a {} {}!\".format(size, drink_type))\n",
    "  print(\"Thanks {}! Your drink will be ready shortly. /n\".format(name))\n",
    "\n",
    "  extra_order()\n",
    "\n",
    "def get_size():\n",
    "  res = input(\"What size drink can I get for you? \\n[a] Small \\n[b] Medium \\n[c] Large \\nPlease enter the corresponding letter for your response. \\n\")\n",
    "  if res == \"a\":\n",
    "    return \"small\"\n",
    "  elif res == \"b\":\n",
    "    return \"medium\"\n",
    "  elif res == \"c\":\n",
    "    return \"large\"\n",
    "  else: \n",
    "    print_message()\n",
    "    return get_size()\n",
    "\n",
    "\n",
    "def print_message():\n",
    "  print(\"I'm sorry, I did not understand your selection. Please enter the corresponding letter for your response.\")\n",
    "\n",
    "\n",
    "def get_drink_type():\n",
    "  res = input(\"What type of drink would you like? \\n[a] Brewed Coffee \\n[b] Mocha \\n[c] Latte \\n Please enter the corresponding letter for your response. \\n\")\n",
    "  if res == 'a':\n",
    "    return \"Brewed\"\n",
    "  elif res == 'b':\n",
    "    return \"Mocha\"\n",
    "  elif res == 'c':\n",
    "    return order_latte()\n",
    "  else:\n",
    "    print_message()\n",
    "    return get_drink_type()\n",
    "\n",
    "\n",
    "def order_latte():\n",
    "  res = input(\"And what kind of milk for your latte? \\n[a] 2% milk \\n[b] Non-fat milk \\n[c] Soy milk \\n Please enter the corresponding letter for your response. \\n\")\n",
    "  if res == \"a\":\n",
    "    return \"Latte with 2% milk\"\n",
    "  elif res == \"b\":\n",
    "    return \"Latte with Non-fat milk\"\n",
    "  elif res == \"c\":\n",
    "    return \"Latte with Soy milk\"\n",
    "  else:\n",
    "    print_message\n",
    "    return order_latte()\n",
    "\n",
    "\n",
    "def extra_order():\n",
    "  res = input(\"Do you need another cup of coffee? \\n[a] Yes \\n[b] No \\nPlease enter the corresponding letter for your response.\\n\")\n",
    "  if res == \"a\":\n",
    "    return get_size(), get_drink_type(), extra_order()\n",
    "  elif res == \"b\":\n",
    "    print(\"That's great, I wish you a great day!\")\n",
    "  else:\n",
    "    print_message()\n",
    "    return extra_order()\n",
    "\n",
    "# Call coffee_bot()!\n",
    "coffee_bot()"
   ]
  }
 ],
 "metadata": {
  "kernelspec": {
   "display_name": "Python 3 (ipykernel)",
   "language": "python",
   "name": "python3"
  },
  "language_info": {
   "codemirror_mode": {
    "name": "ipython",
    "version": 3
   },
   "file_extension": ".py",
   "mimetype": "text/x-python",
   "name": "python",
   "nbconvert_exporter": "python",
   "pygments_lexer": "ipython3",
   "version": "3.9.7"
  }
 },
 "nbformat": 4,
 "nbformat_minor": 5
}
